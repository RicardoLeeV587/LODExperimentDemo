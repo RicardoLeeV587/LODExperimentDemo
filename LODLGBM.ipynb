{
 "cells": [
  {
   "cell_type": "code",
   "execution_count": 1,
   "id": "bc2878a3-1ae3-47bd-80b1-3215f71c8b57",
   "metadata": {},
   "outputs": [],
   "source": [
    "import os\n",
    "import pandas as pd\n",
    "from xgboost import XGBClassifier\n",
    "# import lightgbm as lgb\n",
    "from lightgbm import LGBMClassifier\n",
    "from sklearn.model_selection import KFold, train_test_split, GridSearchCV, cross_val_score\n",
    "from sklearn.metrics import accuracy_score\n",
    "# sklearn.metrics.accuracy_score\n",
    "import xgboost as xgb\n",
    "import numpy as np\n",
    "import itertools \n",
    "import tqdm\n",
    "from time import sleep\n",
    "import random\n"
   ]
  },
  {
   "cell_type": "code",
   "execution_count": 2,
   "id": "95bc7b29-4a1d-4d1c-a81f-1493341532f1",
   "metadata": {},
   "outputs": [],
   "source": [
    "import warnings \n",
    "warnings.filterwarnings(\"ignore\")"
   ]
  },
  {
   "cell_type": "code",
   "execution_count": 3,
   "id": "6dca35ef-a619-4ee0-af25-1120d77ad637",
   "metadata": {},
   "outputs": [],
   "source": [
    "# mannually generate the search grid\n",
    "def makeGrid(pars_dict):  \n",
    "    keys=pars_dict.keys()\n",
    "    combinations=itertools.product(*pars_dict.values())\n",
    "    ds=[dict(zip(keys,cc)) for cc in combinations]\n",
    "    return ds"
   ]
  },
  {
   "cell_type": "markdown",
   "id": "75c16c10-184b-4b50-8dce-c6b255f1f13c",
   "metadata": {},
   "source": [
    "# Dataset Preparation"
   ]
  },
  {
   "cell_type": "code",
   "execution_count": 4,
   "id": "0fcb3ba6-0711-4c5c-b646-c516db3ac436",
   "metadata": {},
   "outputs": [],
   "source": [
    "df_raw = pd.read_excel(\"../Dataset/MergedDataset_231207_ForElly_Excel.xlsx\")\n",
    "\n",
    "# Remove \".\" in the feature column\n",
    "row_num, column_num = df_raw.shape\n",
    "for rowID in range(row_num):\n",
    "    for columnID in range(column_num):\n",
    "        if \".\" == df_raw.iloc[rowID, columnID]:\n",
    "            df_raw.iloc[rowID, columnID] = np.nan\n",
    "\n",
    "# prepare the feature list\n",
    "featureList = []\n",
    "for item in df_raw.columns:\n",
    "    if item.startswith(\"Item\"):\n",
    "        featureList.append(item)"
   ]
  },
  {
   "cell_type": "markdown",
   "id": "493cc8a6-3f38-4ac6-865c-0171dac6835a",
   "metadata": {},
   "source": [
    "## Use EndDesc as the label"
   ]
  },
  {
   "cell_type": "code",
   "execution_count": 5,
   "id": "b2c3fdd3-2a69-4fdc-9a1f-c9f317d2c8a7",
   "metadata": {
    "scrolled": true
   },
   "outputs": [
    {
     "name": "stdout",
     "output_type": "stream",
     "text": [
      "['Mutually agreed completion of treatment'\n",
      " 'Termition of treatment earlier than Care Professiol planned'\n",
      " 'Not suitable for IAPT service - no action taken or directed back to referrer'\n",
      " 'Referred to another therapy service by mutual agreement']\n",
      "(570, 279)\n",
      "['Mutually agreed completion of treatment', 'Termition of treatment earlier than Care Professiol planned', 'Not suitable for IAPT service - no action taken or directed back to referrer', 'Referred to another therapy service by mutual agreement']\n"
     ]
    }
   ],
   "source": [
    "df = df_raw[df_raw[\"EndDesc\"] == df_raw[\"EndDesc\"]]\n",
    "df.reset_index().drop(\"index\", axis=1)\n",
    "\n",
    "print(df[\"EndDesc\"].unique())\n",
    "print(df.shape)\n",
    "\n",
    "labelRangeList = df[\"EndDesc\"].unique().tolist()\n",
    "print(labelRangeList)\n",
    "# labelContent = []\n",
    "# for idx, row in df.iterrows():\n",
    "#     index = labelRangeList.index(row[\"EndDesc\"])\n",
    "#     label = [0 for i in range(len(labelRangeList))]\n",
    "#     label[index] = 1\n",
    "#     labelContent.append(label)\n",
    "# # df[\"label\"] = labelList\n",
    "\n",
    "# labelContent = np.array(labelContent)\n",
    "\n",
    "# labelList = [\"label_{}\".format(i) for i in range(len(labelRangeList))]\n",
    "# print(labelList)\n",
    "# for idx, item in enumerate(labelList):\n",
    "#     df[item] = labelContent[:, idx]\n",
    "\n",
    "labelList = []\n",
    "for idx, row in df.iterrows():\n",
    "    label = labelRangeList.index(row[\"EndDesc\"])\n",
    "    labelList.append(label)\n",
    "df[\"label\"] = labelList\n",
    "\n",
    "labelList = [\"label\"]"
   ]
  },
  {
   "cell_type": "markdown",
   "id": "42384a8c-4c42-4135-8b53-4fd089b6756e",
   "metadata": {},
   "source": [
    "## Use RecoveryDesc as the label"
   ]
  },
  {
   "cell_type": "code",
   "execution_count": null,
   "id": "ba0691c1-e525-48ec-a303-b08c404da766",
   "metadata": {},
   "outputs": [],
   "source": [
    "df = df_raw[df_raw[\"RecoveryDesc\"] == df_raw[\"RecoveryDesc\"]]\n",
    "df = df[(df[\"RecoveryDesc\"].isin([\"At recovery\", \"Not at recovery\"]))]\n",
    "df.reset_index().drop(\"index\", axis=1)\n",
    "print(df.shape)\n",
    "\n",
    "labelList = []\n",
    "for idx, row in df.iterrows():\n",
    "    if (row[\"ReliableChangeDesc\"] == \"Reliable improvement\") & (row[\"ReliableRecoveryDesc\"] == \"Reliable recovery\") & (row[\"RecoveryDesc\"] == \"At recovery\"):\n",
    "        labelList.append(1)\n",
    "    else:\n",
    "        labelList.append(0)\n",
    "df[\"label\"] = labelList\n",
    "labelList = [\"label\"]"
   ]
  },
  {
   "cell_type": "markdown",
   "id": "1af7e12e-5a6f-45f0-9a2a-7c695ee364b3",
   "metadata": {},
   "source": [
    "## Train Test Split"
   ]
  },
  {
   "cell_type": "code",
   "execution_count": 6,
   "id": "caf62f3f-ed55-460d-bb56-56752f0124a7",
   "metadata": {},
   "outputs": [],
   "source": [
    "# Keep 10% data as the test data\n",
    "train, test = train_test_split(df, test_size=0.1)"
   ]
  },
  {
   "cell_type": "markdown",
   "id": "0722d2e8-dc69-4a82-81ff-d202f767df3c",
   "metadata": {},
   "source": [
    "## LightGBM training"
   ]
  },
  {
   "cell_type": "code",
   "execution_count": 12,
   "id": "f2a4cb36-1341-42ec-8152-32933f9332ba",
   "metadata": {},
   "outputs": [],
   "source": [
    "# param_dict = {\n",
    "#     'criterion': 'entropy', \n",
    "#     'max_depth': None, \n",
    "#     'max_features': 80, \n",
    "#     'max_leaf_nodes': None, \n",
    "#     'min_samples_leaf': 16, \n",
    "#     'min_samples_split': 64, \n",
    "#     'min_weight_fraction_leaf': 0.0\n",
    "# }\n",
    "\n",
    "param_dict = {\n",
    "    'colsample_bytree': 0.7, \n",
    "    'learning_rate': 0.1, \n",
    "    'max_depth': -1, \n",
    "    'min_child_samples': 40, \n",
    "    'n_estimators': 10, \n",
    "    'n_jobs': -1, \n",
    "    'num_leaves': 15, \n",
    "    'random_state': 12181, \n",
    "    'reg_alpha': 10, \n",
    "    'reg_lambda': 0.0, \n",
    "    'subsample': 0.3, \n",
    "    'verbose': -1\n",
    "}"
   ]
  },
  {
   "cell_type": "code",
   "execution_count": 13,
   "id": "d237c875-8c96-470d-b3db-e81528cf2f1c",
   "metadata": {},
   "outputs": [],
   "source": [
    "# clf = lgb.LGBMClassifier(objective='multiclass',num_leaves=31,learning_rate=0.05,n_estimators=20)\n",
    "clf = LGBMClassifier(verbose=-1)"
   ]
  },
  {
   "cell_type": "code",
   "execution_count": 14,
   "id": "812c2460-1fa8-4993-8602-b2113ecadf46",
   "metadata": {
    "scrolled": true
   },
   "outputs": [
    {
     "name": "stdout",
     "output_type": "stream",
     "text": [
      "[0.60194175 0.55339806 0.49514563 0.61764706 0.58823529]\n",
      "Accuracy mean: 0.5713, accuracy std: 0.0436\n"
     ]
    }
   ],
   "source": [
    "scores = cross_val_score(clf, train[featureList].values, train[labelList].values.squeeze(), cv=5, scoring=\"accuracy\")\n",
    "print(scores)\n",
    "print(\"Accuracy mean: {:.4f}, accuracy std: {:.4f}\".format(np.mean(scores), np.std(scores)))"
   ]
  },
  {
   "cell_type": "code",
   "execution_count": 15,
   "id": "593aa338-275c-4ecf-a14a-9f60110ff90c",
   "metadata": {
    "scrolled": true
   },
   "outputs": [
    {
     "name": "stdout",
     "output_type": "stream",
     "text": [
      "0.543859649122807\n"
     ]
    }
   ],
   "source": [
    "clf = LGBMClassifier(verbose=-1)\n",
    "clf = clf.fit(train[featureList].values,train[labelList].values.squeeze())\n",
    "preds = clf.predict(test[featureList].values)\n",
    "labels = test[labelList].values\n",
    "acc = accuracy_score(labels, preds)\n",
    "print(acc)"
   ]
  },
  {
   "cell_type": "code",
   "execution_count": 16,
   "id": "0600c596-0ec5-4aa0-a9cc-2f5ebce25f45",
   "metadata": {},
   "outputs": [
    {
     "name": "stdout",
     "output_type": "stream",
     "text": [
      "0.543859649122807\n"
     ]
    }
   ],
   "source": [
    "acc = accuracy_score(labels, preds)\n",
    "print(acc)"
   ]
  },
  {
   "cell_type": "markdown",
   "id": "a15337b9-64fc-482d-bde3-f386f8b26505",
   "metadata": {},
   "source": [
    "## Grid Search for LGBM"
   ]
  },
  {
   "cell_type": "code",
   "execution_count": 7,
   "id": "d0908143-1ff2-424e-8ffe-6fd63f12872f",
   "metadata": {},
   "outputs": [],
   "source": [
    "# Use MyGridSearch to estimate the runtime, then switch to standard Gridsearch to get better performance!"
   ]
  },
  {
   "cell_type": "code",
   "execution_count": 8,
   "id": "886a05ad-443b-47a4-bcc4-f8d0c4bb5d5d",
   "metadata": {},
   "outputs": [],
   "source": [
    "param_dict = {\n",
    "    \"n_estimators\": [10, 50, 100, 150],\n",
    "    \"max_depth\": [-1, 8, 16],\n",
    "    \"min_child_samples\": [10, 20, 40],\n",
    "    \"num_leaves\": [15, 31, 63],\n",
    "    \"learning_rate\": [0.05, 0.1, 0.5],\n",
    "    \"colsample_bytree\": [0.3, 0.5, 0.7, 1.0],\n",
    "    \"subsample\": [0.3, 0.5, 0.7, 1.0],\n",
    "    \"reg_alpha\": [0.0, 0.1, 0.5, 1, 10], \n",
    "    \"reg_lambda\": [0.0, 0.1, 0.5, 1, 10],\n",
    "    \"random_state\": [random.randint(0, 32767)],\n",
    "    \"n_jobs\": [-1],\n",
    "    \"verbose\": [-1]\n",
    "}"
   ]
  },
  {
   "cell_type": "code",
   "execution_count": 9,
   "id": "d709fffc-fdaf-4e64-b14d-9bc02b48c576",
   "metadata": {},
   "outputs": [],
   "source": [
    "def MyGridSearch(param_dict, X, y):\n",
    "    searchSpace = makeGrid(param_dict)\n",
    "    print(\"Search Space Size:\" + len(searchSpace).__str__())\n",
    "    resultList = []\n",
    "    for param in tqdm.tqdm(searchSpace):\n",
    "        #sleep(1)\n",
    "        clf = LGBMClassifier(**param)\n",
    "        scores = cross_val_score(clf, X, y, cv=5, scoring=\"accuracy\", n_jobs=5)\n",
    "        result = {}\n",
    "        result[\"acc_mean\"] = np.mean(scores)\n",
    "        result[\"acc_std\"] = np.std(scores)\n",
    "        result[\"acc\"] = scores\n",
    "        result[\"param\"] = param\n",
    "        resultList.append(result)\n",
    "    sortedResult = sorted(resultList, key=lambda x: x[\"acc_mean\"], reverse=True)\n",
    "    print(sortedResult[:5])\n",
    "    return sortedResult"
   ]
  },
  {
   "cell_type": "code",
   "execution_count": 10,
   "id": "a176dde2-0801-4670-bcaf-bf6f35073bfe",
   "metadata": {},
   "outputs": [],
   "source": [
    "def StandardGridSearch(param_dict, X, y):\n",
    "    clf = LGBMClassifier()\n",
    "    grid_clf = GridSearchCV(clf, param_dict, n_jobs=5, cv=5, scoring='accuracy')\n",
    "    grid_clf.fit(X,y)\n",
    "    print(\"The best score is {}\".format(grid_clf.best_score_))\n",
    "    print(\"The best params is: {}\".format(grid_clf.best_params_))\n",
    "    return grid_clf"
   ]
  },
  {
   "cell_type": "code",
   "execution_count": 15,
   "id": "473e3cff-1d93-4347-9e5a-f02397df7aa0",
   "metadata": {
    "scrolled": true
   },
   "outputs": [
    {
     "name": "stdout",
     "output_type": "stream",
     "text": [
      "Search Space Size:129600\n"
     ]
    },
    {
     "name": "stderr",
     "output_type": "stream",
     "text": [
      "  0%|          | 0/129600 [00:00<?, ?it/s]/data/project/anaconda3_test/lib/python3.12/site-packages/sklearn/model_selection/_split.py:776: UserWarning: The least populated class in y has only 3 members, which is less than n_splits=5.\n",
      "  warnings.warn(\n",
      "  0%|          | 1/129600 [00:01<56:31:29,  1.57s/it]/data/project/anaconda3_test/lib/python3.12/site-packages/sklearn/model_selection/_split.py:776: UserWarning: The least populated class in y has only 3 members, which is less than n_splits=5.\n",
      "  warnings.warn(\n",
      "  0%|          | 2/129600 [00:01<30:29:41,  1.18it/s]/data/project/anaconda3_test/lib/python3.12/site-packages/sklearn/model_selection/_split.py:776: UserWarning: The least populated class in y has only 3 members, which is less than n_splits=5.\n",
      "  warnings.warn(\n",
      "  0%|          | 3/129600 [00:02<21:39:36,  1.66it/s]/data/project/anaconda3_test/lib/python3.12/site-packages/sklearn/model_selection/_split.py:776: UserWarning: The least populated class in y has only 3 members, which is less than n_splits=5.\n",
      "  warnings.warn(\n",
      "  0%|          | 4/129600 [00:02<17:19:23,  2.08it/s]/data/project/anaconda3_test/lib/python3.12/site-packages/sklearn/model_selection/_split.py:776: UserWarning: The least populated class in y has only 3 members, which is less than n_splits=5.\n",
      "  warnings.warn(\n",
      "  0%|          | 5/129600 [00:02<14:17:43,  2.52it/s]/data/project/anaconda3_test/lib/python3.12/site-packages/sklearn/model_selection/_split.py:776: UserWarning: The least populated class in y has only 3 members, which is less than n_splits=5.\n",
      "  warnings.warn(\n",
      "  0%|          | 6/129600 [00:03<13:04:49,  2.75it/s]/data/project/anaconda3_test/lib/python3.12/site-packages/sklearn/model_selection/_split.py:776: UserWarning: The least populated class in y has only 3 members, which is less than n_splits=5.\n",
      "  warnings.warn(\n",
      "  0%|          | 7/129600 [00:03<12:21:28,  2.91it/s]/data/project/anaconda3_test/lib/python3.12/site-packages/sklearn/model_selection/_split.py:776: UserWarning: The least populated class in y has only 3 members, which is less than n_splits=5.\n",
      "  warnings.warn(\n",
      "  0%|          | 8/129600 [00:03<11:50:06,  3.04it/s]/data/project/anaconda3_test/lib/python3.12/site-packages/sklearn/model_selection/_split.py:776: UserWarning: The least populated class in y has only 3 members, which is less than n_splits=5.\n",
      "  warnings.warn(\n",
      "  0%|          | 9/129600 [00:03<11:08:47,  3.23it/s]/data/project/anaconda3_test/lib/python3.12/site-packages/sklearn/model_selection/_split.py:776: UserWarning: The least populated class in y has only 3 members, which is less than n_splits=5.\n",
      "  warnings.warn(\n",
      "  0%|          | 10/129600 [00:04<10:14:39,  3.51it/s]/data/project/anaconda3_test/lib/python3.12/site-packages/sklearn/model_selection/_split.py:776: UserWarning: The least populated class in y has only 3 members, which is less than n_splits=5.\n",
      "  warnings.warn(\n",
      "  0%|          | 11/129600 [00:04<10:10:55,  3.54it/s]/data/project/anaconda3_test/lib/python3.12/site-packages/sklearn/model_selection/_split.py:776: UserWarning: The least populated class in y has only 3 members, which is less than n_splits=5.\n",
      "  warnings.warn(\n",
      "  0%|          | 12/129600 [00:04<10:03:00,  3.58it/s]/data/project/anaconda3_test/lib/python3.12/site-packages/sklearn/model_selection/_split.py:776: UserWarning: The least populated class in y has only 3 members, which is less than n_splits=5.\n",
      "  warnings.warn(\n",
      "  0%|          | 13/129600 [00:04<10:01:20,  3.59it/s]/data/project/anaconda3_test/lib/python3.12/site-packages/sklearn/model_selection/_split.py:776: UserWarning: The least populated class in y has only 3 members, which is less than n_splits=5.\n",
      "  warnings.warn(\n",
      "  0%|          | 14/129600 [00:05<10:00:59,  3.59it/s]/data/project/anaconda3_test/lib/python3.12/site-packages/sklearn/model_selection/_split.py:776: UserWarning: The least populated class in y has only 3 members, which is less than n_splits=5.\n",
      "  warnings.warn(\n",
      "  0%|          | 15/129600 [00:05<9:27:05,  3.81it/s] /data/project/anaconda3_test/lib/python3.12/site-packages/sklearn/model_selection/_split.py:776: UserWarning: The least populated class in y has only 3 members, which is less than n_splits=5.\n",
      "  warnings.warn(\n",
      "  0%|          | 16/129600 [00:05<9:25:08,  3.82it/s]/data/project/anaconda3_test/lib/python3.12/site-packages/sklearn/model_selection/_split.py:776: UserWarning: The least populated class in y has only 3 members, which is less than n_splits=5.\n",
      "  warnings.warn(\n",
      "  0%|          | 17/129600 [00:05<9:09:57,  3.93it/s]/data/project/anaconda3_test/lib/python3.12/site-packages/sklearn/model_selection/_split.py:776: UserWarning: The least populated class in y has only 3 members, which is less than n_splits=5.\n",
      "  warnings.warn(\n",
      "  0%|          | 18/129600 [00:06<9:05:08,  3.96it/s]/data/project/anaconda3_test/lib/python3.12/site-packages/sklearn/model_selection/_split.py:776: UserWarning: The least populated class in y has only 3 members, which is less than n_splits=5.\n",
      "  warnings.warn(\n",
      "  0%|          | 19/129600 [00:06<8:58:01,  4.01it/s]/data/project/anaconda3_test/lib/python3.12/site-packages/sklearn/model_selection/_split.py:776: UserWarning: The least populated class in y has only 3 members, which is less than n_splits=5.\n",
      "  warnings.warn(\n",
      "  0%|          | 20/129600 [00:06<8:44:42,  4.12it/s]/data/project/anaconda3_test/lib/python3.12/site-packages/sklearn/model_selection/_split.py:776: UserWarning: The least populated class in y has only 3 members, which is less than n_splits=5.\n",
      "  warnings.warn(\n",
      "  0%|          | 21/129600 [00:06<7:36:18,  4.73it/s]/data/project/anaconda3_test/lib/python3.12/site-packages/sklearn/model_selection/_split.py:776: UserWarning: The least populated class in y has only 3 members, which is less than n_splits=5.\n",
      "  warnings.warn(\n",
      "  0%|          | 22/129600 [00:06<6:40:57,  5.39it/s]/data/project/anaconda3_test/lib/python3.12/site-packages/sklearn/model_selection/_split.py:776: UserWarning: The least populated class in y has only 3 members, which is less than n_splits=5.\n",
      "  warnings.warn(\n",
      "  0%|          | 23/129600 [00:07<6:08:15,  5.86it/s]/data/project/anaconda3_test/lib/python3.12/site-packages/sklearn/model_selection/_split.py:776: UserWarning: The least populated class in y has only 3 members, which is less than n_splits=5.\n",
      "  warnings.warn(\n",
      "  0%|          | 24/129600 [00:07<5:43:43,  6.28it/s]/data/project/anaconda3_test/lib/python3.12/site-packages/sklearn/model_selection/_split.py:776: UserWarning: The least populated class in y has only 3 members, which is less than n_splits=5.\n",
      "  warnings.warn(\n",
      "  0%|          | 25/129600 [00:07<5:22:19,  6.70it/s]/data/project/anaconda3_test/lib/python3.12/site-packages/sklearn/model_selection/_split.py:776: UserWarning: The least populated class in y has only 3 members, which is less than n_splits=5.\n",
      "  warnings.warn(\n",
      "  0%|          | 26/129600 [00:07<7:17:08,  4.94it/s]/data/project/anaconda3_test/lib/python3.12/site-packages/sklearn/model_selection/_split.py:776: UserWarning: The least populated class in y has only 3 members, which is less than n_splits=5.\n",
      "  warnings.warn(\n",
      "  0%|          | 27/129600 [00:07<8:11:36,  4.39it/s]/data/project/anaconda3_test/lib/python3.12/site-packages/sklearn/model_selection/_split.py:776: UserWarning: The least populated class in y has only 3 members, which is less than n_splits=5.\n",
      "  warnings.warn(\n",
      "  0%|          | 28/129600 [00:08<8:50:26,  4.07it/s]/data/project/anaconda3_test/lib/python3.12/site-packages/sklearn/model_selection/_split.py:776: UserWarning: The least populated class in y has only 3 members, which is less than n_splits=5.\n",
      "  warnings.warn(\n",
      "  0%|          | 29/129600 [00:08<8:56:57,  4.02it/s]/data/project/anaconda3_test/lib/python3.12/site-packages/sklearn/model_selection/_split.py:776: UserWarning: The least populated class in y has only 3 members, which is less than n_splits=5.\n",
      "  warnings.warn(\n",
      "  0%|          | 30/129600 [00:08<8:43:18,  4.13it/s]/data/project/anaconda3_test/lib/python3.12/site-packages/sklearn/model_selection/_split.py:776: UserWarning: The least populated class in y has only 3 members, which is less than n_splits=5.\n",
      "  warnings.warn(\n",
      "  0%|          | 31/129600 [00:09<9:08:40,  3.94it/s]/data/project/anaconda3_test/lib/python3.12/site-packages/sklearn/model_selection/_split.py:776: UserWarning: The least populated class in y has only 3 members, which is less than n_splits=5.\n",
      "  warnings.warn(\n",
      "  0%|          | 32/129600 [00:09<9:23:06,  3.83it/s]/data/project/anaconda3_test/lib/python3.12/site-packages/sklearn/model_selection/_split.py:776: UserWarning: The least populated class in y has only 3 members, which is less than n_splits=5.\n",
      "  warnings.warn(\n",
      "  0%|          | 33/129600 [00:09<9:33:40,  3.76it/s]/data/project/anaconda3_test/lib/python3.12/site-packages/sklearn/model_selection/_split.py:776: UserWarning: The least populated class in y has only 3 members, which is less than n_splits=5.\n",
      "  warnings.warn(\n",
      "  0%|          | 34/129600 [00:09<9:34:29,  3.76it/s]/data/project/anaconda3_test/lib/python3.12/site-packages/sklearn/model_selection/_split.py:776: UserWarning: The least populated class in y has only 3 members, which is less than n_splits=5.\n",
      "  warnings.warn(\n",
      "  0%|          | 35/129600 [00:10<9:21:57,  3.84it/s]/data/project/anaconda3_test/lib/python3.12/site-packages/sklearn/model_selection/_split.py:776: UserWarning: The least populated class in y has only 3 members, which is less than n_splits=5.\n",
      "  warnings.warn(\n",
      "  0%|          | 36/129600 [00:10<9:26:38,  3.81it/s]/data/project/anaconda3_test/lib/python3.12/site-packages/sklearn/model_selection/_split.py:776: UserWarning: The least populated class in y has only 3 members, which is less than n_splits=5.\n",
      "  warnings.warn(\n",
      "  0%|          | 37/129600 [00:10<9:24:07,  3.83it/s]/data/project/anaconda3_test/lib/python3.12/site-packages/sklearn/model_selection/_split.py:776: UserWarning: The least populated class in y has only 3 members, which is less than n_splits=5.\n",
      "  warnings.warn(\n",
      "  0%|          | 38/129600 [00:10<9:22:21,  3.84it/s]/data/project/anaconda3_test/lib/python3.12/site-packages/sklearn/model_selection/_split.py:776: UserWarning: The least populated class in y has only 3 members, which is less than n_splits=5.\n",
      "  warnings.warn(\n",
      "  0%|          | 39/129600 [00:11<9:25:43,  3.82it/s]/data/project/anaconda3_test/lib/python3.12/site-packages/sklearn/model_selection/_split.py:776: UserWarning: The least populated class in y has only 3 members, which is less than n_splits=5.\n",
      "  warnings.warn(\n",
      "  0%|          | 40/129600 [00:11<9:10:52,  3.92it/s]/data/project/anaconda3_test/lib/python3.12/site-packages/sklearn/model_selection/_split.py:776: UserWarning: The least populated class in y has only 3 members, which is less than n_splits=5.\n",
      "  warnings.warn(\n",
      "  0%|          | 41/129600 [00:11<8:51:26,  4.06it/s]/data/project/anaconda3_test/lib/python3.12/site-packages/sklearn/model_selection/_split.py:776: UserWarning: The least populated class in y has only 3 members, which is less than n_splits=5.\n",
      "  warnings.warn(\n",
      "  0%|          | 42/129600 [00:11<8:51:19,  4.06it/s]/data/project/anaconda3_test/lib/python3.12/site-packages/sklearn/model_selection/_split.py:776: UserWarning: The least populated class in y has only 3 members, which is less than n_splits=5.\n",
      "  warnings.warn(\n",
      "  0%|          | 43/129600 [00:12<8:54:48,  4.04it/s]/data/project/anaconda3_test/lib/python3.12/site-packages/sklearn/model_selection/_split.py:776: UserWarning: The least populated class in y has only 3 members, which is less than n_splits=5.\n",
      "  warnings.warn(\n",
      "  0%|          | 44/129600 [00:12<9:01:40,  3.99it/s]/data/project/anaconda3_test/lib/python3.12/site-packages/sklearn/model_selection/_split.py:776: UserWarning: The least populated class in y has only 3 members, which is less than n_splits=5.\n",
      "  warnings.warn(\n",
      "  0%|          | 45/129600 [00:12<8:46:48,  4.10it/s]/data/project/anaconda3_test/lib/python3.12/site-packages/sklearn/model_selection/_split.py:776: UserWarning: The least populated class in y has only 3 members, which is less than n_splits=5.\n",
      "  warnings.warn(\n",
      "  0%|          | 46/129600 [00:12<7:40:04,  4.69it/s]/data/project/anaconda3_test/lib/python3.12/site-packages/sklearn/model_selection/_split.py:776: UserWarning: The least populated class in y has only 3 members, which is less than n_splits=5.\n",
      "  warnings.warn(\n",
      "  0%|          | 47/129600 [00:12<6:52:00,  5.24it/s]/data/project/anaconda3_test/lib/python3.12/site-packages/sklearn/model_selection/_split.py:776: UserWarning: The least populated class in y has only 3 members, which is less than n_splits=5.\n",
      "  warnings.warn(\n",
      "  0%|          | 48/129600 [00:12<6:09:35,  5.84it/s]/data/project/anaconda3_test/lib/python3.12/site-packages/sklearn/model_selection/_split.py:776: UserWarning: The least populated class in y has only 3 members, which is less than n_splits=5.\n",
      "  warnings.warn(\n",
      "  0%|          | 49/129600 [00:13<5:47:58,  6.20it/s]/data/project/anaconda3_test/lib/python3.12/site-packages/sklearn/model_selection/_split.py:776: UserWarning: The least populated class in y has only 3 members, which is less than n_splits=5.\n",
      "  warnings.warn(\n",
      "  0%|          | 50/129600 [00:13<5:30:20,  6.54it/s]/data/project/anaconda3_test/lib/python3.12/site-packages/sklearn/model_selection/_split.py:776: UserWarning: The least populated class in y has only 3 members, which is less than n_splits=5.\n",
      "  warnings.warn(\n",
      "  0%|          | 50/129600 [00:13<9:48:05,  3.67it/s]\n"
     ]
    },
    {
     "ename": "KeyboardInterrupt",
     "evalue": "",
     "output_type": "error",
     "traceback": [
      "\u001b[0;31m---------------------------------------------------------------------------\u001b[0m",
      "\u001b[0;31mKeyboardInterrupt\u001b[0m                         Traceback (most recent call last)",
      "Cell \u001b[0;32mIn[15], line 2\u001b[0m\n\u001b[1;32m      1\u001b[0m \u001b[38;5;66;03m# Use my search grid\u001b[39;00m\n\u001b[0;32m----> 2\u001b[0m results \u001b[38;5;241m=\u001b[39m MyGridSearch(param_dict, train[featureList]\u001b[38;5;241m.\u001b[39mvalues, train[labelList]\u001b[38;5;241m.\u001b[39mvalues\u001b[38;5;241m.\u001b[39msqueeze())\n",
      "Cell \u001b[0;32mIn[9], line 8\u001b[0m, in \u001b[0;36mMyGridSearch\u001b[0;34m(param_dict, X, y)\u001b[0m\n\u001b[1;32m      5\u001b[0m \u001b[38;5;28;01mfor\u001b[39;00m param \u001b[38;5;129;01min\u001b[39;00m tqdm\u001b[38;5;241m.\u001b[39mtqdm(searchSpace):\n\u001b[1;32m      6\u001b[0m     \u001b[38;5;66;03m#sleep(1)\u001b[39;00m\n\u001b[1;32m      7\u001b[0m     clf \u001b[38;5;241m=\u001b[39m LGBMClassifier(\u001b[38;5;241m*\u001b[39m\u001b[38;5;241m*\u001b[39mparam)\n\u001b[0;32m----> 8\u001b[0m     scores \u001b[38;5;241m=\u001b[39m cross_val_score(clf, X, y, cv\u001b[38;5;241m=\u001b[39m\u001b[38;5;241m5\u001b[39m, scoring\u001b[38;5;241m=\u001b[39m\u001b[38;5;124m\"\u001b[39m\u001b[38;5;124maccuracy\u001b[39m\u001b[38;5;124m\"\u001b[39m, n_jobs\u001b[38;5;241m=\u001b[39m\u001b[38;5;241m5\u001b[39m)\n\u001b[1;32m      9\u001b[0m     result \u001b[38;5;241m=\u001b[39m {}\n\u001b[1;32m     10\u001b[0m     result[\u001b[38;5;124m\"\u001b[39m\u001b[38;5;124macc_mean\u001b[39m\u001b[38;5;124m\"\u001b[39m] \u001b[38;5;241m=\u001b[39m np\u001b[38;5;241m.\u001b[39mmean(scores)\n",
      "File \u001b[0;32m/data/project/anaconda3_test/lib/python3.12/site-packages/sklearn/utils/_param_validation.py:213\u001b[0m, in \u001b[0;36mvalidate_params.<locals>.decorator.<locals>.wrapper\u001b[0;34m(*args, **kwargs)\u001b[0m\n\u001b[1;32m    207\u001b[0m \u001b[38;5;28;01mtry\u001b[39;00m:\n\u001b[1;32m    208\u001b[0m     \u001b[38;5;28;01mwith\u001b[39;00m config_context(\n\u001b[1;32m    209\u001b[0m         skip_parameter_validation\u001b[38;5;241m=\u001b[39m(\n\u001b[1;32m    210\u001b[0m             prefer_skip_nested_validation \u001b[38;5;129;01mor\u001b[39;00m global_skip_validation\n\u001b[1;32m    211\u001b[0m         )\n\u001b[1;32m    212\u001b[0m     ):\n\u001b[0;32m--> 213\u001b[0m         \u001b[38;5;28;01mreturn\u001b[39;00m func(\u001b[38;5;241m*\u001b[39margs, \u001b[38;5;241m*\u001b[39m\u001b[38;5;241m*\u001b[39mkwargs)\n\u001b[1;32m    214\u001b[0m \u001b[38;5;28;01mexcept\u001b[39;00m InvalidParameterError \u001b[38;5;28;01mas\u001b[39;00m e:\n\u001b[1;32m    215\u001b[0m     \u001b[38;5;66;03m# When the function is just a wrapper around an estimator, we allow\u001b[39;00m\n\u001b[1;32m    216\u001b[0m     \u001b[38;5;66;03m# the function to delegate validation to the estimator, but we replace\u001b[39;00m\n\u001b[1;32m    217\u001b[0m     \u001b[38;5;66;03m# the name of the estimator by the name of the function in the error\u001b[39;00m\n\u001b[1;32m    218\u001b[0m     \u001b[38;5;66;03m# message to avoid confusion.\u001b[39;00m\n\u001b[1;32m    219\u001b[0m     msg \u001b[38;5;241m=\u001b[39m re\u001b[38;5;241m.\u001b[39msub(\n\u001b[1;32m    220\u001b[0m         \u001b[38;5;124mr\u001b[39m\u001b[38;5;124m\"\u001b[39m\u001b[38;5;124mparameter of \u001b[39m\u001b[38;5;124m\\\u001b[39m\u001b[38;5;124mw+ must be\u001b[39m\u001b[38;5;124m\"\u001b[39m,\n\u001b[1;32m    221\u001b[0m         \u001b[38;5;124mf\u001b[39m\u001b[38;5;124m\"\u001b[39m\u001b[38;5;124mparameter of \u001b[39m\u001b[38;5;132;01m{\u001b[39;00mfunc\u001b[38;5;241m.\u001b[39m\u001b[38;5;18m__qualname__\u001b[39m\u001b[38;5;132;01m}\u001b[39;00m\u001b[38;5;124m must be\u001b[39m\u001b[38;5;124m\"\u001b[39m,\n\u001b[1;32m    222\u001b[0m         \u001b[38;5;28mstr\u001b[39m(e),\n\u001b[1;32m    223\u001b[0m     )\n",
      "File \u001b[0;32m/data/project/anaconda3_test/lib/python3.12/site-packages/sklearn/model_selection/_validation.py:712\u001b[0m, in \u001b[0;36mcross_val_score\u001b[0;34m(estimator, X, y, groups, scoring, cv, n_jobs, verbose, fit_params, params, pre_dispatch, error_score)\u001b[0m\n\u001b[1;32m    709\u001b[0m \u001b[38;5;66;03m# To ensure multimetric format is not supported\u001b[39;00m\n\u001b[1;32m    710\u001b[0m scorer \u001b[38;5;241m=\u001b[39m check_scoring(estimator, scoring\u001b[38;5;241m=\u001b[39mscoring)\n\u001b[0;32m--> 712\u001b[0m cv_results \u001b[38;5;241m=\u001b[39m cross_validate(\n\u001b[1;32m    713\u001b[0m     estimator\u001b[38;5;241m=\u001b[39mestimator,\n\u001b[1;32m    714\u001b[0m     X\u001b[38;5;241m=\u001b[39mX,\n\u001b[1;32m    715\u001b[0m     y\u001b[38;5;241m=\u001b[39my,\n\u001b[1;32m    716\u001b[0m     groups\u001b[38;5;241m=\u001b[39mgroups,\n\u001b[1;32m    717\u001b[0m     scoring\u001b[38;5;241m=\u001b[39m{\u001b[38;5;124m\"\u001b[39m\u001b[38;5;124mscore\u001b[39m\u001b[38;5;124m\"\u001b[39m: scorer},\n\u001b[1;32m    718\u001b[0m     cv\u001b[38;5;241m=\u001b[39mcv,\n\u001b[1;32m    719\u001b[0m     n_jobs\u001b[38;5;241m=\u001b[39mn_jobs,\n\u001b[1;32m    720\u001b[0m     verbose\u001b[38;5;241m=\u001b[39mverbose,\n\u001b[1;32m    721\u001b[0m     fit_params\u001b[38;5;241m=\u001b[39mfit_params,\n\u001b[1;32m    722\u001b[0m     params\u001b[38;5;241m=\u001b[39mparams,\n\u001b[1;32m    723\u001b[0m     pre_dispatch\u001b[38;5;241m=\u001b[39mpre_dispatch,\n\u001b[1;32m    724\u001b[0m     error_score\u001b[38;5;241m=\u001b[39merror_score,\n\u001b[1;32m    725\u001b[0m )\n\u001b[1;32m    726\u001b[0m \u001b[38;5;28;01mreturn\u001b[39;00m cv_results[\u001b[38;5;124m\"\u001b[39m\u001b[38;5;124mtest_score\u001b[39m\u001b[38;5;124m\"\u001b[39m]\n",
      "File \u001b[0;32m/data/project/anaconda3_test/lib/python3.12/site-packages/sklearn/utils/_param_validation.py:213\u001b[0m, in \u001b[0;36mvalidate_params.<locals>.decorator.<locals>.wrapper\u001b[0;34m(*args, **kwargs)\u001b[0m\n\u001b[1;32m    207\u001b[0m \u001b[38;5;28;01mtry\u001b[39;00m:\n\u001b[1;32m    208\u001b[0m     \u001b[38;5;28;01mwith\u001b[39;00m config_context(\n\u001b[1;32m    209\u001b[0m         skip_parameter_validation\u001b[38;5;241m=\u001b[39m(\n\u001b[1;32m    210\u001b[0m             prefer_skip_nested_validation \u001b[38;5;129;01mor\u001b[39;00m global_skip_validation\n\u001b[1;32m    211\u001b[0m         )\n\u001b[1;32m    212\u001b[0m     ):\n\u001b[0;32m--> 213\u001b[0m         \u001b[38;5;28;01mreturn\u001b[39;00m func(\u001b[38;5;241m*\u001b[39margs, \u001b[38;5;241m*\u001b[39m\u001b[38;5;241m*\u001b[39mkwargs)\n\u001b[1;32m    214\u001b[0m \u001b[38;5;28;01mexcept\u001b[39;00m InvalidParameterError \u001b[38;5;28;01mas\u001b[39;00m e:\n\u001b[1;32m    215\u001b[0m     \u001b[38;5;66;03m# When the function is just a wrapper around an estimator, we allow\u001b[39;00m\n\u001b[1;32m    216\u001b[0m     \u001b[38;5;66;03m# the function to delegate validation to the estimator, but we replace\u001b[39;00m\n\u001b[1;32m    217\u001b[0m     \u001b[38;5;66;03m# the name of the estimator by the name of the function in the error\u001b[39;00m\n\u001b[1;32m    218\u001b[0m     \u001b[38;5;66;03m# message to avoid confusion.\u001b[39;00m\n\u001b[1;32m    219\u001b[0m     msg \u001b[38;5;241m=\u001b[39m re\u001b[38;5;241m.\u001b[39msub(\n\u001b[1;32m    220\u001b[0m         \u001b[38;5;124mr\u001b[39m\u001b[38;5;124m\"\u001b[39m\u001b[38;5;124mparameter of \u001b[39m\u001b[38;5;124m\\\u001b[39m\u001b[38;5;124mw+ must be\u001b[39m\u001b[38;5;124m\"\u001b[39m,\n\u001b[1;32m    221\u001b[0m         \u001b[38;5;124mf\u001b[39m\u001b[38;5;124m\"\u001b[39m\u001b[38;5;124mparameter of \u001b[39m\u001b[38;5;132;01m{\u001b[39;00mfunc\u001b[38;5;241m.\u001b[39m\u001b[38;5;18m__qualname__\u001b[39m\u001b[38;5;132;01m}\u001b[39;00m\u001b[38;5;124m must be\u001b[39m\u001b[38;5;124m\"\u001b[39m,\n\u001b[1;32m    222\u001b[0m         \u001b[38;5;28mstr\u001b[39m(e),\n\u001b[1;32m    223\u001b[0m     )\n",
      "File \u001b[0;32m/data/project/anaconda3_test/lib/python3.12/site-packages/sklearn/model_selection/_validation.py:423\u001b[0m, in \u001b[0;36mcross_validate\u001b[0;34m(estimator, X, y, groups, scoring, cv, n_jobs, verbose, fit_params, params, pre_dispatch, return_train_score, return_estimator, return_indices, error_score)\u001b[0m\n\u001b[1;32m    420\u001b[0m \u001b[38;5;66;03m# We clone the estimator to make sure that all the folds are\u001b[39;00m\n\u001b[1;32m    421\u001b[0m \u001b[38;5;66;03m# independent, and that it is pickle-able.\u001b[39;00m\n\u001b[1;32m    422\u001b[0m parallel \u001b[38;5;241m=\u001b[39m Parallel(n_jobs\u001b[38;5;241m=\u001b[39mn_jobs, verbose\u001b[38;5;241m=\u001b[39mverbose, pre_dispatch\u001b[38;5;241m=\u001b[39mpre_dispatch)\n\u001b[0;32m--> 423\u001b[0m results \u001b[38;5;241m=\u001b[39m parallel(\n\u001b[1;32m    424\u001b[0m     delayed(_fit_and_score)(\n\u001b[1;32m    425\u001b[0m         clone(estimator),\n\u001b[1;32m    426\u001b[0m         X,\n\u001b[1;32m    427\u001b[0m         y,\n\u001b[1;32m    428\u001b[0m         scorer\u001b[38;5;241m=\u001b[39mscorers,\n\u001b[1;32m    429\u001b[0m         train\u001b[38;5;241m=\u001b[39mtrain,\n\u001b[1;32m    430\u001b[0m         test\u001b[38;5;241m=\u001b[39mtest,\n\u001b[1;32m    431\u001b[0m         verbose\u001b[38;5;241m=\u001b[39mverbose,\n\u001b[1;32m    432\u001b[0m         parameters\u001b[38;5;241m=\u001b[39m\u001b[38;5;28;01mNone\u001b[39;00m,\n\u001b[1;32m    433\u001b[0m         fit_params\u001b[38;5;241m=\u001b[39mrouted_params\u001b[38;5;241m.\u001b[39mestimator\u001b[38;5;241m.\u001b[39mfit,\n\u001b[1;32m    434\u001b[0m         score_params\u001b[38;5;241m=\u001b[39mrouted_params\u001b[38;5;241m.\u001b[39mscorer\u001b[38;5;241m.\u001b[39mscore,\n\u001b[1;32m    435\u001b[0m         return_train_score\u001b[38;5;241m=\u001b[39mreturn_train_score,\n\u001b[1;32m    436\u001b[0m         return_times\u001b[38;5;241m=\u001b[39m\u001b[38;5;28;01mTrue\u001b[39;00m,\n\u001b[1;32m    437\u001b[0m         return_estimator\u001b[38;5;241m=\u001b[39mreturn_estimator,\n\u001b[1;32m    438\u001b[0m         error_score\u001b[38;5;241m=\u001b[39merror_score,\n\u001b[1;32m    439\u001b[0m     )\n\u001b[1;32m    440\u001b[0m     \u001b[38;5;28;01mfor\u001b[39;00m train, test \u001b[38;5;129;01min\u001b[39;00m indices\n\u001b[1;32m    441\u001b[0m )\n\u001b[1;32m    443\u001b[0m _warn_or_raise_about_fit_failures(results, error_score)\n\u001b[1;32m    445\u001b[0m \u001b[38;5;66;03m# For callable scoring, the return type is only know after calling. If the\u001b[39;00m\n\u001b[1;32m    446\u001b[0m \u001b[38;5;66;03m# return type is a dictionary, the error scores can now be inserted with\u001b[39;00m\n\u001b[1;32m    447\u001b[0m \u001b[38;5;66;03m# the correct key.\u001b[39;00m\n",
      "File \u001b[0;32m/data/project/anaconda3_test/lib/python3.12/site-packages/sklearn/utils/parallel.py:74\u001b[0m, in \u001b[0;36mParallel.__call__\u001b[0;34m(self, iterable)\u001b[0m\n\u001b[1;32m     69\u001b[0m config \u001b[38;5;241m=\u001b[39m get_config()\n\u001b[1;32m     70\u001b[0m iterable_with_config \u001b[38;5;241m=\u001b[39m (\n\u001b[1;32m     71\u001b[0m     (_with_config(delayed_func, config), args, kwargs)\n\u001b[1;32m     72\u001b[0m     \u001b[38;5;28;01mfor\u001b[39;00m delayed_func, args, kwargs \u001b[38;5;129;01min\u001b[39;00m iterable\n\u001b[1;32m     73\u001b[0m )\n\u001b[0;32m---> 74\u001b[0m \u001b[38;5;28;01mreturn\u001b[39;00m \u001b[38;5;28msuper\u001b[39m()\u001b[38;5;241m.\u001b[39m\u001b[38;5;21m__call__\u001b[39m(iterable_with_config)\n",
      "File \u001b[0;32m/data/project/anaconda3_test/lib/python3.12/site-packages/joblib/parallel.py:2007\u001b[0m, in \u001b[0;36mParallel.__call__\u001b[0;34m(self, iterable)\u001b[0m\n\u001b[1;32m   2001\u001b[0m \u001b[38;5;66;03m# The first item from the output is blank, but it makes the interpreter\u001b[39;00m\n\u001b[1;32m   2002\u001b[0m \u001b[38;5;66;03m# progress until it enters the Try/Except block of the generator and\u001b[39;00m\n\u001b[1;32m   2003\u001b[0m \u001b[38;5;66;03m# reaches the first `yield` statement. This starts the asynchronous\u001b[39;00m\n\u001b[1;32m   2004\u001b[0m \u001b[38;5;66;03m# dispatch of the tasks to the workers.\u001b[39;00m\n\u001b[1;32m   2005\u001b[0m \u001b[38;5;28mnext\u001b[39m(output)\n\u001b[0;32m-> 2007\u001b[0m \u001b[38;5;28;01mreturn\u001b[39;00m output \u001b[38;5;28;01mif\u001b[39;00m \u001b[38;5;28mself\u001b[39m\u001b[38;5;241m.\u001b[39mreturn_generator \u001b[38;5;28;01melse\u001b[39;00m \u001b[38;5;28mlist\u001b[39m(output)\n",
      "File \u001b[0;32m/data/project/anaconda3_test/lib/python3.12/site-packages/joblib/parallel.py:1650\u001b[0m, in \u001b[0;36mParallel._get_outputs\u001b[0;34m(self, iterator, pre_dispatch)\u001b[0m\n\u001b[1;32m   1647\u001b[0m     \u001b[38;5;28;01myield\u001b[39;00m\n\u001b[1;32m   1649\u001b[0m     \u001b[38;5;28;01mwith\u001b[39;00m \u001b[38;5;28mself\u001b[39m\u001b[38;5;241m.\u001b[39m_backend\u001b[38;5;241m.\u001b[39mretrieval_context():\n\u001b[0;32m-> 1650\u001b[0m         \u001b[38;5;28;01myield from\u001b[39;00m \u001b[38;5;28mself\u001b[39m\u001b[38;5;241m.\u001b[39m_retrieve()\n\u001b[1;32m   1652\u001b[0m \u001b[38;5;28;01mexcept\u001b[39;00m \u001b[38;5;167;01mGeneratorExit\u001b[39;00m:\n\u001b[1;32m   1653\u001b[0m     \u001b[38;5;66;03m# The generator has been garbage collected before being fully\u001b[39;00m\n\u001b[1;32m   1654\u001b[0m     \u001b[38;5;66;03m# consumed. This aborts the remaining tasks if possible and warn\u001b[39;00m\n\u001b[1;32m   1655\u001b[0m     \u001b[38;5;66;03m# the user if necessary.\u001b[39;00m\n\u001b[1;32m   1656\u001b[0m     \u001b[38;5;28mself\u001b[39m\u001b[38;5;241m.\u001b[39m_exception \u001b[38;5;241m=\u001b[39m \u001b[38;5;28;01mTrue\u001b[39;00m\n",
      "File \u001b[0;32m/data/project/anaconda3_test/lib/python3.12/site-packages/joblib/parallel.py:1762\u001b[0m, in \u001b[0;36mParallel._retrieve\u001b[0;34m(self)\u001b[0m\n\u001b[1;32m   1757\u001b[0m \u001b[38;5;66;03m# If the next job is not ready for retrieval yet, we just wait for\u001b[39;00m\n\u001b[1;32m   1758\u001b[0m \u001b[38;5;66;03m# async callbacks to progress.\u001b[39;00m\n\u001b[1;32m   1759\u001b[0m \u001b[38;5;28;01mif\u001b[39;00m ((\u001b[38;5;28mlen\u001b[39m(\u001b[38;5;28mself\u001b[39m\u001b[38;5;241m.\u001b[39m_jobs) \u001b[38;5;241m==\u001b[39m \u001b[38;5;241m0\u001b[39m) \u001b[38;5;129;01mor\u001b[39;00m\n\u001b[1;32m   1760\u001b[0m     (\u001b[38;5;28mself\u001b[39m\u001b[38;5;241m.\u001b[39m_jobs[\u001b[38;5;241m0\u001b[39m]\u001b[38;5;241m.\u001b[39mget_status(\n\u001b[1;32m   1761\u001b[0m         timeout\u001b[38;5;241m=\u001b[39m\u001b[38;5;28mself\u001b[39m\u001b[38;5;241m.\u001b[39mtimeout) \u001b[38;5;241m==\u001b[39m TASK_PENDING)):\n\u001b[0;32m-> 1762\u001b[0m     time\u001b[38;5;241m.\u001b[39msleep(\u001b[38;5;241m0.01\u001b[39m)\n\u001b[1;32m   1763\u001b[0m     \u001b[38;5;28;01mcontinue\u001b[39;00m\n\u001b[1;32m   1765\u001b[0m \u001b[38;5;66;03m# We need to be careful: the job list can be filling up as\u001b[39;00m\n\u001b[1;32m   1766\u001b[0m \u001b[38;5;66;03m# we empty it and Python list are not thread-safe by\u001b[39;00m\n\u001b[1;32m   1767\u001b[0m \u001b[38;5;66;03m# default hence the use of the lock\u001b[39;00m\n",
      "\u001b[0;31mKeyboardInterrupt\u001b[0m: "
     ]
    }
   ],
   "source": [
    "# Use my search grid\n",
    "results = MyGridSearch(param_dict, train[featureList].values, train[labelList].values.squeeze())"
   ]
  },
  {
   "cell_type": "code",
   "execution_count": 11,
   "id": "5fe3c119-dbac-4b34-b0ed-3380e49a67a6",
   "metadata": {},
   "outputs": [
    {
     "name": "stdout",
     "output_type": "stream",
     "text": [
      "The best score is 0.6159908623643633\n",
      "The best params is: {'colsample_bytree': 0.7, 'learning_rate': 0.1, 'max_depth': -1, 'min_child_samples': 40, 'n_estimators': 10, 'n_jobs': -1, 'num_leaves': 15, 'random_state': 12181, 'reg_alpha': 10, 'reg_lambda': 0.0, 'subsample': 0.3, 'verbose': -1}\n"
     ]
    }
   ],
   "source": [
    "# Use standard search grid\n",
    "results = StandardGridSearch(param_dict, train[featureList].values, train[labelList].values.squeeze())"
   ]
  },
  {
   "cell_type": "code",
   "execution_count": null,
   "id": "301f4a22-432b-4cc5-91bb-1d7631474d86",
   "metadata": {},
   "outputs": [],
   "source": []
  }
 ],
 "metadata": {
  "kernelspec": {
   "display_name": "Python 3 (ipykernel)",
   "language": "python",
   "name": "python3"
  },
  "language_info": {
   "codemirror_mode": {
    "name": "ipython",
    "version": 3
   },
   "file_extension": ".py",
   "mimetype": "text/x-python",
   "name": "python",
   "nbconvert_exporter": "python",
   "pygments_lexer": "ipython3",
   "version": "3.12.2"
  }
 },
 "nbformat": 4,
 "nbformat_minor": 5
}
