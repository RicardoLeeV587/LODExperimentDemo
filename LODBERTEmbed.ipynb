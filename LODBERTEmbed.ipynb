{
 "cells": [
  {
   "cell_type": "markdown",
   "id": "80ac9db6-2250-4ae4-86a6-8c9c768c0e07",
   "metadata": {},
   "source": [
    "# This script is for embedding classifcation training (Using BERT Embedding)"
   ]
  },
  {
   "cell_type": "code",
   "execution_count": 1,
   "id": "ec02ae90-3fbd-4787-8475-acae3f251cc3",
   "metadata": {},
   "outputs": [],
   "source": [
    "import os\n",
    "import pandas as pd\n",
    "# from xgboost import XGBClassifier\n",
    "from sklearn.ensemble import RandomForestClassifier\n",
    "from sklearn.model_selection import KFold, StratifiedKFold, train_test_split, GridSearchCV, cross_val_score\n",
    "from sklearn.metrics import accuracy_score, roc_auc_score\n",
    "# sklearn.metrics.accuracy_score\n",
    "# import xgboost as xgb\n",
    "import numpy as np\n",
    "import itertools \n",
    "import tqdm\n",
    "from time import sleep\n",
    "import random\n",
    "# from docx import Document\n",
    "# import docx2txt"
   ]
  },
  {
   "cell_type": "code",
   "execution_count": 2,
   "id": "ea68bc6f-f099-4b2d-ab93-c2b57748c4b4",
   "metadata": {},
   "outputs": [],
   "source": [
    "import torch\n",
    "\n",
    "from transformers import BertTokenizer, BertForSequenceClassification\n",
    "from transformers.models.auto import AutoModelForSequenceClassification, AutoTokenizer\n",
    "from torch.utils.data import DataLoader\n",
    "from accelerate.utils.memory import clear_device_cache\n",
    "from torch.optim import AdamW\n",
    "from transformers import get_scheduler\n",
    "from accelerate.test_utils.testing import get_backend\n",
    "from tqdm.auto import tqdm\n",
    "import evaluate"
   ]
  },
  {
   "cell_type": "code",
   "execution_count": 3,
   "id": "b0c5728f-4d9b-4f0d-b7c1-03a8778caedb",
   "metadata": {},
   "outputs": [],
   "source": [
    "import warnings \n",
    "warnings.filterwarnings(\"ignore\")"
   ]
  },
  {
   "cell_type": "code",
   "execution_count": 4,
   "id": "f3f7dbc8-5b21-42f5-a726-84c354691c21",
   "metadata": {},
   "outputs": [],
   "source": [
    "# This is just for disabling warning. If you are debugging bypass this cell\n",
    "from transformers import logging\n",
    "\n",
    "# logging.set_verbosity_warning()\n",
    "logging.set_verbosity_error() "
   ]
  },
  {
   "cell_type": "code",
   "execution_count": 5,
   "id": "8f869305-79b3-47a1-abd9-dd380fe65538",
   "metadata": {},
   "outputs": [],
   "source": [
    "from datasets import Dataset\n",
    "# Prepare the model input features\n",
    "def tokenize(batch):\n",
    "    return tokenizer(batch[\"summarization\"], padding=True, truncation=True)"
   ]
  },
  {
   "cell_type": "code",
   "execution_count": 6,
   "id": "6c702610-6287-46fa-aa06-95b6eb25a6ec",
   "metadata": {},
   "outputs": [],
   "source": [
    "# Please specify your model here\n",
    "device, _, _ = get_backend()\n",
    "model_name = \"bert-base-uncased\"\n",
    "# model_name = \"/data/project/deberta-v3-base\"\n",
    "if \"bert\" in model_name.split(\"-\"):\n",
    "    tokenizer = BertTokenizer.from_pretrained(model_name)\n",
    "else:\n",
    "    tokenizer = AutoTokenizer.from_pretrained(model_name)"
   ]
  },
  {
   "cell_type": "code",
   "execution_count": 7,
   "id": "68d189e6-0547-49cc-a0d4-1b3e027a338a",
   "metadata": {},
   "outputs": [],
   "source": [
    "# mannually generate the search grid\n",
    "def makeGrid(pars_dict):  \n",
    "    keys=pars_dict.keys()\n",
    "    combinations=itertools.product(*pars_dict.values())\n",
    "    ds=[dict(zip(keys,cc)) for cc in combinations]\n",
    "    return ds"
   ]
  },
  {
   "cell_type": "markdown",
   "id": "82f2027a-ce56-4117-bb09-3a1957987474",
   "metadata": {},
   "source": [
    "## Data Preparation"
   ]
  },
  {
   "cell_type": "code",
   "execution_count": 8,
   "id": "7b01bfed-0e14-46e0-864c-0a7b4d8b82e9",
   "metadata": {},
   "outputs": [],
   "source": [
    "df_raw = pd.read_excel(\"../Dataset/MergedDataset_231207_ForElly_Excel.xlsx\")\n",
    "\n",
    "# Remove \".\" in the feature column\n",
    "row_num, column_num = df_raw.shape\n",
    "for rowID in range(row_num):\n",
    "    for columnID in range(column_num):\n",
    "        if \".\" == df_raw.iloc[rowID, columnID]:\n",
    "            df_raw.iloc[rowID, columnID] = np.nan\n",
    "\n",
    "# prepare the feature list\n",
    "featureList = []\n",
    "for item in df_raw.columns:\n",
    "    if item.startswith(\"Item\"):\n",
    "        featureList.append(item)\n",
    "\n",
    "patientList = []\n",
    "roundList = []\n",
    "for idx, row in df_raw.iterrows():\n",
    "    patient = int(str(row[\"IAPTus_Num\"]).split(\"_\")[0])\n",
    "    if \"_\" in str(row[\"IAPTus_Num\"]):\n",
    "        Round = int(str(row[\"IAPTus_Num\"]).split(\"_\")[1])\n",
    "    else:\n",
    "        Round = 0\n",
    "    patientList.append(patient)\n",
    "    roundList.append(Round)\n",
    "df_raw[\"patient\"] = patientList\n",
    "df_raw[\"round\"] = roundList"
   ]
  },
  {
   "cell_type": "code",
   "execution_count": 9,
   "id": "9f3792d3-ceae-47a7-b5d9-d56b3c85a3ff",
   "metadata": {},
   "outputs": [],
   "source": [
    "df_referral = pd.read_json(\"../Dataset/ReferralLetterSummary.json\", lines=True)"
   ]
  },
  {
   "cell_type": "code",
   "execution_count": 10,
   "id": "b0e5836e-992b-4e0d-a1ce-48dd3c3c0c60",
   "metadata": {},
   "outputs": [],
   "source": [
    "df = pd.merge(df_raw, df_referral, on=[\"patient\",\"round\"])"
   ]
  },
  {
   "cell_type": "markdown",
   "id": "c0adb17a-c189-492c-9521-47b9ce53f58f",
   "metadata": {},
   "source": [
    "# Label Preparation"
   ]
  },
  {
   "cell_type": "markdown",
   "id": "7d780ea9-47b1-4947-9fd2-59893d48732c",
   "metadata": {},
   "source": [
    "## Here I use RecoveryDesc, not the EndDesc as the prediction target. EndDesc has 4 label categories and Referral Letter has only 44 data points, so it does not meet the conditions for tuning."
   ]
  },
  {
   "cell_type": "code",
   "execution_count": 11,
   "id": "398aebee-f569-4e55-b432-44996f0c74b8",
   "metadata": {},
   "outputs": [
    {
     "name": "stdout",
     "output_type": "stream",
     "text": [
      "(43, 285)\n"
     ]
    }
   ],
   "source": [
    "df = df[df[\"RecoveryDesc\"] == df[\"RecoveryDesc\"]]\n",
    "df = df[(df[\"RecoveryDesc\"].isin([\"At recovery\", \"Not at recovery\"]))]\n",
    "df.reset_index().drop(\"index\", axis=1)\n",
    "print(df.shape)\n",
    "\n",
    "labelList = []\n",
    "for idx, row in df.iterrows():\n",
    "    if (row[\"ReliableChangeDesc\"] == \"Reliable improvement\") & (row[\"ReliableRecoveryDesc\"] == \"Reliable recovery\") & (row[\"RecoveryDesc\"] == \"At recovery\"):\n",
    "        labelList.append(1)\n",
    "    else:\n",
    "        labelList.append(0)\n",
    "df[\"labels\"] = np.array(labelList, dtype=float)\n",
    "labelList = [\"labels\"]"
   ]
  },
  {
   "cell_type": "code",
   "execution_count": 12,
   "id": "a93c0f57-25ec-4180-a32e-0cd896a6a07e",
   "metadata": {},
   "outputs": [],
   "source": [
    "df = df[[\"IAPTus_Num_x\",\"patient\",\"round\",\"text\", \"summarization\", \"labels\"]]\n",
    "df = df.reset_index().drop(\"index\", axis=1)"
   ]
  },
  {
   "cell_type": "code",
   "execution_count": 13,
   "id": "86a0bc7a-f061-47d2-9096-37a861533698",
   "metadata": {},
   "outputs": [
    {
     "data": {
      "text/plain": [
       "(38, 6)"
      ]
     },
     "execution_count": 13,
     "metadata": {},
     "output_type": "execute_result"
    }
   ],
   "source": [
    "# Keep 10% data as the test data\n",
    "train, test = train_test_split(df, test_size=0.1)\n",
    "train.shape"
   ]
  },
  {
   "cell_type": "markdown",
   "id": "5f67f119-d8e7-45b9-af57-2a63c7f561c8",
   "metadata": {},
   "source": [
    "## Training Code"
   ]
  },
  {
   "cell_type": "code",
   "execution_count": 14,
   "id": "1955af86-fbec-4a07-9ae1-c8ca52a2e40e",
   "metadata": {},
   "outputs": [],
   "source": [
    "def train_predict(df, param, model_name):\n",
    "    # KFold Split\n",
    "    skf = StratifiedKFold(n_splits=5)\n",
    "    print(skf)\n",
    "    FoldList = []\n",
    "    for i, (train_index, val_index) in enumerate(skf.split(df[\"summarization\"], df[\"labels\"])):\n",
    "        train = df.iloc[train_index]\n",
    "        val = df.iloc[val_index]\n",
    "        \n",
    "        train = train[[\"summarization\", \"labels\"]]\n",
    "        trainDataset = Dataset.from_pandas(train, preserve_index=False).map(tokenize, batched=True, batch_size=None)\n",
    "        trainDataset.set_format(\"torch\")\n",
    "\n",
    "        val = val[[\"summarization\", \"labels\"]]\n",
    "        valDataset = Dataset.from_pandas(val, preserve_index=False).map(tokenize, batched=True, batch_size=None)\n",
    "        valDataset.set_format(\"torch\")\n",
    "\n",
    "        # Now I only have 16G GPU Memory, so for BERT the biggest batch size I can reach is 32, while for DeBERTa it is 4. \n",
    "        # We'd better find a machine with bigger GPU memory to run DeBERTa with batch size 32\n",
    "        if \"bert\" in model_name.split(\"-\"):\n",
    "            train_dataloader = DataLoader(trainDataset, shuffle=True, batch_size=32)\n",
    "        else:\n",
    "            # train_dataloader = DataLoader(trainDataset, shuffle=True, batch_size=32)\n",
    "            train_dataloader = DataLoader(trainDataset, shuffle=True, batch_size=4)\n",
    "        eval_dataloader = DataLoader(valDataset, batch_size=1)\n",
    "        aucList = []\n",
    "        for _ in range(5):\n",
    "            aucList.append(singleTrain(train_dataloader, eval_dataloader, param, model_name))\n",
    "        \n",
    "        FoldList.append(aucList)\n",
    "    return FoldList  "
   ]
  },
  {
   "cell_type": "code",
   "execution_count": 31,
   "id": "3d61bba9-4747-40c8-9ef6-a49c13940745",
   "metadata": {},
   "outputs": [],
   "source": [
    "def singleTrain(train_dataloader, eval_dataloader, hypparam, model_name, save=None):\n",
    "    # Clean GPU \n",
    "    with torch.no_grad():\n",
    "        torch.cuda.empty_cache()\n",
    "\n",
    "    if \"bert\" in model_name.split(\"-\"):\n",
    "        model = BertForSequenceClassification.from_pretrained(model_name, num_labels=1)\n",
    "        for param in model.bert.parameters():\n",
    "            param.requires_grad = False\n",
    "    else:\n",
    "        model = AutoModelForSequenceClassification.from_pretrained(model_name, num_labels=1)\n",
    "    optimizer = AdamW(model.parameters(), lr=hypparam[\"lr\"])        \n",
    "    num_epochs = hypparam[\"epoch\"]\n",
    "    num_training_steps = num_epochs * len(train_dataloader)\n",
    "    model.to(device)    \n",
    "    model.train()\n",
    "    for epoch in range(num_epochs):\n",
    "        for batch in train_dataloader:\n",
    "            batch = {k: v.to(device) for k, v in batch.items() if k != \"summarization\"}\n",
    "            outputs = model(**batch)\n",
    "            loss = outputs.loss\n",
    "            loss.backward()\n",
    "    \n",
    "            optimizer.step()\n",
    "            optimizer.zero_grad()\n",
    "            # progress_bar.update(1)      \n",
    "\n",
    "    finalResult = []\n",
    "    finalLabel = []\n",
    "    model.eval()    \n",
    "    for batch in eval_dataloader:\n",
    "        batch = {k: v.to(device) for k, v in batch.items() if k != \"summarization\"}\n",
    "        with torch.no_grad():\n",
    "            outputs = model(**batch)\n",
    "    \n",
    "        logits = outputs.logits\n",
    "        predictions = torch.sigmoid(logits)\n",
    "        # print(predictions)\n",
    "        finalResult += predictions.tolist()\n",
    "        finalLabel += batch[\"labels\"].tolist()\n",
    "        # metric.add_batch(predictions=predictions, references=batch[\"labels\"])\n",
    "    # print(finalResult)\n",
    "    # print(finalLabel)\n",
    "    # print(roc_auc_score(finalLabel, finalResult))\n",
    "    auc = roc_auc_score(finalLabel, finalResult)\n",
    "    if save != None:\n",
    "        model.save_pretrained(\"./tmp\", from_pt=True) \n",
    "    return auc"
   ]
  },
  {
   "cell_type": "markdown",
   "id": "870169ad-5aad-4d8c-8656-a7062c802782",
   "metadata": {},
   "source": [
    "## Test for the training code"
   ]
  },
  {
   "cell_type": "code",
   "execution_count": 20,
   "id": "1c6a8842-e300-4fab-94d3-b96744820421",
   "metadata": {},
   "outputs": [],
   "source": [
    "# can get 100%, but not stable\n",
    "# param_dict = {\n",
    "#     \"lr\": 1e-5,\n",
    "#     \"epoch\": 10\n",
    "# }\n",
    "\n",
    "param_dict = {\n",
    "    'lr': 1e-07, \n",
    "    'epoch': 7\n",
    "}"
   ]
  },
  {
   "cell_type": "code",
   "execution_count": 21,
   "id": "7ef4ab65-9bfc-4b8c-9789-728b88b91a83",
   "metadata": {},
   "outputs": [
    {
     "data": {
      "application/vnd.jupyter.widget-view+json": {
       "model_id": "fab3c099ab784fb082765370762a29e1",
       "version_major": 2,
       "version_minor": 0
      },
      "text/plain": [
       "Map:   0%|          | 0/38 [00:00<?, ? examples/s]"
      ]
     },
     "metadata": {},
     "output_type": "display_data"
    },
    {
     "data": {
      "application/vnd.jupyter.widget-view+json": {
       "model_id": "393e2c791155455ca2babe050c060305",
       "version_major": 2,
       "version_minor": 0
      },
      "text/plain": [
       "Map:   0%|          | 0/5 [00:00<?, ? examples/s]"
      ]
     },
     "metadata": {},
     "output_type": "display_data"
    }
   ],
   "source": [
    "train = train[[\"summarization\", \"labels\"]]\n",
    "trainDataset = Dataset.from_pandas(train, preserve_index=False).map(tokenize, batched=True, batch_size=None)\n",
    "trainDataset.set_format(\"torch\")\n",
    "\n",
    "test = test[[\"summarization\", \"labels\"]]\n",
    "testDataset = Dataset.from_pandas(test, preserve_index=False).map(tokenize, batched=True, batch_size=None)\n",
    "testDataset.set_format(\"torch\")"
   ]
  },
  {
   "cell_type": "code",
   "execution_count": 22,
   "id": "3dfed63e-3c2d-44c8-9f1a-2439001087f2",
   "metadata": {},
   "outputs": [],
   "source": [
    "train_dataloader = DataLoader(trainDataset, shuffle=True, batch_size=32)\n",
    "test_dataloader = DataLoader(testDataset, batch_size=1)"
   ]
  },
  {
   "cell_type": "code",
   "execution_count": 32,
   "id": "6e24630e-13f9-42fc-b822-a6c56e97b0df",
   "metadata": {},
   "outputs": [
    {
     "data": {
      "text/plain": [
       "np.float64(1.0)"
      ]
     },
     "execution_count": 32,
     "metadata": {},
     "output_type": "execute_result"
    }
   ],
   "source": [
    "if \"tmp\" not in os.listdir(\"./\"):\n",
    "    os.mkdir(\"tmp\")\n",
    "singleTrain(train_dataloader, test_dataloader, param_dict, model_name, save=\"/tmp\")"
   ]
  },
  {
   "cell_type": "code",
   "execution_count": 33,
   "id": "ffd2058b-ca51-4253-a55c-adcc49b7fcce",
   "metadata": {},
   "outputs": [
    {
     "name": "stdout",
     "output_type": "stream",
     "text": [
      "[[0.4126128852367401], [0.43854087591171265], [0.4176628589630127], [0.40840137004852295], [0.41806748509407043]]\n",
      "[0.0, 1.0, 1.0, 0.0, 1.0]\n"
     ]
    }
   ],
   "source": [
    "with torch.no_grad():\n",
    "    torch.cuda.empty_cache()\n",
    "model = AutoModelForSequenceClassification.from_pretrained(\"./tmp\").to(device)\n",
    "model.eval()    \n",
    "finalResult = []\n",
    "finalLabel = []\n",
    "for batch in test_dataloader:\n",
    "    batch = {k: v.to(device) for k, v in batch.items() if k != \"summarization\"}\n",
    "    with torch.no_grad():\n",
    "        outputs = model(**batch)\n",
    "\n",
    "    logits = outputs.logits\n",
    "    predictions = torch.sigmoid(logits)\n",
    "    # print(predictions)\n",
    "    finalResult += predictions.tolist()\n",
    "    finalLabel += batch[\"labels\"].tolist()\n",
    "print(finalResult)\n",
    "print(finalLabel)"
   ]
  },
  {
   "cell_type": "code",
   "execution_count": null,
   "id": "a5cf14ca-db30-4642-8e37-61733f12adec",
   "metadata": {},
   "outputs": [],
   "source": []
  },
  {
   "cell_type": "code",
   "execution_count": null,
   "id": "7e8278c3-fb16-45ce-83c0-9a35bf34c4ee",
   "metadata": {},
   "outputs": [],
   "source": []
  },
  {
   "cell_type": "markdown",
   "id": "fe0abc70-8f31-4d27-b181-9ec701239699",
   "metadata": {},
   "source": [
    "# Grid Search for Hyperparameter settings"
   ]
  },
  {
   "cell_type": "code",
   "execution_count": null,
   "id": "39cf05ed-2451-416a-9e97-d6436ad65887",
   "metadata": {},
   "outputs": [],
   "source": []
  },
  {
   "cell_type": "code",
   "execution_count": 16,
   "id": "12457f33-53a5-48ce-b52c-01c5040e31a5",
   "metadata": {},
   "outputs": [],
   "source": [
    "def MyGridSearch(df, param_dict, model_name):\n",
    "    searchSpace = makeGrid(param_dict)\n",
    "    print(\"Search Space Size:\" + len(searchSpace).__str__())\n",
    "    resultList = []\n",
    "    for param in tqdm(searchSpace):\n",
    "        #sleep(1)\n",
    "        scores = train_predict(df, param, model_name)\n",
    "        result = {}\n",
    "        result[\"auc_mean\"] = np.mean(scores)\n",
    "        result[\"auc_std\"] = np.std(scores)\n",
    "        result[\"auc\"] = scores\n",
    "        result[\"param\"] = param\n",
    "        resultList.append(result)\n",
    "    sortedResult = sorted(resultList, key=lambda x: x[\"auc_mean\"], reverse=True)\n",
    "    print(sortedResult[:5])\n",
    "    return sortedResult"
   ]
  },
  {
   "cell_type": "code",
   "execution_count": null,
   "id": "60eae939-2558-4eec-b95b-8c7227f7f023",
   "metadata": {},
   "outputs": [],
   "source": []
  },
  {
   "cell_type": "code",
   "execution_count": 17,
   "id": "4f841ec4-7b47-4214-9060-659836a95027",
   "metadata": {},
   "outputs": [],
   "source": [
    "param_dict = {\n",
    "    \"lr\": [1e-8, 5e-8, 1e-7, 5e-7, 8e-7, 1e-6, 2e-6, 5e-6, 1e-5, 2e-5, 5e-5, 1e-4],\n",
    "    \"epoch\": [3,4,5,6,7,8,9,10,12,15,20]\n",
    "}"
   ]
  },
  {
   "cell_type": "code",
   "execution_count": null,
   "id": "b808d5b0-330d-4bc0-8a0b-550c702a38f2",
   "metadata": {},
   "outputs": [],
   "source": []
  },
  {
   "cell_type": "code",
   "execution_count": 18,
   "id": "0060e494-6524-4723-b714-6257445e1e94",
   "metadata": {
    "scrolled": true
   },
   "outputs": [
    {
     "name": "stdout",
     "output_type": "stream",
     "text": [
      "Search Space Size:132\n"
     ]
    },
    {
     "data": {
      "application/vnd.jupyter.widget-view+json": {
       "model_id": "56230c654c964182988fd622427144e0",
       "version_major": 2,
       "version_minor": 0
      },
      "text/plain": [
       "  0%|          | 0/132 [00:00<?, ?it/s]"
      ]
     },
     "metadata": {},
     "output_type": "display_data"
    },
    {
     "name": "stdout",
     "output_type": "stream",
     "text": [
      "StratifiedKFold(n_splits=5, random_state=None, shuffle=False)\n"
     ]
    },
    {
     "data": {
      "application/vnd.jupyter.widget-view+json": {
       "model_id": "9d37703fecb44d44b4134769e0b576e5",
       "version_major": 2,
       "version_minor": 0
      },
      "text/plain": [
       "Map:   0%|          | 0/30 [00:00<?, ? examples/s]"
      ]
     },
     "metadata": {},
     "output_type": "display_data"
    },
    {
     "data": {
      "application/vnd.jupyter.widget-view+json": {
       "model_id": "b365597160d24e039bf5e488b46edfc2",
       "version_major": 2,
       "version_minor": 0
      },
      "text/plain": [
       "Map:   0%|          | 0/8 [00:00<?, ? examples/s]"
      ]
     },
     "metadata": {},
     "output_type": "display_data"
    },
    {
     "data": {
      "application/vnd.jupyter.widget-view+json": {
       "model_id": "6ebe7e831f684e1eaf16bb0d96f27660",
       "version_major": 2,
       "version_minor": 0
      },
      "text/plain": [
       "Map:   0%|          | 0/30 [00:00<?, ? examples/s]"
      ]
     },
     "metadata": {},
     "output_type": "display_data"
    },
    {
     "data": {
      "application/vnd.jupyter.widget-view+json": {
       "model_id": "8a02eab86b1f4bd3ab958b9758852452",
       "version_major": 2,
       "version_minor": 0
      },
      "text/plain": [
       "Map:   0%|          | 0/8 [00:00<?, ? examples/s]"
      ]
     },
     "metadata": {},
     "output_type": "display_data"
    },
    {
     "data": {
      "application/vnd.jupyter.widget-view+json": {
       "model_id": "708057d7fdc84b73a2d92ad6634f2ca3",
       "version_major": 2,
       "version_minor": 0
      },
      "text/plain": [
       "Map:   0%|          | 0/30 [00:00<?, ? examples/s]"
      ]
     },
     "metadata": {},
     "output_type": "display_data"
    },
    {
     "data": {
      "application/vnd.jupyter.widget-view+json": {
       "model_id": "65151d3b0e4d455faee91b6fab6d382e",
       "version_major": 2,
       "version_minor": 0
      },
      "text/plain": [
       "Map:   0%|          | 0/8 [00:00<?, ? examples/s]"
      ]
     },
     "metadata": {},
     "output_type": "display_data"
    },
    {
     "data": {
      "application/vnd.jupyter.widget-view+json": {
       "model_id": "0701990145bd4f74abe2104bf5acbe1f",
       "version_major": 2,
       "version_minor": 0
      },
      "text/plain": [
       "Map:   0%|          | 0/31 [00:00<?, ? examples/s]"
      ]
     },
     "metadata": {},
     "output_type": "display_data"
    },
    {
     "data": {
      "application/vnd.jupyter.widget-view+json": {
       "model_id": "3398a7ec1561416d85ac048fff4d0ea9",
       "version_major": 2,
       "version_minor": 0
      },
      "text/plain": [
       "Map:   0%|          | 0/7 [00:00<?, ? examples/s]"
      ]
     },
     "metadata": {},
     "output_type": "display_data"
    },
    {
     "data": {
      "application/vnd.jupyter.widget-view+json": {
       "model_id": "df669f7b265841e8a98e722bcbd0d4d8",
       "version_major": 2,
       "version_minor": 0
      },
      "text/plain": [
       "Map:   0%|          | 0/31 [00:00<?, ? examples/s]"
      ]
     },
     "metadata": {},
     "output_type": "display_data"
    },
    {
     "data": {
      "application/vnd.jupyter.widget-view+json": {
       "model_id": "7d7ad71952df46e2807858f0c723a4e8",
       "version_major": 2,
       "version_minor": 0
      },
      "text/plain": [
       "Map:   0%|          | 0/7 [00:00<?, ? examples/s]"
      ]
     },
     "metadata": {},
     "output_type": "display_data"
    },
    {
     "name": "stdout",
     "output_type": "stream",
     "text": [
      "StratifiedKFold(n_splits=5, random_state=None, shuffle=False)\n"
     ]
    },
    {
     "data": {
      "application/vnd.jupyter.widget-view+json": {
       "model_id": "e273a3798936440599d5c17ef354ad7f",
       "version_major": 2,
       "version_minor": 0
      },
      "text/plain": [
       "Map:   0%|          | 0/30 [00:00<?, ? examples/s]"
      ]
     },
     "metadata": {},
     "output_type": "display_data"
    },
    {
     "data": {
      "application/vnd.jupyter.widget-view+json": {
       "model_id": "12a137cd15c743ccb5076234160c5f31",
       "version_major": 2,
       "version_minor": 0
      },
      "text/plain": [
       "Map:   0%|          | 0/8 [00:00<?, ? examples/s]"
      ]
     },
     "metadata": {},
     "output_type": "display_data"
    },
    {
     "data": {
      "application/vnd.jupyter.widget-view+json": {
       "model_id": "2dccbe305c85486ba7deb06fea336e42",
       "version_major": 2,
       "version_minor": 0
      },
      "text/plain": [
       "Map:   0%|          | 0/30 [00:00<?, ? examples/s]"
      ]
     },
     "metadata": {},
     "output_type": "display_data"
    },
    {
     "data": {
      "application/vnd.jupyter.widget-view+json": {
       "model_id": "f5de9e45d58141c3931bb8d5a622561c",
       "version_major": 2,
       "version_minor": 0
      },
      "text/plain": [
       "Map:   0%|          | 0/8 [00:00<?, ? examples/s]"
      ]
     },
     "metadata": {},
     "output_type": "display_data"
    },
    {
     "data": {
      "application/vnd.jupyter.widget-view+json": {
       "model_id": "bf3c0341e6484846a2973e0b72fbb350",
       "version_major": 2,
       "version_minor": 0
      },
      "text/plain": [
       "Map:   0%|          | 0/30 [00:00<?, ? examples/s]"
      ]
     },
     "metadata": {},
     "output_type": "display_data"
    },
    {
     "data": {
      "application/vnd.jupyter.widget-view+json": {
       "model_id": "06e107afef404a258d8fc27c0f559cd3",
       "version_major": 2,
       "version_minor": 0
      },
      "text/plain": [
       "Map:   0%|          | 0/8 [00:00<?, ? examples/s]"
      ]
     },
     "metadata": {},
     "output_type": "display_data"
    },
    {
     "data": {
      "application/vnd.jupyter.widget-view+json": {
       "model_id": "b06e71d9004b4118843f8ac7e4b197a2",
       "version_major": 2,
       "version_minor": 0
      },
      "text/plain": [
       "Map:   0%|          | 0/31 [00:00<?, ? examples/s]"
      ]
     },
     "metadata": {},
     "output_type": "display_data"
    },
    {
     "data": {
      "application/vnd.jupyter.widget-view+json": {
       "model_id": "2369a728fa504598a8b2e0940f260316",
       "version_major": 2,
       "version_minor": 0
      },
      "text/plain": [
       "Map:   0%|          | 0/7 [00:00<?, ? examples/s]"
      ]
     },
     "metadata": {},
     "output_type": "display_data"
    },
    {
     "data": {
      "application/vnd.jupyter.widget-view+json": {
       "model_id": "95b3f67d5ba048868b6fadb00af2c1b7",
       "version_major": 2,
       "version_minor": 0
      },
      "text/plain": [
       "Map:   0%|          | 0/31 [00:00<?, ? examples/s]"
      ]
     },
     "metadata": {},
     "output_type": "display_data"
    },
    {
     "data": {
      "application/vnd.jupyter.widget-view+json": {
       "model_id": "2a1f29fc06e247d1b2d7362a8aa658de",
       "version_major": 2,
       "version_minor": 0
      },
      "text/plain": [
       "Map:   0%|          | 0/7 [00:00<?, ? examples/s]"
      ]
     },
     "metadata": {},
     "output_type": "display_data"
    },
    {
     "name": "stdout",
     "output_type": "stream",
     "text": [
      "StratifiedKFold(n_splits=5, random_state=None, shuffle=False)\n"
     ]
    },
    {
     "data": {
      "application/vnd.jupyter.widget-view+json": {
       "model_id": "259bb1bc05514c3ea1522e033f5b9a1d",
       "version_major": 2,
       "version_minor": 0
      },
      "text/plain": [
       "Map:   0%|          | 0/30 [00:00<?, ? examples/s]"
      ]
     },
     "metadata": {},
     "output_type": "display_data"
    },
    {
     "data": {
      "application/vnd.jupyter.widget-view+json": {
       "model_id": "0b741ab06b73456e9535964a8ce220d1",
       "version_major": 2,
       "version_minor": 0
      },
      "text/plain": [
       "Map:   0%|          | 0/8 [00:00<?, ? examples/s]"
      ]
     },
     "metadata": {},
     "output_type": "display_data"
    },
    {
     "data": {
      "application/vnd.jupyter.widget-view+json": {
       "model_id": "9a37e32d923b42de9f437a2649e82a8f",
       "version_major": 2,
       "version_minor": 0
      },
      "text/plain": [
       "Map:   0%|          | 0/30 [00:00<?, ? examples/s]"
      ]
     },
     "metadata": {},
     "output_type": "display_data"
    },
    {
     "data": {
      "application/vnd.jupyter.widget-view+json": {
       "model_id": "25ec7ecb53c24f70b2494a1d0d10e608",
       "version_major": 2,
       "version_minor": 0
      },
      "text/plain": [
       "Map:   0%|          | 0/8 [00:00<?, ? examples/s]"
      ]
     },
     "metadata": {},
     "output_type": "display_data"
    },
    {
     "data": {
      "application/vnd.jupyter.widget-view+json": {
       "model_id": "e2c60738c12e4a61a8d71bc570cdbf36",
       "version_major": 2,
       "version_minor": 0
      },
      "text/plain": [
       "Map:   0%|          | 0/30 [00:00<?, ? examples/s]"
      ]
     },
     "metadata": {},
     "output_type": "display_data"
    },
    {
     "data": {
      "application/vnd.jupyter.widget-view+json": {
       "model_id": "97aceac910f348a4997e04e72abbad4d",
       "version_major": 2,
       "version_minor": 0
      },
      "text/plain": [
       "Map:   0%|          | 0/8 [00:00<?, ? examples/s]"
      ]
     },
     "metadata": {},
     "output_type": "display_data"
    },
    {
     "data": {
      "application/vnd.jupyter.widget-view+json": {
       "model_id": "d1933fb0caed4c66b9393fe477cbd403",
       "version_major": 2,
       "version_minor": 0
      },
      "text/plain": [
       "Map:   0%|          | 0/31 [00:00<?, ? examples/s]"
      ]
     },
     "metadata": {},
     "output_type": "display_data"
    },
    {
     "data": {
      "application/vnd.jupyter.widget-view+json": {
       "model_id": "4d3c41daf0ee4bb6a2df4f3bad753b7d",
       "version_major": 2,
       "version_minor": 0
      },
      "text/plain": [
       "Map:   0%|          | 0/7 [00:00<?, ? examples/s]"
      ]
     },
     "metadata": {},
     "output_type": "display_data"
    },
    {
     "data": {
      "application/vnd.jupyter.widget-view+json": {
       "model_id": "aab771674d7d496e96386a94c99da7f1",
       "version_major": 2,
       "version_minor": 0
      },
      "text/plain": [
       "Map:   0%|          | 0/31 [00:00<?, ? examples/s]"
      ]
     },
     "metadata": {},
     "output_type": "display_data"
    },
    {
     "data": {
      "application/vnd.jupyter.widget-view+json": {
       "model_id": "dc5a37f9674246c88c0c41047b1a6d17",
       "version_major": 2,
       "version_minor": 0
      },
      "text/plain": [
       "Map:   0%|          | 0/7 [00:00<?, ? examples/s]"
      ]
     },
     "metadata": {},
     "output_type": "display_data"
    },
    {
     "name": "stdout",
     "output_type": "stream",
     "text": [
      "StratifiedKFold(n_splits=5, random_state=None, shuffle=False)\n"
     ]
    },
    {
     "data": {
      "application/vnd.jupyter.widget-view+json": {
       "model_id": "292856e575c4455e8034ab29ec997a95",
       "version_major": 2,
       "version_minor": 0
      },
      "text/plain": [
       "Map:   0%|          | 0/30 [00:00<?, ? examples/s]"
      ]
     },
     "metadata": {},
     "output_type": "display_data"
    },
    {
     "data": {
      "application/vnd.jupyter.widget-view+json": {
       "model_id": "bff9409309f840a69286ff99b841fe1a",
       "version_major": 2,
       "version_minor": 0
      },
      "text/plain": [
       "Map:   0%|          | 0/8 [00:00<?, ? examples/s]"
      ]
     },
     "metadata": {},
     "output_type": "display_data"
    },
    {
     "data": {
      "application/vnd.jupyter.widget-view+json": {
       "model_id": "c58707e258644e07885de68eacc19bc0",
       "version_major": 2,
       "version_minor": 0
      },
      "text/plain": [
       "Map:   0%|          | 0/30 [00:00<?, ? examples/s]"
      ]
     },
     "metadata": {},
     "output_type": "display_data"
    },
    {
     "data": {
      "application/vnd.jupyter.widget-view+json": {
       "model_id": "0230406f17f84db4b4857917621a76fe",
       "version_major": 2,
       "version_minor": 0
      },
      "text/plain": [
       "Map:   0%|          | 0/8 [00:00<?, ? examples/s]"
      ]
     },
     "metadata": {},
     "output_type": "display_data"
    },
    {
     "data": {
      "application/vnd.jupyter.widget-view+json": {
       "model_id": "739cfebdc92e4d9185390b9ad0af80ee",
       "version_major": 2,
       "version_minor": 0
      },
      "text/plain": [
       "Map:   0%|          | 0/30 [00:00<?, ? examples/s]"
      ]
     },
     "metadata": {},
     "output_type": "display_data"
    },
    {
     "data": {
      "application/vnd.jupyter.widget-view+json": {
       "model_id": "69c212e605f14f92a533e4a0be33f044",
       "version_major": 2,
       "version_minor": 0
      },
      "text/plain": [
       "Map:   0%|          | 0/8 [00:00<?, ? examples/s]"
      ]
     },
     "metadata": {},
     "output_type": "display_data"
    },
    {
     "data": {
      "application/vnd.jupyter.widget-view+json": {
       "model_id": "3bf7c988fc3a48878d470c1b99a35853",
       "version_major": 2,
       "version_minor": 0
      },
      "text/plain": [
       "Map:   0%|          | 0/31 [00:00<?, ? examples/s]"
      ]
     },
     "metadata": {},
     "output_type": "display_data"
    },
    {
     "data": {
      "application/vnd.jupyter.widget-view+json": {
       "model_id": "4805926e0d75453295d23fde67120c22",
       "version_major": 2,
       "version_minor": 0
      },
      "text/plain": [
       "Map:   0%|          | 0/7 [00:00<?, ? examples/s]"
      ]
     },
     "metadata": {},
     "output_type": "display_data"
    },
    {
     "data": {
      "application/vnd.jupyter.widget-view+json": {
       "model_id": "3def08a1ccfe48328b3e62100221e01f",
       "version_major": 2,
       "version_minor": 0
      },
      "text/plain": [
       "Map:   0%|          | 0/31 [00:00<?, ? examples/s]"
      ]
     },
     "metadata": {},
     "output_type": "display_data"
    },
    {
     "data": {
      "application/vnd.jupyter.widget-view+json": {
       "model_id": "cfdf944d56b34cbd822e0649a8ae6ac0",
       "version_major": 2,
       "version_minor": 0
      },
      "text/plain": [
       "Map:   0%|          | 0/7 [00:00<?, ? examples/s]"
      ]
     },
     "metadata": {},
     "output_type": "display_data"
    },
    {
     "name": "stdout",
     "output_type": "stream",
     "text": [
      "StratifiedKFold(n_splits=5, random_state=None, shuffle=False)\n"
     ]
    },
    {
     "data": {
      "application/vnd.jupyter.widget-view+json": {
       "model_id": "ce62561574524a948389e32b076130c2",
       "version_major": 2,
       "version_minor": 0
      },
      "text/plain": [
       "Map:   0%|          | 0/30 [00:00<?, ? examples/s]"
      ]
     },
     "metadata": {},
     "output_type": "display_data"
    },
    {
     "data": {
      "application/vnd.jupyter.widget-view+json": {
       "model_id": "482ffe7aa9c84ca5ae26dc7fec7a7160",
       "version_major": 2,
       "version_minor": 0
      },
      "text/plain": [
       "Map:   0%|          | 0/8 [00:00<?, ? examples/s]"
      ]
     },
     "metadata": {},
     "output_type": "display_data"
    },
    {
     "data": {
      "application/vnd.jupyter.widget-view+json": {
       "model_id": "94de7889ec404d64a0e6547bf60a72e6",
       "version_major": 2,
       "version_minor": 0
      },
      "text/plain": [
       "Map:   0%|          | 0/30 [00:00<?, ? examples/s]"
      ]
     },
     "metadata": {},
     "output_type": "display_data"
    },
    {
     "data": {
      "application/vnd.jupyter.widget-view+json": {
       "model_id": "add9cb910b0049678e1ad7d5efac9c25",
       "version_major": 2,
       "version_minor": 0
      },
      "text/plain": [
       "Map:   0%|          | 0/8 [00:00<?, ? examples/s]"
      ]
     },
     "metadata": {},
     "output_type": "display_data"
    },
    {
     "data": {
      "application/vnd.jupyter.widget-view+json": {
       "model_id": "b7ef249c163648688a0293d8f8322bcd",
       "version_major": 2,
       "version_minor": 0
      },
      "text/plain": [
       "Map:   0%|          | 0/30 [00:00<?, ? examples/s]"
      ]
     },
     "metadata": {},
     "output_type": "display_data"
    },
    {
     "data": {
      "application/vnd.jupyter.widget-view+json": {
       "model_id": "2c6f21f5feef4bf6ac9db5e8e456d3ee",
       "version_major": 2,
       "version_minor": 0
      },
      "text/plain": [
       "Map:   0%|          | 0/8 [00:00<?, ? examples/s]"
      ]
     },
     "metadata": {},
     "output_type": "display_data"
    },
    {
     "data": {
      "application/vnd.jupyter.widget-view+json": {
       "model_id": "73749551e81044af950cfba51432b357",
       "version_major": 2,
       "version_minor": 0
      },
      "text/plain": [
       "Map:   0%|          | 0/31 [00:00<?, ? examples/s]"
      ]
     },
     "metadata": {},
     "output_type": "display_data"
    },
    {
     "data": {
      "application/vnd.jupyter.widget-view+json": {
       "model_id": "7529c27571114c058b1fa95990b22661",
       "version_major": 2,
       "version_minor": 0
      },
      "text/plain": [
       "Map:   0%|          | 0/7 [00:00<?, ? examples/s]"
      ]
     },
     "metadata": {},
     "output_type": "display_data"
    },
    {
     "data": {
      "application/vnd.jupyter.widget-view+json": {
       "model_id": "8ad44ae0650c4af485e2fd3bb65c75fe",
       "version_major": 2,
       "version_minor": 0
      },
      "text/plain": [
       "Map:   0%|          | 0/31 [00:00<?, ? examples/s]"
      ]
     },
     "metadata": {},
     "output_type": "display_data"
    },
    {
     "data": {
      "application/vnd.jupyter.widget-view+json": {
       "model_id": "3fd9a94eab45420da0f85c8f78dae62e",
       "version_major": 2,
       "version_minor": 0
      },
      "text/plain": [
       "Map:   0%|          | 0/7 [00:00<?, ? examples/s]"
      ]
     },
     "metadata": {},
     "output_type": "display_data"
    },
    {
     "name": "stdout",
     "output_type": "stream",
     "text": [
      "StratifiedKFold(n_splits=5, random_state=None, shuffle=False)\n"
     ]
    },
    {
     "data": {
      "application/vnd.jupyter.widget-view+json": {
       "model_id": "9bc9074a8c114c9f9d2f69cf97639c96",
       "version_major": 2,
       "version_minor": 0
      },
      "text/plain": [
       "Map:   0%|          | 0/30 [00:00<?, ? examples/s]"
      ]
     },
     "metadata": {},
     "output_type": "display_data"
    },
    {
     "data": {
      "application/vnd.jupyter.widget-view+json": {
       "model_id": "0f603f49e41645b0806a844331cc3fda",
       "version_major": 2,
       "version_minor": 0
      },
      "text/plain": [
       "Map:   0%|          | 0/8 [00:00<?, ? examples/s]"
      ]
     },
     "metadata": {},
     "output_type": "display_data"
    },
    {
     "data": {
      "application/vnd.jupyter.widget-view+json": {
       "model_id": "1b7661679adb40f8b20e5f684c09db5a",
       "version_major": 2,
       "version_minor": 0
      },
      "text/plain": [
       "Map:   0%|          | 0/30 [00:00<?, ? examples/s]"
      ]
     },
     "metadata": {},
     "output_type": "display_data"
    },
    {
     "data": {
      "application/vnd.jupyter.widget-view+json": {
       "model_id": "d0a6953a43174d76bb969c5c95a31aeb",
       "version_major": 2,
       "version_minor": 0
      },
      "text/plain": [
       "Map:   0%|          | 0/8 [00:00<?, ? examples/s]"
      ]
     },
     "metadata": {},
     "output_type": "display_data"
    },
    {
     "data": {
      "application/vnd.jupyter.widget-view+json": {
       "model_id": "ac8861ca9cc74aeebf2fb0a2d0f68436",
       "version_major": 2,
       "version_minor": 0
      },
      "text/plain": [
       "Map:   0%|          | 0/30 [00:00<?, ? examples/s]"
      ]
     },
     "metadata": {},
     "output_type": "display_data"
    },
    {
     "data": {
      "application/vnd.jupyter.widget-view+json": {
       "model_id": "d234b187c5da42e6ab66e9bced16c661",
       "version_major": 2,
       "version_minor": 0
      },
      "text/plain": [
       "Map:   0%|          | 0/8 [00:00<?, ? examples/s]"
      ]
     },
     "metadata": {},
     "output_type": "display_data"
    },
    {
     "data": {
      "application/vnd.jupyter.widget-view+json": {
       "model_id": "272e2636e0fa40c097e80157fd718302",
       "version_major": 2,
       "version_minor": 0
      },
      "text/plain": [
       "Map:   0%|          | 0/31 [00:00<?, ? examples/s]"
      ]
     },
     "metadata": {},
     "output_type": "display_data"
    },
    {
     "data": {
      "application/vnd.jupyter.widget-view+json": {
       "model_id": "521b59c978d44170adb32f54650dc062",
       "version_major": 2,
       "version_minor": 0
      },
      "text/plain": [
       "Map:   0%|          | 0/7 [00:00<?, ? examples/s]"
      ]
     },
     "metadata": {},
     "output_type": "display_data"
    },
    {
     "data": {
      "application/vnd.jupyter.widget-view+json": {
       "model_id": "d7477cea561f44a8b0ec5c882c92e94f",
       "version_major": 2,
       "version_minor": 0
      },
      "text/plain": [
       "Map:   0%|          | 0/31 [00:00<?, ? examples/s]"
      ]
     },
     "metadata": {},
     "output_type": "display_data"
    },
    {
     "data": {
      "application/vnd.jupyter.widget-view+json": {
       "model_id": "1309276d33a14999b87b83ce1d6a32c7",
       "version_major": 2,
       "version_minor": 0
      },
      "text/plain": [
       "Map:   0%|          | 0/7 [00:00<?, ? examples/s]"
      ]
     },
     "metadata": {},
     "output_type": "display_data"
    },
    {
     "name": "stdout",
     "output_type": "stream",
     "text": [
      "StratifiedKFold(n_splits=5, random_state=None, shuffle=False)\n"
     ]
    },
    {
     "data": {
      "application/vnd.jupyter.widget-view+json": {
       "model_id": "61e3c7252487458bbf147d30bb718d9b",
       "version_major": 2,
       "version_minor": 0
      },
      "text/plain": [
       "Map:   0%|          | 0/30 [00:00<?, ? examples/s]"
      ]
     },
     "metadata": {},
     "output_type": "display_data"
    },
    {
     "data": {
      "application/vnd.jupyter.widget-view+json": {
       "model_id": "babc0649b06c4569bba0febb60c23b4e",
       "version_major": 2,
       "version_minor": 0
      },
      "text/plain": [
       "Map:   0%|          | 0/8 [00:00<?, ? examples/s]"
      ]
     },
     "metadata": {},
     "output_type": "display_data"
    },
    {
     "data": {
      "application/vnd.jupyter.widget-view+json": {
       "model_id": "be87174ced234769862f78d6c3fd42ba",
       "version_major": 2,
       "version_minor": 0
      },
      "text/plain": [
       "Map:   0%|          | 0/30 [00:00<?, ? examples/s]"
      ]
     },
     "metadata": {},
     "output_type": "display_data"
    },
    {
     "data": {
      "application/vnd.jupyter.widget-view+json": {
       "model_id": "21372aec6a5240e3ae568cb58ce98d96",
       "version_major": 2,
       "version_minor": 0
      },
      "text/plain": [
       "Map:   0%|          | 0/8 [00:00<?, ? examples/s]"
      ]
     },
     "metadata": {},
     "output_type": "display_data"
    },
    {
     "data": {
      "application/vnd.jupyter.widget-view+json": {
       "model_id": "37be258c80624121b08891062a722c1b",
       "version_major": 2,
       "version_minor": 0
      },
      "text/plain": [
       "Map:   0%|          | 0/30 [00:00<?, ? examples/s]"
      ]
     },
     "metadata": {},
     "output_type": "display_data"
    },
    {
     "data": {
      "application/vnd.jupyter.widget-view+json": {
       "model_id": "6c44ab9b95294c19a8cf7ca6a6a1161c",
       "version_major": 2,
       "version_minor": 0
      },
      "text/plain": [
       "Map:   0%|          | 0/8 [00:00<?, ? examples/s]"
      ]
     },
     "metadata": {},
     "output_type": "display_data"
    },
    {
     "data": {
      "application/vnd.jupyter.widget-view+json": {
       "model_id": "ba4178b057544f73a65144040fe6e055",
       "version_major": 2,
       "version_minor": 0
      },
      "text/plain": [
       "Map:   0%|          | 0/31 [00:00<?, ? examples/s]"
      ]
     },
     "metadata": {},
     "output_type": "display_data"
    },
    {
     "data": {
      "application/vnd.jupyter.widget-view+json": {
       "model_id": "cb9fd7f3d3264d74bfdde4ef34b9954f",
       "version_major": 2,
       "version_minor": 0
      },
      "text/plain": [
       "Map:   0%|          | 0/7 [00:00<?, ? examples/s]"
      ]
     },
     "metadata": {},
     "output_type": "display_data"
    },
    {
     "data": {
      "application/vnd.jupyter.widget-view+json": {
       "model_id": "f7097b0c7d83437892ca861b0a935892",
       "version_major": 2,
       "version_minor": 0
      },
      "text/plain": [
       "Map:   0%|          | 0/31 [00:00<?, ? examples/s]"
      ]
     },
     "metadata": {},
     "output_type": "display_data"
    },
    {
     "data": {
      "application/vnd.jupyter.widget-view+json": {
       "model_id": "cc6bc3d0e2cd4595b7f89fb9567f2b0f",
       "version_major": 2,
       "version_minor": 0
      },
      "text/plain": [
       "Map:   0%|          | 0/7 [00:00<?, ? examples/s]"
      ]
     },
     "metadata": {},
     "output_type": "display_data"
    },
    {
     "name": "stdout",
     "output_type": "stream",
     "text": [
      "StratifiedKFold(n_splits=5, random_state=None, shuffle=False)\n"
     ]
    },
    {
     "data": {
      "application/vnd.jupyter.widget-view+json": {
       "model_id": "04b86c4c895c4d8c870fbbfd857d11e7",
       "version_major": 2,
       "version_minor": 0
      },
      "text/plain": [
       "Map:   0%|          | 0/30 [00:00<?, ? examples/s]"
      ]
     },
     "metadata": {},
     "output_type": "display_data"
    },
    {
     "data": {
      "application/vnd.jupyter.widget-view+json": {
       "model_id": "f0f44ad1256b4367aac8749f58829afb",
       "version_major": 2,
       "version_minor": 0
      },
      "text/plain": [
       "Map:   0%|          | 0/8 [00:00<?, ? examples/s]"
      ]
     },
     "metadata": {},
     "output_type": "display_data"
    },
    {
     "data": {
      "application/vnd.jupyter.widget-view+json": {
       "model_id": "1bba07cd958749ce8a856aeafa8a7b32",
       "version_major": 2,
       "version_minor": 0
      },
      "text/plain": [
       "Map:   0%|          | 0/30 [00:00<?, ? examples/s]"
      ]
     },
     "metadata": {},
     "output_type": "display_data"
    },
    {
     "data": {
      "application/vnd.jupyter.widget-view+json": {
       "model_id": "b5b67b889f864bc4a24dc8cbc072bcf5",
       "version_major": 2,
       "version_minor": 0
      },
      "text/plain": [
       "Map:   0%|          | 0/8 [00:00<?, ? examples/s]"
      ]
     },
     "metadata": {},
     "output_type": "display_data"
    },
    {
     "data": {
      "application/vnd.jupyter.widget-view+json": {
       "model_id": "b8efba2425e44c55b092a81d489a983a",
       "version_major": 2,
       "version_minor": 0
      },
      "text/plain": [
       "Map:   0%|          | 0/30 [00:00<?, ? examples/s]"
      ]
     },
     "metadata": {},
     "output_type": "display_data"
    },
    {
     "data": {
      "application/vnd.jupyter.widget-view+json": {
       "model_id": "d9da45af6b724147b177c14db0121986",
       "version_major": 2,
       "version_minor": 0
      },
      "text/plain": [
       "Map:   0%|          | 0/8 [00:00<?, ? examples/s]"
      ]
     },
     "metadata": {},
     "output_type": "display_data"
    },
    {
     "data": {
      "application/vnd.jupyter.widget-view+json": {
       "model_id": "872585eff3524ae98c57326dcd2fe4c8",
       "version_major": 2,
       "version_minor": 0
      },
      "text/plain": [
       "Map:   0%|          | 0/31 [00:00<?, ? examples/s]"
      ]
     },
     "metadata": {},
     "output_type": "display_data"
    },
    {
     "data": {
      "application/vnd.jupyter.widget-view+json": {
       "model_id": "3d9ca8e33cdb4e67b8d94a2b3a7ec20f",
       "version_major": 2,
       "version_minor": 0
      },
      "text/plain": [
       "Map:   0%|          | 0/7 [00:00<?, ? examples/s]"
      ]
     },
     "metadata": {},
     "output_type": "display_data"
    },
    {
     "data": {
      "application/vnd.jupyter.widget-view+json": {
       "model_id": "6c17423e47be4e05bfe547ab3f95b139",
       "version_major": 2,
       "version_minor": 0
      },
      "text/plain": [
       "Map:   0%|          | 0/31 [00:00<?, ? examples/s]"
      ]
     },
     "metadata": {},
     "output_type": "display_data"
    },
    {
     "data": {
      "application/vnd.jupyter.widget-view+json": {
       "model_id": "b6ba587d7a5f4c289800c0cf6a73fcd4",
       "version_major": 2,
       "version_minor": 0
      },
      "text/plain": [
       "Map:   0%|          | 0/7 [00:00<?, ? examples/s]"
      ]
     },
     "metadata": {},
     "output_type": "display_data"
    },
    {
     "name": "stdout",
     "output_type": "stream",
     "text": [
      "StratifiedKFold(n_splits=5, random_state=None, shuffle=False)\n"
     ]
    },
    {
     "data": {
      "application/vnd.jupyter.widget-view+json": {
       "model_id": "5d4716a086c241649a2ac2442c4c4069",
       "version_major": 2,
       "version_minor": 0
      },
      "text/plain": [
       "Map:   0%|          | 0/30 [00:00<?, ? examples/s]"
      ]
     },
     "metadata": {},
     "output_type": "display_data"
    },
    {
     "data": {
      "application/vnd.jupyter.widget-view+json": {
       "model_id": "d769c84bfaf24f2681f0a626a5951802",
       "version_major": 2,
       "version_minor": 0
      },
      "text/plain": [
       "Map:   0%|          | 0/8 [00:00<?, ? examples/s]"
      ]
     },
     "metadata": {},
     "output_type": "display_data"
    },
    {
     "data": {
      "application/vnd.jupyter.widget-view+json": {
       "model_id": "d48bb65a82b9486699375c604df04573",
       "version_major": 2,
       "version_minor": 0
      },
      "text/plain": [
       "Map:   0%|          | 0/30 [00:00<?, ? examples/s]"
      ]
     },
     "metadata": {},
     "output_type": "display_data"
    },
    {
     "data": {
      "application/vnd.jupyter.widget-view+json": {
       "model_id": "af9edba014654b97bd95845a4e3ed03c",
       "version_major": 2,
       "version_minor": 0
      },
      "text/plain": [
       "Map:   0%|          | 0/8 [00:00<?, ? examples/s]"
      ]
     },
     "metadata": {},
     "output_type": "display_data"
    },
    {
     "data": {
      "application/vnd.jupyter.widget-view+json": {
       "model_id": "7be07e4619b24694bdbcb2ea8c888ec1",
       "version_major": 2,
       "version_minor": 0
      },
      "text/plain": [
       "Map:   0%|          | 0/30 [00:00<?, ? examples/s]"
      ]
     },
     "metadata": {},
     "output_type": "display_data"
    },
    {
     "data": {
      "application/vnd.jupyter.widget-view+json": {
       "model_id": "a4f03c4ba6b1450fb38d46e7de32de3d",
       "version_major": 2,
       "version_minor": 0
      },
      "text/plain": [
       "Map:   0%|          | 0/8 [00:00<?, ? examples/s]"
      ]
     },
     "metadata": {},
     "output_type": "display_data"
    },
    {
     "data": {
      "application/vnd.jupyter.widget-view+json": {
       "model_id": "94f60d2ce6ae4dbba770427cd4c37c31",
       "version_major": 2,
       "version_minor": 0
      },
      "text/plain": [
       "Map:   0%|          | 0/31 [00:00<?, ? examples/s]"
      ]
     },
     "metadata": {},
     "output_type": "display_data"
    },
    {
     "data": {
      "application/vnd.jupyter.widget-view+json": {
       "model_id": "8d923ca50cc64af7a73c1b7e85649bed",
       "version_major": 2,
       "version_minor": 0
      },
      "text/plain": [
       "Map:   0%|          | 0/7 [00:00<?, ? examples/s]"
      ]
     },
     "metadata": {},
     "output_type": "display_data"
    },
    {
     "data": {
      "application/vnd.jupyter.widget-view+json": {
       "model_id": "8e58112f066b4f8ea9da75077500fc23",
       "version_major": 2,
       "version_minor": 0
      },
      "text/plain": [
       "Map:   0%|          | 0/31 [00:00<?, ? examples/s]"
      ]
     },
     "metadata": {},
     "output_type": "display_data"
    },
    {
     "data": {
      "application/vnd.jupyter.widget-view+json": {
       "model_id": "7923f00f29134298b8b1563e6930997f",
       "version_major": 2,
       "version_minor": 0
      },
      "text/plain": [
       "Map:   0%|          | 0/7 [00:00<?, ? examples/s]"
      ]
     },
     "metadata": {},
     "output_type": "display_data"
    },
    {
     "name": "stdout",
     "output_type": "stream",
     "text": [
      "StratifiedKFold(n_splits=5, random_state=None, shuffle=False)\n"
     ]
    },
    {
     "data": {
      "application/vnd.jupyter.widget-view+json": {
       "model_id": "9fcaa43687574d3baee2f994b431f674",
       "version_major": 2,
       "version_minor": 0
      },
      "text/plain": [
       "Map:   0%|          | 0/30 [00:00<?, ? examples/s]"
      ]
     },
     "metadata": {},
     "output_type": "display_data"
    },
    {
     "data": {
      "application/vnd.jupyter.widget-view+json": {
       "model_id": "35c7a8f7b26e43d7ac797b88fab0b6bb",
       "version_major": 2,
       "version_minor": 0
      },
      "text/plain": [
       "Map:   0%|          | 0/8 [00:00<?, ? examples/s]"
      ]
     },
     "metadata": {},
     "output_type": "display_data"
    },
    {
     "data": {
      "application/vnd.jupyter.widget-view+json": {
       "model_id": "d122b80517e14313bcd078f2d4715185",
       "version_major": 2,
       "version_minor": 0
      },
      "text/plain": [
       "Map:   0%|          | 0/30 [00:00<?, ? examples/s]"
      ]
     },
     "metadata": {},
     "output_type": "display_data"
    },
    {
     "data": {
      "application/vnd.jupyter.widget-view+json": {
       "model_id": "0ae220cded8849108d99df8c8871683b",
       "version_major": 2,
       "version_minor": 0
      },
      "text/plain": [
       "Map:   0%|          | 0/8 [00:00<?, ? examples/s]"
      ]
     },
     "metadata": {},
     "output_type": "display_data"
    },
    {
     "data": {
      "application/vnd.jupyter.widget-view+json": {
       "model_id": "b5fe16e6e3a74bc7bd3e32a5f00ead6c",
       "version_major": 2,
       "version_minor": 0
      },
      "text/plain": [
       "Map:   0%|          | 0/30 [00:00<?, ? examples/s]"
      ]
     },
     "metadata": {},
     "output_type": "display_data"
    },
    {
     "data": {
      "application/vnd.jupyter.widget-view+json": {
       "model_id": "9e75168d8f2147088b3aee74aa0a9a1b",
       "version_major": 2,
       "version_minor": 0
      },
      "text/plain": [
       "Map:   0%|          | 0/8 [00:00<?, ? examples/s]"
      ]
     },
     "metadata": {},
     "output_type": "display_data"
    },
    {
     "data": {
      "application/vnd.jupyter.widget-view+json": {
       "model_id": "78d3038209af4ffc962e306c6ffba1b6",
       "version_major": 2,
       "version_minor": 0
      },
      "text/plain": [
       "Map:   0%|          | 0/31 [00:00<?, ? examples/s]"
      ]
     },
     "metadata": {},
     "output_type": "display_data"
    },
    {
     "data": {
      "application/vnd.jupyter.widget-view+json": {
       "model_id": "f43a3250e15f41bdac8e02d7bc868141",
       "version_major": 2,
       "version_minor": 0
      },
      "text/plain": [
       "Map:   0%|          | 0/7 [00:00<?, ? examples/s]"
      ]
     },
     "metadata": {},
     "output_type": "display_data"
    },
    {
     "data": {
      "application/vnd.jupyter.widget-view+json": {
       "model_id": "0d7c710ef96743c0b79f37fc24ca5c81",
       "version_major": 2,
       "version_minor": 0
      },
      "text/plain": [
       "Map:   0%|          | 0/31 [00:00<?, ? examples/s]"
      ]
     },
     "metadata": {},
     "output_type": "display_data"
    },
    {
     "data": {
      "application/vnd.jupyter.widget-view+json": {
       "model_id": "a2cd5761409e49468c664e9c5c037388",
       "version_major": 2,
       "version_minor": 0
      },
      "text/plain": [
       "Map:   0%|          | 0/7 [00:00<?, ? examples/s]"
      ]
     },
     "metadata": {},
     "output_type": "display_data"
    },
    {
     "name": "stdout",
     "output_type": "stream",
     "text": [
      "StratifiedKFold(n_splits=5, random_state=None, shuffle=False)\n"
     ]
    },
    {
     "data": {
      "application/vnd.jupyter.widget-view+json": {
       "model_id": "d31c0b7d37d647dca18dcf9a46142574",
       "version_major": 2,
       "version_minor": 0
      },
      "text/plain": [
       "Map:   0%|          | 0/30 [00:00<?, ? examples/s]"
      ]
     },
     "metadata": {},
     "output_type": "display_data"
    },
    {
     "data": {
      "application/vnd.jupyter.widget-view+json": {
       "model_id": "422f4f96f44f4793a3e7fd210182cd42",
       "version_major": 2,
       "version_minor": 0
      },
      "text/plain": [
       "Map:   0%|          | 0/8 [00:00<?, ? examples/s]"
      ]
     },
     "metadata": {},
     "output_type": "display_data"
    },
    {
     "data": {
      "application/vnd.jupyter.widget-view+json": {
       "model_id": "e0f6a01db9584c149669a6ef01526f03",
       "version_major": 2,
       "version_minor": 0
      },
      "text/plain": [
       "Map:   0%|          | 0/30 [00:00<?, ? examples/s]"
      ]
     },
     "metadata": {},
     "output_type": "display_data"
    },
    {
     "data": {
      "application/vnd.jupyter.widget-view+json": {
       "model_id": "eeefc017e77744959b2f3c8be7528368",
       "version_major": 2,
       "version_minor": 0
      },
      "text/plain": [
       "Map:   0%|          | 0/8 [00:00<?, ? examples/s]"
      ]
     },
     "metadata": {},
     "output_type": "display_data"
    },
    {
     "data": {
      "application/vnd.jupyter.widget-view+json": {
       "model_id": "3b6bc6e4164548cf80ee5ac7e8184204",
       "version_major": 2,
       "version_minor": 0
      },
      "text/plain": [
       "Map:   0%|          | 0/30 [00:00<?, ? examples/s]"
      ]
     },
     "metadata": {},
     "output_type": "display_data"
    },
    {
     "data": {
      "application/vnd.jupyter.widget-view+json": {
       "model_id": "4308dd5aa8a44ac7b0bd973511485534",
       "version_major": 2,
       "version_minor": 0
      },
      "text/plain": [
       "Map:   0%|          | 0/8 [00:00<?, ? examples/s]"
      ]
     },
     "metadata": {},
     "output_type": "display_data"
    },
    {
     "data": {
      "application/vnd.jupyter.widget-view+json": {
       "model_id": "2ca5b1633436466ca0ae2eddb95801ac",
       "version_major": 2,
       "version_minor": 0
      },
      "text/plain": [
       "Map:   0%|          | 0/31 [00:00<?, ? examples/s]"
      ]
     },
     "metadata": {},
     "output_type": "display_data"
    },
    {
     "data": {
      "application/vnd.jupyter.widget-view+json": {
       "model_id": "332b27f570c74470b1cecd6e935d887d",
       "version_major": 2,
       "version_minor": 0
      },
      "text/plain": [
       "Map:   0%|          | 0/7 [00:00<?, ? examples/s]"
      ]
     },
     "metadata": {},
     "output_type": "display_data"
    },
    {
     "data": {
      "application/vnd.jupyter.widget-view+json": {
       "model_id": "52591fb68048497f939027d38c47c113",
       "version_major": 2,
       "version_minor": 0
      },
      "text/plain": [
       "Map:   0%|          | 0/31 [00:00<?, ? examples/s]"
      ]
     },
     "metadata": {},
     "output_type": "display_data"
    },
    {
     "data": {
      "application/vnd.jupyter.widget-view+json": {
       "model_id": "ae822ecc03a548a0b769a694d7c07124",
       "version_major": 2,
       "version_minor": 0
      },
      "text/plain": [
       "Map:   0%|          | 0/7 [00:00<?, ? examples/s]"
      ]
     },
     "metadata": {},
     "output_type": "display_data"
    },
    {
     "name": "stdout",
     "output_type": "stream",
     "text": [
      "StratifiedKFold(n_splits=5, random_state=None, shuffle=False)\n"
     ]
    },
    {
     "data": {
      "application/vnd.jupyter.widget-view+json": {
       "model_id": "b0c9b234eb4f4b989fbac6e8a10813a4",
       "version_major": 2,
       "version_minor": 0
      },
      "text/plain": [
       "Map:   0%|          | 0/30 [00:00<?, ? examples/s]"
      ]
     },
     "metadata": {},
     "output_type": "display_data"
    },
    {
     "data": {
      "application/vnd.jupyter.widget-view+json": {
       "model_id": "c455f36318d741abaa8dde87ae04c199",
       "version_major": 2,
       "version_minor": 0
      },
      "text/plain": [
       "Map:   0%|          | 0/8 [00:00<?, ? examples/s]"
      ]
     },
     "metadata": {},
     "output_type": "display_data"
    },
    {
     "data": {
      "application/vnd.jupyter.widget-view+json": {
       "model_id": "19ed57af22b04112948cf698470f9d2c",
       "version_major": 2,
       "version_minor": 0
      },
      "text/plain": [
       "Map:   0%|          | 0/30 [00:00<?, ? examples/s]"
      ]
     },
     "metadata": {},
     "output_type": "display_data"
    },
    {
     "data": {
      "application/vnd.jupyter.widget-view+json": {
       "model_id": "580a1e662e394706842e1d8361c94886",
       "version_major": 2,
       "version_minor": 0
      },
      "text/plain": [
       "Map:   0%|          | 0/8 [00:00<?, ? examples/s]"
      ]
     },
     "metadata": {},
     "output_type": "display_data"
    },
    {
     "data": {
      "application/vnd.jupyter.widget-view+json": {
       "model_id": "675b577243d349bfbfb0754471c097e2",
       "version_major": 2,
       "version_minor": 0
      },
      "text/plain": [
       "Map:   0%|          | 0/30 [00:00<?, ? examples/s]"
      ]
     },
     "metadata": {},
     "output_type": "display_data"
    },
    {
     "data": {
      "application/vnd.jupyter.widget-view+json": {
       "model_id": "bf18fa1b64de44cf8a5429979a133282",
       "version_major": 2,
       "version_minor": 0
      },
      "text/plain": [
       "Map:   0%|          | 0/8 [00:00<?, ? examples/s]"
      ]
     },
     "metadata": {},
     "output_type": "display_data"
    },
    {
     "data": {
      "application/vnd.jupyter.widget-view+json": {
       "model_id": "de1095c4fd18495b934d63bc2f788458",
       "version_major": 2,
       "version_minor": 0
      },
      "text/plain": [
       "Map:   0%|          | 0/31 [00:00<?, ? examples/s]"
      ]
     },
     "metadata": {},
     "output_type": "display_data"
    },
    {
     "data": {
      "application/vnd.jupyter.widget-view+json": {
       "model_id": "1da6ecaf93ec4139998c257cbcde9c30",
       "version_major": 2,
       "version_minor": 0
      },
      "text/plain": [
       "Map:   0%|          | 0/7 [00:00<?, ? examples/s]"
      ]
     },
     "metadata": {},
     "output_type": "display_data"
    },
    {
     "data": {
      "application/vnd.jupyter.widget-view+json": {
       "model_id": "ffdb50ac9e5e4d01ab8dd5ca33a362e6",
       "version_major": 2,
       "version_minor": 0
      },
      "text/plain": [
       "Map:   0%|          | 0/31 [00:00<?, ? examples/s]"
      ]
     },
     "metadata": {},
     "output_type": "display_data"
    },
    {
     "data": {
      "application/vnd.jupyter.widget-view+json": {
       "model_id": "a4c94aba1dca460683d2e8079c5b8128",
       "version_major": 2,
       "version_minor": 0
      },
      "text/plain": [
       "Map:   0%|          | 0/7 [00:00<?, ? examples/s]"
      ]
     },
     "metadata": {},
     "output_type": "display_data"
    },
    {
     "name": "stdout",
     "output_type": "stream",
     "text": [
      "StratifiedKFold(n_splits=5, random_state=None, shuffle=False)\n"
     ]
    },
    {
     "data": {
      "application/vnd.jupyter.widget-view+json": {
       "model_id": "d059478dca02408184f75baa27996830",
       "version_major": 2,
       "version_minor": 0
      },
      "text/plain": [
       "Map:   0%|          | 0/30 [00:00<?, ? examples/s]"
      ]
     },
     "metadata": {},
     "output_type": "display_data"
    },
    {
     "data": {
      "application/vnd.jupyter.widget-view+json": {
       "model_id": "7e517db1e409417eae3c852dc026d388",
       "version_major": 2,
       "version_minor": 0
      },
      "text/plain": [
       "Map:   0%|          | 0/8 [00:00<?, ? examples/s]"
      ]
     },
     "metadata": {},
     "output_type": "display_data"
    },
    {
     "data": {
      "application/vnd.jupyter.widget-view+json": {
       "model_id": "62238644260a46bea658ef9e96005702",
       "version_major": 2,
       "version_minor": 0
      },
      "text/plain": [
       "Map:   0%|          | 0/30 [00:00<?, ? examples/s]"
      ]
     },
     "metadata": {},
     "output_type": "display_data"
    },
    {
     "data": {
      "application/vnd.jupyter.widget-view+json": {
       "model_id": "85814a78501342bab47fb23f9745aeae",
       "version_major": 2,
       "version_minor": 0
      },
      "text/plain": [
       "Map:   0%|          | 0/8 [00:00<?, ? examples/s]"
      ]
     },
     "metadata": {},
     "output_type": "display_data"
    },
    {
     "data": {
      "application/vnd.jupyter.widget-view+json": {
       "model_id": "c535de5927b94e96993a8a92d0d2cd13",
       "version_major": 2,
       "version_minor": 0
      },
      "text/plain": [
       "Map:   0%|          | 0/30 [00:00<?, ? examples/s]"
      ]
     },
     "metadata": {},
     "output_type": "display_data"
    },
    {
     "data": {
      "application/vnd.jupyter.widget-view+json": {
       "model_id": "30f0618ff613471caf21f47e75872e6c",
       "version_major": 2,
       "version_minor": 0
      },
      "text/plain": [
       "Map:   0%|          | 0/8 [00:00<?, ? examples/s]"
      ]
     },
     "metadata": {},
     "output_type": "display_data"
    },
    {
     "data": {
      "application/vnd.jupyter.widget-view+json": {
       "model_id": "603d293a449c4958b804bd54908dfb65",
       "version_major": 2,
       "version_minor": 0
      },
      "text/plain": [
       "Map:   0%|          | 0/31 [00:00<?, ? examples/s]"
      ]
     },
     "metadata": {},
     "output_type": "display_data"
    },
    {
     "data": {
      "application/vnd.jupyter.widget-view+json": {
       "model_id": "10d3552a538c4045ab5d515c0819674b",
       "version_major": 2,
       "version_minor": 0
      },
      "text/plain": [
       "Map:   0%|          | 0/7 [00:00<?, ? examples/s]"
      ]
     },
     "metadata": {},
     "output_type": "display_data"
    },
    {
     "data": {
      "application/vnd.jupyter.widget-view+json": {
       "model_id": "715d26db91024f3d93eb91686a7644f5",
       "version_major": 2,
       "version_minor": 0
      },
      "text/plain": [
       "Map:   0%|          | 0/31 [00:00<?, ? examples/s]"
      ]
     },
     "metadata": {},
     "output_type": "display_data"
    },
    {
     "data": {
      "application/vnd.jupyter.widget-view+json": {
       "model_id": "c3d59dbbf08b4310aac4e1b937160f65",
       "version_major": 2,
       "version_minor": 0
      },
      "text/plain": [
       "Map:   0%|          | 0/7 [00:00<?, ? examples/s]"
      ]
     },
     "metadata": {},
     "output_type": "display_data"
    },
    {
     "name": "stdout",
     "output_type": "stream",
     "text": [
      "StratifiedKFold(n_splits=5, random_state=None, shuffle=False)\n"
     ]
    },
    {
     "data": {
      "application/vnd.jupyter.widget-view+json": {
       "model_id": "b280106c818340e6afc87c7a5993ad01",
       "version_major": 2,
       "version_minor": 0
      },
      "text/plain": [
       "Map:   0%|          | 0/30 [00:00<?, ? examples/s]"
      ]
     },
     "metadata": {},
     "output_type": "display_data"
    },
    {
     "data": {
      "application/vnd.jupyter.widget-view+json": {
       "model_id": "7aa60c3b932f4e7fabda766476566c30",
       "version_major": 2,
       "version_minor": 0
      },
      "text/plain": [
       "Map:   0%|          | 0/8 [00:00<?, ? examples/s]"
      ]
     },
     "metadata": {},
     "output_type": "display_data"
    },
    {
     "data": {
      "application/vnd.jupyter.widget-view+json": {
       "model_id": "5aadce87c754442ba5b8f7916c45226a",
       "version_major": 2,
       "version_minor": 0
      },
      "text/plain": [
       "Map:   0%|          | 0/30 [00:00<?, ? examples/s]"
      ]
     },
     "metadata": {},
     "output_type": "display_data"
    },
    {
     "data": {
      "application/vnd.jupyter.widget-view+json": {
       "model_id": "490095aeaa304b73adf429029fe48efb",
       "version_major": 2,
       "version_minor": 0
      },
      "text/plain": [
       "Map:   0%|          | 0/8 [00:00<?, ? examples/s]"
      ]
     },
     "metadata": {},
     "output_type": "display_data"
    },
    {
     "data": {
      "application/vnd.jupyter.widget-view+json": {
       "model_id": "73143ff5fb594463a3e2e0063956940c",
       "version_major": 2,
       "version_minor": 0
      },
      "text/plain": [
       "Map:   0%|          | 0/30 [00:00<?, ? examples/s]"
      ]
     },
     "metadata": {},
     "output_type": "display_data"
    },
    {
     "data": {
      "application/vnd.jupyter.widget-view+json": {
       "model_id": "49ffb801450c4801a3aa8bc83a46297e",
       "version_major": 2,
       "version_minor": 0
      },
      "text/plain": [
       "Map:   0%|          | 0/8 [00:00<?, ? examples/s]"
      ]
     },
     "metadata": {},
     "output_type": "display_data"
    },
    {
     "data": {
      "application/vnd.jupyter.widget-view+json": {
       "model_id": "be461c39586c43d3b25824308c970891",
       "version_major": 2,
       "version_minor": 0
      },
      "text/plain": [
       "Map:   0%|          | 0/31 [00:00<?, ? examples/s]"
      ]
     },
     "metadata": {},
     "output_type": "display_data"
    },
    {
     "data": {
      "application/vnd.jupyter.widget-view+json": {
       "model_id": "75f9c88b9bb440c1a7ba74570ee3b7cc",
       "version_major": 2,
       "version_minor": 0
      },
      "text/plain": [
       "Map:   0%|          | 0/7 [00:00<?, ? examples/s]"
      ]
     },
     "metadata": {},
     "output_type": "display_data"
    },
    {
     "data": {
      "application/vnd.jupyter.widget-view+json": {
       "model_id": "b20b14e9a8964ed99fde5ea5035d6561",
       "version_major": 2,
       "version_minor": 0
      },
      "text/plain": [
       "Map:   0%|          | 0/31 [00:00<?, ? examples/s]"
      ]
     },
     "metadata": {},
     "output_type": "display_data"
    },
    {
     "data": {
      "application/vnd.jupyter.widget-view+json": {
       "model_id": "dcfae06a7ecb4f1988512f51998ef0ea",
       "version_major": 2,
       "version_minor": 0
      },
      "text/plain": [
       "Map:   0%|          | 0/7 [00:00<?, ? examples/s]"
      ]
     },
     "metadata": {},
     "output_type": "display_data"
    },
    {
     "name": "stdout",
     "output_type": "stream",
     "text": [
      "StratifiedKFold(n_splits=5, random_state=None, shuffle=False)\n"
     ]
    },
    {
     "data": {
      "application/vnd.jupyter.widget-view+json": {
       "model_id": "4cebb010add942a3b2002e5287134443",
       "version_major": 2,
       "version_minor": 0
      },
      "text/plain": [
       "Map:   0%|          | 0/30 [00:00<?, ? examples/s]"
      ]
     },
     "metadata": {},
     "output_type": "display_data"
    },
    {
     "data": {
      "application/vnd.jupyter.widget-view+json": {
       "model_id": "4695dcf81fd6474285559d8bd7bd05a8",
       "version_major": 2,
       "version_minor": 0
      },
      "text/plain": [
       "Map:   0%|          | 0/8 [00:00<?, ? examples/s]"
      ]
     },
     "metadata": {},
     "output_type": "display_data"
    },
    {
     "data": {
      "application/vnd.jupyter.widget-view+json": {
       "model_id": "3bd376c0b76447b0af5e681c16ae8f0c",
       "version_major": 2,
       "version_minor": 0
      },
      "text/plain": [
       "Map:   0%|          | 0/30 [00:00<?, ? examples/s]"
      ]
     },
     "metadata": {},
     "output_type": "display_data"
    },
    {
     "data": {
      "application/vnd.jupyter.widget-view+json": {
       "model_id": "f3bba93cbeac474799c99d9ac9528fcb",
       "version_major": 2,
       "version_minor": 0
      },
      "text/plain": [
       "Map:   0%|          | 0/8 [00:00<?, ? examples/s]"
      ]
     },
     "metadata": {},
     "output_type": "display_data"
    },
    {
     "data": {
      "application/vnd.jupyter.widget-view+json": {
       "model_id": "461bd1041958407c96f4a8456269bcf4",
       "version_major": 2,
       "version_minor": 0
      },
      "text/plain": [
       "Map:   0%|          | 0/30 [00:00<?, ? examples/s]"
      ]
     },
     "metadata": {},
     "output_type": "display_data"
    },
    {
     "data": {
      "application/vnd.jupyter.widget-view+json": {
       "model_id": "750c5e774c8948ba9d73ba4c2e1d9d73",
       "version_major": 2,
       "version_minor": 0
      },
      "text/plain": [
       "Map:   0%|          | 0/8 [00:00<?, ? examples/s]"
      ]
     },
     "metadata": {},
     "output_type": "display_data"
    },
    {
     "data": {
      "application/vnd.jupyter.widget-view+json": {
       "model_id": "e5095b3679e44b05ae015f30bfe0069e",
       "version_major": 2,
       "version_minor": 0
      },
      "text/plain": [
       "Map:   0%|          | 0/31 [00:00<?, ? examples/s]"
      ]
     },
     "metadata": {},
     "output_type": "display_data"
    },
    {
     "data": {
      "application/vnd.jupyter.widget-view+json": {
       "model_id": "339c9847fc944b0c8f7f5c76366e435a",
       "version_major": 2,
       "version_minor": 0
      },
      "text/plain": [
       "Map:   0%|          | 0/7 [00:00<?, ? examples/s]"
      ]
     },
     "metadata": {},
     "output_type": "display_data"
    },
    {
     "data": {
      "application/vnd.jupyter.widget-view+json": {
       "model_id": "25d970a78ec6449cb09af5c2e5e1c3d3",
       "version_major": 2,
       "version_minor": 0
      },
      "text/plain": [
       "Map:   0%|          | 0/31 [00:00<?, ? examples/s]"
      ]
     },
     "metadata": {},
     "output_type": "display_data"
    },
    {
     "data": {
      "application/vnd.jupyter.widget-view+json": {
       "model_id": "d89666298ba648ec99f2378b59f45748",
       "version_major": 2,
       "version_minor": 0
      },
      "text/plain": [
       "Map:   0%|          | 0/7 [00:00<?, ? examples/s]"
      ]
     },
     "metadata": {},
     "output_type": "display_data"
    },
    {
     "name": "stdout",
     "output_type": "stream",
     "text": [
      "StratifiedKFold(n_splits=5, random_state=None, shuffle=False)\n"
     ]
    },
    {
     "data": {
      "application/vnd.jupyter.widget-view+json": {
       "model_id": "8a46f35fdc974464b2ebab323f9be3e5",
       "version_major": 2,
       "version_minor": 0
      },
      "text/plain": [
       "Map:   0%|          | 0/30 [00:00<?, ? examples/s]"
      ]
     },
     "metadata": {},
     "output_type": "display_data"
    },
    {
     "data": {
      "application/vnd.jupyter.widget-view+json": {
       "model_id": "461022bc2d474622be92b12035e24443",
       "version_major": 2,
       "version_minor": 0
      },
      "text/plain": [
       "Map:   0%|          | 0/8 [00:00<?, ? examples/s]"
      ]
     },
     "metadata": {},
     "output_type": "display_data"
    },
    {
     "data": {
      "application/vnd.jupyter.widget-view+json": {
       "model_id": "53fcc86d376f4c01958bd089ae56146b",
       "version_major": 2,
       "version_minor": 0
      },
      "text/plain": [
       "Map:   0%|          | 0/30 [00:00<?, ? examples/s]"
      ]
     },
     "metadata": {},
     "output_type": "display_data"
    },
    {
     "data": {
      "application/vnd.jupyter.widget-view+json": {
       "model_id": "74a1feb3c50f403f903bca3e89b0a133",
       "version_major": 2,
       "version_minor": 0
      },
      "text/plain": [
       "Map:   0%|          | 0/8 [00:00<?, ? examples/s]"
      ]
     },
     "metadata": {},
     "output_type": "display_data"
    },
    {
     "data": {
      "application/vnd.jupyter.widget-view+json": {
       "model_id": "3db001d6946a47119afdb69bcd77b141",
       "version_major": 2,
       "version_minor": 0
      },
      "text/plain": [
       "Map:   0%|          | 0/30 [00:00<?, ? examples/s]"
      ]
     },
     "metadata": {},
     "output_type": "display_data"
    },
    {
     "data": {
      "application/vnd.jupyter.widget-view+json": {
       "model_id": "c17b6ea5d6114d3cb96160de3fbdb3da",
       "version_major": 2,
       "version_minor": 0
      },
      "text/plain": [
       "Map:   0%|          | 0/8 [00:00<?, ? examples/s]"
      ]
     },
     "metadata": {},
     "output_type": "display_data"
    },
    {
     "data": {
      "application/vnd.jupyter.widget-view+json": {
       "model_id": "bd0301df1aac4203942b05718c590722",
       "version_major": 2,
       "version_minor": 0
      },
      "text/plain": [
       "Map:   0%|          | 0/31 [00:00<?, ? examples/s]"
      ]
     },
     "metadata": {},
     "output_type": "display_data"
    },
    {
     "data": {
      "application/vnd.jupyter.widget-view+json": {
       "model_id": "18cd33d5028c432fbc117e0122785f2e",
       "version_major": 2,
       "version_minor": 0
      },
      "text/plain": [
       "Map:   0%|          | 0/7 [00:00<?, ? examples/s]"
      ]
     },
     "metadata": {},
     "output_type": "display_data"
    },
    {
     "data": {
      "application/vnd.jupyter.widget-view+json": {
       "model_id": "5412fbf6a6db480c95072a17bf42798b",
       "version_major": 2,
       "version_minor": 0
      },
      "text/plain": [
       "Map:   0%|          | 0/31 [00:00<?, ? examples/s]"
      ]
     },
     "metadata": {},
     "output_type": "display_data"
    },
    {
     "data": {
      "application/vnd.jupyter.widget-view+json": {
       "model_id": "5624e85ef46948ad948952ccd0b53c32",
       "version_major": 2,
       "version_minor": 0
      },
      "text/plain": [
       "Map:   0%|          | 0/7 [00:00<?, ? examples/s]"
      ]
     },
     "metadata": {},
     "output_type": "display_data"
    },
    {
     "name": "stdout",
     "output_type": "stream",
     "text": [
      "StratifiedKFold(n_splits=5, random_state=None, shuffle=False)\n"
     ]
    },
    {
     "data": {
      "application/vnd.jupyter.widget-view+json": {
       "model_id": "e03b79d66afd4443801cb7adcf8b32e7",
       "version_major": 2,
       "version_minor": 0
      },
      "text/plain": [
       "Map:   0%|          | 0/30 [00:00<?, ? examples/s]"
      ]
     },
     "metadata": {},
     "output_type": "display_data"
    },
    {
     "data": {
      "application/vnd.jupyter.widget-view+json": {
       "model_id": "fe85b40282104ae78fa2408a23f19ba7",
       "version_major": 2,
       "version_minor": 0
      },
      "text/plain": [
       "Map:   0%|          | 0/8 [00:00<?, ? examples/s]"
      ]
     },
     "metadata": {},
     "output_type": "display_data"
    },
    {
     "data": {
      "application/vnd.jupyter.widget-view+json": {
       "model_id": "46cc87e1ab2e4095abfccde365e390ac",
       "version_major": 2,
       "version_minor": 0
      },
      "text/plain": [
       "Map:   0%|          | 0/30 [00:00<?, ? examples/s]"
      ]
     },
     "metadata": {},
     "output_type": "display_data"
    },
    {
     "data": {
      "application/vnd.jupyter.widget-view+json": {
       "model_id": "e248c46603b947c4a6702a14b3ed0e72",
       "version_major": 2,
       "version_minor": 0
      },
      "text/plain": [
       "Map:   0%|          | 0/8 [00:00<?, ? examples/s]"
      ]
     },
     "metadata": {},
     "output_type": "display_data"
    },
    {
     "data": {
      "application/vnd.jupyter.widget-view+json": {
       "model_id": "72bc1f65153d42c38a2294d0ad54a64a",
       "version_major": 2,
       "version_minor": 0
      },
      "text/plain": [
       "Map:   0%|          | 0/30 [00:00<?, ? examples/s]"
      ]
     },
     "metadata": {},
     "output_type": "display_data"
    },
    {
     "data": {
      "application/vnd.jupyter.widget-view+json": {
       "model_id": "ab7a62b44d51434aaa6772f9cf7fe79e",
       "version_major": 2,
       "version_minor": 0
      },
      "text/plain": [
       "Map:   0%|          | 0/8 [00:00<?, ? examples/s]"
      ]
     },
     "metadata": {},
     "output_type": "display_data"
    },
    {
     "data": {
      "application/vnd.jupyter.widget-view+json": {
       "model_id": "762c593d17b2418eb148b27001f793f7",
       "version_major": 2,
       "version_minor": 0
      },
      "text/plain": [
       "Map:   0%|          | 0/31 [00:00<?, ? examples/s]"
      ]
     },
     "metadata": {},
     "output_type": "display_data"
    },
    {
     "data": {
      "application/vnd.jupyter.widget-view+json": {
       "model_id": "88d1cbede1a3491ba61d2e0bd525501b",
       "version_major": 2,
       "version_minor": 0
      },
      "text/plain": [
       "Map:   0%|          | 0/7 [00:00<?, ? examples/s]"
      ]
     },
     "metadata": {},
     "output_type": "display_data"
    },
    {
     "data": {
      "application/vnd.jupyter.widget-view+json": {
       "model_id": "9d611a23cf4048b896bc56c975178ac6",
       "version_major": 2,
       "version_minor": 0
      },
      "text/plain": [
       "Map:   0%|          | 0/31 [00:00<?, ? examples/s]"
      ]
     },
     "metadata": {},
     "output_type": "display_data"
    },
    {
     "data": {
      "application/vnd.jupyter.widget-view+json": {
       "model_id": "e79b84cafaa8402ca97816e7d98833a2",
       "version_major": 2,
       "version_minor": 0
      },
      "text/plain": [
       "Map:   0%|          | 0/7 [00:00<?, ? examples/s]"
      ]
     },
     "metadata": {},
     "output_type": "display_data"
    },
    {
     "name": "stdout",
     "output_type": "stream",
     "text": [
      "StratifiedKFold(n_splits=5, random_state=None, shuffle=False)\n"
     ]
    },
    {
     "data": {
      "application/vnd.jupyter.widget-view+json": {
       "model_id": "324864f9a9e54fe2acc7e1537790bea8",
       "version_major": 2,
       "version_minor": 0
      },
      "text/plain": [
       "Map:   0%|          | 0/30 [00:00<?, ? examples/s]"
      ]
     },
     "metadata": {},
     "output_type": "display_data"
    },
    {
     "data": {
      "application/vnd.jupyter.widget-view+json": {
       "model_id": "c14c193411eb476b95c57318ddae673c",
       "version_major": 2,
       "version_minor": 0
      },
      "text/plain": [
       "Map:   0%|          | 0/8 [00:00<?, ? examples/s]"
      ]
     },
     "metadata": {},
     "output_type": "display_data"
    },
    {
     "data": {
      "application/vnd.jupyter.widget-view+json": {
       "model_id": "40e5fd736659486d8a35a4b29584c3a3",
       "version_major": 2,
       "version_minor": 0
      },
      "text/plain": [
       "Map:   0%|          | 0/30 [00:00<?, ? examples/s]"
      ]
     },
     "metadata": {},
     "output_type": "display_data"
    },
    {
     "data": {
      "application/vnd.jupyter.widget-view+json": {
       "model_id": "48db961492e2432098c021d1db789a61",
       "version_major": 2,
       "version_minor": 0
      },
      "text/plain": [
       "Map:   0%|          | 0/8 [00:00<?, ? examples/s]"
      ]
     },
     "metadata": {},
     "output_type": "display_data"
    },
    {
     "data": {
      "application/vnd.jupyter.widget-view+json": {
       "model_id": "6562db39ba4f454cba3800e0fa5fbeda",
       "version_major": 2,
       "version_minor": 0
      },
      "text/plain": [
       "Map:   0%|          | 0/30 [00:00<?, ? examples/s]"
      ]
     },
     "metadata": {},
     "output_type": "display_data"
    },
    {
     "data": {
      "application/vnd.jupyter.widget-view+json": {
       "model_id": "56f5d743ed214901b31501d71b006ce5",
       "version_major": 2,
       "version_minor": 0
      },
      "text/plain": [
       "Map:   0%|          | 0/8 [00:00<?, ? examples/s]"
      ]
     },
     "metadata": {},
     "output_type": "display_data"
    },
    {
     "data": {
      "application/vnd.jupyter.widget-view+json": {
       "model_id": "6f30f1fb0ea94ca5b4de181c9e935872",
       "version_major": 2,
       "version_minor": 0
      },
      "text/plain": [
       "Map:   0%|          | 0/31 [00:00<?, ? examples/s]"
      ]
     },
     "metadata": {},
     "output_type": "display_data"
    },
    {
     "data": {
      "application/vnd.jupyter.widget-view+json": {
       "model_id": "e94be9d5e7564a15ba70c9d51adba1e7",
       "version_major": 2,
       "version_minor": 0
      },
      "text/plain": [
       "Map:   0%|          | 0/7 [00:00<?, ? examples/s]"
      ]
     },
     "metadata": {},
     "output_type": "display_data"
    },
    {
     "data": {
      "application/vnd.jupyter.widget-view+json": {
       "model_id": "68e6c0997c9f40b6a54b2cf0ac88750b",
       "version_major": 2,
       "version_minor": 0
      },
      "text/plain": [
       "Map:   0%|          | 0/31 [00:00<?, ? examples/s]"
      ]
     },
     "metadata": {},
     "output_type": "display_data"
    },
    {
     "data": {
      "application/vnd.jupyter.widget-view+json": {
       "model_id": "d7ae712a229b4ea39c040c0e045ce235",
       "version_major": 2,
       "version_minor": 0
      },
      "text/plain": [
       "Map:   0%|          | 0/7 [00:00<?, ? examples/s]"
      ]
     },
     "metadata": {},
     "output_type": "display_data"
    },
    {
     "name": "stdout",
     "output_type": "stream",
     "text": [
      "StratifiedKFold(n_splits=5, random_state=None, shuffle=False)\n"
     ]
    },
    {
     "data": {
      "application/vnd.jupyter.widget-view+json": {
       "model_id": "06246f2bc244491c976db98870aeed54",
       "version_major": 2,
       "version_minor": 0
      },
      "text/plain": [
       "Map:   0%|          | 0/30 [00:00<?, ? examples/s]"
      ]
     },
     "metadata": {},
     "output_type": "display_data"
    },
    {
     "data": {
      "application/vnd.jupyter.widget-view+json": {
       "model_id": "4e7b83d012f34601928429babce48311",
       "version_major": 2,
       "version_minor": 0
      },
      "text/plain": [
       "Map:   0%|          | 0/8 [00:00<?, ? examples/s]"
      ]
     },
     "metadata": {},
     "output_type": "display_data"
    },
    {
     "data": {
      "application/vnd.jupyter.widget-view+json": {
       "model_id": "6960124b85d24b408a05702c6031d533",
       "version_major": 2,
       "version_minor": 0
      },
      "text/plain": [
       "Map:   0%|          | 0/30 [00:00<?, ? examples/s]"
      ]
     },
     "metadata": {},
     "output_type": "display_data"
    },
    {
     "data": {
      "application/vnd.jupyter.widget-view+json": {
       "model_id": "bb562140ba9840e0abb35f057a1d6fb6",
       "version_major": 2,
       "version_minor": 0
      },
      "text/plain": [
       "Map:   0%|          | 0/8 [00:00<?, ? examples/s]"
      ]
     },
     "metadata": {},
     "output_type": "display_data"
    },
    {
     "data": {
      "application/vnd.jupyter.widget-view+json": {
       "model_id": "13546aa4cf214a62a163a3dff9e60941",
       "version_major": 2,
       "version_minor": 0
      },
      "text/plain": [
       "Map:   0%|          | 0/30 [00:00<?, ? examples/s]"
      ]
     },
     "metadata": {},
     "output_type": "display_data"
    },
    {
     "data": {
      "application/vnd.jupyter.widget-view+json": {
       "model_id": "874b37124a804cbf95c048982e3d4dba",
       "version_major": 2,
       "version_minor": 0
      },
      "text/plain": [
       "Map:   0%|          | 0/8 [00:00<?, ? examples/s]"
      ]
     },
     "metadata": {},
     "output_type": "display_data"
    },
    {
     "data": {
      "application/vnd.jupyter.widget-view+json": {
       "model_id": "f2d5bec2dd784e5e857447a2dbd890b3",
       "version_major": 2,
       "version_minor": 0
      },
      "text/plain": [
       "Map:   0%|          | 0/31 [00:00<?, ? examples/s]"
      ]
     },
     "metadata": {},
     "output_type": "display_data"
    },
    {
     "data": {
      "application/vnd.jupyter.widget-view+json": {
       "model_id": "c06294b28a6f4a759d8ef7d290a3fef0",
       "version_major": 2,
       "version_minor": 0
      },
      "text/plain": [
       "Map:   0%|          | 0/7 [00:00<?, ? examples/s]"
      ]
     },
     "metadata": {},
     "output_type": "display_data"
    },
    {
     "data": {
      "application/vnd.jupyter.widget-view+json": {
       "model_id": "74db21f83a9b4beab2172600b23c6fa8",
       "version_major": 2,
       "version_minor": 0
      },
      "text/plain": [
       "Map:   0%|          | 0/31 [00:00<?, ? examples/s]"
      ]
     },
     "metadata": {},
     "output_type": "display_data"
    },
    {
     "data": {
      "application/vnd.jupyter.widget-view+json": {
       "model_id": "09c73b5971974c72b2ebd651f45b8ac8",
       "version_major": 2,
       "version_minor": 0
      },
      "text/plain": [
       "Map:   0%|          | 0/7 [00:00<?, ? examples/s]"
      ]
     },
     "metadata": {},
     "output_type": "display_data"
    },
    {
     "name": "stdout",
     "output_type": "stream",
     "text": [
      "StratifiedKFold(n_splits=5, random_state=None, shuffle=False)\n"
     ]
    },
    {
     "data": {
      "application/vnd.jupyter.widget-view+json": {
       "model_id": "a5f5172384484608855249cea18e3835",
       "version_major": 2,
       "version_minor": 0
      },
      "text/plain": [
       "Map:   0%|          | 0/30 [00:00<?, ? examples/s]"
      ]
     },
     "metadata": {},
     "output_type": "display_data"
    },
    {
     "data": {
      "application/vnd.jupyter.widget-view+json": {
       "model_id": "ec4bf9194d734352981b4cfe478f961a",
       "version_major": 2,
       "version_minor": 0
      },
      "text/plain": [
       "Map:   0%|          | 0/8 [00:00<?, ? examples/s]"
      ]
     },
     "metadata": {},
     "output_type": "display_data"
    },
    {
     "data": {
      "application/vnd.jupyter.widget-view+json": {
       "model_id": "1f2d705690724910b1179945217bdc39",
       "version_major": 2,
       "version_minor": 0
      },
      "text/plain": [
       "Map:   0%|          | 0/30 [00:00<?, ? examples/s]"
      ]
     },
     "metadata": {},
     "output_type": "display_data"
    },
    {
     "data": {
      "application/vnd.jupyter.widget-view+json": {
       "model_id": "19fa308cd0ae41588037807083b142f2",
       "version_major": 2,
       "version_minor": 0
      },
      "text/plain": [
       "Map:   0%|          | 0/8 [00:00<?, ? examples/s]"
      ]
     },
     "metadata": {},
     "output_type": "display_data"
    },
    {
     "data": {
      "application/vnd.jupyter.widget-view+json": {
       "model_id": "0d87561130fc4ff097bd0423551ae92e",
       "version_major": 2,
       "version_minor": 0
      },
      "text/plain": [
       "Map:   0%|          | 0/30 [00:00<?, ? examples/s]"
      ]
     },
     "metadata": {},
     "output_type": "display_data"
    },
    {
     "data": {
      "application/vnd.jupyter.widget-view+json": {
       "model_id": "1d05b7fad5644f29bbd4d0c6093c16f7",
       "version_major": 2,
       "version_minor": 0
      },
      "text/plain": [
       "Map:   0%|          | 0/8 [00:00<?, ? examples/s]"
      ]
     },
     "metadata": {},
     "output_type": "display_data"
    },
    {
     "data": {
      "application/vnd.jupyter.widget-view+json": {
       "model_id": "802f63ee1c064cc3a13d5f889c206e07",
       "version_major": 2,
       "version_minor": 0
      },
      "text/plain": [
       "Map:   0%|          | 0/31 [00:00<?, ? examples/s]"
      ]
     },
     "metadata": {},
     "output_type": "display_data"
    },
    {
     "data": {
      "application/vnd.jupyter.widget-view+json": {
       "model_id": "be4ed10babbd408ab605aa7fe3bf087c",
       "version_major": 2,
       "version_minor": 0
      },
      "text/plain": [
       "Map:   0%|          | 0/7 [00:00<?, ? examples/s]"
      ]
     },
     "metadata": {},
     "output_type": "display_data"
    },
    {
     "data": {
      "application/vnd.jupyter.widget-view+json": {
       "model_id": "c743c2485fbe4ce2a50e75a6547a012d",
       "version_major": 2,
       "version_minor": 0
      },
      "text/plain": [
       "Map:   0%|          | 0/31 [00:00<?, ? examples/s]"
      ]
     },
     "metadata": {},
     "output_type": "display_data"
    },
    {
     "data": {
      "application/vnd.jupyter.widget-view+json": {
       "model_id": "65a86fbfab9340e6a477f408080738c8",
       "version_major": 2,
       "version_minor": 0
      },
      "text/plain": [
       "Map:   0%|          | 0/7 [00:00<?, ? examples/s]"
      ]
     },
     "metadata": {},
     "output_type": "display_data"
    },
    {
     "name": "stdout",
     "output_type": "stream",
     "text": [
      "StratifiedKFold(n_splits=5, random_state=None, shuffle=False)\n"
     ]
    },
    {
     "data": {
      "application/vnd.jupyter.widget-view+json": {
       "model_id": "569d7916e7f1487f9d6acf8ef2cb57b3",
       "version_major": 2,
       "version_minor": 0
      },
      "text/plain": [
       "Map:   0%|          | 0/30 [00:00<?, ? examples/s]"
      ]
     },
     "metadata": {},
     "output_type": "display_data"
    },
    {
     "data": {
      "application/vnd.jupyter.widget-view+json": {
       "model_id": "240dc1f4e4d5471ab0fe272130f24d16",
       "version_major": 2,
       "version_minor": 0
      },
      "text/plain": [
       "Map:   0%|          | 0/8 [00:00<?, ? examples/s]"
      ]
     },
     "metadata": {},
     "output_type": "display_data"
    },
    {
     "data": {
      "application/vnd.jupyter.widget-view+json": {
       "model_id": "e9cc9c5b0f7c44f08f85a3d745ae1160",
       "version_major": 2,
       "version_minor": 0
      },
      "text/plain": [
       "Map:   0%|          | 0/30 [00:00<?, ? examples/s]"
      ]
     },
     "metadata": {},
     "output_type": "display_data"
    },
    {
     "data": {
      "application/vnd.jupyter.widget-view+json": {
       "model_id": "425fe80033d6452d940f4aac342c7429",
       "version_major": 2,
       "version_minor": 0
      },
      "text/plain": [
       "Map:   0%|          | 0/8 [00:00<?, ? examples/s]"
      ]
     },
     "metadata": {},
     "output_type": "display_data"
    },
    {
     "data": {
      "application/vnd.jupyter.widget-view+json": {
       "model_id": "28c7e36b66b94af8bfa07b3d7772bf85",
       "version_major": 2,
       "version_minor": 0
      },
      "text/plain": [
       "Map:   0%|          | 0/30 [00:00<?, ? examples/s]"
      ]
     },
     "metadata": {},
     "output_type": "display_data"
    },
    {
     "data": {
      "application/vnd.jupyter.widget-view+json": {
       "model_id": "9d73dd04736f476dbc9ccb87a8b72772",
       "version_major": 2,
       "version_minor": 0
      },
      "text/plain": [
       "Map:   0%|          | 0/8 [00:00<?, ? examples/s]"
      ]
     },
     "metadata": {},
     "output_type": "display_data"
    },
    {
     "data": {
      "application/vnd.jupyter.widget-view+json": {
       "model_id": "0414b6a360df4c8aa023ff949cb71740",
       "version_major": 2,
       "version_minor": 0
      },
      "text/plain": [
       "Map:   0%|          | 0/31 [00:00<?, ? examples/s]"
      ]
     },
     "metadata": {},
     "output_type": "display_data"
    },
    {
     "data": {
      "application/vnd.jupyter.widget-view+json": {
       "model_id": "8d832e2790a74e7c95a468b2f0b9a48f",
       "version_major": 2,
       "version_minor": 0
      },
      "text/plain": [
       "Map:   0%|          | 0/7 [00:00<?, ? examples/s]"
      ]
     },
     "metadata": {},
     "output_type": "display_data"
    },
    {
     "data": {
      "application/vnd.jupyter.widget-view+json": {
       "model_id": "2651c7be52dd4d1cbcd48dd2dbca14d7",
       "version_major": 2,
       "version_minor": 0
      },
      "text/plain": [
       "Map:   0%|          | 0/31 [00:00<?, ? examples/s]"
      ]
     },
     "metadata": {},
     "output_type": "display_data"
    },
    {
     "data": {
      "application/vnd.jupyter.widget-view+json": {
       "model_id": "27bb5398c0404210a5eb3fe3ff69e0f7",
       "version_major": 2,
       "version_minor": 0
      },
      "text/plain": [
       "Map:   0%|          | 0/7 [00:00<?, ? examples/s]"
      ]
     },
     "metadata": {},
     "output_type": "display_data"
    },
    {
     "name": "stdout",
     "output_type": "stream",
     "text": [
      "StratifiedKFold(n_splits=5, random_state=None, shuffle=False)\n"
     ]
    },
    {
     "data": {
      "application/vnd.jupyter.widget-view+json": {
       "model_id": "ad9f57e8663f467d9044d27b94a711cd",
       "version_major": 2,
       "version_minor": 0
      },
      "text/plain": [
       "Map:   0%|          | 0/30 [00:00<?, ? examples/s]"
      ]
     },
     "metadata": {},
     "output_type": "display_data"
    },
    {
     "data": {
      "application/vnd.jupyter.widget-view+json": {
       "model_id": "323a48ca55844c3cb54b727c980851a8",
       "version_major": 2,
       "version_minor": 0
      },
      "text/plain": [
       "Map:   0%|          | 0/8 [00:00<?, ? examples/s]"
      ]
     },
     "metadata": {},
     "output_type": "display_data"
    },
    {
     "data": {
      "application/vnd.jupyter.widget-view+json": {
       "model_id": "ec7949b5d7d842b8aaaa6197c1b8b9c1",
       "version_major": 2,
       "version_minor": 0
      },
      "text/plain": [
       "Map:   0%|          | 0/30 [00:00<?, ? examples/s]"
      ]
     },
     "metadata": {},
     "output_type": "display_data"
    },
    {
     "data": {
      "application/vnd.jupyter.widget-view+json": {
       "model_id": "763c4f5628cc4b5aa8649d67780ff826",
       "version_major": 2,
       "version_minor": 0
      },
      "text/plain": [
       "Map:   0%|          | 0/8 [00:00<?, ? examples/s]"
      ]
     },
     "metadata": {},
     "output_type": "display_data"
    },
    {
     "data": {
      "application/vnd.jupyter.widget-view+json": {
       "model_id": "2a76c378129e451cb3350adfe7f2195b",
       "version_major": 2,
       "version_minor": 0
      },
      "text/plain": [
       "Map:   0%|          | 0/30 [00:00<?, ? examples/s]"
      ]
     },
     "metadata": {},
     "output_type": "display_data"
    },
    {
     "data": {
      "application/vnd.jupyter.widget-view+json": {
       "model_id": "7eae679e1e5b453ca366b0f6c3aedf0a",
       "version_major": 2,
       "version_minor": 0
      },
      "text/plain": [
       "Map:   0%|          | 0/8 [00:00<?, ? examples/s]"
      ]
     },
     "metadata": {},
     "output_type": "display_data"
    },
    {
     "data": {
      "application/vnd.jupyter.widget-view+json": {
       "model_id": "d0bbdff2e5dd421cad8b8dc3dfaeba98",
       "version_major": 2,
       "version_minor": 0
      },
      "text/plain": [
       "Map:   0%|          | 0/31 [00:00<?, ? examples/s]"
      ]
     },
     "metadata": {},
     "output_type": "display_data"
    },
    {
     "data": {
      "application/vnd.jupyter.widget-view+json": {
       "model_id": "3bfacaa3ec8e460289b0e9134e48f9e6",
       "version_major": 2,
       "version_minor": 0
      },
      "text/plain": [
       "Map:   0%|          | 0/7 [00:00<?, ? examples/s]"
      ]
     },
     "metadata": {},
     "output_type": "display_data"
    },
    {
     "data": {
      "application/vnd.jupyter.widget-view+json": {
       "model_id": "9ed75244f0f943c18ac859e53a4fdfc2",
       "version_major": 2,
       "version_minor": 0
      },
      "text/plain": [
       "Map:   0%|          | 0/31 [00:00<?, ? examples/s]"
      ]
     },
     "metadata": {},
     "output_type": "display_data"
    },
    {
     "data": {
      "application/vnd.jupyter.widget-view+json": {
       "model_id": "3c1c71453a924cbea0b010ea08140d68",
       "version_major": 2,
       "version_minor": 0
      },
      "text/plain": [
       "Map:   0%|          | 0/7 [00:00<?, ? examples/s]"
      ]
     },
     "metadata": {},
     "output_type": "display_data"
    },
    {
     "name": "stdout",
     "output_type": "stream",
     "text": [
      "StratifiedKFold(n_splits=5, random_state=None, shuffle=False)\n"
     ]
    },
    {
     "data": {
      "application/vnd.jupyter.widget-view+json": {
       "model_id": "e9e786dfc0674bc783fe48cb13206b1b",
       "version_major": 2,
       "version_minor": 0
      },
      "text/plain": [
       "Map:   0%|          | 0/30 [00:00<?, ? examples/s]"
      ]
     },
     "metadata": {},
     "output_type": "display_data"
    },
    {
     "data": {
      "application/vnd.jupyter.widget-view+json": {
       "model_id": "71eadb1a0d0e4c4987a70ffb1c505d1f",
       "version_major": 2,
       "version_minor": 0
      },
      "text/plain": [
       "Map:   0%|          | 0/8 [00:00<?, ? examples/s]"
      ]
     },
     "metadata": {},
     "output_type": "display_data"
    },
    {
     "data": {
      "application/vnd.jupyter.widget-view+json": {
       "model_id": "16b42548d4ff4bebb7221d9ee34ca346",
       "version_major": 2,
       "version_minor": 0
      },
      "text/plain": [
       "Map:   0%|          | 0/30 [00:00<?, ? examples/s]"
      ]
     },
     "metadata": {},
     "output_type": "display_data"
    },
    {
     "data": {
      "application/vnd.jupyter.widget-view+json": {
       "model_id": "8961a78c6f7e45e79663b5cd38f861c4",
       "version_major": 2,
       "version_minor": 0
      },
      "text/plain": [
       "Map:   0%|          | 0/8 [00:00<?, ? examples/s]"
      ]
     },
     "metadata": {},
     "output_type": "display_data"
    },
    {
     "data": {
      "application/vnd.jupyter.widget-view+json": {
       "model_id": "b73b8a3aa07f4e0da8a452d8abd8a558",
       "version_major": 2,
       "version_minor": 0
      },
      "text/plain": [
       "Map:   0%|          | 0/30 [00:00<?, ? examples/s]"
      ]
     },
     "metadata": {},
     "output_type": "display_data"
    },
    {
     "data": {
      "application/vnd.jupyter.widget-view+json": {
       "model_id": "3aa6205421964a53a566d6708716615c",
       "version_major": 2,
       "version_minor": 0
      },
      "text/plain": [
       "Map:   0%|          | 0/8 [00:00<?, ? examples/s]"
      ]
     },
     "metadata": {},
     "output_type": "display_data"
    },
    {
     "data": {
      "application/vnd.jupyter.widget-view+json": {
       "model_id": "b56e36f37a15403b8578ecc737c7203a",
       "version_major": 2,
       "version_minor": 0
      },
      "text/plain": [
       "Map:   0%|          | 0/31 [00:00<?, ? examples/s]"
      ]
     },
     "metadata": {},
     "output_type": "display_data"
    },
    {
     "data": {
      "application/vnd.jupyter.widget-view+json": {
       "model_id": "edf780dcde4f4903a6ee23e6aeee3c2c",
       "version_major": 2,
       "version_minor": 0
      },
      "text/plain": [
       "Map:   0%|          | 0/7 [00:00<?, ? examples/s]"
      ]
     },
     "metadata": {},
     "output_type": "display_data"
    },
    {
     "data": {
      "application/vnd.jupyter.widget-view+json": {
       "model_id": "17f8fc7003114ef28f1078421f56a318",
       "version_major": 2,
       "version_minor": 0
      },
      "text/plain": [
       "Map:   0%|          | 0/31 [00:00<?, ? examples/s]"
      ]
     },
     "metadata": {},
     "output_type": "display_data"
    },
    {
     "data": {
      "application/vnd.jupyter.widget-view+json": {
       "model_id": "31abcae09b8441f0b30a94c408c909ec",
       "version_major": 2,
       "version_minor": 0
      },
      "text/plain": [
       "Map:   0%|          | 0/7 [00:00<?, ? examples/s]"
      ]
     },
     "metadata": {},
     "output_type": "display_data"
    },
    {
     "name": "stdout",
     "output_type": "stream",
     "text": [
      "StratifiedKFold(n_splits=5, random_state=None, shuffle=False)\n"
     ]
    },
    {
     "data": {
      "application/vnd.jupyter.widget-view+json": {
       "model_id": "73bdf791370848708ba4feeef837fce4",
       "version_major": 2,
       "version_minor": 0
      },
      "text/plain": [
       "Map:   0%|          | 0/30 [00:00<?, ? examples/s]"
      ]
     },
     "metadata": {},
     "output_type": "display_data"
    },
    {
     "data": {
      "application/vnd.jupyter.widget-view+json": {
       "model_id": "70295fed20cf4e7aad72c67ad6af78d3",
       "version_major": 2,
       "version_minor": 0
      },
      "text/plain": [
       "Map:   0%|          | 0/8 [00:00<?, ? examples/s]"
      ]
     },
     "metadata": {},
     "output_type": "display_data"
    },
    {
     "data": {
      "application/vnd.jupyter.widget-view+json": {
       "model_id": "22acf01a4e204e21a6c35547619fc591",
       "version_major": 2,
       "version_minor": 0
      },
      "text/plain": [
       "Map:   0%|          | 0/30 [00:00<?, ? examples/s]"
      ]
     },
     "metadata": {},
     "output_type": "display_data"
    },
    {
     "data": {
      "application/vnd.jupyter.widget-view+json": {
       "model_id": "0dd90c8e2cef49cbaa794645308ada58",
       "version_major": 2,
       "version_minor": 0
      },
      "text/plain": [
       "Map:   0%|          | 0/8 [00:00<?, ? examples/s]"
      ]
     },
     "metadata": {},
     "output_type": "display_data"
    },
    {
     "data": {
      "application/vnd.jupyter.widget-view+json": {
       "model_id": "413192cd90b943a9aee9f149601a3eab",
       "version_major": 2,
       "version_minor": 0
      },
      "text/plain": [
       "Map:   0%|          | 0/30 [00:00<?, ? examples/s]"
      ]
     },
     "metadata": {},
     "output_type": "display_data"
    },
    {
     "data": {
      "application/vnd.jupyter.widget-view+json": {
       "model_id": "5244a5fd2cc44e6d9804a4b75f0cf4d1",
       "version_major": 2,
       "version_minor": 0
      },
      "text/plain": [
       "Map:   0%|          | 0/8 [00:00<?, ? examples/s]"
      ]
     },
     "metadata": {},
     "output_type": "display_data"
    },
    {
     "data": {
      "application/vnd.jupyter.widget-view+json": {
       "model_id": "d3ad7ba0870a4f9792f6ca271b2f3aa0",
       "version_major": 2,
       "version_minor": 0
      },
      "text/plain": [
       "Map:   0%|          | 0/31 [00:00<?, ? examples/s]"
      ]
     },
     "metadata": {},
     "output_type": "display_data"
    },
    {
     "data": {
      "application/vnd.jupyter.widget-view+json": {
       "model_id": "314e92aa89ce47a7ada9029a9e45d5da",
       "version_major": 2,
       "version_minor": 0
      },
      "text/plain": [
       "Map:   0%|          | 0/7 [00:00<?, ? examples/s]"
      ]
     },
     "metadata": {},
     "output_type": "display_data"
    },
    {
     "data": {
      "application/vnd.jupyter.widget-view+json": {
       "model_id": "dafd6037503d4346a3872750f063b22c",
       "version_major": 2,
       "version_minor": 0
      },
      "text/plain": [
       "Map:   0%|          | 0/31 [00:00<?, ? examples/s]"
      ]
     },
     "metadata": {},
     "output_type": "display_data"
    },
    {
     "data": {
      "application/vnd.jupyter.widget-view+json": {
       "model_id": "30c6938996d146c9a0e57e6f52f5ae7a",
       "version_major": 2,
       "version_minor": 0
      },
      "text/plain": [
       "Map:   0%|          | 0/7 [00:00<?, ? examples/s]"
      ]
     },
     "metadata": {},
     "output_type": "display_data"
    },
    {
     "name": "stdout",
     "output_type": "stream",
     "text": [
      "StratifiedKFold(n_splits=5, random_state=None, shuffle=False)\n"
     ]
    },
    {
     "data": {
      "application/vnd.jupyter.widget-view+json": {
       "model_id": "7a2013486e7641019c7cc3340f59dde0",
       "version_major": 2,
       "version_minor": 0
      },
      "text/plain": [
       "Map:   0%|          | 0/30 [00:00<?, ? examples/s]"
      ]
     },
     "metadata": {},
     "output_type": "display_data"
    },
    {
     "data": {
      "application/vnd.jupyter.widget-view+json": {
       "model_id": "a43a00670574451689eb66839c1ea038",
       "version_major": 2,
       "version_minor": 0
      },
      "text/plain": [
       "Map:   0%|          | 0/8 [00:00<?, ? examples/s]"
      ]
     },
     "metadata": {},
     "output_type": "display_data"
    },
    {
     "data": {
      "application/vnd.jupyter.widget-view+json": {
       "model_id": "920f8e9a9e554ebb92337a60e57ad5cf",
       "version_major": 2,
       "version_minor": 0
      },
      "text/plain": [
       "Map:   0%|          | 0/30 [00:00<?, ? examples/s]"
      ]
     },
     "metadata": {},
     "output_type": "display_data"
    },
    {
     "data": {
      "application/vnd.jupyter.widget-view+json": {
       "model_id": "7a6d5a9a728c42868a111010cdfb69e3",
       "version_major": 2,
       "version_minor": 0
      },
      "text/plain": [
       "Map:   0%|          | 0/8 [00:00<?, ? examples/s]"
      ]
     },
     "metadata": {},
     "output_type": "display_data"
    },
    {
     "data": {
      "application/vnd.jupyter.widget-view+json": {
       "model_id": "f38560dfdaf44ed4a83f1075dccc6257",
       "version_major": 2,
       "version_minor": 0
      },
      "text/plain": [
       "Map:   0%|          | 0/30 [00:00<?, ? examples/s]"
      ]
     },
     "metadata": {},
     "output_type": "display_data"
    },
    {
     "data": {
      "application/vnd.jupyter.widget-view+json": {
       "model_id": "23338fd1722d4be593ef780f20bfa757",
       "version_major": 2,
       "version_minor": 0
      },
      "text/plain": [
       "Map:   0%|          | 0/8 [00:00<?, ? examples/s]"
      ]
     },
     "metadata": {},
     "output_type": "display_data"
    },
    {
     "data": {
      "application/vnd.jupyter.widget-view+json": {
       "model_id": "2ea11f0abd37418b8dbc403c595a0735",
       "version_major": 2,
       "version_minor": 0
      },
      "text/plain": [
       "Map:   0%|          | 0/31 [00:00<?, ? examples/s]"
      ]
     },
     "metadata": {},
     "output_type": "display_data"
    },
    {
     "data": {
      "application/vnd.jupyter.widget-view+json": {
       "model_id": "0daed79dac704970a4f85a91c22e44f0",
       "version_major": 2,
       "version_minor": 0
      },
      "text/plain": [
       "Map:   0%|          | 0/7 [00:00<?, ? examples/s]"
      ]
     },
     "metadata": {},
     "output_type": "display_data"
    },
    {
     "data": {
      "application/vnd.jupyter.widget-view+json": {
       "model_id": "72121e24e10945578846eb3e30a0f0a6",
       "version_major": 2,
       "version_minor": 0
      },
      "text/plain": [
       "Map:   0%|          | 0/31 [00:00<?, ? examples/s]"
      ]
     },
     "metadata": {},
     "output_type": "display_data"
    },
    {
     "data": {
      "application/vnd.jupyter.widget-view+json": {
       "model_id": "14a998f0518b442796549a61ac892505",
       "version_major": 2,
       "version_minor": 0
      },
      "text/plain": [
       "Map:   0%|          | 0/7 [00:00<?, ? examples/s]"
      ]
     },
     "metadata": {},
     "output_type": "display_data"
    },
    {
     "name": "stdout",
     "output_type": "stream",
     "text": [
      "StratifiedKFold(n_splits=5, random_state=None, shuffle=False)\n"
     ]
    },
    {
     "data": {
      "application/vnd.jupyter.widget-view+json": {
       "model_id": "1f390625d34c476eb2ef87f2e8c8a8bb",
       "version_major": 2,
       "version_minor": 0
      },
      "text/plain": [
       "Map:   0%|          | 0/30 [00:00<?, ? examples/s]"
      ]
     },
     "metadata": {},
     "output_type": "display_data"
    },
    {
     "data": {
      "application/vnd.jupyter.widget-view+json": {
       "model_id": "0bc26ea40b114cda997a9976c814bb96",
       "version_major": 2,
       "version_minor": 0
      },
      "text/plain": [
       "Map:   0%|          | 0/8 [00:00<?, ? examples/s]"
      ]
     },
     "metadata": {},
     "output_type": "display_data"
    },
    {
     "data": {
      "application/vnd.jupyter.widget-view+json": {
       "model_id": "0c76cc96cf294418a3447559e592bf04",
       "version_major": 2,
       "version_minor": 0
      },
      "text/plain": [
       "Map:   0%|          | 0/30 [00:00<?, ? examples/s]"
      ]
     },
     "metadata": {},
     "output_type": "display_data"
    },
    {
     "data": {
      "application/vnd.jupyter.widget-view+json": {
       "model_id": "2bf47fd0c9cc4a0492bf8eb0c6121afe",
       "version_major": 2,
       "version_minor": 0
      },
      "text/plain": [
       "Map:   0%|          | 0/8 [00:00<?, ? examples/s]"
      ]
     },
     "metadata": {},
     "output_type": "display_data"
    },
    {
     "data": {
      "application/vnd.jupyter.widget-view+json": {
       "model_id": "064f14d008e24da9ba58dd868d90da05",
       "version_major": 2,
       "version_minor": 0
      },
      "text/plain": [
       "Map:   0%|          | 0/30 [00:00<?, ? examples/s]"
      ]
     },
     "metadata": {},
     "output_type": "display_data"
    },
    {
     "data": {
      "application/vnd.jupyter.widget-view+json": {
       "model_id": "35a1e6b0e61a4c1abada4b40c6155273",
       "version_major": 2,
       "version_minor": 0
      },
      "text/plain": [
       "Map:   0%|          | 0/8 [00:00<?, ? examples/s]"
      ]
     },
     "metadata": {},
     "output_type": "display_data"
    },
    {
     "data": {
      "application/vnd.jupyter.widget-view+json": {
       "model_id": "3dd75b77ce8f401f8db94f823ce63559",
       "version_major": 2,
       "version_minor": 0
      },
      "text/plain": [
       "Map:   0%|          | 0/31 [00:00<?, ? examples/s]"
      ]
     },
     "metadata": {},
     "output_type": "display_data"
    },
    {
     "data": {
      "application/vnd.jupyter.widget-view+json": {
       "model_id": "51e68a2c9e8144a5b0311301af1701e5",
       "version_major": 2,
       "version_minor": 0
      },
      "text/plain": [
       "Map:   0%|          | 0/7 [00:00<?, ? examples/s]"
      ]
     },
     "metadata": {},
     "output_type": "display_data"
    },
    {
     "data": {
      "application/vnd.jupyter.widget-view+json": {
       "model_id": "097855892bdf410ea02a013ff146f6f4",
       "version_major": 2,
       "version_minor": 0
      },
      "text/plain": [
       "Map:   0%|          | 0/31 [00:00<?, ? examples/s]"
      ]
     },
     "metadata": {},
     "output_type": "display_data"
    },
    {
     "data": {
      "application/vnd.jupyter.widget-view+json": {
       "model_id": "47ae88ab0ac6492da85973546a827606",
       "version_major": 2,
       "version_minor": 0
      },
      "text/plain": [
       "Map:   0%|          | 0/7 [00:00<?, ? examples/s]"
      ]
     },
     "metadata": {},
     "output_type": "display_data"
    },
    {
     "name": "stdout",
     "output_type": "stream",
     "text": [
      "StratifiedKFold(n_splits=5, random_state=None, shuffle=False)\n"
     ]
    },
    {
     "data": {
      "application/vnd.jupyter.widget-view+json": {
       "model_id": "ae3d31be9a824bfaadeda196da8056c7",
       "version_major": 2,
       "version_minor": 0
      },
      "text/plain": [
       "Map:   0%|          | 0/30 [00:00<?, ? examples/s]"
      ]
     },
     "metadata": {},
     "output_type": "display_data"
    },
    {
     "data": {
      "application/vnd.jupyter.widget-view+json": {
       "model_id": "4fc5da8cecbf496d81797df2cf1d467a",
       "version_major": 2,
       "version_minor": 0
      },
      "text/plain": [
       "Map:   0%|          | 0/8 [00:00<?, ? examples/s]"
      ]
     },
     "metadata": {},
     "output_type": "display_data"
    },
    {
     "data": {
      "application/vnd.jupyter.widget-view+json": {
       "model_id": "4e49c0cccf1e48eba585ae98e00524ab",
       "version_major": 2,
       "version_minor": 0
      },
      "text/plain": [
       "Map:   0%|          | 0/30 [00:00<?, ? examples/s]"
      ]
     },
     "metadata": {},
     "output_type": "display_data"
    },
    {
     "data": {
      "application/vnd.jupyter.widget-view+json": {
       "model_id": "6e374d6993f44e58bcc103efbbaa128a",
       "version_major": 2,
       "version_minor": 0
      },
      "text/plain": [
       "Map:   0%|          | 0/8 [00:00<?, ? examples/s]"
      ]
     },
     "metadata": {},
     "output_type": "display_data"
    },
    {
     "data": {
      "application/vnd.jupyter.widget-view+json": {
       "model_id": "d61d442866fa42629fce95c94e0ce087",
       "version_major": 2,
       "version_minor": 0
      },
      "text/plain": [
       "Map:   0%|          | 0/30 [00:00<?, ? examples/s]"
      ]
     },
     "metadata": {},
     "output_type": "display_data"
    },
    {
     "data": {
      "application/vnd.jupyter.widget-view+json": {
       "model_id": "b5e1ec7eae5747b8982c01407e0437e7",
       "version_major": 2,
       "version_minor": 0
      },
      "text/plain": [
       "Map:   0%|          | 0/8 [00:00<?, ? examples/s]"
      ]
     },
     "metadata": {},
     "output_type": "display_data"
    },
    {
     "data": {
      "application/vnd.jupyter.widget-view+json": {
       "model_id": "0505187b0b6b491caf8b5feef8d3ae3b",
       "version_major": 2,
       "version_minor": 0
      },
      "text/plain": [
       "Map:   0%|          | 0/31 [00:00<?, ? examples/s]"
      ]
     },
     "metadata": {},
     "output_type": "display_data"
    },
    {
     "data": {
      "application/vnd.jupyter.widget-view+json": {
       "model_id": "46d38ee168354228a0bfd03af0d9f3f2",
       "version_major": 2,
       "version_minor": 0
      },
      "text/plain": [
       "Map:   0%|          | 0/7 [00:00<?, ? examples/s]"
      ]
     },
     "metadata": {},
     "output_type": "display_data"
    },
    {
     "data": {
      "application/vnd.jupyter.widget-view+json": {
       "model_id": "181e6055bb9e443fbb8d9da523ff5392",
       "version_major": 2,
       "version_minor": 0
      },
      "text/plain": [
       "Map:   0%|          | 0/31 [00:00<?, ? examples/s]"
      ]
     },
     "metadata": {},
     "output_type": "display_data"
    },
    {
     "data": {
      "application/vnd.jupyter.widget-view+json": {
       "model_id": "5c8ea9225b674cbba4722ed0dbd6870b",
       "version_major": 2,
       "version_minor": 0
      },
      "text/plain": [
       "Map:   0%|          | 0/7 [00:00<?, ? examples/s]"
      ]
     },
     "metadata": {},
     "output_type": "display_data"
    },
    {
     "name": "stdout",
     "output_type": "stream",
     "text": [
      "StratifiedKFold(n_splits=5, random_state=None, shuffle=False)\n"
     ]
    },
    {
     "data": {
      "application/vnd.jupyter.widget-view+json": {
       "model_id": "bd2fee62e79640eb84a0e13e81111f3e",
       "version_major": 2,
       "version_minor": 0
      },
      "text/plain": [
       "Map:   0%|          | 0/30 [00:00<?, ? examples/s]"
      ]
     },
     "metadata": {},
     "output_type": "display_data"
    },
    {
     "data": {
      "application/vnd.jupyter.widget-view+json": {
       "model_id": "d4822b2689384b9d92419dbbe0f88770",
       "version_major": 2,
       "version_minor": 0
      },
      "text/plain": [
       "Map:   0%|          | 0/8 [00:00<?, ? examples/s]"
      ]
     },
     "metadata": {},
     "output_type": "display_data"
    },
    {
     "data": {
      "application/vnd.jupyter.widget-view+json": {
       "model_id": "0def76f3e76343188ea8dff47b2590f3",
       "version_major": 2,
       "version_minor": 0
      },
      "text/plain": [
       "Map:   0%|          | 0/30 [00:00<?, ? examples/s]"
      ]
     },
     "metadata": {},
     "output_type": "display_data"
    },
    {
     "data": {
      "application/vnd.jupyter.widget-view+json": {
       "model_id": "b2d1ddb287c647c98d8f0ec4223fa90e",
       "version_major": 2,
       "version_minor": 0
      },
      "text/plain": [
       "Map:   0%|          | 0/8 [00:00<?, ? examples/s]"
      ]
     },
     "metadata": {},
     "output_type": "display_data"
    },
    {
     "data": {
      "application/vnd.jupyter.widget-view+json": {
       "model_id": "1be2808b2c81458186e89fbadc2b61d6",
       "version_major": 2,
       "version_minor": 0
      },
      "text/plain": [
       "Map:   0%|          | 0/30 [00:00<?, ? examples/s]"
      ]
     },
     "metadata": {},
     "output_type": "display_data"
    },
    {
     "data": {
      "application/vnd.jupyter.widget-view+json": {
       "model_id": "490f3c3d20eb49d9ae4102d623542645",
       "version_major": 2,
       "version_minor": 0
      },
      "text/plain": [
       "Map:   0%|          | 0/8 [00:00<?, ? examples/s]"
      ]
     },
     "metadata": {},
     "output_type": "display_data"
    },
    {
     "data": {
      "application/vnd.jupyter.widget-view+json": {
       "model_id": "51fb20eb89df4886922fca3dd19359ca",
       "version_major": 2,
       "version_minor": 0
      },
      "text/plain": [
       "Map:   0%|          | 0/31 [00:00<?, ? examples/s]"
      ]
     },
     "metadata": {},
     "output_type": "display_data"
    },
    {
     "data": {
      "application/vnd.jupyter.widget-view+json": {
       "model_id": "604dcd2207134168a7020203bb706f4d",
       "version_major": 2,
       "version_minor": 0
      },
      "text/plain": [
       "Map:   0%|          | 0/7 [00:00<?, ? examples/s]"
      ]
     },
     "metadata": {},
     "output_type": "display_data"
    },
    {
     "data": {
      "application/vnd.jupyter.widget-view+json": {
       "model_id": "0a24d4f7865c443a98f79ef8a7142d93",
       "version_major": 2,
       "version_minor": 0
      },
      "text/plain": [
       "Map:   0%|          | 0/31 [00:00<?, ? examples/s]"
      ]
     },
     "metadata": {},
     "output_type": "display_data"
    },
    {
     "data": {
      "application/vnd.jupyter.widget-view+json": {
       "model_id": "c701d4d531314198817796b8ac428266",
       "version_major": 2,
       "version_minor": 0
      },
      "text/plain": [
       "Map:   0%|          | 0/7 [00:00<?, ? examples/s]"
      ]
     },
     "metadata": {},
     "output_type": "display_data"
    },
    {
     "name": "stdout",
     "output_type": "stream",
     "text": [
      "StratifiedKFold(n_splits=5, random_state=None, shuffle=False)\n"
     ]
    },
    {
     "data": {
      "application/vnd.jupyter.widget-view+json": {
       "model_id": "c493a181462745bf816fe2da15256ea8",
       "version_major": 2,
       "version_minor": 0
      },
      "text/plain": [
       "Map:   0%|          | 0/30 [00:00<?, ? examples/s]"
      ]
     },
     "metadata": {},
     "output_type": "display_data"
    },
    {
     "data": {
      "application/vnd.jupyter.widget-view+json": {
       "model_id": "25ef663d85624ce889d6f21d5191868b",
       "version_major": 2,
       "version_minor": 0
      },
      "text/plain": [
       "Map:   0%|          | 0/8 [00:00<?, ? examples/s]"
      ]
     },
     "metadata": {},
     "output_type": "display_data"
    },
    {
     "data": {
      "application/vnd.jupyter.widget-view+json": {
       "model_id": "bd97e54b18614e5086068881ea55f63c",
       "version_major": 2,
       "version_minor": 0
      },
      "text/plain": [
       "Map:   0%|          | 0/30 [00:00<?, ? examples/s]"
      ]
     },
     "metadata": {},
     "output_type": "display_data"
    },
    {
     "data": {
      "application/vnd.jupyter.widget-view+json": {
       "model_id": "dae5f339bbe54a54acb8b8ff23b96853",
       "version_major": 2,
       "version_minor": 0
      },
      "text/plain": [
       "Map:   0%|          | 0/8 [00:00<?, ? examples/s]"
      ]
     },
     "metadata": {},
     "output_type": "display_data"
    },
    {
     "data": {
      "application/vnd.jupyter.widget-view+json": {
       "model_id": "7fd798c60fd641dab3435534db9febca",
       "version_major": 2,
       "version_minor": 0
      },
      "text/plain": [
       "Map:   0%|          | 0/30 [00:00<?, ? examples/s]"
      ]
     },
     "metadata": {},
     "output_type": "display_data"
    },
    {
     "data": {
      "application/vnd.jupyter.widget-view+json": {
       "model_id": "05859340e836492da19968cf604ed228",
       "version_major": 2,
       "version_minor": 0
      },
      "text/plain": [
       "Map:   0%|          | 0/8 [00:00<?, ? examples/s]"
      ]
     },
     "metadata": {},
     "output_type": "display_data"
    },
    {
     "data": {
      "application/vnd.jupyter.widget-view+json": {
       "model_id": "287929f752ce4f3ba22c9c4c68b46eb4",
       "version_major": 2,
       "version_minor": 0
      },
      "text/plain": [
       "Map:   0%|          | 0/31 [00:00<?, ? examples/s]"
      ]
     },
     "metadata": {},
     "output_type": "display_data"
    },
    {
     "data": {
      "application/vnd.jupyter.widget-view+json": {
       "model_id": "1ce1aac525ef43068c47f1951127de3d",
       "version_major": 2,
       "version_minor": 0
      },
      "text/plain": [
       "Map:   0%|          | 0/7 [00:00<?, ? examples/s]"
      ]
     },
     "metadata": {},
     "output_type": "display_data"
    },
    {
     "data": {
      "application/vnd.jupyter.widget-view+json": {
       "model_id": "bd00b36fc0d44f11b8882af3eba416b6",
       "version_major": 2,
       "version_minor": 0
      },
      "text/plain": [
       "Map:   0%|          | 0/31 [00:00<?, ? examples/s]"
      ]
     },
     "metadata": {},
     "output_type": "display_data"
    },
    {
     "data": {
      "application/vnd.jupyter.widget-view+json": {
       "model_id": "e3a003d27d9b4cfb8741b2ceeec40803",
       "version_major": 2,
       "version_minor": 0
      },
      "text/plain": [
       "Map:   0%|          | 0/7 [00:00<?, ? examples/s]"
      ]
     },
     "metadata": {},
     "output_type": "display_data"
    },
    {
     "name": "stdout",
     "output_type": "stream",
     "text": [
      "StratifiedKFold(n_splits=5, random_state=None, shuffle=False)\n"
     ]
    },
    {
     "data": {
      "application/vnd.jupyter.widget-view+json": {
       "model_id": "434e4960e8ab492d84de53312f3f398b",
       "version_major": 2,
       "version_minor": 0
      },
      "text/plain": [
       "Map:   0%|          | 0/30 [00:00<?, ? examples/s]"
      ]
     },
     "metadata": {},
     "output_type": "display_data"
    },
    {
     "data": {
      "application/vnd.jupyter.widget-view+json": {
       "model_id": "b903e7b9e2684e7da51331218a713062",
       "version_major": 2,
       "version_minor": 0
      },
      "text/plain": [
       "Map:   0%|          | 0/8 [00:00<?, ? examples/s]"
      ]
     },
     "metadata": {},
     "output_type": "display_data"
    },
    {
     "data": {
      "application/vnd.jupyter.widget-view+json": {
       "model_id": "1a945e1d37644991bacfb860f7a35375",
       "version_major": 2,
       "version_minor": 0
      },
      "text/plain": [
       "Map:   0%|          | 0/30 [00:00<?, ? examples/s]"
      ]
     },
     "metadata": {},
     "output_type": "display_data"
    },
    {
     "data": {
      "application/vnd.jupyter.widget-view+json": {
       "model_id": "56e2e9b3407742c69404b1434934eabb",
       "version_major": 2,
       "version_minor": 0
      },
      "text/plain": [
       "Map:   0%|          | 0/8 [00:00<?, ? examples/s]"
      ]
     },
     "metadata": {},
     "output_type": "display_data"
    },
    {
     "data": {
      "application/vnd.jupyter.widget-view+json": {
       "model_id": "8efd7761543a43f0bf8ff9d12a0854f8",
       "version_major": 2,
       "version_minor": 0
      },
      "text/plain": [
       "Map:   0%|          | 0/30 [00:00<?, ? examples/s]"
      ]
     },
     "metadata": {},
     "output_type": "display_data"
    },
    {
     "data": {
      "application/vnd.jupyter.widget-view+json": {
       "model_id": "98605a1224644066ba6cbb0a2c38e255",
       "version_major": 2,
       "version_minor": 0
      },
      "text/plain": [
       "Map:   0%|          | 0/8 [00:00<?, ? examples/s]"
      ]
     },
     "metadata": {},
     "output_type": "display_data"
    },
    {
     "data": {
      "application/vnd.jupyter.widget-view+json": {
       "model_id": "a34191a56b50496f8d613a029223ca38",
       "version_major": 2,
       "version_minor": 0
      },
      "text/plain": [
       "Map:   0%|          | 0/31 [00:00<?, ? examples/s]"
      ]
     },
     "metadata": {},
     "output_type": "display_data"
    },
    {
     "data": {
      "application/vnd.jupyter.widget-view+json": {
       "model_id": "f642c0e2611748dd84e0e3bde22b1e09",
       "version_major": 2,
       "version_minor": 0
      },
      "text/plain": [
       "Map:   0%|          | 0/7 [00:00<?, ? examples/s]"
      ]
     },
     "metadata": {},
     "output_type": "display_data"
    },
    {
     "data": {
      "application/vnd.jupyter.widget-view+json": {
       "model_id": "c342f8e726e546099255f285b184c43a",
       "version_major": 2,
       "version_minor": 0
      },
      "text/plain": [
       "Map:   0%|          | 0/31 [00:00<?, ? examples/s]"
      ]
     },
     "metadata": {},
     "output_type": "display_data"
    },
    {
     "data": {
      "application/vnd.jupyter.widget-view+json": {
       "model_id": "1584fea50d724f009f0de84969662779",
       "version_major": 2,
       "version_minor": 0
      },
      "text/plain": [
       "Map:   0%|          | 0/7 [00:00<?, ? examples/s]"
      ]
     },
     "metadata": {},
     "output_type": "display_data"
    },
    {
     "name": "stdout",
     "output_type": "stream",
     "text": [
      "StratifiedKFold(n_splits=5, random_state=None, shuffle=False)\n"
     ]
    },
    {
     "data": {
      "application/vnd.jupyter.widget-view+json": {
       "model_id": "62a97ff1d9384cb99004da063146d411",
       "version_major": 2,
       "version_minor": 0
      },
      "text/plain": [
       "Map:   0%|          | 0/30 [00:00<?, ? examples/s]"
      ]
     },
     "metadata": {},
     "output_type": "display_data"
    },
    {
     "data": {
      "application/vnd.jupyter.widget-view+json": {
       "model_id": "619b2c7139c742579ca175982a49ffd2",
       "version_major": 2,
       "version_minor": 0
      },
      "text/plain": [
       "Map:   0%|          | 0/8 [00:00<?, ? examples/s]"
      ]
     },
     "metadata": {},
     "output_type": "display_data"
    },
    {
     "data": {
      "application/vnd.jupyter.widget-view+json": {
       "model_id": "14ff4c04dd274abb8a4391d85fb76db0",
       "version_major": 2,
       "version_minor": 0
      },
      "text/plain": [
       "Map:   0%|          | 0/30 [00:00<?, ? examples/s]"
      ]
     },
     "metadata": {},
     "output_type": "display_data"
    },
    {
     "data": {
      "application/vnd.jupyter.widget-view+json": {
       "model_id": "a039f3a6be8e4de0a0f63adc84641ddc",
       "version_major": 2,
       "version_minor": 0
      },
      "text/plain": [
       "Map:   0%|          | 0/8 [00:00<?, ? examples/s]"
      ]
     },
     "metadata": {},
     "output_type": "display_data"
    },
    {
     "data": {
      "application/vnd.jupyter.widget-view+json": {
       "model_id": "6ab3f89fd5ed46a988fb59d5a053620f",
       "version_major": 2,
       "version_minor": 0
      },
      "text/plain": [
       "Map:   0%|          | 0/30 [00:00<?, ? examples/s]"
      ]
     },
     "metadata": {},
     "output_type": "display_data"
    },
    {
     "data": {
      "application/vnd.jupyter.widget-view+json": {
       "model_id": "1182f63bfccc48ee84c31fd1c974c494",
       "version_major": 2,
       "version_minor": 0
      },
      "text/plain": [
       "Map:   0%|          | 0/8 [00:00<?, ? examples/s]"
      ]
     },
     "metadata": {},
     "output_type": "display_data"
    },
    {
     "data": {
      "application/vnd.jupyter.widget-view+json": {
       "model_id": "cee239aa733b4e10908e0347d7de1d9d",
       "version_major": 2,
       "version_minor": 0
      },
      "text/plain": [
       "Map:   0%|          | 0/31 [00:00<?, ? examples/s]"
      ]
     },
     "metadata": {},
     "output_type": "display_data"
    },
    {
     "data": {
      "application/vnd.jupyter.widget-view+json": {
       "model_id": "2f859f959a3b416894a2dd69bb2cbb38",
       "version_major": 2,
       "version_minor": 0
      },
      "text/plain": [
       "Map:   0%|          | 0/7 [00:00<?, ? examples/s]"
      ]
     },
     "metadata": {},
     "output_type": "display_data"
    },
    {
     "data": {
      "application/vnd.jupyter.widget-view+json": {
       "model_id": "4e1e21fdd55c4478872d79c2ff2c5ce9",
       "version_major": 2,
       "version_minor": 0
      },
      "text/plain": [
       "Map:   0%|          | 0/31 [00:00<?, ? examples/s]"
      ]
     },
     "metadata": {},
     "output_type": "display_data"
    },
    {
     "data": {
      "application/vnd.jupyter.widget-view+json": {
       "model_id": "dd926a2740f94ed696fc91b7ecce153c",
       "version_major": 2,
       "version_minor": 0
      },
      "text/plain": [
       "Map:   0%|          | 0/7 [00:00<?, ? examples/s]"
      ]
     },
     "metadata": {},
     "output_type": "display_data"
    },
    {
     "name": "stdout",
     "output_type": "stream",
     "text": [
      "StratifiedKFold(n_splits=5, random_state=None, shuffle=False)\n"
     ]
    },
    {
     "data": {
      "application/vnd.jupyter.widget-view+json": {
       "model_id": "293ea2852bae40f29ddab3f7b65f2374",
       "version_major": 2,
       "version_minor": 0
      },
      "text/plain": [
       "Map:   0%|          | 0/30 [00:00<?, ? examples/s]"
      ]
     },
     "metadata": {},
     "output_type": "display_data"
    },
    {
     "data": {
      "application/vnd.jupyter.widget-view+json": {
       "model_id": "29146fd83efd4bd09e098d9c3f620a58",
       "version_major": 2,
       "version_minor": 0
      },
      "text/plain": [
       "Map:   0%|          | 0/8 [00:00<?, ? examples/s]"
      ]
     },
     "metadata": {},
     "output_type": "display_data"
    },
    {
     "data": {
      "application/vnd.jupyter.widget-view+json": {
       "model_id": "e6c13440f8ca4704a70b94a0c9c5ad00",
       "version_major": 2,
       "version_minor": 0
      },
      "text/plain": [
       "Map:   0%|          | 0/30 [00:00<?, ? examples/s]"
      ]
     },
     "metadata": {},
     "output_type": "display_data"
    },
    {
     "data": {
      "application/vnd.jupyter.widget-view+json": {
       "model_id": "098c40df3fa34158a9c6f97d4ac4ab46",
       "version_major": 2,
       "version_minor": 0
      },
      "text/plain": [
       "Map:   0%|          | 0/8 [00:00<?, ? examples/s]"
      ]
     },
     "metadata": {},
     "output_type": "display_data"
    },
    {
     "data": {
      "application/vnd.jupyter.widget-view+json": {
       "model_id": "fdb951c1293c421999b7167e55fa77db",
       "version_major": 2,
       "version_minor": 0
      },
      "text/plain": [
       "Map:   0%|          | 0/30 [00:00<?, ? examples/s]"
      ]
     },
     "metadata": {},
     "output_type": "display_data"
    },
    {
     "data": {
      "application/vnd.jupyter.widget-view+json": {
       "model_id": "fee411802aa54a00b7daf5ab412a233d",
       "version_major": 2,
       "version_minor": 0
      },
      "text/plain": [
       "Map:   0%|          | 0/8 [00:00<?, ? examples/s]"
      ]
     },
     "metadata": {},
     "output_type": "display_data"
    },
    {
     "data": {
      "application/vnd.jupyter.widget-view+json": {
       "model_id": "f48ec8abd27e4bcc9ad11f000fcae12f",
       "version_major": 2,
       "version_minor": 0
      },
      "text/plain": [
       "Map:   0%|          | 0/31 [00:00<?, ? examples/s]"
      ]
     },
     "metadata": {},
     "output_type": "display_data"
    },
    {
     "data": {
      "application/vnd.jupyter.widget-view+json": {
       "model_id": "2e3bb40d4d914f4baeebe6fae7d979ba",
       "version_major": 2,
       "version_minor": 0
      },
      "text/plain": [
       "Map:   0%|          | 0/7 [00:00<?, ? examples/s]"
      ]
     },
     "metadata": {},
     "output_type": "display_data"
    },
    {
     "data": {
      "application/vnd.jupyter.widget-view+json": {
       "model_id": "8cf8f2ff11f74cce97fe1ab72b96eafd",
       "version_major": 2,
       "version_minor": 0
      },
      "text/plain": [
       "Map:   0%|          | 0/31 [00:00<?, ? examples/s]"
      ]
     },
     "metadata": {},
     "output_type": "display_data"
    },
    {
     "data": {
      "application/vnd.jupyter.widget-view+json": {
       "model_id": "682a420f7b8b4a25945c7da99ef2a773",
       "version_major": 2,
       "version_minor": 0
      },
      "text/plain": [
       "Map:   0%|          | 0/7 [00:00<?, ? examples/s]"
      ]
     },
     "metadata": {},
     "output_type": "display_data"
    },
    {
     "name": "stdout",
     "output_type": "stream",
     "text": [
      "StratifiedKFold(n_splits=5, random_state=None, shuffle=False)\n"
     ]
    },
    {
     "data": {
      "application/vnd.jupyter.widget-view+json": {
       "model_id": "2575befd4bbe42a789a04fb825b24ab4",
       "version_major": 2,
       "version_minor": 0
      },
      "text/plain": [
       "Map:   0%|          | 0/30 [00:00<?, ? examples/s]"
      ]
     },
     "metadata": {},
     "output_type": "display_data"
    },
    {
     "data": {
      "application/vnd.jupyter.widget-view+json": {
       "model_id": "dd263068ba5347e29784e358e4ef1309",
       "version_major": 2,
       "version_minor": 0
      },
      "text/plain": [
       "Map:   0%|          | 0/8 [00:00<?, ? examples/s]"
      ]
     },
     "metadata": {},
     "output_type": "display_data"
    },
    {
     "data": {
      "application/vnd.jupyter.widget-view+json": {
       "model_id": "aba775335b99466bbab0eed7dbbbf2c0",
       "version_major": 2,
       "version_minor": 0
      },
      "text/plain": [
       "Map:   0%|          | 0/30 [00:00<?, ? examples/s]"
      ]
     },
     "metadata": {},
     "output_type": "display_data"
    },
    {
     "data": {
      "application/vnd.jupyter.widget-view+json": {
       "model_id": "7a5702258cca4277b0a91d209f15d138",
       "version_major": 2,
       "version_minor": 0
      },
      "text/plain": [
       "Map:   0%|          | 0/8 [00:00<?, ? examples/s]"
      ]
     },
     "metadata": {},
     "output_type": "display_data"
    },
    {
     "data": {
      "application/vnd.jupyter.widget-view+json": {
       "model_id": "8f0b129b5d824f00816a2478cee9765d",
       "version_major": 2,
       "version_minor": 0
      },
      "text/plain": [
       "Map:   0%|          | 0/30 [00:00<?, ? examples/s]"
      ]
     },
     "metadata": {},
     "output_type": "display_data"
    },
    {
     "data": {
      "application/vnd.jupyter.widget-view+json": {
       "model_id": "1263f8795e54477588e78c3def25c980",
       "version_major": 2,
       "version_minor": 0
      },
      "text/plain": [
       "Map:   0%|          | 0/8 [00:00<?, ? examples/s]"
      ]
     },
     "metadata": {},
     "output_type": "display_data"
    },
    {
     "data": {
      "application/vnd.jupyter.widget-view+json": {
       "model_id": "ee005fe461e54f82a7e850daf8bc5d1f",
       "version_major": 2,
       "version_minor": 0
      },
      "text/plain": [
       "Map:   0%|          | 0/31 [00:00<?, ? examples/s]"
      ]
     },
     "metadata": {},
     "output_type": "display_data"
    },
    {
     "data": {
      "application/vnd.jupyter.widget-view+json": {
       "model_id": "0b0722403bba4af0b464980d3dd0d76d",
       "version_major": 2,
       "version_minor": 0
      },
      "text/plain": [
       "Map:   0%|          | 0/7 [00:00<?, ? examples/s]"
      ]
     },
     "metadata": {},
     "output_type": "display_data"
    },
    {
     "data": {
      "application/vnd.jupyter.widget-view+json": {
       "model_id": "8831078e277e4fff94f26d517b8cd9c2",
       "version_major": 2,
       "version_minor": 0
      },
      "text/plain": [
       "Map:   0%|          | 0/31 [00:00<?, ? examples/s]"
      ]
     },
     "metadata": {},
     "output_type": "display_data"
    },
    {
     "data": {
      "application/vnd.jupyter.widget-view+json": {
       "model_id": "81da1bd6bfe549648a38c03841944e85",
       "version_major": 2,
       "version_minor": 0
      },
      "text/plain": [
       "Map:   0%|          | 0/7 [00:00<?, ? examples/s]"
      ]
     },
     "metadata": {},
     "output_type": "display_data"
    },
    {
     "name": "stdout",
     "output_type": "stream",
     "text": [
      "StratifiedKFold(n_splits=5, random_state=None, shuffle=False)\n"
     ]
    },
    {
     "data": {
      "application/vnd.jupyter.widget-view+json": {
       "model_id": "6a2e6ed8b3fb4f4d97a5602ac1ba555f",
       "version_major": 2,
       "version_minor": 0
      },
      "text/plain": [
       "Map:   0%|          | 0/30 [00:00<?, ? examples/s]"
      ]
     },
     "metadata": {},
     "output_type": "display_data"
    },
    {
     "data": {
      "application/vnd.jupyter.widget-view+json": {
       "model_id": "55d2140d3bf84ee0b72a55145ebb2d88",
       "version_major": 2,
       "version_minor": 0
      },
      "text/plain": [
       "Map:   0%|          | 0/8 [00:00<?, ? examples/s]"
      ]
     },
     "metadata": {},
     "output_type": "display_data"
    },
    {
     "data": {
      "application/vnd.jupyter.widget-view+json": {
       "model_id": "a6daeed0fe75455c8d6c8800a05315d5",
       "version_major": 2,
       "version_minor": 0
      },
      "text/plain": [
       "Map:   0%|          | 0/30 [00:00<?, ? examples/s]"
      ]
     },
     "metadata": {},
     "output_type": "display_data"
    },
    {
     "data": {
      "application/vnd.jupyter.widget-view+json": {
       "model_id": "d758b0a0567f4dc396535fb771e6c3a3",
       "version_major": 2,
       "version_minor": 0
      },
      "text/plain": [
       "Map:   0%|          | 0/8 [00:00<?, ? examples/s]"
      ]
     },
     "metadata": {},
     "output_type": "display_data"
    },
    {
     "data": {
      "application/vnd.jupyter.widget-view+json": {
       "model_id": "3dc42ba00b214c4783a838c2a43fb83f",
       "version_major": 2,
       "version_minor": 0
      },
      "text/plain": [
       "Map:   0%|          | 0/30 [00:00<?, ? examples/s]"
      ]
     },
     "metadata": {},
     "output_type": "display_data"
    },
    {
     "data": {
      "application/vnd.jupyter.widget-view+json": {
       "model_id": "187264bf3aa1427083c3cfd9367a231c",
       "version_major": 2,
       "version_minor": 0
      },
      "text/plain": [
       "Map:   0%|          | 0/8 [00:00<?, ? examples/s]"
      ]
     },
     "metadata": {},
     "output_type": "display_data"
    },
    {
     "data": {
      "application/vnd.jupyter.widget-view+json": {
       "model_id": "4f8671b630674aea8a071074377247ce",
       "version_major": 2,
       "version_minor": 0
      },
      "text/plain": [
       "Map:   0%|          | 0/31 [00:00<?, ? examples/s]"
      ]
     },
     "metadata": {},
     "output_type": "display_data"
    },
    {
     "data": {
      "application/vnd.jupyter.widget-view+json": {
       "model_id": "5a3521a37412456c8b4f42cfba865dd1",
       "version_major": 2,
       "version_minor": 0
      },
      "text/plain": [
       "Map:   0%|          | 0/7 [00:00<?, ? examples/s]"
      ]
     },
     "metadata": {},
     "output_type": "display_data"
    },
    {
     "data": {
      "application/vnd.jupyter.widget-view+json": {
       "model_id": "7db42e65795a43c3927f179fc64f1ab8",
       "version_major": 2,
       "version_minor": 0
      },
      "text/plain": [
       "Map:   0%|          | 0/31 [00:00<?, ? examples/s]"
      ]
     },
     "metadata": {},
     "output_type": "display_data"
    },
    {
     "data": {
      "application/vnd.jupyter.widget-view+json": {
       "model_id": "1916cf8b08dc49579bfe19bfd90e4759",
       "version_major": 2,
       "version_minor": 0
      },
      "text/plain": [
       "Map:   0%|          | 0/7 [00:00<?, ? examples/s]"
      ]
     },
     "metadata": {},
     "output_type": "display_data"
    },
    {
     "name": "stdout",
     "output_type": "stream",
     "text": [
      "StratifiedKFold(n_splits=5, random_state=None, shuffle=False)\n"
     ]
    },
    {
     "data": {
      "application/vnd.jupyter.widget-view+json": {
       "model_id": "75b52f3ab38048728ac5b54c4c4c684b",
       "version_major": 2,
       "version_minor": 0
      },
      "text/plain": [
       "Map:   0%|          | 0/30 [00:00<?, ? examples/s]"
      ]
     },
     "metadata": {},
     "output_type": "display_data"
    },
    {
     "data": {
      "application/vnd.jupyter.widget-view+json": {
       "model_id": "5cff4a31129a4ae4809c2c54076c30ec",
       "version_major": 2,
       "version_minor": 0
      },
      "text/plain": [
       "Map:   0%|          | 0/8 [00:00<?, ? examples/s]"
      ]
     },
     "metadata": {},
     "output_type": "display_data"
    },
    {
     "data": {
      "application/vnd.jupyter.widget-view+json": {
       "model_id": "d7208b4d5fd84c9d97d869552a4f069e",
       "version_major": 2,
       "version_minor": 0
      },
      "text/plain": [
       "Map:   0%|          | 0/30 [00:00<?, ? examples/s]"
      ]
     },
     "metadata": {},
     "output_type": "display_data"
    },
    {
     "data": {
      "application/vnd.jupyter.widget-view+json": {
       "model_id": "d59e4eba02b2495db900ae693c3cf796",
       "version_major": 2,
       "version_minor": 0
      },
      "text/plain": [
       "Map:   0%|          | 0/8 [00:00<?, ? examples/s]"
      ]
     },
     "metadata": {},
     "output_type": "display_data"
    },
    {
     "data": {
      "application/vnd.jupyter.widget-view+json": {
       "model_id": "6f8a1714a2b845239c0c148cbd14a1e9",
       "version_major": 2,
       "version_minor": 0
      },
      "text/plain": [
       "Map:   0%|          | 0/30 [00:00<?, ? examples/s]"
      ]
     },
     "metadata": {},
     "output_type": "display_data"
    },
    {
     "data": {
      "application/vnd.jupyter.widget-view+json": {
       "model_id": "19f3d9dcf5e545f3bf6998ac45c63cb2",
       "version_major": 2,
       "version_minor": 0
      },
      "text/plain": [
       "Map:   0%|          | 0/8 [00:00<?, ? examples/s]"
      ]
     },
     "metadata": {},
     "output_type": "display_data"
    },
    {
     "data": {
      "application/vnd.jupyter.widget-view+json": {
       "model_id": "058b1abe064847d5a6a416a2cf422026",
       "version_major": 2,
       "version_minor": 0
      },
      "text/plain": [
       "Map:   0%|          | 0/31 [00:00<?, ? examples/s]"
      ]
     },
     "metadata": {},
     "output_type": "display_data"
    },
    {
     "data": {
      "application/vnd.jupyter.widget-view+json": {
       "model_id": "7c20ad4f7f2640dc89d7b49a27d46349",
       "version_major": 2,
       "version_minor": 0
      },
      "text/plain": [
       "Map:   0%|          | 0/7 [00:00<?, ? examples/s]"
      ]
     },
     "metadata": {},
     "output_type": "display_data"
    },
    {
     "data": {
      "application/vnd.jupyter.widget-view+json": {
       "model_id": "27ca8c036f764ef282114a4b3b87135b",
       "version_major": 2,
       "version_minor": 0
      },
      "text/plain": [
       "Map:   0%|          | 0/31 [00:00<?, ? examples/s]"
      ]
     },
     "metadata": {},
     "output_type": "display_data"
    },
    {
     "data": {
      "application/vnd.jupyter.widget-view+json": {
       "model_id": "c33462643ea7401b85dd665c7ac066cc",
       "version_major": 2,
       "version_minor": 0
      },
      "text/plain": [
       "Map:   0%|          | 0/7 [00:00<?, ? examples/s]"
      ]
     },
     "metadata": {},
     "output_type": "display_data"
    },
    {
     "name": "stdout",
     "output_type": "stream",
     "text": [
      "StratifiedKFold(n_splits=5, random_state=None, shuffle=False)\n"
     ]
    },
    {
     "data": {
      "application/vnd.jupyter.widget-view+json": {
       "model_id": "9867237f1d8d47ba89fd8bd933c2d617",
       "version_major": 2,
       "version_minor": 0
      },
      "text/plain": [
       "Map:   0%|          | 0/30 [00:00<?, ? examples/s]"
      ]
     },
     "metadata": {},
     "output_type": "display_data"
    },
    {
     "data": {
      "application/vnd.jupyter.widget-view+json": {
       "model_id": "a71331c6f2714f0299be2b9c25d08ded",
       "version_major": 2,
       "version_minor": 0
      },
      "text/plain": [
       "Map:   0%|          | 0/8 [00:00<?, ? examples/s]"
      ]
     },
     "metadata": {},
     "output_type": "display_data"
    },
    {
     "data": {
      "application/vnd.jupyter.widget-view+json": {
       "model_id": "b9b62e2a0eaf487e8902e1f01271fc76",
       "version_major": 2,
       "version_minor": 0
      },
      "text/plain": [
       "Map:   0%|          | 0/30 [00:00<?, ? examples/s]"
      ]
     },
     "metadata": {},
     "output_type": "display_data"
    },
    {
     "data": {
      "application/vnd.jupyter.widget-view+json": {
       "model_id": "111559955cea41709962d7d0e812c4a8",
       "version_major": 2,
       "version_minor": 0
      },
      "text/plain": [
       "Map:   0%|          | 0/8 [00:00<?, ? examples/s]"
      ]
     },
     "metadata": {},
     "output_type": "display_data"
    },
    {
     "data": {
      "application/vnd.jupyter.widget-view+json": {
       "model_id": "cda03d7dca664a6382062121e51d1c48",
       "version_major": 2,
       "version_minor": 0
      },
      "text/plain": [
       "Map:   0%|          | 0/30 [00:00<?, ? examples/s]"
      ]
     },
     "metadata": {},
     "output_type": "display_data"
    },
    {
     "data": {
      "application/vnd.jupyter.widget-view+json": {
       "model_id": "c434be7b51634af298ecfcc7b757ce4a",
       "version_major": 2,
       "version_minor": 0
      },
      "text/plain": [
       "Map:   0%|          | 0/8 [00:00<?, ? examples/s]"
      ]
     },
     "metadata": {},
     "output_type": "display_data"
    },
    {
     "data": {
      "application/vnd.jupyter.widget-view+json": {
       "model_id": "10c5cc6a41f8498e9511b7130466af04",
       "version_major": 2,
       "version_minor": 0
      },
      "text/plain": [
       "Map:   0%|          | 0/31 [00:00<?, ? examples/s]"
      ]
     },
     "metadata": {},
     "output_type": "display_data"
    },
    {
     "data": {
      "application/vnd.jupyter.widget-view+json": {
       "model_id": "db739750010f4adfa89fdccc314bf5c2",
       "version_major": 2,
       "version_minor": 0
      },
      "text/plain": [
       "Map:   0%|          | 0/7 [00:00<?, ? examples/s]"
      ]
     },
     "metadata": {},
     "output_type": "display_data"
    },
    {
     "data": {
      "application/vnd.jupyter.widget-view+json": {
       "model_id": "bfb4236295f7439a973d11731b7715b8",
       "version_major": 2,
       "version_minor": 0
      },
      "text/plain": [
       "Map:   0%|          | 0/31 [00:00<?, ? examples/s]"
      ]
     },
     "metadata": {},
     "output_type": "display_data"
    },
    {
     "data": {
      "application/vnd.jupyter.widget-view+json": {
       "model_id": "4ba3f1dd7c3a49fa95d5f9afd2c26897",
       "version_major": 2,
       "version_minor": 0
      },
      "text/plain": [
       "Map:   0%|          | 0/7 [00:00<?, ? examples/s]"
      ]
     },
     "metadata": {},
     "output_type": "display_data"
    },
    {
     "name": "stdout",
     "output_type": "stream",
     "text": [
      "StratifiedKFold(n_splits=5, random_state=None, shuffle=False)\n"
     ]
    },
    {
     "data": {
      "application/vnd.jupyter.widget-view+json": {
       "model_id": "887c55ae935f48d694c865e2c1cba322",
       "version_major": 2,
       "version_minor": 0
      },
      "text/plain": [
       "Map:   0%|          | 0/30 [00:00<?, ? examples/s]"
      ]
     },
     "metadata": {},
     "output_type": "display_data"
    },
    {
     "data": {
      "application/vnd.jupyter.widget-view+json": {
       "model_id": "5548bb92f41a4ad09d54c85ed69373f4",
       "version_major": 2,
       "version_minor": 0
      },
      "text/plain": [
       "Map:   0%|          | 0/8 [00:00<?, ? examples/s]"
      ]
     },
     "metadata": {},
     "output_type": "display_data"
    },
    {
     "data": {
      "application/vnd.jupyter.widget-view+json": {
       "model_id": "b5783b76611d480abd40997cec070d48",
       "version_major": 2,
       "version_minor": 0
      },
      "text/plain": [
       "Map:   0%|          | 0/30 [00:00<?, ? examples/s]"
      ]
     },
     "metadata": {},
     "output_type": "display_data"
    },
    {
     "data": {
      "application/vnd.jupyter.widget-view+json": {
       "model_id": "c619472fa27e4a1dbec43f86d90ebd5b",
       "version_major": 2,
       "version_minor": 0
      },
      "text/plain": [
       "Map:   0%|          | 0/8 [00:00<?, ? examples/s]"
      ]
     },
     "metadata": {},
     "output_type": "display_data"
    },
    {
     "data": {
      "application/vnd.jupyter.widget-view+json": {
       "model_id": "eb958ef49a124dffbefa65c90cc72ac3",
       "version_major": 2,
       "version_minor": 0
      },
      "text/plain": [
       "Map:   0%|          | 0/30 [00:00<?, ? examples/s]"
      ]
     },
     "metadata": {},
     "output_type": "display_data"
    },
    {
     "data": {
      "application/vnd.jupyter.widget-view+json": {
       "model_id": "e901d479735f4c89a4c55788cce2181e",
       "version_major": 2,
       "version_minor": 0
      },
      "text/plain": [
       "Map:   0%|          | 0/8 [00:00<?, ? examples/s]"
      ]
     },
     "metadata": {},
     "output_type": "display_data"
    },
    {
     "data": {
      "application/vnd.jupyter.widget-view+json": {
       "model_id": "2a5cb90f778d439c8e5d4dbd2f89e4ad",
       "version_major": 2,
       "version_minor": 0
      },
      "text/plain": [
       "Map:   0%|          | 0/31 [00:00<?, ? examples/s]"
      ]
     },
     "metadata": {},
     "output_type": "display_data"
    },
    {
     "data": {
      "application/vnd.jupyter.widget-view+json": {
       "model_id": "208b69a169254332b265854e56cf2cf0",
       "version_major": 2,
       "version_minor": 0
      },
      "text/plain": [
       "Map:   0%|          | 0/7 [00:00<?, ? examples/s]"
      ]
     },
     "metadata": {},
     "output_type": "display_data"
    },
    {
     "data": {
      "application/vnd.jupyter.widget-view+json": {
       "model_id": "b422de0d988c4190842d21a557f34540",
       "version_major": 2,
       "version_minor": 0
      },
      "text/plain": [
       "Map:   0%|          | 0/31 [00:00<?, ? examples/s]"
      ]
     },
     "metadata": {},
     "output_type": "display_data"
    },
    {
     "data": {
      "application/vnd.jupyter.widget-view+json": {
       "model_id": "63b9b653265c47d5b626478e53aa231e",
       "version_major": 2,
       "version_minor": 0
      },
      "text/plain": [
       "Map:   0%|          | 0/7 [00:00<?, ? examples/s]"
      ]
     },
     "metadata": {},
     "output_type": "display_data"
    },
    {
     "name": "stdout",
     "output_type": "stream",
     "text": [
      "StratifiedKFold(n_splits=5, random_state=None, shuffle=False)\n"
     ]
    },
    {
     "data": {
      "application/vnd.jupyter.widget-view+json": {
       "model_id": "d67fab8d26ff4e5a9dbf47ecc780b091",
       "version_major": 2,
       "version_minor": 0
      },
      "text/plain": [
       "Map:   0%|          | 0/30 [00:00<?, ? examples/s]"
      ]
     },
     "metadata": {},
     "output_type": "display_data"
    },
    {
     "data": {
      "application/vnd.jupyter.widget-view+json": {
       "model_id": "a9372583f2164650b1a190ea0ab8813c",
       "version_major": 2,
       "version_minor": 0
      },
      "text/plain": [
       "Map:   0%|          | 0/8 [00:00<?, ? examples/s]"
      ]
     },
     "metadata": {},
     "output_type": "display_data"
    },
    {
     "data": {
      "application/vnd.jupyter.widget-view+json": {
       "model_id": "cd61b287d98c4a64854f370b453502db",
       "version_major": 2,
       "version_minor": 0
      },
      "text/plain": [
       "Map:   0%|          | 0/30 [00:00<?, ? examples/s]"
      ]
     },
     "metadata": {},
     "output_type": "display_data"
    },
    {
     "data": {
      "application/vnd.jupyter.widget-view+json": {
       "model_id": "8ea8266790214f239a78374a8e4fc38c",
       "version_major": 2,
       "version_minor": 0
      },
      "text/plain": [
       "Map:   0%|          | 0/8 [00:00<?, ? examples/s]"
      ]
     },
     "metadata": {},
     "output_type": "display_data"
    },
    {
     "data": {
      "application/vnd.jupyter.widget-view+json": {
       "model_id": "bcc8451c26cc4bccb02123212dc39691",
       "version_major": 2,
       "version_minor": 0
      },
      "text/plain": [
       "Map:   0%|          | 0/30 [00:00<?, ? examples/s]"
      ]
     },
     "metadata": {},
     "output_type": "display_data"
    },
    {
     "data": {
      "application/vnd.jupyter.widget-view+json": {
       "model_id": "b0e8335645f14b32aa856caab0ee7da8",
       "version_major": 2,
       "version_minor": 0
      },
      "text/plain": [
       "Map:   0%|          | 0/8 [00:00<?, ? examples/s]"
      ]
     },
     "metadata": {},
     "output_type": "display_data"
    },
    {
     "data": {
      "application/vnd.jupyter.widget-view+json": {
       "model_id": "c7307051d7a44e69bdee656ac1bb264f",
       "version_major": 2,
       "version_minor": 0
      },
      "text/plain": [
       "Map:   0%|          | 0/31 [00:00<?, ? examples/s]"
      ]
     },
     "metadata": {},
     "output_type": "display_data"
    },
    {
     "data": {
      "application/vnd.jupyter.widget-view+json": {
       "model_id": "6838c3d52b044398a3035df906c658f8",
       "version_major": 2,
       "version_minor": 0
      },
      "text/plain": [
       "Map:   0%|          | 0/7 [00:00<?, ? examples/s]"
      ]
     },
     "metadata": {},
     "output_type": "display_data"
    },
    {
     "data": {
      "application/vnd.jupyter.widget-view+json": {
       "model_id": "f8d8df0e1fbf41018e5093ef4ef7dad1",
       "version_major": 2,
       "version_minor": 0
      },
      "text/plain": [
       "Map:   0%|          | 0/31 [00:00<?, ? examples/s]"
      ]
     },
     "metadata": {},
     "output_type": "display_data"
    },
    {
     "data": {
      "application/vnd.jupyter.widget-view+json": {
       "model_id": "9e5e78779e5646bd8358d107c4ad384a",
       "version_major": 2,
       "version_minor": 0
      },
      "text/plain": [
       "Map:   0%|          | 0/7 [00:00<?, ? examples/s]"
      ]
     },
     "metadata": {},
     "output_type": "display_data"
    },
    {
     "name": "stdout",
     "output_type": "stream",
     "text": [
      "StratifiedKFold(n_splits=5, random_state=None, shuffle=False)\n"
     ]
    },
    {
     "data": {
      "application/vnd.jupyter.widget-view+json": {
       "model_id": "e9c70845fdab4f7fa5121f5e893af687",
       "version_major": 2,
       "version_minor": 0
      },
      "text/plain": [
       "Map:   0%|          | 0/30 [00:00<?, ? examples/s]"
      ]
     },
     "metadata": {},
     "output_type": "display_data"
    },
    {
     "data": {
      "application/vnd.jupyter.widget-view+json": {
       "model_id": "e8e5b05c8ade4d2d9f31a8b2edecfcf2",
       "version_major": 2,
       "version_minor": 0
      },
      "text/plain": [
       "Map:   0%|          | 0/8 [00:00<?, ? examples/s]"
      ]
     },
     "metadata": {},
     "output_type": "display_data"
    },
    {
     "data": {
      "application/vnd.jupyter.widget-view+json": {
       "model_id": "6e2c18afcf59490fb15cab03f15947c8",
       "version_major": 2,
       "version_minor": 0
      },
      "text/plain": [
       "Map:   0%|          | 0/30 [00:00<?, ? examples/s]"
      ]
     },
     "metadata": {},
     "output_type": "display_data"
    },
    {
     "data": {
      "application/vnd.jupyter.widget-view+json": {
       "model_id": "ea39b88dfebd4961be62ac8327af6411",
       "version_major": 2,
       "version_minor": 0
      },
      "text/plain": [
       "Map:   0%|          | 0/8 [00:00<?, ? examples/s]"
      ]
     },
     "metadata": {},
     "output_type": "display_data"
    },
    {
     "data": {
      "application/vnd.jupyter.widget-view+json": {
       "model_id": "80ad0c8ddff94324ba14d64c06412bbd",
       "version_major": 2,
       "version_minor": 0
      },
      "text/plain": [
       "Map:   0%|          | 0/30 [00:00<?, ? examples/s]"
      ]
     },
     "metadata": {},
     "output_type": "display_data"
    },
    {
     "data": {
      "application/vnd.jupyter.widget-view+json": {
       "model_id": "4490d2c0972e49d6953fc69592711864",
       "version_major": 2,
       "version_minor": 0
      },
      "text/plain": [
       "Map:   0%|          | 0/8 [00:00<?, ? examples/s]"
      ]
     },
     "metadata": {},
     "output_type": "display_data"
    },
    {
     "data": {
      "application/vnd.jupyter.widget-view+json": {
       "model_id": "6b24729ba44840a59d61d05593b5ea65",
       "version_major": 2,
       "version_minor": 0
      },
      "text/plain": [
       "Map:   0%|          | 0/31 [00:00<?, ? examples/s]"
      ]
     },
     "metadata": {},
     "output_type": "display_data"
    },
    {
     "data": {
      "application/vnd.jupyter.widget-view+json": {
       "model_id": "f9a03d2d639c4ae1a0b7a7fc9e9375c3",
       "version_major": 2,
       "version_minor": 0
      },
      "text/plain": [
       "Map:   0%|          | 0/7 [00:00<?, ? examples/s]"
      ]
     },
     "metadata": {},
     "output_type": "display_data"
    },
    {
     "data": {
      "application/vnd.jupyter.widget-view+json": {
       "model_id": "221ecbd0757e4b2385e3981f3f411862",
       "version_major": 2,
       "version_minor": 0
      },
      "text/plain": [
       "Map:   0%|          | 0/31 [00:00<?, ? examples/s]"
      ]
     },
     "metadata": {},
     "output_type": "display_data"
    },
    {
     "data": {
      "application/vnd.jupyter.widget-view+json": {
       "model_id": "2ba49efbd26443cca62f4690784d46e6",
       "version_major": 2,
       "version_minor": 0
      },
      "text/plain": [
       "Map:   0%|          | 0/7 [00:00<?, ? examples/s]"
      ]
     },
     "metadata": {},
     "output_type": "display_data"
    },
    {
     "name": "stdout",
     "output_type": "stream",
     "text": [
      "StratifiedKFold(n_splits=5, random_state=None, shuffle=False)\n"
     ]
    },
    {
     "data": {
      "application/vnd.jupyter.widget-view+json": {
       "model_id": "98c7c897e4d641d0bf3ffaaf4f6c44e9",
       "version_major": 2,
       "version_minor": 0
      },
      "text/plain": [
       "Map:   0%|          | 0/30 [00:00<?, ? examples/s]"
      ]
     },
     "metadata": {},
     "output_type": "display_data"
    },
    {
     "data": {
      "application/vnd.jupyter.widget-view+json": {
       "model_id": "44e87b68501e4b74bc720de28a4a83cf",
       "version_major": 2,
       "version_minor": 0
      },
      "text/plain": [
       "Map:   0%|          | 0/8 [00:00<?, ? examples/s]"
      ]
     },
     "metadata": {},
     "output_type": "display_data"
    },
    {
     "data": {
      "application/vnd.jupyter.widget-view+json": {
       "model_id": "a0188cedbee44dd584205cc4305da4c2",
       "version_major": 2,
       "version_minor": 0
      },
      "text/plain": [
       "Map:   0%|          | 0/30 [00:00<?, ? examples/s]"
      ]
     },
     "metadata": {},
     "output_type": "display_data"
    },
    {
     "data": {
      "application/vnd.jupyter.widget-view+json": {
       "model_id": "f68c27468444409d80a6af4b33649e0b",
       "version_major": 2,
       "version_minor": 0
      },
      "text/plain": [
       "Map:   0%|          | 0/8 [00:00<?, ? examples/s]"
      ]
     },
     "metadata": {},
     "output_type": "display_data"
    },
    {
     "data": {
      "application/vnd.jupyter.widget-view+json": {
       "model_id": "b9cc2d5df4194ffb9abfee0e38cca02b",
       "version_major": 2,
       "version_minor": 0
      },
      "text/plain": [
       "Map:   0%|          | 0/30 [00:00<?, ? examples/s]"
      ]
     },
     "metadata": {},
     "output_type": "display_data"
    },
    {
     "data": {
      "application/vnd.jupyter.widget-view+json": {
       "model_id": "b0605987648d4e22a2dd24e66c60bfe7",
       "version_major": 2,
       "version_minor": 0
      },
      "text/plain": [
       "Map:   0%|          | 0/8 [00:00<?, ? examples/s]"
      ]
     },
     "metadata": {},
     "output_type": "display_data"
    },
    {
     "data": {
      "application/vnd.jupyter.widget-view+json": {
       "model_id": "561e33e0a55b44219e26d8376871efb8",
       "version_major": 2,
       "version_minor": 0
      },
      "text/plain": [
       "Map:   0%|          | 0/31 [00:00<?, ? examples/s]"
      ]
     },
     "metadata": {},
     "output_type": "display_data"
    },
    {
     "data": {
      "application/vnd.jupyter.widget-view+json": {
       "model_id": "e3a286a35da845e18a2bda96b490eb6b",
       "version_major": 2,
       "version_minor": 0
      },
      "text/plain": [
       "Map:   0%|          | 0/7 [00:00<?, ? examples/s]"
      ]
     },
     "metadata": {},
     "output_type": "display_data"
    },
    {
     "data": {
      "application/vnd.jupyter.widget-view+json": {
       "model_id": "3b8ffcbdb767454eae50fdbeb7de1fea",
       "version_major": 2,
       "version_minor": 0
      },
      "text/plain": [
       "Map:   0%|          | 0/31 [00:00<?, ? examples/s]"
      ]
     },
     "metadata": {},
     "output_type": "display_data"
    },
    {
     "data": {
      "application/vnd.jupyter.widget-view+json": {
       "model_id": "7c5f7a1e6d1c46eb979daff1a0233b40",
       "version_major": 2,
       "version_minor": 0
      },
      "text/plain": [
       "Map:   0%|          | 0/7 [00:00<?, ? examples/s]"
      ]
     },
     "metadata": {},
     "output_type": "display_data"
    },
    {
     "name": "stdout",
     "output_type": "stream",
     "text": [
      "StratifiedKFold(n_splits=5, random_state=None, shuffle=False)\n"
     ]
    },
    {
     "data": {
      "application/vnd.jupyter.widget-view+json": {
       "model_id": "b269668c3e724b21b02f6140dabf41a0",
       "version_major": 2,
       "version_minor": 0
      },
      "text/plain": [
       "Map:   0%|          | 0/30 [00:00<?, ? examples/s]"
      ]
     },
     "metadata": {},
     "output_type": "display_data"
    },
    {
     "data": {
      "application/vnd.jupyter.widget-view+json": {
       "model_id": "c974d462c7ec4db2946b6cfe6afc5851",
       "version_major": 2,
       "version_minor": 0
      },
      "text/plain": [
       "Map:   0%|          | 0/8 [00:00<?, ? examples/s]"
      ]
     },
     "metadata": {},
     "output_type": "display_data"
    },
    {
     "data": {
      "application/vnd.jupyter.widget-view+json": {
       "model_id": "2ad6f987d50f435f9e4c64449ed9de12",
       "version_major": 2,
       "version_minor": 0
      },
      "text/plain": [
       "Map:   0%|          | 0/30 [00:00<?, ? examples/s]"
      ]
     },
     "metadata": {},
     "output_type": "display_data"
    },
    {
     "data": {
      "application/vnd.jupyter.widget-view+json": {
       "model_id": "6ac92505a45847a6b6240edbbda06728",
       "version_major": 2,
       "version_minor": 0
      },
      "text/plain": [
       "Map:   0%|          | 0/8 [00:00<?, ? examples/s]"
      ]
     },
     "metadata": {},
     "output_type": "display_data"
    },
    {
     "data": {
      "application/vnd.jupyter.widget-view+json": {
       "model_id": "d3baa97cb7c14f069dbc36db8c534555",
       "version_major": 2,
       "version_minor": 0
      },
      "text/plain": [
       "Map:   0%|          | 0/30 [00:00<?, ? examples/s]"
      ]
     },
     "metadata": {},
     "output_type": "display_data"
    },
    {
     "data": {
      "application/vnd.jupyter.widget-view+json": {
       "model_id": "be6f68426594445fa614d0f527838a37",
       "version_major": 2,
       "version_minor": 0
      },
      "text/plain": [
       "Map:   0%|          | 0/8 [00:00<?, ? examples/s]"
      ]
     },
     "metadata": {},
     "output_type": "display_data"
    },
    {
     "data": {
      "application/vnd.jupyter.widget-view+json": {
       "model_id": "e108b199c62042398bcc66225bb266eb",
       "version_major": 2,
       "version_minor": 0
      },
      "text/plain": [
       "Map:   0%|          | 0/31 [00:00<?, ? examples/s]"
      ]
     },
     "metadata": {},
     "output_type": "display_data"
    },
    {
     "data": {
      "application/vnd.jupyter.widget-view+json": {
       "model_id": "b90e015376cc4b59a50ae27cfd4fc06e",
       "version_major": 2,
       "version_minor": 0
      },
      "text/plain": [
       "Map:   0%|          | 0/7 [00:00<?, ? examples/s]"
      ]
     },
     "metadata": {},
     "output_type": "display_data"
    },
    {
     "data": {
      "application/vnd.jupyter.widget-view+json": {
       "model_id": "70d281f43fa445e6acf0f2a6ea61eb8a",
       "version_major": 2,
       "version_minor": 0
      },
      "text/plain": [
       "Map:   0%|          | 0/31 [00:00<?, ? examples/s]"
      ]
     },
     "metadata": {},
     "output_type": "display_data"
    },
    {
     "data": {
      "application/vnd.jupyter.widget-view+json": {
       "model_id": "b787bc1f0380496c9c5492f98f9959e2",
       "version_major": 2,
       "version_minor": 0
      },
      "text/plain": [
       "Map:   0%|          | 0/7 [00:00<?, ? examples/s]"
      ]
     },
     "metadata": {},
     "output_type": "display_data"
    },
    {
     "name": "stdout",
     "output_type": "stream",
     "text": [
      "StratifiedKFold(n_splits=5, random_state=None, shuffle=False)\n"
     ]
    },
    {
     "data": {
      "application/vnd.jupyter.widget-view+json": {
       "model_id": "5650c243aadc42828e7cb2a82c4a16e2",
       "version_major": 2,
       "version_minor": 0
      },
      "text/plain": [
       "Map:   0%|          | 0/30 [00:00<?, ? examples/s]"
      ]
     },
     "metadata": {},
     "output_type": "display_data"
    },
    {
     "data": {
      "application/vnd.jupyter.widget-view+json": {
       "model_id": "6d44cdc3b91046138c23b68a40637a58",
       "version_major": 2,
       "version_minor": 0
      },
      "text/plain": [
       "Map:   0%|          | 0/8 [00:00<?, ? examples/s]"
      ]
     },
     "metadata": {},
     "output_type": "display_data"
    },
    {
     "data": {
      "application/vnd.jupyter.widget-view+json": {
       "model_id": "15af595226f74d5d91cf56b49f52aa71",
       "version_major": 2,
       "version_minor": 0
      },
      "text/plain": [
       "Map:   0%|          | 0/30 [00:00<?, ? examples/s]"
      ]
     },
     "metadata": {},
     "output_type": "display_data"
    },
    {
     "data": {
      "application/vnd.jupyter.widget-view+json": {
       "model_id": "4692d9e0ccad4ea787e2c9a95d4d3419",
       "version_major": 2,
       "version_minor": 0
      },
      "text/plain": [
       "Map:   0%|          | 0/8 [00:00<?, ? examples/s]"
      ]
     },
     "metadata": {},
     "output_type": "display_data"
    },
    {
     "data": {
      "application/vnd.jupyter.widget-view+json": {
       "model_id": "8be59a9f4bf7400bb02fdf7227132066",
       "version_major": 2,
       "version_minor": 0
      },
      "text/plain": [
       "Map:   0%|          | 0/30 [00:00<?, ? examples/s]"
      ]
     },
     "metadata": {},
     "output_type": "display_data"
    },
    {
     "data": {
      "application/vnd.jupyter.widget-view+json": {
       "model_id": "e9f3efea2909473f89aba82a4a896d46",
       "version_major": 2,
       "version_minor": 0
      },
      "text/plain": [
       "Map:   0%|          | 0/8 [00:00<?, ? examples/s]"
      ]
     },
     "metadata": {},
     "output_type": "display_data"
    },
    {
     "data": {
      "application/vnd.jupyter.widget-view+json": {
       "model_id": "05a3a66c86d64ac282f84e205a81a4e4",
       "version_major": 2,
       "version_minor": 0
      },
      "text/plain": [
       "Map:   0%|          | 0/31 [00:00<?, ? examples/s]"
      ]
     },
     "metadata": {},
     "output_type": "display_data"
    },
    {
     "data": {
      "application/vnd.jupyter.widget-view+json": {
       "model_id": "dc74892e66314fa3943033ded79ad0ae",
       "version_major": 2,
       "version_minor": 0
      },
      "text/plain": [
       "Map:   0%|          | 0/7 [00:00<?, ? examples/s]"
      ]
     },
     "metadata": {},
     "output_type": "display_data"
    },
    {
     "data": {
      "application/vnd.jupyter.widget-view+json": {
       "model_id": "fe2e361135d6473f8008138ea37a3a5f",
       "version_major": 2,
       "version_minor": 0
      },
      "text/plain": [
       "Map:   0%|          | 0/31 [00:00<?, ? examples/s]"
      ]
     },
     "metadata": {},
     "output_type": "display_data"
    },
    {
     "data": {
      "application/vnd.jupyter.widget-view+json": {
       "model_id": "bf0e61db3c4a4a8b8bbaa0c27cf7581e",
       "version_major": 2,
       "version_minor": 0
      },
      "text/plain": [
       "Map:   0%|          | 0/7 [00:00<?, ? examples/s]"
      ]
     },
     "metadata": {},
     "output_type": "display_data"
    },
    {
     "name": "stdout",
     "output_type": "stream",
     "text": [
      "StratifiedKFold(n_splits=5, random_state=None, shuffle=False)\n"
     ]
    },
    {
     "data": {
      "application/vnd.jupyter.widget-view+json": {
       "model_id": "0b56e60b657542fbb3a8ad205f0fa243",
       "version_major": 2,
       "version_minor": 0
      },
      "text/plain": [
       "Map:   0%|          | 0/30 [00:00<?, ? examples/s]"
      ]
     },
     "metadata": {},
     "output_type": "display_data"
    },
    {
     "data": {
      "application/vnd.jupyter.widget-view+json": {
       "model_id": "ed98e2372ced4c50bc3b27c3a86dd614",
       "version_major": 2,
       "version_minor": 0
      },
      "text/plain": [
       "Map:   0%|          | 0/8 [00:00<?, ? examples/s]"
      ]
     },
     "metadata": {},
     "output_type": "display_data"
    },
    {
     "data": {
      "application/vnd.jupyter.widget-view+json": {
       "model_id": "6b0d7914b35c4fd29a3f19255bba9371",
       "version_major": 2,
       "version_minor": 0
      },
      "text/plain": [
       "Map:   0%|          | 0/30 [00:00<?, ? examples/s]"
      ]
     },
     "metadata": {},
     "output_type": "display_data"
    },
    {
     "data": {
      "application/vnd.jupyter.widget-view+json": {
       "model_id": "75f9607ecf5f41edba5417fb72feb797",
       "version_major": 2,
       "version_minor": 0
      },
      "text/plain": [
       "Map:   0%|          | 0/8 [00:00<?, ? examples/s]"
      ]
     },
     "metadata": {},
     "output_type": "display_data"
    },
    {
     "data": {
      "application/vnd.jupyter.widget-view+json": {
       "model_id": "58f4f0c2b64a4406b3ccaa488c9c8376",
       "version_major": 2,
       "version_minor": 0
      },
      "text/plain": [
       "Map:   0%|          | 0/30 [00:00<?, ? examples/s]"
      ]
     },
     "metadata": {},
     "output_type": "display_data"
    },
    {
     "data": {
      "application/vnd.jupyter.widget-view+json": {
       "model_id": "b604adb42d0f4211aa6456acc648ed45",
       "version_major": 2,
       "version_minor": 0
      },
      "text/plain": [
       "Map:   0%|          | 0/8 [00:00<?, ? examples/s]"
      ]
     },
     "metadata": {},
     "output_type": "display_data"
    },
    {
     "data": {
      "application/vnd.jupyter.widget-view+json": {
       "model_id": "be199cccc61247fe85b6e83a578301c7",
       "version_major": 2,
       "version_minor": 0
      },
      "text/plain": [
       "Map:   0%|          | 0/31 [00:00<?, ? examples/s]"
      ]
     },
     "metadata": {},
     "output_type": "display_data"
    },
    {
     "data": {
      "application/vnd.jupyter.widget-view+json": {
       "model_id": "5bcc24e29c574e2f98c6923cc8c31d32",
       "version_major": 2,
       "version_minor": 0
      },
      "text/plain": [
       "Map:   0%|          | 0/7 [00:00<?, ? examples/s]"
      ]
     },
     "metadata": {},
     "output_type": "display_data"
    },
    {
     "data": {
      "application/vnd.jupyter.widget-view+json": {
       "model_id": "cb509cfd551b4b8b8a8e2bbb442a2803",
       "version_major": 2,
       "version_minor": 0
      },
      "text/plain": [
       "Map:   0%|          | 0/31 [00:00<?, ? examples/s]"
      ]
     },
     "metadata": {},
     "output_type": "display_data"
    },
    {
     "data": {
      "application/vnd.jupyter.widget-view+json": {
       "model_id": "45512faac48041d0bcd0dabd88de0877",
       "version_major": 2,
       "version_minor": 0
      },
      "text/plain": [
       "Map:   0%|          | 0/7 [00:00<?, ? examples/s]"
      ]
     },
     "metadata": {},
     "output_type": "display_data"
    },
    {
     "name": "stdout",
     "output_type": "stream",
     "text": [
      "StratifiedKFold(n_splits=5, random_state=None, shuffle=False)\n"
     ]
    },
    {
     "data": {
      "application/vnd.jupyter.widget-view+json": {
       "model_id": "58c1b77254284463910cfb2b8d5c1739",
       "version_major": 2,
       "version_minor": 0
      },
      "text/plain": [
       "Map:   0%|          | 0/30 [00:00<?, ? examples/s]"
      ]
     },
     "metadata": {},
     "output_type": "display_data"
    },
    {
     "data": {
      "application/vnd.jupyter.widget-view+json": {
       "model_id": "e3f606c1536d4b32b336ba70993e8f48",
       "version_major": 2,
       "version_minor": 0
      },
      "text/plain": [
       "Map:   0%|          | 0/8 [00:00<?, ? examples/s]"
      ]
     },
     "metadata": {},
     "output_type": "display_data"
    },
    {
     "data": {
      "application/vnd.jupyter.widget-view+json": {
       "model_id": "fd0dd75ef11041c388fd63c06e675aeb",
       "version_major": 2,
       "version_minor": 0
      },
      "text/plain": [
       "Map:   0%|          | 0/30 [00:00<?, ? examples/s]"
      ]
     },
     "metadata": {},
     "output_type": "display_data"
    },
    {
     "data": {
      "application/vnd.jupyter.widget-view+json": {
       "model_id": "7e68732f68ee4626961edc8c0070aa18",
       "version_major": 2,
       "version_minor": 0
      },
      "text/plain": [
       "Map:   0%|          | 0/8 [00:00<?, ? examples/s]"
      ]
     },
     "metadata": {},
     "output_type": "display_data"
    },
    {
     "data": {
      "application/vnd.jupyter.widget-view+json": {
       "model_id": "2f0690fcca96436aaaa1436be56df5a1",
       "version_major": 2,
       "version_minor": 0
      },
      "text/plain": [
       "Map:   0%|          | 0/30 [00:00<?, ? examples/s]"
      ]
     },
     "metadata": {},
     "output_type": "display_data"
    },
    {
     "data": {
      "application/vnd.jupyter.widget-view+json": {
       "model_id": "ec71783e9f3e49a9a657365aa7ad089f",
       "version_major": 2,
       "version_minor": 0
      },
      "text/plain": [
       "Map:   0%|          | 0/8 [00:00<?, ? examples/s]"
      ]
     },
     "metadata": {},
     "output_type": "display_data"
    },
    {
     "data": {
      "application/vnd.jupyter.widget-view+json": {
       "model_id": "5ef8e7f166de46428d24ea577492dbae",
       "version_major": 2,
       "version_minor": 0
      },
      "text/plain": [
       "Map:   0%|          | 0/31 [00:00<?, ? examples/s]"
      ]
     },
     "metadata": {},
     "output_type": "display_data"
    },
    {
     "data": {
      "application/vnd.jupyter.widget-view+json": {
       "model_id": "c390fe4d36b9436f8d62e59d6964fa2a",
       "version_major": 2,
       "version_minor": 0
      },
      "text/plain": [
       "Map:   0%|          | 0/7 [00:00<?, ? examples/s]"
      ]
     },
     "metadata": {},
     "output_type": "display_data"
    },
    {
     "data": {
      "application/vnd.jupyter.widget-view+json": {
       "model_id": "12a2378b02474b4b99efffdd81c1ebda",
       "version_major": 2,
       "version_minor": 0
      },
      "text/plain": [
       "Map:   0%|          | 0/31 [00:00<?, ? examples/s]"
      ]
     },
     "metadata": {},
     "output_type": "display_data"
    },
    {
     "data": {
      "application/vnd.jupyter.widget-view+json": {
       "model_id": "909c53f80861480b8129094952db2905",
       "version_major": 2,
       "version_minor": 0
      },
      "text/plain": [
       "Map:   0%|          | 0/7 [00:00<?, ? examples/s]"
      ]
     },
     "metadata": {},
     "output_type": "display_data"
    },
    {
     "name": "stdout",
     "output_type": "stream",
     "text": [
      "StratifiedKFold(n_splits=5, random_state=None, shuffle=False)\n"
     ]
    },
    {
     "data": {
      "application/vnd.jupyter.widget-view+json": {
       "model_id": "7dea05e253734bebbe8bc6e5fdeb944c",
       "version_major": 2,
       "version_minor": 0
      },
      "text/plain": [
       "Map:   0%|          | 0/30 [00:00<?, ? examples/s]"
      ]
     },
     "metadata": {},
     "output_type": "display_data"
    },
    {
     "data": {
      "application/vnd.jupyter.widget-view+json": {
       "model_id": "9b9f5091417c49168b79dacf4271625d",
       "version_major": 2,
       "version_minor": 0
      },
      "text/plain": [
       "Map:   0%|          | 0/8 [00:00<?, ? examples/s]"
      ]
     },
     "metadata": {},
     "output_type": "display_data"
    },
    {
     "data": {
      "application/vnd.jupyter.widget-view+json": {
       "model_id": "2265073c82294f74ba31e033142422bb",
       "version_major": 2,
       "version_minor": 0
      },
      "text/plain": [
       "Map:   0%|          | 0/30 [00:00<?, ? examples/s]"
      ]
     },
     "metadata": {},
     "output_type": "display_data"
    },
    {
     "data": {
      "application/vnd.jupyter.widget-view+json": {
       "model_id": "f93d1df598fb45d2b9cd543ba4da2842",
       "version_major": 2,
       "version_minor": 0
      },
      "text/plain": [
       "Map:   0%|          | 0/8 [00:00<?, ? examples/s]"
      ]
     },
     "metadata": {},
     "output_type": "display_data"
    },
    {
     "data": {
      "application/vnd.jupyter.widget-view+json": {
       "model_id": "9073e8ea7216403a9799282c2ef1aab0",
       "version_major": 2,
       "version_minor": 0
      },
      "text/plain": [
       "Map:   0%|          | 0/30 [00:00<?, ? examples/s]"
      ]
     },
     "metadata": {},
     "output_type": "display_data"
    },
    {
     "data": {
      "application/vnd.jupyter.widget-view+json": {
       "model_id": "46de2c36e2c54637982865a424f38913",
       "version_major": 2,
       "version_minor": 0
      },
      "text/plain": [
       "Map:   0%|          | 0/8 [00:00<?, ? examples/s]"
      ]
     },
     "metadata": {},
     "output_type": "display_data"
    },
    {
     "data": {
      "application/vnd.jupyter.widget-view+json": {
       "model_id": "0aeeaa454de642a19c0bb72173098ec1",
       "version_major": 2,
       "version_minor": 0
      },
      "text/plain": [
       "Map:   0%|          | 0/31 [00:00<?, ? examples/s]"
      ]
     },
     "metadata": {},
     "output_type": "display_data"
    },
    {
     "data": {
      "application/vnd.jupyter.widget-view+json": {
       "model_id": "f9fac0a909f14cde8e3b49703aaa528a",
       "version_major": 2,
       "version_minor": 0
      },
      "text/plain": [
       "Map:   0%|          | 0/7 [00:00<?, ? examples/s]"
      ]
     },
     "metadata": {},
     "output_type": "display_data"
    },
    {
     "data": {
      "application/vnd.jupyter.widget-view+json": {
       "model_id": "bb359fe333b54cd6a08a8fc76d816778",
       "version_major": 2,
       "version_minor": 0
      },
      "text/plain": [
       "Map:   0%|          | 0/31 [00:00<?, ? examples/s]"
      ]
     },
     "metadata": {},
     "output_type": "display_data"
    },
    {
     "data": {
      "application/vnd.jupyter.widget-view+json": {
       "model_id": "55dc0c382e6f485395c25c2d888975fa",
       "version_major": 2,
       "version_minor": 0
      },
      "text/plain": [
       "Map:   0%|          | 0/7 [00:00<?, ? examples/s]"
      ]
     },
     "metadata": {},
     "output_type": "display_data"
    },
    {
     "name": "stdout",
     "output_type": "stream",
     "text": [
      "StratifiedKFold(n_splits=5, random_state=None, shuffle=False)\n"
     ]
    },
    {
     "data": {
      "application/vnd.jupyter.widget-view+json": {
       "model_id": "1e131e44529c4d11a68b80aae709179a",
       "version_major": 2,
       "version_minor": 0
      },
      "text/plain": [
       "Map:   0%|          | 0/30 [00:00<?, ? examples/s]"
      ]
     },
     "metadata": {},
     "output_type": "display_data"
    },
    {
     "data": {
      "application/vnd.jupyter.widget-view+json": {
       "model_id": "afc93bb171944cb4bb2742fe5ec24ce3",
       "version_major": 2,
       "version_minor": 0
      },
      "text/plain": [
       "Map:   0%|          | 0/8 [00:00<?, ? examples/s]"
      ]
     },
     "metadata": {},
     "output_type": "display_data"
    },
    {
     "data": {
      "application/vnd.jupyter.widget-view+json": {
       "model_id": "40938241f1554d35af7f7069f4e375e3",
       "version_major": 2,
       "version_minor": 0
      },
      "text/plain": [
       "Map:   0%|          | 0/30 [00:00<?, ? examples/s]"
      ]
     },
     "metadata": {},
     "output_type": "display_data"
    },
    {
     "data": {
      "application/vnd.jupyter.widget-view+json": {
       "model_id": "b5ecdc56670f486dbeb0bb8ec63f859c",
       "version_major": 2,
       "version_minor": 0
      },
      "text/plain": [
       "Map:   0%|          | 0/8 [00:00<?, ? examples/s]"
      ]
     },
     "metadata": {},
     "output_type": "display_data"
    },
    {
     "data": {
      "application/vnd.jupyter.widget-view+json": {
       "model_id": "cc49cdf5243445d8b653d4e89a8b91d0",
       "version_major": 2,
       "version_minor": 0
      },
      "text/plain": [
       "Map:   0%|          | 0/30 [00:00<?, ? examples/s]"
      ]
     },
     "metadata": {},
     "output_type": "display_data"
    },
    {
     "data": {
      "application/vnd.jupyter.widget-view+json": {
       "model_id": "7760d856efc843a0b24afcebb28af23c",
       "version_major": 2,
       "version_minor": 0
      },
      "text/plain": [
       "Map:   0%|          | 0/8 [00:00<?, ? examples/s]"
      ]
     },
     "metadata": {},
     "output_type": "display_data"
    },
    {
     "data": {
      "application/vnd.jupyter.widget-view+json": {
       "model_id": "d2209c8b8f7d45e8adc6f1005799f4e3",
       "version_major": 2,
       "version_minor": 0
      },
      "text/plain": [
       "Map:   0%|          | 0/31 [00:00<?, ? examples/s]"
      ]
     },
     "metadata": {},
     "output_type": "display_data"
    },
    {
     "data": {
      "application/vnd.jupyter.widget-view+json": {
       "model_id": "6ae0e704e7704d83b8ff2363da0165b2",
       "version_major": 2,
       "version_minor": 0
      },
      "text/plain": [
       "Map:   0%|          | 0/7 [00:00<?, ? examples/s]"
      ]
     },
     "metadata": {},
     "output_type": "display_data"
    },
    {
     "data": {
      "application/vnd.jupyter.widget-view+json": {
       "model_id": "c5a1ccd3dba448f2a8901e891b433795",
       "version_major": 2,
       "version_minor": 0
      },
      "text/plain": [
       "Map:   0%|          | 0/31 [00:00<?, ? examples/s]"
      ]
     },
     "metadata": {},
     "output_type": "display_data"
    },
    {
     "data": {
      "application/vnd.jupyter.widget-view+json": {
       "model_id": "d444a78802474084bfdfafae44d42576",
       "version_major": 2,
       "version_minor": 0
      },
      "text/plain": [
       "Map:   0%|          | 0/7 [00:00<?, ? examples/s]"
      ]
     },
     "metadata": {},
     "output_type": "display_data"
    },
    {
     "name": "stdout",
     "output_type": "stream",
     "text": [
      "StratifiedKFold(n_splits=5, random_state=None, shuffle=False)\n"
     ]
    },
    {
     "data": {
      "application/vnd.jupyter.widget-view+json": {
       "model_id": "db4a697289174eab886ad342ffa1a199",
       "version_major": 2,
       "version_minor": 0
      },
      "text/plain": [
       "Map:   0%|          | 0/30 [00:00<?, ? examples/s]"
      ]
     },
     "metadata": {},
     "output_type": "display_data"
    },
    {
     "data": {
      "application/vnd.jupyter.widget-view+json": {
       "model_id": "908a04abafb6466cb819f0426ec59f15",
       "version_major": 2,
       "version_minor": 0
      },
      "text/plain": [
       "Map:   0%|          | 0/8 [00:00<?, ? examples/s]"
      ]
     },
     "metadata": {},
     "output_type": "display_data"
    },
    {
     "data": {
      "application/vnd.jupyter.widget-view+json": {
       "model_id": "2d9dfa9facb449b2a9e11d3c3ea9c0eb",
       "version_major": 2,
       "version_minor": 0
      },
      "text/plain": [
       "Map:   0%|          | 0/30 [00:00<?, ? examples/s]"
      ]
     },
     "metadata": {},
     "output_type": "display_data"
    },
    {
     "data": {
      "application/vnd.jupyter.widget-view+json": {
       "model_id": "1caf7c35519a4132b1927c21ba704c78",
       "version_major": 2,
       "version_minor": 0
      },
      "text/plain": [
       "Map:   0%|          | 0/8 [00:00<?, ? examples/s]"
      ]
     },
     "metadata": {},
     "output_type": "display_data"
    },
    {
     "data": {
      "application/vnd.jupyter.widget-view+json": {
       "model_id": "8dc657f8f8764fc38c5177f4a1faad92",
       "version_major": 2,
       "version_minor": 0
      },
      "text/plain": [
       "Map:   0%|          | 0/30 [00:00<?, ? examples/s]"
      ]
     },
     "metadata": {},
     "output_type": "display_data"
    },
    {
     "data": {
      "application/vnd.jupyter.widget-view+json": {
       "model_id": "3210b5473d89472ebf2bf656b852d2bd",
       "version_major": 2,
       "version_minor": 0
      },
      "text/plain": [
       "Map:   0%|          | 0/8 [00:00<?, ? examples/s]"
      ]
     },
     "metadata": {},
     "output_type": "display_data"
    },
    {
     "data": {
      "application/vnd.jupyter.widget-view+json": {
       "model_id": "a90c5766d81940159fed16e7b0896363",
       "version_major": 2,
       "version_minor": 0
      },
      "text/plain": [
       "Map:   0%|          | 0/31 [00:00<?, ? examples/s]"
      ]
     },
     "metadata": {},
     "output_type": "display_data"
    },
    {
     "data": {
      "application/vnd.jupyter.widget-view+json": {
       "model_id": "87d972b3611c497a8936dc0e824dc145",
       "version_major": 2,
       "version_minor": 0
      },
      "text/plain": [
       "Map:   0%|          | 0/7 [00:00<?, ? examples/s]"
      ]
     },
     "metadata": {},
     "output_type": "display_data"
    },
    {
     "data": {
      "application/vnd.jupyter.widget-view+json": {
       "model_id": "39d4ac1dca4e4412bfcfd468a73f884f",
       "version_major": 2,
       "version_minor": 0
      },
      "text/plain": [
       "Map:   0%|          | 0/31 [00:00<?, ? examples/s]"
      ]
     },
     "metadata": {},
     "output_type": "display_data"
    },
    {
     "data": {
      "application/vnd.jupyter.widget-view+json": {
       "model_id": "aa7e885269c44fd79c48e608fe83c5be",
       "version_major": 2,
       "version_minor": 0
      },
      "text/plain": [
       "Map:   0%|          | 0/7 [00:00<?, ? examples/s]"
      ]
     },
     "metadata": {},
     "output_type": "display_data"
    },
    {
     "name": "stdout",
     "output_type": "stream",
     "text": [
      "StratifiedKFold(n_splits=5, random_state=None, shuffle=False)\n"
     ]
    },
    {
     "data": {
      "application/vnd.jupyter.widget-view+json": {
       "model_id": "4796eb1b1cfd4fcca0ef2742b6cb2e18",
       "version_major": 2,
       "version_minor": 0
      },
      "text/plain": [
       "Map:   0%|          | 0/30 [00:00<?, ? examples/s]"
      ]
     },
     "metadata": {},
     "output_type": "display_data"
    },
    {
     "data": {
      "application/vnd.jupyter.widget-view+json": {
       "model_id": "da922d36965c43f68207b870934151e7",
       "version_major": 2,
       "version_minor": 0
      },
      "text/plain": [
       "Map:   0%|          | 0/8 [00:00<?, ? examples/s]"
      ]
     },
     "metadata": {},
     "output_type": "display_data"
    },
    {
     "data": {
      "application/vnd.jupyter.widget-view+json": {
       "model_id": "2f5efa7dda73457fac1b621ecc5a33e3",
       "version_major": 2,
       "version_minor": 0
      },
      "text/plain": [
       "Map:   0%|          | 0/30 [00:00<?, ? examples/s]"
      ]
     },
     "metadata": {},
     "output_type": "display_data"
    },
    {
     "data": {
      "application/vnd.jupyter.widget-view+json": {
       "model_id": "6a2b91da206a46bf8ccbb3fbcd52003d",
       "version_major": 2,
       "version_minor": 0
      },
      "text/plain": [
       "Map:   0%|          | 0/8 [00:00<?, ? examples/s]"
      ]
     },
     "metadata": {},
     "output_type": "display_data"
    },
    {
     "data": {
      "application/vnd.jupyter.widget-view+json": {
       "model_id": "aadfc7aec6454d1e9474039a067f261c",
       "version_major": 2,
       "version_minor": 0
      },
      "text/plain": [
       "Map:   0%|          | 0/30 [00:00<?, ? examples/s]"
      ]
     },
     "metadata": {},
     "output_type": "display_data"
    },
    {
     "data": {
      "application/vnd.jupyter.widget-view+json": {
       "model_id": "32564d318c1a433ebaa756474da57658",
       "version_major": 2,
       "version_minor": 0
      },
      "text/plain": [
       "Map:   0%|          | 0/8 [00:00<?, ? examples/s]"
      ]
     },
     "metadata": {},
     "output_type": "display_data"
    },
    {
     "data": {
      "application/vnd.jupyter.widget-view+json": {
       "model_id": "4e0a88e14ff54f7fbb5414ee0211d196",
       "version_major": 2,
       "version_minor": 0
      },
      "text/plain": [
       "Map:   0%|          | 0/31 [00:00<?, ? examples/s]"
      ]
     },
     "metadata": {},
     "output_type": "display_data"
    },
    {
     "data": {
      "application/vnd.jupyter.widget-view+json": {
       "model_id": "db7e9734b4004a4fb41974a4e6a14a40",
       "version_major": 2,
       "version_minor": 0
      },
      "text/plain": [
       "Map:   0%|          | 0/7 [00:00<?, ? examples/s]"
      ]
     },
     "metadata": {},
     "output_type": "display_data"
    },
    {
     "data": {
      "application/vnd.jupyter.widget-view+json": {
       "model_id": "bc86c85f62314bef810dbca199986886",
       "version_major": 2,
       "version_minor": 0
      },
      "text/plain": [
       "Map:   0%|          | 0/31 [00:00<?, ? examples/s]"
      ]
     },
     "metadata": {},
     "output_type": "display_data"
    },
    {
     "data": {
      "application/vnd.jupyter.widget-view+json": {
       "model_id": "7cde46ac698d4677b8c9e182021643b0",
       "version_major": 2,
       "version_minor": 0
      },
      "text/plain": [
       "Map:   0%|          | 0/7 [00:00<?, ? examples/s]"
      ]
     },
     "metadata": {},
     "output_type": "display_data"
    },
    {
     "name": "stdout",
     "output_type": "stream",
     "text": [
      "StratifiedKFold(n_splits=5, random_state=None, shuffle=False)\n"
     ]
    },
    {
     "data": {
      "application/vnd.jupyter.widget-view+json": {
       "model_id": "e6b132a73a8b4e419afb8421851f9f35",
       "version_major": 2,
       "version_minor": 0
      },
      "text/plain": [
       "Map:   0%|          | 0/30 [00:00<?, ? examples/s]"
      ]
     },
     "metadata": {},
     "output_type": "display_data"
    },
    {
     "data": {
      "application/vnd.jupyter.widget-view+json": {
       "model_id": "a17d2c36b77d4bea9194f0b296d29290",
       "version_major": 2,
       "version_minor": 0
      },
      "text/plain": [
       "Map:   0%|          | 0/8 [00:00<?, ? examples/s]"
      ]
     },
     "metadata": {},
     "output_type": "display_data"
    },
    {
     "data": {
      "application/vnd.jupyter.widget-view+json": {
       "model_id": "a074de4c88014794b5ea2bc06b9de3e8",
       "version_major": 2,
       "version_minor": 0
      },
      "text/plain": [
       "Map:   0%|          | 0/30 [00:00<?, ? examples/s]"
      ]
     },
     "metadata": {},
     "output_type": "display_data"
    },
    {
     "data": {
      "application/vnd.jupyter.widget-view+json": {
       "model_id": "73cba635b96f4d008f105906b9fc4a80",
       "version_major": 2,
       "version_minor": 0
      },
      "text/plain": [
       "Map:   0%|          | 0/8 [00:00<?, ? examples/s]"
      ]
     },
     "metadata": {},
     "output_type": "display_data"
    },
    {
     "data": {
      "application/vnd.jupyter.widget-view+json": {
       "model_id": "5919621d02864d3c96568307b81eb815",
       "version_major": 2,
       "version_minor": 0
      },
      "text/plain": [
       "Map:   0%|          | 0/30 [00:00<?, ? examples/s]"
      ]
     },
     "metadata": {},
     "output_type": "display_data"
    },
    {
     "data": {
      "application/vnd.jupyter.widget-view+json": {
       "model_id": "8afd69f58d004b78a8e93e31bdea6535",
       "version_major": 2,
       "version_minor": 0
      },
      "text/plain": [
       "Map:   0%|          | 0/8 [00:00<?, ? examples/s]"
      ]
     },
     "metadata": {},
     "output_type": "display_data"
    },
    {
     "data": {
      "application/vnd.jupyter.widget-view+json": {
       "model_id": "6efe3ae4be1247c693c7318b74b9f458",
       "version_major": 2,
       "version_minor": 0
      },
      "text/plain": [
       "Map:   0%|          | 0/31 [00:00<?, ? examples/s]"
      ]
     },
     "metadata": {},
     "output_type": "display_data"
    },
    {
     "data": {
      "application/vnd.jupyter.widget-view+json": {
       "model_id": "e2e850a89f774feaa8bfabb1f28394d7",
       "version_major": 2,
       "version_minor": 0
      },
      "text/plain": [
       "Map:   0%|          | 0/7 [00:00<?, ? examples/s]"
      ]
     },
     "metadata": {},
     "output_type": "display_data"
    },
    {
     "data": {
      "application/vnd.jupyter.widget-view+json": {
       "model_id": "527f1e01fe2d4d87a362b776413b0640",
       "version_major": 2,
       "version_minor": 0
      },
      "text/plain": [
       "Map:   0%|          | 0/31 [00:00<?, ? examples/s]"
      ]
     },
     "metadata": {},
     "output_type": "display_data"
    },
    {
     "data": {
      "application/vnd.jupyter.widget-view+json": {
       "model_id": "a11d884a1faf43c1b072d144ef7e4f4e",
       "version_major": 2,
       "version_minor": 0
      },
      "text/plain": [
       "Map:   0%|          | 0/7 [00:00<?, ? examples/s]"
      ]
     },
     "metadata": {},
     "output_type": "display_data"
    },
    {
     "name": "stdout",
     "output_type": "stream",
     "text": [
      "StratifiedKFold(n_splits=5, random_state=None, shuffle=False)\n"
     ]
    },
    {
     "data": {
      "application/vnd.jupyter.widget-view+json": {
       "model_id": "14a8a29a0da84d0ca9c7ca20abe76f11",
       "version_major": 2,
       "version_minor": 0
      },
      "text/plain": [
       "Map:   0%|          | 0/30 [00:00<?, ? examples/s]"
      ]
     },
     "metadata": {},
     "output_type": "display_data"
    },
    {
     "data": {
      "application/vnd.jupyter.widget-view+json": {
       "model_id": "0e0c6d41524042daa06feab511f740ed",
       "version_major": 2,
       "version_minor": 0
      },
      "text/plain": [
       "Map:   0%|          | 0/8 [00:00<?, ? examples/s]"
      ]
     },
     "metadata": {},
     "output_type": "display_data"
    },
    {
     "data": {
      "application/vnd.jupyter.widget-view+json": {
       "model_id": "db181a3b42d748eb888007d5ebc2e40b",
       "version_major": 2,
       "version_minor": 0
      },
      "text/plain": [
       "Map:   0%|          | 0/30 [00:00<?, ? examples/s]"
      ]
     },
     "metadata": {},
     "output_type": "display_data"
    },
    {
     "data": {
      "application/vnd.jupyter.widget-view+json": {
       "model_id": "03fdacd209774f7fa1cdbc0061848e2d",
       "version_major": 2,
       "version_minor": 0
      },
      "text/plain": [
       "Map:   0%|          | 0/8 [00:00<?, ? examples/s]"
      ]
     },
     "metadata": {},
     "output_type": "display_data"
    },
    {
     "data": {
      "application/vnd.jupyter.widget-view+json": {
       "model_id": "9f31ab8a5e8a4edfb179418baec65ea7",
       "version_major": 2,
       "version_minor": 0
      },
      "text/plain": [
       "Map:   0%|          | 0/30 [00:00<?, ? examples/s]"
      ]
     },
     "metadata": {},
     "output_type": "display_data"
    },
    {
     "data": {
      "application/vnd.jupyter.widget-view+json": {
       "model_id": "9650383f0819487c8f9e96a396a8fc42",
       "version_major": 2,
       "version_minor": 0
      },
      "text/plain": [
       "Map:   0%|          | 0/8 [00:00<?, ? examples/s]"
      ]
     },
     "metadata": {},
     "output_type": "display_data"
    },
    {
     "data": {
      "application/vnd.jupyter.widget-view+json": {
       "model_id": "1168451ab2594fdab16efe3d1af1fa94",
       "version_major": 2,
       "version_minor": 0
      },
      "text/plain": [
       "Map:   0%|          | 0/31 [00:00<?, ? examples/s]"
      ]
     },
     "metadata": {},
     "output_type": "display_data"
    },
    {
     "data": {
      "application/vnd.jupyter.widget-view+json": {
       "model_id": "911480e17f474887a8fff53dbc7a0b17",
       "version_major": 2,
       "version_minor": 0
      },
      "text/plain": [
       "Map:   0%|          | 0/7 [00:00<?, ? examples/s]"
      ]
     },
     "metadata": {},
     "output_type": "display_data"
    },
    {
     "data": {
      "application/vnd.jupyter.widget-view+json": {
       "model_id": "c8fbc455d6ba417ba1e0702b6ba0a532",
       "version_major": 2,
       "version_minor": 0
      },
      "text/plain": [
       "Map:   0%|          | 0/31 [00:00<?, ? examples/s]"
      ]
     },
     "metadata": {},
     "output_type": "display_data"
    },
    {
     "data": {
      "application/vnd.jupyter.widget-view+json": {
       "model_id": "a5b116e2978c415fbd7dece07ea4c729",
       "version_major": 2,
       "version_minor": 0
      },
      "text/plain": [
       "Map:   0%|          | 0/7 [00:00<?, ? examples/s]"
      ]
     },
     "metadata": {},
     "output_type": "display_data"
    },
    {
     "name": "stdout",
     "output_type": "stream",
     "text": [
      "StratifiedKFold(n_splits=5, random_state=None, shuffle=False)\n"
     ]
    },
    {
     "data": {
      "application/vnd.jupyter.widget-view+json": {
       "model_id": "0f51123d2780404c830b785f210d4814",
       "version_major": 2,
       "version_minor": 0
      },
      "text/plain": [
       "Map:   0%|          | 0/30 [00:00<?, ? examples/s]"
      ]
     },
     "metadata": {},
     "output_type": "display_data"
    },
    {
     "data": {
      "application/vnd.jupyter.widget-view+json": {
       "model_id": "5e889e5aa28a4439b1928044d5bcf21f",
       "version_major": 2,
       "version_minor": 0
      },
      "text/plain": [
       "Map:   0%|          | 0/8 [00:00<?, ? examples/s]"
      ]
     },
     "metadata": {},
     "output_type": "display_data"
    },
    {
     "data": {
      "application/vnd.jupyter.widget-view+json": {
       "model_id": "3f25e620d6b74852b11e9cb89f775c1c",
       "version_major": 2,
       "version_minor": 0
      },
      "text/plain": [
       "Map:   0%|          | 0/30 [00:00<?, ? examples/s]"
      ]
     },
     "metadata": {},
     "output_type": "display_data"
    },
    {
     "data": {
      "application/vnd.jupyter.widget-view+json": {
       "model_id": "96b5f543b07747459bb112e4d8d45bd7",
       "version_major": 2,
       "version_minor": 0
      },
      "text/plain": [
       "Map:   0%|          | 0/8 [00:00<?, ? examples/s]"
      ]
     },
     "metadata": {},
     "output_type": "display_data"
    },
    {
     "data": {
      "application/vnd.jupyter.widget-view+json": {
       "model_id": "ce9b00ec4df241c389daae46828bc141",
       "version_major": 2,
       "version_minor": 0
      },
      "text/plain": [
       "Map:   0%|          | 0/30 [00:00<?, ? examples/s]"
      ]
     },
     "metadata": {},
     "output_type": "display_data"
    },
    {
     "data": {
      "application/vnd.jupyter.widget-view+json": {
       "model_id": "4bfc1de7144b498c947b924bce1af8bd",
       "version_major": 2,
       "version_minor": 0
      },
      "text/plain": [
       "Map:   0%|          | 0/8 [00:00<?, ? examples/s]"
      ]
     },
     "metadata": {},
     "output_type": "display_data"
    },
    {
     "data": {
      "application/vnd.jupyter.widget-view+json": {
       "model_id": "ca3814bc738f4911a3906c26d16a5ea1",
       "version_major": 2,
       "version_minor": 0
      },
      "text/plain": [
       "Map:   0%|          | 0/31 [00:00<?, ? examples/s]"
      ]
     },
     "metadata": {},
     "output_type": "display_data"
    },
    {
     "data": {
      "application/vnd.jupyter.widget-view+json": {
       "model_id": "88de0a21a4a44818912392ff153fdac9",
       "version_major": 2,
       "version_minor": 0
      },
      "text/plain": [
       "Map:   0%|          | 0/7 [00:00<?, ? examples/s]"
      ]
     },
     "metadata": {},
     "output_type": "display_data"
    },
    {
     "data": {
      "application/vnd.jupyter.widget-view+json": {
       "model_id": "3ececd288c3e41f284a4c7b9eb5a6fa8",
       "version_major": 2,
       "version_minor": 0
      },
      "text/plain": [
       "Map:   0%|          | 0/31 [00:00<?, ? examples/s]"
      ]
     },
     "metadata": {},
     "output_type": "display_data"
    },
    {
     "data": {
      "application/vnd.jupyter.widget-view+json": {
       "model_id": "6c2b018418504360831f07f36b30147b",
       "version_major": 2,
       "version_minor": 0
      },
      "text/plain": [
       "Map:   0%|          | 0/7 [00:00<?, ? examples/s]"
      ]
     },
     "metadata": {},
     "output_type": "display_data"
    },
    {
     "name": "stdout",
     "output_type": "stream",
     "text": [
      "StratifiedKFold(n_splits=5, random_state=None, shuffle=False)\n"
     ]
    },
    {
     "data": {
      "application/vnd.jupyter.widget-view+json": {
       "model_id": "686548b5cb70487eb6a7a05be770fa7c",
       "version_major": 2,
       "version_minor": 0
      },
      "text/plain": [
       "Map:   0%|          | 0/30 [00:00<?, ? examples/s]"
      ]
     },
     "metadata": {},
     "output_type": "display_data"
    },
    {
     "data": {
      "application/vnd.jupyter.widget-view+json": {
       "model_id": "bb826221f60d4aef9c976a858e01f90e",
       "version_major": 2,
       "version_minor": 0
      },
      "text/plain": [
       "Map:   0%|          | 0/8 [00:00<?, ? examples/s]"
      ]
     },
     "metadata": {},
     "output_type": "display_data"
    },
    {
     "data": {
      "application/vnd.jupyter.widget-view+json": {
       "model_id": "af76670b670440b1b840000c43ab4846",
       "version_major": 2,
       "version_minor": 0
      },
      "text/plain": [
       "Map:   0%|          | 0/30 [00:00<?, ? examples/s]"
      ]
     },
     "metadata": {},
     "output_type": "display_data"
    },
    {
     "data": {
      "application/vnd.jupyter.widget-view+json": {
       "model_id": "1e2dd29ce86546899816afeac9460065",
       "version_major": 2,
       "version_minor": 0
      },
      "text/plain": [
       "Map:   0%|          | 0/8 [00:00<?, ? examples/s]"
      ]
     },
     "metadata": {},
     "output_type": "display_data"
    },
    {
     "data": {
      "application/vnd.jupyter.widget-view+json": {
       "model_id": "d84a1087185e4a4fad0c6a0349932ba6",
       "version_major": 2,
       "version_minor": 0
      },
      "text/plain": [
       "Map:   0%|          | 0/30 [00:00<?, ? examples/s]"
      ]
     },
     "metadata": {},
     "output_type": "display_data"
    },
    {
     "data": {
      "application/vnd.jupyter.widget-view+json": {
       "model_id": "c645d047502340ec88cca54b96cce333",
       "version_major": 2,
       "version_minor": 0
      },
      "text/plain": [
       "Map:   0%|          | 0/8 [00:00<?, ? examples/s]"
      ]
     },
     "metadata": {},
     "output_type": "display_data"
    },
    {
     "data": {
      "application/vnd.jupyter.widget-view+json": {
       "model_id": "b066d76d3bdc47b2a75df8d5bf266392",
       "version_major": 2,
       "version_minor": 0
      },
      "text/plain": [
       "Map:   0%|          | 0/31 [00:00<?, ? examples/s]"
      ]
     },
     "metadata": {},
     "output_type": "display_data"
    },
    {
     "data": {
      "application/vnd.jupyter.widget-view+json": {
       "model_id": "df2fb3a6e2794928abee6858f9df128c",
       "version_major": 2,
       "version_minor": 0
      },
      "text/plain": [
       "Map:   0%|          | 0/7 [00:00<?, ? examples/s]"
      ]
     },
     "metadata": {},
     "output_type": "display_data"
    },
    {
     "data": {
      "application/vnd.jupyter.widget-view+json": {
       "model_id": "af510e573746430e8a8067cc47e0ca3c",
       "version_major": 2,
       "version_minor": 0
      },
      "text/plain": [
       "Map:   0%|          | 0/31 [00:00<?, ? examples/s]"
      ]
     },
     "metadata": {},
     "output_type": "display_data"
    },
    {
     "data": {
      "application/vnd.jupyter.widget-view+json": {
       "model_id": "63e3c8cb7dbf4e2b85e2f03821b94575",
       "version_major": 2,
       "version_minor": 0
      },
      "text/plain": [
       "Map:   0%|          | 0/7 [00:00<?, ? examples/s]"
      ]
     },
     "metadata": {},
     "output_type": "display_data"
    },
    {
     "name": "stdout",
     "output_type": "stream",
     "text": [
      "StratifiedKFold(n_splits=5, random_state=None, shuffle=False)\n"
     ]
    },
    {
     "data": {
      "application/vnd.jupyter.widget-view+json": {
       "model_id": "40714ad772634c9ab9dd8490314d1ab0",
       "version_major": 2,
       "version_minor": 0
      },
      "text/plain": [
       "Map:   0%|          | 0/30 [00:00<?, ? examples/s]"
      ]
     },
     "metadata": {},
     "output_type": "display_data"
    },
    {
     "data": {
      "application/vnd.jupyter.widget-view+json": {
       "model_id": "cc0225e8a927430290d9b2211cf50bd3",
       "version_major": 2,
       "version_minor": 0
      },
      "text/plain": [
       "Map:   0%|          | 0/8 [00:00<?, ? examples/s]"
      ]
     },
     "metadata": {},
     "output_type": "display_data"
    },
    {
     "data": {
      "application/vnd.jupyter.widget-view+json": {
       "model_id": "0c45750711d9462c9a92ca080df729b9",
       "version_major": 2,
       "version_minor": 0
      },
      "text/plain": [
       "Map:   0%|          | 0/30 [00:00<?, ? examples/s]"
      ]
     },
     "metadata": {},
     "output_type": "display_data"
    },
    {
     "data": {
      "application/vnd.jupyter.widget-view+json": {
       "model_id": "e37085dbb36d47f4845668b1448c6d99",
       "version_major": 2,
       "version_minor": 0
      },
      "text/plain": [
       "Map:   0%|          | 0/8 [00:00<?, ? examples/s]"
      ]
     },
     "metadata": {},
     "output_type": "display_data"
    },
    {
     "data": {
      "application/vnd.jupyter.widget-view+json": {
       "model_id": "3b6cb7d0bfb047e285e85e881e080f16",
       "version_major": 2,
       "version_minor": 0
      },
      "text/plain": [
       "Map:   0%|          | 0/30 [00:00<?, ? examples/s]"
      ]
     },
     "metadata": {},
     "output_type": "display_data"
    },
    {
     "data": {
      "application/vnd.jupyter.widget-view+json": {
       "model_id": "bbcbe0cee82b459da69c8e931af2ae82",
       "version_major": 2,
       "version_minor": 0
      },
      "text/plain": [
       "Map:   0%|          | 0/8 [00:00<?, ? examples/s]"
      ]
     },
     "metadata": {},
     "output_type": "display_data"
    },
    {
     "data": {
      "application/vnd.jupyter.widget-view+json": {
       "model_id": "e0b1ae3137bb471f95f09fd1539c6030",
       "version_major": 2,
       "version_minor": 0
      },
      "text/plain": [
       "Map:   0%|          | 0/31 [00:00<?, ? examples/s]"
      ]
     },
     "metadata": {},
     "output_type": "display_data"
    },
    {
     "data": {
      "application/vnd.jupyter.widget-view+json": {
       "model_id": "fcfce252a03942adb324c2ca33ae6993",
       "version_major": 2,
       "version_minor": 0
      },
      "text/plain": [
       "Map:   0%|          | 0/7 [00:00<?, ? examples/s]"
      ]
     },
     "metadata": {},
     "output_type": "display_data"
    },
    {
     "data": {
      "application/vnd.jupyter.widget-view+json": {
       "model_id": "c4086d378ad945eea0a8169389aa1a66",
       "version_major": 2,
       "version_minor": 0
      },
      "text/plain": [
       "Map:   0%|          | 0/31 [00:00<?, ? examples/s]"
      ]
     },
     "metadata": {},
     "output_type": "display_data"
    },
    {
     "data": {
      "application/vnd.jupyter.widget-view+json": {
       "model_id": "e598bd6a2e864bc6a232a2ccac565cec",
       "version_major": 2,
       "version_minor": 0
      },
      "text/plain": [
       "Map:   0%|          | 0/7 [00:00<?, ? examples/s]"
      ]
     },
     "metadata": {},
     "output_type": "display_data"
    },
    {
     "name": "stdout",
     "output_type": "stream",
     "text": [
      "StratifiedKFold(n_splits=5, random_state=None, shuffle=False)\n"
     ]
    },
    {
     "data": {
      "application/vnd.jupyter.widget-view+json": {
       "model_id": "923bbf4f7daa462faedab42c5745cec6",
       "version_major": 2,
       "version_minor": 0
      },
      "text/plain": [
       "Map:   0%|          | 0/30 [00:00<?, ? examples/s]"
      ]
     },
     "metadata": {},
     "output_type": "display_data"
    },
    {
     "data": {
      "application/vnd.jupyter.widget-view+json": {
       "model_id": "ca0ac1bb84274c8695819bc779227637",
       "version_major": 2,
       "version_minor": 0
      },
      "text/plain": [
       "Map:   0%|          | 0/8 [00:00<?, ? examples/s]"
      ]
     },
     "metadata": {},
     "output_type": "display_data"
    },
    {
     "data": {
      "application/vnd.jupyter.widget-view+json": {
       "model_id": "a1e3d09997534e1bbcff90cdc53164ad",
       "version_major": 2,
       "version_minor": 0
      },
      "text/plain": [
       "Map:   0%|          | 0/30 [00:00<?, ? examples/s]"
      ]
     },
     "metadata": {},
     "output_type": "display_data"
    },
    {
     "data": {
      "application/vnd.jupyter.widget-view+json": {
       "model_id": "a2f7f4ce0ea04d3da0afc402610d0a77",
       "version_major": 2,
       "version_minor": 0
      },
      "text/plain": [
       "Map:   0%|          | 0/8 [00:00<?, ? examples/s]"
      ]
     },
     "metadata": {},
     "output_type": "display_data"
    },
    {
     "data": {
      "application/vnd.jupyter.widget-view+json": {
       "model_id": "bb31006cd1b548c1bfb1002339cd8696",
       "version_major": 2,
       "version_minor": 0
      },
      "text/plain": [
       "Map:   0%|          | 0/30 [00:00<?, ? examples/s]"
      ]
     },
     "metadata": {},
     "output_type": "display_data"
    },
    {
     "data": {
      "application/vnd.jupyter.widget-view+json": {
       "model_id": "918a37f9ac954b29ad3781f06bc8f23d",
       "version_major": 2,
       "version_minor": 0
      },
      "text/plain": [
       "Map:   0%|          | 0/8 [00:00<?, ? examples/s]"
      ]
     },
     "metadata": {},
     "output_type": "display_data"
    },
    {
     "data": {
      "application/vnd.jupyter.widget-view+json": {
       "model_id": "9aa933417709478e8578b4775546d18f",
       "version_major": 2,
       "version_minor": 0
      },
      "text/plain": [
       "Map:   0%|          | 0/31 [00:00<?, ? examples/s]"
      ]
     },
     "metadata": {},
     "output_type": "display_data"
    },
    {
     "data": {
      "application/vnd.jupyter.widget-view+json": {
       "model_id": "46c42c131dd14913ad3dee7734896e4b",
       "version_major": 2,
       "version_minor": 0
      },
      "text/plain": [
       "Map:   0%|          | 0/7 [00:00<?, ? examples/s]"
      ]
     },
     "metadata": {},
     "output_type": "display_data"
    },
    {
     "data": {
      "application/vnd.jupyter.widget-view+json": {
       "model_id": "55b757d2178048bd85cb1b6ca9791ecb",
       "version_major": 2,
       "version_minor": 0
      },
      "text/plain": [
       "Map:   0%|          | 0/31 [00:00<?, ? examples/s]"
      ]
     },
     "metadata": {},
     "output_type": "display_data"
    },
    {
     "data": {
      "application/vnd.jupyter.widget-view+json": {
       "model_id": "6d67219f65c74fa69161ae56c52c3a25",
       "version_major": 2,
       "version_minor": 0
      },
      "text/plain": [
       "Map:   0%|          | 0/7 [00:00<?, ? examples/s]"
      ]
     },
     "metadata": {},
     "output_type": "display_data"
    },
    {
     "name": "stdout",
     "output_type": "stream",
     "text": [
      "StratifiedKFold(n_splits=5, random_state=None, shuffle=False)\n"
     ]
    },
    {
     "data": {
      "application/vnd.jupyter.widget-view+json": {
       "model_id": "15bb757f056c4655839f4ebaf94a5df5",
       "version_major": 2,
       "version_minor": 0
      },
      "text/plain": [
       "Map:   0%|          | 0/30 [00:00<?, ? examples/s]"
      ]
     },
     "metadata": {},
     "output_type": "display_data"
    },
    {
     "data": {
      "application/vnd.jupyter.widget-view+json": {
       "model_id": "902e0f9776e546b2b8a8d9f64b4714a1",
       "version_major": 2,
       "version_minor": 0
      },
      "text/plain": [
       "Map:   0%|          | 0/8 [00:00<?, ? examples/s]"
      ]
     },
     "metadata": {},
     "output_type": "display_data"
    },
    {
     "data": {
      "application/vnd.jupyter.widget-view+json": {
       "model_id": "4143e8a1d40744b391814b16dcfe834d",
       "version_major": 2,
       "version_minor": 0
      },
      "text/plain": [
       "Map:   0%|          | 0/30 [00:00<?, ? examples/s]"
      ]
     },
     "metadata": {},
     "output_type": "display_data"
    },
    {
     "data": {
      "application/vnd.jupyter.widget-view+json": {
       "model_id": "18f7ba08c05c4fc19c3f2e28ba80cc05",
       "version_major": 2,
       "version_minor": 0
      },
      "text/plain": [
       "Map:   0%|          | 0/8 [00:00<?, ? examples/s]"
      ]
     },
     "metadata": {},
     "output_type": "display_data"
    },
    {
     "data": {
      "application/vnd.jupyter.widget-view+json": {
       "model_id": "c898f1214943446b9fda378fee1d0d24",
       "version_major": 2,
       "version_minor": 0
      },
      "text/plain": [
       "Map:   0%|          | 0/30 [00:00<?, ? examples/s]"
      ]
     },
     "metadata": {},
     "output_type": "display_data"
    },
    {
     "data": {
      "application/vnd.jupyter.widget-view+json": {
       "model_id": "57c9509f7f0d4d9ca6121b75faa62fc6",
       "version_major": 2,
       "version_minor": 0
      },
      "text/plain": [
       "Map:   0%|          | 0/8 [00:00<?, ? examples/s]"
      ]
     },
     "metadata": {},
     "output_type": "display_data"
    },
    {
     "data": {
      "application/vnd.jupyter.widget-view+json": {
       "model_id": "0ef9704ea74d4a08b482afe0a512090b",
       "version_major": 2,
       "version_minor": 0
      },
      "text/plain": [
       "Map:   0%|          | 0/31 [00:00<?, ? examples/s]"
      ]
     },
     "metadata": {},
     "output_type": "display_data"
    },
    {
     "data": {
      "application/vnd.jupyter.widget-view+json": {
       "model_id": "d206a5e655744b8181a0a80718563f70",
       "version_major": 2,
       "version_minor": 0
      },
      "text/plain": [
       "Map:   0%|          | 0/7 [00:00<?, ? examples/s]"
      ]
     },
     "metadata": {},
     "output_type": "display_data"
    },
    {
     "data": {
      "application/vnd.jupyter.widget-view+json": {
       "model_id": "5e4acea8c52545dbb1aff713b0588be6",
       "version_major": 2,
       "version_minor": 0
      },
      "text/plain": [
       "Map:   0%|          | 0/31 [00:00<?, ? examples/s]"
      ]
     },
     "metadata": {},
     "output_type": "display_data"
    },
    {
     "data": {
      "application/vnd.jupyter.widget-view+json": {
       "model_id": "2f560de9bdff44f0b1fc95219f1a8c85",
       "version_major": 2,
       "version_minor": 0
      },
      "text/plain": [
       "Map:   0%|          | 0/7 [00:00<?, ? examples/s]"
      ]
     },
     "metadata": {},
     "output_type": "display_data"
    },
    {
     "name": "stdout",
     "output_type": "stream",
     "text": [
      "StratifiedKFold(n_splits=5, random_state=None, shuffle=False)\n"
     ]
    },
    {
     "data": {
      "application/vnd.jupyter.widget-view+json": {
       "model_id": "02c50dce46584b469e09b246c176489c",
       "version_major": 2,
       "version_minor": 0
      },
      "text/plain": [
       "Map:   0%|          | 0/30 [00:00<?, ? examples/s]"
      ]
     },
     "metadata": {},
     "output_type": "display_data"
    },
    {
     "data": {
      "application/vnd.jupyter.widget-view+json": {
       "model_id": "2c7f885f960b4678abc35904f1d90f9e",
       "version_major": 2,
       "version_minor": 0
      },
      "text/plain": [
       "Map:   0%|          | 0/8 [00:00<?, ? examples/s]"
      ]
     },
     "metadata": {},
     "output_type": "display_data"
    },
    {
     "data": {
      "application/vnd.jupyter.widget-view+json": {
       "model_id": "60967e2fd807485b95961c28692826d7",
       "version_major": 2,
       "version_minor": 0
      },
      "text/plain": [
       "Map:   0%|          | 0/30 [00:00<?, ? examples/s]"
      ]
     },
     "metadata": {},
     "output_type": "display_data"
    },
    {
     "data": {
      "application/vnd.jupyter.widget-view+json": {
       "model_id": "3fe65a0dbed2408a81e00fdc2e64a35b",
       "version_major": 2,
       "version_minor": 0
      },
      "text/plain": [
       "Map:   0%|          | 0/8 [00:00<?, ? examples/s]"
      ]
     },
     "metadata": {},
     "output_type": "display_data"
    },
    {
     "data": {
      "application/vnd.jupyter.widget-view+json": {
       "model_id": "625ea190d69d4f44a54a6f9952275b03",
       "version_major": 2,
       "version_minor": 0
      },
      "text/plain": [
       "Map:   0%|          | 0/30 [00:00<?, ? examples/s]"
      ]
     },
     "metadata": {},
     "output_type": "display_data"
    },
    {
     "data": {
      "application/vnd.jupyter.widget-view+json": {
       "model_id": "a2e40a083dd24792897585e977a9162a",
       "version_major": 2,
       "version_minor": 0
      },
      "text/plain": [
       "Map:   0%|          | 0/8 [00:00<?, ? examples/s]"
      ]
     },
     "metadata": {},
     "output_type": "display_data"
    },
    {
     "data": {
      "application/vnd.jupyter.widget-view+json": {
       "model_id": "e88c2330a3da4064beca0894e6d21764",
       "version_major": 2,
       "version_minor": 0
      },
      "text/plain": [
       "Map:   0%|          | 0/31 [00:00<?, ? examples/s]"
      ]
     },
     "metadata": {},
     "output_type": "display_data"
    },
    {
     "data": {
      "application/vnd.jupyter.widget-view+json": {
       "model_id": "9ca82c86c5454424ba574fde16c456ef",
       "version_major": 2,
       "version_minor": 0
      },
      "text/plain": [
       "Map:   0%|          | 0/7 [00:00<?, ? examples/s]"
      ]
     },
     "metadata": {},
     "output_type": "display_data"
    },
    {
     "data": {
      "application/vnd.jupyter.widget-view+json": {
       "model_id": "e34aeade6517471d9126f19ecf5f3452",
       "version_major": 2,
       "version_minor": 0
      },
      "text/plain": [
       "Map:   0%|          | 0/31 [00:00<?, ? examples/s]"
      ]
     },
     "metadata": {},
     "output_type": "display_data"
    },
    {
     "data": {
      "application/vnd.jupyter.widget-view+json": {
       "model_id": "c04ca9a8700841cab8da0c3365d09b14",
       "version_major": 2,
       "version_minor": 0
      },
      "text/plain": [
       "Map:   0%|          | 0/7 [00:00<?, ? examples/s]"
      ]
     },
     "metadata": {},
     "output_type": "display_data"
    },
    {
     "name": "stdout",
     "output_type": "stream",
     "text": [
      "StratifiedKFold(n_splits=5, random_state=None, shuffle=False)\n"
     ]
    },
    {
     "data": {
      "application/vnd.jupyter.widget-view+json": {
       "model_id": "a2db6ef9ca7a4cdfa4d18c574802ff41",
       "version_major": 2,
       "version_minor": 0
      },
      "text/plain": [
       "Map:   0%|          | 0/30 [00:00<?, ? examples/s]"
      ]
     },
     "metadata": {},
     "output_type": "display_data"
    },
    {
     "data": {
      "application/vnd.jupyter.widget-view+json": {
       "model_id": "d432414f184d4395ad6bec723f776452",
       "version_major": 2,
       "version_minor": 0
      },
      "text/plain": [
       "Map:   0%|          | 0/8 [00:00<?, ? examples/s]"
      ]
     },
     "metadata": {},
     "output_type": "display_data"
    },
    {
     "data": {
      "application/vnd.jupyter.widget-view+json": {
       "model_id": "b77d2006ece74e449c1aa54e4f8d944b",
       "version_major": 2,
       "version_minor": 0
      },
      "text/plain": [
       "Map:   0%|          | 0/30 [00:00<?, ? examples/s]"
      ]
     },
     "metadata": {},
     "output_type": "display_data"
    },
    {
     "data": {
      "application/vnd.jupyter.widget-view+json": {
       "model_id": "158333b022684096b537c17372904b73",
       "version_major": 2,
       "version_minor": 0
      },
      "text/plain": [
       "Map:   0%|          | 0/8 [00:00<?, ? examples/s]"
      ]
     },
     "metadata": {},
     "output_type": "display_data"
    },
    {
     "data": {
      "application/vnd.jupyter.widget-view+json": {
       "model_id": "a5e02098a289474593bd4f90baae4beb",
       "version_major": 2,
       "version_minor": 0
      },
      "text/plain": [
       "Map:   0%|          | 0/30 [00:00<?, ? examples/s]"
      ]
     },
     "metadata": {},
     "output_type": "display_data"
    },
    {
     "data": {
      "application/vnd.jupyter.widget-view+json": {
       "model_id": "a2cd635b631d4b8d8db1f26bfae95366",
       "version_major": 2,
       "version_minor": 0
      },
      "text/plain": [
       "Map:   0%|          | 0/8 [00:00<?, ? examples/s]"
      ]
     },
     "metadata": {},
     "output_type": "display_data"
    },
    {
     "data": {
      "application/vnd.jupyter.widget-view+json": {
       "model_id": "79501c816279483580185f051720a4f6",
       "version_major": 2,
       "version_minor": 0
      },
      "text/plain": [
       "Map:   0%|          | 0/31 [00:00<?, ? examples/s]"
      ]
     },
     "metadata": {},
     "output_type": "display_data"
    },
    {
     "data": {
      "application/vnd.jupyter.widget-view+json": {
       "model_id": "55fcbd853a4340f092884b03d540a903",
       "version_major": 2,
       "version_minor": 0
      },
      "text/plain": [
       "Map:   0%|          | 0/7 [00:00<?, ? examples/s]"
      ]
     },
     "metadata": {},
     "output_type": "display_data"
    },
    {
     "data": {
      "application/vnd.jupyter.widget-view+json": {
       "model_id": "4e108dd7cf1140bda4f7e6df1178e35d",
       "version_major": 2,
       "version_minor": 0
      },
      "text/plain": [
       "Map:   0%|          | 0/31 [00:00<?, ? examples/s]"
      ]
     },
     "metadata": {},
     "output_type": "display_data"
    },
    {
     "data": {
      "application/vnd.jupyter.widget-view+json": {
       "model_id": "cac738c253b946e98c613c2bedb1850e",
       "version_major": 2,
       "version_minor": 0
      },
      "text/plain": [
       "Map:   0%|          | 0/7 [00:00<?, ? examples/s]"
      ]
     },
     "metadata": {},
     "output_type": "display_data"
    },
    {
     "name": "stdout",
     "output_type": "stream",
     "text": [
      "StratifiedKFold(n_splits=5, random_state=None, shuffle=False)\n"
     ]
    },
    {
     "data": {
      "application/vnd.jupyter.widget-view+json": {
       "model_id": "d1347bd09e9b44dc81db4b8936c8ff63",
       "version_major": 2,
       "version_minor": 0
      },
      "text/plain": [
       "Map:   0%|          | 0/30 [00:00<?, ? examples/s]"
      ]
     },
     "metadata": {},
     "output_type": "display_data"
    },
    {
     "data": {
      "application/vnd.jupyter.widget-view+json": {
       "model_id": "825b71a02b3e4c6aa10cc71b9ade847f",
       "version_major": 2,
       "version_minor": 0
      },
      "text/plain": [
       "Map:   0%|          | 0/8 [00:00<?, ? examples/s]"
      ]
     },
     "metadata": {},
     "output_type": "display_data"
    },
    {
     "data": {
      "application/vnd.jupyter.widget-view+json": {
       "model_id": "ae2219107b3740518730aa160f7d50c5",
       "version_major": 2,
       "version_minor": 0
      },
      "text/plain": [
       "Map:   0%|          | 0/30 [00:00<?, ? examples/s]"
      ]
     },
     "metadata": {},
     "output_type": "display_data"
    },
    {
     "data": {
      "application/vnd.jupyter.widget-view+json": {
       "model_id": "2630e3d457484289b6c96fb917abfc55",
       "version_major": 2,
       "version_minor": 0
      },
      "text/plain": [
       "Map:   0%|          | 0/8 [00:00<?, ? examples/s]"
      ]
     },
     "metadata": {},
     "output_type": "display_data"
    },
    {
     "data": {
      "application/vnd.jupyter.widget-view+json": {
       "model_id": "2943b4da3af04ac982c2f6eeffed6a52",
       "version_major": 2,
       "version_minor": 0
      },
      "text/plain": [
       "Map:   0%|          | 0/30 [00:00<?, ? examples/s]"
      ]
     },
     "metadata": {},
     "output_type": "display_data"
    },
    {
     "data": {
      "application/vnd.jupyter.widget-view+json": {
       "model_id": "11c8dab5bcc74a3983ff1738e44dd5d2",
       "version_major": 2,
       "version_minor": 0
      },
      "text/plain": [
       "Map:   0%|          | 0/8 [00:00<?, ? examples/s]"
      ]
     },
     "metadata": {},
     "output_type": "display_data"
    },
    {
     "data": {
      "application/vnd.jupyter.widget-view+json": {
       "model_id": "befbdd0aeb2c437dac7ff40de192631e",
       "version_major": 2,
       "version_minor": 0
      },
      "text/plain": [
       "Map:   0%|          | 0/31 [00:00<?, ? examples/s]"
      ]
     },
     "metadata": {},
     "output_type": "display_data"
    },
    {
     "data": {
      "application/vnd.jupyter.widget-view+json": {
       "model_id": "66cf9447eb1543b7a02cca87e52ac1f3",
       "version_major": 2,
       "version_minor": 0
      },
      "text/plain": [
       "Map:   0%|          | 0/7 [00:00<?, ? examples/s]"
      ]
     },
     "metadata": {},
     "output_type": "display_data"
    },
    {
     "data": {
      "application/vnd.jupyter.widget-view+json": {
       "model_id": "ed18279451f74f8da2b94977164ab8d4",
       "version_major": 2,
       "version_minor": 0
      },
      "text/plain": [
       "Map:   0%|          | 0/31 [00:00<?, ? examples/s]"
      ]
     },
     "metadata": {},
     "output_type": "display_data"
    },
    {
     "data": {
      "application/vnd.jupyter.widget-view+json": {
       "model_id": "a62acb271578406d87eb4f80a01ac30b",
       "version_major": 2,
       "version_minor": 0
      },
      "text/plain": [
       "Map:   0%|          | 0/7 [00:00<?, ? examples/s]"
      ]
     },
     "metadata": {},
     "output_type": "display_data"
    },
    {
     "name": "stdout",
     "output_type": "stream",
     "text": [
      "StratifiedKFold(n_splits=5, random_state=None, shuffle=False)\n"
     ]
    },
    {
     "data": {
      "application/vnd.jupyter.widget-view+json": {
       "model_id": "7a593ea4ca1a44298c5ac036d644dc56",
       "version_major": 2,
       "version_minor": 0
      },
      "text/plain": [
       "Map:   0%|          | 0/30 [00:00<?, ? examples/s]"
      ]
     },
     "metadata": {},
     "output_type": "display_data"
    },
    {
     "data": {
      "application/vnd.jupyter.widget-view+json": {
       "model_id": "a5ab99e365954e02aba4f1c6f6b74e8b",
       "version_major": 2,
       "version_minor": 0
      },
      "text/plain": [
       "Map:   0%|          | 0/8 [00:00<?, ? examples/s]"
      ]
     },
     "metadata": {},
     "output_type": "display_data"
    },
    {
     "data": {
      "application/vnd.jupyter.widget-view+json": {
       "model_id": "8a3ae5e01e914741ad4c999ecf3f6631",
       "version_major": 2,
       "version_minor": 0
      },
      "text/plain": [
       "Map:   0%|          | 0/30 [00:00<?, ? examples/s]"
      ]
     },
     "metadata": {},
     "output_type": "display_data"
    },
    {
     "data": {
      "application/vnd.jupyter.widget-view+json": {
       "model_id": "3dead84b79d347d2a62349df2236ed9b",
       "version_major": 2,
       "version_minor": 0
      },
      "text/plain": [
       "Map:   0%|          | 0/8 [00:00<?, ? examples/s]"
      ]
     },
     "metadata": {},
     "output_type": "display_data"
    },
    {
     "data": {
      "application/vnd.jupyter.widget-view+json": {
       "model_id": "d2ce92818a094dd7b0506c5ef38d4880",
       "version_major": 2,
       "version_minor": 0
      },
      "text/plain": [
       "Map:   0%|          | 0/30 [00:00<?, ? examples/s]"
      ]
     },
     "metadata": {},
     "output_type": "display_data"
    },
    {
     "data": {
      "application/vnd.jupyter.widget-view+json": {
       "model_id": "04fd11f3db49409ca495c536755913a8",
       "version_major": 2,
       "version_minor": 0
      },
      "text/plain": [
       "Map:   0%|          | 0/8 [00:00<?, ? examples/s]"
      ]
     },
     "metadata": {},
     "output_type": "display_data"
    },
    {
     "data": {
      "application/vnd.jupyter.widget-view+json": {
       "model_id": "52dfd506b2604552a18b24a8ab146ca8",
       "version_major": 2,
       "version_minor": 0
      },
      "text/plain": [
       "Map:   0%|          | 0/31 [00:00<?, ? examples/s]"
      ]
     },
     "metadata": {},
     "output_type": "display_data"
    },
    {
     "data": {
      "application/vnd.jupyter.widget-view+json": {
       "model_id": "5be5b00698fd474a9bd3640435257f68",
       "version_major": 2,
       "version_minor": 0
      },
      "text/plain": [
       "Map:   0%|          | 0/7 [00:00<?, ? examples/s]"
      ]
     },
     "metadata": {},
     "output_type": "display_data"
    },
    {
     "data": {
      "application/vnd.jupyter.widget-view+json": {
       "model_id": "16eb9949a09d4b17a712688253e52a10",
       "version_major": 2,
       "version_minor": 0
      },
      "text/plain": [
       "Map:   0%|          | 0/31 [00:00<?, ? examples/s]"
      ]
     },
     "metadata": {},
     "output_type": "display_data"
    },
    {
     "data": {
      "application/vnd.jupyter.widget-view+json": {
       "model_id": "821c671db68b4666960800d47af7c6d9",
       "version_major": 2,
       "version_minor": 0
      },
      "text/plain": [
       "Map:   0%|          | 0/7 [00:00<?, ? examples/s]"
      ]
     },
     "metadata": {},
     "output_type": "display_data"
    },
    {
     "name": "stdout",
     "output_type": "stream",
     "text": [
      "StratifiedKFold(n_splits=5, random_state=None, shuffle=False)\n"
     ]
    },
    {
     "data": {
      "application/vnd.jupyter.widget-view+json": {
       "model_id": "e7f900e0937c40db853c5ca0a6277886",
       "version_major": 2,
       "version_minor": 0
      },
      "text/plain": [
       "Map:   0%|          | 0/30 [00:00<?, ? examples/s]"
      ]
     },
     "metadata": {},
     "output_type": "display_data"
    },
    {
     "data": {
      "application/vnd.jupyter.widget-view+json": {
       "model_id": "bfd595d2d47d4d8281e45fe29cdee813",
       "version_major": 2,
       "version_minor": 0
      },
      "text/plain": [
       "Map:   0%|          | 0/8 [00:00<?, ? examples/s]"
      ]
     },
     "metadata": {},
     "output_type": "display_data"
    },
    {
     "data": {
      "application/vnd.jupyter.widget-view+json": {
       "model_id": "2f751756a92045e3b71cb4d1d9caba1c",
       "version_major": 2,
       "version_minor": 0
      },
      "text/plain": [
       "Map:   0%|          | 0/30 [00:00<?, ? examples/s]"
      ]
     },
     "metadata": {},
     "output_type": "display_data"
    },
    {
     "data": {
      "application/vnd.jupyter.widget-view+json": {
       "model_id": "0ba16f4d2c154a5a84f03429a8a01df6",
       "version_major": 2,
       "version_minor": 0
      },
      "text/plain": [
       "Map:   0%|          | 0/8 [00:00<?, ? examples/s]"
      ]
     },
     "metadata": {},
     "output_type": "display_data"
    },
    {
     "data": {
      "application/vnd.jupyter.widget-view+json": {
       "model_id": "4561737f67c2424085960305e2415869",
       "version_major": 2,
       "version_minor": 0
      },
      "text/plain": [
       "Map:   0%|          | 0/30 [00:00<?, ? examples/s]"
      ]
     },
     "metadata": {},
     "output_type": "display_data"
    },
    {
     "data": {
      "application/vnd.jupyter.widget-view+json": {
       "model_id": "ba444206fb164787b546cd0fb61153f1",
       "version_major": 2,
       "version_minor": 0
      },
      "text/plain": [
       "Map:   0%|          | 0/8 [00:00<?, ? examples/s]"
      ]
     },
     "metadata": {},
     "output_type": "display_data"
    },
    {
     "data": {
      "application/vnd.jupyter.widget-view+json": {
       "model_id": "ce03ca31ad8d48c8a76319b25e2601bd",
       "version_major": 2,
       "version_minor": 0
      },
      "text/plain": [
       "Map:   0%|          | 0/31 [00:00<?, ? examples/s]"
      ]
     },
     "metadata": {},
     "output_type": "display_data"
    },
    {
     "data": {
      "application/vnd.jupyter.widget-view+json": {
       "model_id": "b744b471b0744ebbb929cbc9f173b922",
       "version_major": 2,
       "version_minor": 0
      },
      "text/plain": [
       "Map:   0%|          | 0/7 [00:00<?, ? examples/s]"
      ]
     },
     "metadata": {},
     "output_type": "display_data"
    },
    {
     "data": {
      "application/vnd.jupyter.widget-view+json": {
       "model_id": "b7b804afd0b4465eafbf84fecb00fdec",
       "version_major": 2,
       "version_minor": 0
      },
      "text/plain": [
       "Map:   0%|          | 0/31 [00:00<?, ? examples/s]"
      ]
     },
     "metadata": {},
     "output_type": "display_data"
    },
    {
     "data": {
      "application/vnd.jupyter.widget-view+json": {
       "model_id": "6613d682a17e42f58d109d1f9e00cfc6",
       "version_major": 2,
       "version_minor": 0
      },
      "text/plain": [
       "Map:   0%|          | 0/7 [00:00<?, ? examples/s]"
      ]
     },
     "metadata": {},
     "output_type": "display_data"
    },
    {
     "name": "stdout",
     "output_type": "stream",
     "text": [
      "StratifiedKFold(n_splits=5, random_state=None, shuffle=False)\n"
     ]
    },
    {
     "data": {
      "application/vnd.jupyter.widget-view+json": {
       "model_id": "6c8bab96d01b424ab1a4ef044bb09687",
       "version_major": 2,
       "version_minor": 0
      },
      "text/plain": [
       "Map:   0%|          | 0/30 [00:00<?, ? examples/s]"
      ]
     },
     "metadata": {},
     "output_type": "display_data"
    },
    {
     "data": {
      "application/vnd.jupyter.widget-view+json": {
       "model_id": "aadd8135a680434db3220be42033ff5a",
       "version_major": 2,
       "version_minor": 0
      },
      "text/plain": [
       "Map:   0%|          | 0/8 [00:00<?, ? examples/s]"
      ]
     },
     "metadata": {},
     "output_type": "display_data"
    },
    {
     "data": {
      "application/vnd.jupyter.widget-view+json": {
       "model_id": "498fb1e1c1d0450bbe8b76a743a23c51",
       "version_major": 2,
       "version_minor": 0
      },
      "text/plain": [
       "Map:   0%|          | 0/30 [00:00<?, ? examples/s]"
      ]
     },
     "metadata": {},
     "output_type": "display_data"
    },
    {
     "data": {
      "application/vnd.jupyter.widget-view+json": {
       "model_id": "34025311f0e24e5cbdf99ebedd7d5662",
       "version_major": 2,
       "version_minor": 0
      },
      "text/plain": [
       "Map:   0%|          | 0/8 [00:00<?, ? examples/s]"
      ]
     },
     "metadata": {},
     "output_type": "display_data"
    },
    {
     "data": {
      "application/vnd.jupyter.widget-view+json": {
       "model_id": "a62187bcb6f845c79dcd303f58673dac",
       "version_major": 2,
       "version_minor": 0
      },
      "text/plain": [
       "Map:   0%|          | 0/30 [00:00<?, ? examples/s]"
      ]
     },
     "metadata": {},
     "output_type": "display_data"
    },
    {
     "data": {
      "application/vnd.jupyter.widget-view+json": {
       "model_id": "94fcec29a1284559a34e19fe502a8e61",
       "version_major": 2,
       "version_minor": 0
      },
      "text/plain": [
       "Map:   0%|          | 0/8 [00:00<?, ? examples/s]"
      ]
     },
     "metadata": {},
     "output_type": "display_data"
    },
    {
     "data": {
      "application/vnd.jupyter.widget-view+json": {
       "model_id": "239dd8c337d042228beb2d53112008ad",
       "version_major": 2,
       "version_minor": 0
      },
      "text/plain": [
       "Map:   0%|          | 0/31 [00:00<?, ? examples/s]"
      ]
     },
     "metadata": {},
     "output_type": "display_data"
    },
    {
     "data": {
      "application/vnd.jupyter.widget-view+json": {
       "model_id": "4b0a314ee6844d36a6a14973bbccd1bf",
       "version_major": 2,
       "version_minor": 0
      },
      "text/plain": [
       "Map:   0%|          | 0/7 [00:00<?, ? examples/s]"
      ]
     },
     "metadata": {},
     "output_type": "display_data"
    },
    {
     "data": {
      "application/vnd.jupyter.widget-view+json": {
       "model_id": "4554362c611f41158fd8596f14985fec",
       "version_major": 2,
       "version_minor": 0
      },
      "text/plain": [
       "Map:   0%|          | 0/31 [00:00<?, ? examples/s]"
      ]
     },
     "metadata": {},
     "output_type": "display_data"
    },
    {
     "data": {
      "application/vnd.jupyter.widget-view+json": {
       "model_id": "7853b3ae9b3e433f8599b77a8027e0e1",
       "version_major": 2,
       "version_minor": 0
      },
      "text/plain": [
       "Map:   0%|          | 0/7 [00:00<?, ? examples/s]"
      ]
     },
     "metadata": {},
     "output_type": "display_data"
    },
    {
     "name": "stdout",
     "output_type": "stream",
     "text": [
      "StratifiedKFold(n_splits=5, random_state=None, shuffle=False)\n"
     ]
    },
    {
     "data": {
      "application/vnd.jupyter.widget-view+json": {
       "model_id": "7f9dafe9b5944d9398d8bc5b25fcc5ac",
       "version_major": 2,
       "version_minor": 0
      },
      "text/plain": [
       "Map:   0%|          | 0/30 [00:00<?, ? examples/s]"
      ]
     },
     "metadata": {},
     "output_type": "display_data"
    },
    {
     "data": {
      "application/vnd.jupyter.widget-view+json": {
       "model_id": "fbfc8ed67314444eadb8b661063bf7c9",
       "version_major": 2,
       "version_minor": 0
      },
      "text/plain": [
       "Map:   0%|          | 0/8 [00:00<?, ? examples/s]"
      ]
     },
     "metadata": {},
     "output_type": "display_data"
    },
    {
     "data": {
      "application/vnd.jupyter.widget-view+json": {
       "model_id": "ce2e4817645c4fc5ab91c1ccabcd59f8",
       "version_major": 2,
       "version_minor": 0
      },
      "text/plain": [
       "Map:   0%|          | 0/30 [00:00<?, ? examples/s]"
      ]
     },
     "metadata": {},
     "output_type": "display_data"
    },
    {
     "data": {
      "application/vnd.jupyter.widget-view+json": {
       "model_id": "cd371b3625d743acb490a5c54f0c9116",
       "version_major": 2,
       "version_minor": 0
      },
      "text/plain": [
       "Map:   0%|          | 0/8 [00:00<?, ? examples/s]"
      ]
     },
     "metadata": {},
     "output_type": "display_data"
    },
    {
     "data": {
      "application/vnd.jupyter.widget-view+json": {
       "model_id": "7c1d5b59fa9c4ea88895f91864316caf",
       "version_major": 2,
       "version_minor": 0
      },
      "text/plain": [
       "Map:   0%|          | 0/30 [00:00<?, ? examples/s]"
      ]
     },
     "metadata": {},
     "output_type": "display_data"
    },
    {
     "data": {
      "application/vnd.jupyter.widget-view+json": {
       "model_id": "dac4848edb954d6c9c392ddbf1f2b6eb",
       "version_major": 2,
       "version_minor": 0
      },
      "text/plain": [
       "Map:   0%|          | 0/8 [00:00<?, ? examples/s]"
      ]
     },
     "metadata": {},
     "output_type": "display_data"
    },
    {
     "data": {
      "application/vnd.jupyter.widget-view+json": {
       "model_id": "f5fb6c7218bc40efb6798c87f5a0461d",
       "version_major": 2,
       "version_minor": 0
      },
      "text/plain": [
       "Map:   0%|          | 0/31 [00:00<?, ? examples/s]"
      ]
     },
     "metadata": {},
     "output_type": "display_data"
    },
    {
     "data": {
      "application/vnd.jupyter.widget-view+json": {
       "model_id": "e3e5e982c9a243beb65ad42c1bdbe8c7",
       "version_major": 2,
       "version_minor": 0
      },
      "text/plain": [
       "Map:   0%|          | 0/7 [00:00<?, ? examples/s]"
      ]
     },
     "metadata": {},
     "output_type": "display_data"
    },
    {
     "data": {
      "application/vnd.jupyter.widget-view+json": {
       "model_id": "810bf59125c44bcba0d80670356bb39f",
       "version_major": 2,
       "version_minor": 0
      },
      "text/plain": [
       "Map:   0%|          | 0/31 [00:00<?, ? examples/s]"
      ]
     },
     "metadata": {},
     "output_type": "display_data"
    },
    {
     "data": {
      "application/vnd.jupyter.widget-view+json": {
       "model_id": "7bf97a1696884a738da153da5bc983f1",
       "version_major": 2,
       "version_minor": 0
      },
      "text/plain": [
       "Map:   0%|          | 0/7 [00:00<?, ? examples/s]"
      ]
     },
     "metadata": {},
     "output_type": "display_data"
    },
    {
     "name": "stdout",
     "output_type": "stream",
     "text": [
      "StratifiedKFold(n_splits=5, random_state=None, shuffle=False)\n"
     ]
    },
    {
     "data": {
      "application/vnd.jupyter.widget-view+json": {
       "model_id": "e4973e9404eb4417b08032037c22f02b",
       "version_major": 2,
       "version_minor": 0
      },
      "text/plain": [
       "Map:   0%|          | 0/30 [00:00<?, ? examples/s]"
      ]
     },
     "metadata": {},
     "output_type": "display_data"
    },
    {
     "data": {
      "application/vnd.jupyter.widget-view+json": {
       "model_id": "7ef8f18db9294d319c726751f8b7b303",
       "version_major": 2,
       "version_minor": 0
      },
      "text/plain": [
       "Map:   0%|          | 0/8 [00:00<?, ? examples/s]"
      ]
     },
     "metadata": {},
     "output_type": "display_data"
    },
    {
     "data": {
      "application/vnd.jupyter.widget-view+json": {
       "model_id": "0b40735bc07a438480b4413317353ef8",
       "version_major": 2,
       "version_minor": 0
      },
      "text/plain": [
       "Map:   0%|          | 0/30 [00:00<?, ? examples/s]"
      ]
     },
     "metadata": {},
     "output_type": "display_data"
    },
    {
     "data": {
      "application/vnd.jupyter.widget-view+json": {
       "model_id": "a9d55e0a22294df78d12bfea625b7e20",
       "version_major": 2,
       "version_minor": 0
      },
      "text/plain": [
       "Map:   0%|          | 0/8 [00:00<?, ? examples/s]"
      ]
     },
     "metadata": {},
     "output_type": "display_data"
    },
    {
     "data": {
      "application/vnd.jupyter.widget-view+json": {
       "model_id": "6eb318dc3fca4e02b716ae0db016f607",
       "version_major": 2,
       "version_minor": 0
      },
      "text/plain": [
       "Map:   0%|          | 0/30 [00:00<?, ? examples/s]"
      ]
     },
     "metadata": {},
     "output_type": "display_data"
    },
    {
     "data": {
      "application/vnd.jupyter.widget-view+json": {
       "model_id": "cfe57b9b7188473783724b7d37a99ac5",
       "version_major": 2,
       "version_minor": 0
      },
      "text/plain": [
       "Map:   0%|          | 0/8 [00:00<?, ? examples/s]"
      ]
     },
     "metadata": {},
     "output_type": "display_data"
    },
    {
     "data": {
      "application/vnd.jupyter.widget-view+json": {
       "model_id": "4eeae7ca4eb14205abf18b2907c248c4",
       "version_major": 2,
       "version_minor": 0
      },
      "text/plain": [
       "Map:   0%|          | 0/31 [00:00<?, ? examples/s]"
      ]
     },
     "metadata": {},
     "output_type": "display_data"
    },
    {
     "data": {
      "application/vnd.jupyter.widget-view+json": {
       "model_id": "3393bce847404857a4e01f7720be321e",
       "version_major": 2,
       "version_minor": 0
      },
      "text/plain": [
       "Map:   0%|          | 0/7 [00:00<?, ? examples/s]"
      ]
     },
     "metadata": {},
     "output_type": "display_data"
    },
    {
     "data": {
      "application/vnd.jupyter.widget-view+json": {
       "model_id": "875ba0510ff4439cb5bb7d620a52d4c0",
       "version_major": 2,
       "version_minor": 0
      },
      "text/plain": [
       "Map:   0%|          | 0/31 [00:00<?, ? examples/s]"
      ]
     },
     "metadata": {},
     "output_type": "display_data"
    },
    {
     "data": {
      "application/vnd.jupyter.widget-view+json": {
       "model_id": "778431a0d6a64df1a2584570f31141c8",
       "version_major": 2,
       "version_minor": 0
      },
      "text/plain": [
       "Map:   0%|          | 0/7 [00:00<?, ? examples/s]"
      ]
     },
     "metadata": {},
     "output_type": "display_data"
    },
    {
     "name": "stdout",
     "output_type": "stream",
     "text": [
      "StratifiedKFold(n_splits=5, random_state=None, shuffle=False)\n"
     ]
    },
    {
     "data": {
      "application/vnd.jupyter.widget-view+json": {
       "model_id": "f804b0aadbba49d88022cd275cfac557",
       "version_major": 2,
       "version_minor": 0
      },
      "text/plain": [
       "Map:   0%|          | 0/30 [00:00<?, ? examples/s]"
      ]
     },
     "metadata": {},
     "output_type": "display_data"
    },
    {
     "data": {
      "application/vnd.jupyter.widget-view+json": {
       "model_id": "af313b4da67b499eb133edb483601051",
       "version_major": 2,
       "version_minor": 0
      },
      "text/plain": [
       "Map:   0%|          | 0/8 [00:00<?, ? examples/s]"
      ]
     },
     "metadata": {},
     "output_type": "display_data"
    },
    {
     "data": {
      "application/vnd.jupyter.widget-view+json": {
       "model_id": "5127e8d974014000935ae7d678165487",
       "version_major": 2,
       "version_minor": 0
      },
      "text/plain": [
       "Map:   0%|          | 0/30 [00:00<?, ? examples/s]"
      ]
     },
     "metadata": {},
     "output_type": "display_data"
    },
    {
     "data": {
      "application/vnd.jupyter.widget-view+json": {
       "model_id": "cad3a9042b1a432b8446325d3a77e0fd",
       "version_major": 2,
       "version_minor": 0
      },
      "text/plain": [
       "Map:   0%|          | 0/8 [00:00<?, ? examples/s]"
      ]
     },
     "metadata": {},
     "output_type": "display_data"
    },
    {
     "data": {
      "application/vnd.jupyter.widget-view+json": {
       "model_id": "d31d3ed541f74cf39b6e9007b97f47af",
       "version_major": 2,
       "version_minor": 0
      },
      "text/plain": [
       "Map:   0%|          | 0/30 [00:00<?, ? examples/s]"
      ]
     },
     "metadata": {},
     "output_type": "display_data"
    },
    {
     "data": {
      "application/vnd.jupyter.widget-view+json": {
       "model_id": "05e6e0d2ac0c4d06a2921235e395682d",
       "version_major": 2,
       "version_minor": 0
      },
      "text/plain": [
       "Map:   0%|          | 0/8 [00:00<?, ? examples/s]"
      ]
     },
     "metadata": {},
     "output_type": "display_data"
    },
    {
     "data": {
      "application/vnd.jupyter.widget-view+json": {
       "model_id": "76f190369a6e405a9451d3f6df852f2d",
       "version_major": 2,
       "version_minor": 0
      },
      "text/plain": [
       "Map:   0%|          | 0/31 [00:00<?, ? examples/s]"
      ]
     },
     "metadata": {},
     "output_type": "display_data"
    },
    {
     "data": {
      "application/vnd.jupyter.widget-view+json": {
       "model_id": "1bba77fbdc544bbe937d39ec67795cb2",
       "version_major": 2,
       "version_minor": 0
      },
      "text/plain": [
       "Map:   0%|          | 0/7 [00:00<?, ? examples/s]"
      ]
     },
     "metadata": {},
     "output_type": "display_data"
    },
    {
     "data": {
      "application/vnd.jupyter.widget-view+json": {
       "model_id": "c145a82f5a054627b8d84dd4e76ba1f6",
       "version_major": 2,
       "version_minor": 0
      },
      "text/plain": [
       "Map:   0%|          | 0/31 [00:00<?, ? examples/s]"
      ]
     },
     "metadata": {},
     "output_type": "display_data"
    },
    {
     "data": {
      "application/vnd.jupyter.widget-view+json": {
       "model_id": "9cf228c8951a4181b9e0b0e66fe3d7a9",
       "version_major": 2,
       "version_minor": 0
      },
      "text/plain": [
       "Map:   0%|          | 0/7 [00:00<?, ? examples/s]"
      ]
     },
     "metadata": {},
     "output_type": "display_data"
    },
    {
     "name": "stdout",
     "output_type": "stream",
     "text": [
      "StratifiedKFold(n_splits=5, random_state=None, shuffle=False)\n"
     ]
    },
    {
     "data": {
      "application/vnd.jupyter.widget-view+json": {
       "model_id": "336a86e67ad646229ac9a47c7ae6a71e",
       "version_major": 2,
       "version_minor": 0
      },
      "text/plain": [
       "Map:   0%|          | 0/30 [00:00<?, ? examples/s]"
      ]
     },
     "metadata": {},
     "output_type": "display_data"
    },
    {
     "data": {
      "application/vnd.jupyter.widget-view+json": {
       "model_id": "6a3807f82e2b425f9ac55ba68105a87e",
       "version_major": 2,
       "version_minor": 0
      },
      "text/plain": [
       "Map:   0%|          | 0/8 [00:00<?, ? examples/s]"
      ]
     },
     "metadata": {},
     "output_type": "display_data"
    },
    {
     "data": {
      "application/vnd.jupyter.widget-view+json": {
       "model_id": "5949cb9237094f448b4f5d0a9d9401c9",
       "version_major": 2,
       "version_minor": 0
      },
      "text/plain": [
       "Map:   0%|          | 0/30 [00:00<?, ? examples/s]"
      ]
     },
     "metadata": {},
     "output_type": "display_data"
    },
    {
     "data": {
      "application/vnd.jupyter.widget-view+json": {
       "model_id": "47ed337b43184b48bf68645706f687b5",
       "version_major": 2,
       "version_minor": 0
      },
      "text/plain": [
       "Map:   0%|          | 0/8 [00:00<?, ? examples/s]"
      ]
     },
     "metadata": {},
     "output_type": "display_data"
    },
    {
     "data": {
      "application/vnd.jupyter.widget-view+json": {
       "model_id": "7368925ed52e434395831290732eba73",
       "version_major": 2,
       "version_minor": 0
      },
      "text/plain": [
       "Map:   0%|          | 0/30 [00:00<?, ? examples/s]"
      ]
     },
     "metadata": {},
     "output_type": "display_data"
    },
    {
     "data": {
      "application/vnd.jupyter.widget-view+json": {
       "model_id": "193c0fbf1550493dbafeeea01612b145",
       "version_major": 2,
       "version_minor": 0
      },
      "text/plain": [
       "Map:   0%|          | 0/8 [00:00<?, ? examples/s]"
      ]
     },
     "metadata": {},
     "output_type": "display_data"
    },
    {
     "data": {
      "application/vnd.jupyter.widget-view+json": {
       "model_id": "5d31f48cba1f4024bcfc0d00c50fe161",
       "version_major": 2,
       "version_minor": 0
      },
      "text/plain": [
       "Map:   0%|          | 0/31 [00:00<?, ? examples/s]"
      ]
     },
     "metadata": {},
     "output_type": "display_data"
    },
    {
     "data": {
      "application/vnd.jupyter.widget-view+json": {
       "model_id": "83949711544e49d097435315092e7b2e",
       "version_major": 2,
       "version_minor": 0
      },
      "text/plain": [
       "Map:   0%|          | 0/7 [00:00<?, ? examples/s]"
      ]
     },
     "metadata": {},
     "output_type": "display_data"
    },
    {
     "data": {
      "application/vnd.jupyter.widget-view+json": {
       "model_id": "8d9935619ef04413aaac8b9e53010f77",
       "version_major": 2,
       "version_minor": 0
      },
      "text/plain": [
       "Map:   0%|          | 0/31 [00:00<?, ? examples/s]"
      ]
     },
     "metadata": {},
     "output_type": "display_data"
    },
    {
     "data": {
      "application/vnd.jupyter.widget-view+json": {
       "model_id": "09d2a4a0a42f41af88f1c0d3030e1e26",
       "version_major": 2,
       "version_minor": 0
      },
      "text/plain": [
       "Map:   0%|          | 0/7 [00:00<?, ? examples/s]"
      ]
     },
     "metadata": {},
     "output_type": "display_data"
    },
    {
     "name": "stdout",
     "output_type": "stream",
     "text": [
      "StratifiedKFold(n_splits=5, random_state=None, shuffle=False)\n"
     ]
    },
    {
     "data": {
      "application/vnd.jupyter.widget-view+json": {
       "model_id": "72c178932653476d93586917ba6df1d5",
       "version_major": 2,
       "version_minor": 0
      },
      "text/plain": [
       "Map:   0%|          | 0/30 [00:00<?, ? examples/s]"
      ]
     },
     "metadata": {},
     "output_type": "display_data"
    },
    {
     "data": {
      "application/vnd.jupyter.widget-view+json": {
       "model_id": "8bc86685ed12406f82c201867d41ba6b",
       "version_major": 2,
       "version_minor": 0
      },
      "text/plain": [
       "Map:   0%|          | 0/8 [00:00<?, ? examples/s]"
      ]
     },
     "metadata": {},
     "output_type": "display_data"
    },
    {
     "data": {
      "application/vnd.jupyter.widget-view+json": {
       "model_id": "b7d6fdbc699a4163ad516f8684bdd18a",
       "version_major": 2,
       "version_minor": 0
      },
      "text/plain": [
       "Map:   0%|          | 0/30 [00:00<?, ? examples/s]"
      ]
     },
     "metadata": {},
     "output_type": "display_data"
    },
    {
     "data": {
      "application/vnd.jupyter.widget-view+json": {
       "model_id": "aa983e3c5ec445369562d337af4fca66",
       "version_major": 2,
       "version_minor": 0
      },
      "text/plain": [
       "Map:   0%|          | 0/8 [00:00<?, ? examples/s]"
      ]
     },
     "metadata": {},
     "output_type": "display_data"
    },
    {
     "data": {
      "application/vnd.jupyter.widget-view+json": {
       "model_id": "cbd35a32f0fe441faf92dd0a185939b5",
       "version_major": 2,
       "version_minor": 0
      },
      "text/plain": [
       "Map:   0%|          | 0/30 [00:00<?, ? examples/s]"
      ]
     },
     "metadata": {},
     "output_type": "display_data"
    },
    {
     "data": {
      "application/vnd.jupyter.widget-view+json": {
       "model_id": "4b22e5bf191b47eab9fd0eb21f028177",
       "version_major": 2,
       "version_minor": 0
      },
      "text/plain": [
       "Map:   0%|          | 0/8 [00:00<?, ? examples/s]"
      ]
     },
     "metadata": {},
     "output_type": "display_data"
    },
    {
     "data": {
      "application/vnd.jupyter.widget-view+json": {
       "model_id": "f1fc79964770401994158bbabbc751d5",
       "version_major": 2,
       "version_minor": 0
      },
      "text/plain": [
       "Map:   0%|          | 0/31 [00:00<?, ? examples/s]"
      ]
     },
     "metadata": {},
     "output_type": "display_data"
    },
    {
     "data": {
      "application/vnd.jupyter.widget-view+json": {
       "model_id": "835237e1c6674e3b9e49c3da87380911",
       "version_major": 2,
       "version_minor": 0
      },
      "text/plain": [
       "Map:   0%|          | 0/7 [00:00<?, ? examples/s]"
      ]
     },
     "metadata": {},
     "output_type": "display_data"
    },
    {
     "data": {
      "application/vnd.jupyter.widget-view+json": {
       "model_id": "4299a0ae211048d7ba9f35af5dc4443c",
       "version_major": 2,
       "version_minor": 0
      },
      "text/plain": [
       "Map:   0%|          | 0/31 [00:00<?, ? examples/s]"
      ]
     },
     "metadata": {},
     "output_type": "display_data"
    },
    {
     "data": {
      "application/vnd.jupyter.widget-view+json": {
       "model_id": "161caa3bff694599be03f33bfba861ed",
       "version_major": 2,
       "version_minor": 0
      },
      "text/plain": [
       "Map:   0%|          | 0/7 [00:00<?, ? examples/s]"
      ]
     },
     "metadata": {},
     "output_type": "display_data"
    },
    {
     "name": "stdout",
     "output_type": "stream",
     "text": [
      "StratifiedKFold(n_splits=5, random_state=None, shuffle=False)\n"
     ]
    },
    {
     "data": {
      "application/vnd.jupyter.widget-view+json": {
       "model_id": "8f0a055b69df46caa572a3d39a2bc41d",
       "version_major": 2,
       "version_minor": 0
      },
      "text/plain": [
       "Map:   0%|          | 0/30 [00:00<?, ? examples/s]"
      ]
     },
     "metadata": {},
     "output_type": "display_data"
    },
    {
     "data": {
      "application/vnd.jupyter.widget-view+json": {
       "model_id": "2e5c1500141b40ed903152a9a95299e0",
       "version_major": 2,
       "version_minor": 0
      },
      "text/plain": [
       "Map:   0%|          | 0/8 [00:00<?, ? examples/s]"
      ]
     },
     "metadata": {},
     "output_type": "display_data"
    },
    {
     "data": {
      "application/vnd.jupyter.widget-view+json": {
       "model_id": "9fa1c1ecc6274d2cb756c424be68f4e4",
       "version_major": 2,
       "version_minor": 0
      },
      "text/plain": [
       "Map:   0%|          | 0/30 [00:00<?, ? examples/s]"
      ]
     },
     "metadata": {},
     "output_type": "display_data"
    },
    {
     "data": {
      "application/vnd.jupyter.widget-view+json": {
       "model_id": "45392ecdccc54aa4b2355518b6684902",
       "version_major": 2,
       "version_minor": 0
      },
      "text/plain": [
       "Map:   0%|          | 0/8 [00:00<?, ? examples/s]"
      ]
     },
     "metadata": {},
     "output_type": "display_data"
    },
    {
     "data": {
      "application/vnd.jupyter.widget-view+json": {
       "model_id": "18313259d0fb48acb06dd47aea9bc39d",
       "version_major": 2,
       "version_minor": 0
      },
      "text/plain": [
       "Map:   0%|          | 0/30 [00:00<?, ? examples/s]"
      ]
     },
     "metadata": {},
     "output_type": "display_data"
    },
    {
     "data": {
      "application/vnd.jupyter.widget-view+json": {
       "model_id": "cf3d8f96a75744348ff2b752d041fb8b",
       "version_major": 2,
       "version_minor": 0
      },
      "text/plain": [
       "Map:   0%|          | 0/8 [00:00<?, ? examples/s]"
      ]
     },
     "metadata": {},
     "output_type": "display_data"
    },
    {
     "data": {
      "application/vnd.jupyter.widget-view+json": {
       "model_id": "d34b54012ec54c9bb0422234cf07eeca",
       "version_major": 2,
       "version_minor": 0
      },
      "text/plain": [
       "Map:   0%|          | 0/31 [00:00<?, ? examples/s]"
      ]
     },
     "metadata": {},
     "output_type": "display_data"
    },
    {
     "data": {
      "application/vnd.jupyter.widget-view+json": {
       "model_id": "78cca4b949e94eefb3ed0c596f24c091",
       "version_major": 2,
       "version_minor": 0
      },
      "text/plain": [
       "Map:   0%|          | 0/7 [00:00<?, ? examples/s]"
      ]
     },
     "metadata": {},
     "output_type": "display_data"
    },
    {
     "data": {
      "application/vnd.jupyter.widget-view+json": {
       "model_id": "d3e4c20472be4deba0f384b2aa4dc2ee",
       "version_major": 2,
       "version_minor": 0
      },
      "text/plain": [
       "Map:   0%|          | 0/31 [00:00<?, ? examples/s]"
      ]
     },
     "metadata": {},
     "output_type": "display_data"
    },
    {
     "data": {
      "application/vnd.jupyter.widget-view+json": {
       "model_id": "c220259ffc404cb9893dbc0c7ce1cf0e",
       "version_major": 2,
       "version_minor": 0
      },
      "text/plain": [
       "Map:   0%|          | 0/7 [00:00<?, ? examples/s]"
      ]
     },
     "metadata": {},
     "output_type": "display_data"
    },
    {
     "name": "stdout",
     "output_type": "stream",
     "text": [
      "StratifiedKFold(n_splits=5, random_state=None, shuffle=False)\n"
     ]
    },
    {
     "data": {
      "application/vnd.jupyter.widget-view+json": {
       "model_id": "6205bfc85a83420dacd1b326c43db04a",
       "version_major": 2,
       "version_minor": 0
      },
      "text/plain": [
       "Map:   0%|          | 0/30 [00:00<?, ? examples/s]"
      ]
     },
     "metadata": {},
     "output_type": "display_data"
    },
    {
     "data": {
      "application/vnd.jupyter.widget-view+json": {
       "model_id": "031090c0c4d4429c9d7ce02639520669",
       "version_major": 2,
       "version_minor": 0
      },
      "text/plain": [
       "Map:   0%|          | 0/8 [00:00<?, ? examples/s]"
      ]
     },
     "metadata": {},
     "output_type": "display_data"
    },
    {
     "data": {
      "application/vnd.jupyter.widget-view+json": {
       "model_id": "a85bd8f1859141bda2422f4edbeb2c5d",
       "version_major": 2,
       "version_minor": 0
      },
      "text/plain": [
       "Map:   0%|          | 0/30 [00:00<?, ? examples/s]"
      ]
     },
     "metadata": {},
     "output_type": "display_data"
    },
    {
     "data": {
      "application/vnd.jupyter.widget-view+json": {
       "model_id": "aa9fd20792d9412989aa787ac331a85d",
       "version_major": 2,
       "version_minor": 0
      },
      "text/plain": [
       "Map:   0%|          | 0/8 [00:00<?, ? examples/s]"
      ]
     },
     "metadata": {},
     "output_type": "display_data"
    },
    {
     "data": {
      "application/vnd.jupyter.widget-view+json": {
       "model_id": "ae85108dbf2044489ab6ad0e56dcdb70",
       "version_major": 2,
       "version_minor": 0
      },
      "text/plain": [
       "Map:   0%|          | 0/30 [00:00<?, ? examples/s]"
      ]
     },
     "metadata": {},
     "output_type": "display_data"
    },
    {
     "data": {
      "application/vnd.jupyter.widget-view+json": {
       "model_id": "a41f9844dc014d8a9ca6a9c289e28965",
       "version_major": 2,
       "version_minor": 0
      },
      "text/plain": [
       "Map:   0%|          | 0/8 [00:00<?, ? examples/s]"
      ]
     },
     "metadata": {},
     "output_type": "display_data"
    },
    {
     "data": {
      "application/vnd.jupyter.widget-view+json": {
       "model_id": "281decccfa364a1396612d92229b7d8e",
       "version_major": 2,
       "version_minor": 0
      },
      "text/plain": [
       "Map:   0%|          | 0/31 [00:00<?, ? examples/s]"
      ]
     },
     "metadata": {},
     "output_type": "display_data"
    },
    {
     "data": {
      "application/vnd.jupyter.widget-view+json": {
       "model_id": "e9092f2b0ba7409589cf369acbab181e",
       "version_major": 2,
       "version_minor": 0
      },
      "text/plain": [
       "Map:   0%|          | 0/7 [00:00<?, ? examples/s]"
      ]
     },
     "metadata": {},
     "output_type": "display_data"
    },
    {
     "data": {
      "application/vnd.jupyter.widget-view+json": {
       "model_id": "3527d007fb8f493f8d3a319c52ff53ad",
       "version_major": 2,
       "version_minor": 0
      },
      "text/plain": [
       "Map:   0%|          | 0/31 [00:00<?, ? examples/s]"
      ]
     },
     "metadata": {},
     "output_type": "display_data"
    },
    {
     "data": {
      "application/vnd.jupyter.widget-view+json": {
       "model_id": "22d9be5b8add44d5a3a8ea648fe5c013",
       "version_major": 2,
       "version_minor": 0
      },
      "text/plain": [
       "Map:   0%|          | 0/7 [00:00<?, ? examples/s]"
      ]
     },
     "metadata": {},
     "output_type": "display_data"
    },
    {
     "name": "stdout",
     "output_type": "stream",
     "text": [
      "StratifiedKFold(n_splits=5, random_state=None, shuffle=False)\n"
     ]
    },
    {
     "data": {
      "application/vnd.jupyter.widget-view+json": {
       "model_id": "01486587ce6c4b6395df66d4db4af6bd",
       "version_major": 2,
       "version_minor": 0
      },
      "text/plain": [
       "Map:   0%|          | 0/30 [00:00<?, ? examples/s]"
      ]
     },
     "metadata": {},
     "output_type": "display_data"
    },
    {
     "data": {
      "application/vnd.jupyter.widget-view+json": {
       "model_id": "5b7a53f3224b4a0db47aeaad584fba0e",
       "version_major": 2,
       "version_minor": 0
      },
      "text/plain": [
       "Map:   0%|          | 0/8 [00:00<?, ? examples/s]"
      ]
     },
     "metadata": {},
     "output_type": "display_data"
    },
    {
     "data": {
      "application/vnd.jupyter.widget-view+json": {
       "model_id": "4d3fc6e4a74a4ef392c842234c73f5a4",
       "version_major": 2,
       "version_minor": 0
      },
      "text/plain": [
       "Map:   0%|          | 0/30 [00:00<?, ? examples/s]"
      ]
     },
     "metadata": {},
     "output_type": "display_data"
    },
    {
     "data": {
      "application/vnd.jupyter.widget-view+json": {
       "model_id": "4410803a67fd4f1daa2039bb8af12a00",
       "version_major": 2,
       "version_minor": 0
      },
      "text/plain": [
       "Map:   0%|          | 0/8 [00:00<?, ? examples/s]"
      ]
     },
     "metadata": {},
     "output_type": "display_data"
    },
    {
     "data": {
      "application/vnd.jupyter.widget-view+json": {
       "model_id": "f26855bed15242bf94b82ab8c17e237a",
       "version_major": 2,
       "version_minor": 0
      },
      "text/plain": [
       "Map:   0%|          | 0/30 [00:00<?, ? examples/s]"
      ]
     },
     "metadata": {},
     "output_type": "display_data"
    },
    {
     "data": {
      "application/vnd.jupyter.widget-view+json": {
       "model_id": "1f977bdf22bf4a54be16697336f9d9bd",
       "version_major": 2,
       "version_minor": 0
      },
      "text/plain": [
       "Map:   0%|          | 0/8 [00:00<?, ? examples/s]"
      ]
     },
     "metadata": {},
     "output_type": "display_data"
    },
    {
     "data": {
      "application/vnd.jupyter.widget-view+json": {
       "model_id": "2fb2054044294cedb564abf42849dc1e",
       "version_major": 2,
       "version_minor": 0
      },
      "text/plain": [
       "Map:   0%|          | 0/31 [00:00<?, ? examples/s]"
      ]
     },
     "metadata": {},
     "output_type": "display_data"
    },
    {
     "data": {
      "application/vnd.jupyter.widget-view+json": {
       "model_id": "c01bc16ebfc04b2e9db9dd5f774d1bb0",
       "version_major": 2,
       "version_minor": 0
      },
      "text/plain": [
       "Map:   0%|          | 0/7 [00:00<?, ? examples/s]"
      ]
     },
     "metadata": {},
     "output_type": "display_data"
    },
    {
     "data": {
      "application/vnd.jupyter.widget-view+json": {
       "model_id": "8462cd3d77644d6b85372967b07cc123",
       "version_major": 2,
       "version_minor": 0
      },
      "text/plain": [
       "Map:   0%|          | 0/31 [00:00<?, ? examples/s]"
      ]
     },
     "metadata": {},
     "output_type": "display_data"
    },
    {
     "data": {
      "application/vnd.jupyter.widget-view+json": {
       "model_id": "6dad0313fe11456abf192e826b801aef",
       "version_major": 2,
       "version_minor": 0
      },
      "text/plain": [
       "Map:   0%|          | 0/7 [00:00<?, ? examples/s]"
      ]
     },
     "metadata": {},
     "output_type": "display_data"
    },
    {
     "name": "stdout",
     "output_type": "stream",
     "text": [
      "StratifiedKFold(n_splits=5, random_state=None, shuffle=False)\n"
     ]
    },
    {
     "data": {
      "application/vnd.jupyter.widget-view+json": {
       "model_id": "d71edace0057478d8867060e1b2e50ca",
       "version_major": 2,
       "version_minor": 0
      },
      "text/plain": [
       "Map:   0%|          | 0/30 [00:00<?, ? examples/s]"
      ]
     },
     "metadata": {},
     "output_type": "display_data"
    },
    {
     "data": {
      "application/vnd.jupyter.widget-view+json": {
       "model_id": "ad225fd54aa6492abe2c9b7e0a0e3878",
       "version_major": 2,
       "version_minor": 0
      },
      "text/plain": [
       "Map:   0%|          | 0/8 [00:00<?, ? examples/s]"
      ]
     },
     "metadata": {},
     "output_type": "display_data"
    },
    {
     "data": {
      "application/vnd.jupyter.widget-view+json": {
       "model_id": "fc54d52f0ef349fba9eb6a476f072468",
       "version_major": 2,
       "version_minor": 0
      },
      "text/plain": [
       "Map:   0%|          | 0/30 [00:00<?, ? examples/s]"
      ]
     },
     "metadata": {},
     "output_type": "display_data"
    },
    {
     "data": {
      "application/vnd.jupyter.widget-view+json": {
       "model_id": "9a8d4266f1df43a58d15ff45b72b0a19",
       "version_major": 2,
       "version_minor": 0
      },
      "text/plain": [
       "Map:   0%|          | 0/8 [00:00<?, ? examples/s]"
      ]
     },
     "metadata": {},
     "output_type": "display_data"
    },
    {
     "data": {
      "application/vnd.jupyter.widget-view+json": {
       "model_id": "cbdedeb83b58416485293bdab056762e",
       "version_major": 2,
       "version_minor": 0
      },
      "text/plain": [
       "Map:   0%|          | 0/30 [00:00<?, ? examples/s]"
      ]
     },
     "metadata": {},
     "output_type": "display_data"
    },
    {
     "data": {
      "application/vnd.jupyter.widget-view+json": {
       "model_id": "128435c4814241fa8905ed5eee9e5cd0",
       "version_major": 2,
       "version_minor": 0
      },
      "text/plain": [
       "Map:   0%|          | 0/8 [00:00<?, ? examples/s]"
      ]
     },
     "metadata": {},
     "output_type": "display_data"
    },
    {
     "data": {
      "application/vnd.jupyter.widget-view+json": {
       "model_id": "c27b258f189d48678d532a94202dbfc9",
       "version_major": 2,
       "version_minor": 0
      },
      "text/plain": [
       "Map:   0%|          | 0/31 [00:00<?, ? examples/s]"
      ]
     },
     "metadata": {},
     "output_type": "display_data"
    },
    {
     "data": {
      "application/vnd.jupyter.widget-view+json": {
       "model_id": "9caeb7a8586f4b16a742678143addbc1",
       "version_major": 2,
       "version_minor": 0
      },
      "text/plain": [
       "Map:   0%|          | 0/7 [00:00<?, ? examples/s]"
      ]
     },
     "metadata": {},
     "output_type": "display_data"
    },
    {
     "data": {
      "application/vnd.jupyter.widget-view+json": {
       "model_id": "6b29303fc19a494e9e6e83717c71de58",
       "version_major": 2,
       "version_minor": 0
      },
      "text/plain": [
       "Map:   0%|          | 0/31 [00:00<?, ? examples/s]"
      ]
     },
     "metadata": {},
     "output_type": "display_data"
    },
    {
     "data": {
      "application/vnd.jupyter.widget-view+json": {
       "model_id": "42a290a1f75f4fffa7096a7f436175c5",
       "version_major": 2,
       "version_minor": 0
      },
      "text/plain": [
       "Map:   0%|          | 0/7 [00:00<?, ? examples/s]"
      ]
     },
     "metadata": {},
     "output_type": "display_data"
    },
    {
     "name": "stdout",
     "output_type": "stream",
     "text": [
      "StratifiedKFold(n_splits=5, random_state=None, shuffle=False)\n"
     ]
    },
    {
     "data": {
      "application/vnd.jupyter.widget-view+json": {
       "model_id": "afc3bbe9be1a434e8897452b663d2ea8",
       "version_major": 2,
       "version_minor": 0
      },
      "text/plain": [
       "Map:   0%|          | 0/30 [00:00<?, ? examples/s]"
      ]
     },
     "metadata": {},
     "output_type": "display_data"
    },
    {
     "data": {
      "application/vnd.jupyter.widget-view+json": {
       "model_id": "146aa8d78e974e439cd83049ca773219",
       "version_major": 2,
       "version_minor": 0
      },
      "text/plain": [
       "Map:   0%|          | 0/8 [00:00<?, ? examples/s]"
      ]
     },
     "metadata": {},
     "output_type": "display_data"
    },
    {
     "data": {
      "application/vnd.jupyter.widget-view+json": {
       "model_id": "baa13028e949442db50ffab63b8246b3",
       "version_major": 2,
       "version_minor": 0
      },
      "text/plain": [
       "Map:   0%|          | 0/30 [00:00<?, ? examples/s]"
      ]
     },
     "metadata": {},
     "output_type": "display_data"
    },
    {
     "data": {
      "application/vnd.jupyter.widget-view+json": {
       "model_id": "d7c8f43e329c4efab501c876d6d779a5",
       "version_major": 2,
       "version_minor": 0
      },
      "text/plain": [
       "Map:   0%|          | 0/8 [00:00<?, ? examples/s]"
      ]
     },
     "metadata": {},
     "output_type": "display_data"
    },
    {
     "data": {
      "application/vnd.jupyter.widget-view+json": {
       "model_id": "604698563a42489ab3a242388e98ce7a",
       "version_major": 2,
       "version_minor": 0
      },
      "text/plain": [
       "Map:   0%|          | 0/30 [00:00<?, ? examples/s]"
      ]
     },
     "metadata": {},
     "output_type": "display_data"
    },
    {
     "data": {
      "application/vnd.jupyter.widget-view+json": {
       "model_id": "78e0b30fd0994fc2bb01fccbf4f0de12",
       "version_major": 2,
       "version_minor": 0
      },
      "text/plain": [
       "Map:   0%|          | 0/8 [00:00<?, ? examples/s]"
      ]
     },
     "metadata": {},
     "output_type": "display_data"
    },
    {
     "data": {
      "application/vnd.jupyter.widget-view+json": {
       "model_id": "01c1ca827c104faf9d9a23b6c32a8f61",
       "version_major": 2,
       "version_minor": 0
      },
      "text/plain": [
       "Map:   0%|          | 0/31 [00:00<?, ? examples/s]"
      ]
     },
     "metadata": {},
     "output_type": "display_data"
    },
    {
     "data": {
      "application/vnd.jupyter.widget-view+json": {
       "model_id": "9390442c6c8140aebbdef91e7bae5c9b",
       "version_major": 2,
       "version_minor": 0
      },
      "text/plain": [
       "Map:   0%|          | 0/7 [00:00<?, ? examples/s]"
      ]
     },
     "metadata": {},
     "output_type": "display_data"
    },
    {
     "data": {
      "application/vnd.jupyter.widget-view+json": {
       "model_id": "fbf1bf0bb4b84288842ca55a7ae68933",
       "version_major": 2,
       "version_minor": 0
      },
      "text/plain": [
       "Map:   0%|          | 0/31 [00:00<?, ? examples/s]"
      ]
     },
     "metadata": {},
     "output_type": "display_data"
    },
    {
     "data": {
      "application/vnd.jupyter.widget-view+json": {
       "model_id": "6ddb0191388244728c1493bb65edbce0",
       "version_major": 2,
       "version_minor": 0
      },
      "text/plain": [
       "Map:   0%|          | 0/7 [00:00<?, ? examples/s]"
      ]
     },
     "metadata": {},
     "output_type": "display_data"
    },
    {
     "name": "stdout",
     "output_type": "stream",
     "text": [
      "StratifiedKFold(n_splits=5, random_state=None, shuffle=False)\n"
     ]
    },
    {
     "data": {
      "application/vnd.jupyter.widget-view+json": {
       "model_id": "09ad69f0df724ce0a99de6963fd986e9",
       "version_major": 2,
       "version_minor": 0
      },
      "text/plain": [
       "Map:   0%|          | 0/30 [00:00<?, ? examples/s]"
      ]
     },
     "metadata": {},
     "output_type": "display_data"
    },
    {
     "data": {
      "application/vnd.jupyter.widget-view+json": {
       "model_id": "54b5787ce6724a2abf347fa9ead65588",
       "version_major": 2,
       "version_minor": 0
      },
      "text/plain": [
       "Map:   0%|          | 0/8 [00:00<?, ? examples/s]"
      ]
     },
     "metadata": {},
     "output_type": "display_data"
    },
    {
     "data": {
      "application/vnd.jupyter.widget-view+json": {
       "model_id": "948755d551bd4c47a52857a277f98988",
       "version_major": 2,
       "version_minor": 0
      },
      "text/plain": [
       "Map:   0%|          | 0/30 [00:00<?, ? examples/s]"
      ]
     },
     "metadata": {},
     "output_type": "display_data"
    },
    {
     "data": {
      "application/vnd.jupyter.widget-view+json": {
       "model_id": "0b20123fd0a54444a7be3d71bf2b0e6e",
       "version_major": 2,
       "version_minor": 0
      },
      "text/plain": [
       "Map:   0%|          | 0/8 [00:00<?, ? examples/s]"
      ]
     },
     "metadata": {},
     "output_type": "display_data"
    },
    {
     "data": {
      "application/vnd.jupyter.widget-view+json": {
       "model_id": "99aa478d5bb64607b5ae0aa4552fd7c3",
       "version_major": 2,
       "version_minor": 0
      },
      "text/plain": [
       "Map:   0%|          | 0/30 [00:00<?, ? examples/s]"
      ]
     },
     "metadata": {},
     "output_type": "display_data"
    },
    {
     "data": {
      "application/vnd.jupyter.widget-view+json": {
       "model_id": "e00e091395e846178e1b5055aac28da2",
       "version_major": 2,
       "version_minor": 0
      },
      "text/plain": [
       "Map:   0%|          | 0/8 [00:00<?, ? examples/s]"
      ]
     },
     "metadata": {},
     "output_type": "display_data"
    },
    {
     "data": {
      "application/vnd.jupyter.widget-view+json": {
       "model_id": "a08300d97a1544fc81c029014e8e838c",
       "version_major": 2,
       "version_minor": 0
      },
      "text/plain": [
       "Map:   0%|          | 0/31 [00:00<?, ? examples/s]"
      ]
     },
     "metadata": {},
     "output_type": "display_data"
    },
    {
     "data": {
      "application/vnd.jupyter.widget-view+json": {
       "model_id": "90a165d218a144d9bb1a148fe3283df4",
       "version_major": 2,
       "version_minor": 0
      },
      "text/plain": [
       "Map:   0%|          | 0/7 [00:00<?, ? examples/s]"
      ]
     },
     "metadata": {},
     "output_type": "display_data"
    },
    {
     "data": {
      "application/vnd.jupyter.widget-view+json": {
       "model_id": "ebca4a8ca77e400ba44059caff857cd4",
       "version_major": 2,
       "version_minor": 0
      },
      "text/plain": [
       "Map:   0%|          | 0/31 [00:00<?, ? examples/s]"
      ]
     },
     "metadata": {},
     "output_type": "display_data"
    },
    {
     "data": {
      "application/vnd.jupyter.widget-view+json": {
       "model_id": "9813a456fe624890b95751bc370711c1",
       "version_major": 2,
       "version_minor": 0
      },
      "text/plain": [
       "Map:   0%|          | 0/7 [00:00<?, ? examples/s]"
      ]
     },
     "metadata": {},
     "output_type": "display_data"
    },
    {
     "name": "stdout",
     "output_type": "stream",
     "text": [
      "StratifiedKFold(n_splits=5, random_state=None, shuffle=False)\n"
     ]
    },
    {
     "data": {
      "application/vnd.jupyter.widget-view+json": {
       "model_id": "fb5a3ed62ab84ebdbe5f59db6488db0d",
       "version_major": 2,
       "version_minor": 0
      },
      "text/plain": [
       "Map:   0%|          | 0/30 [00:00<?, ? examples/s]"
      ]
     },
     "metadata": {},
     "output_type": "display_data"
    },
    {
     "data": {
      "application/vnd.jupyter.widget-view+json": {
       "model_id": "967a543578a14c72af82a4e33f6b9855",
       "version_major": 2,
       "version_minor": 0
      },
      "text/plain": [
       "Map:   0%|          | 0/8 [00:00<?, ? examples/s]"
      ]
     },
     "metadata": {},
     "output_type": "display_data"
    },
    {
     "data": {
      "application/vnd.jupyter.widget-view+json": {
       "model_id": "d4b6810668554e928be6998636b5ee26",
       "version_major": 2,
       "version_minor": 0
      },
      "text/plain": [
       "Map:   0%|          | 0/30 [00:00<?, ? examples/s]"
      ]
     },
     "metadata": {},
     "output_type": "display_data"
    },
    {
     "data": {
      "application/vnd.jupyter.widget-view+json": {
       "model_id": "ebb45b036b484a02b3fe38a1e479e177",
       "version_major": 2,
       "version_minor": 0
      },
      "text/plain": [
       "Map:   0%|          | 0/8 [00:00<?, ? examples/s]"
      ]
     },
     "metadata": {},
     "output_type": "display_data"
    },
    {
     "data": {
      "application/vnd.jupyter.widget-view+json": {
       "model_id": "832f8d215f8942678beedbf2f54670fb",
       "version_major": 2,
       "version_minor": 0
      },
      "text/plain": [
       "Map:   0%|          | 0/30 [00:00<?, ? examples/s]"
      ]
     },
     "metadata": {},
     "output_type": "display_data"
    },
    {
     "data": {
      "application/vnd.jupyter.widget-view+json": {
       "model_id": "5ec7834b584044c7b828eb6c4e8c1525",
       "version_major": 2,
       "version_minor": 0
      },
      "text/plain": [
       "Map:   0%|          | 0/8 [00:00<?, ? examples/s]"
      ]
     },
     "metadata": {},
     "output_type": "display_data"
    },
    {
     "data": {
      "application/vnd.jupyter.widget-view+json": {
       "model_id": "9050097764ca41db8808a7c420c0e14b",
       "version_major": 2,
       "version_minor": 0
      },
      "text/plain": [
       "Map:   0%|          | 0/31 [00:00<?, ? examples/s]"
      ]
     },
     "metadata": {},
     "output_type": "display_data"
    },
    {
     "data": {
      "application/vnd.jupyter.widget-view+json": {
       "model_id": "498c55f323144deca3d84eb5f9f87d5e",
       "version_major": 2,
       "version_minor": 0
      },
      "text/plain": [
       "Map:   0%|          | 0/7 [00:00<?, ? examples/s]"
      ]
     },
     "metadata": {},
     "output_type": "display_data"
    },
    {
     "data": {
      "application/vnd.jupyter.widget-view+json": {
       "model_id": "1dc79c9514c746afaac68a42941e35af",
       "version_major": 2,
       "version_minor": 0
      },
      "text/plain": [
       "Map:   0%|          | 0/31 [00:00<?, ? examples/s]"
      ]
     },
     "metadata": {},
     "output_type": "display_data"
    },
    {
     "data": {
      "application/vnd.jupyter.widget-view+json": {
       "model_id": "30aca7d51bda4af793c4bf2afb21ab46",
       "version_major": 2,
       "version_minor": 0
      },
      "text/plain": [
       "Map:   0%|          | 0/7 [00:00<?, ? examples/s]"
      ]
     },
     "metadata": {},
     "output_type": "display_data"
    },
    {
     "name": "stdout",
     "output_type": "stream",
     "text": [
      "StratifiedKFold(n_splits=5, random_state=None, shuffle=False)\n"
     ]
    },
    {
     "data": {
      "application/vnd.jupyter.widget-view+json": {
       "model_id": "d6b38be6b59645a39f5501f9b958f1de",
       "version_major": 2,
       "version_minor": 0
      },
      "text/plain": [
       "Map:   0%|          | 0/30 [00:00<?, ? examples/s]"
      ]
     },
     "metadata": {},
     "output_type": "display_data"
    },
    {
     "data": {
      "application/vnd.jupyter.widget-view+json": {
       "model_id": "e9a8bdb170884ef5b7d9c5fabc3badad",
       "version_major": 2,
       "version_minor": 0
      },
      "text/plain": [
       "Map:   0%|          | 0/8 [00:00<?, ? examples/s]"
      ]
     },
     "metadata": {},
     "output_type": "display_data"
    },
    {
     "data": {
      "application/vnd.jupyter.widget-view+json": {
       "model_id": "24bfac2c359a475da52e7c87654b747b",
       "version_major": 2,
       "version_minor": 0
      },
      "text/plain": [
       "Map:   0%|          | 0/30 [00:00<?, ? examples/s]"
      ]
     },
     "metadata": {},
     "output_type": "display_data"
    },
    {
     "data": {
      "application/vnd.jupyter.widget-view+json": {
       "model_id": "58f08d1ecf7d4713a7047966ad47b20e",
       "version_major": 2,
       "version_minor": 0
      },
      "text/plain": [
       "Map:   0%|          | 0/8 [00:00<?, ? examples/s]"
      ]
     },
     "metadata": {},
     "output_type": "display_data"
    },
    {
     "data": {
      "application/vnd.jupyter.widget-view+json": {
       "model_id": "155f50c2e55e4e2b8de56040bb29a42d",
       "version_major": 2,
       "version_minor": 0
      },
      "text/plain": [
       "Map:   0%|          | 0/30 [00:00<?, ? examples/s]"
      ]
     },
     "metadata": {},
     "output_type": "display_data"
    },
    {
     "data": {
      "application/vnd.jupyter.widget-view+json": {
       "model_id": "ae4de41e76264c5eba139c44c343fffa",
       "version_major": 2,
       "version_minor": 0
      },
      "text/plain": [
       "Map:   0%|          | 0/8 [00:00<?, ? examples/s]"
      ]
     },
     "metadata": {},
     "output_type": "display_data"
    },
    {
     "data": {
      "application/vnd.jupyter.widget-view+json": {
       "model_id": "76bf01d50cbd47f3bb6f615abc659844",
       "version_major": 2,
       "version_minor": 0
      },
      "text/plain": [
       "Map:   0%|          | 0/31 [00:00<?, ? examples/s]"
      ]
     },
     "metadata": {},
     "output_type": "display_data"
    },
    {
     "data": {
      "application/vnd.jupyter.widget-view+json": {
       "model_id": "e6c8e48bd35341b2951c67ec5b7677cc",
       "version_major": 2,
       "version_minor": 0
      },
      "text/plain": [
       "Map:   0%|          | 0/7 [00:00<?, ? examples/s]"
      ]
     },
     "metadata": {},
     "output_type": "display_data"
    },
    {
     "data": {
      "application/vnd.jupyter.widget-view+json": {
       "model_id": "415da6cbb6cc498181a5afd84a372df2",
       "version_major": 2,
       "version_minor": 0
      },
      "text/plain": [
       "Map:   0%|          | 0/31 [00:00<?, ? examples/s]"
      ]
     },
     "metadata": {},
     "output_type": "display_data"
    },
    {
     "data": {
      "application/vnd.jupyter.widget-view+json": {
       "model_id": "03b43c150df14e14b99acb970d8f18f5",
       "version_major": 2,
       "version_minor": 0
      },
      "text/plain": [
       "Map:   0%|          | 0/7 [00:00<?, ? examples/s]"
      ]
     },
     "metadata": {},
     "output_type": "display_data"
    },
    {
     "name": "stdout",
     "output_type": "stream",
     "text": [
      "StratifiedKFold(n_splits=5, random_state=None, shuffle=False)\n"
     ]
    },
    {
     "data": {
      "application/vnd.jupyter.widget-view+json": {
       "model_id": "9ac93b144b4d45c09b6e50f2da58b0d3",
       "version_major": 2,
       "version_minor": 0
      },
      "text/plain": [
       "Map:   0%|          | 0/30 [00:00<?, ? examples/s]"
      ]
     },
     "metadata": {},
     "output_type": "display_data"
    },
    {
     "data": {
      "application/vnd.jupyter.widget-view+json": {
       "model_id": "a7c3465340fc412f9143fe588b817c3c",
       "version_major": 2,
       "version_minor": 0
      },
      "text/plain": [
       "Map:   0%|          | 0/8 [00:00<?, ? examples/s]"
      ]
     },
     "metadata": {},
     "output_type": "display_data"
    },
    {
     "data": {
      "application/vnd.jupyter.widget-view+json": {
       "model_id": "79b6050870604cd78b291d3db549629e",
       "version_major": 2,
       "version_minor": 0
      },
      "text/plain": [
       "Map:   0%|          | 0/30 [00:00<?, ? examples/s]"
      ]
     },
     "metadata": {},
     "output_type": "display_data"
    },
    {
     "data": {
      "application/vnd.jupyter.widget-view+json": {
       "model_id": "c07689e8f13049ec916f0f0571683049",
       "version_major": 2,
       "version_minor": 0
      },
      "text/plain": [
       "Map:   0%|          | 0/8 [00:00<?, ? examples/s]"
      ]
     },
     "metadata": {},
     "output_type": "display_data"
    },
    {
     "data": {
      "application/vnd.jupyter.widget-view+json": {
       "model_id": "f6c41bd53efc4a3cb22a96e009e90677",
       "version_major": 2,
       "version_minor": 0
      },
      "text/plain": [
       "Map:   0%|          | 0/30 [00:00<?, ? examples/s]"
      ]
     },
     "metadata": {},
     "output_type": "display_data"
    },
    {
     "data": {
      "application/vnd.jupyter.widget-view+json": {
       "model_id": "d156c5d65e2d4da79fe45e69d266fcde",
       "version_major": 2,
       "version_minor": 0
      },
      "text/plain": [
       "Map:   0%|          | 0/8 [00:00<?, ? examples/s]"
      ]
     },
     "metadata": {},
     "output_type": "display_data"
    },
    {
     "data": {
      "application/vnd.jupyter.widget-view+json": {
       "model_id": "694328bbda0b4e0a9728b782020164b4",
       "version_major": 2,
       "version_minor": 0
      },
      "text/plain": [
       "Map:   0%|          | 0/31 [00:00<?, ? examples/s]"
      ]
     },
     "metadata": {},
     "output_type": "display_data"
    },
    {
     "data": {
      "application/vnd.jupyter.widget-view+json": {
       "model_id": "e0753aced35646398846e6e82d8f6dbc",
       "version_major": 2,
       "version_minor": 0
      },
      "text/plain": [
       "Map:   0%|          | 0/7 [00:00<?, ? examples/s]"
      ]
     },
     "metadata": {},
     "output_type": "display_data"
    },
    {
     "data": {
      "application/vnd.jupyter.widget-view+json": {
       "model_id": "ae3fd8c8cffc4157b0fabf752e81b228",
       "version_major": 2,
       "version_minor": 0
      },
      "text/plain": [
       "Map:   0%|          | 0/31 [00:00<?, ? examples/s]"
      ]
     },
     "metadata": {},
     "output_type": "display_data"
    },
    {
     "data": {
      "application/vnd.jupyter.widget-view+json": {
       "model_id": "d65deae926f64349a141a75f495d6516",
       "version_major": 2,
       "version_minor": 0
      },
      "text/plain": [
       "Map:   0%|          | 0/7 [00:00<?, ? examples/s]"
      ]
     },
     "metadata": {},
     "output_type": "display_data"
    },
    {
     "name": "stdout",
     "output_type": "stream",
     "text": [
      "StratifiedKFold(n_splits=5, random_state=None, shuffle=False)\n"
     ]
    },
    {
     "data": {
      "application/vnd.jupyter.widget-view+json": {
       "model_id": "34e758be4d614f44ad7aff52f45d75ee",
       "version_major": 2,
       "version_minor": 0
      },
      "text/plain": [
       "Map:   0%|          | 0/30 [00:00<?, ? examples/s]"
      ]
     },
     "metadata": {},
     "output_type": "display_data"
    },
    {
     "data": {
      "application/vnd.jupyter.widget-view+json": {
       "model_id": "2768a7b9b2d04d1c814f26a6f5eea5f9",
       "version_major": 2,
       "version_minor": 0
      },
      "text/plain": [
       "Map:   0%|          | 0/8 [00:00<?, ? examples/s]"
      ]
     },
     "metadata": {},
     "output_type": "display_data"
    },
    {
     "data": {
      "application/vnd.jupyter.widget-view+json": {
       "model_id": "9d26776d7fc345bbb5150b219e6f3664",
       "version_major": 2,
       "version_minor": 0
      },
      "text/plain": [
       "Map:   0%|          | 0/30 [00:00<?, ? examples/s]"
      ]
     },
     "metadata": {},
     "output_type": "display_data"
    },
    {
     "data": {
      "application/vnd.jupyter.widget-view+json": {
       "model_id": "539e200f682f4881aa2eb394b086006b",
       "version_major": 2,
       "version_minor": 0
      },
      "text/plain": [
       "Map:   0%|          | 0/8 [00:00<?, ? examples/s]"
      ]
     },
     "metadata": {},
     "output_type": "display_data"
    },
    {
     "data": {
      "application/vnd.jupyter.widget-view+json": {
       "model_id": "9cdcb6c9b60241f6b5e2c32f987365c7",
       "version_major": 2,
       "version_minor": 0
      },
      "text/plain": [
       "Map:   0%|          | 0/30 [00:00<?, ? examples/s]"
      ]
     },
     "metadata": {},
     "output_type": "display_data"
    },
    {
     "data": {
      "application/vnd.jupyter.widget-view+json": {
       "model_id": "0ceedc42ae5945eba7da106036dabb14",
       "version_major": 2,
       "version_minor": 0
      },
      "text/plain": [
       "Map:   0%|          | 0/8 [00:00<?, ? examples/s]"
      ]
     },
     "metadata": {},
     "output_type": "display_data"
    },
    {
     "data": {
      "application/vnd.jupyter.widget-view+json": {
       "model_id": "b0b174c54eff46548f6b854a4455ad0d",
       "version_major": 2,
       "version_minor": 0
      },
      "text/plain": [
       "Map:   0%|          | 0/31 [00:00<?, ? examples/s]"
      ]
     },
     "metadata": {},
     "output_type": "display_data"
    },
    {
     "data": {
      "application/vnd.jupyter.widget-view+json": {
       "model_id": "02a3eb2b3ece416f87be77eb71ffc2fc",
       "version_major": 2,
       "version_minor": 0
      },
      "text/plain": [
       "Map:   0%|          | 0/7 [00:00<?, ? examples/s]"
      ]
     },
     "metadata": {},
     "output_type": "display_data"
    },
    {
     "data": {
      "application/vnd.jupyter.widget-view+json": {
       "model_id": "4407676159834246885c1636589249d4",
       "version_major": 2,
       "version_minor": 0
      },
      "text/plain": [
       "Map:   0%|          | 0/31 [00:00<?, ? examples/s]"
      ]
     },
     "metadata": {},
     "output_type": "display_data"
    },
    {
     "data": {
      "application/vnd.jupyter.widget-view+json": {
       "model_id": "5204626d8f5243a8ac4025d17605e556",
       "version_major": 2,
       "version_minor": 0
      },
      "text/plain": [
       "Map:   0%|          | 0/7 [00:00<?, ? examples/s]"
      ]
     },
     "metadata": {},
     "output_type": "display_data"
    },
    {
     "name": "stdout",
     "output_type": "stream",
     "text": [
      "StratifiedKFold(n_splits=5, random_state=None, shuffle=False)\n"
     ]
    },
    {
     "data": {
      "application/vnd.jupyter.widget-view+json": {
       "model_id": "cae214cfbcf64a37a1e293233c1b16cc",
       "version_major": 2,
       "version_minor": 0
      },
      "text/plain": [
       "Map:   0%|          | 0/30 [00:00<?, ? examples/s]"
      ]
     },
     "metadata": {},
     "output_type": "display_data"
    },
    {
     "data": {
      "application/vnd.jupyter.widget-view+json": {
       "model_id": "77d84bb5e2294b1e8a11368700e4525b",
       "version_major": 2,
       "version_minor": 0
      },
      "text/plain": [
       "Map:   0%|          | 0/8 [00:00<?, ? examples/s]"
      ]
     },
     "metadata": {},
     "output_type": "display_data"
    },
    {
     "data": {
      "application/vnd.jupyter.widget-view+json": {
       "model_id": "431257cda1b64a0e9d997f9beee6afa9",
       "version_major": 2,
       "version_minor": 0
      },
      "text/plain": [
       "Map:   0%|          | 0/30 [00:00<?, ? examples/s]"
      ]
     },
     "metadata": {},
     "output_type": "display_data"
    },
    {
     "data": {
      "application/vnd.jupyter.widget-view+json": {
       "model_id": "9d46527bf6154be8ba52a3812abd53dc",
       "version_major": 2,
       "version_minor": 0
      },
      "text/plain": [
       "Map:   0%|          | 0/8 [00:00<?, ? examples/s]"
      ]
     },
     "metadata": {},
     "output_type": "display_data"
    },
    {
     "data": {
      "application/vnd.jupyter.widget-view+json": {
       "model_id": "0c65e8a52cc74f28b9cc04d2c222517b",
       "version_major": 2,
       "version_minor": 0
      },
      "text/plain": [
       "Map:   0%|          | 0/30 [00:00<?, ? examples/s]"
      ]
     },
     "metadata": {},
     "output_type": "display_data"
    },
    {
     "data": {
      "application/vnd.jupyter.widget-view+json": {
       "model_id": "3e44f09a76d546a2a69bdd9ff8ae718f",
       "version_major": 2,
       "version_minor": 0
      },
      "text/plain": [
       "Map:   0%|          | 0/8 [00:00<?, ? examples/s]"
      ]
     },
     "metadata": {},
     "output_type": "display_data"
    },
    {
     "data": {
      "application/vnd.jupyter.widget-view+json": {
       "model_id": "043f8680ad694f93b75c2c77810ad2b3",
       "version_major": 2,
       "version_minor": 0
      },
      "text/plain": [
       "Map:   0%|          | 0/31 [00:00<?, ? examples/s]"
      ]
     },
     "metadata": {},
     "output_type": "display_data"
    },
    {
     "data": {
      "application/vnd.jupyter.widget-view+json": {
       "model_id": "a903b7fac85a4fd3be989115c1165ccc",
       "version_major": 2,
       "version_minor": 0
      },
      "text/plain": [
       "Map:   0%|          | 0/7 [00:00<?, ? examples/s]"
      ]
     },
     "metadata": {},
     "output_type": "display_data"
    },
    {
     "data": {
      "application/vnd.jupyter.widget-view+json": {
       "model_id": "cb6b397fb0564e04ad4796d2ac1183a2",
       "version_major": 2,
       "version_minor": 0
      },
      "text/plain": [
       "Map:   0%|          | 0/31 [00:00<?, ? examples/s]"
      ]
     },
     "metadata": {},
     "output_type": "display_data"
    },
    {
     "data": {
      "application/vnd.jupyter.widget-view+json": {
       "model_id": "2b5dba6d04a54bd4adaae01fb8edc5d5",
       "version_major": 2,
       "version_minor": 0
      },
      "text/plain": [
       "Map:   0%|          | 0/7 [00:00<?, ? examples/s]"
      ]
     },
     "metadata": {},
     "output_type": "display_data"
    },
    {
     "name": "stdout",
     "output_type": "stream",
     "text": [
      "StratifiedKFold(n_splits=5, random_state=None, shuffle=False)\n"
     ]
    },
    {
     "data": {
      "application/vnd.jupyter.widget-view+json": {
       "model_id": "7d21fc8cf2654251936b3c97a86f9ef0",
       "version_major": 2,
       "version_minor": 0
      },
      "text/plain": [
       "Map:   0%|          | 0/30 [00:00<?, ? examples/s]"
      ]
     },
     "metadata": {},
     "output_type": "display_data"
    },
    {
     "data": {
      "application/vnd.jupyter.widget-view+json": {
       "model_id": "dc56e5c48d9f4dad83986397a01df5b5",
       "version_major": 2,
       "version_minor": 0
      },
      "text/plain": [
       "Map:   0%|          | 0/8 [00:00<?, ? examples/s]"
      ]
     },
     "metadata": {},
     "output_type": "display_data"
    },
    {
     "data": {
      "application/vnd.jupyter.widget-view+json": {
       "model_id": "1c6905410e2742a9a4c56f5196ef9185",
       "version_major": 2,
       "version_minor": 0
      },
      "text/plain": [
       "Map:   0%|          | 0/30 [00:00<?, ? examples/s]"
      ]
     },
     "metadata": {},
     "output_type": "display_data"
    },
    {
     "data": {
      "application/vnd.jupyter.widget-view+json": {
       "model_id": "781b4162453a4a42b8daaab5df932b02",
       "version_major": 2,
       "version_minor": 0
      },
      "text/plain": [
       "Map:   0%|          | 0/8 [00:00<?, ? examples/s]"
      ]
     },
     "metadata": {},
     "output_type": "display_data"
    },
    {
     "data": {
      "application/vnd.jupyter.widget-view+json": {
       "model_id": "d9b58942775a4a0b8d00588fcda3a849",
       "version_major": 2,
       "version_minor": 0
      },
      "text/plain": [
       "Map:   0%|          | 0/30 [00:00<?, ? examples/s]"
      ]
     },
     "metadata": {},
     "output_type": "display_data"
    },
    {
     "data": {
      "application/vnd.jupyter.widget-view+json": {
       "model_id": "1658ad62ddc54f88a53f5b90ff3b1d9f",
       "version_major": 2,
       "version_minor": 0
      },
      "text/plain": [
       "Map:   0%|          | 0/8 [00:00<?, ? examples/s]"
      ]
     },
     "metadata": {},
     "output_type": "display_data"
    },
    {
     "data": {
      "application/vnd.jupyter.widget-view+json": {
       "model_id": "968c9550101047d3aa07c9bdb77c568e",
       "version_major": 2,
       "version_minor": 0
      },
      "text/plain": [
       "Map:   0%|          | 0/31 [00:00<?, ? examples/s]"
      ]
     },
     "metadata": {},
     "output_type": "display_data"
    },
    {
     "data": {
      "application/vnd.jupyter.widget-view+json": {
       "model_id": "f66da49a46bd42f7915f13eb60877a89",
       "version_major": 2,
       "version_minor": 0
      },
      "text/plain": [
       "Map:   0%|          | 0/7 [00:00<?, ? examples/s]"
      ]
     },
     "metadata": {},
     "output_type": "display_data"
    },
    {
     "data": {
      "application/vnd.jupyter.widget-view+json": {
       "model_id": "f3f3d60be5714b109d455575cd4317c2",
       "version_major": 2,
       "version_minor": 0
      },
      "text/plain": [
       "Map:   0%|          | 0/31 [00:00<?, ? examples/s]"
      ]
     },
     "metadata": {},
     "output_type": "display_data"
    },
    {
     "data": {
      "application/vnd.jupyter.widget-view+json": {
       "model_id": "3f35c44bba3441558c28c878011c9c86",
       "version_major": 2,
       "version_minor": 0
      },
      "text/plain": [
       "Map:   0%|          | 0/7 [00:00<?, ? examples/s]"
      ]
     },
     "metadata": {},
     "output_type": "display_data"
    },
    {
     "name": "stdout",
     "output_type": "stream",
     "text": [
      "StratifiedKFold(n_splits=5, random_state=None, shuffle=False)\n"
     ]
    },
    {
     "data": {
      "application/vnd.jupyter.widget-view+json": {
       "model_id": "498096bc9bef4ac1bd322c8ca3e70c24",
       "version_major": 2,
       "version_minor": 0
      },
      "text/plain": [
       "Map:   0%|          | 0/30 [00:00<?, ? examples/s]"
      ]
     },
     "metadata": {},
     "output_type": "display_data"
    },
    {
     "data": {
      "application/vnd.jupyter.widget-view+json": {
       "model_id": "de5b357d6adb4dfa83ac74fba862393d",
       "version_major": 2,
       "version_minor": 0
      },
      "text/plain": [
       "Map:   0%|          | 0/8 [00:00<?, ? examples/s]"
      ]
     },
     "metadata": {},
     "output_type": "display_data"
    },
    {
     "data": {
      "application/vnd.jupyter.widget-view+json": {
       "model_id": "03134698c36d4c0d80a6150eb3de4cf1",
       "version_major": 2,
       "version_minor": 0
      },
      "text/plain": [
       "Map:   0%|          | 0/30 [00:00<?, ? examples/s]"
      ]
     },
     "metadata": {},
     "output_type": "display_data"
    },
    {
     "data": {
      "application/vnd.jupyter.widget-view+json": {
       "model_id": "e65b452ecc484a1296d497268c6a8107",
       "version_major": 2,
       "version_minor": 0
      },
      "text/plain": [
       "Map:   0%|          | 0/8 [00:00<?, ? examples/s]"
      ]
     },
     "metadata": {},
     "output_type": "display_data"
    },
    {
     "data": {
      "application/vnd.jupyter.widget-view+json": {
       "model_id": "38f513bb96014d41aad77ab416981e3e",
       "version_major": 2,
       "version_minor": 0
      },
      "text/plain": [
       "Map:   0%|          | 0/30 [00:00<?, ? examples/s]"
      ]
     },
     "metadata": {},
     "output_type": "display_data"
    },
    {
     "data": {
      "application/vnd.jupyter.widget-view+json": {
       "model_id": "23d7264a5701438082b174de0b95bb75",
       "version_major": 2,
       "version_minor": 0
      },
      "text/plain": [
       "Map:   0%|          | 0/8 [00:00<?, ? examples/s]"
      ]
     },
     "metadata": {},
     "output_type": "display_data"
    },
    {
     "data": {
      "application/vnd.jupyter.widget-view+json": {
       "model_id": "e743c61467b546cbb33274baf3338480",
       "version_major": 2,
       "version_minor": 0
      },
      "text/plain": [
       "Map:   0%|          | 0/31 [00:00<?, ? examples/s]"
      ]
     },
     "metadata": {},
     "output_type": "display_data"
    },
    {
     "data": {
      "application/vnd.jupyter.widget-view+json": {
       "model_id": "18382bf46e6f4606a68317e6f856bd22",
       "version_major": 2,
       "version_minor": 0
      },
      "text/plain": [
       "Map:   0%|          | 0/7 [00:00<?, ? examples/s]"
      ]
     },
     "metadata": {},
     "output_type": "display_data"
    },
    {
     "data": {
      "application/vnd.jupyter.widget-view+json": {
       "model_id": "d547479f7ed34107a6e201266ddee91b",
       "version_major": 2,
       "version_minor": 0
      },
      "text/plain": [
       "Map:   0%|          | 0/31 [00:00<?, ? examples/s]"
      ]
     },
     "metadata": {},
     "output_type": "display_data"
    },
    {
     "data": {
      "application/vnd.jupyter.widget-view+json": {
       "model_id": "7a25cd11b5c646ab86bc81277a32edb6",
       "version_major": 2,
       "version_minor": 0
      },
      "text/plain": [
       "Map:   0%|          | 0/7 [00:00<?, ? examples/s]"
      ]
     },
     "metadata": {},
     "output_type": "display_data"
    },
    {
     "name": "stdout",
     "output_type": "stream",
     "text": [
      "StratifiedKFold(n_splits=5, random_state=None, shuffle=False)\n"
     ]
    },
    {
     "data": {
      "application/vnd.jupyter.widget-view+json": {
       "model_id": "d31a21782f3d4640b3815a772276b835",
       "version_major": 2,
       "version_minor": 0
      },
      "text/plain": [
       "Map:   0%|          | 0/30 [00:00<?, ? examples/s]"
      ]
     },
     "metadata": {},
     "output_type": "display_data"
    },
    {
     "data": {
      "application/vnd.jupyter.widget-view+json": {
       "model_id": "d8da94e1ba3c43b8b517c923a3684e21",
       "version_major": 2,
       "version_minor": 0
      },
      "text/plain": [
       "Map:   0%|          | 0/8 [00:00<?, ? examples/s]"
      ]
     },
     "metadata": {},
     "output_type": "display_data"
    },
    {
     "data": {
      "application/vnd.jupyter.widget-view+json": {
       "model_id": "04f28b96842b48a3bb28513c11916ef7",
       "version_major": 2,
       "version_minor": 0
      },
      "text/plain": [
       "Map:   0%|          | 0/30 [00:00<?, ? examples/s]"
      ]
     },
     "metadata": {},
     "output_type": "display_data"
    },
    {
     "data": {
      "application/vnd.jupyter.widget-view+json": {
       "model_id": "d90efaabcdef413592fb06395ea5f786",
       "version_major": 2,
       "version_minor": 0
      },
      "text/plain": [
       "Map:   0%|          | 0/8 [00:00<?, ? examples/s]"
      ]
     },
     "metadata": {},
     "output_type": "display_data"
    },
    {
     "data": {
      "application/vnd.jupyter.widget-view+json": {
       "model_id": "6c3855b474e3490b900c6ea288e99f83",
       "version_major": 2,
       "version_minor": 0
      },
      "text/plain": [
       "Map:   0%|          | 0/30 [00:00<?, ? examples/s]"
      ]
     },
     "metadata": {},
     "output_type": "display_data"
    },
    {
     "data": {
      "application/vnd.jupyter.widget-view+json": {
       "model_id": "928794e489384805bc8244901cc64b11",
       "version_major": 2,
       "version_minor": 0
      },
      "text/plain": [
       "Map:   0%|          | 0/8 [00:00<?, ? examples/s]"
      ]
     },
     "metadata": {},
     "output_type": "display_data"
    },
    {
     "data": {
      "application/vnd.jupyter.widget-view+json": {
       "model_id": "a8a5ed24822c4b94bc8e372712e056c3",
       "version_major": 2,
       "version_minor": 0
      },
      "text/plain": [
       "Map:   0%|          | 0/31 [00:00<?, ? examples/s]"
      ]
     },
     "metadata": {},
     "output_type": "display_data"
    },
    {
     "data": {
      "application/vnd.jupyter.widget-view+json": {
       "model_id": "eb897aab2bda476eaf36318e365e4d6b",
       "version_major": 2,
       "version_minor": 0
      },
      "text/plain": [
       "Map:   0%|          | 0/7 [00:00<?, ? examples/s]"
      ]
     },
     "metadata": {},
     "output_type": "display_data"
    },
    {
     "data": {
      "application/vnd.jupyter.widget-view+json": {
       "model_id": "e0126533c8154c749416bf2d651e6bf8",
       "version_major": 2,
       "version_minor": 0
      },
      "text/plain": [
       "Map:   0%|          | 0/31 [00:00<?, ? examples/s]"
      ]
     },
     "metadata": {},
     "output_type": "display_data"
    },
    {
     "data": {
      "application/vnd.jupyter.widget-view+json": {
       "model_id": "c8e49315e8d645fe945242cf55973305",
       "version_major": 2,
       "version_minor": 0
      },
      "text/plain": [
       "Map:   0%|          | 0/7 [00:00<?, ? examples/s]"
      ]
     },
     "metadata": {},
     "output_type": "display_data"
    },
    {
     "name": "stdout",
     "output_type": "stream",
     "text": [
      "StratifiedKFold(n_splits=5, random_state=None, shuffle=False)\n"
     ]
    },
    {
     "data": {
      "application/vnd.jupyter.widget-view+json": {
       "model_id": "4c4309b705a74d15a47dab47c02e8504",
       "version_major": 2,
       "version_minor": 0
      },
      "text/plain": [
       "Map:   0%|          | 0/30 [00:00<?, ? examples/s]"
      ]
     },
     "metadata": {},
     "output_type": "display_data"
    },
    {
     "data": {
      "application/vnd.jupyter.widget-view+json": {
       "model_id": "e7070fa612ca48bb99719f475873411c",
       "version_major": 2,
       "version_minor": 0
      },
      "text/plain": [
       "Map:   0%|          | 0/8 [00:00<?, ? examples/s]"
      ]
     },
     "metadata": {},
     "output_type": "display_data"
    },
    {
     "data": {
      "application/vnd.jupyter.widget-view+json": {
       "model_id": "cbe0d9dc417f4cfe8a55c7cf43f5d8f4",
       "version_major": 2,
       "version_minor": 0
      },
      "text/plain": [
       "Map:   0%|          | 0/30 [00:00<?, ? examples/s]"
      ]
     },
     "metadata": {},
     "output_type": "display_data"
    },
    {
     "data": {
      "application/vnd.jupyter.widget-view+json": {
       "model_id": "8a442d85455d48fa9567651ea664b872",
       "version_major": 2,
       "version_minor": 0
      },
      "text/plain": [
       "Map:   0%|          | 0/8 [00:00<?, ? examples/s]"
      ]
     },
     "metadata": {},
     "output_type": "display_data"
    },
    {
     "data": {
      "application/vnd.jupyter.widget-view+json": {
       "model_id": "656ec8b088ad463384968b354f7f4e7a",
       "version_major": 2,
       "version_minor": 0
      },
      "text/plain": [
       "Map:   0%|          | 0/30 [00:00<?, ? examples/s]"
      ]
     },
     "metadata": {},
     "output_type": "display_data"
    },
    {
     "data": {
      "application/vnd.jupyter.widget-view+json": {
       "model_id": "55b037ae9dca413093ecf49034710b2f",
       "version_major": 2,
       "version_minor": 0
      },
      "text/plain": [
       "Map:   0%|          | 0/8 [00:00<?, ? examples/s]"
      ]
     },
     "metadata": {},
     "output_type": "display_data"
    },
    {
     "data": {
      "application/vnd.jupyter.widget-view+json": {
       "model_id": "5afa80858eba49f590b32400efaa046e",
       "version_major": 2,
       "version_minor": 0
      },
      "text/plain": [
       "Map:   0%|          | 0/31 [00:00<?, ? examples/s]"
      ]
     },
     "metadata": {},
     "output_type": "display_data"
    },
    {
     "data": {
      "application/vnd.jupyter.widget-view+json": {
       "model_id": "3a35604dad0b44d9b763716fccd32771",
       "version_major": 2,
       "version_minor": 0
      },
      "text/plain": [
       "Map:   0%|          | 0/7 [00:00<?, ? examples/s]"
      ]
     },
     "metadata": {},
     "output_type": "display_data"
    },
    {
     "data": {
      "application/vnd.jupyter.widget-view+json": {
       "model_id": "39bad4ccaf5946e8a8135605e413b0ab",
       "version_major": 2,
       "version_minor": 0
      },
      "text/plain": [
       "Map:   0%|          | 0/31 [00:00<?, ? examples/s]"
      ]
     },
     "metadata": {},
     "output_type": "display_data"
    },
    {
     "data": {
      "application/vnd.jupyter.widget-view+json": {
       "model_id": "fd32e8803f3e4eed81f505a15f80cbbf",
       "version_major": 2,
       "version_minor": 0
      },
      "text/plain": [
       "Map:   0%|          | 0/7 [00:00<?, ? examples/s]"
      ]
     },
     "metadata": {},
     "output_type": "display_data"
    },
    {
     "name": "stdout",
     "output_type": "stream",
     "text": [
      "StratifiedKFold(n_splits=5, random_state=None, shuffle=False)\n"
     ]
    },
    {
     "data": {
      "application/vnd.jupyter.widget-view+json": {
       "model_id": "2c039bf115924150b2efce2c9496f674",
       "version_major": 2,
       "version_minor": 0
      },
      "text/plain": [
       "Map:   0%|          | 0/30 [00:00<?, ? examples/s]"
      ]
     },
     "metadata": {},
     "output_type": "display_data"
    },
    {
     "data": {
      "application/vnd.jupyter.widget-view+json": {
       "model_id": "63d7a1ccf52b4febb252d94c4e4bdad3",
       "version_major": 2,
       "version_minor": 0
      },
      "text/plain": [
       "Map:   0%|          | 0/8 [00:00<?, ? examples/s]"
      ]
     },
     "metadata": {},
     "output_type": "display_data"
    },
    {
     "data": {
      "application/vnd.jupyter.widget-view+json": {
       "model_id": "1e4ae4d85f5942e3972be774170364c0",
       "version_major": 2,
       "version_minor": 0
      },
      "text/plain": [
       "Map:   0%|          | 0/30 [00:00<?, ? examples/s]"
      ]
     },
     "metadata": {},
     "output_type": "display_data"
    },
    {
     "data": {
      "application/vnd.jupyter.widget-view+json": {
       "model_id": "3c1c5bbf72624d02ba99a5678c44b218",
       "version_major": 2,
       "version_minor": 0
      },
      "text/plain": [
       "Map:   0%|          | 0/8 [00:00<?, ? examples/s]"
      ]
     },
     "metadata": {},
     "output_type": "display_data"
    },
    {
     "data": {
      "application/vnd.jupyter.widget-view+json": {
       "model_id": "4043b7344d0143fbb3bc5f16bf80789d",
       "version_major": 2,
       "version_minor": 0
      },
      "text/plain": [
       "Map:   0%|          | 0/30 [00:00<?, ? examples/s]"
      ]
     },
     "metadata": {},
     "output_type": "display_data"
    },
    {
     "data": {
      "application/vnd.jupyter.widget-view+json": {
       "model_id": "ba0ad1fb5eb74feb8439eff916690ddc",
       "version_major": 2,
       "version_minor": 0
      },
      "text/plain": [
       "Map:   0%|          | 0/8 [00:00<?, ? examples/s]"
      ]
     },
     "metadata": {},
     "output_type": "display_data"
    },
    {
     "data": {
      "application/vnd.jupyter.widget-view+json": {
       "model_id": "bb4d433a093a40448b8f8ba4d1c8a800",
       "version_major": 2,
       "version_minor": 0
      },
      "text/plain": [
       "Map:   0%|          | 0/31 [00:00<?, ? examples/s]"
      ]
     },
     "metadata": {},
     "output_type": "display_data"
    },
    {
     "data": {
      "application/vnd.jupyter.widget-view+json": {
       "model_id": "74473cdcf7a346c495825c8f5caaa509",
       "version_major": 2,
       "version_minor": 0
      },
      "text/plain": [
       "Map:   0%|          | 0/7 [00:00<?, ? examples/s]"
      ]
     },
     "metadata": {},
     "output_type": "display_data"
    },
    {
     "data": {
      "application/vnd.jupyter.widget-view+json": {
       "model_id": "e78cc84845294c50b5afe77a3f772f84",
       "version_major": 2,
       "version_minor": 0
      },
      "text/plain": [
       "Map:   0%|          | 0/31 [00:00<?, ? examples/s]"
      ]
     },
     "metadata": {},
     "output_type": "display_data"
    },
    {
     "data": {
      "application/vnd.jupyter.widget-view+json": {
       "model_id": "93bca9816fe443309e28daf806945c05",
       "version_major": 2,
       "version_minor": 0
      },
      "text/plain": [
       "Map:   0%|          | 0/7 [00:00<?, ? examples/s]"
      ]
     },
     "metadata": {},
     "output_type": "display_data"
    },
    {
     "name": "stdout",
     "output_type": "stream",
     "text": [
      "StratifiedKFold(n_splits=5, random_state=None, shuffle=False)\n"
     ]
    },
    {
     "data": {
      "application/vnd.jupyter.widget-view+json": {
       "model_id": "e95c4df651c54076931465c25c9b49e3",
       "version_major": 2,
       "version_minor": 0
      },
      "text/plain": [
       "Map:   0%|          | 0/30 [00:00<?, ? examples/s]"
      ]
     },
     "metadata": {},
     "output_type": "display_data"
    },
    {
     "data": {
      "application/vnd.jupyter.widget-view+json": {
       "model_id": "0251f655037b431187b60276a31b9d99",
       "version_major": 2,
       "version_minor": 0
      },
      "text/plain": [
       "Map:   0%|          | 0/8 [00:00<?, ? examples/s]"
      ]
     },
     "metadata": {},
     "output_type": "display_data"
    },
    {
     "data": {
      "application/vnd.jupyter.widget-view+json": {
       "model_id": "58f5e151a03844e887ca165875e92437",
       "version_major": 2,
       "version_minor": 0
      },
      "text/plain": [
       "Map:   0%|          | 0/30 [00:00<?, ? examples/s]"
      ]
     },
     "metadata": {},
     "output_type": "display_data"
    },
    {
     "data": {
      "application/vnd.jupyter.widget-view+json": {
       "model_id": "70429675b048490baa41feb1cbf76a2e",
       "version_major": 2,
       "version_minor": 0
      },
      "text/plain": [
       "Map:   0%|          | 0/8 [00:00<?, ? examples/s]"
      ]
     },
     "metadata": {},
     "output_type": "display_data"
    },
    {
     "data": {
      "application/vnd.jupyter.widget-view+json": {
       "model_id": "4531da100c0042df8870839fcaff6bed",
       "version_major": 2,
       "version_minor": 0
      },
      "text/plain": [
       "Map:   0%|          | 0/30 [00:00<?, ? examples/s]"
      ]
     },
     "metadata": {},
     "output_type": "display_data"
    },
    {
     "data": {
      "application/vnd.jupyter.widget-view+json": {
       "model_id": "14322c7e23764155865231da7d2b87eb",
       "version_major": 2,
       "version_minor": 0
      },
      "text/plain": [
       "Map:   0%|          | 0/8 [00:00<?, ? examples/s]"
      ]
     },
     "metadata": {},
     "output_type": "display_data"
    },
    {
     "data": {
      "application/vnd.jupyter.widget-view+json": {
       "model_id": "9afb355cb97144dba2a8c69ee9903917",
       "version_major": 2,
       "version_minor": 0
      },
      "text/plain": [
       "Map:   0%|          | 0/31 [00:00<?, ? examples/s]"
      ]
     },
     "metadata": {},
     "output_type": "display_data"
    },
    {
     "data": {
      "application/vnd.jupyter.widget-view+json": {
       "model_id": "3387c938bc45439c9677b15225cb107b",
       "version_major": 2,
       "version_minor": 0
      },
      "text/plain": [
       "Map:   0%|          | 0/7 [00:00<?, ? examples/s]"
      ]
     },
     "metadata": {},
     "output_type": "display_data"
    },
    {
     "data": {
      "application/vnd.jupyter.widget-view+json": {
       "model_id": "b9ea4e180e34415aab088c665ac9bfc5",
       "version_major": 2,
       "version_minor": 0
      },
      "text/plain": [
       "Map:   0%|          | 0/31 [00:00<?, ? examples/s]"
      ]
     },
     "metadata": {},
     "output_type": "display_data"
    },
    {
     "data": {
      "application/vnd.jupyter.widget-view+json": {
       "model_id": "5fecfec7f75e489d8d177074a52de5d3",
       "version_major": 2,
       "version_minor": 0
      },
      "text/plain": [
       "Map:   0%|          | 0/7 [00:00<?, ? examples/s]"
      ]
     },
     "metadata": {},
     "output_type": "display_data"
    },
    {
     "name": "stdout",
     "output_type": "stream",
     "text": [
      "StratifiedKFold(n_splits=5, random_state=None, shuffle=False)\n"
     ]
    },
    {
     "data": {
      "application/vnd.jupyter.widget-view+json": {
       "model_id": "437e98e2ce2a4ce0885b26174374b4d6",
       "version_major": 2,
       "version_minor": 0
      },
      "text/plain": [
       "Map:   0%|          | 0/30 [00:00<?, ? examples/s]"
      ]
     },
     "metadata": {},
     "output_type": "display_data"
    },
    {
     "data": {
      "application/vnd.jupyter.widget-view+json": {
       "model_id": "76a31dd60eed43d9aaa50cc9d242fda2",
       "version_major": 2,
       "version_minor": 0
      },
      "text/plain": [
       "Map:   0%|          | 0/8 [00:00<?, ? examples/s]"
      ]
     },
     "metadata": {},
     "output_type": "display_data"
    },
    {
     "data": {
      "application/vnd.jupyter.widget-view+json": {
       "model_id": "1df8819df6ae4e36a9f5efe7d6456256",
       "version_major": 2,
       "version_minor": 0
      },
      "text/plain": [
       "Map:   0%|          | 0/30 [00:00<?, ? examples/s]"
      ]
     },
     "metadata": {},
     "output_type": "display_data"
    },
    {
     "data": {
      "application/vnd.jupyter.widget-view+json": {
       "model_id": "9c88ef8b202542a5bb12890efc4a41ef",
       "version_major": 2,
       "version_minor": 0
      },
      "text/plain": [
       "Map:   0%|          | 0/8 [00:00<?, ? examples/s]"
      ]
     },
     "metadata": {},
     "output_type": "display_data"
    },
    {
     "data": {
      "application/vnd.jupyter.widget-view+json": {
       "model_id": "8654dd9ebd234bcb83b3d3ec35d5e1c6",
       "version_major": 2,
       "version_minor": 0
      },
      "text/plain": [
       "Map:   0%|          | 0/30 [00:00<?, ? examples/s]"
      ]
     },
     "metadata": {},
     "output_type": "display_data"
    },
    {
     "data": {
      "application/vnd.jupyter.widget-view+json": {
       "model_id": "e4ac728ce0fc4d168ccdd21976538d8b",
       "version_major": 2,
       "version_minor": 0
      },
      "text/plain": [
       "Map:   0%|          | 0/8 [00:00<?, ? examples/s]"
      ]
     },
     "metadata": {},
     "output_type": "display_data"
    },
    {
     "data": {
      "application/vnd.jupyter.widget-view+json": {
       "model_id": "16919b0c02d045cdbbf1793d315657a1",
       "version_major": 2,
       "version_minor": 0
      },
      "text/plain": [
       "Map:   0%|          | 0/31 [00:00<?, ? examples/s]"
      ]
     },
     "metadata": {},
     "output_type": "display_data"
    },
    {
     "data": {
      "application/vnd.jupyter.widget-view+json": {
       "model_id": "ef4dc951caa8495bb231088341539c8c",
       "version_major": 2,
       "version_minor": 0
      },
      "text/plain": [
       "Map:   0%|          | 0/7 [00:00<?, ? examples/s]"
      ]
     },
     "metadata": {},
     "output_type": "display_data"
    },
    {
     "data": {
      "application/vnd.jupyter.widget-view+json": {
       "model_id": "c01cee8b9e7f44419b1b02a8422be0ee",
       "version_major": 2,
       "version_minor": 0
      },
      "text/plain": [
       "Map:   0%|          | 0/31 [00:00<?, ? examples/s]"
      ]
     },
     "metadata": {},
     "output_type": "display_data"
    },
    {
     "data": {
      "application/vnd.jupyter.widget-view+json": {
       "model_id": "443d4550642b47f292c9a890908442b3",
       "version_major": 2,
       "version_minor": 0
      },
      "text/plain": [
       "Map:   0%|          | 0/7 [00:00<?, ? examples/s]"
      ]
     },
     "metadata": {},
     "output_type": "display_data"
    },
    {
     "name": "stdout",
     "output_type": "stream",
     "text": [
      "StratifiedKFold(n_splits=5, random_state=None, shuffle=False)\n"
     ]
    },
    {
     "data": {
      "application/vnd.jupyter.widget-view+json": {
       "model_id": "97a6f61bfb064da5b9ade74f819b7636",
       "version_major": 2,
       "version_minor": 0
      },
      "text/plain": [
       "Map:   0%|          | 0/30 [00:00<?, ? examples/s]"
      ]
     },
     "metadata": {},
     "output_type": "display_data"
    },
    {
     "data": {
      "application/vnd.jupyter.widget-view+json": {
       "model_id": "9e56c7808ed54e8f93b9a687521f48f9",
       "version_major": 2,
       "version_minor": 0
      },
      "text/plain": [
       "Map:   0%|          | 0/8 [00:00<?, ? examples/s]"
      ]
     },
     "metadata": {},
     "output_type": "display_data"
    },
    {
     "data": {
      "application/vnd.jupyter.widget-view+json": {
       "model_id": "5e6878f784d34758b06c0d83197c1cbf",
       "version_major": 2,
       "version_minor": 0
      },
      "text/plain": [
       "Map:   0%|          | 0/30 [00:00<?, ? examples/s]"
      ]
     },
     "metadata": {},
     "output_type": "display_data"
    },
    {
     "data": {
      "application/vnd.jupyter.widget-view+json": {
       "model_id": "6864707c5f324b20aea5438d24f0d366",
       "version_major": 2,
       "version_minor": 0
      },
      "text/plain": [
       "Map:   0%|          | 0/8 [00:00<?, ? examples/s]"
      ]
     },
     "metadata": {},
     "output_type": "display_data"
    },
    {
     "data": {
      "application/vnd.jupyter.widget-view+json": {
       "model_id": "359de914a30b49f5a52a4696915af7ef",
       "version_major": 2,
       "version_minor": 0
      },
      "text/plain": [
       "Map:   0%|          | 0/30 [00:00<?, ? examples/s]"
      ]
     },
     "metadata": {},
     "output_type": "display_data"
    },
    {
     "data": {
      "application/vnd.jupyter.widget-view+json": {
       "model_id": "2e9e2b4d140849338ad227a0b09a00c1",
       "version_major": 2,
       "version_minor": 0
      },
      "text/plain": [
       "Map:   0%|          | 0/8 [00:00<?, ? examples/s]"
      ]
     },
     "metadata": {},
     "output_type": "display_data"
    },
    {
     "data": {
      "application/vnd.jupyter.widget-view+json": {
       "model_id": "527295f11e3b49e9a8ebbb410dc3e61d",
       "version_major": 2,
       "version_minor": 0
      },
      "text/plain": [
       "Map:   0%|          | 0/31 [00:00<?, ? examples/s]"
      ]
     },
     "metadata": {},
     "output_type": "display_data"
    },
    {
     "data": {
      "application/vnd.jupyter.widget-view+json": {
       "model_id": "c29b64b6de64454787ac9d9ccb74c76d",
       "version_major": 2,
       "version_minor": 0
      },
      "text/plain": [
       "Map:   0%|          | 0/7 [00:00<?, ? examples/s]"
      ]
     },
     "metadata": {},
     "output_type": "display_data"
    },
    {
     "data": {
      "application/vnd.jupyter.widget-view+json": {
       "model_id": "71f0594ee8cb44a1870df7b266eca64f",
       "version_major": 2,
       "version_minor": 0
      },
      "text/plain": [
       "Map:   0%|          | 0/31 [00:00<?, ? examples/s]"
      ]
     },
     "metadata": {},
     "output_type": "display_data"
    },
    {
     "data": {
      "application/vnd.jupyter.widget-view+json": {
       "model_id": "5cfa430ce41d49fda6435bc2076b67ed",
       "version_major": 2,
       "version_minor": 0
      },
      "text/plain": [
       "Map:   0%|          | 0/7 [00:00<?, ? examples/s]"
      ]
     },
     "metadata": {},
     "output_type": "display_data"
    },
    {
     "name": "stdout",
     "output_type": "stream",
     "text": [
      "StratifiedKFold(n_splits=5, random_state=None, shuffle=False)\n"
     ]
    },
    {
     "data": {
      "application/vnd.jupyter.widget-view+json": {
       "model_id": "5b386d16dc8f4388886c9d52f227a80f",
       "version_major": 2,
       "version_minor": 0
      },
      "text/plain": [
       "Map:   0%|          | 0/30 [00:00<?, ? examples/s]"
      ]
     },
     "metadata": {},
     "output_type": "display_data"
    },
    {
     "data": {
      "application/vnd.jupyter.widget-view+json": {
       "model_id": "61960d9630f34244a4f832905a8438b8",
       "version_major": 2,
       "version_minor": 0
      },
      "text/plain": [
       "Map:   0%|          | 0/8 [00:00<?, ? examples/s]"
      ]
     },
     "metadata": {},
     "output_type": "display_data"
    },
    {
     "data": {
      "application/vnd.jupyter.widget-view+json": {
       "model_id": "5ef22f1c87ab49478945947972077427",
       "version_major": 2,
       "version_minor": 0
      },
      "text/plain": [
       "Map:   0%|          | 0/30 [00:00<?, ? examples/s]"
      ]
     },
     "metadata": {},
     "output_type": "display_data"
    },
    {
     "data": {
      "application/vnd.jupyter.widget-view+json": {
       "model_id": "fb2e64c7517348e78226f84301d71d14",
       "version_major": 2,
       "version_minor": 0
      },
      "text/plain": [
       "Map:   0%|          | 0/8 [00:00<?, ? examples/s]"
      ]
     },
     "metadata": {},
     "output_type": "display_data"
    },
    {
     "data": {
      "application/vnd.jupyter.widget-view+json": {
       "model_id": "fbf11aa45431432ebf6ca6538168a773",
       "version_major": 2,
       "version_minor": 0
      },
      "text/plain": [
       "Map:   0%|          | 0/30 [00:00<?, ? examples/s]"
      ]
     },
     "metadata": {},
     "output_type": "display_data"
    },
    {
     "data": {
      "application/vnd.jupyter.widget-view+json": {
       "model_id": "ef6a34f0c21747fabda6991a9b23e0a9",
       "version_major": 2,
       "version_minor": 0
      },
      "text/plain": [
       "Map:   0%|          | 0/8 [00:00<?, ? examples/s]"
      ]
     },
     "metadata": {},
     "output_type": "display_data"
    },
    {
     "data": {
      "application/vnd.jupyter.widget-view+json": {
       "model_id": "bd5969eda3844d989e820e8954e4b786",
       "version_major": 2,
       "version_minor": 0
      },
      "text/plain": [
       "Map:   0%|          | 0/31 [00:00<?, ? examples/s]"
      ]
     },
     "metadata": {},
     "output_type": "display_data"
    },
    {
     "data": {
      "application/vnd.jupyter.widget-view+json": {
       "model_id": "5112727f9a76432495d9d25319558fbe",
       "version_major": 2,
       "version_minor": 0
      },
      "text/plain": [
       "Map:   0%|          | 0/7 [00:00<?, ? examples/s]"
      ]
     },
     "metadata": {},
     "output_type": "display_data"
    },
    {
     "data": {
      "application/vnd.jupyter.widget-view+json": {
       "model_id": "d1d5109d7c13407eb1d2f6a03d1d4e7c",
       "version_major": 2,
       "version_minor": 0
      },
      "text/plain": [
       "Map:   0%|          | 0/31 [00:00<?, ? examples/s]"
      ]
     },
     "metadata": {},
     "output_type": "display_data"
    },
    {
     "data": {
      "application/vnd.jupyter.widget-view+json": {
       "model_id": "12f3a141280b4a349b26f3764d3c5a1c",
       "version_major": 2,
       "version_minor": 0
      },
      "text/plain": [
       "Map:   0%|          | 0/7 [00:00<?, ? examples/s]"
      ]
     },
     "metadata": {},
     "output_type": "display_data"
    },
    {
     "name": "stdout",
     "output_type": "stream",
     "text": [
      "StratifiedKFold(n_splits=5, random_state=None, shuffle=False)\n"
     ]
    },
    {
     "data": {
      "application/vnd.jupyter.widget-view+json": {
       "model_id": "95ea5da9f6cd478093f55d59be0ae2da",
       "version_major": 2,
       "version_minor": 0
      },
      "text/plain": [
       "Map:   0%|          | 0/30 [00:00<?, ? examples/s]"
      ]
     },
     "metadata": {},
     "output_type": "display_data"
    },
    {
     "data": {
      "application/vnd.jupyter.widget-view+json": {
       "model_id": "540f97c258d84a0899fb6c9a8721bbfc",
       "version_major": 2,
       "version_minor": 0
      },
      "text/plain": [
       "Map:   0%|          | 0/8 [00:00<?, ? examples/s]"
      ]
     },
     "metadata": {},
     "output_type": "display_data"
    },
    {
     "data": {
      "application/vnd.jupyter.widget-view+json": {
       "model_id": "ee9d18d2ac714f19ae049b500a33d655",
       "version_major": 2,
       "version_minor": 0
      },
      "text/plain": [
       "Map:   0%|          | 0/30 [00:00<?, ? examples/s]"
      ]
     },
     "metadata": {},
     "output_type": "display_data"
    },
    {
     "data": {
      "application/vnd.jupyter.widget-view+json": {
       "model_id": "54ac657f2156402480ba879deff8fb6c",
       "version_major": 2,
       "version_minor": 0
      },
      "text/plain": [
       "Map:   0%|          | 0/8 [00:00<?, ? examples/s]"
      ]
     },
     "metadata": {},
     "output_type": "display_data"
    },
    {
     "data": {
      "application/vnd.jupyter.widget-view+json": {
       "model_id": "61e64f70c392407d948429d351f49921",
       "version_major": 2,
       "version_minor": 0
      },
      "text/plain": [
       "Map:   0%|          | 0/30 [00:00<?, ? examples/s]"
      ]
     },
     "metadata": {},
     "output_type": "display_data"
    },
    {
     "data": {
      "application/vnd.jupyter.widget-view+json": {
       "model_id": "b3e3c53e18b84bea99c26fde2e70a66c",
       "version_major": 2,
       "version_minor": 0
      },
      "text/plain": [
       "Map:   0%|          | 0/8 [00:00<?, ? examples/s]"
      ]
     },
     "metadata": {},
     "output_type": "display_data"
    },
    {
     "data": {
      "application/vnd.jupyter.widget-view+json": {
       "model_id": "422c47b388ce49af819dee12bb2d05fa",
       "version_major": 2,
       "version_minor": 0
      },
      "text/plain": [
       "Map:   0%|          | 0/31 [00:00<?, ? examples/s]"
      ]
     },
     "metadata": {},
     "output_type": "display_data"
    },
    {
     "data": {
      "application/vnd.jupyter.widget-view+json": {
       "model_id": "33d616e189944ec8b9dc8b873bf6bc06",
       "version_major": 2,
       "version_minor": 0
      },
      "text/plain": [
       "Map:   0%|          | 0/7 [00:00<?, ? examples/s]"
      ]
     },
     "metadata": {},
     "output_type": "display_data"
    },
    {
     "data": {
      "application/vnd.jupyter.widget-view+json": {
       "model_id": "7df4e2385a064196965aba7f06abfd9d",
       "version_major": 2,
       "version_minor": 0
      },
      "text/plain": [
       "Map:   0%|          | 0/31 [00:00<?, ? examples/s]"
      ]
     },
     "metadata": {},
     "output_type": "display_data"
    },
    {
     "data": {
      "application/vnd.jupyter.widget-view+json": {
       "model_id": "0640066f6bc84487b88998c6a25d1ec4",
       "version_major": 2,
       "version_minor": 0
      },
      "text/plain": [
       "Map:   0%|          | 0/7 [00:00<?, ? examples/s]"
      ]
     },
     "metadata": {},
     "output_type": "display_data"
    },
    {
     "name": "stdout",
     "output_type": "stream",
     "text": [
      "StratifiedKFold(n_splits=5, random_state=None, shuffle=False)\n"
     ]
    },
    {
     "data": {
      "application/vnd.jupyter.widget-view+json": {
       "model_id": "613f9c1589e8498daaf2676b346f1964",
       "version_major": 2,
       "version_minor": 0
      },
      "text/plain": [
       "Map:   0%|          | 0/30 [00:00<?, ? examples/s]"
      ]
     },
     "metadata": {},
     "output_type": "display_data"
    },
    {
     "data": {
      "application/vnd.jupyter.widget-view+json": {
       "model_id": "b0526bff61fe4da7843298be314e19f0",
       "version_major": 2,
       "version_minor": 0
      },
      "text/plain": [
       "Map:   0%|          | 0/8 [00:00<?, ? examples/s]"
      ]
     },
     "metadata": {},
     "output_type": "display_data"
    },
    {
     "data": {
      "application/vnd.jupyter.widget-view+json": {
       "model_id": "b96d732a24e442c09a3de106a2c833ab",
       "version_major": 2,
       "version_minor": 0
      },
      "text/plain": [
       "Map:   0%|          | 0/30 [00:00<?, ? examples/s]"
      ]
     },
     "metadata": {},
     "output_type": "display_data"
    },
    {
     "data": {
      "application/vnd.jupyter.widget-view+json": {
       "model_id": "2797f55ccbe244b4840bf8a0e0720a1a",
       "version_major": 2,
       "version_minor": 0
      },
      "text/plain": [
       "Map:   0%|          | 0/8 [00:00<?, ? examples/s]"
      ]
     },
     "metadata": {},
     "output_type": "display_data"
    },
    {
     "data": {
      "application/vnd.jupyter.widget-view+json": {
       "model_id": "ed5f23e4058549748564155819eb8fdb",
       "version_major": 2,
       "version_minor": 0
      },
      "text/plain": [
       "Map:   0%|          | 0/30 [00:00<?, ? examples/s]"
      ]
     },
     "metadata": {},
     "output_type": "display_data"
    },
    {
     "data": {
      "application/vnd.jupyter.widget-view+json": {
       "model_id": "6621ea088457469e9dbcf4317048eb05",
       "version_major": 2,
       "version_minor": 0
      },
      "text/plain": [
       "Map:   0%|          | 0/8 [00:00<?, ? examples/s]"
      ]
     },
     "metadata": {},
     "output_type": "display_data"
    },
    {
     "data": {
      "application/vnd.jupyter.widget-view+json": {
       "model_id": "1017492810be44489515b31cba001de2",
       "version_major": 2,
       "version_minor": 0
      },
      "text/plain": [
       "Map:   0%|          | 0/31 [00:00<?, ? examples/s]"
      ]
     },
     "metadata": {},
     "output_type": "display_data"
    },
    {
     "data": {
      "application/vnd.jupyter.widget-view+json": {
       "model_id": "1f9a6cc16add4975adc911b4e52fde48",
       "version_major": 2,
       "version_minor": 0
      },
      "text/plain": [
       "Map:   0%|          | 0/7 [00:00<?, ? examples/s]"
      ]
     },
     "metadata": {},
     "output_type": "display_data"
    },
    {
     "data": {
      "application/vnd.jupyter.widget-view+json": {
       "model_id": "167d5894bc09410f9e9a6d15f9fcb876",
       "version_major": 2,
       "version_minor": 0
      },
      "text/plain": [
       "Map:   0%|          | 0/31 [00:00<?, ? examples/s]"
      ]
     },
     "metadata": {},
     "output_type": "display_data"
    },
    {
     "data": {
      "application/vnd.jupyter.widget-view+json": {
       "model_id": "81d6f23f55d949a3b8d46b46b6714bb7",
       "version_major": 2,
       "version_minor": 0
      },
      "text/plain": [
       "Map:   0%|          | 0/7 [00:00<?, ? examples/s]"
      ]
     },
     "metadata": {},
     "output_type": "display_data"
    },
    {
     "name": "stdout",
     "output_type": "stream",
     "text": [
      "StratifiedKFold(n_splits=5, random_state=None, shuffle=False)\n"
     ]
    },
    {
     "data": {
      "application/vnd.jupyter.widget-view+json": {
       "model_id": "92b119512b7648868991a519aeb96099",
       "version_major": 2,
       "version_minor": 0
      },
      "text/plain": [
       "Map:   0%|          | 0/30 [00:00<?, ? examples/s]"
      ]
     },
     "metadata": {},
     "output_type": "display_data"
    },
    {
     "data": {
      "application/vnd.jupyter.widget-view+json": {
       "model_id": "6822f4fc8d40484bac38478129412291",
       "version_major": 2,
       "version_minor": 0
      },
      "text/plain": [
       "Map:   0%|          | 0/8 [00:00<?, ? examples/s]"
      ]
     },
     "metadata": {},
     "output_type": "display_data"
    },
    {
     "data": {
      "application/vnd.jupyter.widget-view+json": {
       "model_id": "caff1988bbce46a08ef4b3b70957aae0",
       "version_major": 2,
       "version_minor": 0
      },
      "text/plain": [
       "Map:   0%|          | 0/30 [00:00<?, ? examples/s]"
      ]
     },
     "metadata": {},
     "output_type": "display_data"
    },
    {
     "data": {
      "application/vnd.jupyter.widget-view+json": {
       "model_id": "33ab7c7918544942ba9e6436852f522b",
       "version_major": 2,
       "version_minor": 0
      },
      "text/plain": [
       "Map:   0%|          | 0/8 [00:00<?, ? examples/s]"
      ]
     },
     "metadata": {},
     "output_type": "display_data"
    },
    {
     "data": {
      "application/vnd.jupyter.widget-view+json": {
       "model_id": "271b7521e83e4d5895227e20cd3b9d4b",
       "version_major": 2,
       "version_minor": 0
      },
      "text/plain": [
       "Map:   0%|          | 0/30 [00:00<?, ? examples/s]"
      ]
     },
     "metadata": {},
     "output_type": "display_data"
    },
    {
     "data": {
      "application/vnd.jupyter.widget-view+json": {
       "model_id": "6658e5ad59ae4c8a8d9bfa14ff8f4526",
       "version_major": 2,
       "version_minor": 0
      },
      "text/plain": [
       "Map:   0%|          | 0/8 [00:00<?, ? examples/s]"
      ]
     },
     "metadata": {},
     "output_type": "display_data"
    },
    {
     "data": {
      "application/vnd.jupyter.widget-view+json": {
       "model_id": "7cc84bb1fa794ef7854c135aac93469b",
       "version_major": 2,
       "version_minor": 0
      },
      "text/plain": [
       "Map:   0%|          | 0/31 [00:00<?, ? examples/s]"
      ]
     },
     "metadata": {},
     "output_type": "display_data"
    },
    {
     "data": {
      "application/vnd.jupyter.widget-view+json": {
       "model_id": "a47261c08d0c44c1ad147af8f1a36f73",
       "version_major": 2,
       "version_minor": 0
      },
      "text/plain": [
       "Map:   0%|          | 0/7 [00:00<?, ? examples/s]"
      ]
     },
     "metadata": {},
     "output_type": "display_data"
    },
    {
     "data": {
      "application/vnd.jupyter.widget-view+json": {
       "model_id": "e79e108ee4cf4612ad59ecc70e8b2b63",
       "version_major": 2,
       "version_minor": 0
      },
      "text/plain": [
       "Map:   0%|          | 0/31 [00:00<?, ? examples/s]"
      ]
     },
     "metadata": {},
     "output_type": "display_data"
    },
    {
     "data": {
      "application/vnd.jupyter.widget-view+json": {
       "model_id": "7793cbf8ca3d41edaebb8c6cefbc26e7",
       "version_major": 2,
       "version_minor": 0
      },
      "text/plain": [
       "Map:   0%|          | 0/7 [00:00<?, ? examples/s]"
      ]
     },
     "metadata": {},
     "output_type": "display_data"
    },
    {
     "name": "stdout",
     "output_type": "stream",
     "text": [
      "StratifiedKFold(n_splits=5, random_state=None, shuffle=False)\n"
     ]
    },
    {
     "data": {
      "application/vnd.jupyter.widget-view+json": {
       "model_id": "15b6269bc75a42eabe1eca27dbcc2a3c",
       "version_major": 2,
       "version_minor": 0
      },
      "text/plain": [
       "Map:   0%|          | 0/30 [00:00<?, ? examples/s]"
      ]
     },
     "metadata": {},
     "output_type": "display_data"
    },
    {
     "data": {
      "application/vnd.jupyter.widget-view+json": {
       "model_id": "96f670f0c4eb44cb86a4bd8102936991",
       "version_major": 2,
       "version_minor": 0
      },
      "text/plain": [
       "Map:   0%|          | 0/8 [00:00<?, ? examples/s]"
      ]
     },
     "metadata": {},
     "output_type": "display_data"
    },
    {
     "data": {
      "application/vnd.jupyter.widget-view+json": {
       "model_id": "04a698c3cca04e1f8b95d6ad49eeb536",
       "version_major": 2,
       "version_minor": 0
      },
      "text/plain": [
       "Map:   0%|          | 0/30 [00:00<?, ? examples/s]"
      ]
     },
     "metadata": {},
     "output_type": "display_data"
    },
    {
     "data": {
      "application/vnd.jupyter.widget-view+json": {
       "model_id": "af7a920911e94b3da8b818ed97fcc2fe",
       "version_major": 2,
       "version_minor": 0
      },
      "text/plain": [
       "Map:   0%|          | 0/8 [00:00<?, ? examples/s]"
      ]
     },
     "metadata": {},
     "output_type": "display_data"
    },
    {
     "data": {
      "application/vnd.jupyter.widget-view+json": {
       "model_id": "16c7c9b7e3d74621a3ad706096799d0d",
       "version_major": 2,
       "version_minor": 0
      },
      "text/plain": [
       "Map:   0%|          | 0/30 [00:00<?, ? examples/s]"
      ]
     },
     "metadata": {},
     "output_type": "display_data"
    },
    {
     "data": {
      "application/vnd.jupyter.widget-view+json": {
       "model_id": "4e5fa1a76e77412f98244e0923ef0b97",
       "version_major": 2,
       "version_minor": 0
      },
      "text/plain": [
       "Map:   0%|          | 0/8 [00:00<?, ? examples/s]"
      ]
     },
     "metadata": {},
     "output_type": "display_data"
    },
    {
     "data": {
      "application/vnd.jupyter.widget-view+json": {
       "model_id": "7f886e7ae12a48399a1a9686584a7331",
       "version_major": 2,
       "version_minor": 0
      },
      "text/plain": [
       "Map:   0%|          | 0/31 [00:00<?, ? examples/s]"
      ]
     },
     "metadata": {},
     "output_type": "display_data"
    },
    {
     "data": {
      "application/vnd.jupyter.widget-view+json": {
       "model_id": "8bd800b5fc65406bae2bb68f98d0a1c5",
       "version_major": 2,
       "version_minor": 0
      },
      "text/plain": [
       "Map:   0%|          | 0/7 [00:00<?, ? examples/s]"
      ]
     },
     "metadata": {},
     "output_type": "display_data"
    },
    {
     "data": {
      "application/vnd.jupyter.widget-view+json": {
       "model_id": "35ceeead0f6549339629afca263e0dda",
       "version_major": 2,
       "version_minor": 0
      },
      "text/plain": [
       "Map:   0%|          | 0/31 [00:00<?, ? examples/s]"
      ]
     },
     "metadata": {},
     "output_type": "display_data"
    },
    {
     "data": {
      "application/vnd.jupyter.widget-view+json": {
       "model_id": "ccac8f64c53e4582994a5ffe88ad7e94",
       "version_major": 2,
       "version_minor": 0
      },
      "text/plain": [
       "Map:   0%|          | 0/7 [00:00<?, ? examples/s]"
      ]
     },
     "metadata": {},
     "output_type": "display_data"
    },
    {
     "name": "stdout",
     "output_type": "stream",
     "text": [
      "StratifiedKFold(n_splits=5, random_state=None, shuffle=False)\n"
     ]
    },
    {
     "data": {
      "application/vnd.jupyter.widget-view+json": {
       "model_id": "ddad37eac76d47979271e3191208e367",
       "version_major": 2,
       "version_minor": 0
      },
      "text/plain": [
       "Map:   0%|          | 0/30 [00:00<?, ? examples/s]"
      ]
     },
     "metadata": {},
     "output_type": "display_data"
    },
    {
     "data": {
      "application/vnd.jupyter.widget-view+json": {
       "model_id": "44b63531b52d4312909a8f934d732b15",
       "version_major": 2,
       "version_minor": 0
      },
      "text/plain": [
       "Map:   0%|          | 0/8 [00:00<?, ? examples/s]"
      ]
     },
     "metadata": {},
     "output_type": "display_data"
    },
    {
     "data": {
      "application/vnd.jupyter.widget-view+json": {
       "model_id": "a6d3fc7aa9634f7c8bca017080702f47",
       "version_major": 2,
       "version_minor": 0
      },
      "text/plain": [
       "Map:   0%|          | 0/30 [00:00<?, ? examples/s]"
      ]
     },
     "metadata": {},
     "output_type": "display_data"
    },
    {
     "data": {
      "application/vnd.jupyter.widget-view+json": {
       "model_id": "0e076ce9c9f447788ee7c9a0ce66d4a0",
       "version_major": 2,
       "version_minor": 0
      },
      "text/plain": [
       "Map:   0%|          | 0/8 [00:00<?, ? examples/s]"
      ]
     },
     "metadata": {},
     "output_type": "display_data"
    },
    {
     "data": {
      "application/vnd.jupyter.widget-view+json": {
       "model_id": "35fc6644096945ddbf28a39bd3a15f44",
       "version_major": 2,
       "version_minor": 0
      },
      "text/plain": [
       "Map:   0%|          | 0/30 [00:00<?, ? examples/s]"
      ]
     },
     "metadata": {},
     "output_type": "display_data"
    },
    {
     "data": {
      "application/vnd.jupyter.widget-view+json": {
       "model_id": "386936bc152f40e695dd36b6f46e23dc",
       "version_major": 2,
       "version_minor": 0
      },
      "text/plain": [
       "Map:   0%|          | 0/8 [00:00<?, ? examples/s]"
      ]
     },
     "metadata": {},
     "output_type": "display_data"
    },
    {
     "data": {
      "application/vnd.jupyter.widget-view+json": {
       "model_id": "485cd32a39504b51b7ccadca9fbd2483",
       "version_major": 2,
       "version_minor": 0
      },
      "text/plain": [
       "Map:   0%|          | 0/31 [00:00<?, ? examples/s]"
      ]
     },
     "metadata": {},
     "output_type": "display_data"
    },
    {
     "data": {
      "application/vnd.jupyter.widget-view+json": {
       "model_id": "7ec101e2407441a69414fea83ae864b2",
       "version_major": 2,
       "version_minor": 0
      },
      "text/plain": [
       "Map:   0%|          | 0/7 [00:00<?, ? examples/s]"
      ]
     },
     "metadata": {},
     "output_type": "display_data"
    },
    {
     "data": {
      "application/vnd.jupyter.widget-view+json": {
       "model_id": "e97d8e8358874f9a9a26f31271186961",
       "version_major": 2,
       "version_minor": 0
      },
      "text/plain": [
       "Map:   0%|          | 0/31 [00:00<?, ? examples/s]"
      ]
     },
     "metadata": {},
     "output_type": "display_data"
    },
    {
     "data": {
      "application/vnd.jupyter.widget-view+json": {
       "model_id": "79dfb8f814274942bd986b1c81cb9fab",
       "version_major": 2,
       "version_minor": 0
      },
      "text/plain": [
       "Map:   0%|          | 0/7 [00:00<?, ? examples/s]"
      ]
     },
     "metadata": {},
     "output_type": "display_data"
    },
    {
     "name": "stdout",
     "output_type": "stream",
     "text": [
      "StratifiedKFold(n_splits=5, random_state=None, shuffle=False)\n"
     ]
    },
    {
     "data": {
      "application/vnd.jupyter.widget-view+json": {
       "model_id": "fb267edb9841426ba33ee44990d419a1",
       "version_major": 2,
       "version_minor": 0
      },
      "text/plain": [
       "Map:   0%|          | 0/30 [00:00<?, ? examples/s]"
      ]
     },
     "metadata": {},
     "output_type": "display_data"
    },
    {
     "data": {
      "application/vnd.jupyter.widget-view+json": {
       "model_id": "b281aa7884ed483289750ef588e5f758",
       "version_major": 2,
       "version_minor": 0
      },
      "text/plain": [
       "Map:   0%|          | 0/8 [00:00<?, ? examples/s]"
      ]
     },
     "metadata": {},
     "output_type": "display_data"
    },
    {
     "data": {
      "application/vnd.jupyter.widget-view+json": {
       "model_id": "c0ce5b5fc7c9411f95fbf0d9a4db8cc6",
       "version_major": 2,
       "version_minor": 0
      },
      "text/plain": [
       "Map:   0%|          | 0/30 [00:00<?, ? examples/s]"
      ]
     },
     "metadata": {},
     "output_type": "display_data"
    },
    {
     "data": {
      "application/vnd.jupyter.widget-view+json": {
       "model_id": "7010f4b2b64d4edc9242f9daad831546",
       "version_major": 2,
       "version_minor": 0
      },
      "text/plain": [
       "Map:   0%|          | 0/8 [00:00<?, ? examples/s]"
      ]
     },
     "metadata": {},
     "output_type": "display_data"
    },
    {
     "data": {
      "application/vnd.jupyter.widget-view+json": {
       "model_id": "538e11bdbd994880bf9437bd7fa1a9fa",
       "version_major": 2,
       "version_minor": 0
      },
      "text/plain": [
       "Map:   0%|          | 0/30 [00:00<?, ? examples/s]"
      ]
     },
     "metadata": {},
     "output_type": "display_data"
    },
    {
     "data": {
      "application/vnd.jupyter.widget-view+json": {
       "model_id": "e0726f29579c46adb23d7e93b78c8fd6",
       "version_major": 2,
       "version_minor": 0
      },
      "text/plain": [
       "Map:   0%|          | 0/8 [00:00<?, ? examples/s]"
      ]
     },
     "metadata": {},
     "output_type": "display_data"
    },
    {
     "data": {
      "application/vnd.jupyter.widget-view+json": {
       "model_id": "7e849bd032054afcab043970792a340f",
       "version_major": 2,
       "version_minor": 0
      },
      "text/plain": [
       "Map:   0%|          | 0/31 [00:00<?, ? examples/s]"
      ]
     },
     "metadata": {},
     "output_type": "display_data"
    },
    {
     "data": {
      "application/vnd.jupyter.widget-view+json": {
       "model_id": "94553d2667414a6695c93bd3f0914b9f",
       "version_major": 2,
       "version_minor": 0
      },
      "text/plain": [
       "Map:   0%|          | 0/7 [00:00<?, ? examples/s]"
      ]
     },
     "metadata": {},
     "output_type": "display_data"
    },
    {
     "data": {
      "application/vnd.jupyter.widget-view+json": {
       "model_id": "c40130174478456281432013bc159239",
       "version_major": 2,
       "version_minor": 0
      },
      "text/plain": [
       "Map:   0%|          | 0/31 [00:00<?, ? examples/s]"
      ]
     },
     "metadata": {},
     "output_type": "display_data"
    },
    {
     "data": {
      "application/vnd.jupyter.widget-view+json": {
       "model_id": "995be5161d194c2cb9d611574629eb82",
       "version_major": 2,
       "version_minor": 0
      },
      "text/plain": [
       "Map:   0%|          | 0/7 [00:00<?, ? examples/s]"
      ]
     },
     "metadata": {},
     "output_type": "display_data"
    },
    {
     "name": "stdout",
     "output_type": "stream",
     "text": [
      "StratifiedKFold(n_splits=5, random_state=None, shuffle=False)\n"
     ]
    },
    {
     "data": {
      "application/vnd.jupyter.widget-view+json": {
       "model_id": "6e1c4912658b4e0cbea887b1f040cbfc",
       "version_major": 2,
       "version_minor": 0
      },
      "text/plain": [
       "Map:   0%|          | 0/30 [00:00<?, ? examples/s]"
      ]
     },
     "metadata": {},
     "output_type": "display_data"
    },
    {
     "data": {
      "application/vnd.jupyter.widget-view+json": {
       "model_id": "d0c5678021ea49d49a9cee0f39073c06",
       "version_major": 2,
       "version_minor": 0
      },
      "text/plain": [
       "Map:   0%|          | 0/8 [00:00<?, ? examples/s]"
      ]
     },
     "metadata": {},
     "output_type": "display_data"
    },
    {
     "data": {
      "application/vnd.jupyter.widget-view+json": {
       "model_id": "d357577eb6c74b34b86063c86fdaf707",
       "version_major": 2,
       "version_minor": 0
      },
      "text/plain": [
       "Map:   0%|          | 0/30 [00:00<?, ? examples/s]"
      ]
     },
     "metadata": {},
     "output_type": "display_data"
    },
    {
     "data": {
      "application/vnd.jupyter.widget-view+json": {
       "model_id": "d74e56b6ffc74e86aed1990b77323d25",
       "version_major": 2,
       "version_minor": 0
      },
      "text/plain": [
       "Map:   0%|          | 0/8 [00:00<?, ? examples/s]"
      ]
     },
     "metadata": {},
     "output_type": "display_data"
    },
    {
     "data": {
      "application/vnd.jupyter.widget-view+json": {
       "model_id": "2ba33f70e49c4b10a9022d23c4a51f2e",
       "version_major": 2,
       "version_minor": 0
      },
      "text/plain": [
       "Map:   0%|          | 0/30 [00:00<?, ? examples/s]"
      ]
     },
     "metadata": {},
     "output_type": "display_data"
    },
    {
     "data": {
      "application/vnd.jupyter.widget-view+json": {
       "model_id": "eb45d4e7e48c4bed8c1afd83bff21b59",
       "version_major": 2,
       "version_minor": 0
      },
      "text/plain": [
       "Map:   0%|          | 0/8 [00:00<?, ? examples/s]"
      ]
     },
     "metadata": {},
     "output_type": "display_data"
    },
    {
     "data": {
      "application/vnd.jupyter.widget-view+json": {
       "model_id": "edef830648a141ffbd777fc202cecc1c",
       "version_major": 2,
       "version_minor": 0
      },
      "text/plain": [
       "Map:   0%|          | 0/31 [00:00<?, ? examples/s]"
      ]
     },
     "metadata": {},
     "output_type": "display_data"
    },
    {
     "data": {
      "application/vnd.jupyter.widget-view+json": {
       "model_id": "a4ed8d22a85c44fe8735565f237f4fa1",
       "version_major": 2,
       "version_minor": 0
      },
      "text/plain": [
       "Map:   0%|          | 0/7 [00:00<?, ? examples/s]"
      ]
     },
     "metadata": {},
     "output_type": "display_data"
    },
    {
     "data": {
      "application/vnd.jupyter.widget-view+json": {
       "model_id": "b8b214c5b9594bf7b0d122c4f559a628",
       "version_major": 2,
       "version_minor": 0
      },
      "text/plain": [
       "Map:   0%|          | 0/31 [00:00<?, ? examples/s]"
      ]
     },
     "metadata": {},
     "output_type": "display_data"
    },
    {
     "data": {
      "application/vnd.jupyter.widget-view+json": {
       "model_id": "b2b97993cdb94970af5c145fdc78997e",
       "version_major": 2,
       "version_minor": 0
      },
      "text/plain": [
       "Map:   0%|          | 0/7 [00:00<?, ? examples/s]"
      ]
     },
     "metadata": {},
     "output_type": "display_data"
    },
    {
     "name": "stdout",
     "output_type": "stream",
     "text": [
      "StratifiedKFold(n_splits=5, random_state=None, shuffle=False)\n"
     ]
    },
    {
     "data": {
      "application/vnd.jupyter.widget-view+json": {
       "model_id": "15bd876d76b74fddbffad9904c58700e",
       "version_major": 2,
       "version_minor": 0
      },
      "text/plain": [
       "Map:   0%|          | 0/30 [00:00<?, ? examples/s]"
      ]
     },
     "metadata": {},
     "output_type": "display_data"
    },
    {
     "data": {
      "application/vnd.jupyter.widget-view+json": {
       "model_id": "2a58e802717449fc89a53439603fe6fd",
       "version_major": 2,
       "version_minor": 0
      },
      "text/plain": [
       "Map:   0%|          | 0/8 [00:00<?, ? examples/s]"
      ]
     },
     "metadata": {},
     "output_type": "display_data"
    },
    {
     "data": {
      "application/vnd.jupyter.widget-view+json": {
       "model_id": "65aacff6234d40b984a00ae440760487",
       "version_major": 2,
       "version_minor": 0
      },
      "text/plain": [
       "Map:   0%|          | 0/30 [00:00<?, ? examples/s]"
      ]
     },
     "metadata": {},
     "output_type": "display_data"
    },
    {
     "data": {
      "application/vnd.jupyter.widget-view+json": {
       "model_id": "38db336147fc4ba7b9b6b5dde6f67774",
       "version_major": 2,
       "version_minor": 0
      },
      "text/plain": [
       "Map:   0%|          | 0/8 [00:00<?, ? examples/s]"
      ]
     },
     "metadata": {},
     "output_type": "display_data"
    },
    {
     "data": {
      "application/vnd.jupyter.widget-view+json": {
       "model_id": "d1093c9d084b46fb9d4be4bb9a24caec",
       "version_major": 2,
       "version_minor": 0
      },
      "text/plain": [
       "Map:   0%|          | 0/30 [00:00<?, ? examples/s]"
      ]
     },
     "metadata": {},
     "output_type": "display_data"
    },
    {
     "data": {
      "application/vnd.jupyter.widget-view+json": {
       "model_id": "731c6116b9ad4c6e8ee96166c379d5f3",
       "version_major": 2,
       "version_minor": 0
      },
      "text/plain": [
       "Map:   0%|          | 0/8 [00:00<?, ? examples/s]"
      ]
     },
     "metadata": {},
     "output_type": "display_data"
    },
    {
     "data": {
      "application/vnd.jupyter.widget-view+json": {
       "model_id": "0584e7ad418e4008bb26b04eb528f79b",
       "version_major": 2,
       "version_minor": 0
      },
      "text/plain": [
       "Map:   0%|          | 0/31 [00:00<?, ? examples/s]"
      ]
     },
     "metadata": {},
     "output_type": "display_data"
    },
    {
     "data": {
      "application/vnd.jupyter.widget-view+json": {
       "model_id": "36d81b7c307049e7b6d6b04a9bdb8ece",
       "version_major": 2,
       "version_minor": 0
      },
      "text/plain": [
       "Map:   0%|          | 0/7 [00:00<?, ? examples/s]"
      ]
     },
     "metadata": {},
     "output_type": "display_data"
    },
    {
     "data": {
      "application/vnd.jupyter.widget-view+json": {
       "model_id": "88d15d552bb24adfb4d0a2ea62756cec",
       "version_major": 2,
       "version_minor": 0
      },
      "text/plain": [
       "Map:   0%|          | 0/31 [00:00<?, ? examples/s]"
      ]
     },
     "metadata": {},
     "output_type": "display_data"
    },
    {
     "data": {
      "application/vnd.jupyter.widget-view+json": {
       "model_id": "1dba94e229644fe9a6d4933c8b40ea5e",
       "version_major": 2,
       "version_minor": 0
      },
      "text/plain": [
       "Map:   0%|          | 0/7 [00:00<?, ? examples/s]"
      ]
     },
     "metadata": {},
     "output_type": "display_data"
    },
    {
     "name": "stdout",
     "output_type": "stream",
     "text": [
      "StratifiedKFold(n_splits=5, random_state=None, shuffle=False)\n"
     ]
    },
    {
     "data": {
      "application/vnd.jupyter.widget-view+json": {
       "model_id": "a6f5a689f63948f7813c02ddd8192ee1",
       "version_major": 2,
       "version_minor": 0
      },
      "text/plain": [
       "Map:   0%|          | 0/30 [00:00<?, ? examples/s]"
      ]
     },
     "metadata": {},
     "output_type": "display_data"
    },
    {
     "data": {
      "application/vnd.jupyter.widget-view+json": {
       "model_id": "1bc28572995e4f598c97b54a5894b780",
       "version_major": 2,
       "version_minor": 0
      },
      "text/plain": [
       "Map:   0%|          | 0/8 [00:00<?, ? examples/s]"
      ]
     },
     "metadata": {},
     "output_type": "display_data"
    },
    {
     "data": {
      "application/vnd.jupyter.widget-view+json": {
       "model_id": "ba2c5b5f8989477188fcfb88ed040e48",
       "version_major": 2,
       "version_minor": 0
      },
      "text/plain": [
       "Map:   0%|          | 0/30 [00:00<?, ? examples/s]"
      ]
     },
     "metadata": {},
     "output_type": "display_data"
    },
    {
     "data": {
      "application/vnd.jupyter.widget-view+json": {
       "model_id": "4f32a5c7855f439c867473b742790dfa",
       "version_major": 2,
       "version_minor": 0
      },
      "text/plain": [
       "Map:   0%|          | 0/8 [00:00<?, ? examples/s]"
      ]
     },
     "metadata": {},
     "output_type": "display_data"
    },
    {
     "data": {
      "application/vnd.jupyter.widget-view+json": {
       "model_id": "8749d7fcd2b44d76a6df859838844e25",
       "version_major": 2,
       "version_minor": 0
      },
      "text/plain": [
       "Map:   0%|          | 0/30 [00:00<?, ? examples/s]"
      ]
     },
     "metadata": {},
     "output_type": "display_data"
    },
    {
     "data": {
      "application/vnd.jupyter.widget-view+json": {
       "model_id": "c2f8a2112a6949efa8fe60ade3acd384",
       "version_major": 2,
       "version_minor": 0
      },
      "text/plain": [
       "Map:   0%|          | 0/8 [00:00<?, ? examples/s]"
      ]
     },
     "metadata": {},
     "output_type": "display_data"
    },
    {
     "data": {
      "application/vnd.jupyter.widget-view+json": {
       "model_id": "b626bbef3efd41ce9d20750dd3d15256",
       "version_major": 2,
       "version_minor": 0
      },
      "text/plain": [
       "Map:   0%|          | 0/31 [00:00<?, ? examples/s]"
      ]
     },
     "metadata": {},
     "output_type": "display_data"
    },
    {
     "data": {
      "application/vnd.jupyter.widget-view+json": {
       "model_id": "06d6c51b886a4132b73171f59f573009",
       "version_major": 2,
       "version_minor": 0
      },
      "text/plain": [
       "Map:   0%|          | 0/7 [00:00<?, ? examples/s]"
      ]
     },
     "metadata": {},
     "output_type": "display_data"
    },
    {
     "data": {
      "application/vnd.jupyter.widget-view+json": {
       "model_id": "d4b56d9c75f34ffcbe04cc60a3fcebcd",
       "version_major": 2,
       "version_minor": 0
      },
      "text/plain": [
       "Map:   0%|          | 0/31 [00:00<?, ? examples/s]"
      ]
     },
     "metadata": {},
     "output_type": "display_data"
    },
    {
     "data": {
      "application/vnd.jupyter.widget-view+json": {
       "model_id": "bef54cf1a96b48288d9b502571a193b1",
       "version_major": 2,
       "version_minor": 0
      },
      "text/plain": [
       "Map:   0%|          | 0/7 [00:00<?, ? examples/s]"
      ]
     },
     "metadata": {},
     "output_type": "display_data"
    },
    {
     "name": "stdout",
     "output_type": "stream",
     "text": [
      "StratifiedKFold(n_splits=5, random_state=None, shuffle=False)\n"
     ]
    },
    {
     "data": {
      "application/vnd.jupyter.widget-view+json": {
       "model_id": "36878e57dbdd407099e464212b54658a",
       "version_major": 2,
       "version_minor": 0
      },
      "text/plain": [
       "Map:   0%|          | 0/30 [00:00<?, ? examples/s]"
      ]
     },
     "metadata": {},
     "output_type": "display_data"
    },
    {
     "data": {
      "application/vnd.jupyter.widget-view+json": {
       "model_id": "8a64fbde7d824062a2a037ce1dd172b9",
       "version_major": 2,
       "version_minor": 0
      },
      "text/plain": [
       "Map:   0%|          | 0/8 [00:00<?, ? examples/s]"
      ]
     },
     "metadata": {},
     "output_type": "display_data"
    },
    {
     "data": {
      "application/vnd.jupyter.widget-view+json": {
       "model_id": "5c5fbc73665947d7a12f24ba02bf97f9",
       "version_major": 2,
       "version_minor": 0
      },
      "text/plain": [
       "Map:   0%|          | 0/30 [00:00<?, ? examples/s]"
      ]
     },
     "metadata": {},
     "output_type": "display_data"
    },
    {
     "data": {
      "application/vnd.jupyter.widget-view+json": {
       "model_id": "5a86120eea8b4071b3553b2edab2c330",
       "version_major": 2,
       "version_minor": 0
      },
      "text/plain": [
       "Map:   0%|          | 0/8 [00:00<?, ? examples/s]"
      ]
     },
     "metadata": {},
     "output_type": "display_data"
    },
    {
     "data": {
      "application/vnd.jupyter.widget-view+json": {
       "model_id": "00338ed59ad745c6a8523341f17a8ee2",
       "version_major": 2,
       "version_minor": 0
      },
      "text/plain": [
       "Map:   0%|          | 0/30 [00:00<?, ? examples/s]"
      ]
     },
     "metadata": {},
     "output_type": "display_data"
    },
    {
     "data": {
      "application/vnd.jupyter.widget-view+json": {
       "model_id": "c4f02ed0b619488597b8c0e4e3b17e85",
       "version_major": 2,
       "version_minor": 0
      },
      "text/plain": [
       "Map:   0%|          | 0/8 [00:00<?, ? examples/s]"
      ]
     },
     "metadata": {},
     "output_type": "display_data"
    },
    {
     "data": {
      "application/vnd.jupyter.widget-view+json": {
       "model_id": "d36c14fb23bc4fea9fb87e95f1f1009b",
       "version_major": 2,
       "version_minor": 0
      },
      "text/plain": [
       "Map:   0%|          | 0/31 [00:00<?, ? examples/s]"
      ]
     },
     "metadata": {},
     "output_type": "display_data"
    },
    {
     "data": {
      "application/vnd.jupyter.widget-view+json": {
       "model_id": "46dbd1c54418447985e024d548c97373",
       "version_major": 2,
       "version_minor": 0
      },
      "text/plain": [
       "Map:   0%|          | 0/7 [00:00<?, ? examples/s]"
      ]
     },
     "metadata": {},
     "output_type": "display_data"
    },
    {
     "data": {
      "application/vnd.jupyter.widget-view+json": {
       "model_id": "d11dea1af3b6433a88ee19d3aacbbb39",
       "version_major": 2,
       "version_minor": 0
      },
      "text/plain": [
       "Map:   0%|          | 0/31 [00:00<?, ? examples/s]"
      ]
     },
     "metadata": {},
     "output_type": "display_data"
    },
    {
     "data": {
      "application/vnd.jupyter.widget-view+json": {
       "model_id": "83abc253a12643e48fcd8bcf51bd74be",
       "version_major": 2,
       "version_minor": 0
      },
      "text/plain": [
       "Map:   0%|          | 0/7 [00:00<?, ? examples/s]"
      ]
     },
     "metadata": {},
     "output_type": "display_data"
    },
    {
     "name": "stdout",
     "output_type": "stream",
     "text": [
      "StratifiedKFold(n_splits=5, random_state=None, shuffle=False)\n"
     ]
    },
    {
     "data": {
      "application/vnd.jupyter.widget-view+json": {
       "model_id": "d3f3795b84f74c58809b6a0395fdd6e1",
       "version_major": 2,
       "version_minor": 0
      },
      "text/plain": [
       "Map:   0%|          | 0/30 [00:00<?, ? examples/s]"
      ]
     },
     "metadata": {},
     "output_type": "display_data"
    },
    {
     "data": {
      "application/vnd.jupyter.widget-view+json": {
       "model_id": "df1609889bb04479ae457fbfeb80b816",
       "version_major": 2,
       "version_minor": 0
      },
      "text/plain": [
       "Map:   0%|          | 0/8 [00:00<?, ? examples/s]"
      ]
     },
     "metadata": {},
     "output_type": "display_data"
    },
    {
     "data": {
      "application/vnd.jupyter.widget-view+json": {
       "model_id": "d11cea93dfe84275966931e004913df0",
       "version_major": 2,
       "version_minor": 0
      },
      "text/plain": [
       "Map:   0%|          | 0/30 [00:00<?, ? examples/s]"
      ]
     },
     "metadata": {},
     "output_type": "display_data"
    },
    {
     "data": {
      "application/vnd.jupyter.widget-view+json": {
       "model_id": "47f320fa58ed433fb21c7d6b909291cb",
       "version_major": 2,
       "version_minor": 0
      },
      "text/plain": [
       "Map:   0%|          | 0/8 [00:00<?, ? examples/s]"
      ]
     },
     "metadata": {},
     "output_type": "display_data"
    },
    {
     "data": {
      "application/vnd.jupyter.widget-view+json": {
       "model_id": "d72ed697bcbf4a49a960a969c531dedc",
       "version_major": 2,
       "version_minor": 0
      },
      "text/plain": [
       "Map:   0%|          | 0/30 [00:00<?, ? examples/s]"
      ]
     },
     "metadata": {},
     "output_type": "display_data"
    },
    {
     "data": {
      "application/vnd.jupyter.widget-view+json": {
       "model_id": "3b76e7f45fd14b51923805847c1c8515",
       "version_major": 2,
       "version_minor": 0
      },
      "text/plain": [
       "Map:   0%|          | 0/8 [00:00<?, ? examples/s]"
      ]
     },
     "metadata": {},
     "output_type": "display_data"
    },
    {
     "data": {
      "application/vnd.jupyter.widget-view+json": {
       "model_id": "3180f58a722946ba8c0e1f4864bbedbc",
       "version_major": 2,
       "version_minor": 0
      },
      "text/plain": [
       "Map:   0%|          | 0/31 [00:00<?, ? examples/s]"
      ]
     },
     "metadata": {},
     "output_type": "display_data"
    },
    {
     "data": {
      "application/vnd.jupyter.widget-view+json": {
       "model_id": "055d3c81cb184c1ebb605aa5a9844ec6",
       "version_major": 2,
       "version_minor": 0
      },
      "text/plain": [
       "Map:   0%|          | 0/7 [00:00<?, ? examples/s]"
      ]
     },
     "metadata": {},
     "output_type": "display_data"
    },
    {
     "data": {
      "application/vnd.jupyter.widget-view+json": {
       "model_id": "727c37ea9cb943aaad5a9f3552d20392",
       "version_major": 2,
       "version_minor": 0
      },
      "text/plain": [
       "Map:   0%|          | 0/31 [00:00<?, ? examples/s]"
      ]
     },
     "metadata": {},
     "output_type": "display_data"
    },
    {
     "data": {
      "application/vnd.jupyter.widget-view+json": {
       "model_id": "fb5f1725ce4349958198505acee366e0",
       "version_major": 2,
       "version_minor": 0
      },
      "text/plain": [
       "Map:   0%|          | 0/7 [00:00<?, ? examples/s]"
      ]
     },
     "metadata": {},
     "output_type": "display_data"
    },
    {
     "name": "stdout",
     "output_type": "stream",
     "text": [
      "StratifiedKFold(n_splits=5, random_state=None, shuffle=False)\n"
     ]
    },
    {
     "data": {
      "application/vnd.jupyter.widget-view+json": {
       "model_id": "3c47093a08ff40d4afea90d938e664db",
       "version_major": 2,
       "version_minor": 0
      },
      "text/plain": [
       "Map:   0%|          | 0/30 [00:00<?, ? examples/s]"
      ]
     },
     "metadata": {},
     "output_type": "display_data"
    },
    {
     "data": {
      "application/vnd.jupyter.widget-view+json": {
       "model_id": "4e8bace010c64cecbe1ab50780f57b2d",
       "version_major": 2,
       "version_minor": 0
      },
      "text/plain": [
       "Map:   0%|          | 0/8 [00:00<?, ? examples/s]"
      ]
     },
     "metadata": {},
     "output_type": "display_data"
    },
    {
     "data": {
      "application/vnd.jupyter.widget-view+json": {
       "model_id": "b3e3b69380f348c4ac86f623802a356f",
       "version_major": 2,
       "version_minor": 0
      },
      "text/plain": [
       "Map:   0%|          | 0/30 [00:00<?, ? examples/s]"
      ]
     },
     "metadata": {},
     "output_type": "display_data"
    },
    {
     "data": {
      "application/vnd.jupyter.widget-view+json": {
       "model_id": "bfe340b9e0d24a3c8498f94171e38dc4",
       "version_major": 2,
       "version_minor": 0
      },
      "text/plain": [
       "Map:   0%|          | 0/8 [00:00<?, ? examples/s]"
      ]
     },
     "metadata": {},
     "output_type": "display_data"
    },
    {
     "data": {
      "application/vnd.jupyter.widget-view+json": {
       "model_id": "c217a621bb6c4868a2693641ee8060ca",
       "version_major": 2,
       "version_minor": 0
      },
      "text/plain": [
       "Map:   0%|          | 0/30 [00:00<?, ? examples/s]"
      ]
     },
     "metadata": {},
     "output_type": "display_data"
    },
    {
     "data": {
      "application/vnd.jupyter.widget-view+json": {
       "model_id": "10f466e1b7db4b3b9b9b6429f956850f",
       "version_major": 2,
       "version_minor": 0
      },
      "text/plain": [
       "Map:   0%|          | 0/8 [00:00<?, ? examples/s]"
      ]
     },
     "metadata": {},
     "output_type": "display_data"
    },
    {
     "data": {
      "application/vnd.jupyter.widget-view+json": {
       "model_id": "90d6df2c93884957983bdb9df94d7c56",
       "version_major": 2,
       "version_minor": 0
      },
      "text/plain": [
       "Map:   0%|          | 0/31 [00:00<?, ? examples/s]"
      ]
     },
     "metadata": {},
     "output_type": "display_data"
    },
    {
     "data": {
      "application/vnd.jupyter.widget-view+json": {
       "model_id": "0dfec7338eac44c19d7dc3f39c64475f",
       "version_major": 2,
       "version_minor": 0
      },
      "text/plain": [
       "Map:   0%|          | 0/7 [00:00<?, ? examples/s]"
      ]
     },
     "metadata": {},
     "output_type": "display_data"
    },
    {
     "data": {
      "application/vnd.jupyter.widget-view+json": {
       "model_id": "e4d3e073bd4c4755be7d7b7bf40bce31",
       "version_major": 2,
       "version_minor": 0
      },
      "text/plain": [
       "Map:   0%|          | 0/31 [00:00<?, ? examples/s]"
      ]
     },
     "metadata": {},
     "output_type": "display_data"
    },
    {
     "data": {
      "application/vnd.jupyter.widget-view+json": {
       "model_id": "88ec619258614556b5e87bddf21b34f0",
       "version_major": 2,
       "version_minor": 0
      },
      "text/plain": [
       "Map:   0%|          | 0/7 [00:00<?, ? examples/s]"
      ]
     },
     "metadata": {},
     "output_type": "display_data"
    },
    {
     "name": "stdout",
     "output_type": "stream",
     "text": [
      "StratifiedKFold(n_splits=5, random_state=None, shuffle=False)\n"
     ]
    },
    {
     "data": {
      "application/vnd.jupyter.widget-view+json": {
       "model_id": "9c8a8c66f36f43ce86ba31a837de3dd0",
       "version_major": 2,
       "version_minor": 0
      },
      "text/plain": [
       "Map:   0%|          | 0/30 [00:00<?, ? examples/s]"
      ]
     },
     "metadata": {},
     "output_type": "display_data"
    },
    {
     "data": {
      "application/vnd.jupyter.widget-view+json": {
       "model_id": "b2ff34084ae1430f89e3cdabbbb47a94",
       "version_major": 2,
       "version_minor": 0
      },
      "text/plain": [
       "Map:   0%|          | 0/8 [00:00<?, ? examples/s]"
      ]
     },
     "metadata": {},
     "output_type": "display_data"
    },
    {
     "data": {
      "application/vnd.jupyter.widget-view+json": {
       "model_id": "2d74aec1e023494ca7db636abef7014e",
       "version_major": 2,
       "version_minor": 0
      },
      "text/plain": [
       "Map:   0%|          | 0/30 [00:00<?, ? examples/s]"
      ]
     },
     "metadata": {},
     "output_type": "display_data"
    },
    {
     "data": {
      "application/vnd.jupyter.widget-view+json": {
       "model_id": "ae970312552c4d6d9de318319f814b8c",
       "version_major": 2,
       "version_minor": 0
      },
      "text/plain": [
       "Map:   0%|          | 0/8 [00:00<?, ? examples/s]"
      ]
     },
     "metadata": {},
     "output_type": "display_data"
    },
    {
     "data": {
      "application/vnd.jupyter.widget-view+json": {
       "model_id": "e43cef3bef104931a7691b15f0d69e02",
       "version_major": 2,
       "version_minor": 0
      },
      "text/plain": [
       "Map:   0%|          | 0/30 [00:00<?, ? examples/s]"
      ]
     },
     "metadata": {},
     "output_type": "display_data"
    },
    {
     "data": {
      "application/vnd.jupyter.widget-view+json": {
       "model_id": "5eb1a9deb54742c38bd4c1e3d9c8f915",
       "version_major": 2,
       "version_minor": 0
      },
      "text/plain": [
       "Map:   0%|          | 0/8 [00:00<?, ? examples/s]"
      ]
     },
     "metadata": {},
     "output_type": "display_data"
    },
    {
     "data": {
      "application/vnd.jupyter.widget-view+json": {
       "model_id": "2b20abc6a4ea4f4d9c8f0eb9fe9f3db0",
       "version_major": 2,
       "version_minor": 0
      },
      "text/plain": [
       "Map:   0%|          | 0/31 [00:00<?, ? examples/s]"
      ]
     },
     "metadata": {},
     "output_type": "display_data"
    },
    {
     "data": {
      "application/vnd.jupyter.widget-view+json": {
       "model_id": "da46bbd6b0d045b488ac12a6a0c49f13",
       "version_major": 2,
       "version_minor": 0
      },
      "text/plain": [
       "Map:   0%|          | 0/7 [00:00<?, ? examples/s]"
      ]
     },
     "metadata": {},
     "output_type": "display_data"
    },
    {
     "data": {
      "application/vnd.jupyter.widget-view+json": {
       "model_id": "8c6dffcd5c62400cb3f9c172da19a893",
       "version_major": 2,
       "version_minor": 0
      },
      "text/plain": [
       "Map:   0%|          | 0/31 [00:00<?, ? examples/s]"
      ]
     },
     "metadata": {},
     "output_type": "display_data"
    },
    {
     "data": {
      "application/vnd.jupyter.widget-view+json": {
       "model_id": "6b7ef5b67f9f475bb2c6722d18aa1299",
       "version_major": 2,
       "version_minor": 0
      },
      "text/plain": [
       "Map:   0%|          | 0/7 [00:00<?, ? examples/s]"
      ]
     },
     "metadata": {},
     "output_type": "display_data"
    },
    {
     "name": "stdout",
     "output_type": "stream",
     "text": [
      "StratifiedKFold(n_splits=5, random_state=None, shuffle=False)\n"
     ]
    },
    {
     "data": {
      "application/vnd.jupyter.widget-view+json": {
       "model_id": "3c6e31ed800641788221b4a0780255d7",
       "version_major": 2,
       "version_minor": 0
      },
      "text/plain": [
       "Map:   0%|          | 0/30 [00:00<?, ? examples/s]"
      ]
     },
     "metadata": {},
     "output_type": "display_data"
    },
    {
     "data": {
      "application/vnd.jupyter.widget-view+json": {
       "model_id": "4555cfd5975c4fa0a7ac394be77b21dc",
       "version_major": 2,
       "version_minor": 0
      },
      "text/plain": [
       "Map:   0%|          | 0/8 [00:00<?, ? examples/s]"
      ]
     },
     "metadata": {},
     "output_type": "display_data"
    },
    {
     "data": {
      "application/vnd.jupyter.widget-view+json": {
       "model_id": "af53988be6be4b10921f4f7bb0051fb7",
       "version_major": 2,
       "version_minor": 0
      },
      "text/plain": [
       "Map:   0%|          | 0/30 [00:00<?, ? examples/s]"
      ]
     },
     "metadata": {},
     "output_type": "display_data"
    },
    {
     "data": {
      "application/vnd.jupyter.widget-view+json": {
       "model_id": "29e8f0eecea84b9794c0f39b504f2bc5",
       "version_major": 2,
       "version_minor": 0
      },
      "text/plain": [
       "Map:   0%|          | 0/8 [00:00<?, ? examples/s]"
      ]
     },
     "metadata": {},
     "output_type": "display_data"
    },
    {
     "data": {
      "application/vnd.jupyter.widget-view+json": {
       "model_id": "14dc5d4b5b364a0bac38553c674b1c3c",
       "version_major": 2,
       "version_minor": 0
      },
      "text/plain": [
       "Map:   0%|          | 0/30 [00:00<?, ? examples/s]"
      ]
     },
     "metadata": {},
     "output_type": "display_data"
    },
    {
     "data": {
      "application/vnd.jupyter.widget-view+json": {
       "model_id": "52e92668dca244fc9a1508a50de8a5d8",
       "version_major": 2,
       "version_minor": 0
      },
      "text/plain": [
       "Map:   0%|          | 0/8 [00:00<?, ? examples/s]"
      ]
     },
     "metadata": {},
     "output_type": "display_data"
    },
    {
     "data": {
      "application/vnd.jupyter.widget-view+json": {
       "model_id": "54941eed57694a39be7db9395a1c458a",
       "version_major": 2,
       "version_minor": 0
      },
      "text/plain": [
       "Map:   0%|          | 0/31 [00:00<?, ? examples/s]"
      ]
     },
     "metadata": {},
     "output_type": "display_data"
    },
    {
     "data": {
      "application/vnd.jupyter.widget-view+json": {
       "model_id": "69cb178792f048e9a3588e7f6d73e789",
       "version_major": 2,
       "version_minor": 0
      },
      "text/plain": [
       "Map:   0%|          | 0/7 [00:00<?, ? examples/s]"
      ]
     },
     "metadata": {},
     "output_type": "display_data"
    },
    {
     "data": {
      "application/vnd.jupyter.widget-view+json": {
       "model_id": "a26afc2bda0043aea9371f5bfaf4a4ff",
       "version_major": 2,
       "version_minor": 0
      },
      "text/plain": [
       "Map:   0%|          | 0/31 [00:00<?, ? examples/s]"
      ]
     },
     "metadata": {},
     "output_type": "display_data"
    },
    {
     "data": {
      "application/vnd.jupyter.widget-view+json": {
       "model_id": "7c2588b66640458fa3bc7b28b6565102",
       "version_major": 2,
       "version_minor": 0
      },
      "text/plain": [
       "Map:   0%|          | 0/7 [00:00<?, ? examples/s]"
      ]
     },
     "metadata": {},
     "output_type": "display_data"
    },
    {
     "name": "stdout",
     "output_type": "stream",
     "text": [
      "StratifiedKFold(n_splits=5, random_state=None, shuffle=False)\n"
     ]
    },
    {
     "data": {
      "application/vnd.jupyter.widget-view+json": {
       "model_id": "4ce3313dccde412ab84d6b8115687df5",
       "version_major": 2,
       "version_minor": 0
      },
      "text/plain": [
       "Map:   0%|          | 0/30 [00:00<?, ? examples/s]"
      ]
     },
     "metadata": {},
     "output_type": "display_data"
    },
    {
     "data": {
      "application/vnd.jupyter.widget-view+json": {
       "model_id": "937960e15711417b9fd4dff1933a9c1e",
       "version_major": 2,
       "version_minor": 0
      },
      "text/plain": [
       "Map:   0%|          | 0/8 [00:00<?, ? examples/s]"
      ]
     },
     "metadata": {},
     "output_type": "display_data"
    },
    {
     "data": {
      "application/vnd.jupyter.widget-view+json": {
       "model_id": "ca112f7860434a7d894ed887676e5050",
       "version_major": 2,
       "version_minor": 0
      },
      "text/plain": [
       "Map:   0%|          | 0/30 [00:00<?, ? examples/s]"
      ]
     },
     "metadata": {},
     "output_type": "display_data"
    },
    {
     "data": {
      "application/vnd.jupyter.widget-view+json": {
       "model_id": "65b4e7bde2644d6a9da4fbffe009908a",
       "version_major": 2,
       "version_minor": 0
      },
      "text/plain": [
       "Map:   0%|          | 0/8 [00:00<?, ? examples/s]"
      ]
     },
     "metadata": {},
     "output_type": "display_data"
    },
    {
     "data": {
      "application/vnd.jupyter.widget-view+json": {
       "model_id": "88e53ecce1354d5b9083e432cbc4fa3d",
       "version_major": 2,
       "version_minor": 0
      },
      "text/plain": [
       "Map:   0%|          | 0/30 [00:00<?, ? examples/s]"
      ]
     },
     "metadata": {},
     "output_type": "display_data"
    },
    {
     "data": {
      "application/vnd.jupyter.widget-view+json": {
       "model_id": "96c025651c364b5db6da20669c8b9e88",
       "version_major": 2,
       "version_minor": 0
      },
      "text/plain": [
       "Map:   0%|          | 0/8 [00:00<?, ? examples/s]"
      ]
     },
     "metadata": {},
     "output_type": "display_data"
    },
    {
     "data": {
      "application/vnd.jupyter.widget-view+json": {
       "model_id": "070b6bf781524ab2808ac241303b0597",
       "version_major": 2,
       "version_minor": 0
      },
      "text/plain": [
       "Map:   0%|          | 0/31 [00:00<?, ? examples/s]"
      ]
     },
     "metadata": {},
     "output_type": "display_data"
    },
    {
     "data": {
      "application/vnd.jupyter.widget-view+json": {
       "model_id": "dadfcf63d4c7488baed9395289d04a18",
       "version_major": 2,
       "version_minor": 0
      },
      "text/plain": [
       "Map:   0%|          | 0/7 [00:00<?, ? examples/s]"
      ]
     },
     "metadata": {},
     "output_type": "display_data"
    },
    {
     "data": {
      "application/vnd.jupyter.widget-view+json": {
       "model_id": "0eb7fc92d886456cb0b700e86e4ae0bd",
       "version_major": 2,
       "version_minor": 0
      },
      "text/plain": [
       "Map:   0%|          | 0/31 [00:00<?, ? examples/s]"
      ]
     },
     "metadata": {},
     "output_type": "display_data"
    },
    {
     "data": {
      "application/vnd.jupyter.widget-view+json": {
       "model_id": "b6ee597fd03e4f8dbe02a031a04b6182",
       "version_major": 2,
       "version_minor": 0
      },
      "text/plain": [
       "Map:   0%|          | 0/7 [00:00<?, ? examples/s]"
      ]
     },
     "metadata": {},
     "output_type": "display_data"
    },
    {
     "name": "stdout",
     "output_type": "stream",
     "text": [
      "StratifiedKFold(n_splits=5, random_state=None, shuffle=False)\n"
     ]
    },
    {
     "data": {
      "application/vnd.jupyter.widget-view+json": {
       "model_id": "d8e0cba8f75d4d7ab94a027e8a4e0c3b",
       "version_major": 2,
       "version_minor": 0
      },
      "text/plain": [
       "Map:   0%|          | 0/30 [00:00<?, ? examples/s]"
      ]
     },
     "metadata": {},
     "output_type": "display_data"
    },
    {
     "data": {
      "application/vnd.jupyter.widget-view+json": {
       "model_id": "a6e9efec1e084d959caf749374c810fa",
       "version_major": 2,
       "version_minor": 0
      },
      "text/plain": [
       "Map:   0%|          | 0/8 [00:00<?, ? examples/s]"
      ]
     },
     "metadata": {},
     "output_type": "display_data"
    },
    {
     "data": {
      "application/vnd.jupyter.widget-view+json": {
       "model_id": "3429da5d8f8248789c60c28e4ceef751",
       "version_major": 2,
       "version_minor": 0
      },
      "text/plain": [
       "Map:   0%|          | 0/30 [00:00<?, ? examples/s]"
      ]
     },
     "metadata": {},
     "output_type": "display_data"
    },
    {
     "data": {
      "application/vnd.jupyter.widget-view+json": {
       "model_id": "5d9dc27f943b441f9088010ec45fa568",
       "version_major": 2,
       "version_minor": 0
      },
      "text/plain": [
       "Map:   0%|          | 0/8 [00:00<?, ? examples/s]"
      ]
     },
     "metadata": {},
     "output_type": "display_data"
    },
    {
     "data": {
      "application/vnd.jupyter.widget-view+json": {
       "model_id": "dad62aeda8904637bb55300284f7742b",
       "version_major": 2,
       "version_minor": 0
      },
      "text/plain": [
       "Map:   0%|          | 0/30 [00:00<?, ? examples/s]"
      ]
     },
     "metadata": {},
     "output_type": "display_data"
    },
    {
     "data": {
      "application/vnd.jupyter.widget-view+json": {
       "model_id": "8507203574b84a5c99e255643e61e02c",
       "version_major": 2,
       "version_minor": 0
      },
      "text/plain": [
       "Map:   0%|          | 0/8 [00:00<?, ? examples/s]"
      ]
     },
     "metadata": {},
     "output_type": "display_data"
    },
    {
     "data": {
      "application/vnd.jupyter.widget-view+json": {
       "model_id": "b6540d68126644aab3db55cacced1fe4",
       "version_major": 2,
       "version_minor": 0
      },
      "text/plain": [
       "Map:   0%|          | 0/31 [00:00<?, ? examples/s]"
      ]
     },
     "metadata": {},
     "output_type": "display_data"
    },
    {
     "data": {
      "application/vnd.jupyter.widget-view+json": {
       "model_id": "cffeaf53cb2f47c281dbcfe67d7ab68c",
       "version_major": 2,
       "version_minor": 0
      },
      "text/plain": [
       "Map:   0%|          | 0/7 [00:00<?, ? examples/s]"
      ]
     },
     "metadata": {},
     "output_type": "display_data"
    },
    {
     "data": {
      "application/vnd.jupyter.widget-view+json": {
       "model_id": "d89a24e17dfd4bbaa7613049a5086a56",
       "version_major": 2,
       "version_minor": 0
      },
      "text/plain": [
       "Map:   0%|          | 0/31 [00:00<?, ? examples/s]"
      ]
     },
     "metadata": {},
     "output_type": "display_data"
    },
    {
     "data": {
      "application/vnd.jupyter.widget-view+json": {
       "model_id": "79896081cdd14c1489dff9fc690d1e09",
       "version_major": 2,
       "version_minor": 0
      },
      "text/plain": [
       "Map:   0%|          | 0/7 [00:00<?, ? examples/s]"
      ]
     },
     "metadata": {},
     "output_type": "display_data"
    },
    {
     "name": "stdout",
     "output_type": "stream",
     "text": [
      "StratifiedKFold(n_splits=5, random_state=None, shuffle=False)\n"
     ]
    },
    {
     "data": {
      "application/vnd.jupyter.widget-view+json": {
       "model_id": "1a6b594ee99647109c49f17b86b33d6b",
       "version_major": 2,
       "version_minor": 0
      },
      "text/plain": [
       "Map:   0%|          | 0/30 [00:00<?, ? examples/s]"
      ]
     },
     "metadata": {},
     "output_type": "display_data"
    },
    {
     "data": {
      "application/vnd.jupyter.widget-view+json": {
       "model_id": "1f4e13d4ca6d44ce934d6a4a21b70017",
       "version_major": 2,
       "version_minor": 0
      },
      "text/plain": [
       "Map:   0%|          | 0/8 [00:00<?, ? examples/s]"
      ]
     },
     "metadata": {},
     "output_type": "display_data"
    },
    {
     "data": {
      "application/vnd.jupyter.widget-view+json": {
       "model_id": "40f8cc8d0d8e46e89b09620d2ac1522a",
       "version_major": 2,
       "version_minor": 0
      },
      "text/plain": [
       "Map:   0%|          | 0/30 [00:00<?, ? examples/s]"
      ]
     },
     "metadata": {},
     "output_type": "display_data"
    },
    {
     "data": {
      "application/vnd.jupyter.widget-view+json": {
       "model_id": "7e483424df0b429c9c21032720a0cdfd",
       "version_major": 2,
       "version_minor": 0
      },
      "text/plain": [
       "Map:   0%|          | 0/8 [00:00<?, ? examples/s]"
      ]
     },
     "metadata": {},
     "output_type": "display_data"
    },
    {
     "data": {
      "application/vnd.jupyter.widget-view+json": {
       "model_id": "9457d9e438954c808c777546598d02a4",
       "version_major": 2,
       "version_minor": 0
      },
      "text/plain": [
       "Map:   0%|          | 0/30 [00:00<?, ? examples/s]"
      ]
     },
     "metadata": {},
     "output_type": "display_data"
    },
    {
     "data": {
      "application/vnd.jupyter.widget-view+json": {
       "model_id": "fc0bf1155e6d47e9bcfcd8adf42a44e9",
       "version_major": 2,
       "version_minor": 0
      },
      "text/plain": [
       "Map:   0%|          | 0/8 [00:00<?, ? examples/s]"
      ]
     },
     "metadata": {},
     "output_type": "display_data"
    },
    {
     "data": {
      "application/vnd.jupyter.widget-view+json": {
       "model_id": "17344644918d43649233d3f57c6a8a0b",
       "version_major": 2,
       "version_minor": 0
      },
      "text/plain": [
       "Map:   0%|          | 0/31 [00:00<?, ? examples/s]"
      ]
     },
     "metadata": {},
     "output_type": "display_data"
    },
    {
     "data": {
      "application/vnd.jupyter.widget-view+json": {
       "model_id": "9f2e60b9b5244d9c8fbacd6554557af8",
       "version_major": 2,
       "version_minor": 0
      },
      "text/plain": [
       "Map:   0%|          | 0/7 [00:00<?, ? examples/s]"
      ]
     },
     "metadata": {},
     "output_type": "display_data"
    },
    {
     "data": {
      "application/vnd.jupyter.widget-view+json": {
       "model_id": "5b5acd527ea5433a9c45f1770f415149",
       "version_major": 2,
       "version_minor": 0
      },
      "text/plain": [
       "Map:   0%|          | 0/31 [00:00<?, ? examples/s]"
      ]
     },
     "metadata": {},
     "output_type": "display_data"
    },
    {
     "data": {
      "application/vnd.jupyter.widget-view+json": {
       "model_id": "0c4775eaef84410f83cb580bfbfd8d81",
       "version_major": 2,
       "version_minor": 0
      },
      "text/plain": [
       "Map:   0%|          | 0/7 [00:00<?, ? examples/s]"
      ]
     },
     "metadata": {},
     "output_type": "display_data"
    },
    {
     "name": "stdout",
     "output_type": "stream",
     "text": [
      "StratifiedKFold(n_splits=5, random_state=None, shuffle=False)\n"
     ]
    },
    {
     "data": {
      "application/vnd.jupyter.widget-view+json": {
       "model_id": "606958def08247709305ed6b20eb016b",
       "version_major": 2,
       "version_minor": 0
      },
      "text/plain": [
       "Map:   0%|          | 0/30 [00:00<?, ? examples/s]"
      ]
     },
     "metadata": {},
     "output_type": "display_data"
    },
    {
     "data": {
      "application/vnd.jupyter.widget-view+json": {
       "model_id": "ead0f4d4f398479d8d12e336208c79dd",
       "version_major": 2,
       "version_minor": 0
      },
      "text/plain": [
       "Map:   0%|          | 0/8 [00:00<?, ? examples/s]"
      ]
     },
     "metadata": {},
     "output_type": "display_data"
    },
    {
     "data": {
      "application/vnd.jupyter.widget-view+json": {
       "model_id": "0ab1c9bf9c7d43d59d660b81bfb28f8e",
       "version_major": 2,
       "version_minor": 0
      },
      "text/plain": [
       "Map:   0%|          | 0/30 [00:00<?, ? examples/s]"
      ]
     },
     "metadata": {},
     "output_type": "display_data"
    },
    {
     "data": {
      "application/vnd.jupyter.widget-view+json": {
       "model_id": "53576ca28c60411784bf5ff81f99ec91",
       "version_major": 2,
       "version_minor": 0
      },
      "text/plain": [
       "Map:   0%|          | 0/8 [00:00<?, ? examples/s]"
      ]
     },
     "metadata": {},
     "output_type": "display_data"
    },
    {
     "data": {
      "application/vnd.jupyter.widget-view+json": {
       "model_id": "e1f9a5f621b64221ae837eb030248835",
       "version_major": 2,
       "version_minor": 0
      },
      "text/plain": [
       "Map:   0%|          | 0/30 [00:00<?, ? examples/s]"
      ]
     },
     "metadata": {},
     "output_type": "display_data"
    },
    {
     "data": {
      "application/vnd.jupyter.widget-view+json": {
       "model_id": "6b0186072cc746fa868a7cf7990b5b0b",
       "version_major": 2,
       "version_minor": 0
      },
      "text/plain": [
       "Map:   0%|          | 0/8 [00:00<?, ? examples/s]"
      ]
     },
     "metadata": {},
     "output_type": "display_data"
    },
    {
     "data": {
      "application/vnd.jupyter.widget-view+json": {
       "model_id": "7380f10bc90f421f89cf7edfe0634e30",
       "version_major": 2,
       "version_minor": 0
      },
      "text/plain": [
       "Map:   0%|          | 0/31 [00:00<?, ? examples/s]"
      ]
     },
     "metadata": {},
     "output_type": "display_data"
    },
    {
     "data": {
      "application/vnd.jupyter.widget-view+json": {
       "model_id": "52045fcc24684980879c8dca99704346",
       "version_major": 2,
       "version_minor": 0
      },
      "text/plain": [
       "Map:   0%|          | 0/7 [00:00<?, ? examples/s]"
      ]
     },
     "metadata": {},
     "output_type": "display_data"
    },
    {
     "data": {
      "application/vnd.jupyter.widget-view+json": {
       "model_id": "7e71aa1f19c147f0a877cbb0b5f70994",
       "version_major": 2,
       "version_minor": 0
      },
      "text/plain": [
       "Map:   0%|          | 0/31 [00:00<?, ? examples/s]"
      ]
     },
     "metadata": {},
     "output_type": "display_data"
    },
    {
     "data": {
      "application/vnd.jupyter.widget-view+json": {
       "model_id": "d6bafb76818445bb84b39572b4068c9f",
       "version_major": 2,
       "version_minor": 0
      },
      "text/plain": [
       "Map:   0%|          | 0/7 [00:00<?, ? examples/s]"
      ]
     },
     "metadata": {},
     "output_type": "display_data"
    },
    {
     "name": "stdout",
     "output_type": "stream",
     "text": [
      "StratifiedKFold(n_splits=5, random_state=None, shuffle=False)\n"
     ]
    },
    {
     "data": {
      "application/vnd.jupyter.widget-view+json": {
       "model_id": "bdaaac3f98234a33af13302c1820c6f7",
       "version_major": 2,
       "version_minor": 0
      },
      "text/plain": [
       "Map:   0%|          | 0/30 [00:00<?, ? examples/s]"
      ]
     },
     "metadata": {},
     "output_type": "display_data"
    },
    {
     "data": {
      "application/vnd.jupyter.widget-view+json": {
       "model_id": "ca54e2c2f2e24c97bbfb97ec00093197",
       "version_major": 2,
       "version_minor": 0
      },
      "text/plain": [
       "Map:   0%|          | 0/8 [00:00<?, ? examples/s]"
      ]
     },
     "metadata": {},
     "output_type": "display_data"
    },
    {
     "data": {
      "application/vnd.jupyter.widget-view+json": {
       "model_id": "d36eb192b8be47f2885418e51fd2d638",
       "version_major": 2,
       "version_minor": 0
      },
      "text/plain": [
       "Map:   0%|          | 0/30 [00:00<?, ? examples/s]"
      ]
     },
     "metadata": {},
     "output_type": "display_data"
    },
    {
     "data": {
      "application/vnd.jupyter.widget-view+json": {
       "model_id": "24068c5c248a4c40886c25699d0a94cd",
       "version_major": 2,
       "version_minor": 0
      },
      "text/plain": [
       "Map:   0%|          | 0/8 [00:00<?, ? examples/s]"
      ]
     },
     "metadata": {},
     "output_type": "display_data"
    },
    {
     "data": {
      "application/vnd.jupyter.widget-view+json": {
       "model_id": "c1717c758bc44d028cf2790252ad37ba",
       "version_major": 2,
       "version_minor": 0
      },
      "text/plain": [
       "Map:   0%|          | 0/30 [00:00<?, ? examples/s]"
      ]
     },
     "metadata": {},
     "output_type": "display_data"
    },
    {
     "data": {
      "application/vnd.jupyter.widget-view+json": {
       "model_id": "e9fca5310f3f48629f34ca3bf1f1effc",
       "version_major": 2,
       "version_minor": 0
      },
      "text/plain": [
       "Map:   0%|          | 0/8 [00:00<?, ? examples/s]"
      ]
     },
     "metadata": {},
     "output_type": "display_data"
    },
    {
     "data": {
      "application/vnd.jupyter.widget-view+json": {
       "model_id": "566c891b2fc64da1a9df16924121ddc4",
       "version_major": 2,
       "version_minor": 0
      },
      "text/plain": [
       "Map:   0%|          | 0/31 [00:00<?, ? examples/s]"
      ]
     },
     "metadata": {},
     "output_type": "display_data"
    },
    {
     "data": {
      "application/vnd.jupyter.widget-view+json": {
       "model_id": "e970ad9806e249b6bc872e5e65bf8fec",
       "version_major": 2,
       "version_minor": 0
      },
      "text/plain": [
       "Map:   0%|          | 0/7 [00:00<?, ? examples/s]"
      ]
     },
     "metadata": {},
     "output_type": "display_data"
    },
    {
     "data": {
      "application/vnd.jupyter.widget-view+json": {
       "model_id": "a21e97ebc45a4c95b0911654972d8bd0",
       "version_major": 2,
       "version_minor": 0
      },
      "text/plain": [
       "Map:   0%|          | 0/31 [00:00<?, ? examples/s]"
      ]
     },
     "metadata": {},
     "output_type": "display_data"
    },
    {
     "data": {
      "application/vnd.jupyter.widget-view+json": {
       "model_id": "5dc0ecebb2504e3cbba0e289c5e28442",
       "version_major": 2,
       "version_minor": 0
      },
      "text/plain": [
       "Map:   0%|          | 0/7 [00:00<?, ? examples/s]"
      ]
     },
     "metadata": {},
     "output_type": "display_data"
    },
    {
     "name": "stdout",
     "output_type": "stream",
     "text": [
      "StratifiedKFold(n_splits=5, random_state=None, shuffle=False)\n"
     ]
    },
    {
     "data": {
      "application/vnd.jupyter.widget-view+json": {
       "model_id": "16abf7b69505425a8b91b5c977f19322",
       "version_major": 2,
       "version_minor": 0
      },
      "text/plain": [
       "Map:   0%|          | 0/30 [00:00<?, ? examples/s]"
      ]
     },
     "metadata": {},
     "output_type": "display_data"
    },
    {
     "data": {
      "application/vnd.jupyter.widget-view+json": {
       "model_id": "ae8050c2376947c8be795881ed4b8669",
       "version_major": 2,
       "version_minor": 0
      },
      "text/plain": [
       "Map:   0%|          | 0/8 [00:00<?, ? examples/s]"
      ]
     },
     "metadata": {},
     "output_type": "display_data"
    },
    {
     "data": {
      "application/vnd.jupyter.widget-view+json": {
       "model_id": "88c336cb69ac429781a9cb446350404f",
       "version_major": 2,
       "version_minor": 0
      },
      "text/plain": [
       "Map:   0%|          | 0/30 [00:00<?, ? examples/s]"
      ]
     },
     "metadata": {},
     "output_type": "display_data"
    },
    {
     "data": {
      "application/vnd.jupyter.widget-view+json": {
       "model_id": "2555670467d9446dbe25a80f5832ec55",
       "version_major": 2,
       "version_minor": 0
      },
      "text/plain": [
       "Map:   0%|          | 0/8 [00:00<?, ? examples/s]"
      ]
     },
     "metadata": {},
     "output_type": "display_data"
    },
    {
     "data": {
      "application/vnd.jupyter.widget-view+json": {
       "model_id": "0a0f6e681d9144b7ade508c3c21e78f7",
       "version_major": 2,
       "version_minor": 0
      },
      "text/plain": [
       "Map:   0%|          | 0/30 [00:00<?, ? examples/s]"
      ]
     },
     "metadata": {},
     "output_type": "display_data"
    },
    {
     "data": {
      "application/vnd.jupyter.widget-view+json": {
       "model_id": "efc0641e96e04940a07f38e7691a539b",
       "version_major": 2,
       "version_minor": 0
      },
      "text/plain": [
       "Map:   0%|          | 0/8 [00:00<?, ? examples/s]"
      ]
     },
     "metadata": {},
     "output_type": "display_data"
    },
    {
     "data": {
      "application/vnd.jupyter.widget-view+json": {
       "model_id": "3d5b1d9c01f24624891c22b14b9a4771",
       "version_major": 2,
       "version_minor": 0
      },
      "text/plain": [
       "Map:   0%|          | 0/31 [00:00<?, ? examples/s]"
      ]
     },
     "metadata": {},
     "output_type": "display_data"
    },
    {
     "data": {
      "application/vnd.jupyter.widget-view+json": {
       "model_id": "064f776d7a394ebf97316ee870859dd5",
       "version_major": 2,
       "version_minor": 0
      },
      "text/plain": [
       "Map:   0%|          | 0/7 [00:00<?, ? examples/s]"
      ]
     },
     "metadata": {},
     "output_type": "display_data"
    },
    {
     "data": {
      "application/vnd.jupyter.widget-view+json": {
       "model_id": "593956e2012246a0aa2a7ecc8e774800",
       "version_major": 2,
       "version_minor": 0
      },
      "text/plain": [
       "Map:   0%|          | 0/31 [00:00<?, ? examples/s]"
      ]
     },
     "metadata": {},
     "output_type": "display_data"
    },
    {
     "data": {
      "application/vnd.jupyter.widget-view+json": {
       "model_id": "64b460e029fe4028863cc2633fd0e53a",
       "version_major": 2,
       "version_minor": 0
      },
      "text/plain": [
       "Map:   0%|          | 0/7 [00:00<?, ? examples/s]"
      ]
     },
     "metadata": {},
     "output_type": "display_data"
    },
    {
     "name": "stdout",
     "output_type": "stream",
     "text": [
      "StratifiedKFold(n_splits=5, random_state=None, shuffle=False)\n"
     ]
    },
    {
     "data": {
      "application/vnd.jupyter.widget-view+json": {
       "model_id": "5f0a74892b7e4d8ca3da9133262cefa2",
       "version_major": 2,
       "version_minor": 0
      },
      "text/plain": [
       "Map:   0%|          | 0/30 [00:00<?, ? examples/s]"
      ]
     },
     "metadata": {},
     "output_type": "display_data"
    },
    {
     "data": {
      "application/vnd.jupyter.widget-view+json": {
       "model_id": "68dc301a4f7e44058ded0169aa904d90",
       "version_major": 2,
       "version_minor": 0
      },
      "text/plain": [
       "Map:   0%|          | 0/8 [00:00<?, ? examples/s]"
      ]
     },
     "metadata": {},
     "output_type": "display_data"
    },
    {
     "data": {
      "application/vnd.jupyter.widget-view+json": {
       "model_id": "436611e09d2c4a9c84ac7eefc9296b9d",
       "version_major": 2,
       "version_minor": 0
      },
      "text/plain": [
       "Map:   0%|          | 0/30 [00:00<?, ? examples/s]"
      ]
     },
     "metadata": {},
     "output_type": "display_data"
    },
    {
     "data": {
      "application/vnd.jupyter.widget-view+json": {
       "model_id": "141253883d6346eb97ee5b2957c3625d",
       "version_major": 2,
       "version_minor": 0
      },
      "text/plain": [
       "Map:   0%|          | 0/8 [00:00<?, ? examples/s]"
      ]
     },
     "metadata": {},
     "output_type": "display_data"
    },
    {
     "data": {
      "application/vnd.jupyter.widget-view+json": {
       "model_id": "c927c0a0a04c4c0798ef5d6fb6db5cd0",
       "version_major": 2,
       "version_minor": 0
      },
      "text/plain": [
       "Map:   0%|          | 0/30 [00:00<?, ? examples/s]"
      ]
     },
     "metadata": {},
     "output_type": "display_data"
    },
    {
     "data": {
      "application/vnd.jupyter.widget-view+json": {
       "model_id": "f05069527a11405d882586000dfb7e52",
       "version_major": 2,
       "version_minor": 0
      },
      "text/plain": [
       "Map:   0%|          | 0/8 [00:00<?, ? examples/s]"
      ]
     },
     "metadata": {},
     "output_type": "display_data"
    },
    {
     "data": {
      "application/vnd.jupyter.widget-view+json": {
       "model_id": "da3b218ac5854333ae1de30284a4f720",
       "version_major": 2,
       "version_minor": 0
      },
      "text/plain": [
       "Map:   0%|          | 0/31 [00:00<?, ? examples/s]"
      ]
     },
     "metadata": {},
     "output_type": "display_data"
    },
    {
     "data": {
      "application/vnd.jupyter.widget-view+json": {
       "model_id": "5a2fc028ee0f4ae2afc6a18a93fbfac5",
       "version_major": 2,
       "version_minor": 0
      },
      "text/plain": [
       "Map:   0%|          | 0/7 [00:00<?, ? examples/s]"
      ]
     },
     "metadata": {},
     "output_type": "display_data"
    },
    {
     "data": {
      "application/vnd.jupyter.widget-view+json": {
       "model_id": "d9ff3726c9ae4b42862e5aa62d1fc356",
       "version_major": 2,
       "version_minor": 0
      },
      "text/plain": [
       "Map:   0%|          | 0/31 [00:00<?, ? examples/s]"
      ]
     },
     "metadata": {},
     "output_type": "display_data"
    },
    {
     "data": {
      "application/vnd.jupyter.widget-view+json": {
       "model_id": "2b77fce1a0d14f4fb07befac05e0ba68",
       "version_major": 2,
       "version_minor": 0
      },
      "text/plain": [
       "Map:   0%|          | 0/7 [00:00<?, ? examples/s]"
      ]
     },
     "metadata": {},
     "output_type": "display_data"
    },
    {
     "name": "stdout",
     "output_type": "stream",
     "text": [
      "StratifiedKFold(n_splits=5, random_state=None, shuffle=False)\n"
     ]
    },
    {
     "data": {
      "application/vnd.jupyter.widget-view+json": {
       "model_id": "1e60c8afacb1482f93c97138ffc9f3ef",
       "version_major": 2,
       "version_minor": 0
      },
      "text/plain": [
       "Map:   0%|          | 0/30 [00:00<?, ? examples/s]"
      ]
     },
     "metadata": {},
     "output_type": "display_data"
    },
    {
     "data": {
      "application/vnd.jupyter.widget-view+json": {
       "model_id": "911205beb2fb4277b84038f163846a23",
       "version_major": 2,
       "version_minor": 0
      },
      "text/plain": [
       "Map:   0%|          | 0/8 [00:00<?, ? examples/s]"
      ]
     },
     "metadata": {},
     "output_type": "display_data"
    },
    {
     "data": {
      "application/vnd.jupyter.widget-view+json": {
       "model_id": "81e7b1bcc6f14bf888e5ec48ec4b9c27",
       "version_major": 2,
       "version_minor": 0
      },
      "text/plain": [
       "Map:   0%|          | 0/30 [00:00<?, ? examples/s]"
      ]
     },
     "metadata": {},
     "output_type": "display_data"
    },
    {
     "data": {
      "application/vnd.jupyter.widget-view+json": {
       "model_id": "149d017ba4c7402f8142765c09e824b7",
       "version_major": 2,
       "version_minor": 0
      },
      "text/plain": [
       "Map:   0%|          | 0/8 [00:00<?, ? examples/s]"
      ]
     },
     "metadata": {},
     "output_type": "display_data"
    },
    {
     "data": {
      "application/vnd.jupyter.widget-view+json": {
       "model_id": "73a932eadf24498a88ce881e05c19c6f",
       "version_major": 2,
       "version_minor": 0
      },
      "text/plain": [
       "Map:   0%|          | 0/30 [00:00<?, ? examples/s]"
      ]
     },
     "metadata": {},
     "output_type": "display_data"
    },
    {
     "data": {
      "application/vnd.jupyter.widget-view+json": {
       "model_id": "b56344ae26a940df9669bb447284a45f",
       "version_major": 2,
       "version_minor": 0
      },
      "text/plain": [
       "Map:   0%|          | 0/8 [00:00<?, ? examples/s]"
      ]
     },
     "metadata": {},
     "output_type": "display_data"
    },
    {
     "data": {
      "application/vnd.jupyter.widget-view+json": {
       "model_id": "23122317181c4dd4b9219071b4b50555",
       "version_major": 2,
       "version_minor": 0
      },
      "text/plain": [
       "Map:   0%|          | 0/31 [00:00<?, ? examples/s]"
      ]
     },
     "metadata": {},
     "output_type": "display_data"
    },
    {
     "data": {
      "application/vnd.jupyter.widget-view+json": {
       "model_id": "10efe0f1bf7448e59f2bbe905cc346b5",
       "version_major": 2,
       "version_minor": 0
      },
      "text/plain": [
       "Map:   0%|          | 0/7 [00:00<?, ? examples/s]"
      ]
     },
     "metadata": {},
     "output_type": "display_data"
    },
    {
     "data": {
      "application/vnd.jupyter.widget-view+json": {
       "model_id": "676fef3482a64b86af874af2b5fadd37",
       "version_major": 2,
       "version_minor": 0
      },
      "text/plain": [
       "Map:   0%|          | 0/31 [00:00<?, ? examples/s]"
      ]
     },
     "metadata": {},
     "output_type": "display_data"
    },
    {
     "data": {
      "application/vnd.jupyter.widget-view+json": {
       "model_id": "c973cf422bb14d1f9181344d7da92cd1",
       "version_major": 2,
       "version_minor": 0
      },
      "text/plain": [
       "Map:   0%|          | 0/7 [00:00<?, ? examples/s]"
      ]
     },
     "metadata": {},
     "output_type": "display_data"
    },
    {
     "name": "stdout",
     "output_type": "stream",
     "text": [
      "StratifiedKFold(n_splits=5, random_state=None, shuffle=False)\n"
     ]
    },
    {
     "data": {
      "application/vnd.jupyter.widget-view+json": {
       "model_id": "04f2d0281783491791e5c96328f84f98",
       "version_major": 2,
       "version_minor": 0
      },
      "text/plain": [
       "Map:   0%|          | 0/30 [00:00<?, ? examples/s]"
      ]
     },
     "metadata": {},
     "output_type": "display_data"
    },
    {
     "data": {
      "application/vnd.jupyter.widget-view+json": {
       "model_id": "f75564803890458fbde42585805d6c55",
       "version_major": 2,
       "version_minor": 0
      },
      "text/plain": [
       "Map:   0%|          | 0/8 [00:00<?, ? examples/s]"
      ]
     },
     "metadata": {},
     "output_type": "display_data"
    },
    {
     "data": {
      "application/vnd.jupyter.widget-view+json": {
       "model_id": "2080b20de5c1402f87570f1ff6ddf5db",
       "version_major": 2,
       "version_minor": 0
      },
      "text/plain": [
       "Map:   0%|          | 0/30 [00:00<?, ? examples/s]"
      ]
     },
     "metadata": {},
     "output_type": "display_data"
    },
    {
     "data": {
      "application/vnd.jupyter.widget-view+json": {
       "model_id": "2660cf662f7144e099044ce4f64c0bc7",
       "version_major": 2,
       "version_minor": 0
      },
      "text/plain": [
       "Map:   0%|          | 0/8 [00:00<?, ? examples/s]"
      ]
     },
     "metadata": {},
     "output_type": "display_data"
    },
    {
     "data": {
      "application/vnd.jupyter.widget-view+json": {
       "model_id": "4be9b6e8d2454b0fac77a215fee1cc5b",
       "version_major": 2,
       "version_minor": 0
      },
      "text/plain": [
       "Map:   0%|          | 0/30 [00:00<?, ? examples/s]"
      ]
     },
     "metadata": {},
     "output_type": "display_data"
    },
    {
     "data": {
      "application/vnd.jupyter.widget-view+json": {
       "model_id": "cc1bbff1681944e98b72b64b2ff9f0b8",
       "version_major": 2,
       "version_minor": 0
      },
      "text/plain": [
       "Map:   0%|          | 0/8 [00:00<?, ? examples/s]"
      ]
     },
     "metadata": {},
     "output_type": "display_data"
    },
    {
     "data": {
      "application/vnd.jupyter.widget-view+json": {
       "model_id": "ec850f966b104b4c83dee1ceb0561d87",
       "version_major": 2,
       "version_minor": 0
      },
      "text/plain": [
       "Map:   0%|          | 0/31 [00:00<?, ? examples/s]"
      ]
     },
     "metadata": {},
     "output_type": "display_data"
    },
    {
     "data": {
      "application/vnd.jupyter.widget-view+json": {
       "model_id": "74f63ddd4a774040a6984655bddf378e",
       "version_major": 2,
       "version_minor": 0
      },
      "text/plain": [
       "Map:   0%|          | 0/7 [00:00<?, ? examples/s]"
      ]
     },
     "metadata": {},
     "output_type": "display_data"
    },
    {
     "data": {
      "application/vnd.jupyter.widget-view+json": {
       "model_id": "fd13623606d842ce85e4f641fefc84c5",
       "version_major": 2,
       "version_minor": 0
      },
      "text/plain": [
       "Map:   0%|          | 0/31 [00:00<?, ? examples/s]"
      ]
     },
     "metadata": {},
     "output_type": "display_data"
    },
    {
     "data": {
      "application/vnd.jupyter.widget-view+json": {
       "model_id": "fb9a21af9ad84bb99632c2fe867d425b",
       "version_major": 2,
       "version_minor": 0
      },
      "text/plain": [
       "Map:   0%|          | 0/7 [00:00<?, ? examples/s]"
      ]
     },
     "metadata": {},
     "output_type": "display_data"
    },
    {
     "name": "stdout",
     "output_type": "stream",
     "text": [
      "StratifiedKFold(n_splits=5, random_state=None, shuffle=False)\n"
     ]
    },
    {
     "data": {
      "application/vnd.jupyter.widget-view+json": {
       "model_id": "cf06cdee51464b1fa5af8eea686b7d80",
       "version_major": 2,
       "version_minor": 0
      },
      "text/plain": [
       "Map:   0%|          | 0/30 [00:00<?, ? examples/s]"
      ]
     },
     "metadata": {},
     "output_type": "display_data"
    },
    {
     "data": {
      "application/vnd.jupyter.widget-view+json": {
       "model_id": "4dface588bf84747bdaaaf2f5a5a40b2",
       "version_major": 2,
       "version_minor": 0
      },
      "text/plain": [
       "Map:   0%|          | 0/8 [00:00<?, ? examples/s]"
      ]
     },
     "metadata": {},
     "output_type": "display_data"
    },
    {
     "data": {
      "application/vnd.jupyter.widget-view+json": {
       "model_id": "39050bf0b8154564a1bcbcc32c2706de",
       "version_major": 2,
       "version_minor": 0
      },
      "text/plain": [
       "Map:   0%|          | 0/30 [00:00<?, ? examples/s]"
      ]
     },
     "metadata": {},
     "output_type": "display_data"
    },
    {
     "data": {
      "application/vnd.jupyter.widget-view+json": {
       "model_id": "e42fb794c2754b9e999bdac37034f390",
       "version_major": 2,
       "version_minor": 0
      },
      "text/plain": [
       "Map:   0%|          | 0/8 [00:00<?, ? examples/s]"
      ]
     },
     "metadata": {},
     "output_type": "display_data"
    },
    {
     "data": {
      "application/vnd.jupyter.widget-view+json": {
       "model_id": "370069e5e28f47b4af569dcb2c601879",
       "version_major": 2,
       "version_minor": 0
      },
      "text/plain": [
       "Map:   0%|          | 0/30 [00:00<?, ? examples/s]"
      ]
     },
     "metadata": {},
     "output_type": "display_data"
    },
    {
     "data": {
      "application/vnd.jupyter.widget-view+json": {
       "model_id": "306fe3f6ff7b4b3fbd40bfe4e28de748",
       "version_major": 2,
       "version_minor": 0
      },
      "text/plain": [
       "Map:   0%|          | 0/8 [00:00<?, ? examples/s]"
      ]
     },
     "metadata": {},
     "output_type": "display_data"
    },
    {
     "data": {
      "application/vnd.jupyter.widget-view+json": {
       "model_id": "d99aa2c99c6e4defaab1cd80d1e9f813",
       "version_major": 2,
       "version_minor": 0
      },
      "text/plain": [
       "Map:   0%|          | 0/31 [00:00<?, ? examples/s]"
      ]
     },
     "metadata": {},
     "output_type": "display_data"
    },
    {
     "data": {
      "application/vnd.jupyter.widget-view+json": {
       "model_id": "5e657ca103594bbfbaf8a7ac2a06c3ff",
       "version_major": 2,
       "version_minor": 0
      },
      "text/plain": [
       "Map:   0%|          | 0/7 [00:00<?, ? examples/s]"
      ]
     },
     "metadata": {},
     "output_type": "display_data"
    },
    {
     "data": {
      "application/vnd.jupyter.widget-view+json": {
       "model_id": "9cb05b11b5ac40dd9c69b84eacfa5fb9",
       "version_major": 2,
       "version_minor": 0
      },
      "text/plain": [
       "Map:   0%|          | 0/31 [00:00<?, ? examples/s]"
      ]
     },
     "metadata": {},
     "output_type": "display_data"
    },
    {
     "data": {
      "application/vnd.jupyter.widget-view+json": {
       "model_id": "507fec4d735b4c12b3c788eca1666d61",
       "version_major": 2,
       "version_minor": 0
      },
      "text/plain": [
       "Map:   0%|          | 0/7 [00:00<?, ? examples/s]"
      ]
     },
     "metadata": {},
     "output_type": "display_data"
    },
    {
     "name": "stdout",
     "output_type": "stream",
     "text": [
      "StratifiedKFold(n_splits=5, random_state=None, shuffle=False)\n"
     ]
    },
    {
     "data": {
      "application/vnd.jupyter.widget-view+json": {
       "model_id": "0c4ec95a2ae0420ca558e6650d9e4e8f",
       "version_major": 2,
       "version_minor": 0
      },
      "text/plain": [
       "Map:   0%|          | 0/30 [00:00<?, ? examples/s]"
      ]
     },
     "metadata": {},
     "output_type": "display_data"
    },
    {
     "data": {
      "application/vnd.jupyter.widget-view+json": {
       "model_id": "647c932a59694f27b1d9dbfa7b659979",
       "version_major": 2,
       "version_minor": 0
      },
      "text/plain": [
       "Map:   0%|          | 0/8 [00:00<?, ? examples/s]"
      ]
     },
     "metadata": {},
     "output_type": "display_data"
    },
    {
     "data": {
      "application/vnd.jupyter.widget-view+json": {
       "model_id": "9559de7880404599bb31d3e37c6623da",
       "version_major": 2,
       "version_minor": 0
      },
      "text/plain": [
       "Map:   0%|          | 0/30 [00:00<?, ? examples/s]"
      ]
     },
     "metadata": {},
     "output_type": "display_data"
    },
    {
     "data": {
      "application/vnd.jupyter.widget-view+json": {
       "model_id": "ff1d2be082cc47c6891e9ff54b00f616",
       "version_major": 2,
       "version_minor": 0
      },
      "text/plain": [
       "Map:   0%|          | 0/8 [00:00<?, ? examples/s]"
      ]
     },
     "metadata": {},
     "output_type": "display_data"
    },
    {
     "data": {
      "application/vnd.jupyter.widget-view+json": {
       "model_id": "4b3c67e0baac4877bfb4156f332f6dfe",
       "version_major": 2,
       "version_minor": 0
      },
      "text/plain": [
       "Map:   0%|          | 0/30 [00:00<?, ? examples/s]"
      ]
     },
     "metadata": {},
     "output_type": "display_data"
    },
    {
     "data": {
      "application/vnd.jupyter.widget-view+json": {
       "model_id": "599ead5013bb471b948431276a717bdb",
       "version_major": 2,
       "version_minor": 0
      },
      "text/plain": [
       "Map:   0%|          | 0/8 [00:00<?, ? examples/s]"
      ]
     },
     "metadata": {},
     "output_type": "display_data"
    },
    {
     "data": {
      "application/vnd.jupyter.widget-view+json": {
       "model_id": "188ef5a0bf274084bb87d9927d6aec7c",
       "version_major": 2,
       "version_minor": 0
      },
      "text/plain": [
       "Map:   0%|          | 0/31 [00:00<?, ? examples/s]"
      ]
     },
     "metadata": {},
     "output_type": "display_data"
    },
    {
     "data": {
      "application/vnd.jupyter.widget-view+json": {
       "model_id": "d929730167284596af712ff0f46e1b9a",
       "version_major": 2,
       "version_minor": 0
      },
      "text/plain": [
       "Map:   0%|          | 0/7 [00:00<?, ? examples/s]"
      ]
     },
     "metadata": {},
     "output_type": "display_data"
    },
    {
     "data": {
      "application/vnd.jupyter.widget-view+json": {
       "model_id": "c9c1f0c475a5455583ea4d7c4f7e41d8",
       "version_major": 2,
       "version_minor": 0
      },
      "text/plain": [
       "Map:   0%|          | 0/31 [00:00<?, ? examples/s]"
      ]
     },
     "metadata": {},
     "output_type": "display_data"
    },
    {
     "data": {
      "application/vnd.jupyter.widget-view+json": {
       "model_id": "5017966d7ba24f9c83d716cfd3770735",
       "version_major": 2,
       "version_minor": 0
      },
      "text/plain": [
       "Map:   0%|          | 0/7 [00:00<?, ? examples/s]"
      ]
     },
     "metadata": {},
     "output_type": "display_data"
    },
    {
     "name": "stdout",
     "output_type": "stream",
     "text": [
      "StratifiedKFold(n_splits=5, random_state=None, shuffle=False)\n"
     ]
    },
    {
     "data": {
      "application/vnd.jupyter.widget-view+json": {
       "model_id": "6524537d6d7f4ea0bfc2acc001b6fa97",
       "version_major": 2,
       "version_minor": 0
      },
      "text/plain": [
       "Map:   0%|          | 0/30 [00:00<?, ? examples/s]"
      ]
     },
     "metadata": {},
     "output_type": "display_data"
    },
    {
     "data": {
      "application/vnd.jupyter.widget-view+json": {
       "model_id": "3f0a30ab979d400c802d66732856e89c",
       "version_major": 2,
       "version_minor": 0
      },
      "text/plain": [
       "Map:   0%|          | 0/8 [00:00<?, ? examples/s]"
      ]
     },
     "metadata": {},
     "output_type": "display_data"
    },
    {
     "data": {
      "application/vnd.jupyter.widget-view+json": {
       "model_id": "249e763b847d471a87300c586f3b9b48",
       "version_major": 2,
       "version_minor": 0
      },
      "text/plain": [
       "Map:   0%|          | 0/30 [00:00<?, ? examples/s]"
      ]
     },
     "metadata": {},
     "output_type": "display_data"
    },
    {
     "data": {
      "application/vnd.jupyter.widget-view+json": {
       "model_id": "d24fc2cc74eb4086a5a099303c911a5c",
       "version_major": 2,
       "version_minor": 0
      },
      "text/plain": [
       "Map:   0%|          | 0/8 [00:00<?, ? examples/s]"
      ]
     },
     "metadata": {},
     "output_type": "display_data"
    },
    {
     "data": {
      "application/vnd.jupyter.widget-view+json": {
       "model_id": "321ae98f7df945ce8906ba95bc32a741",
       "version_major": 2,
       "version_minor": 0
      },
      "text/plain": [
       "Map:   0%|          | 0/30 [00:00<?, ? examples/s]"
      ]
     },
     "metadata": {},
     "output_type": "display_data"
    },
    {
     "data": {
      "application/vnd.jupyter.widget-view+json": {
       "model_id": "d61a90c5105c46d992f0d04bf8f9036b",
       "version_major": 2,
       "version_minor": 0
      },
      "text/plain": [
       "Map:   0%|          | 0/8 [00:00<?, ? examples/s]"
      ]
     },
     "metadata": {},
     "output_type": "display_data"
    },
    {
     "data": {
      "application/vnd.jupyter.widget-view+json": {
       "model_id": "3e615bf0b9754f0a9e949c94238ac847",
       "version_major": 2,
       "version_minor": 0
      },
      "text/plain": [
       "Map:   0%|          | 0/31 [00:00<?, ? examples/s]"
      ]
     },
     "metadata": {},
     "output_type": "display_data"
    },
    {
     "data": {
      "application/vnd.jupyter.widget-view+json": {
       "model_id": "b3539ab19d9a4f1883a9cf12fde7bac4",
       "version_major": 2,
       "version_minor": 0
      },
      "text/plain": [
       "Map:   0%|          | 0/7 [00:00<?, ? examples/s]"
      ]
     },
     "metadata": {},
     "output_type": "display_data"
    },
    {
     "data": {
      "application/vnd.jupyter.widget-view+json": {
       "model_id": "cd7c2c142e5849a9b1d67a906682ae4f",
       "version_major": 2,
       "version_minor": 0
      },
      "text/plain": [
       "Map:   0%|          | 0/31 [00:00<?, ? examples/s]"
      ]
     },
     "metadata": {},
     "output_type": "display_data"
    },
    {
     "data": {
      "application/vnd.jupyter.widget-view+json": {
       "model_id": "1670b5b5c33c4bcebfc50aa1b7e3fa6b",
       "version_major": 2,
       "version_minor": 0
      },
      "text/plain": [
       "Map:   0%|          | 0/7 [00:00<?, ? examples/s]"
      ]
     },
     "metadata": {},
     "output_type": "display_data"
    },
    {
     "name": "stdout",
     "output_type": "stream",
     "text": [
      "StratifiedKFold(n_splits=5, random_state=None, shuffle=False)\n"
     ]
    },
    {
     "data": {
      "application/vnd.jupyter.widget-view+json": {
       "model_id": "0a8a3c906bb04c80bf55efb606a6085d",
       "version_major": 2,
       "version_minor": 0
      },
      "text/plain": [
       "Map:   0%|          | 0/30 [00:00<?, ? examples/s]"
      ]
     },
     "metadata": {},
     "output_type": "display_data"
    },
    {
     "data": {
      "application/vnd.jupyter.widget-view+json": {
       "model_id": "4ba9ce338e7a40939cf6ad8106d5c01d",
       "version_major": 2,
       "version_minor": 0
      },
      "text/plain": [
       "Map:   0%|          | 0/8 [00:00<?, ? examples/s]"
      ]
     },
     "metadata": {},
     "output_type": "display_data"
    },
    {
     "data": {
      "application/vnd.jupyter.widget-view+json": {
       "model_id": "9cc616487a1e4cb488d8d882cecbc8cb",
       "version_major": 2,
       "version_minor": 0
      },
      "text/plain": [
       "Map:   0%|          | 0/30 [00:00<?, ? examples/s]"
      ]
     },
     "metadata": {},
     "output_type": "display_data"
    },
    {
     "data": {
      "application/vnd.jupyter.widget-view+json": {
       "model_id": "ada389530af240f59f5a4aad11a2115a",
       "version_major": 2,
       "version_minor": 0
      },
      "text/plain": [
       "Map:   0%|          | 0/8 [00:00<?, ? examples/s]"
      ]
     },
     "metadata": {},
     "output_type": "display_data"
    },
    {
     "data": {
      "application/vnd.jupyter.widget-view+json": {
       "model_id": "85830f44d3ce465795636f0c9fcc4a78",
       "version_major": 2,
       "version_minor": 0
      },
      "text/plain": [
       "Map:   0%|          | 0/30 [00:00<?, ? examples/s]"
      ]
     },
     "metadata": {},
     "output_type": "display_data"
    },
    {
     "data": {
      "application/vnd.jupyter.widget-view+json": {
       "model_id": "c680a92af0554ab5acae7252203e2b07",
       "version_major": 2,
       "version_minor": 0
      },
      "text/plain": [
       "Map:   0%|          | 0/8 [00:00<?, ? examples/s]"
      ]
     },
     "metadata": {},
     "output_type": "display_data"
    },
    {
     "data": {
      "application/vnd.jupyter.widget-view+json": {
       "model_id": "b44753336f814837bd6763e07d19dbd6",
       "version_major": 2,
       "version_minor": 0
      },
      "text/plain": [
       "Map:   0%|          | 0/31 [00:00<?, ? examples/s]"
      ]
     },
     "metadata": {},
     "output_type": "display_data"
    },
    {
     "data": {
      "application/vnd.jupyter.widget-view+json": {
       "model_id": "96ff581377314da782059ff3bfe540a0",
       "version_major": 2,
       "version_minor": 0
      },
      "text/plain": [
       "Map:   0%|          | 0/7 [00:00<?, ? examples/s]"
      ]
     },
     "metadata": {},
     "output_type": "display_data"
    },
    {
     "data": {
      "application/vnd.jupyter.widget-view+json": {
       "model_id": "923280eaef614294b2b36f3b5aee9b7a",
       "version_major": 2,
       "version_minor": 0
      },
      "text/plain": [
       "Map:   0%|          | 0/31 [00:00<?, ? examples/s]"
      ]
     },
     "metadata": {},
     "output_type": "display_data"
    },
    {
     "data": {
      "application/vnd.jupyter.widget-view+json": {
       "model_id": "9cbf54343edf48d8b2bc625e13e4b725",
       "version_major": 2,
       "version_minor": 0
      },
      "text/plain": [
       "Map:   0%|          | 0/7 [00:00<?, ? examples/s]"
      ]
     },
     "metadata": {},
     "output_type": "display_data"
    },
    {
     "name": "stdout",
     "output_type": "stream",
     "text": [
      "StratifiedKFold(n_splits=5, random_state=None, shuffle=False)\n"
     ]
    },
    {
     "data": {
      "application/vnd.jupyter.widget-view+json": {
       "model_id": "e4bb2e82639847128c913769adb8e9ea",
       "version_major": 2,
       "version_minor": 0
      },
      "text/plain": [
       "Map:   0%|          | 0/30 [00:00<?, ? examples/s]"
      ]
     },
     "metadata": {},
     "output_type": "display_data"
    },
    {
     "data": {
      "application/vnd.jupyter.widget-view+json": {
       "model_id": "193692bb4f124de4ba6ed7fd6bcecfa6",
       "version_major": 2,
       "version_minor": 0
      },
      "text/plain": [
       "Map:   0%|          | 0/8 [00:00<?, ? examples/s]"
      ]
     },
     "metadata": {},
     "output_type": "display_data"
    },
    {
     "data": {
      "application/vnd.jupyter.widget-view+json": {
       "model_id": "43d3a02247b148b78ed205eb336f6e71",
       "version_major": 2,
       "version_minor": 0
      },
      "text/plain": [
       "Map:   0%|          | 0/30 [00:00<?, ? examples/s]"
      ]
     },
     "metadata": {},
     "output_type": "display_data"
    },
    {
     "data": {
      "application/vnd.jupyter.widget-view+json": {
       "model_id": "e29ad007fb7d4db8ace38c3892a6384b",
       "version_major": 2,
       "version_minor": 0
      },
      "text/plain": [
       "Map:   0%|          | 0/8 [00:00<?, ? examples/s]"
      ]
     },
     "metadata": {},
     "output_type": "display_data"
    },
    {
     "data": {
      "application/vnd.jupyter.widget-view+json": {
       "model_id": "1bf84de98d884ab9b87a51d462c66bc4",
       "version_major": 2,
       "version_minor": 0
      },
      "text/plain": [
       "Map:   0%|          | 0/30 [00:00<?, ? examples/s]"
      ]
     },
     "metadata": {},
     "output_type": "display_data"
    },
    {
     "data": {
      "application/vnd.jupyter.widget-view+json": {
       "model_id": "62a01b29aeb34e74b57b877356cecf21",
       "version_major": 2,
       "version_minor": 0
      },
      "text/plain": [
       "Map:   0%|          | 0/8 [00:00<?, ? examples/s]"
      ]
     },
     "metadata": {},
     "output_type": "display_data"
    },
    {
     "data": {
      "application/vnd.jupyter.widget-view+json": {
       "model_id": "87e7dd019e70469cb1dc87aa30bb58f1",
       "version_major": 2,
       "version_minor": 0
      },
      "text/plain": [
       "Map:   0%|          | 0/31 [00:00<?, ? examples/s]"
      ]
     },
     "metadata": {},
     "output_type": "display_data"
    },
    {
     "data": {
      "application/vnd.jupyter.widget-view+json": {
       "model_id": "9e2c0d85527c4e978b924767a8ae8e94",
       "version_major": 2,
       "version_minor": 0
      },
      "text/plain": [
       "Map:   0%|          | 0/7 [00:00<?, ? examples/s]"
      ]
     },
     "metadata": {},
     "output_type": "display_data"
    },
    {
     "data": {
      "application/vnd.jupyter.widget-view+json": {
       "model_id": "ec0b0358982a45a4b49b47f7219d99fe",
       "version_major": 2,
       "version_minor": 0
      },
      "text/plain": [
       "Map:   0%|          | 0/31 [00:00<?, ? examples/s]"
      ]
     },
     "metadata": {},
     "output_type": "display_data"
    },
    {
     "data": {
      "application/vnd.jupyter.widget-view+json": {
       "model_id": "63ede6365c294918b9a623422ca0dbaa",
       "version_major": 2,
       "version_minor": 0
      },
      "text/plain": [
       "Map:   0%|          | 0/7 [00:00<?, ? examples/s]"
      ]
     },
     "metadata": {},
     "output_type": "display_data"
    },
    {
     "name": "stdout",
     "output_type": "stream",
     "text": [
      "StratifiedKFold(n_splits=5, random_state=None, shuffle=False)\n"
     ]
    },
    {
     "data": {
      "application/vnd.jupyter.widget-view+json": {
       "model_id": "669a835d3226408a997b60b0c4c8bdb9",
       "version_major": 2,
       "version_minor": 0
      },
      "text/plain": [
       "Map:   0%|          | 0/30 [00:00<?, ? examples/s]"
      ]
     },
     "metadata": {},
     "output_type": "display_data"
    },
    {
     "data": {
      "application/vnd.jupyter.widget-view+json": {
       "model_id": "361d339166e64794b5a091769d7dff2b",
       "version_major": 2,
       "version_minor": 0
      },
      "text/plain": [
       "Map:   0%|          | 0/8 [00:00<?, ? examples/s]"
      ]
     },
     "metadata": {},
     "output_type": "display_data"
    },
    {
     "data": {
      "application/vnd.jupyter.widget-view+json": {
       "model_id": "067a29c15850452894ae6762601d08a1",
       "version_major": 2,
       "version_minor": 0
      },
      "text/plain": [
       "Map:   0%|          | 0/30 [00:00<?, ? examples/s]"
      ]
     },
     "metadata": {},
     "output_type": "display_data"
    },
    {
     "data": {
      "application/vnd.jupyter.widget-view+json": {
       "model_id": "e4fefd22a883468a8a2d57263a088825",
       "version_major": 2,
       "version_minor": 0
      },
      "text/plain": [
       "Map:   0%|          | 0/8 [00:00<?, ? examples/s]"
      ]
     },
     "metadata": {},
     "output_type": "display_data"
    },
    {
     "data": {
      "application/vnd.jupyter.widget-view+json": {
       "model_id": "1964aa1703a34618a2201ab35ac007fc",
       "version_major": 2,
       "version_minor": 0
      },
      "text/plain": [
       "Map:   0%|          | 0/30 [00:00<?, ? examples/s]"
      ]
     },
     "metadata": {},
     "output_type": "display_data"
    },
    {
     "data": {
      "application/vnd.jupyter.widget-view+json": {
       "model_id": "44f15ce46307480ba05e4acef778cd40",
       "version_major": 2,
       "version_minor": 0
      },
      "text/plain": [
       "Map:   0%|          | 0/8 [00:00<?, ? examples/s]"
      ]
     },
     "metadata": {},
     "output_type": "display_data"
    },
    {
     "data": {
      "application/vnd.jupyter.widget-view+json": {
       "model_id": "73a862cc5cca49c087910a2245dd5668",
       "version_major": 2,
       "version_minor": 0
      },
      "text/plain": [
       "Map:   0%|          | 0/31 [00:00<?, ? examples/s]"
      ]
     },
     "metadata": {},
     "output_type": "display_data"
    },
    {
     "data": {
      "application/vnd.jupyter.widget-view+json": {
       "model_id": "9c89bd517a4d47fd978e32f0384d5dcf",
       "version_major": 2,
       "version_minor": 0
      },
      "text/plain": [
       "Map:   0%|          | 0/7 [00:00<?, ? examples/s]"
      ]
     },
     "metadata": {},
     "output_type": "display_data"
    },
    {
     "data": {
      "application/vnd.jupyter.widget-view+json": {
       "model_id": "6f20712faf124bfea91840de91196001",
       "version_major": 2,
       "version_minor": 0
      },
      "text/plain": [
       "Map:   0%|          | 0/31 [00:00<?, ? examples/s]"
      ]
     },
     "metadata": {},
     "output_type": "display_data"
    },
    {
     "data": {
      "application/vnd.jupyter.widget-view+json": {
       "model_id": "25447552405f4e598c4cc521b7449b29",
       "version_major": 2,
       "version_minor": 0
      },
      "text/plain": [
       "Map:   0%|          | 0/7 [00:00<?, ? examples/s]"
      ]
     },
     "metadata": {},
     "output_type": "display_data"
    },
    {
     "name": "stdout",
     "output_type": "stream",
     "text": [
      "StratifiedKFold(n_splits=5, random_state=None, shuffle=False)\n"
     ]
    },
    {
     "data": {
      "application/vnd.jupyter.widget-view+json": {
       "model_id": "59a0cbe97a984986a9ae75d5d7948693",
       "version_major": 2,
       "version_minor": 0
      },
      "text/plain": [
       "Map:   0%|          | 0/30 [00:00<?, ? examples/s]"
      ]
     },
     "metadata": {},
     "output_type": "display_data"
    },
    {
     "data": {
      "application/vnd.jupyter.widget-view+json": {
       "model_id": "679b80c6a3af4a719fe0978b11055954",
       "version_major": 2,
       "version_minor": 0
      },
      "text/plain": [
       "Map:   0%|          | 0/8 [00:00<?, ? examples/s]"
      ]
     },
     "metadata": {},
     "output_type": "display_data"
    },
    {
     "data": {
      "application/vnd.jupyter.widget-view+json": {
       "model_id": "47aff637af25498cb16916e1601f990a",
       "version_major": 2,
       "version_minor": 0
      },
      "text/plain": [
       "Map:   0%|          | 0/30 [00:00<?, ? examples/s]"
      ]
     },
     "metadata": {},
     "output_type": "display_data"
    },
    {
     "data": {
      "application/vnd.jupyter.widget-view+json": {
       "model_id": "098468b7d4134a3680fbcb2600f5f007",
       "version_major": 2,
       "version_minor": 0
      },
      "text/plain": [
       "Map:   0%|          | 0/8 [00:00<?, ? examples/s]"
      ]
     },
     "metadata": {},
     "output_type": "display_data"
    },
    {
     "data": {
      "application/vnd.jupyter.widget-view+json": {
       "model_id": "283dd379440449a18e0462c2ba3ecb41",
       "version_major": 2,
       "version_minor": 0
      },
      "text/plain": [
       "Map:   0%|          | 0/30 [00:00<?, ? examples/s]"
      ]
     },
     "metadata": {},
     "output_type": "display_data"
    },
    {
     "data": {
      "application/vnd.jupyter.widget-view+json": {
       "model_id": "2c3bfb696f6c48d181f7ab9b7e4a16a6",
       "version_major": 2,
       "version_minor": 0
      },
      "text/plain": [
       "Map:   0%|          | 0/8 [00:00<?, ? examples/s]"
      ]
     },
     "metadata": {},
     "output_type": "display_data"
    },
    {
     "data": {
      "application/vnd.jupyter.widget-view+json": {
       "model_id": "82c989afd9834ae4a69990c677b25265",
       "version_major": 2,
       "version_minor": 0
      },
      "text/plain": [
       "Map:   0%|          | 0/31 [00:00<?, ? examples/s]"
      ]
     },
     "metadata": {},
     "output_type": "display_data"
    },
    {
     "data": {
      "application/vnd.jupyter.widget-view+json": {
       "model_id": "607395b488ba47f18047704f839540df",
       "version_major": 2,
       "version_minor": 0
      },
      "text/plain": [
       "Map:   0%|          | 0/7 [00:00<?, ? examples/s]"
      ]
     },
     "metadata": {},
     "output_type": "display_data"
    },
    {
     "data": {
      "application/vnd.jupyter.widget-view+json": {
       "model_id": "64dc08bb28e346399ca458930a82737d",
       "version_major": 2,
       "version_minor": 0
      },
      "text/plain": [
       "Map:   0%|          | 0/31 [00:00<?, ? examples/s]"
      ]
     },
     "metadata": {},
     "output_type": "display_data"
    },
    {
     "data": {
      "application/vnd.jupyter.widget-view+json": {
       "model_id": "599eefcdb1aa4bbc8bb5d14f426ad055",
       "version_major": 2,
       "version_minor": 0
      },
      "text/plain": [
       "Map:   0%|          | 0/7 [00:00<?, ? examples/s]"
      ]
     },
     "metadata": {},
     "output_type": "display_data"
    },
    {
     "name": "stdout",
     "output_type": "stream",
     "text": [
      "StratifiedKFold(n_splits=5, random_state=None, shuffle=False)\n"
     ]
    },
    {
     "data": {
      "application/vnd.jupyter.widget-view+json": {
       "model_id": "11580e20c84a4136bcdc61f139468ddf",
       "version_major": 2,
       "version_minor": 0
      },
      "text/plain": [
       "Map:   0%|          | 0/30 [00:00<?, ? examples/s]"
      ]
     },
     "metadata": {},
     "output_type": "display_data"
    },
    {
     "data": {
      "application/vnd.jupyter.widget-view+json": {
       "model_id": "e3c6ecdb81f044e2807628c6fc6a14a2",
       "version_major": 2,
       "version_minor": 0
      },
      "text/plain": [
       "Map:   0%|          | 0/8 [00:00<?, ? examples/s]"
      ]
     },
     "metadata": {},
     "output_type": "display_data"
    },
    {
     "data": {
      "application/vnd.jupyter.widget-view+json": {
       "model_id": "007046291fb845a0bd4e13bb6a472815",
       "version_major": 2,
       "version_minor": 0
      },
      "text/plain": [
       "Map:   0%|          | 0/30 [00:00<?, ? examples/s]"
      ]
     },
     "metadata": {},
     "output_type": "display_data"
    },
    {
     "data": {
      "application/vnd.jupyter.widget-view+json": {
       "model_id": "6bff7d17d5ad4ae3848d52b97cce8bf7",
       "version_major": 2,
       "version_minor": 0
      },
      "text/plain": [
       "Map:   0%|          | 0/8 [00:00<?, ? examples/s]"
      ]
     },
     "metadata": {},
     "output_type": "display_data"
    },
    {
     "data": {
      "application/vnd.jupyter.widget-view+json": {
       "model_id": "444c746f790d47a894e861c72165a0b2",
       "version_major": 2,
       "version_minor": 0
      },
      "text/plain": [
       "Map:   0%|          | 0/30 [00:00<?, ? examples/s]"
      ]
     },
     "metadata": {},
     "output_type": "display_data"
    },
    {
     "data": {
      "application/vnd.jupyter.widget-view+json": {
       "model_id": "257ca5af987349d9b572e6e025a890be",
       "version_major": 2,
       "version_minor": 0
      },
      "text/plain": [
       "Map:   0%|          | 0/8 [00:00<?, ? examples/s]"
      ]
     },
     "metadata": {},
     "output_type": "display_data"
    },
    {
     "data": {
      "application/vnd.jupyter.widget-view+json": {
       "model_id": "6d0809e590c94b4e9d37b96ff2bd9448",
       "version_major": 2,
       "version_minor": 0
      },
      "text/plain": [
       "Map:   0%|          | 0/31 [00:00<?, ? examples/s]"
      ]
     },
     "metadata": {},
     "output_type": "display_data"
    },
    {
     "data": {
      "application/vnd.jupyter.widget-view+json": {
       "model_id": "c865237c7dc7435dbab8b64a26a58857",
       "version_major": 2,
       "version_minor": 0
      },
      "text/plain": [
       "Map:   0%|          | 0/7 [00:00<?, ? examples/s]"
      ]
     },
     "metadata": {},
     "output_type": "display_data"
    },
    {
     "data": {
      "application/vnd.jupyter.widget-view+json": {
       "model_id": "ff0c7613414740f5aeaaf9619da2c1df",
       "version_major": 2,
       "version_minor": 0
      },
      "text/plain": [
       "Map:   0%|          | 0/31 [00:00<?, ? examples/s]"
      ]
     },
     "metadata": {},
     "output_type": "display_data"
    },
    {
     "data": {
      "application/vnd.jupyter.widget-view+json": {
       "model_id": "4e539fabe2344ee697e934d2a1fcb251",
       "version_major": 2,
       "version_minor": 0
      },
      "text/plain": [
       "Map:   0%|          | 0/7 [00:00<?, ? examples/s]"
      ]
     },
     "metadata": {},
     "output_type": "display_data"
    },
    {
     "name": "stdout",
     "output_type": "stream",
     "text": [
      "StratifiedKFold(n_splits=5, random_state=None, shuffle=False)\n"
     ]
    },
    {
     "data": {
      "application/vnd.jupyter.widget-view+json": {
       "model_id": "98fa44bf8ca943eca0149f5b535eae4e",
       "version_major": 2,
       "version_minor": 0
      },
      "text/plain": [
       "Map:   0%|          | 0/30 [00:00<?, ? examples/s]"
      ]
     },
     "metadata": {},
     "output_type": "display_data"
    },
    {
     "data": {
      "application/vnd.jupyter.widget-view+json": {
       "model_id": "4a3f10484f044eb486e880ac903c9404",
       "version_major": 2,
       "version_minor": 0
      },
      "text/plain": [
       "Map:   0%|          | 0/8 [00:00<?, ? examples/s]"
      ]
     },
     "metadata": {},
     "output_type": "display_data"
    },
    {
     "data": {
      "application/vnd.jupyter.widget-view+json": {
       "model_id": "6063295ed4024cb6bc213a994af3aa6f",
       "version_major": 2,
       "version_minor": 0
      },
      "text/plain": [
       "Map:   0%|          | 0/30 [00:00<?, ? examples/s]"
      ]
     },
     "metadata": {},
     "output_type": "display_data"
    },
    {
     "data": {
      "application/vnd.jupyter.widget-view+json": {
       "model_id": "3812f2b06b20444099b8970d740fcfc4",
       "version_major": 2,
       "version_minor": 0
      },
      "text/plain": [
       "Map:   0%|          | 0/8 [00:00<?, ? examples/s]"
      ]
     },
     "metadata": {},
     "output_type": "display_data"
    },
    {
     "data": {
      "application/vnd.jupyter.widget-view+json": {
       "model_id": "ac181ace12c04a8c82705e8ea5a757b5",
       "version_major": 2,
       "version_minor": 0
      },
      "text/plain": [
       "Map:   0%|          | 0/30 [00:00<?, ? examples/s]"
      ]
     },
     "metadata": {},
     "output_type": "display_data"
    },
    {
     "data": {
      "application/vnd.jupyter.widget-view+json": {
       "model_id": "24559297f68544cdb53f684dac6a1885",
       "version_major": 2,
       "version_minor": 0
      },
      "text/plain": [
       "Map:   0%|          | 0/8 [00:00<?, ? examples/s]"
      ]
     },
     "metadata": {},
     "output_type": "display_data"
    },
    {
     "data": {
      "application/vnd.jupyter.widget-view+json": {
       "model_id": "0e1c84ddfdcd44e3bd622692311bb3dc",
       "version_major": 2,
       "version_minor": 0
      },
      "text/plain": [
       "Map:   0%|          | 0/31 [00:00<?, ? examples/s]"
      ]
     },
     "metadata": {},
     "output_type": "display_data"
    },
    {
     "data": {
      "application/vnd.jupyter.widget-view+json": {
       "model_id": "8bf9c1d3f29b4f358f82c133edf82696",
       "version_major": 2,
       "version_minor": 0
      },
      "text/plain": [
       "Map:   0%|          | 0/7 [00:00<?, ? examples/s]"
      ]
     },
     "metadata": {},
     "output_type": "display_data"
    },
    {
     "data": {
      "application/vnd.jupyter.widget-view+json": {
       "model_id": "24b0fca1cc004de8ba3acc09b2c60bf4",
       "version_major": 2,
       "version_minor": 0
      },
      "text/plain": [
       "Map:   0%|          | 0/31 [00:00<?, ? examples/s]"
      ]
     },
     "metadata": {},
     "output_type": "display_data"
    },
    {
     "data": {
      "application/vnd.jupyter.widget-view+json": {
       "model_id": "b3046cc0c88e4e1f89d7b3a17029e6ad",
       "version_major": 2,
       "version_minor": 0
      },
      "text/plain": [
       "Map:   0%|          | 0/7 [00:00<?, ? examples/s]"
      ]
     },
     "metadata": {},
     "output_type": "display_data"
    },
    {
     "name": "stdout",
     "output_type": "stream",
     "text": [
      "StratifiedKFold(n_splits=5, random_state=None, shuffle=False)\n"
     ]
    },
    {
     "data": {
      "application/vnd.jupyter.widget-view+json": {
       "model_id": "14445d6745e84d85ad348614f0833f07",
       "version_major": 2,
       "version_minor": 0
      },
      "text/plain": [
       "Map:   0%|          | 0/30 [00:00<?, ? examples/s]"
      ]
     },
     "metadata": {},
     "output_type": "display_data"
    },
    {
     "data": {
      "application/vnd.jupyter.widget-view+json": {
       "model_id": "d12651fdfe9f49b0aa99435b4544dff7",
       "version_major": 2,
       "version_minor": 0
      },
      "text/plain": [
       "Map:   0%|          | 0/8 [00:00<?, ? examples/s]"
      ]
     },
     "metadata": {},
     "output_type": "display_data"
    },
    {
     "data": {
      "application/vnd.jupyter.widget-view+json": {
       "model_id": "f9d899a7acc34d958ec8b2a40ba8faec",
       "version_major": 2,
       "version_minor": 0
      },
      "text/plain": [
       "Map:   0%|          | 0/30 [00:00<?, ? examples/s]"
      ]
     },
     "metadata": {},
     "output_type": "display_data"
    },
    {
     "data": {
      "application/vnd.jupyter.widget-view+json": {
       "model_id": "d94bfeed41384a8cb9c7f0c17c5abfec",
       "version_major": 2,
       "version_minor": 0
      },
      "text/plain": [
       "Map:   0%|          | 0/8 [00:00<?, ? examples/s]"
      ]
     },
     "metadata": {},
     "output_type": "display_data"
    },
    {
     "data": {
      "application/vnd.jupyter.widget-view+json": {
       "model_id": "807d12f1717f4823acfbfd9abaed8b91",
       "version_major": 2,
       "version_minor": 0
      },
      "text/plain": [
       "Map:   0%|          | 0/30 [00:00<?, ? examples/s]"
      ]
     },
     "metadata": {},
     "output_type": "display_data"
    },
    {
     "data": {
      "application/vnd.jupyter.widget-view+json": {
       "model_id": "5f642245d07d4d7dbb3f7f21ebb6be4b",
       "version_major": 2,
       "version_minor": 0
      },
      "text/plain": [
       "Map:   0%|          | 0/8 [00:00<?, ? examples/s]"
      ]
     },
     "metadata": {},
     "output_type": "display_data"
    },
    {
     "data": {
      "application/vnd.jupyter.widget-view+json": {
       "model_id": "06821a5fa2de480aa84546436ea84670",
       "version_major": 2,
       "version_minor": 0
      },
      "text/plain": [
       "Map:   0%|          | 0/31 [00:00<?, ? examples/s]"
      ]
     },
     "metadata": {},
     "output_type": "display_data"
    },
    {
     "data": {
      "application/vnd.jupyter.widget-view+json": {
       "model_id": "29a30ee1c02148788a263db497a35392",
       "version_major": 2,
       "version_minor": 0
      },
      "text/plain": [
       "Map:   0%|          | 0/7 [00:00<?, ? examples/s]"
      ]
     },
     "metadata": {},
     "output_type": "display_data"
    },
    {
     "data": {
      "application/vnd.jupyter.widget-view+json": {
       "model_id": "73a172b7950a493eb81ba4e198afa3fe",
       "version_major": 2,
       "version_minor": 0
      },
      "text/plain": [
       "Map:   0%|          | 0/31 [00:00<?, ? examples/s]"
      ]
     },
     "metadata": {},
     "output_type": "display_data"
    },
    {
     "data": {
      "application/vnd.jupyter.widget-view+json": {
       "model_id": "76862326eea740efaf3227cde5bcab3c",
       "version_major": 2,
       "version_minor": 0
      },
      "text/plain": [
       "Map:   0%|          | 0/7 [00:00<?, ? examples/s]"
      ]
     },
     "metadata": {},
     "output_type": "display_data"
    },
    {
     "name": "stdout",
     "output_type": "stream",
     "text": [
      "StratifiedKFold(n_splits=5, random_state=None, shuffle=False)\n"
     ]
    },
    {
     "data": {
      "application/vnd.jupyter.widget-view+json": {
       "model_id": "806c1de627d7416699707e05a2ad3acf",
       "version_major": 2,
       "version_minor": 0
      },
      "text/plain": [
       "Map:   0%|          | 0/30 [00:00<?, ? examples/s]"
      ]
     },
     "metadata": {},
     "output_type": "display_data"
    },
    {
     "data": {
      "application/vnd.jupyter.widget-view+json": {
       "model_id": "ebb00aa491984eb099c31de67f5a08a1",
       "version_major": 2,
       "version_minor": 0
      },
      "text/plain": [
       "Map:   0%|          | 0/8 [00:00<?, ? examples/s]"
      ]
     },
     "metadata": {},
     "output_type": "display_data"
    },
    {
     "data": {
      "application/vnd.jupyter.widget-view+json": {
       "model_id": "0735c357863345dcb9cf840065c1ed41",
       "version_major": 2,
       "version_minor": 0
      },
      "text/plain": [
       "Map:   0%|          | 0/30 [00:00<?, ? examples/s]"
      ]
     },
     "metadata": {},
     "output_type": "display_data"
    },
    {
     "data": {
      "application/vnd.jupyter.widget-view+json": {
       "model_id": "b2f2e5a41734433fa5b7decbbd4287da",
       "version_major": 2,
       "version_minor": 0
      },
      "text/plain": [
       "Map:   0%|          | 0/8 [00:00<?, ? examples/s]"
      ]
     },
     "metadata": {},
     "output_type": "display_data"
    },
    {
     "data": {
      "application/vnd.jupyter.widget-view+json": {
       "model_id": "39f058da388545dba91508ea4ebf1b90",
       "version_major": 2,
       "version_minor": 0
      },
      "text/plain": [
       "Map:   0%|          | 0/30 [00:00<?, ? examples/s]"
      ]
     },
     "metadata": {},
     "output_type": "display_data"
    },
    {
     "data": {
      "application/vnd.jupyter.widget-view+json": {
       "model_id": "64e23f4333ec4e84a51dc3dd8a4fd1c5",
       "version_major": 2,
       "version_minor": 0
      },
      "text/plain": [
       "Map:   0%|          | 0/8 [00:00<?, ? examples/s]"
      ]
     },
     "metadata": {},
     "output_type": "display_data"
    },
    {
     "data": {
      "application/vnd.jupyter.widget-view+json": {
       "model_id": "e6c3b192b3a348be93a91ee2a39dfcea",
       "version_major": 2,
       "version_minor": 0
      },
      "text/plain": [
       "Map:   0%|          | 0/31 [00:00<?, ? examples/s]"
      ]
     },
     "metadata": {},
     "output_type": "display_data"
    },
    {
     "data": {
      "application/vnd.jupyter.widget-view+json": {
       "model_id": "1b3b3443ab37472692dadde2dae1b58c",
       "version_major": 2,
       "version_minor": 0
      },
      "text/plain": [
       "Map:   0%|          | 0/7 [00:00<?, ? examples/s]"
      ]
     },
     "metadata": {},
     "output_type": "display_data"
    },
    {
     "data": {
      "application/vnd.jupyter.widget-view+json": {
       "model_id": "a49a4d8ec1e34085a4e0be9dabae76c1",
       "version_major": 2,
       "version_minor": 0
      },
      "text/plain": [
       "Map:   0%|          | 0/31 [00:00<?, ? examples/s]"
      ]
     },
     "metadata": {},
     "output_type": "display_data"
    },
    {
     "data": {
      "application/vnd.jupyter.widget-view+json": {
       "model_id": "3baadb7e13184773a2688dfcea8a75bc",
       "version_major": 2,
       "version_minor": 0
      },
      "text/plain": [
       "Map:   0%|          | 0/7 [00:00<?, ? examples/s]"
      ]
     },
     "metadata": {},
     "output_type": "display_data"
    },
    {
     "name": "stdout",
     "output_type": "stream",
     "text": [
      "StratifiedKFold(n_splits=5, random_state=None, shuffle=False)\n"
     ]
    },
    {
     "data": {
      "application/vnd.jupyter.widget-view+json": {
       "model_id": "73be0960ee764902a73ca589ee993bc6",
       "version_major": 2,
       "version_minor": 0
      },
      "text/plain": [
       "Map:   0%|          | 0/30 [00:00<?, ? examples/s]"
      ]
     },
     "metadata": {},
     "output_type": "display_data"
    },
    {
     "data": {
      "application/vnd.jupyter.widget-view+json": {
       "model_id": "b220738fab0f4666b832db65fd8a878b",
       "version_major": 2,
       "version_minor": 0
      },
      "text/plain": [
       "Map:   0%|          | 0/8 [00:00<?, ? examples/s]"
      ]
     },
     "metadata": {},
     "output_type": "display_data"
    },
    {
     "data": {
      "application/vnd.jupyter.widget-view+json": {
       "model_id": "0784955d28c7422f8ea5eef7f221463a",
       "version_major": 2,
       "version_minor": 0
      },
      "text/plain": [
       "Map:   0%|          | 0/30 [00:00<?, ? examples/s]"
      ]
     },
     "metadata": {},
     "output_type": "display_data"
    },
    {
     "data": {
      "application/vnd.jupyter.widget-view+json": {
       "model_id": "31c4689d818a43b3b93c56d3a121ab14",
       "version_major": 2,
       "version_minor": 0
      },
      "text/plain": [
       "Map:   0%|          | 0/8 [00:00<?, ? examples/s]"
      ]
     },
     "metadata": {},
     "output_type": "display_data"
    },
    {
     "data": {
      "application/vnd.jupyter.widget-view+json": {
       "model_id": "11a3c0ba89e042859597485df5b7997a",
       "version_major": 2,
       "version_minor": 0
      },
      "text/plain": [
       "Map:   0%|          | 0/30 [00:00<?, ? examples/s]"
      ]
     },
     "metadata": {},
     "output_type": "display_data"
    },
    {
     "data": {
      "application/vnd.jupyter.widget-view+json": {
       "model_id": "a689e83a802c4c09800e0a2963d979e0",
       "version_major": 2,
       "version_minor": 0
      },
      "text/plain": [
       "Map:   0%|          | 0/8 [00:00<?, ? examples/s]"
      ]
     },
     "metadata": {},
     "output_type": "display_data"
    },
    {
     "data": {
      "application/vnd.jupyter.widget-view+json": {
       "model_id": "ac28b0206a5f4db58398f8f4273f2d8f",
       "version_major": 2,
       "version_minor": 0
      },
      "text/plain": [
       "Map:   0%|          | 0/31 [00:00<?, ? examples/s]"
      ]
     },
     "metadata": {},
     "output_type": "display_data"
    },
    {
     "data": {
      "application/vnd.jupyter.widget-view+json": {
       "model_id": "dfb92dcd362c4188bfd86a954db69297",
       "version_major": 2,
       "version_minor": 0
      },
      "text/plain": [
       "Map:   0%|          | 0/7 [00:00<?, ? examples/s]"
      ]
     },
     "metadata": {},
     "output_type": "display_data"
    },
    {
     "data": {
      "application/vnd.jupyter.widget-view+json": {
       "model_id": "12ee6b6f1dc945399588632582717333",
       "version_major": 2,
       "version_minor": 0
      },
      "text/plain": [
       "Map:   0%|          | 0/31 [00:00<?, ? examples/s]"
      ]
     },
     "metadata": {},
     "output_type": "display_data"
    },
    {
     "data": {
      "application/vnd.jupyter.widget-view+json": {
       "model_id": "6e4e4b5623d6417ab060665ff07e7edd",
       "version_major": 2,
       "version_minor": 0
      },
      "text/plain": [
       "Map:   0%|          | 0/7 [00:00<?, ? examples/s]"
      ]
     },
     "metadata": {},
     "output_type": "display_data"
    },
    {
     "name": "stdout",
     "output_type": "stream",
     "text": [
      "StratifiedKFold(n_splits=5, random_state=None, shuffle=False)\n"
     ]
    },
    {
     "data": {
      "application/vnd.jupyter.widget-view+json": {
       "model_id": "1520523795174a49a5709587473a87df",
       "version_major": 2,
       "version_minor": 0
      },
      "text/plain": [
       "Map:   0%|          | 0/30 [00:00<?, ? examples/s]"
      ]
     },
     "metadata": {},
     "output_type": "display_data"
    },
    {
     "data": {
      "application/vnd.jupyter.widget-view+json": {
       "model_id": "f845cc713db7403b972cf6f6ee9b918d",
       "version_major": 2,
       "version_minor": 0
      },
      "text/plain": [
       "Map:   0%|          | 0/8 [00:00<?, ? examples/s]"
      ]
     },
     "metadata": {},
     "output_type": "display_data"
    },
    {
     "data": {
      "application/vnd.jupyter.widget-view+json": {
       "model_id": "e2221a220cb7409eab99eb54777db211",
       "version_major": 2,
       "version_minor": 0
      },
      "text/plain": [
       "Map:   0%|          | 0/30 [00:00<?, ? examples/s]"
      ]
     },
     "metadata": {},
     "output_type": "display_data"
    },
    {
     "data": {
      "application/vnd.jupyter.widget-view+json": {
       "model_id": "2789ecd65f9a45a4867fbfdeb3de770d",
       "version_major": 2,
       "version_minor": 0
      },
      "text/plain": [
       "Map:   0%|          | 0/8 [00:00<?, ? examples/s]"
      ]
     },
     "metadata": {},
     "output_type": "display_data"
    },
    {
     "data": {
      "application/vnd.jupyter.widget-view+json": {
       "model_id": "a0500c8561694c1182996b6b0d93d708",
       "version_major": 2,
       "version_minor": 0
      },
      "text/plain": [
       "Map:   0%|          | 0/30 [00:00<?, ? examples/s]"
      ]
     },
     "metadata": {},
     "output_type": "display_data"
    },
    {
     "data": {
      "application/vnd.jupyter.widget-view+json": {
       "model_id": "19607a47315c451a921cc9ff262e6e5d",
       "version_major": 2,
       "version_minor": 0
      },
      "text/plain": [
       "Map:   0%|          | 0/8 [00:00<?, ? examples/s]"
      ]
     },
     "metadata": {},
     "output_type": "display_data"
    },
    {
     "data": {
      "application/vnd.jupyter.widget-view+json": {
       "model_id": "129d1b07b71445e581b1729d7edbcd0d",
       "version_major": 2,
       "version_minor": 0
      },
      "text/plain": [
       "Map:   0%|          | 0/31 [00:00<?, ? examples/s]"
      ]
     },
     "metadata": {},
     "output_type": "display_data"
    },
    {
     "data": {
      "application/vnd.jupyter.widget-view+json": {
       "model_id": "394ff32bc436419eb22866db5623c036",
       "version_major": 2,
       "version_minor": 0
      },
      "text/plain": [
       "Map:   0%|          | 0/7 [00:00<?, ? examples/s]"
      ]
     },
     "metadata": {},
     "output_type": "display_data"
    },
    {
     "data": {
      "application/vnd.jupyter.widget-view+json": {
       "model_id": "ce88f791d2214a12a89545e677c47a28",
       "version_major": 2,
       "version_minor": 0
      },
      "text/plain": [
       "Map:   0%|          | 0/31 [00:00<?, ? examples/s]"
      ]
     },
     "metadata": {},
     "output_type": "display_data"
    },
    {
     "data": {
      "application/vnd.jupyter.widget-view+json": {
       "model_id": "10e09e95adc845c0bed9c5ebcd45e701",
       "version_major": 2,
       "version_minor": 0
      },
      "text/plain": [
       "Map:   0%|          | 0/7 [00:00<?, ? examples/s]"
      ]
     },
     "metadata": {},
     "output_type": "display_data"
    },
    {
     "name": "stdout",
     "output_type": "stream",
     "text": [
      "StratifiedKFold(n_splits=5, random_state=None, shuffle=False)\n"
     ]
    },
    {
     "data": {
      "application/vnd.jupyter.widget-view+json": {
       "model_id": "1fc4cf3d28e547ee8c922d964b946f43",
       "version_major": 2,
       "version_minor": 0
      },
      "text/plain": [
       "Map:   0%|          | 0/30 [00:00<?, ? examples/s]"
      ]
     },
     "metadata": {},
     "output_type": "display_data"
    },
    {
     "data": {
      "application/vnd.jupyter.widget-view+json": {
       "model_id": "35dd57e16d33414a9bf70e90a403b417",
       "version_major": 2,
       "version_minor": 0
      },
      "text/plain": [
       "Map:   0%|          | 0/8 [00:00<?, ? examples/s]"
      ]
     },
     "metadata": {},
     "output_type": "display_data"
    },
    {
     "data": {
      "application/vnd.jupyter.widget-view+json": {
       "model_id": "70519936600c4a0dab8677c2619920f0",
       "version_major": 2,
       "version_minor": 0
      },
      "text/plain": [
       "Map:   0%|          | 0/30 [00:00<?, ? examples/s]"
      ]
     },
     "metadata": {},
     "output_type": "display_data"
    },
    {
     "data": {
      "application/vnd.jupyter.widget-view+json": {
       "model_id": "2ef5fc036274422d9b60327aa8441e36",
       "version_major": 2,
       "version_minor": 0
      },
      "text/plain": [
       "Map:   0%|          | 0/8 [00:00<?, ? examples/s]"
      ]
     },
     "metadata": {},
     "output_type": "display_data"
    },
    {
     "data": {
      "application/vnd.jupyter.widget-view+json": {
       "model_id": "fa491fc4993246b8aed8abfa3b6c157e",
       "version_major": 2,
       "version_minor": 0
      },
      "text/plain": [
       "Map:   0%|          | 0/30 [00:00<?, ? examples/s]"
      ]
     },
     "metadata": {},
     "output_type": "display_data"
    },
    {
     "data": {
      "application/vnd.jupyter.widget-view+json": {
       "model_id": "0def7513fc8e4d53ad9e77c49367e9d4",
       "version_major": 2,
       "version_minor": 0
      },
      "text/plain": [
       "Map:   0%|          | 0/8 [00:00<?, ? examples/s]"
      ]
     },
     "metadata": {},
     "output_type": "display_data"
    },
    {
     "data": {
      "application/vnd.jupyter.widget-view+json": {
       "model_id": "21bb579da36a48e9acfdf60542422463",
       "version_major": 2,
       "version_minor": 0
      },
      "text/plain": [
       "Map:   0%|          | 0/31 [00:00<?, ? examples/s]"
      ]
     },
     "metadata": {},
     "output_type": "display_data"
    },
    {
     "data": {
      "application/vnd.jupyter.widget-view+json": {
       "model_id": "dabb9f5cd936458381076e0c3dc971ee",
       "version_major": 2,
       "version_minor": 0
      },
      "text/plain": [
       "Map:   0%|          | 0/7 [00:00<?, ? examples/s]"
      ]
     },
     "metadata": {},
     "output_type": "display_data"
    },
    {
     "data": {
      "application/vnd.jupyter.widget-view+json": {
       "model_id": "f2422061166a4917904dd04651710376",
       "version_major": 2,
       "version_minor": 0
      },
      "text/plain": [
       "Map:   0%|          | 0/31 [00:00<?, ? examples/s]"
      ]
     },
     "metadata": {},
     "output_type": "display_data"
    },
    {
     "data": {
      "application/vnd.jupyter.widget-view+json": {
       "model_id": "ed0b566743824ba1b101e5c50ec14afe",
       "version_major": 2,
       "version_minor": 0
      },
      "text/plain": [
       "Map:   0%|          | 0/7 [00:00<?, ? examples/s]"
      ]
     },
     "metadata": {},
     "output_type": "display_data"
    },
    {
     "name": "stdout",
     "output_type": "stream",
     "text": [
      "StratifiedKFold(n_splits=5, random_state=None, shuffle=False)\n"
     ]
    },
    {
     "data": {
      "application/vnd.jupyter.widget-view+json": {
       "model_id": "63858753795b42228e6a68c9659a2589",
       "version_major": 2,
       "version_minor": 0
      },
      "text/plain": [
       "Map:   0%|          | 0/30 [00:00<?, ? examples/s]"
      ]
     },
     "metadata": {},
     "output_type": "display_data"
    },
    {
     "data": {
      "application/vnd.jupyter.widget-view+json": {
       "model_id": "d2a20fdae51a4676ac3728892281a172",
       "version_major": 2,
       "version_minor": 0
      },
      "text/plain": [
       "Map:   0%|          | 0/8 [00:00<?, ? examples/s]"
      ]
     },
     "metadata": {},
     "output_type": "display_data"
    },
    {
     "data": {
      "application/vnd.jupyter.widget-view+json": {
       "model_id": "884541abf1cc4b9595b844291b1609c8",
       "version_major": 2,
       "version_minor": 0
      },
      "text/plain": [
       "Map:   0%|          | 0/30 [00:00<?, ? examples/s]"
      ]
     },
     "metadata": {},
     "output_type": "display_data"
    },
    {
     "data": {
      "application/vnd.jupyter.widget-view+json": {
       "model_id": "b3c33d100afd4d668bfc46b4cdc24605",
       "version_major": 2,
       "version_minor": 0
      },
      "text/plain": [
       "Map:   0%|          | 0/8 [00:00<?, ? examples/s]"
      ]
     },
     "metadata": {},
     "output_type": "display_data"
    },
    {
     "data": {
      "application/vnd.jupyter.widget-view+json": {
       "model_id": "e92fa0584be64a878eb3cb6a5a26bb36",
       "version_major": 2,
       "version_minor": 0
      },
      "text/plain": [
       "Map:   0%|          | 0/30 [00:00<?, ? examples/s]"
      ]
     },
     "metadata": {},
     "output_type": "display_data"
    },
    {
     "data": {
      "application/vnd.jupyter.widget-view+json": {
       "model_id": "2bc29f24508e4c61b413fe2281f62c73",
       "version_major": 2,
       "version_minor": 0
      },
      "text/plain": [
       "Map:   0%|          | 0/8 [00:00<?, ? examples/s]"
      ]
     },
     "metadata": {},
     "output_type": "display_data"
    },
    {
     "data": {
      "application/vnd.jupyter.widget-view+json": {
       "model_id": "ac91cf24f52d480fa03f95127df18e34",
       "version_major": 2,
       "version_minor": 0
      },
      "text/plain": [
       "Map:   0%|          | 0/31 [00:00<?, ? examples/s]"
      ]
     },
     "metadata": {},
     "output_type": "display_data"
    },
    {
     "data": {
      "application/vnd.jupyter.widget-view+json": {
       "model_id": "3e8bf7751a2d417c89d82455d1f77a16",
       "version_major": 2,
       "version_minor": 0
      },
      "text/plain": [
       "Map:   0%|          | 0/7 [00:00<?, ? examples/s]"
      ]
     },
     "metadata": {},
     "output_type": "display_data"
    },
    {
     "data": {
      "application/vnd.jupyter.widget-view+json": {
       "model_id": "10f8e24b085c4a8a88e5c9a0f4562b4e",
       "version_major": 2,
       "version_minor": 0
      },
      "text/plain": [
       "Map:   0%|          | 0/31 [00:00<?, ? examples/s]"
      ]
     },
     "metadata": {},
     "output_type": "display_data"
    },
    {
     "data": {
      "application/vnd.jupyter.widget-view+json": {
       "model_id": "55776ed89bff41fea95ad4ff3db4557f",
       "version_major": 2,
       "version_minor": 0
      },
      "text/plain": [
       "Map:   0%|          | 0/7 [00:00<?, ? examples/s]"
      ]
     },
     "metadata": {},
     "output_type": "display_data"
    },
    {
     "name": "stdout",
     "output_type": "stream",
     "text": [
      "StratifiedKFold(n_splits=5, random_state=None, shuffle=False)\n"
     ]
    },
    {
     "data": {
      "application/vnd.jupyter.widget-view+json": {
       "model_id": "ec29e909f8d6496e8787575c9912c896",
       "version_major": 2,
       "version_minor": 0
      },
      "text/plain": [
       "Map:   0%|          | 0/30 [00:00<?, ? examples/s]"
      ]
     },
     "metadata": {},
     "output_type": "display_data"
    },
    {
     "data": {
      "application/vnd.jupyter.widget-view+json": {
       "model_id": "47918ebb27f6440ab86f5828412ffa79",
       "version_major": 2,
       "version_minor": 0
      },
      "text/plain": [
       "Map:   0%|          | 0/8 [00:00<?, ? examples/s]"
      ]
     },
     "metadata": {},
     "output_type": "display_data"
    },
    {
     "data": {
      "application/vnd.jupyter.widget-view+json": {
       "model_id": "c8b6977b18f74c438460df5926e16020",
       "version_major": 2,
       "version_minor": 0
      },
      "text/plain": [
       "Map:   0%|          | 0/30 [00:00<?, ? examples/s]"
      ]
     },
     "metadata": {},
     "output_type": "display_data"
    },
    {
     "data": {
      "application/vnd.jupyter.widget-view+json": {
       "model_id": "bb3081d85be649bea55b2c5812f03b86",
       "version_major": 2,
       "version_minor": 0
      },
      "text/plain": [
       "Map:   0%|          | 0/8 [00:00<?, ? examples/s]"
      ]
     },
     "metadata": {},
     "output_type": "display_data"
    },
    {
     "data": {
      "application/vnd.jupyter.widget-view+json": {
       "model_id": "3c9eca08f6044daa8ad7b8f939fcdeba",
       "version_major": 2,
       "version_minor": 0
      },
      "text/plain": [
       "Map:   0%|          | 0/30 [00:00<?, ? examples/s]"
      ]
     },
     "metadata": {},
     "output_type": "display_data"
    },
    {
     "data": {
      "application/vnd.jupyter.widget-view+json": {
       "model_id": "dc01fd695f254c37b1a0ed46d5e5309e",
       "version_major": 2,
       "version_minor": 0
      },
      "text/plain": [
       "Map:   0%|          | 0/8 [00:00<?, ? examples/s]"
      ]
     },
     "metadata": {},
     "output_type": "display_data"
    },
    {
     "data": {
      "application/vnd.jupyter.widget-view+json": {
       "model_id": "f2856a2348e94a5d87dcbc51605d67ca",
       "version_major": 2,
       "version_minor": 0
      },
      "text/plain": [
       "Map:   0%|          | 0/31 [00:00<?, ? examples/s]"
      ]
     },
     "metadata": {},
     "output_type": "display_data"
    },
    {
     "data": {
      "application/vnd.jupyter.widget-view+json": {
       "model_id": "51963e2a1ae54d90bea3a0e965ac47e1",
       "version_major": 2,
       "version_minor": 0
      },
      "text/plain": [
       "Map:   0%|          | 0/7 [00:00<?, ? examples/s]"
      ]
     },
     "metadata": {},
     "output_type": "display_data"
    },
    {
     "data": {
      "application/vnd.jupyter.widget-view+json": {
       "model_id": "aba3c3ef93694d6397fde0d1ee64bffd",
       "version_major": 2,
       "version_minor": 0
      },
      "text/plain": [
       "Map:   0%|          | 0/31 [00:00<?, ? examples/s]"
      ]
     },
     "metadata": {},
     "output_type": "display_data"
    },
    {
     "data": {
      "application/vnd.jupyter.widget-view+json": {
       "model_id": "2771b434e6a545f1bbc3908702b0f258",
       "version_major": 2,
       "version_minor": 0
      },
      "text/plain": [
       "Map:   0%|          | 0/7 [00:00<?, ? examples/s]"
      ]
     },
     "metadata": {},
     "output_type": "display_data"
    },
    {
     "name": "stdout",
     "output_type": "stream",
     "text": [
      "StratifiedKFold(n_splits=5, random_state=None, shuffle=False)\n"
     ]
    },
    {
     "data": {
      "application/vnd.jupyter.widget-view+json": {
       "model_id": "60d89506599c4e61b82d1fa1d187d957",
       "version_major": 2,
       "version_minor": 0
      },
      "text/plain": [
       "Map:   0%|          | 0/30 [00:00<?, ? examples/s]"
      ]
     },
     "metadata": {},
     "output_type": "display_data"
    },
    {
     "data": {
      "application/vnd.jupyter.widget-view+json": {
       "model_id": "5fa184443ac84d07b761cffda3119788",
       "version_major": 2,
       "version_minor": 0
      },
      "text/plain": [
       "Map:   0%|          | 0/8 [00:00<?, ? examples/s]"
      ]
     },
     "metadata": {},
     "output_type": "display_data"
    },
    {
     "data": {
      "application/vnd.jupyter.widget-view+json": {
       "model_id": "62e08eaae26641e28b2fa524fde8561c",
       "version_major": 2,
       "version_minor": 0
      },
      "text/plain": [
       "Map:   0%|          | 0/30 [00:00<?, ? examples/s]"
      ]
     },
     "metadata": {},
     "output_type": "display_data"
    },
    {
     "data": {
      "application/vnd.jupyter.widget-view+json": {
       "model_id": "3c4fd03cdfdd4d63bc61f2786d985ed1",
       "version_major": 2,
       "version_minor": 0
      },
      "text/plain": [
       "Map:   0%|          | 0/8 [00:00<?, ? examples/s]"
      ]
     },
     "metadata": {},
     "output_type": "display_data"
    },
    {
     "data": {
      "application/vnd.jupyter.widget-view+json": {
       "model_id": "c4804593bee147d48dcc7b870ae49d85",
       "version_major": 2,
       "version_minor": 0
      },
      "text/plain": [
       "Map:   0%|          | 0/30 [00:00<?, ? examples/s]"
      ]
     },
     "metadata": {},
     "output_type": "display_data"
    },
    {
     "data": {
      "application/vnd.jupyter.widget-view+json": {
       "model_id": "185da7a723e44510bd71dde515142cb9",
       "version_major": 2,
       "version_minor": 0
      },
      "text/plain": [
       "Map:   0%|          | 0/8 [00:00<?, ? examples/s]"
      ]
     },
     "metadata": {},
     "output_type": "display_data"
    },
    {
     "data": {
      "application/vnd.jupyter.widget-view+json": {
       "model_id": "ab46c5b85d78436e9be496be4e51a1b6",
       "version_major": 2,
       "version_minor": 0
      },
      "text/plain": [
       "Map:   0%|          | 0/31 [00:00<?, ? examples/s]"
      ]
     },
     "metadata": {},
     "output_type": "display_data"
    },
    {
     "data": {
      "application/vnd.jupyter.widget-view+json": {
       "model_id": "bb9ecf5b4da54e15a06c0ae91f90360d",
       "version_major": 2,
       "version_minor": 0
      },
      "text/plain": [
       "Map:   0%|          | 0/7 [00:00<?, ? examples/s]"
      ]
     },
     "metadata": {},
     "output_type": "display_data"
    },
    {
     "data": {
      "application/vnd.jupyter.widget-view+json": {
       "model_id": "4f62ce56459145a7be530eb1c04d1a33",
       "version_major": 2,
       "version_minor": 0
      },
      "text/plain": [
       "Map:   0%|          | 0/31 [00:00<?, ? examples/s]"
      ]
     },
     "metadata": {},
     "output_type": "display_data"
    },
    {
     "data": {
      "application/vnd.jupyter.widget-view+json": {
       "model_id": "ea3e0f46da2a43dbb582096576b984a2",
       "version_major": 2,
       "version_minor": 0
      },
      "text/plain": [
       "Map:   0%|          | 0/7 [00:00<?, ? examples/s]"
      ]
     },
     "metadata": {},
     "output_type": "display_data"
    },
    {
     "name": "stdout",
     "output_type": "stream",
     "text": [
      "StratifiedKFold(n_splits=5, random_state=None, shuffle=False)\n"
     ]
    },
    {
     "data": {
      "application/vnd.jupyter.widget-view+json": {
       "model_id": "d1e62aa622534de1a666e7b34e82e791",
       "version_major": 2,
       "version_minor": 0
      },
      "text/plain": [
       "Map:   0%|          | 0/30 [00:00<?, ? examples/s]"
      ]
     },
     "metadata": {},
     "output_type": "display_data"
    },
    {
     "data": {
      "application/vnd.jupyter.widget-view+json": {
       "model_id": "01edc231be9743b3b225810143c89ea2",
       "version_major": 2,
       "version_minor": 0
      },
      "text/plain": [
       "Map:   0%|          | 0/8 [00:00<?, ? examples/s]"
      ]
     },
     "metadata": {},
     "output_type": "display_data"
    },
    {
     "data": {
      "application/vnd.jupyter.widget-view+json": {
       "model_id": "bf5fa11a3c344af484ec36e72223eeea",
       "version_major": 2,
       "version_minor": 0
      },
      "text/plain": [
       "Map:   0%|          | 0/30 [00:00<?, ? examples/s]"
      ]
     },
     "metadata": {},
     "output_type": "display_data"
    },
    {
     "data": {
      "application/vnd.jupyter.widget-view+json": {
       "model_id": "1ffc3b6d72d440e5b788df3d9e62f98e",
       "version_major": 2,
       "version_minor": 0
      },
      "text/plain": [
       "Map:   0%|          | 0/8 [00:00<?, ? examples/s]"
      ]
     },
     "metadata": {},
     "output_type": "display_data"
    },
    {
     "data": {
      "application/vnd.jupyter.widget-view+json": {
       "model_id": "072fb895bf044cd3b23363e150e7f1da",
       "version_major": 2,
       "version_minor": 0
      },
      "text/plain": [
       "Map:   0%|          | 0/30 [00:00<?, ? examples/s]"
      ]
     },
     "metadata": {},
     "output_type": "display_data"
    },
    {
     "data": {
      "application/vnd.jupyter.widget-view+json": {
       "model_id": "015526a48a3a49eebc8e6b9520aa0434",
       "version_major": 2,
       "version_minor": 0
      },
      "text/plain": [
       "Map:   0%|          | 0/8 [00:00<?, ? examples/s]"
      ]
     },
     "metadata": {},
     "output_type": "display_data"
    },
    {
     "data": {
      "application/vnd.jupyter.widget-view+json": {
       "model_id": "5c7fd5cf1d04401781b8d6ef5e7436b6",
       "version_major": 2,
       "version_minor": 0
      },
      "text/plain": [
       "Map:   0%|          | 0/31 [00:00<?, ? examples/s]"
      ]
     },
     "metadata": {},
     "output_type": "display_data"
    },
    {
     "data": {
      "application/vnd.jupyter.widget-view+json": {
       "model_id": "78923394bfa246ffa688e07c40bd3c96",
       "version_major": 2,
       "version_minor": 0
      },
      "text/plain": [
       "Map:   0%|          | 0/7 [00:00<?, ? examples/s]"
      ]
     },
     "metadata": {},
     "output_type": "display_data"
    },
    {
     "data": {
      "application/vnd.jupyter.widget-view+json": {
       "model_id": "b61be8b1f34a4aebbdfa788f8a0c5000",
       "version_major": 2,
       "version_minor": 0
      },
      "text/plain": [
       "Map:   0%|          | 0/31 [00:00<?, ? examples/s]"
      ]
     },
     "metadata": {},
     "output_type": "display_data"
    },
    {
     "data": {
      "application/vnd.jupyter.widget-view+json": {
       "model_id": "cacb3b208ae34c5e8990f7b1ec9e236e",
       "version_major": 2,
       "version_minor": 0
      },
      "text/plain": [
       "Map:   0%|          | 0/7 [00:00<?, ? examples/s]"
      ]
     },
     "metadata": {},
     "output_type": "display_data"
    },
    {
     "name": "stdout",
     "output_type": "stream",
     "text": [
      "StratifiedKFold(n_splits=5, random_state=None, shuffle=False)\n"
     ]
    },
    {
     "data": {
      "application/vnd.jupyter.widget-view+json": {
       "model_id": "bbc620fec3564763a82f3efa976be3e7",
       "version_major": 2,
       "version_minor": 0
      },
      "text/plain": [
       "Map:   0%|          | 0/30 [00:00<?, ? examples/s]"
      ]
     },
     "metadata": {},
     "output_type": "display_data"
    },
    {
     "data": {
      "application/vnd.jupyter.widget-view+json": {
       "model_id": "d378010e05d642d58e7aceb6e016162b",
       "version_major": 2,
       "version_minor": 0
      },
      "text/plain": [
       "Map:   0%|          | 0/8 [00:00<?, ? examples/s]"
      ]
     },
     "metadata": {},
     "output_type": "display_data"
    },
    {
     "data": {
      "application/vnd.jupyter.widget-view+json": {
       "model_id": "29481760a47442569a3ed678e976c24c",
       "version_major": 2,
       "version_minor": 0
      },
      "text/plain": [
       "Map:   0%|          | 0/30 [00:00<?, ? examples/s]"
      ]
     },
     "metadata": {},
     "output_type": "display_data"
    },
    {
     "data": {
      "application/vnd.jupyter.widget-view+json": {
       "model_id": "4ca5828d49774005a3c603289c68580e",
       "version_major": 2,
       "version_minor": 0
      },
      "text/plain": [
       "Map:   0%|          | 0/8 [00:00<?, ? examples/s]"
      ]
     },
     "metadata": {},
     "output_type": "display_data"
    },
    {
     "data": {
      "application/vnd.jupyter.widget-view+json": {
       "model_id": "63b09dee7d6f424ba956ed50dcdd236d",
       "version_major": 2,
       "version_minor": 0
      },
      "text/plain": [
       "Map:   0%|          | 0/30 [00:00<?, ? examples/s]"
      ]
     },
     "metadata": {},
     "output_type": "display_data"
    },
    {
     "data": {
      "application/vnd.jupyter.widget-view+json": {
       "model_id": "3334a5cd385a4fc2a2f4f7bf1b6cf856",
       "version_major": 2,
       "version_minor": 0
      },
      "text/plain": [
       "Map:   0%|          | 0/8 [00:00<?, ? examples/s]"
      ]
     },
     "metadata": {},
     "output_type": "display_data"
    },
    {
     "data": {
      "application/vnd.jupyter.widget-view+json": {
       "model_id": "479f37c1f8224f66acaa12d4afe33712",
       "version_major": 2,
       "version_minor": 0
      },
      "text/plain": [
       "Map:   0%|          | 0/31 [00:00<?, ? examples/s]"
      ]
     },
     "metadata": {},
     "output_type": "display_data"
    },
    {
     "data": {
      "application/vnd.jupyter.widget-view+json": {
       "model_id": "be0628381d9b4a749087a3fc1d8757e1",
       "version_major": 2,
       "version_minor": 0
      },
      "text/plain": [
       "Map:   0%|          | 0/7 [00:00<?, ? examples/s]"
      ]
     },
     "metadata": {},
     "output_type": "display_data"
    },
    {
     "data": {
      "application/vnd.jupyter.widget-view+json": {
       "model_id": "4a3bf578c6bb49d388495174f3f602c1",
       "version_major": 2,
       "version_minor": 0
      },
      "text/plain": [
       "Map:   0%|          | 0/31 [00:00<?, ? examples/s]"
      ]
     },
     "metadata": {},
     "output_type": "display_data"
    },
    {
     "data": {
      "application/vnd.jupyter.widget-view+json": {
       "model_id": "81769b3ad1e548b2be09406063c6df4b",
       "version_major": 2,
       "version_minor": 0
      },
      "text/plain": [
       "Map:   0%|          | 0/7 [00:00<?, ? examples/s]"
      ]
     },
     "metadata": {},
     "output_type": "display_data"
    },
    {
     "name": "stdout",
     "output_type": "stream",
     "text": [
      "StratifiedKFold(n_splits=5, random_state=None, shuffle=False)\n"
     ]
    },
    {
     "data": {
      "application/vnd.jupyter.widget-view+json": {
       "model_id": "e333daccf9014389948dba3ce6e257f0",
       "version_major": 2,
       "version_minor": 0
      },
      "text/plain": [
       "Map:   0%|          | 0/30 [00:00<?, ? examples/s]"
      ]
     },
     "metadata": {},
     "output_type": "display_data"
    },
    {
     "data": {
      "application/vnd.jupyter.widget-view+json": {
       "model_id": "b28455f6f86848298ff343fb7ec62a76",
       "version_major": 2,
       "version_minor": 0
      },
      "text/plain": [
       "Map:   0%|          | 0/8 [00:00<?, ? examples/s]"
      ]
     },
     "metadata": {},
     "output_type": "display_data"
    },
    {
     "data": {
      "application/vnd.jupyter.widget-view+json": {
       "model_id": "43788b41c47c4d6fa430c019b86a6286",
       "version_major": 2,
       "version_minor": 0
      },
      "text/plain": [
       "Map:   0%|          | 0/30 [00:00<?, ? examples/s]"
      ]
     },
     "metadata": {},
     "output_type": "display_data"
    },
    {
     "data": {
      "application/vnd.jupyter.widget-view+json": {
       "model_id": "6ed28c35da0c417db84b98ea25ff8688",
       "version_major": 2,
       "version_minor": 0
      },
      "text/plain": [
       "Map:   0%|          | 0/8 [00:00<?, ? examples/s]"
      ]
     },
     "metadata": {},
     "output_type": "display_data"
    },
    {
     "data": {
      "application/vnd.jupyter.widget-view+json": {
       "model_id": "d8a6f5ea575f4f15912eb7caaeea93cb",
       "version_major": 2,
       "version_minor": 0
      },
      "text/plain": [
       "Map:   0%|          | 0/30 [00:00<?, ? examples/s]"
      ]
     },
     "metadata": {},
     "output_type": "display_data"
    },
    {
     "data": {
      "application/vnd.jupyter.widget-view+json": {
       "model_id": "12b4ef9fb1c64e1484f91ba510b75aa8",
       "version_major": 2,
       "version_minor": 0
      },
      "text/plain": [
       "Map:   0%|          | 0/8 [00:00<?, ? examples/s]"
      ]
     },
     "metadata": {},
     "output_type": "display_data"
    },
    {
     "data": {
      "application/vnd.jupyter.widget-view+json": {
       "model_id": "689d1202031342899277a5ed7a71912f",
       "version_major": 2,
       "version_minor": 0
      },
      "text/plain": [
       "Map:   0%|          | 0/31 [00:00<?, ? examples/s]"
      ]
     },
     "metadata": {},
     "output_type": "display_data"
    },
    {
     "data": {
      "application/vnd.jupyter.widget-view+json": {
       "model_id": "de92ec7ecb5a46ac8f177e6705e9c65f",
       "version_major": 2,
       "version_minor": 0
      },
      "text/plain": [
       "Map:   0%|          | 0/7 [00:00<?, ? examples/s]"
      ]
     },
     "metadata": {},
     "output_type": "display_data"
    },
    {
     "data": {
      "application/vnd.jupyter.widget-view+json": {
       "model_id": "849d92f9a8214aa58a9750743fa5c7b8",
       "version_major": 2,
       "version_minor": 0
      },
      "text/plain": [
       "Map:   0%|          | 0/31 [00:00<?, ? examples/s]"
      ]
     },
     "metadata": {},
     "output_type": "display_data"
    },
    {
     "data": {
      "application/vnd.jupyter.widget-view+json": {
       "model_id": "54ba66eace304add87feefb6a3997d28",
       "version_major": 2,
       "version_minor": 0
      },
      "text/plain": [
       "Map:   0%|          | 0/7 [00:00<?, ? examples/s]"
      ]
     },
     "metadata": {},
     "output_type": "display_data"
    },
    {
     "name": "stdout",
     "output_type": "stream",
     "text": [
      "StratifiedKFold(n_splits=5, random_state=None, shuffle=False)\n"
     ]
    },
    {
     "data": {
      "application/vnd.jupyter.widget-view+json": {
       "model_id": "1b80126c2a284f429d909e47843625b0",
       "version_major": 2,
       "version_minor": 0
      },
      "text/plain": [
       "Map:   0%|          | 0/30 [00:00<?, ? examples/s]"
      ]
     },
     "metadata": {},
     "output_type": "display_data"
    },
    {
     "data": {
      "application/vnd.jupyter.widget-view+json": {
       "model_id": "8b771070c0504e238f31b8787fb256b5",
       "version_major": 2,
       "version_minor": 0
      },
      "text/plain": [
       "Map:   0%|          | 0/8 [00:00<?, ? examples/s]"
      ]
     },
     "metadata": {},
     "output_type": "display_data"
    },
    {
     "data": {
      "application/vnd.jupyter.widget-view+json": {
       "model_id": "e38e0e734330477cb18cc52241bd785e",
       "version_major": 2,
       "version_minor": 0
      },
      "text/plain": [
       "Map:   0%|          | 0/30 [00:00<?, ? examples/s]"
      ]
     },
     "metadata": {},
     "output_type": "display_data"
    },
    {
     "data": {
      "application/vnd.jupyter.widget-view+json": {
       "model_id": "5a1f1fff786a48e986df5b102cf5aa1f",
       "version_major": 2,
       "version_minor": 0
      },
      "text/plain": [
       "Map:   0%|          | 0/8 [00:00<?, ? examples/s]"
      ]
     },
     "metadata": {},
     "output_type": "display_data"
    },
    {
     "data": {
      "application/vnd.jupyter.widget-view+json": {
       "model_id": "8c3d5984724643d78d10d018056a0310",
       "version_major": 2,
       "version_minor": 0
      },
      "text/plain": [
       "Map:   0%|          | 0/30 [00:00<?, ? examples/s]"
      ]
     },
     "metadata": {},
     "output_type": "display_data"
    },
    {
     "data": {
      "application/vnd.jupyter.widget-view+json": {
       "model_id": "4d55be39ea37453787ed8c612d3e5fc0",
       "version_major": 2,
       "version_minor": 0
      },
      "text/plain": [
       "Map:   0%|          | 0/8 [00:00<?, ? examples/s]"
      ]
     },
     "metadata": {},
     "output_type": "display_data"
    },
    {
     "data": {
      "application/vnd.jupyter.widget-view+json": {
       "model_id": "4f3a7785259c465cb4acb9c9e5a10f83",
       "version_major": 2,
       "version_minor": 0
      },
      "text/plain": [
       "Map:   0%|          | 0/31 [00:00<?, ? examples/s]"
      ]
     },
     "metadata": {},
     "output_type": "display_data"
    },
    {
     "data": {
      "application/vnd.jupyter.widget-view+json": {
       "model_id": "7b170edbd9b54b10828dc886687ffc72",
       "version_major": 2,
       "version_minor": 0
      },
      "text/plain": [
       "Map:   0%|          | 0/7 [00:00<?, ? examples/s]"
      ]
     },
     "metadata": {},
     "output_type": "display_data"
    },
    {
     "data": {
      "application/vnd.jupyter.widget-view+json": {
       "model_id": "2cad71dcb6cf440584a44712fb65714b",
       "version_major": 2,
       "version_minor": 0
      },
      "text/plain": [
       "Map:   0%|          | 0/31 [00:00<?, ? examples/s]"
      ]
     },
     "metadata": {},
     "output_type": "display_data"
    },
    {
     "data": {
      "application/vnd.jupyter.widget-view+json": {
       "model_id": "e5fd62fc3b12479da1e000a418cf4844",
       "version_major": 2,
       "version_minor": 0
      },
      "text/plain": [
       "Map:   0%|          | 0/7 [00:00<?, ? examples/s]"
      ]
     },
     "metadata": {},
     "output_type": "display_data"
    },
    {
     "name": "stdout",
     "output_type": "stream",
     "text": [
      "StratifiedKFold(n_splits=5, random_state=None, shuffle=False)\n"
     ]
    },
    {
     "data": {
      "application/vnd.jupyter.widget-view+json": {
       "model_id": "5a16dbe52e24499d89ac6408debfe299",
       "version_major": 2,
       "version_minor": 0
      },
      "text/plain": [
       "Map:   0%|          | 0/30 [00:00<?, ? examples/s]"
      ]
     },
     "metadata": {},
     "output_type": "display_data"
    },
    {
     "data": {
      "application/vnd.jupyter.widget-view+json": {
       "model_id": "8348d74fb6e345bb8083dd76021bb5e9",
       "version_major": 2,
       "version_minor": 0
      },
      "text/plain": [
       "Map:   0%|          | 0/8 [00:00<?, ? examples/s]"
      ]
     },
     "metadata": {},
     "output_type": "display_data"
    },
    {
     "data": {
      "application/vnd.jupyter.widget-view+json": {
       "model_id": "3f2def2c57fe487abace5560ff3eccc5",
       "version_major": 2,
       "version_minor": 0
      },
      "text/plain": [
       "Map:   0%|          | 0/30 [00:00<?, ? examples/s]"
      ]
     },
     "metadata": {},
     "output_type": "display_data"
    },
    {
     "data": {
      "application/vnd.jupyter.widget-view+json": {
       "model_id": "0e79b685075b456d83bff58732a2a3a6",
       "version_major": 2,
       "version_minor": 0
      },
      "text/plain": [
       "Map:   0%|          | 0/8 [00:00<?, ? examples/s]"
      ]
     },
     "metadata": {},
     "output_type": "display_data"
    },
    {
     "data": {
      "application/vnd.jupyter.widget-view+json": {
       "model_id": "85299f6d10d348dbae551a1e2b45beb9",
       "version_major": 2,
       "version_minor": 0
      },
      "text/plain": [
       "Map:   0%|          | 0/30 [00:00<?, ? examples/s]"
      ]
     },
     "metadata": {},
     "output_type": "display_data"
    },
    {
     "data": {
      "application/vnd.jupyter.widget-view+json": {
       "model_id": "dfb7c33ede1344709fbb94a19609615e",
       "version_major": 2,
       "version_minor": 0
      },
      "text/plain": [
       "Map:   0%|          | 0/8 [00:00<?, ? examples/s]"
      ]
     },
     "metadata": {},
     "output_type": "display_data"
    },
    {
     "data": {
      "application/vnd.jupyter.widget-view+json": {
       "model_id": "3b940d0bfb7c404f9ffa04a9b75eeb7b",
       "version_major": 2,
       "version_minor": 0
      },
      "text/plain": [
       "Map:   0%|          | 0/31 [00:00<?, ? examples/s]"
      ]
     },
     "metadata": {},
     "output_type": "display_data"
    },
    {
     "data": {
      "application/vnd.jupyter.widget-view+json": {
       "model_id": "2485d839fe1b4c8d9c48c4c3402c7b67",
       "version_major": 2,
       "version_minor": 0
      },
      "text/plain": [
       "Map:   0%|          | 0/7 [00:00<?, ? examples/s]"
      ]
     },
     "metadata": {},
     "output_type": "display_data"
    },
    {
     "data": {
      "application/vnd.jupyter.widget-view+json": {
       "model_id": "12c53130f1894e24bd608333ab70dbee",
       "version_major": 2,
       "version_minor": 0
      },
      "text/plain": [
       "Map:   0%|          | 0/31 [00:00<?, ? examples/s]"
      ]
     },
     "metadata": {},
     "output_type": "display_data"
    },
    {
     "data": {
      "application/vnd.jupyter.widget-view+json": {
       "model_id": "6abb6d70b7b34f15a441df93cab2ef14",
       "version_major": 2,
       "version_minor": 0
      },
      "text/plain": [
       "Map:   0%|          | 0/7 [00:00<?, ? examples/s]"
      ]
     },
     "metadata": {},
     "output_type": "display_data"
    },
    {
     "name": "stdout",
     "output_type": "stream",
     "text": [
      "StratifiedKFold(n_splits=5, random_state=None, shuffle=False)\n"
     ]
    },
    {
     "data": {
      "application/vnd.jupyter.widget-view+json": {
       "model_id": "737a312110d5491fbd2ea5b208d6ccaa",
       "version_major": 2,
       "version_minor": 0
      },
      "text/plain": [
       "Map:   0%|          | 0/30 [00:00<?, ? examples/s]"
      ]
     },
     "metadata": {},
     "output_type": "display_data"
    },
    {
     "data": {
      "application/vnd.jupyter.widget-view+json": {
       "model_id": "78be5d3b9c204cfcb66a1131e75edebe",
       "version_major": 2,
       "version_minor": 0
      },
      "text/plain": [
       "Map:   0%|          | 0/8 [00:00<?, ? examples/s]"
      ]
     },
     "metadata": {},
     "output_type": "display_data"
    },
    {
     "data": {
      "application/vnd.jupyter.widget-view+json": {
       "model_id": "b4c2725494264a25aa774cbd854326dc",
       "version_major": 2,
       "version_minor": 0
      },
      "text/plain": [
       "Map:   0%|          | 0/30 [00:00<?, ? examples/s]"
      ]
     },
     "metadata": {},
     "output_type": "display_data"
    },
    {
     "data": {
      "application/vnd.jupyter.widget-view+json": {
       "model_id": "34d5be23620b4b52ab5da9cd1a0ec77c",
       "version_major": 2,
       "version_minor": 0
      },
      "text/plain": [
       "Map:   0%|          | 0/8 [00:00<?, ? examples/s]"
      ]
     },
     "metadata": {},
     "output_type": "display_data"
    },
    {
     "data": {
      "application/vnd.jupyter.widget-view+json": {
       "model_id": "f1980704474d428980eabf494865c378",
       "version_major": 2,
       "version_minor": 0
      },
      "text/plain": [
       "Map:   0%|          | 0/30 [00:00<?, ? examples/s]"
      ]
     },
     "metadata": {},
     "output_type": "display_data"
    },
    {
     "data": {
      "application/vnd.jupyter.widget-view+json": {
       "model_id": "115a1ee0835a4b369cbe454dca39cb12",
       "version_major": 2,
       "version_minor": 0
      },
      "text/plain": [
       "Map:   0%|          | 0/8 [00:00<?, ? examples/s]"
      ]
     },
     "metadata": {},
     "output_type": "display_data"
    },
    {
     "data": {
      "application/vnd.jupyter.widget-view+json": {
       "model_id": "431f70da6fda453c9b15b9ae09d93825",
       "version_major": 2,
       "version_minor": 0
      },
      "text/plain": [
       "Map:   0%|          | 0/31 [00:00<?, ? examples/s]"
      ]
     },
     "metadata": {},
     "output_type": "display_data"
    },
    {
     "data": {
      "application/vnd.jupyter.widget-view+json": {
       "model_id": "facbc5aa975d4d068d6f17abdb3b2bb6",
       "version_major": 2,
       "version_minor": 0
      },
      "text/plain": [
       "Map:   0%|          | 0/7 [00:00<?, ? examples/s]"
      ]
     },
     "metadata": {},
     "output_type": "display_data"
    },
    {
     "data": {
      "application/vnd.jupyter.widget-view+json": {
       "model_id": "9438dbff83584eccae24ede37c136b4d",
       "version_major": 2,
       "version_minor": 0
      },
      "text/plain": [
       "Map:   0%|          | 0/31 [00:00<?, ? examples/s]"
      ]
     },
     "metadata": {},
     "output_type": "display_data"
    },
    {
     "data": {
      "application/vnd.jupyter.widget-view+json": {
       "model_id": "b533404037e647fb98673165a81bb42f",
       "version_major": 2,
       "version_minor": 0
      },
      "text/plain": [
       "Map:   0%|          | 0/7 [00:00<?, ? examples/s]"
      ]
     },
     "metadata": {},
     "output_type": "display_data"
    },
    {
     "name": "stdout",
     "output_type": "stream",
     "text": [
      "[{'auc_mean': np.float64(0.6175), 'auc_std': np.float64(0.16254059322041509), 'auc': [[np.float64(0.625), np.float64(0.5), np.float64(0.625), np.float64(0.5625), np.float64(0.6875)], [np.float64(0.625), np.float64(0.75), np.float64(0.5625), np.float64(0.8125), np.float64(0.375)], [np.float64(0.625), np.float64(0.75), np.float64(0.875), np.float64(0.75), np.float64(0.8125)], [np.float64(0.41666666666666663), np.float64(0.6666666666666666), np.float64(0.75), np.float64(0.3333333333333333), np.float64(0.75)], [np.float64(0.5), np.float64(0.5), np.float64(0.25), np.float64(0.8333333333333333), np.float64(0.5)]], 'param': {'lr': 1e-07, 'epoch': 7}}, {'auc_mean': np.float64(0.5941666666666666), 'auc_std': np.float64(0.17971041520550035), 'auc': [[np.float64(0.5625), np.float64(0.75), np.float64(0.4375), np.float64(0.5), np.float64(0.4375)], [np.float64(0.6875), np.float64(0.75), np.float64(0.5625), np.float64(0.625), np.float64(0.6875)], [np.float64(0.5), np.float64(0.6875), np.float64(0.625), np.float64(0.875), np.float64(0.5)], [np.float64(0.5), np.float64(0.8333333333333333), np.float64(0.6666666666666666), np.float64(0.6666666666666666), np.float64(0.3333333333333333)], [np.float64(0.5), np.float64(0.6666666666666666), np.float64(0.3333333333333333), np.float64(1.0), np.float64(0.16666666666666666)]], 'param': {'lr': 0.0001, 'epoch': 7}}, {'auc_mean': np.float64(0.58), 'auc_std': np.float64(0.19892768088484375), 'auc': [[np.float64(0.75), np.float64(0.75), np.float64(0.75), np.float64(0.625), np.float64(0.5)], [np.float64(0.5), np.float64(0.5), np.float64(0.5), np.float64(0.4375), np.float64(0.75)], [np.float64(0.375), np.float64(0.4375), np.float64(0.3125), np.float64(0.875), np.float64(0.4375)], [np.float64(0.75), np.float64(0.5), np.float64(0.5833333333333334), np.float64(0.8333333333333334), np.float64(0.75)], [np.float64(0.16666666666666666), np.float64(0.5833333333333333), np.float64(0.25), np.float64(0.5833333333333333), np.float64(1.0)]], 'param': {'lr': 5e-07, 'epoch': 15}}, {'auc_mean': np.float64(0.575), 'auc_std': np.float64(0.25481474752367755), 'auc': [[np.float64(0.25), np.float64(0.6875), np.float64(0.8125), np.float64(0.4375), np.float64(0.5)], [np.float64(0.625), np.float64(0.625), np.float64(0.5625), np.float64(0.4375), np.float64(0.25)], [np.float64(0.9375), np.float64(0.625), np.float64(0.8125), np.float64(0.875), np.float64(0.4375)], [np.float64(0.5833333333333333), np.float64(0.5), np.float64(0.75), np.float64(0.25), np.float64(0.16666666666666666)], [np.float64(0.9166666666666666), np.float64(0.25), np.float64(0.16666666666666666), np.float64(0.9166666666666666), np.float64(1.0)]], 'param': {'lr': 1e-07, 'epoch': 4}}, {'auc_mean': np.float64(0.5741666666666666), 'auc_std': np.float64(0.17160192954108128), 'auc': [[np.float64(0.6875), np.float64(0.25), np.float64(0.6875), np.float64(0.375), np.float64(0.4375)], [np.float64(0.5625), np.float64(0.3125), np.float64(0.6875), np.float64(0.4375), np.float64(0.625)], [np.float64(0.75), np.float64(0.75), np.float64(0.6875), np.float64(0.375), np.float64(0.8125)], [np.float64(0.5), np.float64(0.75), np.float64(0.5), np.float64(0.5), np.float64(0.25)], [np.float64(0.5), np.float64(0.6666666666666666), np.float64(0.8333333333333334), np.float64(0.6666666666666666), np.float64(0.75)]], 'param': {'lr': 1e-05, 'epoch': 8}}]\n"
     ]
    }
   ],
   "source": [
    "finalResult = MyGridSearch(train, param_dict, model_name)"
   ]
  },
  {
   "cell_type": "code",
   "execution_count": null,
   "id": "32e3ac5b-87e1-421c-9c41-b98d38e749ef",
   "metadata": {},
   "outputs": [],
   "source": []
  },
  {
   "cell_type": "code",
   "execution_count": 19,
   "id": "1ae7d617-508a-48f6-917f-752fe05e1777",
   "metadata": {
    "scrolled": true
   },
   "outputs": [
    {
     "data": {
      "text/plain": [
       "[{'auc_mean': np.float64(0.6175),\n",
       "  'auc_std': np.float64(0.16254059322041509),\n",
       "  'auc': [[np.float64(0.625),\n",
       "    np.float64(0.5),\n",
       "    np.float64(0.625),\n",
       "    np.float64(0.5625),\n",
       "    np.float64(0.6875)],\n",
       "   [np.float64(0.625),\n",
       "    np.float64(0.75),\n",
       "    np.float64(0.5625),\n",
       "    np.float64(0.8125),\n",
       "    np.float64(0.375)],\n",
       "   [np.float64(0.625),\n",
       "    np.float64(0.75),\n",
       "    np.float64(0.875),\n",
       "    np.float64(0.75),\n",
       "    np.float64(0.8125)],\n",
       "   [np.float64(0.41666666666666663),\n",
       "    np.float64(0.6666666666666666),\n",
       "    np.float64(0.75),\n",
       "    np.float64(0.3333333333333333),\n",
       "    np.float64(0.75)],\n",
       "   [np.float64(0.5),\n",
       "    np.float64(0.5),\n",
       "    np.float64(0.25),\n",
       "    np.float64(0.8333333333333333),\n",
       "    np.float64(0.5)]],\n",
       "  'param': {'lr': 1e-07, 'epoch': 7}},\n",
       " {'auc_mean': np.float64(0.5941666666666666),\n",
       "  'auc_std': np.float64(0.17971041520550035),\n",
       "  'auc': [[np.float64(0.5625),\n",
       "    np.float64(0.75),\n",
       "    np.float64(0.4375),\n",
       "    np.float64(0.5),\n",
       "    np.float64(0.4375)],\n",
       "   [np.float64(0.6875),\n",
       "    np.float64(0.75),\n",
       "    np.float64(0.5625),\n",
       "    np.float64(0.625),\n",
       "    np.float64(0.6875)],\n",
       "   [np.float64(0.5),\n",
       "    np.float64(0.6875),\n",
       "    np.float64(0.625),\n",
       "    np.float64(0.875),\n",
       "    np.float64(0.5)],\n",
       "   [np.float64(0.5),\n",
       "    np.float64(0.8333333333333333),\n",
       "    np.float64(0.6666666666666666),\n",
       "    np.float64(0.6666666666666666),\n",
       "    np.float64(0.3333333333333333)],\n",
       "   [np.float64(0.5),\n",
       "    np.float64(0.6666666666666666),\n",
       "    np.float64(0.3333333333333333),\n",
       "    np.float64(1.0),\n",
       "    np.float64(0.16666666666666666)]],\n",
       "  'param': {'lr': 0.0001, 'epoch': 7}},\n",
       " {'auc_mean': np.float64(0.58),\n",
       "  'auc_std': np.float64(0.19892768088484375),\n",
       "  'auc': [[np.float64(0.75),\n",
       "    np.float64(0.75),\n",
       "    np.float64(0.75),\n",
       "    np.float64(0.625),\n",
       "    np.float64(0.5)],\n",
       "   [np.float64(0.5),\n",
       "    np.float64(0.5),\n",
       "    np.float64(0.5),\n",
       "    np.float64(0.4375),\n",
       "    np.float64(0.75)],\n",
       "   [np.float64(0.375),\n",
       "    np.float64(0.4375),\n",
       "    np.float64(0.3125),\n",
       "    np.float64(0.875),\n",
       "    np.float64(0.4375)],\n",
       "   [np.float64(0.75),\n",
       "    np.float64(0.5),\n",
       "    np.float64(0.5833333333333334),\n",
       "    np.float64(0.8333333333333334),\n",
       "    np.float64(0.75)],\n",
       "   [np.float64(0.16666666666666666),\n",
       "    np.float64(0.5833333333333333),\n",
       "    np.float64(0.25),\n",
       "    np.float64(0.5833333333333333),\n",
       "    np.float64(1.0)]],\n",
       "  'param': {'lr': 5e-07, 'epoch': 15}},\n",
       " {'auc_mean': np.float64(0.575),\n",
       "  'auc_std': np.float64(0.25481474752367755),\n",
       "  'auc': [[np.float64(0.25),\n",
       "    np.float64(0.6875),\n",
       "    np.float64(0.8125),\n",
       "    np.float64(0.4375),\n",
       "    np.float64(0.5)],\n",
       "   [np.float64(0.625),\n",
       "    np.float64(0.625),\n",
       "    np.float64(0.5625),\n",
       "    np.float64(0.4375),\n",
       "    np.float64(0.25)],\n",
       "   [np.float64(0.9375),\n",
       "    np.float64(0.625),\n",
       "    np.float64(0.8125),\n",
       "    np.float64(0.875),\n",
       "    np.float64(0.4375)],\n",
       "   [np.float64(0.5833333333333333),\n",
       "    np.float64(0.5),\n",
       "    np.float64(0.75),\n",
       "    np.float64(0.25),\n",
       "    np.float64(0.16666666666666666)],\n",
       "   [np.float64(0.9166666666666666),\n",
       "    np.float64(0.25),\n",
       "    np.float64(0.16666666666666666),\n",
       "    np.float64(0.9166666666666666),\n",
       "    np.float64(1.0)]],\n",
       "  'param': {'lr': 1e-07, 'epoch': 4}},\n",
       " {'auc_mean': np.float64(0.5741666666666666),\n",
       "  'auc_std': np.float64(0.17160192954108128),\n",
       "  'auc': [[np.float64(0.6875),\n",
       "    np.float64(0.25),\n",
       "    np.float64(0.6875),\n",
       "    np.float64(0.375),\n",
       "    np.float64(0.4375)],\n",
       "   [np.float64(0.5625),\n",
       "    np.float64(0.3125),\n",
       "    np.float64(0.6875),\n",
       "    np.float64(0.4375),\n",
       "    np.float64(0.625)],\n",
       "   [np.float64(0.75),\n",
       "    np.float64(0.75),\n",
       "    np.float64(0.6875),\n",
       "    np.float64(0.375),\n",
       "    np.float64(0.8125)],\n",
       "   [np.float64(0.5),\n",
       "    np.float64(0.75),\n",
       "    np.float64(0.5),\n",
       "    np.float64(0.5),\n",
       "    np.float64(0.25)],\n",
       "   [np.float64(0.5),\n",
       "    np.float64(0.6666666666666666),\n",
       "    np.float64(0.8333333333333334),\n",
       "    np.float64(0.6666666666666666),\n",
       "    np.float64(0.75)]],\n",
       "  'param': {'lr': 1e-05, 'epoch': 8}},\n",
       " {'auc_mean': np.float64(0.5666666666666668),\n",
       "  'auc_std': np.float64(0.18133379289157453),\n",
       "  'auc': [[np.float64(0.3125),\n",
       "    np.float64(0.6875),\n",
       "    np.float64(0.5),\n",
       "    np.float64(0.875),\n",
       "    np.float64(0.8125)],\n",
       "   [np.float64(0.625),\n",
       "    np.float64(0.625),\n",
       "    np.float64(0.3125),\n",
       "    np.float64(0.5625),\n",
       "    np.float64(0.375)],\n",
       "   [np.float64(0.5),\n",
       "    np.float64(0.5),\n",
       "    np.float64(0.75),\n",
       "    np.float64(0.5625),\n",
       "    np.float64(0.75)],\n",
       "   [np.float64(0.5),\n",
       "    np.float64(0.41666666666666663),\n",
       "    np.float64(0.41666666666666663),\n",
       "    np.float64(0.6666666666666666),\n",
       "    np.float64(0.5833333333333333)],\n",
       "   [np.float64(0.25),\n",
       "    np.float64(0.8333333333333334),\n",
       "    np.float64(0.75),\n",
       "    np.float64(0.25),\n",
       "    np.float64(0.75)]],\n",
       "  'param': {'lr': 1e-06, 'epoch': 10}},\n",
       " {'auc_mean': np.float64(0.5666666666666665),\n",
       "  'auc_std': np.float64(0.1632993161855452),\n",
       "  'auc': [[np.float64(0.8125),\n",
       "    np.float64(0.375),\n",
       "    np.float64(0.5),\n",
       "    np.float64(0.5625),\n",
       "    np.float64(0.4375)],\n",
       "   [np.float64(0.625),\n",
       "    np.float64(0.5),\n",
       "    np.float64(0.5625),\n",
       "    np.float64(0.4375),\n",
       "    np.float64(0.6875)],\n",
       "   [np.float64(0.3125),\n",
       "    np.float64(0.75),\n",
       "    np.float64(0.75),\n",
       "    np.float64(0.6875),\n",
       "    np.float64(0.75)],\n",
       "   [np.float64(0.3333333333333333),\n",
       "    np.float64(0.5),\n",
       "    np.float64(0.41666666666666663),\n",
       "    np.float64(0.41666666666666663),\n",
       "    np.float64(0.5)],\n",
       "   [np.float64(0.8333333333333333),\n",
       "    np.float64(0.8333333333333334),\n",
       "    np.float64(0.41666666666666663),\n",
       "    np.float64(0.41666666666666663),\n",
       "    np.float64(0.75)]],\n",
       "  'param': {'lr': 0.0001, 'epoch': 10}},\n",
       " {'auc_mean': np.float64(0.5658333333333333),\n",
       "  'auc_std': np.float64(0.1652733426108935),\n",
       "  'auc': [[np.float64(0.8125),\n",
       "    np.float64(0.6875),\n",
       "    np.float64(0.6875),\n",
       "    np.float64(0.6875),\n",
       "    np.float64(0.5)],\n",
       "   [np.float64(0.5),\n",
       "    np.float64(0.5),\n",
       "    np.float64(0.4375),\n",
       "    np.float64(0.4375),\n",
       "    np.float64(0.625)],\n",
       "   [np.float64(0.8125),\n",
       "    np.float64(0.5),\n",
       "    np.float64(0.375),\n",
       "    np.float64(0.75),\n",
       "    np.float64(0.5)],\n",
       "   [np.float64(0.6666666666666666),\n",
       "    np.float64(0.5833333333333333),\n",
       "    np.float64(1.0),\n",
       "    np.float64(0.41666666666666663),\n",
       "    np.float64(0.3333333333333333)],\n",
       "   [np.float64(0.41666666666666663),\n",
       "    np.float64(0.6666666666666666),\n",
       "    np.float64(0.41666666666666663),\n",
       "    np.float64(0.3333333333333333),\n",
       "    np.float64(0.5)]],\n",
       "  'param': {'lr': 5e-05, 'epoch': 5}},\n",
       " {'auc_mean': np.float64(0.565),\n",
       "  'auc_std': np.float64(0.210019840332606),\n",
       "  'auc': [[np.float64(0.125),\n",
       "    np.float64(0.375),\n",
       "    np.float64(0.6875),\n",
       "    np.float64(0.875),\n",
       "    np.float64(0.8125)],\n",
       "   [np.float64(0.4375),\n",
       "    np.float64(0.4375),\n",
       "    np.float64(0.625),\n",
       "    np.float64(0.5),\n",
       "    np.float64(0.75)],\n",
       "   [np.float64(0.5),\n",
       "    np.float64(0.8125),\n",
       "    np.float64(0.5625),\n",
       "    np.float64(0.6875),\n",
       "    np.float64(0.6875)],\n",
       "   [np.float64(0.5),\n",
       "    np.float64(0.5833333333333334),\n",
       "    np.float64(0.75),\n",
       "    np.float64(0.16666666666666666),\n",
       "    np.float64(0.5)],\n",
       "   [np.float64(0.6666666666666666),\n",
       "    np.float64(0.3333333333333333),\n",
       "    np.float64(0.8333333333333333),\n",
       "    np.float64(0.75),\n",
       "    np.float64(0.16666666666666666)]],\n",
       "  'param': {'lr': 1e-06, 'epoch': 4}},\n",
       " {'auc_mean': np.float64(0.5625000000000001),\n",
       "  'auc_std': np.float64(0.18171635406130437),\n",
       "  'auc': [[np.float64(0.625),\n",
       "    np.float64(0.3125),\n",
       "    np.float64(0.8125),\n",
       "    np.float64(0.875),\n",
       "    np.float64(0.5625)],\n",
       "   [np.float64(0.5),\n",
       "    np.float64(0.8125),\n",
       "    np.float64(0.5),\n",
       "    np.float64(0.75),\n",
       "    np.float64(0.5625)],\n",
       "   [np.float64(0.8125),\n",
       "    np.float64(0.5),\n",
       "    np.float64(0.1875),\n",
       "    np.float64(0.5),\n",
       "    np.float64(0.5)],\n",
       "   [np.float64(0.6666666666666666),\n",
       "    np.float64(0.5),\n",
       "    np.float64(0.6666666666666666),\n",
       "    np.float64(0.75),\n",
       "    np.float64(0.16666666666666666)],\n",
       "   [np.float64(0.3333333333333333),\n",
       "    np.float64(0.5),\n",
       "    np.float64(0.5),\n",
       "    np.float64(0.5833333333333334),\n",
       "    np.float64(0.5833333333333333)]],\n",
       "  'param': {'lr': 1e-07, 'epoch': 3}},\n",
       " {'auc_mean': np.float64(0.5616666666666666),\n",
       "  'auc_std': np.float64(0.13673778637312445),\n",
       "  'auc': [[np.float64(0.6875),\n",
       "    np.float64(0.5),\n",
       "    np.float64(0.25),\n",
       "    np.float64(0.75),\n",
       "    np.float64(0.5)],\n",
       "   [np.float64(0.625),\n",
       "    np.float64(0.4375),\n",
       "    np.float64(0.625),\n",
       "    np.float64(0.5),\n",
       "    np.float64(0.5)],\n",
       "   [np.float64(0.375),\n",
       "    np.float64(0.625),\n",
       "    np.float64(0.625),\n",
       "    np.float64(0.6875),\n",
       "    np.float64(0.6875)],\n",
       "   [np.float64(0.5),\n",
       "    np.float64(0.5833333333333334),\n",
       "    np.float64(0.3333333333333333),\n",
       "    np.float64(0.41666666666666663),\n",
       "    np.float64(0.8333333333333333)],\n",
       "   [np.float64(0.5833333333333333),\n",
       "    np.float64(0.75),\n",
       "    np.float64(0.5),\n",
       "    np.float64(0.6666666666666666),\n",
       "    np.float64(0.5)]],\n",
       "  'param': {'lr': 0.0001, 'epoch': 15}},\n",
       " {'auc_mean': np.float64(0.5583333333333333),\n",
       "  'auc_std': np.float64(0.19764235376052372),\n",
       "  'auc': [[np.float64(0.5625),\n",
       "    np.float64(0.25),\n",
       "    np.float64(0.5625),\n",
       "    np.float64(0.75),\n",
       "    np.float64(1.0)],\n",
       "   [np.float64(0.625),\n",
       "    np.float64(0.625),\n",
       "    np.float64(0.3125),\n",
       "    np.float64(0.75),\n",
       "    np.float64(0.5)],\n",
       "   [np.float64(0.6875),\n",
       "    np.float64(0.1875),\n",
       "    np.float64(0.5625),\n",
       "    np.float64(0.375),\n",
       "    np.float64(0.625)],\n",
       "   [np.float64(0.3333333333333333),\n",
       "    np.float64(0.6666666666666666),\n",
       "    np.float64(0.5),\n",
       "    np.float64(0.41666666666666663),\n",
       "    np.float64(1.0)],\n",
       "   [np.float64(0.5833333333333333),\n",
       "    np.float64(0.6666666666666666),\n",
       "    np.float64(0.3333333333333333),\n",
       "    np.float64(0.5),\n",
       "    np.float64(0.5833333333333333)]],\n",
       "  'param': {'lr': 2e-06, 'epoch': 5}},\n",
       " {'auc_mean': np.float64(0.5575),\n",
       "  'auc_std': np.float64(0.19643347757220792),\n",
       "  'auc': [[np.float64(0.5),\n",
       "    np.float64(0.5625),\n",
       "    np.float64(0.5),\n",
       "    np.float64(0.75),\n",
       "    np.float64(0.4375)],\n",
       "   [np.float64(0.25),\n",
       "    np.float64(0.625),\n",
       "    np.float64(0.6875),\n",
       "    np.float64(0.5625),\n",
       "    np.float64(0.1875)],\n",
       "   [np.float64(0.5625),\n",
       "    np.float64(0.0625),\n",
       "    np.float64(0.75),\n",
       "    np.float64(0.5625),\n",
       "    np.float64(0.6875)],\n",
       "   [np.float64(0.6666666666666666),\n",
       "    np.float64(0.6666666666666666),\n",
       "    np.float64(0.25),\n",
       "    np.float64(0.9166666666666666),\n",
       "    np.float64(0.5)],\n",
       "   [np.float64(0.8333333333333334),\n",
       "    np.float64(0.6666666666666666),\n",
       "    np.float64(0.6666666666666666),\n",
       "    np.float64(0.5833333333333333),\n",
       "    np.float64(0.5)]],\n",
       "  'param': {'lr': 2e-06, 'epoch': 10}},\n",
       " {'auc_mean': np.float64(0.5566666666666666),\n",
       "  'auc_std': np.float64(0.16185985021342109),\n",
       "  'auc': [[np.float64(0.625),\n",
       "    np.float64(0.5625),\n",
       "    np.float64(0.875),\n",
       "    np.float64(0.375),\n",
       "    np.float64(0.5625)],\n",
       "   [np.float64(0.4375),\n",
       "    np.float64(0.5),\n",
       "    np.float64(0.6875),\n",
       "    np.float64(0.625),\n",
       "    np.float64(0.625)],\n",
       "   [np.float64(0.375),\n",
       "    np.float64(0.5),\n",
       "    np.float64(0.5),\n",
       "    np.float64(0.4375),\n",
       "    np.float64(0.8125)],\n",
       "   [np.float64(0.6666666666666666),\n",
       "    np.float64(0.75),\n",
       "    np.float64(0.5),\n",
       "    np.float64(0.5),\n",
       "    np.float64(0.3333333333333333)],\n",
       "   [np.float64(0.5833333333333334),\n",
       "    np.float64(0.41666666666666663),\n",
       "    np.float64(0.9166666666666666),\n",
       "    np.float64(0.5),\n",
       "    np.float64(0.25)]],\n",
       "  'param': {'lr': 1e-08, 'epoch': 6}},\n",
       " {'auc_mean': np.float64(0.5558333333333334),\n",
       "  'auc_std': np.float64(0.21559993815707215),\n",
       "  'auc': [[np.float64(0.375),\n",
       "    np.float64(0.375),\n",
       "    np.float64(0.0),\n",
       "    np.float64(0.375),\n",
       "    np.float64(0.75)],\n",
       "   [np.float64(0.875),\n",
       "    np.float64(0.625),\n",
       "    np.float64(0.625),\n",
       "    np.float64(0.5625),\n",
       "    np.float64(0.625)],\n",
       "   [np.float64(0.5625),\n",
       "    np.float64(0.75),\n",
       "    np.float64(0.1875),\n",
       "    np.float64(0.5625),\n",
       "    np.float64(0.3125)],\n",
       "   [np.float64(0.5),\n",
       "    np.float64(0.3333333333333333),\n",
       "    np.float64(0.3333333333333333),\n",
       "    np.float64(0.6666666666666666),\n",
       "    np.float64(0.6666666666666666)],\n",
       "   [np.float64(0.8333333333333334),\n",
       "    np.float64(0.75),\n",
       "    np.float64(0.75),\n",
       "    np.float64(0.6666666666666666),\n",
       "    np.float64(0.8333333333333334)]],\n",
       "  'param': {'lr': 5e-08, 'epoch': 9}},\n",
       " {'auc_mean': np.float64(0.555),\n",
       "  'auc_std': np.float64(0.23265377232655776),\n",
       "  'auc': [[np.float64(0.25),\n",
       "    np.float64(0.75),\n",
       "    np.float64(0.3125),\n",
       "    np.float64(0.625),\n",
       "    np.float64(0.3125)],\n",
       "   [np.float64(0.625),\n",
       "    np.float64(0.75),\n",
       "    np.float64(0.375),\n",
       "    np.float64(0.6875),\n",
       "    np.float64(0.5625)],\n",
       "   [np.float64(0.8125),\n",
       "    np.float64(0.8125),\n",
       "    np.float64(0.8125),\n",
       "    np.float64(0.5),\n",
       "    np.float64(0.1875)],\n",
       "   [np.float64(1.0),\n",
       "    np.float64(0.5),\n",
       "    np.float64(0.08333333333333333),\n",
       "    np.float64(0.41666666666666663),\n",
       "    np.float64(0.6666666666666666)],\n",
       "   [np.float64(0.3333333333333333),\n",
       "    np.float64(0.8333333333333334),\n",
       "    np.float64(0.5833333333333333),\n",
       "    np.float64(0.75),\n",
       "    np.float64(0.3333333333333333)]],\n",
       "  'param': {'lr': 1e-05, 'epoch': 5}},\n",
       " {'auc_mean': np.float64(0.5541666666666667),\n",
       "  'auc_std': np.float64(0.22040051925730322),\n",
       "  'auc': [[np.float64(0.625),\n",
       "    np.float64(0.375),\n",
       "    np.float64(0.375),\n",
       "    np.float64(0.8125),\n",
       "    np.float64(0.9375)],\n",
       "   [np.float64(0.3125),\n",
       "    np.float64(0.75),\n",
       "    np.float64(0.25),\n",
       "    np.float64(0.375),\n",
       "    np.float64(0.625)],\n",
       "   [np.float64(0.8125),\n",
       "    np.float64(0.4375),\n",
       "    np.float64(0.4375),\n",
       "    np.float64(0.1875),\n",
       "    np.float64(0.875)],\n",
       "   [np.float64(0.3333333333333333),\n",
       "    np.float64(0.5833333333333333),\n",
       "    np.float64(0.6666666666666666),\n",
       "    np.float64(0.5833333333333333),\n",
       "    np.float64(0.6666666666666666)],\n",
       "   [np.float64(0.75),\n",
       "    np.float64(0.16666666666666666),\n",
       "    np.float64(0.41666666666666663),\n",
       "    np.float64(0.6666666666666666),\n",
       "    np.float64(0.8333333333333334)]],\n",
       "  'param': {'lr': 1e-06, 'epoch': 6}},\n",
       " {'auc_mean': np.float64(0.5533333333333332),\n",
       "  'auc_std': np.float64(0.2313967252241147),\n",
       "  'auc': [[np.float64(0.125),\n",
       "    np.float64(0.6875),\n",
       "    np.float64(0.8125),\n",
       "    np.float64(0.5625),\n",
       "    np.float64(0.3125)],\n",
       "   [np.float64(0.625),\n",
       "    np.float64(0.625),\n",
       "    np.float64(0.6875),\n",
       "    np.float64(0.6875),\n",
       "    np.float64(0.5)],\n",
       "   [np.float64(0.75),\n",
       "    np.float64(0.125),\n",
       "    np.float64(0.1875),\n",
       "    np.float64(0.75),\n",
       "    np.float64(0.8125)],\n",
       "   [np.float64(0.75),\n",
       "    np.float64(0.6666666666666666),\n",
       "    np.float64(0.5833333333333333),\n",
       "    np.float64(0.5),\n",
       "    np.float64(0.5)],\n",
       "   [np.float64(0.08333333333333333),\n",
       "    np.float64(0.75),\n",
       "    np.float64(0.5),\n",
       "    np.float64(0.3333333333333333),\n",
       "    np.float64(0.9166666666666666)]],\n",
       "  'param': {'lr': 0.0001, 'epoch': 4}},\n",
       " {'auc_mean': np.float64(0.5516666666666666),\n",
       "  'auc_std': np.float64(0.21482551058940835),\n",
       "  'auc': [[np.float64(0.9375),\n",
       "    np.float64(0.25),\n",
       "    np.float64(0.25),\n",
       "    np.float64(0.8125),\n",
       "    np.float64(0.625)],\n",
       "   [np.float64(0.4375),\n",
       "    np.float64(0.4375),\n",
       "    np.float64(0.4375),\n",
       "    np.float64(0.75),\n",
       "    np.float64(0.625)],\n",
       "   [np.float64(0.5625),\n",
       "    np.float64(0.25),\n",
       "    np.float64(0.1875),\n",
       "    np.float64(0.6875),\n",
       "    np.float64(0.375)],\n",
       "   [np.float64(0.6666666666666666),\n",
       "    np.float64(0.41666666666666663),\n",
       "    np.float64(0.5833333333333334),\n",
       "    np.float64(0.5833333333333333),\n",
       "    np.float64(0.5833333333333333)],\n",
       "   [np.float64(0.6666666666666666),\n",
       "    np.float64(0.6666666666666666),\n",
       "    np.float64(0.75),\n",
       "    np.float64(1.0),\n",
       "    np.float64(0.25)]],\n",
       "  'param': {'lr': 1e-08, 'epoch': 20}},\n",
       " {'auc_mean': np.float64(0.55),\n",
       "  'auc_std': np.float64(0.15556795585495392),\n",
       "  'auc': [[np.float64(0.4375),\n",
       "    np.float64(0.5625),\n",
       "    np.float64(0.6875),\n",
       "    np.float64(0.8125),\n",
       "    np.float64(0.3125)],\n",
       "   [np.float64(0.375),\n",
       "    np.float64(0.625),\n",
       "    np.float64(0.25),\n",
       "    np.float64(0.4375),\n",
       "    np.float64(0.5)],\n",
       "   [np.float64(0.75),\n",
       "    np.float64(0.8125),\n",
       "    np.float64(0.5625),\n",
       "    np.float64(0.5625),\n",
       "    np.float64(0.5625)],\n",
       "   [np.float64(0.41666666666666663),\n",
       "    np.float64(0.5),\n",
       "    np.float64(0.75),\n",
       "    np.float64(0.3333333333333333),\n",
       "    np.float64(0.5)],\n",
       "   [np.float64(0.5),\n",
       "    np.float64(0.6666666666666666),\n",
       "    np.float64(0.6666666666666666),\n",
       "    np.float64(0.41666666666666663),\n",
       "    np.float64(0.75)]],\n",
       "  'param': {'lr': 5e-05, 'epoch': 3}},\n",
       " {'auc_mean': np.float64(0.5483333333333333),\n",
       "  'auc_std': np.float64(0.15598254888145519),\n",
       "  'auc': [[np.float64(0.625),\n",
       "    np.float64(0.6875),\n",
       "    np.float64(0.6875),\n",
       "    np.float64(0.3125),\n",
       "    np.float64(0.3125)],\n",
       "   [np.float64(0.5),\n",
       "    np.float64(0.5),\n",
       "    np.float64(0.75),\n",
       "    np.float64(0.8125),\n",
       "    np.float64(0.5)],\n",
       "   [np.float64(0.5625),\n",
       "    np.float64(0.375),\n",
       "    np.float64(0.6875),\n",
       "    np.float64(0.5625),\n",
       "    np.float64(0.25)],\n",
       "   [np.float64(0.41666666666666663),\n",
       "    np.float64(0.5833333333333333),\n",
       "    np.float64(0.6666666666666666),\n",
       "    np.float64(0.41666666666666663),\n",
       "    np.float64(0.3333333333333333)],\n",
       "   [np.float64(0.6666666666666666),\n",
       "    np.float64(0.6666666666666666),\n",
       "    np.float64(0.75),\n",
       "    np.float64(0.41666666666666663),\n",
       "    np.float64(0.6666666666666666)]],\n",
       "  'param': {'lr': 5e-05, 'epoch': 12}},\n",
       " {'auc_mean': np.float64(0.5475),\n",
       "  'auc_std': np.float64(0.20039197699619724),\n",
       "  'auc': [[np.float64(0.9375),\n",
       "    np.float64(0.75),\n",
       "    np.float64(0.5625),\n",
       "    np.float64(0.375),\n",
       "    np.float64(0.3125)],\n",
       "   [np.float64(0.625),\n",
       "    np.float64(0.6875),\n",
       "    np.float64(0.5625),\n",
       "    np.float64(0.75),\n",
       "    np.float64(0.375)],\n",
       "   [np.float64(0.5),\n",
       "    np.float64(0.5625),\n",
       "    np.float64(0.9375),\n",
       "    np.float64(0.5),\n",
       "    np.float64(0.5)],\n",
       "   [np.float64(0.6666666666666666),\n",
       "    np.float64(0.6666666666666666),\n",
       "    np.float64(0.5833333333333333),\n",
       "    np.float64(0.41666666666666663),\n",
       "    np.float64(0.6666666666666666)],\n",
       "   [np.float64(0.3333333333333333),\n",
       "    np.float64(0.16666666666666666),\n",
       "    np.float64(0.5833333333333334),\n",
       "    np.float64(0.5833333333333333),\n",
       "    np.float64(0.08333333333333333)]],\n",
       "  'param': {'lr': 2e-06, 'epoch': 20}},\n",
       " {'auc_mean': np.float64(0.5475),\n",
       "  'auc_std': np.float64(0.13417960600130957),\n",
       "  'auc': [[np.float64(0.5625),\n",
       "    np.float64(0.75),\n",
       "    np.float64(0.75),\n",
       "    np.float64(0.75),\n",
       "    np.float64(0.5625)],\n",
       "   [np.float64(0.625),\n",
       "    np.float64(0.25),\n",
       "    np.float64(0.625),\n",
       "    np.float64(0.4375),\n",
       "    np.float64(0.4375)],\n",
       "   [np.float64(0.3125),\n",
       "    np.float64(0.6875),\n",
       "    np.float64(0.4375),\n",
       "    np.float64(0.625),\n",
       "    np.float64(0.625)],\n",
       "   [np.float64(0.3333333333333333),\n",
       "    np.float64(0.5),\n",
       "    np.float64(0.5833333333333334),\n",
       "    np.float64(0.41666666666666663),\n",
       "    np.float64(0.5)],\n",
       "   [np.float64(0.6666666666666666),\n",
       "    np.float64(0.6666666666666666),\n",
       "    np.float64(0.5),\n",
       "    np.float64(0.5),\n",
       "    np.float64(0.5833333333333333)]],\n",
       "  'param': {'lr': 5e-05, 'epoch': 10}},\n",
       " {'auc_mean': np.float64(0.5466666666666666),\n",
       "  'auc_std': np.float64(0.2102643838388021),\n",
       "  'auc': [[np.float64(0.875),\n",
       "    np.float64(0.3125),\n",
       "    np.float64(0.625),\n",
       "    np.float64(0.8125),\n",
       "    np.float64(0.875)],\n",
       "   [np.float64(0.5),\n",
       "    np.float64(0.3125),\n",
       "    np.float64(0.4375),\n",
       "    np.float64(0.4375),\n",
       "    np.float64(0.9375)],\n",
       "   [np.float64(0.625),\n",
       "    np.float64(0.6875),\n",
       "    np.float64(0.125),\n",
       "    np.float64(0.625),\n",
       "    np.float64(0.5625)],\n",
       "   [np.float64(0.41666666666666663),\n",
       "    np.float64(0.5),\n",
       "    np.float64(0.5),\n",
       "    np.float64(0.3333333333333333),\n",
       "    np.float64(0.5833333333333333)],\n",
       "   [np.float64(0.75),\n",
       "    np.float64(0.5),\n",
       "    np.float64(0.16666666666666666),\n",
       "    np.float64(0.75),\n",
       "    np.float64(0.41666666666666663)]],\n",
       "  'param': {'lr': 2e-05, 'epoch': 6}},\n",
       " {'auc_mean': np.float64(0.545),\n",
       "  'auc_std': np.float64(0.18518759257694464),\n",
       "  'auc': [[np.float64(0.6875),\n",
       "    np.float64(0.75),\n",
       "    np.float64(0.625),\n",
       "    np.float64(0.5),\n",
       "    np.float64(0.25)],\n",
       "   [np.float64(0.6875),\n",
       "    np.float64(0.625),\n",
       "    np.float64(0.625),\n",
       "    np.float64(0.375),\n",
       "    np.float64(0.625)],\n",
       "   [np.float64(0.625),\n",
       "    np.float64(0.6875),\n",
       "    np.float64(0.3125),\n",
       "    np.float64(0.25),\n",
       "    np.float64(0.75)],\n",
       "   [np.float64(0.5),\n",
       "    np.float64(0.3333333333333333),\n",
       "    np.float64(0.41666666666666663),\n",
       "    np.float64(0.5),\n",
       "    np.float64(0.3333333333333333)],\n",
       "   [np.float64(0.5833333333333334),\n",
       "    np.float64(0.5833333333333333),\n",
       "    np.float64(0.9166666666666666),\n",
       "    np.float64(0.25),\n",
       "    np.float64(0.8333333333333333)]],\n",
       "  'param': {'lr': 0.0001, 'epoch': 9}},\n",
       " {'auc_mean': np.float64(0.5449999999999999),\n",
       "  'auc_std': np.float64(0.20401184606128472),\n",
       "  'auc': [[np.float64(0.9375),\n",
       "    np.float64(0.5625),\n",
       "    np.float64(0.4375),\n",
       "    np.float64(0.75),\n",
       "    np.float64(0.75)],\n",
       "   [np.float64(0.5),\n",
       "    np.float64(0.75),\n",
       "    np.float64(0.4375),\n",
       "    np.float64(0.625),\n",
       "    np.float64(0.625)],\n",
       "   [np.float64(0.25),\n",
       "    np.float64(0.375),\n",
       "    np.float64(0.25),\n",
       "    np.float64(0.5625),\n",
       "    np.float64(0.5625)],\n",
       "   [np.float64(0.25),\n",
       "    np.float64(0.5833333333333333),\n",
       "    np.float64(0.9166666666666666),\n",
       "    np.float64(0.75),\n",
       "    np.float64(0.5833333333333333)],\n",
       "   [np.float64(0.3333333333333333),\n",
       "    np.float64(0.5),\n",
       "    np.float64(0.41666666666666663),\n",
       "    np.float64(0.75),\n",
       "    np.float64(0.16666666666666666)]],\n",
       "  'param': {'lr': 5e-07, 'epoch': 8}},\n",
       " {'auc_mean': np.float64(0.5433333333333333),\n",
       "  'auc_std': np.float64(0.20496612186190946),\n",
       "  'auc': [[np.float64(0.4375),\n",
       "    np.float64(0.375),\n",
       "    np.float64(0.625),\n",
       "    np.float64(0.5625),\n",
       "    np.float64(0.3125)],\n",
       "   [np.float64(0.4375),\n",
       "    np.float64(0.375),\n",
       "    np.float64(0.8125),\n",
       "    np.float64(0.4375),\n",
       "    np.float64(0.75)],\n",
       "   [np.float64(0.5),\n",
       "    np.float64(0.375),\n",
       "    np.float64(0.75),\n",
       "    np.float64(0.3125),\n",
       "    np.float64(0.9375)],\n",
       "   [np.float64(0.5833333333333334),\n",
       "    np.float64(0.16666666666666666),\n",
       "    np.float64(0.8333333333333334),\n",
       "    np.float64(0.3333333333333333),\n",
       "    np.float64(0.3333333333333333)],\n",
       "   [np.float64(0.8333333333333334),\n",
       "    np.float64(0.5),\n",
       "    np.float64(0.5),\n",
       "    np.float64(0.6666666666666666),\n",
       "    np.float64(0.8333333333333334)]],\n",
       "  'param': {'lr': 5e-05, 'epoch': 4}},\n",
       " {'auc_mean': np.float64(0.5425000000000001),\n",
       "  'auc_std': np.float64(0.248291383481407),\n",
       "  'auc': [[np.float64(0.75),\n",
       "    np.float64(0.0),\n",
       "    np.float64(0.5625),\n",
       "    np.float64(0.8125),\n",
       "    np.float64(0.1875)],\n",
       "   [np.float64(0.625),\n",
       "    np.float64(0.3125),\n",
       "    np.float64(0.75),\n",
       "    np.float64(0.5),\n",
       "    np.float64(0.5)],\n",
       "   [np.float64(0.6875),\n",
       "    np.float64(0.75),\n",
       "    np.float64(0.6875),\n",
       "    np.float64(0.3125),\n",
       "    np.float64(0.625)],\n",
       "   [np.float64(0.3333333333333333),\n",
       "    np.float64(0.8333333333333334),\n",
       "    np.float64(0.5833333333333333),\n",
       "    np.float64(0.5),\n",
       "    np.float64(1.0)],\n",
       "   [np.float64(0.5),\n",
       "    np.float64(0.41666666666666663),\n",
       "    np.float64(0.9166666666666666),\n",
       "    np.float64(0.3333333333333333),\n",
       "    np.float64(0.08333333333333333)]],\n",
       "  'param': {'lr': 5e-07, 'epoch': 20}},\n",
       " {'auc_mean': np.float64(0.5416666666666667),\n",
       "  'auc_std': np.float64(0.23033791601808754),\n",
       "  'auc': [[np.float64(0.3125),\n",
       "    np.float64(0.5),\n",
       "    np.float64(0.75),\n",
       "    np.float64(0.8125),\n",
       "    np.float64(0.5625)],\n",
       "   [np.float64(0.25),\n",
       "    np.float64(0.1875),\n",
       "    np.float64(0.5),\n",
       "    np.float64(0.75),\n",
       "    np.float64(0.375)],\n",
       "   [np.float64(0.625),\n",
       "    np.float64(0.625),\n",
       "    np.float64(0.375),\n",
       "    np.float64(0.375),\n",
       "    np.float64(0.625)],\n",
       "   [np.float64(1.0),\n",
       "    np.float64(0.0),\n",
       "    np.float64(0.75),\n",
       "    np.float64(0.6666666666666666),\n",
       "    np.float64(0.6666666666666666)],\n",
       "   [np.float64(0.5833333333333334),\n",
       "    np.float64(0.3333333333333333),\n",
       "    np.float64(0.8333333333333334),\n",
       "    np.float64(0.3333333333333333),\n",
       "    np.float64(0.75)]],\n",
       "  'param': {'lr': 1e-08, 'epoch': 15}},\n",
       " {'auc_mean': np.float64(0.5416666666666666),\n",
       "  'auc_std': np.float64(0.17320508075688773),\n",
       "  'auc': [[np.float64(0.5625),\n",
       "    np.float64(0.375),\n",
       "    np.float64(0.5),\n",
       "    np.float64(0.375),\n",
       "    np.float64(0.4375)],\n",
       "   [np.float64(0.4375),\n",
       "    np.float64(0.5),\n",
       "    np.float64(0.6875),\n",
       "    np.float64(0.3125),\n",
       "    np.float64(0.6875)],\n",
       "   [np.float64(0.6875),\n",
       "    np.float64(0.5),\n",
       "    np.float64(0.4375),\n",
       "    np.float64(0.75),\n",
       "    np.float64(0.625)],\n",
       "   [np.float64(0.8333333333333333),\n",
       "    np.float64(0.5),\n",
       "    np.float64(0.41666666666666663),\n",
       "    np.float64(0.75),\n",
       "    np.float64(0.5)],\n",
       "   [np.float64(0.5833333333333333),\n",
       "    np.float64(0.3333333333333333),\n",
       "    np.float64(0.16666666666666666),\n",
       "    np.float64(0.9166666666666666),\n",
       "    np.float64(0.6666666666666666)]],\n",
       "  'param': {'lr': 5e-07, 'epoch': 12}},\n",
       " {'auc_mean': np.float64(0.5416666666666666),\n",
       "  'auc_std': np.float64(0.21131203888509945),\n",
       "  'auc': [[np.float64(0.1875),\n",
       "    np.float64(0.75),\n",
       "    np.float64(0.625),\n",
       "    np.float64(0.1875),\n",
       "    np.float64(0.125)],\n",
       "   [np.float64(0.5),\n",
       "    np.float64(0.625),\n",
       "    np.float64(0.4375),\n",
       "    np.float64(0.8125),\n",
       "    np.float64(0.4375)],\n",
       "   [np.float64(0.8125),\n",
       "    np.float64(0.5625),\n",
       "    np.float64(0.625),\n",
       "    np.float64(0.75),\n",
       "    np.float64(0.6875)],\n",
       "   [np.float64(0.5833333333333334),\n",
       "    np.float64(0.5),\n",
       "    np.float64(0.41666666666666663),\n",
       "    np.float64(0.5),\n",
       "    np.float64(0.3333333333333333)],\n",
       "   [np.float64(0.8333333333333333),\n",
       "    np.float64(0.3333333333333333),\n",
       "    np.float64(0.3333333333333333),\n",
       "    np.float64(0.9166666666666666),\n",
       "    np.float64(0.6666666666666666)]],\n",
       "  'param': {'lr': 5e-05, 'epoch': 8}},\n",
       " {'auc_mean': np.float64(0.5408333333333333),\n",
       "  'auc_std': np.float64(0.17731406536927005),\n",
       "  'auc': [[np.float64(0.3125),\n",
       "    np.float64(0.6875),\n",
       "    np.float64(0.5625),\n",
       "    np.float64(0.5),\n",
       "    np.float64(0.6875)],\n",
       "   [np.float64(0.25),\n",
       "    np.float64(0.5),\n",
       "    np.float64(0.5625),\n",
       "    np.float64(0.625),\n",
       "    np.float64(0.375)],\n",
       "   [np.float64(0.4375),\n",
       "    np.float64(0.5),\n",
       "    np.float64(0.625),\n",
       "    np.float64(0.5625),\n",
       "    np.float64(0.75)],\n",
       "   [np.float64(0.3333333333333333),\n",
       "    np.float64(0.41666666666666663),\n",
       "    np.float64(0.9166666666666666),\n",
       "    np.float64(0.6666666666666666),\n",
       "    np.float64(0.3333333333333333)],\n",
       "   [np.float64(0.5),\n",
       "    np.float64(0.9166666666666666),\n",
       "    np.float64(0.25),\n",
       "    np.float64(0.5833333333333334),\n",
       "    np.float64(0.6666666666666666)]],\n",
       "  'param': {'lr': 0.0001, 'epoch': 5}},\n",
       " {'auc_mean': np.float64(0.5358333333333334),\n",
       "  'auc_std': np.float64(0.17633616884928752),\n",
       "  'auc': [[np.float64(0.1875),\n",
       "    np.float64(0.125),\n",
       "    np.float64(0.375),\n",
       "    np.float64(0.6875),\n",
       "    np.float64(0.75)],\n",
       "   [np.float64(0.625),\n",
       "    np.float64(0.5625),\n",
       "    np.float64(0.625),\n",
       "    np.float64(0.375),\n",
       "    np.float64(0.8125)],\n",
       "   [np.float64(0.625),\n",
       "    np.float64(0.375),\n",
       "    np.float64(0.375),\n",
       "    np.float64(0.4375),\n",
       "    np.float64(0.375)],\n",
       "   [np.float64(0.5),\n",
       "    np.float64(0.6666666666666666),\n",
       "    np.float64(0.6666666666666666),\n",
       "    np.float64(0.5),\n",
       "    np.float64(0.5)],\n",
       "   [np.float64(0.5),\n",
       "    np.float64(0.8333333333333333),\n",
       "    np.float64(0.5833333333333333),\n",
       "    np.float64(0.75),\n",
       "    np.float64(0.5833333333333333)]],\n",
       "  'param': {'lr': 5e-06, 'epoch': 10}},\n",
       " {'auc_mean': np.float64(0.535),\n",
       "  'auc_std': np.float64(0.14763411981426697),\n",
       "  'auc': [[np.float64(0.6875),\n",
       "    np.float64(0.625),\n",
       "    np.float64(0.6875),\n",
       "    np.float64(0.5625),\n",
       "    np.float64(0.625)],\n",
       "   [np.float64(0.6875),\n",
       "    np.float64(0.6875),\n",
       "    np.float64(0.5),\n",
       "    np.float64(0.5),\n",
       "    np.float64(0.375)],\n",
       "   [np.float64(0.625),\n",
       "    np.float64(0.5),\n",
       "    np.float64(0.125),\n",
       "    np.float64(0.5625),\n",
       "    np.float64(0.625)],\n",
       "   [np.float64(0.6666666666666666),\n",
       "    np.float64(0.6666666666666666),\n",
       "    np.float64(0.5),\n",
       "    np.float64(0.5),\n",
       "    np.float64(0.25)],\n",
       "   [np.float64(0.3333333333333333),\n",
       "    np.float64(0.3333333333333333),\n",
       "    np.float64(0.6666666666666666),\n",
       "    np.float64(0.5),\n",
       "    np.float64(0.5833333333333334)]],\n",
       "  'param': {'lr': 2e-06, 'epoch': 3}},\n",
       " {'auc_mean': np.float64(0.5333333333333333),\n",
       "  'auc_std': np.float64(0.23607025790358824),\n",
       "  'auc': [[np.float64(0.75),\n",
       "    np.float64(0.6875),\n",
       "    np.float64(0.8125),\n",
       "    np.float64(0.5625),\n",
       "    np.float64(0.3125)],\n",
       "   [np.float64(0.4375),\n",
       "    np.float64(0.5625),\n",
       "    np.float64(0.75),\n",
       "    np.float64(0.875),\n",
       "    np.float64(0.4375)],\n",
       "   [np.float64(0.75),\n",
       "    np.float64(0.4375),\n",
       "    np.float64(0.5625),\n",
       "    np.float64(0.375),\n",
       "    np.float64(0.4375)],\n",
       "   [np.float64(0.8333333333333334),\n",
       "    np.float64(0.0),\n",
       "    np.float64(0.5833333333333333),\n",
       "    np.float64(0.08333333333333333),\n",
       "    np.float64(0.08333333333333333)],\n",
       "   [np.float64(0.41666666666666663),\n",
       "    np.float64(0.41666666666666663),\n",
       "    np.float64(0.75),\n",
       "    np.float64(0.75),\n",
       "    np.float64(0.6666666666666666)]],\n",
       "  'param': {'lr': 2e-05, 'epoch': 9}},\n",
       " {'auc_mean': np.float64(0.5325),\n",
       "  'auc_std': np.float64(0.17391329257228538),\n",
       "  'auc': [[np.float64(0.8125),\n",
       "    np.float64(0.875),\n",
       "    np.float64(0.75),\n",
       "    np.float64(0.625),\n",
       "    np.float64(0.6875)],\n",
       "   [np.float64(0.625),\n",
       "    np.float64(0.5),\n",
       "    np.float64(0.375),\n",
       "    np.float64(0.3125),\n",
       "    np.float64(0.4375)],\n",
       "   [np.float64(0.5625),\n",
       "    np.float64(0.375),\n",
       "    np.float64(0.4375),\n",
       "    np.float64(0.5),\n",
       "    np.float64(0.4375)],\n",
       "   [np.float64(0.5833333333333333),\n",
       "    np.float64(0.75),\n",
       "    np.float64(0.5),\n",
       "    np.float64(0.41666666666666663),\n",
       "    np.float64(0.5)],\n",
       "   [np.float64(0.08333333333333333),\n",
       "    np.float64(0.6666666666666666),\n",
       "    np.float64(0.5),\n",
       "    np.float64(0.6666666666666666),\n",
       "    np.float64(0.3333333333333333)]],\n",
       "  'param': {'lr': 5e-08, 'epoch': 15}},\n",
       " {'auc_mean': np.float64(0.5325),\n",
       "  'auc_std': np.float64(0.2165127658540664),\n",
       "  'auc': [[np.float64(0.5625),\n",
       "    np.float64(0.875),\n",
       "    np.float64(0.4375),\n",
       "    np.float64(0.75),\n",
       "    np.float64(0.1875)],\n",
       "   [np.float64(0.625),\n",
       "    np.float64(0.625),\n",
       "    np.float64(0.25),\n",
       "    np.float64(0.4375),\n",
       "    np.float64(0.5)],\n",
       "   [np.float64(0.75),\n",
       "    np.float64(0.5),\n",
       "    np.float64(0.3125),\n",
       "    np.float64(0.75),\n",
       "    np.float64(0.5)],\n",
       "   [np.float64(0.3333333333333333),\n",
       "    np.float64(0.6666666666666666),\n",
       "    np.float64(0.41666666666666663),\n",
       "    np.float64(0.5833333333333333),\n",
       "    np.float64(0.0)],\n",
       "   [np.float64(0.8333333333333333),\n",
       "    np.float64(0.8333333333333333),\n",
       "    np.float64(0.5),\n",
       "    np.float64(0.3333333333333333),\n",
       "    np.float64(0.75)]],\n",
       "  'param': {'lr': 2e-05, 'epoch': 10}},\n",
       " {'auc_mean': np.float64(0.5283333333333333),\n",
       "  'auc_std': np.float64(0.17508727982225195),\n",
       "  'auc': [[np.float64(0.625),\n",
       "    np.float64(0.4375),\n",
       "    np.float64(0.5),\n",
       "    np.float64(0.5),\n",
       "    np.float64(0.1875)],\n",
       "   [np.float64(0.625),\n",
       "    np.float64(0.4375),\n",
       "    np.float64(0.4375),\n",
       "    np.float64(0.25),\n",
       "    np.float64(0.4375)],\n",
       "   [np.float64(0.5625),\n",
       "    np.float64(0.4375),\n",
       "    np.float64(0.625),\n",
       "    np.float64(0.8125),\n",
       "    np.float64(0.5)],\n",
       "   [np.float64(0.5833333333333333),\n",
       "    np.float64(0.5),\n",
       "    np.float64(0.5833333333333333),\n",
       "    np.float64(0.6666666666666666),\n",
       "    np.float64(0.41666666666666663)],\n",
       "   [np.float64(0.25),\n",
       "    np.float64(0.75),\n",
       "    np.float64(0.6666666666666666),\n",
       "    np.float64(1.0),\n",
       "    np.float64(0.41666666666666663)]],\n",
       "  'param': {'lr': 8e-07, 'epoch': 6}},\n",
       " {'auc_mean': np.float64(0.5275000000000001),\n",
       "  'auc_std': np.float64(0.1826426383223078),\n",
       "  'auc': [[np.float64(0.4375),\n",
       "    np.float64(0.5),\n",
       "    np.float64(0.75),\n",
       "    np.float64(0.75),\n",
       "    np.float64(0.75)],\n",
       "   [np.float64(0.75),\n",
       "    np.float64(0.5),\n",
       "    np.float64(0.5625),\n",
       "    np.float64(0.3125),\n",
       "    np.float64(0.5)],\n",
       "   [np.float64(0.6875),\n",
       "    np.float64(0.4375),\n",
       "    np.float64(0.5),\n",
       "    np.float64(0.75),\n",
       "    np.float64(0.5)],\n",
       "   [np.float64(0.3333333333333333),\n",
       "    np.float64(0.25),\n",
       "    np.float64(0.3333333333333333),\n",
       "    np.float64(0.3333333333333333),\n",
       "    np.float64(0.16666666666666666)],\n",
       "   [np.float64(0.3333333333333333),\n",
       "    np.float64(0.6666666666666666),\n",
       "    np.float64(0.8333333333333334),\n",
       "    np.float64(0.6666666666666666),\n",
       "    np.float64(0.5833333333333334)]],\n",
       "  'param': {'lr': 0.0001, 'epoch': 12}},\n",
       " {'auc_mean': np.float64(0.5275),\n",
       "  'auc_std': np.float64(0.16295023098411912),\n",
       "  'auc': [[np.float64(0.375),\n",
       "    np.float64(0.4375),\n",
       "    np.float64(0.8125),\n",
       "    np.float64(0.75),\n",
       "    np.float64(0.75)],\n",
       "   [np.float64(0.6875),\n",
       "    np.float64(0.5),\n",
       "    np.float64(0.75),\n",
       "    np.float64(0.5),\n",
       "    np.float64(0.5)],\n",
       "   [np.float64(0.625),\n",
       "    np.float64(0.4375),\n",
       "    np.float64(0.5625),\n",
       "    np.float64(0.75),\n",
       "    np.float64(0.5)],\n",
       "   [np.float64(0.5),\n",
       "    np.float64(0.41666666666666663),\n",
       "    np.float64(0.5),\n",
       "    np.float64(0.41666666666666663),\n",
       "    np.float64(0.08333333333333333)],\n",
       "   [np.float64(0.5),\n",
       "    np.float64(0.5),\n",
       "    np.float64(0.5),\n",
       "    np.float64(0.5833333333333333),\n",
       "    np.float64(0.25)]],\n",
       "  'param': {'lr': 0.0001, 'epoch': 8}},\n",
       " {'auc_mean': np.float64(0.5266666666666667),\n",
       "  'auc_std': np.float64(0.16672082453410952),\n",
       "  'auc': [[np.float64(0.625),\n",
       "    np.float64(0.75),\n",
       "    np.float64(0.8125),\n",
       "    np.float64(0.3125),\n",
       "    np.float64(0.5625)],\n",
       "   [np.float64(0.625),\n",
       "    np.float64(0.3125),\n",
       "    np.float64(0.5625),\n",
       "    np.float64(0.3125),\n",
       "    np.float64(0.5625)],\n",
       "   [np.float64(0.1875),\n",
       "    np.float64(0.5625),\n",
       "    np.float64(0.75),\n",
       "    np.float64(0.5625),\n",
       "    np.float64(0.75)],\n",
       "   [np.float64(0.41666666666666663),\n",
       "    np.float64(0.5),\n",
       "    np.float64(0.6666666666666666),\n",
       "    np.float64(0.5),\n",
       "    np.float64(0.3333333333333333)],\n",
       "   [np.float64(0.75),\n",
       "    np.float64(0.41666666666666663),\n",
       "    np.float64(0.5833333333333334),\n",
       "    np.float64(0.41666666666666663),\n",
       "    np.float64(0.3333333333333333)]],\n",
       "  'param': {'lr': 1e-08, 'epoch': 5}},\n",
       " {'auc_mean': np.float64(0.5266666666666666),\n",
       "  'auc_std': np.float64(0.2132356547213539),\n",
       "  'auc': [[np.float64(0.75),\n",
       "    np.float64(0.25),\n",
       "    np.float64(0.625),\n",
       "    np.float64(0.25),\n",
       "    np.float64(0.8125)],\n",
       "   [np.float64(0.75),\n",
       "    np.float64(0.5),\n",
       "    np.float64(0.625),\n",
       "    np.float64(0.3125),\n",
       "    np.float64(0.375)],\n",
       "   [np.float64(0.6875),\n",
       "    np.float64(0.5),\n",
       "    np.float64(0.375),\n",
       "    np.float64(0.6875),\n",
       "    np.float64(0.75)],\n",
       "   [np.float64(0.16666666666666666),\n",
       "    np.float64(0.25),\n",
       "    np.float64(0.6666666666666666),\n",
       "    np.float64(0.41666666666666663),\n",
       "    np.float64(0.08333333333333333)],\n",
       "   [np.float64(0.5833333333333334),\n",
       "    np.float64(0.5833333333333333),\n",
       "    np.float64(0.5833333333333334),\n",
       "    np.float64(0.75),\n",
       "    np.float64(0.8333333333333334)]],\n",
       "  'param': {'lr': 5e-06, 'epoch': 8}},\n",
       " {'auc_mean': np.float64(0.5258333333333333),\n",
       "  'auc_std': np.float64(0.13910427743243556),\n",
       "  'auc': [[np.float64(0.3125),\n",
       "    np.float64(0.75),\n",
       "    np.float64(0.5),\n",
       "    np.float64(0.5625),\n",
       "    np.float64(0.5625)],\n",
       "   [np.float64(0.4375),\n",
       "    np.float64(0.4375),\n",
       "    np.float64(0.6875),\n",
       "    np.float64(0.5),\n",
       "    np.float64(0.6875)],\n",
       "   [np.float64(0.6875),\n",
       "    np.float64(0.625),\n",
       "    np.float64(0.75),\n",
       "    np.float64(0.625),\n",
       "    np.float64(0.6875)],\n",
       "   [np.float64(0.25),\n",
       "    np.float64(0.3333333333333333),\n",
       "    np.float64(0.3333333333333333),\n",
       "    np.float64(0.5),\n",
       "    np.float64(0.5833333333333334)],\n",
       "   [np.float64(0.5833333333333333),\n",
       "    np.float64(0.5),\n",
       "    np.float64(0.41666666666666663),\n",
       "    np.float64(0.41666666666666663),\n",
       "    np.float64(0.41666666666666663)]],\n",
       "  'param': {'lr': 0.0001, 'epoch': 6}},\n",
       " {'auc_mean': np.float64(0.525),\n",
       "  'auc_std': np.float64(0.21188636891818532),\n",
       "  'auc': [[np.float64(0.4375),\n",
       "    np.float64(0.875),\n",
       "    np.float64(0.375),\n",
       "    np.float64(0.5),\n",
       "    np.float64(0.4375)],\n",
       "   [np.float64(0.4375),\n",
       "    np.float64(0.4375),\n",
       "    np.float64(0.75),\n",
       "    np.float64(0.5),\n",
       "    np.float64(0.375)],\n",
       "   [np.float64(0.3125),\n",
       "    np.float64(0.375),\n",
       "    np.float64(0.625),\n",
       "    np.float64(0.8125),\n",
       "    np.float64(0.875)],\n",
       "   [np.float64(0.3333333333333333),\n",
       "    np.float64(0.75),\n",
       "    np.float64(0.5),\n",
       "    np.float64(0.0),\n",
       "    np.float64(0.41666666666666663)],\n",
       "   [np.float64(0.8333333333333333),\n",
       "    np.float64(0.5),\n",
       "    np.float64(0.41666666666666663),\n",
       "    np.float64(0.41666666666666663),\n",
       "    np.float64(0.8333333333333334)]],\n",
       "  'param': {'lr': 2e-06, 'epoch': 6}},\n",
       " {'auc_mean': np.float64(0.525),\n",
       "  'auc_std': np.float64(0.1871756453768017),\n",
       "  'auc': [[np.float64(0.5625),\n",
       "    np.float64(0.5),\n",
       "    np.float64(0.5625),\n",
       "    np.float64(0.375),\n",
       "    np.float64(0.25)],\n",
       "   [np.float64(0.6875),\n",
       "    np.float64(0.6875),\n",
       "    np.float64(0.75),\n",
       "    np.float64(0.5),\n",
       "    np.float64(0.375)],\n",
       "   [np.float64(0.5625),\n",
       "    np.float64(0.5),\n",
       "    np.float64(0.5625),\n",
       "    np.float64(0.875),\n",
       "    np.float64(0.625)],\n",
       "   [np.float64(0.5),\n",
       "    np.float64(0.41666666666666663),\n",
       "    np.float64(0.3333333333333333),\n",
       "    np.float64(0.3333333333333333),\n",
       "    np.float64(0.8333333333333334)],\n",
       "   [np.float64(0.16666666666666666),\n",
       "    np.float64(0.16666666666666666),\n",
       "    np.float64(0.5833333333333334),\n",
       "    np.float64(0.6666666666666666),\n",
       "    np.float64(0.75)]],\n",
       "  'param': {'lr': 5e-05, 'epoch': 20}},\n",
       " {'auc_mean': np.float64(0.5241666666666667),\n",
       "  'auc_std': np.float64(0.20536890925573154),\n",
       "  'auc': [[np.float64(0.3125),\n",
       "    np.float64(0.5625),\n",
       "    np.float64(0.9375),\n",
       "    np.float64(0.1875),\n",
       "    np.float64(0.6875)],\n",
       "   [np.float64(0.75),\n",
       "    np.float64(0.5625),\n",
       "    np.float64(0.4375),\n",
       "    np.float64(0.5),\n",
       "    np.float64(0.625)],\n",
       "   [np.float64(0.5625),\n",
       "    np.float64(0.4375),\n",
       "    np.float64(0.9375),\n",
       "    np.float64(0.4375),\n",
       "    np.float64(0.25)],\n",
       "   [np.float64(0.5),\n",
       "    np.float64(0.5833333333333334),\n",
       "    np.float64(0.5),\n",
       "    np.float64(0.9166666666666666),\n",
       "    np.float64(0.25)],\n",
       "   [np.float64(0.3333333333333333),\n",
       "    np.float64(0.5),\n",
       "    np.float64(0.6666666666666666),\n",
       "    np.float64(0.3333333333333333),\n",
       "    np.float64(0.3333333333333333)]],\n",
       "  'param': {'lr': 1e-07, 'epoch': 5}},\n",
       " {'auc_mean': np.float64(0.5241666666666667),\n",
       "  'auc_std': np.float64(0.16058486852751724),\n",
       "  'auc': [[np.float64(0.4375),\n",
       "    np.float64(0.375),\n",
       "    np.float64(0.25),\n",
       "    np.float64(0.6875),\n",
       "    np.float64(0.5625)],\n",
       "   [np.float64(0.1875),\n",
       "    np.float64(0.4375),\n",
       "    np.float64(0.625),\n",
       "    np.float64(0.6875),\n",
       "    np.float64(0.625)],\n",
       "   [np.float64(0.5),\n",
       "    np.float64(0.6875),\n",
       "    np.float64(0.375),\n",
       "    np.float64(0.5),\n",
       "    np.float64(0.75)],\n",
       "   [np.float64(0.6666666666666666),\n",
       "    np.float64(0.3333333333333333),\n",
       "    np.float64(0.5833333333333334),\n",
       "    np.float64(0.5),\n",
       "    np.float64(0.5833333333333334)],\n",
       "   [np.float64(0.5833333333333333),\n",
       "    np.float64(0.5),\n",
       "    np.float64(0.8333333333333334),\n",
       "    np.float64(0.25),\n",
       "    np.float64(0.5833333333333333)]],\n",
       "  'param': {'lr': 5e-07, 'epoch': 9}},\n",
       " {'auc_mean': np.float64(0.5241666666666667),\n",
       "  'auc_std': np.float64(0.187053171287976),\n",
       "  'auc': [[np.float64(0.6875),\n",
       "    np.float64(0.8125),\n",
       "    np.float64(0.75),\n",
       "    np.float64(0.1875),\n",
       "    np.float64(0.5)],\n",
       "   [np.float64(0.5),\n",
       "    np.float64(0.875),\n",
       "    np.float64(0.25),\n",
       "    np.float64(0.5),\n",
       "    np.float64(0.6875)],\n",
       "   [np.float64(0.625),\n",
       "    np.float64(0.375),\n",
       "    np.float64(0.4375),\n",
       "    np.float64(0.625),\n",
       "    np.float64(0.125)],\n",
       "   [np.float64(0.3333333333333333),\n",
       "    np.float64(0.6666666666666666),\n",
       "    np.float64(0.5),\n",
       "    np.float64(0.5833333333333334),\n",
       "    np.float64(0.5833333333333334)],\n",
       "   [np.float64(0.41666666666666663),\n",
       "    np.float64(0.5),\n",
       "    np.float64(0.75),\n",
       "    np.float64(0.3333333333333333),\n",
       "    np.float64(0.5)]],\n",
       "  'param': {'lr': 1e-05, 'epoch': 12}},\n",
       " {'auc_mean': np.float64(0.5241666666666667),\n",
       "  'auc_std': np.float64(0.21112134478119976),\n",
       "  'auc': [[np.float64(0.6875),\n",
       "    np.float64(0.5),\n",
       "    np.float64(0.8125),\n",
       "    np.float64(0.5625),\n",
       "    np.float64(0.75)],\n",
       "   [np.float64(0.3125),\n",
       "    np.float64(0.75),\n",
       "    np.float64(0.4375),\n",
       "    np.float64(0.4375),\n",
       "    np.float64(0.4375)],\n",
       "   [np.float64(0.5625),\n",
       "    np.float64(0.75),\n",
       "    np.float64(0.4375),\n",
       "    np.float64(0.5),\n",
       "    np.float64(0.25)],\n",
       "   [np.float64(0.41666666666666663),\n",
       "    np.float64(0.25),\n",
       "    np.float64(0.3333333333333333),\n",
       "    np.float64(0.16666666666666666),\n",
       "    np.float64(0.6666666666666666)],\n",
       "   [np.float64(1.0),\n",
       "    np.float64(0.6666666666666666),\n",
       "    np.float64(0.16666666666666666),\n",
       "    np.float64(0.5),\n",
       "    np.float64(0.75)]],\n",
       "  'param': {'lr': 2e-05, 'epoch': 8}},\n",
       " {'auc_mean': np.float64(0.5241666666666667),\n",
       "  'auc_std': np.float64(0.1675683939967996),\n",
       "  'auc': [[np.float64(0.8125),\n",
       "    np.float64(0.4375),\n",
       "    np.float64(0.3125),\n",
       "    np.float64(0.4375),\n",
       "    np.float64(0.75)],\n",
       "   [np.float64(0.5625),\n",
       "    np.float64(0.5625),\n",
       "    np.float64(0.5625),\n",
       "    np.float64(0.5625),\n",
       "    np.float64(0.25)],\n",
       "   [np.float64(0.3125),\n",
       "    np.float64(0.4375),\n",
       "    np.float64(0.625),\n",
       "    np.float64(0.625),\n",
       "    np.float64(0.9375)],\n",
       "   [np.float64(0.5833333333333333),\n",
       "    np.float64(0.5833333333333334),\n",
       "    np.float64(0.6666666666666666),\n",
       "    np.float64(0.3333333333333333),\n",
       "    np.float64(0.5)],\n",
       "   [np.float64(0.5833333333333334),\n",
       "    np.float64(0.25),\n",
       "    np.float64(0.5833333333333333),\n",
       "    np.float64(0.3333333333333333),\n",
       "    np.float64(0.5)]],\n",
       "  'param': {'lr': 0.0001, 'epoch': 3}},\n",
       " {'auc_mean': np.float64(0.5216666666666667),\n",
       "  'auc_std': np.float64(0.1843230859116676),\n",
       "  'auc': [[np.float64(0.4375),\n",
       "    np.float64(0.1875),\n",
       "    np.float64(0.375),\n",
       "    np.float64(1.0),\n",
       "    np.float64(0.5625)],\n",
       "   [np.float64(0.25),\n",
       "    np.float64(0.25),\n",
       "    np.float64(0.375),\n",
       "    np.float64(0.5),\n",
       "    np.float64(0.6875)],\n",
       "   [np.float64(0.6875),\n",
       "    np.float64(0.4375),\n",
       "    np.float64(0.6875),\n",
       "    np.float64(0.4375),\n",
       "    np.float64(0.75)],\n",
       "   [np.float64(0.41666666666666663),\n",
       "    np.float64(0.5),\n",
       "    np.float64(0.5833333333333334),\n",
       "    np.float64(0.3333333333333333),\n",
       "    np.float64(0.6666666666666666)],\n",
       "   [np.float64(0.41666666666666663),\n",
       "    np.float64(0.5),\n",
       "    np.float64(0.75),\n",
       "    np.float64(0.6666666666666666),\n",
       "    np.float64(0.5833333333333333)]],\n",
       "  'param': {'lr': 8e-07, 'epoch': 20}},\n",
       " {'auc_mean': np.float64(0.5208333333333334),\n",
       "  'auc_std': np.float64(0.17931195659458343),\n",
       "  'auc': [[np.float64(0.875),\n",
       "    np.float64(0.5625),\n",
       "    np.float64(0.3125),\n",
       "    np.float64(0.4375),\n",
       "    np.float64(0.5625)],\n",
       "   [np.float64(0.375),\n",
       "    np.float64(0.625),\n",
       "    np.float64(0.5),\n",
       "    np.float64(0.5625),\n",
       "    np.float64(0.4375)],\n",
       "   [np.float64(0.8125),\n",
       "    np.float64(0.5),\n",
       "    np.float64(0.5625),\n",
       "    np.float64(0.5),\n",
       "    np.float64(0.3125)],\n",
       "   [np.float64(0.5),\n",
       "    np.float64(0.25),\n",
       "    np.float64(0.5),\n",
       "    np.float64(0.41666666666666663),\n",
       "    np.float64(0.3333333333333333)],\n",
       "   [np.float64(0.9166666666666666),\n",
       "    np.float64(0.5833333333333333),\n",
       "    np.float64(0.25),\n",
       "    np.float64(0.5),\n",
       "    np.float64(0.8333333333333333)]],\n",
       "  'param': {'lr': 1e-07, 'epoch': 9}},\n",
       " {'auc_mean': np.float64(0.52),\n",
       "  'auc_std': np.float64(0.19592019350292156),\n",
       "  'auc': [[np.float64(0.5),\n",
       "    np.float64(0.25),\n",
       "    np.float64(0.1875),\n",
       "    np.float64(0.6875),\n",
       "    np.float64(0.75)],\n",
       "   [np.float64(0.5),\n",
       "    np.float64(0.6875),\n",
       "    np.float64(0.5),\n",
       "    np.float64(0.3125),\n",
       "    np.float64(0.5625)],\n",
       "   [np.float64(0.4375),\n",
       "    np.float64(1.0),\n",
       "    np.float64(0.5),\n",
       "    np.float64(0.75),\n",
       "    np.float64(0.375)],\n",
       "   [np.float64(0.25),\n",
       "    np.float64(0.5833333333333334),\n",
       "    np.float64(0.41666666666666663),\n",
       "    np.float64(0.5833333333333333),\n",
       "    np.float64(0.75)],\n",
       "   [np.float64(0.3333333333333333),\n",
       "    np.float64(0.5),\n",
       "    np.float64(0.5833333333333334),\n",
       "    np.float64(0.25),\n",
       "    np.float64(0.75)]],\n",
       "  'param': {'lr': 8e-07, 'epoch': 15}},\n",
       " {'auc_mean': np.float64(0.52),\n",
       "  'auc_std': np.float64(0.19405039437103846),\n",
       "  'auc': [[np.float64(0.5),\n",
       "    np.float64(0.75),\n",
       "    np.float64(0.1875),\n",
       "    np.float64(0.8125),\n",
       "    np.float64(0.4375)],\n",
       "   [np.float64(0.4375),\n",
       "    np.float64(0.4375),\n",
       "    np.float64(0.4375),\n",
       "    np.float64(0.75),\n",
       "    np.float64(0.5)],\n",
       "   [np.float64(0.625),\n",
       "    np.float64(0.5),\n",
       "    np.float64(0.3125),\n",
       "    np.float64(0.375),\n",
       "    np.float64(0.1875)],\n",
       "   [np.float64(0.5),\n",
       "    np.float64(0.41666666666666663),\n",
       "    np.float64(0.3333333333333333),\n",
       "    np.float64(0.3333333333333333),\n",
       "    np.float64(0.6666666666666666)],\n",
       "   [np.float64(0.75),\n",
       "    np.float64(0.8333333333333334),\n",
       "    np.float64(0.5833333333333334),\n",
       "    np.float64(0.41666666666666663),\n",
       "    np.float64(0.9166666666666666)]],\n",
       "  'param': {'lr': 1e-06, 'epoch': 5}},\n",
       " {'auc_mean': np.float64(0.5183333333333333),\n",
       "  'auc_std': np.float64(0.19358819408447636),\n",
       "  'auc': [[np.float64(0.4375),\n",
       "    np.float64(0.625),\n",
       "    np.float64(0.25),\n",
       "    np.float64(0.625),\n",
       "    np.float64(0.25)],\n",
       "   [np.float64(0.75),\n",
       "    np.float64(0.375),\n",
       "    np.float64(0.5),\n",
       "    np.float64(0.5625),\n",
       "    np.float64(0.4375)],\n",
       "   [np.float64(0.625),\n",
       "    np.float64(0.375),\n",
       "    np.float64(0.3125),\n",
       "    np.float64(0.1875),\n",
       "    np.float64(0.3125)],\n",
       "   [np.float64(0.5),\n",
       "    np.float64(0.5833333333333333),\n",
       "    np.float64(0.41666666666666663),\n",
       "    np.float64(0.75),\n",
       "    np.float64(0.6666666666666666)],\n",
       "   [np.float64(0.6666666666666666),\n",
       "    np.float64(0.6666666666666666),\n",
       "    np.float64(1.0),\n",
       "    np.float64(0.75),\n",
       "    np.float64(0.3333333333333333)]],\n",
       "  'param': {'lr': 1e-06, 'epoch': 3}},\n",
       " {'auc_mean': np.float64(0.5175),\n",
       "  'auc_std': np.float64(0.24307634831696626),\n",
       "  'auc': [[np.float64(0.25),\n",
       "    np.float64(0.75),\n",
       "    np.float64(0.4375),\n",
       "    np.float64(0.1875),\n",
       "    np.float64(1.0)],\n",
       "   [np.float64(0.4375),\n",
       "    np.float64(0.75),\n",
       "    np.float64(0.625),\n",
       "    np.float64(0.4375),\n",
       "    np.float64(0.25)],\n",
       "   [np.float64(0.6875),\n",
       "    np.float64(0.3125),\n",
       "    np.float64(0.5625),\n",
       "    np.float64(0.3125),\n",
       "    np.float64(0.6875)],\n",
       "   [np.float64(0.5833333333333334),\n",
       "    np.float64(0.5),\n",
       "    np.float64(0.25),\n",
       "    np.float64(0.6666666666666666),\n",
       "    np.float64(0.8333333333333333)],\n",
       "   [np.float64(0.3333333333333333),\n",
       "    np.float64(0.0),\n",
       "    np.float64(0.41666666666666663),\n",
       "    np.float64(0.8333333333333334),\n",
       "    np.float64(0.8333333333333334)]],\n",
       "  'param': {'lr': 1e-07, 'epoch': 12}},\n",
       " {'auc_mean': np.float64(0.5158333333333334),\n",
       "  'auc_std': np.float64(0.18571184369578825),\n",
       "  'auc': [[np.float64(0.5),\n",
       "    np.float64(0.1875),\n",
       "    np.float64(0.75),\n",
       "    np.float64(0.375),\n",
       "    np.float64(0.4375)],\n",
       "   [np.float64(0.375),\n",
       "    np.float64(0.375),\n",
       "    np.float64(0.5),\n",
       "    np.float64(0.4375),\n",
       "    np.float64(0.625)],\n",
       "   [np.float64(0.4375),\n",
       "    np.float64(0.4375),\n",
       "    np.float64(0.625),\n",
       "    np.float64(0.625),\n",
       "    np.float64(0.375)],\n",
       "   [np.float64(0.5833333333333334),\n",
       "    np.float64(0.41666666666666663),\n",
       "    np.float64(0.6666666666666666),\n",
       "    np.float64(0.16666666666666666),\n",
       "    np.float64(0.8333333333333333)],\n",
       "   [np.float64(0.3333333333333333),\n",
       "    np.float64(0.8333333333333333),\n",
       "    np.float64(0.75),\n",
       "    np.float64(0.41666666666666663),\n",
       "    np.float64(0.8333333333333334)]],\n",
       "  'param': {'lr': 2e-06, 'epoch': 8}},\n",
       " {'auc_mean': np.float64(0.515),\n",
       "  'auc_std': np.float64(0.1481975033527893),\n",
       "  'auc': [[np.float64(0.4375),\n",
       "    np.float64(0.625),\n",
       "    np.float64(0.375),\n",
       "    np.float64(0.75),\n",
       "    np.float64(0.4375)],\n",
       "   [np.float64(0.4375),\n",
       "    np.float64(0.625),\n",
       "    np.float64(0.6875),\n",
       "    np.float64(0.625),\n",
       "    np.float64(0.5)],\n",
       "   [np.float64(0.25),\n",
       "    np.float64(0.4375),\n",
       "    np.float64(0.4375),\n",
       "    np.float64(0.5),\n",
       "    np.float64(0.25)],\n",
       "   [np.float64(0.5),\n",
       "    np.float64(0.5),\n",
       "    np.float64(0.41666666666666663),\n",
       "    np.float64(0.6666666666666666),\n",
       "    np.float64(0.3333333333333333)],\n",
       "   [np.float64(0.8333333333333334),\n",
       "    np.float64(0.5),\n",
       "    np.float64(0.5833333333333333),\n",
       "    np.float64(0.41666666666666663),\n",
       "    np.float64(0.75)]],\n",
       "  'param': {'lr': 5e-07, 'epoch': 4}},\n",
       " {'auc_mean': np.float64(0.515),\n",
       "  'auc_std': np.float64(0.21702854394961252),\n",
       "  'auc': [[np.float64(0.0625),\n",
       "    np.float64(0.375),\n",
       "    np.float64(0.5625),\n",
       "    np.float64(0.8125),\n",
       "    np.float64(0.9375)],\n",
       "   [np.float64(0.375),\n",
       "    np.float64(0.5625),\n",
       "    np.float64(0.4375),\n",
       "    np.float64(0.5625),\n",
       "    np.float64(0.25)],\n",
       "   [np.float64(0.6875),\n",
       "    np.float64(0.375),\n",
       "    np.float64(0.6875),\n",
       "    np.float64(0.75),\n",
       "    np.float64(0.6875)],\n",
       "   [np.float64(0.5),\n",
       "    np.float64(0.41666666666666663),\n",
       "    np.float64(0.25),\n",
       "    np.float64(0.5833333333333333),\n",
       "    np.float64(0.25)],\n",
       "   [np.float64(0.75),\n",
       "    np.float64(0.41666666666666663),\n",
       "    np.float64(0.16666666666666666),\n",
       "    np.float64(0.6666666666666666),\n",
       "    np.float64(0.75)]],\n",
       "  'param': {'lr': 1e-05, 'epoch': 4}},\n",
       " {'auc_mean': np.float64(0.5141666666666667),\n",
       "  'auc_std': np.float64(0.19893117179343994),\n",
       "  'auc': [[np.float64(0.5625),\n",
       "    np.float64(0.75),\n",
       "    np.float64(0.5625),\n",
       "    np.float64(0.3125),\n",
       "    np.float64(0.625)],\n",
       "   [np.float64(0.375),\n",
       "    np.float64(0.625),\n",
       "    np.float64(0.5625),\n",
       "    np.float64(0.4375),\n",
       "    np.float64(0.25)],\n",
       "   [np.float64(0.9375),\n",
       "    np.float64(0.5),\n",
       "    np.float64(1.0),\n",
       "    np.float64(0.4375),\n",
       "    np.float64(0.75)],\n",
       "   [np.float64(0.3333333333333333),\n",
       "    np.float64(0.6666666666666666),\n",
       "    np.float64(0.3333333333333333),\n",
       "    np.float64(0.3333333333333333),\n",
       "    np.float64(0.5)],\n",
       "   [np.float64(0.25),\n",
       "    np.float64(0.6666666666666666),\n",
       "    np.float64(0.3333333333333333),\n",
       "    np.float64(0.41666666666666663),\n",
       "    np.float64(0.3333333333333333)]],\n",
       "  'param': {'lr': 5e-06, 'epoch': 5}},\n",
       " {'auc_mean': np.float64(0.5141666666666667),\n",
       "  'auc_std': np.float64(0.16983652270475996),\n",
       "  'auc': [[np.float64(0.5625),\n",
       "    np.float64(0.625),\n",
       "    np.float64(0.5),\n",
       "    np.float64(0.8125),\n",
       "    np.float64(0.8125)],\n",
       "   [np.float64(0.5625),\n",
       "    np.float64(0.5),\n",
       "    np.float64(0.5625),\n",
       "    np.float64(0.3125),\n",
       "    np.float64(0.375)],\n",
       "   [np.float64(0.5),\n",
       "    np.float64(0.1875),\n",
       "    np.float64(0.75),\n",
       "    np.float64(0.4375),\n",
       "    np.float64(0.4375)],\n",
       "   [np.float64(0.5),\n",
       "    np.float64(0.5),\n",
       "    np.float64(0.5833333333333333),\n",
       "    np.float64(0.41666666666666663),\n",
       "    np.float64(0.5)],\n",
       "   [np.float64(0.16666666666666666),\n",
       "    np.float64(0.75),\n",
       "    np.float64(0.41666666666666663),\n",
       "    np.float64(0.75),\n",
       "    np.float64(0.3333333333333333)]],\n",
       "  'param': {'lr': 2e-05, 'epoch': 15}},\n",
       " {'auc_mean': np.float64(0.5133333333333333),\n",
       "  'auc_std': np.float64(0.21318354116165306),\n",
       "  'auc': [[np.float64(0.3125),\n",
       "    np.float64(0.3125),\n",
       "    np.float64(0.75),\n",
       "    np.float64(0.8125),\n",
       "    np.float64(0.25)],\n",
       "   [np.float64(0.75),\n",
       "    np.float64(0.3125),\n",
       "    np.float64(0.5625),\n",
       "    np.float64(0.5625),\n",
       "    np.float64(0.625)],\n",
       "   [np.float64(0.625),\n",
       "    np.float64(0.6875),\n",
       "    np.float64(0.125),\n",
       "    np.float64(0.25),\n",
       "    np.float64(0.3125)],\n",
       "   [np.float64(0.6666666666666666),\n",
       "    np.float64(0.75),\n",
       "    np.float64(0.41666666666666663),\n",
       "    np.float64(0.5),\n",
       "    np.float64(0.6666666666666666)],\n",
       "   [np.float64(0.9166666666666666),\n",
       "    np.float64(0.25),\n",
       "    np.float64(0.5833333333333334),\n",
       "    np.float64(0.25),\n",
       "    np.float64(0.5833333333333333)]],\n",
       "  'param': {'lr': 5e-06, 'epoch': 9}},\n",
       " {'auc_mean': np.float64(0.5125),\n",
       "  'auc_std': np.float64(0.22538547227164202),\n",
       "  'auc': [[np.float64(0.3125),\n",
       "    np.float64(0.6875),\n",
       "    np.float64(0.4375),\n",
       "    np.float64(0.5),\n",
       "    np.float64(0.3125)],\n",
       "   [np.float64(0.3125),\n",
       "    np.float64(0.375),\n",
       "    np.float64(0.625),\n",
       "    np.float64(0.5),\n",
       "    np.float64(0.4375)],\n",
       "   [np.float64(0.625),\n",
       "    np.float64(0.625),\n",
       "    np.float64(0.625),\n",
       "    np.float64(0.5625),\n",
       "    np.float64(0.875)],\n",
       "   [np.float64(0.0),\n",
       "    np.float64(0.8333333333333333),\n",
       "    np.float64(0.3333333333333333),\n",
       "    np.float64(0.5),\n",
       "    np.float64(0.41666666666666663)],\n",
       "   [np.float64(0.9166666666666666),\n",
       "    np.float64(0.0),\n",
       "    np.float64(0.6666666666666666),\n",
       "    np.float64(0.6666666666666666),\n",
       "    np.float64(0.6666666666666666)]],\n",
       "  'param': {'lr': 1e-08, 'epoch': 7}},\n",
       " {'auc_mean': np.float64(0.5116666666666666),\n",
       "  'auc_std': np.float64(0.22608380943554734),\n",
       "  'auc': [[np.float64(0.5625),\n",
       "    np.float64(0.5),\n",
       "    np.float64(0.75),\n",
       "    np.float64(0.875),\n",
       "    np.float64(0.25)],\n",
       "   [np.float64(0.5625),\n",
       "    np.float64(0.5),\n",
       "    np.float64(0.375),\n",
       "    np.float64(0.4375),\n",
       "    np.float64(0.375)],\n",
       "   [np.float64(0.625),\n",
       "    np.float64(0.75),\n",
       "    np.float64(0.25),\n",
       "    np.float64(0.125),\n",
       "    np.float64(0.4375)],\n",
       "   [np.float64(0.5833333333333333),\n",
       "    np.float64(0.75),\n",
       "    np.float64(0.25),\n",
       "    np.float64(0.9166666666666666),\n",
       "    np.float64(0.6666666666666666)],\n",
       "   [np.float64(0.6666666666666666),\n",
       "    np.float64(0.0),\n",
       "    np.float64(0.41666666666666663),\n",
       "    np.float64(0.41666666666666663),\n",
       "    np.float64(0.75)]],\n",
       "  'param': {'lr': 8e-07, 'epoch': 12}},\n",
       " {'auc_mean': np.float64(0.5116666666666666),\n",
       "  'auc_std': np.float64(0.15768287443121048),\n",
       "  'auc': [[np.float64(0.625),\n",
       "    np.float64(0.5),\n",
       "    np.float64(0.375),\n",
       "    np.float64(0.5625),\n",
       "    np.float64(0.25)],\n",
       "   [np.float64(0.3125),\n",
       "    np.float64(0.625),\n",
       "    np.float64(0.625),\n",
       "    np.float64(0.4375),\n",
       "    np.float64(0.5)],\n",
       "   [np.float64(0.4375),\n",
       "    np.float64(0.25),\n",
       "    np.float64(0.625),\n",
       "    np.float64(0.75),\n",
       "    np.float64(0.5)],\n",
       "   [np.float64(0.5),\n",
       "    np.float64(0.25),\n",
       "    np.float64(0.6666666666666666),\n",
       "    np.float64(0.5),\n",
       "    np.float64(0.5)],\n",
       "   [np.float64(0.5833333333333334),\n",
       "    np.float64(0.5833333333333333),\n",
       "    np.float64(0.3333333333333333),\n",
       "    np.float64(0.9166666666666666),\n",
       "    np.float64(0.5833333333333334)]],\n",
       "  'param': {'lr': 2e-05, 'epoch': 20}},\n",
       " {'auc_mean': np.float64(0.5116666666666666),\n",
       "  'auc_std': np.float64(0.14326064048129586),\n",
       "  'auc': [[np.float64(0.4375),\n",
       "    np.float64(0.6875),\n",
       "    np.float64(0.4375),\n",
       "    np.float64(0.5),\n",
       "    np.float64(0.8125)],\n",
       "   [np.float64(0.3125),\n",
       "    np.float64(0.5625),\n",
       "    np.float64(0.4375),\n",
       "    np.float64(0.3125),\n",
       "    np.float64(0.3125)],\n",
       "   [np.float64(0.5),\n",
       "    np.float64(0.5),\n",
       "    np.float64(0.4375),\n",
       "    np.float64(0.625),\n",
       "    np.float64(0.5)],\n",
       "   [np.float64(0.41666666666666663),\n",
       "    np.float64(0.6666666666666666),\n",
       "    np.float64(0.3333333333333333),\n",
       "    np.float64(0.5),\n",
       "    np.float64(0.3333333333333333)],\n",
       "   [np.float64(0.6666666666666666),\n",
       "    np.float64(0.5),\n",
       "    np.float64(0.75),\n",
       "    np.float64(0.5),\n",
       "    np.float64(0.75)]],\n",
       "  'param': {'lr': 5e-05, 'epoch': 15}},\n",
       " {'auc_mean': np.float64(0.5108333333333333),\n",
       "  'auc_std': np.float64(0.19615399279364384),\n",
       "  'auc': [[np.float64(0.3125),\n",
       "    np.float64(0.9375),\n",
       "    np.float64(0.625),\n",
       "    np.float64(0.5),\n",
       "    np.float64(0.125)],\n",
       "   [np.float64(0.5),\n",
       "    np.float64(0.5625),\n",
       "    np.float64(0.625),\n",
       "    np.float64(0.4375),\n",
       "    np.float64(0.4375)],\n",
       "   [np.float64(0.75),\n",
       "    np.float64(0.5),\n",
       "    np.float64(0.4375),\n",
       "    np.float64(0.3125),\n",
       "    np.float64(0.125)],\n",
       "   [np.float64(0.6666666666666666),\n",
       "    np.float64(0.5833333333333333),\n",
       "    np.float64(0.25),\n",
       "    np.float64(0.5),\n",
       "    np.float64(0.5833333333333334)],\n",
       "   [np.float64(0.5833333333333333),\n",
       "    np.float64(0.3333333333333333),\n",
       "    np.float64(0.75),\n",
       "    np.float64(0.8333333333333334),\n",
       "    np.float64(0.5)]],\n",
       "  'param': {'lr': 8e-07, 'epoch': 10}},\n",
       " {'auc_mean': np.float64(0.5091666666666667),\n",
       "  'auc_std': np.float64(0.18315142490421538),\n",
       "  'auc': [[np.float64(0.4375),\n",
       "    np.float64(0.25),\n",
       "    np.float64(0.375),\n",
       "    np.float64(0.375),\n",
       "    np.float64(0.5625)],\n",
       "   [np.float64(0.5),\n",
       "    np.float64(0.25),\n",
       "    np.float64(0.625),\n",
       "    np.float64(0.5),\n",
       "    np.float64(0.6875)],\n",
       "   [np.float64(0.25),\n",
       "    np.float64(0.5),\n",
       "    np.float64(0.25),\n",
       "    np.float64(0.6875),\n",
       "    np.float64(0.3125)],\n",
       "   [np.float64(0.6666666666666666),\n",
       "    np.float64(0.5),\n",
       "    np.float64(0.41666666666666663),\n",
       "    np.float64(0.3333333333333333),\n",
       "    np.float64(0.6666666666666666)],\n",
       "   [np.float64(0.5833333333333333),\n",
       "    np.float64(0.6666666666666666),\n",
       "    np.float64(1.0),\n",
       "    np.float64(0.6666666666666666),\n",
       "    np.float64(0.6666666666666666)]],\n",
       "  'param': {'lr': 5e-08, 'epoch': 4}},\n",
       " {'auc_mean': np.float64(0.5083333333333333),\n",
       "  'auc_std': np.float64(0.19148542155126763),\n",
       "  'auc': [[np.float64(0.1875),\n",
       "    np.float64(0.5625),\n",
       "    np.float64(0.5625),\n",
       "    np.float64(0.25),\n",
       "    np.float64(0.5625)],\n",
       "   [np.float64(0.6875),\n",
       "    np.float64(0.5),\n",
       "    np.float64(0.625),\n",
       "    np.float64(0.6875),\n",
       "    np.float64(0.6875)],\n",
       "   [np.float64(0.25),\n",
       "    np.float64(0.75),\n",
       "    np.float64(0.375),\n",
       "    np.float64(0.5625),\n",
       "    np.float64(0.375)],\n",
       "   [np.float64(0.5833333333333334),\n",
       "    np.float64(0.5),\n",
       "    np.float64(0.6666666666666666),\n",
       "    np.float64(0.75),\n",
       "    np.float64(0.3333333333333333)],\n",
       "   [np.float64(0.5),\n",
       "    np.float64(0.16666666666666666),\n",
       "    np.float64(0.3333333333333333),\n",
       "    np.float64(0.3333333333333333),\n",
       "    np.float64(0.9166666666666666)]],\n",
       "  'param': {'lr': 1e-07, 'epoch': 8}},\n",
       " {'auc_mean': np.float64(0.5066666666666666),\n",
       "  'auc_std': np.float64(0.2055412907963318),\n",
       "  'auc': [[np.float64(0.6875),\n",
       "    np.float64(0.5),\n",
       "    np.float64(0.625),\n",
       "    np.float64(0.6875),\n",
       "    np.float64(0.5)],\n",
       "   [np.float64(0.4375),\n",
       "    np.float64(0.3125),\n",
       "    np.float64(0.25),\n",
       "    np.float64(0.875),\n",
       "    np.float64(0.4375)],\n",
       "   [np.float64(0.0625),\n",
       "    np.float64(0.6875),\n",
       "    np.float64(0.75),\n",
       "    np.float64(0.625),\n",
       "    np.float64(0.5625)],\n",
       "   [np.float64(0.16666666666666666),\n",
       "    np.float64(0.41666666666666663),\n",
       "    np.float64(0.41666666666666663),\n",
       "    np.float64(0.5),\n",
       "    np.float64(0.16666666666666666)],\n",
       "   [np.float64(0.5),\n",
       "    np.float64(0.9166666666666666),\n",
       "    np.float64(0.5833333333333334),\n",
       "    np.float64(0.5),\n",
       "    np.float64(0.5)]],\n",
       "  'param': {'lr': 1e-08, 'epoch': 9}},\n",
       " {'auc_mean': np.float64(0.5066666666666666),\n",
       "  'auc_std': np.float64(0.21680444337390012),\n",
       "  'auc': [[np.float64(0.625),\n",
       "    np.float64(0.5625),\n",
       "    np.float64(0.4375),\n",
       "    np.float64(0.625),\n",
       "    np.float64(0.5)],\n",
       "   [np.float64(0.5),\n",
       "    np.float64(0.5625),\n",
       "    np.float64(0.5625),\n",
       "    np.float64(0.625),\n",
       "    np.float64(0.5)],\n",
       "   [np.float64(0.8125),\n",
       "    np.float64(0.375),\n",
       "    np.float64(0.75),\n",
       "    np.float64(0.8125),\n",
       "    np.float64(0.75)],\n",
       "   [np.float64(0.41666666666666663),\n",
       "    np.float64(0.5),\n",
       "    np.float64(0.5),\n",
       "    np.float64(0.9166666666666666),\n",
       "    np.float64(0.08333333333333333)],\n",
       "   [np.float64(0.3333333333333333),\n",
       "    np.float64(0.41666666666666663),\n",
       "    np.float64(0.0),\n",
       "    np.float64(0.3333333333333333),\n",
       "    np.float64(0.16666666666666666)]],\n",
       "  'param': {'lr': 5e-08, 'epoch': 3}},\n",
       " {'auc_mean': np.float64(0.5033333333333334),\n",
       "  'auc_std': np.float64(0.22458913103215342),\n",
       "  'auc': [[np.float64(0.25),\n",
       "    np.float64(0.8125),\n",
       "    np.float64(0.5625),\n",
       "    np.float64(0.625),\n",
       "    np.float64(0.25)],\n",
       "   [np.float64(0.75),\n",
       "    np.float64(0.4375),\n",
       "    np.float64(0.375),\n",
       "    np.float64(0.25),\n",
       "    np.float64(0.5)],\n",
       "   [np.float64(0.375),\n",
       "    np.float64(0.6875),\n",
       "    np.float64(0.5),\n",
       "    np.float64(0.6875),\n",
       "    np.float64(0.4375)],\n",
       "   [np.float64(0.3333333333333333),\n",
       "    np.float64(0.41666666666666663),\n",
       "    np.float64(0.9166666666666666),\n",
       "    np.float64(0.9166666666666666),\n",
       "    np.float64(0.5)],\n",
       "   [np.float64(0.25),\n",
       "    np.float64(0.16666666666666666),\n",
       "    np.float64(0.3333333333333333),\n",
       "    np.float64(0.3333333333333333),\n",
       "    np.float64(0.9166666666666666)]],\n",
       "  'param': {'lr': 1e-08, 'epoch': 8}},\n",
       " {'auc_mean': np.float64(0.5033333333333334),\n",
       "  'auc_std': np.float64(0.16839520315152817),\n",
       "  'auc': [[np.float64(0.3125),\n",
       "    np.float64(0.25),\n",
       "    np.float64(0.5625),\n",
       "    np.float64(0.625),\n",
       "    np.float64(0.4375)],\n",
       "   [np.float64(0.375),\n",
       "    np.float64(0.6875),\n",
       "    np.float64(0.5625),\n",
       "    np.float64(0.375),\n",
       "    np.float64(0.4375)],\n",
       "   [np.float64(0.5625),\n",
       "    np.float64(0.375),\n",
       "    np.float64(0.4375),\n",
       "    np.float64(0.8125),\n",
       "    np.float64(0.4375)],\n",
       "   [np.float64(0.5),\n",
       "    np.float64(0.3333333333333333),\n",
       "    np.float64(0.41666666666666663),\n",
       "    np.float64(0.5833333333333334),\n",
       "    np.float64(0.5)],\n",
       "   [np.float64(0.3333333333333333),\n",
       "    np.float64(0.75),\n",
       "    np.float64(0.41666666666666663),\n",
       "    np.float64(0.5),\n",
       "    np.float64(1.0)]],\n",
       "  'param': {'lr': 8e-07, 'epoch': 7}},\n",
       " {'auc_mean': np.float64(0.5033333333333333),\n",
       "  'auc_std': np.float64(0.20031918973922036),\n",
       "  'auc': [[np.float64(0.6875),\n",
       "    np.float64(0.5),\n",
       "    np.float64(0.625),\n",
       "    np.float64(0.6875),\n",
       "    np.float64(0.375)],\n",
       "   [np.float64(0.625),\n",
       "    np.float64(0.3125),\n",
       "    np.float64(0.375),\n",
       "    np.float64(0.25),\n",
       "    np.float64(0.25)],\n",
       "   [np.float64(0.4375),\n",
       "    np.float64(0.6875),\n",
       "    np.float64(0.4375),\n",
       "    np.float64(0.6875),\n",
       "    np.float64(0.3125)],\n",
       "   [np.float64(0.5833333333333334),\n",
       "    np.float64(0.3333333333333333),\n",
       "    np.float64(0.9166666666666666),\n",
       "    np.float64(0.41666666666666663),\n",
       "    np.float64(0.5)],\n",
       "   [np.float64(0.5833333333333334),\n",
       "    np.float64(0.5),\n",
       "    np.float64(1.0),\n",
       "    np.float64(0.25),\n",
       "    np.float64(0.25)]],\n",
       "  'param': {'lr': 5e-08, 'epoch': 20}},\n",
       " {'auc_mean': np.float64(0.5016666666666666),\n",
       "  'auc_std': np.float64(0.18688974765293515),\n",
       "  'auc': [[np.float64(0.5),\n",
       "    np.float64(0.6875),\n",
       "    np.float64(0.5),\n",
       "    np.float64(0.625),\n",
       "    np.float64(0.5625)],\n",
       "   [np.float64(0.375),\n",
       "    np.float64(0.5),\n",
       "    np.float64(0.1875),\n",
       "    np.float64(0.4375),\n",
       "    np.float64(0.6875)],\n",
       "   [np.float64(0.8125),\n",
       "    np.float64(0.75),\n",
       "    np.float64(0.375),\n",
       "    np.float64(0.6875),\n",
       "    np.float64(0.4375)],\n",
       "   [np.float64(0.41666666666666663),\n",
       "    np.float64(0.41666666666666663),\n",
       "    np.float64(0.5),\n",
       "    np.float64(0.5),\n",
       "    np.float64(0.0)],\n",
       "   [np.float64(0.41666666666666663),\n",
       "    np.float64(0.75),\n",
       "    np.float64(0.75),\n",
       "    np.float64(0.3333333333333333),\n",
       "    np.float64(0.3333333333333333)]],\n",
       "  'param': {'lr': 1e-08, 'epoch': 4}},\n",
       " {'auc_mean': np.float64(0.5016666666666666),\n",
       "  'auc_std': np.float64(0.1922924566614325),\n",
       "  'auc': [[np.float64(0.1875),\n",
       "    np.float64(0.75),\n",
       "    np.float64(0.25),\n",
       "    np.float64(0.75),\n",
       "    np.float64(0.75)],\n",
       "   [np.float64(0.5625),\n",
       "    np.float64(0.4375),\n",
       "    np.float64(0.6875),\n",
       "    np.float64(0.375),\n",
       "    np.float64(0.75)],\n",
       "   [np.float64(0.5),\n",
       "    np.float64(0.375),\n",
       "    np.float64(0.3125),\n",
       "    np.float64(0.3125),\n",
       "    np.float64(0.625)],\n",
       "   [np.float64(0.6666666666666666),\n",
       "    np.float64(0.5),\n",
       "    np.float64(0.5833333333333333),\n",
       "    np.float64(0.6666666666666666),\n",
       "    np.float64(0.41666666666666663)],\n",
       "   [np.float64(0.41666666666666663),\n",
       "    np.float64(0.8333333333333334),\n",
       "    np.float64(0.3333333333333333),\n",
       "    np.float64(0.3333333333333333),\n",
       "    np.float64(0.16666666666666666)]],\n",
       "  'param': {'lr': 1e-06, 'epoch': 8}},\n",
       " {'auc_mean': np.float64(0.5008333333333332),\n",
       "  'auc_std': np.float64(0.19627432616394613),\n",
       "  'auc': [[np.float64(0.1875),\n",
       "    np.float64(0.4375),\n",
       "    np.float64(0.4375),\n",
       "    np.float64(0.3125),\n",
       "    np.float64(0.3125)],\n",
       "   [np.float64(0.4375),\n",
       "    np.float64(0.5625),\n",
       "    np.float64(0.5),\n",
       "    np.float64(0.5),\n",
       "    np.float64(0.8125)],\n",
       "   [np.float64(0.6875),\n",
       "    np.float64(0.4375),\n",
       "    np.float64(0.75),\n",
       "    np.float64(0.5625),\n",
       "    np.float64(0.25)],\n",
       "   [np.float64(0.5833333333333334),\n",
       "    np.float64(1.0),\n",
       "    np.float64(0.6666666666666666),\n",
       "    np.float64(0.5),\n",
       "    np.float64(0.5)],\n",
       "   [np.float64(0.3333333333333333),\n",
       "    np.float64(0.5),\n",
       "    np.float64(0.3333333333333333),\n",
       "    np.float64(0.75),\n",
       "    np.float64(0.16666666666666666)]],\n",
       "  'param': {'lr': 5e-08, 'epoch': 10}},\n",
       " {'auc_mean': np.float64(0.5008333333333332),\n",
       "  'auc_std': np.float64(0.202542862404754),\n",
       "  'auc': [[np.float64(0.1875),\n",
       "    np.float64(0.25),\n",
       "    np.float64(0.375),\n",
       "    np.float64(0.8125),\n",
       "    np.float64(0.625)],\n",
       "   [np.float64(0.5625),\n",
       "    np.float64(0.6875),\n",
       "    np.float64(0.5625),\n",
       "    np.float64(0.4375),\n",
       "    np.float64(0.375)],\n",
       "   [np.float64(0.375),\n",
       "    np.float64(0.75),\n",
       "    np.float64(0.25),\n",
       "    np.float64(0.875),\n",
       "    np.float64(0.5625)],\n",
       "   [np.float64(0.3333333333333333),\n",
       "    np.float64(0.8333333333333333),\n",
       "    np.float64(0.3333333333333333),\n",
       "    np.float64(0.8333333333333334),\n",
       "    np.float64(0.5833333333333333)],\n",
       "   [np.float64(0.41666666666666663),\n",
       "    np.float64(0.25),\n",
       "    np.float64(0.3333333333333333),\n",
       "    np.float64(0.5),\n",
       "    np.float64(0.41666666666666663)]],\n",
       "  'param': {'lr': 5e-06, 'epoch': 4}},\n",
       " {'auc_mean': np.float64(0.5008333333333332),\n",
       "  'auc_std': np.float64(0.17405299320736903),\n",
       "  'auc': [[np.float64(0.8125),\n",
       "    np.float64(0.3125),\n",
       "    np.float64(0.375),\n",
       "    np.float64(0.4375),\n",
       "    np.float64(0.5625)],\n",
       "   [np.float64(0.5),\n",
       "    np.float64(0.375),\n",
       "    np.float64(0.4375),\n",
       "    np.float64(0.5),\n",
       "    np.float64(0.5625)],\n",
       "   [np.float64(0.75),\n",
       "    np.float64(0.4375),\n",
       "    np.float64(0.4375),\n",
       "    np.float64(0.6875),\n",
       "    np.float64(0.25)],\n",
       "   [np.float64(0.41666666666666663),\n",
       "    np.float64(0.75),\n",
       "    np.float64(0.3333333333333333),\n",
       "    np.float64(0.6666666666666666),\n",
       "    np.float64(0.5833333333333333)],\n",
       "   [np.float64(0.41666666666666663),\n",
       "    np.float64(0.3333333333333333),\n",
       "    np.float64(0.9166666666666666),\n",
       "    np.float64(0.41666666666666663),\n",
       "    np.float64(0.25)]],\n",
       "  'param': {'lr': 2e-05, 'epoch': 4}},\n",
       " {'auc_mean': np.float64(0.49916666666666665),\n",
       "  'auc_std': np.float64(0.24801153647002436),\n",
       "  'auc': [[np.float64(0.875),\n",
       "    np.float64(0.8125),\n",
       "    np.float64(0.0),\n",
       "    np.float64(0.3125),\n",
       "    np.float64(0.5625)],\n",
       "   [np.float64(0.3125),\n",
       "    np.float64(0.6875),\n",
       "    np.float64(0.25),\n",
       "    np.float64(0.75),\n",
       "    np.float64(0.25)],\n",
       "   [np.float64(0.5),\n",
       "    np.float64(0.75),\n",
       "    np.float64(0.375),\n",
       "    np.float64(0.6875),\n",
       "    np.float64(0.1875)],\n",
       "   [np.float64(0.5),\n",
       "    np.float64(0.3333333333333333),\n",
       "    np.float64(0.3333333333333333),\n",
       "    np.float64(0.5833333333333334),\n",
       "    np.float64(0.3333333333333333)],\n",
       "   [np.float64(0.75),\n",
       "    np.float64(0.6666666666666666),\n",
       "    np.float64(0.5),\n",
       "    np.float64(1.0),\n",
       "    np.float64(0.16666666666666666)]],\n",
       "  'param': {'lr': 1e-08, 'epoch': 12}},\n",
       " {'auc_mean': np.float64(0.49916666666666665),\n",
       "  'auc_std': np.float64(0.16775478135262395),\n",
       "  'auc': [[np.float64(0.375),\n",
       "    np.float64(0.0625),\n",
       "    np.float64(0.5625),\n",
       "    np.float64(0.6875),\n",
       "    np.float64(0.6875)],\n",
       "   [np.float64(0.375),\n",
       "    np.float64(0.5),\n",
       "    np.float64(0.5625),\n",
       "    np.float64(0.75),\n",
       "    np.float64(0.375)],\n",
       "   [np.float64(0.625),\n",
       "    np.float64(0.75),\n",
       "    np.float64(0.75),\n",
       "    np.float64(0.375),\n",
       "    np.float64(0.375)],\n",
       "   [np.float64(0.3333333333333333),\n",
       "    np.float64(0.6666666666666666),\n",
       "    np.float64(0.5),\n",
       "    np.float64(0.5),\n",
       "    np.float64(0.3333333333333333)],\n",
       "   [np.float64(0.6666666666666666),\n",
       "    np.float64(0.3333333333333333),\n",
       "    np.float64(0.5),\n",
       "    np.float64(0.41666666666666663),\n",
       "    np.float64(0.41666666666666663)]],\n",
       "  'param': {'lr': 1e-05, 'epoch': 9}},\n",
       " {'auc_mean': np.float64(0.4983333333333333),\n",
       "  'auc_std': np.float64(0.19877402021167434),\n",
       "  'auc': [[np.float64(0.3125),\n",
       "    np.float64(0.4375),\n",
       "    np.float64(0.875),\n",
       "    np.float64(0.4375),\n",
       "    np.float64(0.625)],\n",
       "   [np.float64(0.875),\n",
       "    np.float64(0.4375),\n",
       "    np.float64(0.5),\n",
       "    np.float64(0.4375),\n",
       "    np.float64(0.5625)],\n",
       "   [np.float64(0.5625),\n",
       "    np.float64(0.5),\n",
       "    np.float64(0.375),\n",
       "    np.float64(0.625),\n",
       "    np.float64(0.5625)],\n",
       "   [np.float64(0.3333333333333333),\n",
       "    np.float64(0.41666666666666663),\n",
       "    np.float64(0.16666666666666666),\n",
       "    np.float64(0.08333333333333333),\n",
       "    np.float64(0.5)],\n",
       "   [np.float64(0.75),\n",
       "    np.float64(0.75),\n",
       "    np.float64(0.3333333333333333),\n",
       "    np.float64(0.25),\n",
       "    np.float64(0.75)]],\n",
       "  'param': {'lr': 8e-07, 'epoch': 5}},\n",
       " {'auc_mean': np.float64(0.4983333333333333),\n",
       "  'auc_std': np.float64(0.21261598142086016),\n",
       "  'auc': [[np.float64(0.75),\n",
       "    np.float64(0.6875),\n",
       "    np.float64(0.3125),\n",
       "    np.float64(0.375),\n",
       "    np.float64(0.5625)],\n",
       "   [np.float64(0.625),\n",
       "    np.float64(0.5625),\n",
       "    np.float64(0.5625),\n",
       "    np.float64(0.5),\n",
       "    np.float64(0.5)],\n",
       "   [np.float64(0.1875),\n",
       "    np.float64(0.75),\n",
       "    np.float64(0.6875),\n",
       "    np.float64(0.875),\n",
       "    np.float64(0.6875)],\n",
       "   [np.float64(0.41666666666666663),\n",
       "    np.float64(0.3333333333333333),\n",
       "    np.float64(0.0),\n",
       "    np.float64(0.5),\n",
       "    np.float64(0.41666666666666663)],\n",
       "   [np.float64(0.41666666666666663),\n",
       "    np.float64(0.0),\n",
       "    np.float64(0.5),\n",
       "    np.float64(0.5833333333333334),\n",
       "    np.float64(0.6666666666666666)]],\n",
       "  'param': {'lr': 0.0001, 'epoch': 20}},\n",
       " {'auc_mean': np.float64(0.49666666666666665),\n",
       "  'auc_std': np.float64(0.21511301939006647),\n",
       "  'auc': [[np.float64(0.75),\n",
       "    np.float64(0.6875),\n",
       "    np.float64(1.0),\n",
       "    np.float64(0.5625),\n",
       "    np.float64(0.6875)],\n",
       "   [np.float64(0.5),\n",
       "    np.float64(0.5625),\n",
       "    np.float64(0.5),\n",
       "    np.float64(0.375),\n",
       "    np.float64(0.75)],\n",
       "   [np.float64(0.5),\n",
       "    np.float64(0.5),\n",
       "    np.float64(0.0625),\n",
       "    np.float64(0.5625),\n",
       "    np.float64(0.25)],\n",
       "   [np.float64(0.41666666666666663),\n",
       "    np.float64(0.25),\n",
       "    np.float64(0.3333333333333333),\n",
       "    np.float64(0.41666666666666663),\n",
       "    np.float64(0.5833333333333333)],\n",
       "   [np.float64(0.6666666666666666),\n",
       "    np.float64(0.75),\n",
       "    np.float64(0.41666666666666663),\n",
       "    np.float64(0.16666666666666666),\n",
       "    np.float64(0.16666666666666666)]],\n",
       "  'param': {'lr': 2e-06, 'epoch': 15}},\n",
       " {'auc_mean': np.float64(0.495),\n",
       "  'auc_std': np.float64(0.18001543143729526),\n",
       "  'auc': [[np.float64(0.25),\n",
       "    np.float64(0.75),\n",
       "    np.float64(0.75),\n",
       "    np.float64(0.4375),\n",
       "    np.float64(0.375)],\n",
       "   [np.float64(0.25),\n",
       "    np.float64(0.375),\n",
       "    np.float64(0.75),\n",
       "    np.float64(0.5),\n",
       "    np.float64(0.5625)],\n",
       "   [np.float64(0.8125),\n",
       "    np.float64(0.5),\n",
       "    np.float64(0.5),\n",
       "    np.float64(0.5),\n",
       "    np.float64(0.3125)],\n",
       "   [np.float64(0.5833333333333333),\n",
       "    np.float64(0.3333333333333333),\n",
       "    np.float64(0.5833333333333334),\n",
       "    np.float64(0.8333333333333333),\n",
       "    np.float64(0.5833333333333333)],\n",
       "   [np.float64(0.25),\n",
       "    np.float64(0.3333333333333333),\n",
       "    np.float64(0.5833333333333333),\n",
       "    np.float64(0.41666666666666663),\n",
       "    np.float64(0.25)]],\n",
       "  'param': {'lr': 5e-07, 'epoch': 7}},\n",
       " {'auc_mean': np.float64(0.495),\n",
       "  'auc_std': np.float64(0.2285430910013349),\n",
       "  'auc': [[np.float64(0.375),\n",
       "    np.float64(0.5625),\n",
       "    np.float64(0.1875),\n",
       "    np.float64(0.8125),\n",
       "    np.float64(0.1875)],\n",
       "   [np.float64(0.3125),\n",
       "    np.float64(0.4375),\n",
       "    np.float64(0.375),\n",
       "    np.float64(0.3125),\n",
       "    np.float64(0.5625)],\n",
       "   [np.float64(0.625),\n",
       "    np.float64(0.3125),\n",
       "    np.float64(0.5),\n",
       "    np.float64(0.625),\n",
       "    np.float64(0.1875)],\n",
       "   [np.float64(0.6666666666666666),\n",
       "    np.float64(0.3333333333333333),\n",
       "    np.float64(0.3333333333333333),\n",
       "    np.float64(0.5833333333333334),\n",
       "    np.float64(0.75)],\n",
       "   [np.float64(0.8333333333333334),\n",
       "    np.float64(1.0),\n",
       "    np.float64(0.5),\n",
       "    np.float64(0.16666666666666666),\n",
       "    np.float64(0.8333333333333333)]],\n",
       "  'param': {'lr': 1e-05, 'epoch': 7}},\n",
       " {'auc_mean': np.float64(0.49499999999999994),\n",
       "  'auc_std': np.float64(0.1379764472654663),\n",
       "  'auc': [[np.float64(0.5),\n",
       "    np.float64(0.625),\n",
       "    np.float64(0.6875),\n",
       "    np.float64(0.3125),\n",
       "    np.float64(0.4375)],\n",
       "   [np.float64(0.5625),\n",
       "    np.float64(0.4375),\n",
       "    np.float64(0.25),\n",
       "    np.float64(0.6875),\n",
       "    np.float64(0.5)],\n",
       "   [np.float64(0.5625),\n",
       "    np.float64(0.5625),\n",
       "    np.float64(0.625),\n",
       "    np.float64(0.5625),\n",
       "    np.float64(0.5625)],\n",
       "   [np.float64(0.75),\n",
       "    np.float64(0.5),\n",
       "    np.float64(0.3333333333333333),\n",
       "    np.float64(0.6666666666666666),\n",
       "    np.float64(0.41666666666666663)],\n",
       "   [np.float64(0.3333333333333333),\n",
       "    np.float64(0.3333333333333333),\n",
       "    np.float64(0.5),\n",
       "    np.float64(0.25),\n",
       "    np.float64(0.41666666666666663)]],\n",
       "  'param': {'lr': 5e-07, 'epoch': 10}},\n",
       " {'auc_mean': np.float64(0.49333333333333335),\n",
       "  'auc_std': np.float64(0.18359072840303117),\n",
       "  'auc': [[np.float64(0.5),\n",
       "    np.float64(0.4375),\n",
       "    np.float64(0.5),\n",
       "    np.float64(0.6875),\n",
       "    np.float64(0.375)],\n",
       "   [np.float64(0.4375),\n",
       "    np.float64(0.5625),\n",
       "    np.float64(0.875),\n",
       "    np.float64(0.4375),\n",
       "    np.float64(0.375)],\n",
       "   [np.float64(0.625),\n",
       "    np.float64(0.3125),\n",
       "    np.float64(0.75),\n",
       "    np.float64(0.5625),\n",
       "    np.float64(0.5625)],\n",
       "   [np.float64(0.5),\n",
       "    np.float64(0.3333333333333333),\n",
       "    np.float64(0.5),\n",
       "    np.float64(0.41666666666666663),\n",
       "    np.float64(0.5)],\n",
       "   [np.float64(0.5833333333333334),\n",
       "    np.float64(0.9166666666666666),\n",
       "    np.float64(0.16666666666666666),\n",
       "    np.float64(0.25),\n",
       "    np.float64(0.16666666666666666)]],\n",
       "  'param': {'lr': 5e-06, 'epoch': 12}},\n",
       " {'auc_mean': np.float64(0.4933333333333333),\n",
       "  'auc_std': np.float64(0.15720209922262487),\n",
       "  'auc': [[np.float64(0.625),\n",
       "    np.float64(0.5),\n",
       "    np.float64(0.375),\n",
       "    np.float64(0.4375),\n",
       "    np.float64(0.625)],\n",
       "   [np.float64(0.6875),\n",
       "    np.float64(0.625),\n",
       "    np.float64(0.375),\n",
       "    np.float64(0.5625),\n",
       "    np.float64(0.375)],\n",
       "   [np.float64(0.4375),\n",
       "    np.float64(0.125),\n",
       "    np.float64(0.8125),\n",
       "    np.float64(0.75),\n",
       "    np.float64(0.4375)],\n",
       "   [np.float64(0.5),\n",
       "    np.float64(0.5),\n",
       "    np.float64(0.5),\n",
       "    np.float64(0.6666666666666666),\n",
       "    np.float64(0.5)],\n",
       "   [np.float64(0.41666666666666663),\n",
       "    np.float64(0.5),\n",
       "    np.float64(0.3333333333333333),\n",
       "    np.float64(0.5),\n",
       "    np.float64(0.16666666666666666)]],\n",
       "  'param': {'lr': 2e-06, 'epoch': 12}},\n",
       " {'auc_mean': np.float64(0.4916666666666667),\n",
       "  'auc_std': np.float64(0.20437914114051203),\n",
       "  'auc': [[np.float64(0.75),\n",
       "    np.float64(0.375),\n",
       "    np.float64(0.4375),\n",
       "    np.float64(0.6875),\n",
       "    np.float64(0.625)],\n",
       "   [np.float64(0.4375),\n",
       "    np.float64(0.625),\n",
       "    np.float64(0.3125),\n",
       "    np.float64(0.5),\n",
       "    np.float64(0.5625)],\n",
       "   [np.float64(0.125),\n",
       "    np.float64(0.25),\n",
       "    np.float64(0.625),\n",
       "    np.float64(0.5),\n",
       "    np.float64(0.5625)],\n",
       "   [np.float64(0.3333333333333333),\n",
       "    np.float64(0.9166666666666666),\n",
       "    np.float64(0.6666666666666666),\n",
       "    np.float64(0.5),\n",
       "    np.float64(0.6666666666666666)],\n",
       "   [np.float64(0.25),\n",
       "    np.float64(0.16666666666666666),\n",
       "    np.float64(0.8333333333333334),\n",
       "    np.float64(0.3333333333333333),\n",
       "    np.float64(0.25)]],\n",
       "  'param': {'lr': 1e-08, 'epoch': 10}},\n",
       " {'auc_mean': np.float64(0.49083333333333334),\n",
       "  'auc_std': np.float64(0.21490307892939398),\n",
       "  'auc': [[np.float64(0.6875),\n",
       "    np.float64(0.8125),\n",
       "    np.float64(0.875),\n",
       "    np.float64(0.6875),\n",
       "    np.float64(0.0)],\n",
       "   [np.float64(0.6875),\n",
       "    np.float64(0.625),\n",
       "    np.float64(0.5),\n",
       "    np.float64(0.4375),\n",
       "    np.float64(0.25)],\n",
       "   [np.float64(0.8125),\n",
       "    np.float64(0.3125),\n",
       "    np.float64(0.5625),\n",
       "    np.float64(0.25),\n",
       "    np.float64(0.4375)],\n",
       "   [np.float64(0.5833333333333333),\n",
       "    np.float64(0.5833333333333334),\n",
       "    np.float64(0.5833333333333334),\n",
       "    np.float64(0.41666666666666663),\n",
       "    np.float64(0.41666666666666663)],\n",
       "   [np.float64(0.5833333333333334),\n",
       "    np.float64(0.3333333333333333),\n",
       "    np.float64(0.3333333333333333),\n",
       "    np.float64(0.41666666666666663),\n",
       "    np.float64(0.08333333333333333)]],\n",
       "  'param': {'lr': 1e-05, 'epoch': 3}},\n",
       " {'auc_mean': np.float64(0.49083333333333334),\n",
       "  'auc_std': np.float64(0.20991731176293627),\n",
       "  'auc': [[np.float64(0.3125),\n",
       "    np.float64(0.3125),\n",
       "    np.float64(0.5),\n",
       "    np.float64(0.4375),\n",
       "    np.float64(0.8125)],\n",
       "   [np.float64(0.3125),\n",
       "    np.float64(0.5),\n",
       "    np.float64(0.375),\n",
       "    np.float64(0.375),\n",
       "    np.float64(0.5)],\n",
       "   [np.float64(0.375),\n",
       "    np.float64(0.75),\n",
       "    np.float64(0.1875),\n",
       "    np.float64(0.8125),\n",
       "    np.float64(0.625)],\n",
       "   [np.float64(0.75),\n",
       "    np.float64(0.5833333333333333),\n",
       "    np.float64(0.6666666666666666),\n",
       "    np.float64(0.3333333333333333),\n",
       "    np.float64(0.6666666666666666)],\n",
       "   [np.float64(0.3333333333333333),\n",
       "    np.float64(0.3333333333333333),\n",
       "    np.float64(0.5833333333333333),\n",
       "    np.float64(0.8333333333333334),\n",
       "    np.float64(0.0)]],\n",
       "  'param': {'lr': 5e-05, 'epoch': 7}},\n",
       " {'auc_mean': np.float64(0.49),\n",
       "  'auc_std': np.float64(0.2182728923974655),\n",
       "  'auc': [[np.float64(0.25),\n",
       "    np.float64(0.25),\n",
       "    np.float64(0.3125),\n",
       "    np.float64(0.1875),\n",
       "    np.float64(0.6875)],\n",
       "   [np.float64(0.125),\n",
       "    np.float64(0.4375),\n",
       "    np.float64(0.4375),\n",
       "    np.float64(0.6875),\n",
       "    np.float64(0.375)],\n",
       "   [np.float64(0.3125),\n",
       "    np.float64(0.5625),\n",
       "    np.float64(0.625),\n",
       "    np.float64(0.8125),\n",
       "    np.float64(0.6875)],\n",
       "   [np.float64(0.6666666666666666),\n",
       "    np.float64(0.5833333333333333),\n",
       "    np.float64(0.41666666666666663),\n",
       "    np.float64(1.0),\n",
       "    np.float64(0.41666666666666663)],\n",
       "   [np.float64(0.25),\n",
       "    np.float64(0.41666666666666663),\n",
       "    np.float64(0.3333333333333333),\n",
       "    np.float64(0.5833333333333333),\n",
       "    np.float64(0.8333333333333333)]],\n",
       "  'param': {'lr': 5e-06, 'epoch': 15}},\n",
       " {'auc_mean': np.float64(0.48750000000000004),\n",
       "  'auc_std': np.float64(0.19843134832984433),\n",
       "  'auc': [[np.float64(0.1875),\n",
       "    np.float64(0.4375),\n",
       "    np.float64(0.75),\n",
       "    np.float64(0.8125),\n",
       "    np.float64(0.75)],\n",
       "   [np.float64(0.6875),\n",
       "    np.float64(0.4375),\n",
       "    np.float64(0.375),\n",
       "    np.float64(0.5),\n",
       "    np.float64(0.4375)],\n",
       "   [np.float64(0.375),\n",
       "    np.float64(0.5625),\n",
       "    np.float64(0.5625),\n",
       "    np.float64(0.4375),\n",
       "    np.float64(0.625)],\n",
       "   [np.float64(0.3333333333333333),\n",
       "    np.float64(0.16666666666666666),\n",
       "    np.float64(0.3333333333333333),\n",
       "    np.float64(0.5),\n",
       "    np.float64(0.5)],\n",
       "   [np.float64(0.16666666666666666),\n",
       "    np.float64(0.75),\n",
       "    np.float64(0.16666666666666666),\n",
       "    np.float64(0.5),\n",
       "    np.float64(0.8333333333333334)]],\n",
       "  'param': {'lr': 2e-05, 'epoch': 3}},\n",
       " {'auc_mean': np.float64(0.48666666666666664),\n",
       "  'auc_std': np.float64(0.15655581184428197),\n",
       "  'auc': [[np.float64(0.8125),\n",
       "    np.float64(0.375),\n",
       "    np.float64(0.25),\n",
       "    np.float64(0.5),\n",
       "    np.float64(0.625)],\n",
       "   [np.float64(0.5625),\n",
       "    np.float64(0.625),\n",
       "    np.float64(0.4375),\n",
       "    np.float64(0.375),\n",
       "    np.float64(0.5625)],\n",
       "   [np.float64(0.4375),\n",
       "    np.float64(0.4375),\n",
       "    np.float64(0.25),\n",
       "    np.float64(0.75),\n",
       "    np.float64(0.5)],\n",
       "   [np.float64(0.41666666666666663),\n",
       "    np.float64(0.41666666666666663),\n",
       "    np.float64(0.5),\n",
       "    np.float64(0.6666666666666666),\n",
       "    np.float64(0.5)],\n",
       "   [np.float64(0.6666666666666666),\n",
       "    np.float64(0.5),\n",
       "    np.float64(0.41666666666666663),\n",
       "    np.float64(0.08333333333333333),\n",
       "    np.float64(0.5)]],\n",
       "  'param': {'lr': 8e-07, 'epoch': 9}},\n",
       " {'auc_mean': np.float64(0.4858333333333333),\n",
       "  'auc_std': np.float64(0.21744411798079163),\n",
       "  'auc': [[np.float64(0.5625),\n",
       "    np.float64(0.5625),\n",
       "    np.float64(0.75),\n",
       "    np.float64(0.5625),\n",
       "    np.float64(0.25)],\n",
       "   [np.float64(0.25),\n",
       "    np.float64(0.4375),\n",
       "    np.float64(0.25),\n",
       "    np.float64(0.375),\n",
       "    np.float64(0.625)],\n",
       "   [np.float64(0.875),\n",
       "    np.float64(0.0625),\n",
       "    np.float64(0.3125),\n",
       "    np.float64(0.3125),\n",
       "    np.float64(0.625)],\n",
       "   [np.float64(0.41666666666666663),\n",
       "    np.float64(0.6666666666666666),\n",
       "    np.float64(0.3333333333333333),\n",
       "    np.float64(0.41666666666666663),\n",
       "    np.float64(0.3333333333333333)],\n",
       "   [np.float64(0.75),\n",
       "    np.float64(0.75),\n",
       "    np.float64(0.8333333333333333),\n",
       "    np.float64(0.16666666666666666),\n",
       "    np.float64(0.6666666666666666)]],\n",
       "  'param': {'lr': 5e-07, 'epoch': 3}},\n",
       " {'auc_mean': np.float64(0.48416666666666663),\n",
       "  'auc_std': np.float64(0.16825080485196298),\n",
       "  'auc': [[np.float64(0.1875),\n",
       "    np.float64(0.5625),\n",
       "    np.float64(0.5),\n",
       "    np.float64(0.25),\n",
       "    np.float64(0.125)],\n",
       "   [np.float64(0.5625),\n",
       "    np.float64(0.75),\n",
       "    np.float64(0.4375),\n",
       "    np.float64(0.6875),\n",
       "    np.float64(0.3125)],\n",
       "   [np.float64(0.3125),\n",
       "    np.float64(0.5625),\n",
       "    np.float64(0.6875),\n",
       "    np.float64(0.25),\n",
       "    np.float64(0.5)],\n",
       "   [np.float64(0.5833333333333333),\n",
       "    np.float64(0.5833333333333333),\n",
       "    np.float64(0.3333333333333333),\n",
       "    np.float64(0.6666666666666666),\n",
       "    np.float64(0.5)],\n",
       "   [np.float64(0.5),\n",
       "    np.float64(0.5),\n",
       "    np.float64(0.5),\n",
       "    np.float64(0.5),\n",
       "    np.float64(0.75)]],\n",
       "  'param': {'lr': 1e-07, 'epoch': 15}},\n",
       " {'auc_mean': np.float64(0.48416666666666663),\n",
       "  'auc_std': np.float64(0.20567301448874836),\n",
       "  'auc': [[np.float64(0.3125),\n",
       "    np.float64(0.6875),\n",
       "    np.float64(0.5),\n",
       "    np.float64(0.5625),\n",
       "    np.float64(0.75)],\n",
       "   [np.float64(0.6875),\n",
       "    np.float64(0.25),\n",
       "    np.float64(0.75),\n",
       "    np.float64(0.5),\n",
       "    np.float64(0.4375)],\n",
       "   [np.float64(0.125),\n",
       "    np.float64(0.625),\n",
       "    np.float64(0.6875),\n",
       "    np.float64(0.1875),\n",
       "    np.float64(0.375)],\n",
       "   [np.float64(0.8333333333333334),\n",
       "    np.float64(0.5),\n",
       "    np.float64(0.25),\n",
       "    np.float64(0.5),\n",
       "    np.float64(0.6666666666666666)],\n",
       "   [np.float64(0.5),\n",
       "    np.float64(0.41666666666666663),\n",
       "    np.float64(0.6666666666666666),\n",
       "    np.float64(0.16666666666666666),\n",
       "    np.float64(0.16666666666666666)]],\n",
       "  'param': {'lr': 8e-07, 'epoch': 8}},\n",
       " {'auc_mean': np.float64(0.4833333333333333),\n",
       "  'auc_std': np.float64(0.2326627268052286),\n",
       "  'auc': [[np.float64(0.375),\n",
       "    np.float64(0.125),\n",
       "    np.float64(0.375),\n",
       "    np.float64(0.3125),\n",
       "    np.float64(0.5)],\n",
       "   [np.float64(0.3125),\n",
       "    np.float64(0.3125),\n",
       "    np.float64(0.75),\n",
       "    np.float64(0.5),\n",
       "    np.float64(0.5625)],\n",
       "   [np.float64(0.3125),\n",
       "    np.float64(0.0),\n",
       "    np.float64(0.875),\n",
       "    np.float64(0.5),\n",
       "    np.float64(0.1875)],\n",
       "   [np.float64(0.5833333333333334),\n",
       "    np.float64(0.5),\n",
       "    np.float64(0.3333333333333333),\n",
       "    np.float64(0.9166666666666666),\n",
       "    np.float64(0.5833333333333333)],\n",
       "   [np.float64(0.3333333333333333),\n",
       "    np.float64(0.6666666666666666),\n",
       "    np.float64(0.8333333333333334),\n",
       "    np.float64(0.8333333333333333),\n",
       "    np.float64(0.5)]],\n",
       "  'param': {'lr': 5e-06, 'epoch': 3}},\n",
       " {'auc_mean': np.float64(0.4799999999999999),\n",
       "  'auc_std': np.float64(0.1716423931058732),\n",
       "  'auc': [[np.float64(0.25),\n",
       "    np.float64(0.6875),\n",
       "    np.float64(0.125),\n",
       "    np.float64(0.8125),\n",
       "    np.float64(0.5625)],\n",
       "   [np.float64(0.5),\n",
       "    np.float64(0.5625),\n",
       "    np.float64(0.5),\n",
       "    np.float64(0.4375),\n",
       "    np.float64(0.5625)],\n",
       "   [np.float64(0.5),\n",
       "    np.float64(0.375),\n",
       "    np.float64(0.3125),\n",
       "    np.float64(0.5),\n",
       "    np.float64(0.5625)],\n",
       "   [np.float64(0.6666666666666666),\n",
       "    np.float64(0.6666666666666666),\n",
       "    np.float64(0.3333333333333333),\n",
       "    np.float64(0.6666666666666666),\n",
       "    np.float64(0.25)],\n",
       "   [np.float64(0.75),\n",
       "    np.float64(0.25),\n",
       "    np.float64(0.41666666666666663),\n",
       "    np.float64(0.3333333333333333),\n",
       "    np.float64(0.41666666666666663)]],\n",
       "  'param': {'lr': 5e-06, 'epoch': 6}},\n",
       " {'auc_mean': np.float64(0.47916666666666674),\n",
       "  'auc_std': np.float64(0.18828539212825007),\n",
       "  'auc': [[np.float64(0.5),\n",
       "    np.float64(0.6875),\n",
       "    np.float64(0.4375),\n",
       "    np.float64(0.1875),\n",
       "    np.float64(0.25)],\n",
       "   [np.float64(0.6875),\n",
       "    np.float64(0.5625),\n",
       "    np.float64(0.3125),\n",
       "    np.float64(0.6875),\n",
       "    np.float64(0.4375)],\n",
       "   [np.float64(0.3125),\n",
       "    np.float64(0.75),\n",
       "    np.float64(0.6875),\n",
       "    np.float64(0.5),\n",
       "    np.float64(0.3125)],\n",
       "   [np.float64(0.3333333333333333),\n",
       "    np.float64(0.9166666666666666),\n",
       "    np.float64(0.3333333333333333),\n",
       "    np.float64(0.25),\n",
       "    np.float64(0.5)],\n",
       "   [np.float64(0.5833333333333334),\n",
       "    np.float64(0.25),\n",
       "    np.float64(0.5),\n",
       "    np.float64(0.6666666666666666),\n",
       "    np.float64(0.3333333333333333)]],\n",
       "  'param': {'lr': 1e-05, 'epoch': 20}},\n",
       " {'auc_mean': np.float64(0.47916666666666663),\n",
       "  'auc_std': np.float64(0.18661829730465576),\n",
       "  'auc': [[np.float64(0.25),\n",
       "    np.float64(0.8125),\n",
       "    np.float64(0.625),\n",
       "    np.float64(0.375),\n",
       "    np.float64(0.8125)],\n",
       "   [np.float64(0.375),\n",
       "    np.float64(0.1875),\n",
       "    np.float64(0.375),\n",
       "    np.float64(0.6875),\n",
       "    np.float64(0.375)],\n",
       "   [np.float64(0.4375),\n",
       "    np.float64(0.625),\n",
       "    np.float64(0.6875),\n",
       "    np.float64(0.75),\n",
       "    np.float64(0.4375)],\n",
       "   [np.float64(0.25),\n",
       "    np.float64(0.5),\n",
       "    np.float64(0.41666666666666663),\n",
       "    np.float64(0.3333333333333333),\n",
       "    np.float64(0.6666666666666666)],\n",
       "   [np.float64(0.41666666666666663),\n",
       "    np.float64(0.6666666666666666),\n",
       "    np.float64(0.41666666666666663),\n",
       "    np.float64(0.25),\n",
       "    np.float64(0.25)]],\n",
       "  'param': {'lr': 1e-07, 'epoch': 6}},\n",
       " {'auc_mean': np.float64(0.4783333333333333),\n",
       "  'auc_std': np.float64(0.2175047892193028),\n",
       "  'auc': [[np.float64(0.6875),\n",
       "    np.float64(0.125),\n",
       "    np.float64(0.6875),\n",
       "    np.float64(0.375),\n",
       "    np.float64(0.75)],\n",
       "   [np.float64(0.875),\n",
       "    np.float64(0.375),\n",
       "    np.float64(0.625),\n",
       "    np.float64(0.3125),\n",
       "    np.float64(0.3125)],\n",
       "   [np.float64(0.1875),\n",
       "    np.float64(0.4375),\n",
       "    np.float64(0.375),\n",
       "    np.float64(0.3125),\n",
       "    np.float64(0.4375)],\n",
       "   [np.float64(0.25),\n",
       "    np.float64(0.6666666666666666),\n",
       "    np.float64(0.41666666666666663),\n",
       "    np.float64(0.75),\n",
       "    np.float64(0.5833333333333334)],\n",
       "   [np.float64(0.6666666666666666),\n",
       "    np.float64(0.16666666666666666),\n",
       "    np.float64(0.6666666666666666),\n",
       "    np.float64(0.75),\n",
       "    np.float64(0.16666666666666666)]],\n",
       "  'param': {'lr': 2e-05, 'epoch': 12}},\n",
       " {'auc_mean': np.float64(0.4775000000000001),\n",
       "  'auc_std': np.float64(0.2191302251072534),\n",
       "  'auc': [[np.float64(0.375),\n",
       "    np.float64(0.75),\n",
       "    np.float64(0.25),\n",
       "    np.float64(0.5625),\n",
       "    np.float64(0.3125)],\n",
       "   [np.float64(0.4375),\n",
       "    np.float64(0.5),\n",
       "    np.float64(0.5625),\n",
       "    np.float64(0.1875),\n",
       "    np.float64(0.4375)],\n",
       "   [np.float64(0.875),\n",
       "    np.float64(0.625),\n",
       "    np.float64(0.5),\n",
       "    np.float64(0.5625),\n",
       "    np.float64(0.25)],\n",
       "   [np.float64(0.25),\n",
       "    np.float64(0.5833333333333333),\n",
       "    np.float64(0.5),\n",
       "    np.float64(0.5833333333333334),\n",
       "    np.float64(0.6666666666666666)],\n",
       "   [np.float64(0.08333333333333333),\n",
       "    np.float64(0.3333333333333333),\n",
       "    np.float64(0.8333333333333334),\n",
       "    np.float64(0.08333333333333333),\n",
       "    np.float64(0.8333333333333334)]],\n",
       "  'param': {'lr': 1e-06, 'epoch': 20}},\n",
       " {'auc_mean': np.float64(0.4766666666666666),\n",
       "  'auc_std': np.float64(0.1609779142891623),\n",
       "  'auc': [[np.float64(0.5),\n",
       "    np.float64(0.625),\n",
       "    np.float64(0.4375),\n",
       "    np.float64(0.6875),\n",
       "    np.float64(0.25)],\n",
       "   [np.float64(0.5),\n",
       "    np.float64(0.5),\n",
       "    np.float64(0.5625),\n",
       "    np.float64(0.375),\n",
       "    np.float64(0.4375)],\n",
       "   [np.float64(0.6875),\n",
       "    np.float64(0.5625),\n",
       "    np.float64(0.3125),\n",
       "    np.float64(0.625),\n",
       "    np.float64(0.1875)],\n",
       "   [np.float64(0.3333333333333333),\n",
       "    np.float64(0.6666666666666666),\n",
       "    np.float64(0.41666666666666663),\n",
       "    np.float64(0.3333333333333333),\n",
       "    np.float64(0.75)],\n",
       "   [np.float64(0.41666666666666663),\n",
       "    np.float64(0.3333333333333333),\n",
       "    np.float64(0.16666666666666666),\n",
       "    np.float64(0.6666666666666666),\n",
       "    np.float64(0.5833333333333334)]],\n",
       "  'param': {'lr': 5e-08, 'epoch': 5}},\n",
       " {'auc_mean': np.float64(0.4766666666666666),\n",
       "  'auc_std': np.float64(0.18059700378959165),\n",
       "  'auc': [[np.float64(0.625),\n",
       "    np.float64(0.4375),\n",
       "    np.float64(0.375),\n",
       "    np.float64(0.625),\n",
       "    np.float64(0.25)],\n",
       "   [np.float64(0.25),\n",
       "    np.float64(0.5),\n",
       "    np.float64(0.5),\n",
       "    np.float64(0.3125),\n",
       "    np.float64(0.4375)],\n",
       "   [np.float64(0.5),\n",
       "    np.float64(0.1875),\n",
       "    np.float64(0.625),\n",
       "    np.float64(0.3125),\n",
       "    np.float64(0.3125)],\n",
       "   [np.float64(0.5),\n",
       "    np.float64(0.75),\n",
       "    np.float64(0.75),\n",
       "    np.float64(0.5833333333333333),\n",
       "    np.float64(0.6666666666666666)],\n",
       "   [np.float64(0.5),\n",
       "    np.float64(0.08333333333333333),\n",
       "    np.float64(0.6666666666666666),\n",
       "    np.float64(0.75),\n",
       "    np.float64(0.41666666666666663)]],\n",
       "  'param': {'lr': 5e-08, 'epoch': 7}},\n",
       " {'auc_mean': np.float64(0.4766666666666666),\n",
       "  'auc_std': np.float64(0.21321937060220394),\n",
       "  'auc': [[np.float64(0.6875),\n",
       "    np.float64(0.875),\n",
       "    np.float64(0.5),\n",
       "    np.float64(0.25),\n",
       "    np.float64(0.25)],\n",
       "   [np.float64(0.5),\n",
       "    np.float64(0.5),\n",
       "    np.float64(0.625),\n",
       "    np.float64(0.5),\n",
       "    np.float64(0.5)],\n",
       "   [np.float64(0.375),\n",
       "    np.float64(0.5625),\n",
       "    np.float64(0.375),\n",
       "    np.float64(0.25),\n",
       "    np.float64(0.25)],\n",
       "   [np.float64(0.41666666666666663),\n",
       "    np.float64(0.5833333333333333),\n",
       "    np.float64(0.5),\n",
       "    np.float64(0.3333333333333333),\n",
       "    np.float64(0.8333333333333333)],\n",
       "   [np.float64(0.75),\n",
       "    np.float64(0.16666666666666666),\n",
       "    np.float64(0.25),\n",
       "    np.float64(0.9166666666666666),\n",
       "    np.float64(0.16666666666666666)]],\n",
       "  'param': {'lr': 1e-05, 'epoch': 10}},\n",
       " {'auc_mean': np.float64(0.4758333333333333),\n",
       "  'auc_std': np.float64(0.18311350456903924),\n",
       "  'auc': [[np.float64(0.5625),\n",
       "    np.float64(0.4375),\n",
       "    np.float64(0.625),\n",
       "    np.float64(0.6875),\n",
       "    np.float64(0.5625)],\n",
       "   [np.float64(0.5),\n",
       "    np.float64(0.75),\n",
       "    np.float64(0.4375),\n",
       "    np.float64(0.5),\n",
       "    np.float64(0.9375)],\n",
       "   [np.float64(0.5),\n",
       "    np.float64(0.4375),\n",
       "    np.float64(0.5),\n",
       "    np.float64(0.3125),\n",
       "    np.float64(0.3125)],\n",
       "   [np.float64(0.41666666666666663),\n",
       "    np.float64(0.5833333333333333),\n",
       "    np.float64(0.0),\n",
       "    np.float64(0.3333333333333333),\n",
       "    np.float64(0.41666666666666663)],\n",
       "   [np.float64(0.25),\n",
       "    np.float64(0.41666666666666663),\n",
       "    np.float64(0.6666666666666666),\n",
       "    np.float64(0.25),\n",
       "    np.float64(0.5)]],\n",
       "  'param': {'lr': 5e-07, 'epoch': 5}},\n",
       " {'auc_mean': np.float64(0.4749999999999999),\n",
       "  'auc_std': np.float64(0.17300449576688912),\n",
       "  'auc': [[np.float64(0.375),\n",
       "    np.float64(0.125),\n",
       "    np.float64(0.6875),\n",
       "    np.float64(0.4375),\n",
       "    np.float64(0.5625)],\n",
       "   [np.float64(0.625),\n",
       "    np.float64(0.6875),\n",
       "    np.float64(0.5),\n",
       "    np.float64(0.25),\n",
       "    np.float64(0.375)],\n",
       "   [np.float64(0.5),\n",
       "    np.float64(0.5625),\n",
       "    np.float64(0.6875),\n",
       "    np.float64(0.4375),\n",
       "    np.float64(0.5625)],\n",
       "   [np.float64(0.3333333333333333),\n",
       "    np.float64(0.5),\n",
       "    np.float64(0.41666666666666663),\n",
       "    np.float64(0.3333333333333333),\n",
       "    np.float64(0.41666666666666663)],\n",
       "   [np.float64(0.08333333333333333),\n",
       "    np.float64(0.5),\n",
       "    np.float64(0.41666666666666663),\n",
       "    np.float64(0.8333333333333334),\n",
       "    np.float64(0.6666666666666666)]],\n",
       "  'param': {'lr': 5e-08, 'epoch': 8}},\n",
       " {'auc_mean': np.float64(0.4749999999999999),\n",
       "  'auc_std': np.float64(0.19048549084437436),\n",
       "  'auc': [[np.float64(0.375),\n",
       "    np.float64(0.6875),\n",
       "    np.float64(0.4375),\n",
       "    np.float64(0.5625),\n",
       "    np.float64(0.4375)],\n",
       "   [np.float64(0.5625),\n",
       "    np.float64(0.4375),\n",
       "    np.float64(0.4375),\n",
       "    np.float64(0.625),\n",
       "    np.float64(0.4375)],\n",
       "   [np.float64(0.875),\n",
       "    np.float64(0.5625),\n",
       "    np.float64(0.75),\n",
       "    np.float64(0.4375),\n",
       "    np.float64(0.25)],\n",
       "   [np.float64(0.75),\n",
       "    np.float64(0.6666666666666666),\n",
       "    np.float64(0.41666666666666663),\n",
       "    np.float64(0.5),\n",
       "    np.float64(0.3333333333333333)],\n",
       "   [np.float64(0.0),\n",
       "    np.float64(0.41666666666666663),\n",
       "    np.float64(0.5),\n",
       "    np.float64(0.25),\n",
       "    np.float64(0.16666666666666666)]],\n",
       "  'param': {'lr': 5e-06, 'epoch': 20}},\n",
       " {'auc_mean': np.float64(0.4741666666666666),\n",
       "  'auc_std': np.float64(0.18747962852297076),\n",
       "  'auc': [[np.float64(0.1875),\n",
       "    np.float64(0.375),\n",
       "    np.float64(0.3125),\n",
       "    np.float64(0.3125),\n",
       "    np.float64(0.5625)],\n",
       "   [np.float64(0.5625),\n",
       "    np.float64(0.4375),\n",
       "    np.float64(0.3125),\n",
       "    np.float64(0.5625),\n",
       "    np.float64(0.5625)],\n",
       "   [np.float64(0.625),\n",
       "    np.float64(0.4375),\n",
       "    np.float64(0.5625),\n",
       "    np.float64(0.75),\n",
       "    np.float64(0.625)],\n",
       "   [np.float64(0.5),\n",
       "    np.float64(0.5833333333333333),\n",
       "    np.float64(0.41666666666666663),\n",
       "    np.float64(0.75),\n",
       "    np.float64(0.41666666666666663)],\n",
       "   [np.float64(0.16666666666666666),\n",
       "    np.float64(0.41666666666666663),\n",
       "    np.float64(0.41666666666666663),\n",
       "    np.float64(0.9166666666666666),\n",
       "    np.float64(0.08333333333333333)]],\n",
       "  'param': {'lr': 8e-07, 'epoch': 3}},\n",
       " {'auc_mean': np.float64(0.4741666666666666),\n",
       "  'auc_std': np.float64(0.19906726947888187),\n",
       "  'auc': [[np.float64(0.375),\n",
       "    np.float64(0.6875),\n",
       "    np.float64(0.5625),\n",
       "    np.float64(0.6875),\n",
       "    np.float64(0.5)],\n",
       "   [np.float64(0.375),\n",
       "    np.float64(0.4375),\n",
       "    np.float64(0.3125),\n",
       "    np.float64(0.5625),\n",
       "    np.float64(0.625)],\n",
       "   [np.float64(0.75),\n",
       "    np.float64(0.1875),\n",
       "    np.float64(0.5625),\n",
       "    np.float64(0.4375),\n",
       "    np.float64(0.875)],\n",
       "   [np.float64(0.5833333333333333),\n",
       "    np.float64(0.3333333333333333),\n",
       "    np.float64(0.3333333333333333),\n",
       "    np.float64(0.3333333333333333),\n",
       "    np.float64(0.25)],\n",
       "   [np.float64(0.41666666666666663),\n",
       "    np.float64(0.16666666666666666),\n",
       "    np.float64(0.25),\n",
       "    np.float64(0.9166666666666666),\n",
       "    np.float64(0.3333333333333333)]],\n",
       "  'param': {'lr': 1e-06, 'epoch': 9}},\n",
       " {'auc_mean': np.float64(0.4733333333333334),\n",
       "  'auc_std': np.float64(0.18413838395197357),\n",
       "  'auc': [[np.float64(0.4375),\n",
       "    np.float64(0.25),\n",
       "    np.float64(0.75),\n",
       "    np.float64(0.75),\n",
       "    np.float64(0.25)],\n",
       "   [np.float64(0.5),\n",
       "    np.float64(0.5625),\n",
       "    np.float64(0.4375),\n",
       "    np.float64(0.25),\n",
       "    np.float64(0.4375)],\n",
       "   [np.float64(0.25),\n",
       "    np.float64(0.5),\n",
       "    np.float64(0.375),\n",
       "    np.float64(0.5625),\n",
       "    np.float64(0.4375)],\n",
       "   [np.float64(0.41666666666666663),\n",
       "    np.float64(0.41666666666666663),\n",
       "    np.float64(0.5833333333333333),\n",
       "    np.float64(0.5),\n",
       "    np.float64(0.3333333333333333)],\n",
       "   [np.float64(0.8333333333333334),\n",
       "    np.float64(0.5833333333333334),\n",
       "    np.float64(0.8333333333333333),\n",
       "    np.float64(0.5),\n",
       "    np.float64(0.08333333333333333)]],\n",
       "  'param': {'lr': 5e-05, 'epoch': 6}},\n",
       " {'auc_mean': np.float64(0.4716666666666666),\n",
       "  'auc_std': np.float64(0.23310107488192994),\n",
       "  'auc': [[np.float64(0.0),\n",
       "    np.float64(0.75),\n",
       "    np.float64(0.6875),\n",
       "    np.float64(0.0625),\n",
       "    np.float64(0.5)],\n",
       "   [np.float64(0.75),\n",
       "    np.float64(0.4375),\n",
       "    np.float64(0.25),\n",
       "    np.float64(0.8125),\n",
       "    np.float64(0.4375)],\n",
       "   [np.float64(0.875),\n",
       "    np.float64(0.1875),\n",
       "    np.float64(0.3125),\n",
       "    np.float64(0.6875),\n",
       "    np.float64(0.125)],\n",
       "   [np.float64(0.5),\n",
       "    np.float64(0.41666666666666663),\n",
       "    np.float64(0.5),\n",
       "    np.float64(0.25),\n",
       "    np.float64(0.5)],\n",
       "   [np.float64(0.6666666666666666),\n",
       "    np.float64(0.6666666666666666),\n",
       "    np.float64(0.5833333333333334),\n",
       "    np.float64(0.3333333333333333),\n",
       "    np.float64(0.5)]],\n",
       "  'param': {'lr': 5e-06, 'epoch': 7}},\n",
       " {'auc_mean': np.float64(0.4708333333333334),\n",
       "  'auc_std': np.float64(0.2317655664195563),\n",
       "  'auc': [[np.float64(0.1875),\n",
       "    np.float64(0.4375),\n",
       "    np.float64(0.875),\n",
       "    np.float64(0.5),\n",
       "    np.float64(0.6875)],\n",
       "   [np.float64(0.375),\n",
       "    np.float64(0.625),\n",
       "    np.float64(0.375),\n",
       "    np.float64(0.375),\n",
       "    np.float64(0.25)],\n",
       "   [np.float64(0.625),\n",
       "    np.float64(0.25),\n",
       "    np.float64(0.625),\n",
       "    np.float64(0.75),\n",
       "    np.float64(0.75)],\n",
       "   [np.float64(0.6666666666666666),\n",
       "    np.float64(0.25),\n",
       "    np.float64(0.08333333333333333),\n",
       "    np.float64(0.41666666666666663),\n",
       "    np.float64(0.5833333333333333)],\n",
       "   [np.float64(0.25),\n",
       "    np.float64(0.5833333333333333),\n",
       "    np.float64(0.16666666666666666),\n",
       "    np.float64(0.16666666666666666),\n",
       "    np.float64(0.9166666666666666)]],\n",
       "  'param': {'lr': 1e-07, 'epoch': 20}},\n",
       " {'auc_mean': np.float64(0.46916666666666673),\n",
       "  'auc_std': np.float64(0.17180819408734715),\n",
       "  'auc': [[np.float64(0.5),\n",
       "    np.float64(0.75),\n",
       "    np.float64(0.625),\n",
       "    np.float64(0.5625),\n",
       "    np.float64(0.375)],\n",
       "   [np.float64(0.6875),\n",
       "    np.float64(0.4375),\n",
       "    np.float64(0.4375),\n",
       "    np.float64(0.5),\n",
       "    np.float64(0.6875)],\n",
       "   [np.float64(0.375),\n",
       "    np.float64(0.1875),\n",
       "    np.float64(0.25),\n",
       "    np.float64(0.25),\n",
       "    np.float64(0.6875)],\n",
       "   [np.float64(0.25),\n",
       "    np.float64(0.5833333333333334),\n",
       "    np.float64(0.3333333333333333),\n",
       "    np.float64(0.16666666666666666),\n",
       "    np.float64(0.5)],\n",
       "   [np.float64(0.3333333333333333),\n",
       "    np.float64(0.75),\n",
       "    np.float64(0.5833333333333333),\n",
       "    np.float64(0.41666666666666663),\n",
       "    np.float64(0.5)]],\n",
       "  'param': {'lr': 1e-06, 'epoch': 12}},\n",
       " {'auc_mean': np.float64(0.4666666666666666),\n",
       "  'auc_std': np.float64(0.1903031207778206),\n",
       "  'auc': [[np.float64(0.6875),\n",
       "    np.float64(0.75),\n",
       "    np.float64(0.6875),\n",
       "    np.float64(0.8125),\n",
       "    np.float64(0.75)],\n",
       "   [np.float64(0.125),\n",
       "    np.float64(0.375),\n",
       "    np.float64(0.375),\n",
       "    np.float64(0.375),\n",
       "    np.float64(0.1875)],\n",
       "   [np.float64(0.3125),\n",
       "    np.float64(0.3125),\n",
       "    np.float64(0.25),\n",
       "    np.float64(0.5),\n",
       "    np.float64(0.5)],\n",
       "   [np.float64(0.5),\n",
       "    np.float64(0.3333333333333333),\n",
       "    np.float64(0.6666666666666666),\n",
       "    np.float64(0.5),\n",
       "    np.float64(0.3333333333333333)],\n",
       "   [np.float64(0.5),\n",
       "    np.float64(0.75),\n",
       "    np.float64(0.41666666666666663),\n",
       "    np.float64(0.41666666666666663),\n",
       "    np.float64(0.25)]],\n",
       "  'param': {'lr': 1e-05, 'epoch': 6}},\n",
       " {'auc_mean': np.float64(0.4666666666666666),\n",
       "  'auc_std': np.float64(0.21929495611567942),\n",
       "  'auc': [[np.float64(0.5),\n",
       "    np.float64(0.1875),\n",
       "    np.float64(0.4375),\n",
       "    np.float64(0.375),\n",
       "    np.float64(0.4375)],\n",
       "   [np.float64(0.5),\n",
       "    np.float64(0.4375),\n",
       "    np.float64(0.5625),\n",
       "    np.float64(0.75),\n",
       "    np.float64(0.75)],\n",
       "   [np.float64(0.5),\n",
       "    np.float64(0.5625),\n",
       "    np.float64(0.0),\n",
       "    np.float64(0.25),\n",
       "    np.float64(0.75)],\n",
       "   [np.float64(0.5833333333333333),\n",
       "    np.float64(0.16666666666666666),\n",
       "    np.float64(0.3333333333333333),\n",
       "    np.float64(1.0),\n",
       "    np.float64(0.5833333333333333)],\n",
       "   [np.float64(0.6666666666666666),\n",
       "    np.float64(0.3333333333333333),\n",
       "    np.float64(0.5),\n",
       "    np.float64(0.16666666666666666),\n",
       "    np.float64(0.3333333333333333)]],\n",
       "  'param': {'lr': 5e-05, 'epoch': 9}},\n",
       " {'auc_mean': np.float64(0.4649999999999999),\n",
       "  'auc_std': np.float64(0.20307702424887403),\n",
       "  'auc': [[np.float64(0.0625),\n",
       "    np.float64(0.5),\n",
       "    np.float64(0.375),\n",
       "    np.float64(0.75),\n",
       "    np.float64(0.6875)],\n",
       "   [np.float64(0.375),\n",
       "    np.float64(0.4375),\n",
       "    np.float64(0.25),\n",
       "    np.float64(0.25),\n",
       "    np.float64(0.5625)],\n",
       "   [np.float64(0.375),\n",
       "    np.float64(0.6875),\n",
       "    np.float64(0.625),\n",
       "    np.float64(0.75),\n",
       "    np.float64(0.1875)],\n",
       "   [np.float64(0.75),\n",
       "    np.float64(0.41666666666666663),\n",
       "    np.float64(0.41666666666666663),\n",
       "    np.float64(0.41666666666666663),\n",
       "    np.float64(0.6666666666666666)],\n",
       "   [np.float64(0.3333333333333333),\n",
       "    np.float64(0.5833333333333334),\n",
       "    np.float64(0.25),\n",
       "    np.float64(0.75),\n",
       "    np.float64(0.16666666666666666)]],\n",
       "  'param': {'lr': 2e-06, 'epoch': 9}},\n",
       " {'auc_mean': np.float64(0.4641666666666666),\n",
       "  'auc_std': np.float64(0.205777657787342),\n",
       "  'auc': [[np.float64(0.625),\n",
       "    np.float64(0.25),\n",
       "    np.float64(0.4375),\n",
       "    np.float64(0.5625),\n",
       "    np.float64(0.125)],\n",
       "   [np.float64(0.5625),\n",
       "    np.float64(0.375),\n",
       "    np.float64(0.375),\n",
       "    np.float64(0.625),\n",
       "    np.float64(0.875)],\n",
       "   [np.float64(0.625),\n",
       "    np.float64(0.5625),\n",
       "    np.float64(0.25),\n",
       "    np.float64(0.6875),\n",
       "    np.float64(0.5)],\n",
       "   [np.float64(0.41666666666666663),\n",
       "    np.float64(0.6666666666666666),\n",
       "    np.float64(0.3333333333333333),\n",
       "    np.float64(0.41666666666666663),\n",
       "    np.float64(0.5833333333333333)],\n",
       "   [np.float64(0.08333333333333333),\n",
       "    np.float64(0.08333333333333333),\n",
       "    np.float64(0.5833333333333333),\n",
       "    np.float64(0.75),\n",
       "    np.float64(0.25)]],\n",
       "  'param': {'lr': 5e-07, 'epoch': 6}},\n",
       " {'auc_mean': np.float64(0.46333333333333326),\n",
       "  'auc_std': np.float64(0.199415813481947),\n",
       "  'auc': [[np.float64(0.4375),\n",
       "    np.float64(0.125),\n",
       "    np.float64(0.625),\n",
       "    np.float64(0.6875),\n",
       "    np.float64(0.0625)],\n",
       "   [np.float64(0.25),\n",
       "    np.float64(0.5),\n",
       "    np.float64(0.625),\n",
       "    np.float64(0.6875),\n",
       "    np.float64(0.3125)],\n",
       "   [np.float64(0.5625),\n",
       "    np.float64(0.625),\n",
       "    np.float64(0.5625),\n",
       "    np.float64(0.4375),\n",
       "    np.float64(0.25)],\n",
       "   [np.float64(0.41666666666666663),\n",
       "    np.float64(0.25),\n",
       "    np.float64(0.5),\n",
       "    np.float64(0.25),\n",
       "    np.float64(0.41666666666666663)],\n",
       "   [np.float64(0.75),\n",
       "    np.float64(0.3333333333333333),\n",
       "    np.float64(0.5),\n",
       "    np.float64(0.9166666666666666),\n",
       "    np.float64(0.5)]],\n",
       "  'param': {'lr': 8e-07, 'epoch': 4}},\n",
       " {'auc_mean': np.float64(0.46083333333333326),\n",
       "  'auc_std': np.float64(0.2303620339089466),\n",
       "  'auc': [[np.float64(0.4375),\n",
       "    np.float64(0.25),\n",
       "    np.float64(0.375),\n",
       "    np.float64(0.6875),\n",
       "    np.float64(0.5)],\n",
       "   [np.float64(0.25),\n",
       "    np.float64(0.625),\n",
       "    np.float64(0.5),\n",
       "    np.float64(0.5),\n",
       "    np.float64(0.0625)],\n",
       "   [np.float64(0.625),\n",
       "    np.float64(0.5625),\n",
       "    np.float64(0.8125),\n",
       "    np.float64(0.75),\n",
       "    np.float64(0.75)],\n",
       "   [np.float64(0.3333333333333333),\n",
       "    np.float64(0.41666666666666663),\n",
       "    np.float64(0.0),\n",
       "    np.float64(0.5833333333333333),\n",
       "    np.float64(0.3333333333333333)],\n",
       "   [np.float64(0.75),\n",
       "    np.float64(0.75),\n",
       "    np.float64(0.08333333333333333),\n",
       "    np.float64(0.41666666666666663),\n",
       "    np.float64(0.16666666666666666)]],\n",
       "  'param': {'lr': 1e-07, 'epoch': 10}},\n",
       " {'auc_mean': np.float64(0.455),\n",
       "  'auc_std': np.float64(0.21226948281213984),\n",
       "  'auc': [[np.float64(0.625),\n",
       "    np.float64(0.6875),\n",
       "    np.float64(0.0625),\n",
       "    np.float64(0.5),\n",
       "    np.float64(0.3125)],\n",
       "   [np.float64(0.125),\n",
       "    np.float64(0.625),\n",
       "    np.float64(0.4375),\n",
       "    np.float64(0.8125),\n",
       "    np.float64(0.25)],\n",
       "   [np.float64(0.5),\n",
       "    np.float64(0.4375),\n",
       "    np.float64(0.4375),\n",
       "    np.float64(0.6875),\n",
       "    np.float64(0.625)],\n",
       "   [np.float64(0.16666666666666666),\n",
       "    np.float64(0.6666666666666666),\n",
       "    np.float64(0.3333333333333333),\n",
       "    np.float64(0.6666666666666666),\n",
       "    np.float64(0.16666666666666666)],\n",
       "   [np.float64(0.8333333333333334),\n",
       "    np.float64(0.41666666666666663),\n",
       "    np.float64(0.41666666666666663),\n",
       "    np.float64(0.3333333333333333),\n",
       "    np.float64(0.25)]],\n",
       "  'param': {'lr': 1e-06, 'epoch': 15}},\n",
       " {'auc_mean': np.float64(0.44666666666666666),\n",
       "  'auc_std': np.float64(0.1934769581457527),\n",
       "  'auc': [[np.float64(0.25),\n",
       "    np.float64(0.375),\n",
       "    np.float64(0.6875),\n",
       "    np.float64(0.5),\n",
       "    np.float64(0.9375)],\n",
       "   [np.float64(0.625),\n",
       "    np.float64(0.5),\n",
       "    np.float64(0.5),\n",
       "    np.float64(0.25),\n",
       "    np.float64(0.25)],\n",
       "   [np.float64(0.125),\n",
       "    np.float64(0.25),\n",
       "    np.float64(0.4375),\n",
       "    np.float64(0.3125),\n",
       "    np.float64(0.5)],\n",
       "   [np.float64(0.3333333333333333),\n",
       "    np.float64(0.75),\n",
       "    np.float64(0.5),\n",
       "    np.float64(0.6666666666666666),\n",
       "    np.float64(0.41666666666666663)],\n",
       "   [np.float64(0.6666666666666666),\n",
       "    np.float64(0.3333333333333333),\n",
       "    np.float64(0.3333333333333333),\n",
       "    np.float64(0.5),\n",
       "    np.float64(0.16666666666666666)]],\n",
       "  'param': {'lr': 5e-08, 'epoch': 6}},\n",
       " {'auc_mean': np.float64(0.4408333333333333),\n",
       "  'auc_std': np.float64(0.223659587568052),\n",
       "  'auc': [[np.float64(0.6875),\n",
       "    np.float64(0.5),\n",
       "    np.float64(0.6875),\n",
       "    np.float64(0.3125),\n",
       "    np.float64(0.6875)],\n",
       "   [np.float64(0.5625),\n",
       "    np.float64(0.5),\n",
       "    np.float64(0.25),\n",
       "    np.float64(0.6875),\n",
       "    np.float64(0.1875)],\n",
       "   [np.float64(0.875),\n",
       "    np.float64(0.375),\n",
       "    np.float64(0.25),\n",
       "    np.float64(0.625),\n",
       "    np.float64(0.25)],\n",
       "   [np.float64(0.25),\n",
       "    np.float64(0.6666666666666666),\n",
       "    np.float64(0.16666666666666666),\n",
       "    np.float64(0.6666666666666666),\n",
       "    np.float64(0.41666666666666663)],\n",
       "   [np.float64(0.08333333333333333),\n",
       "    np.float64(0.3333333333333333),\n",
       "    np.float64(0.08333333333333333),\n",
       "    np.float64(0.6666666666666666),\n",
       "    np.float64(0.25)]],\n",
       "  'param': {'lr': 2e-06, 'epoch': 4}},\n",
       " {'auc_mean': np.float64(0.43499999999999994),\n",
       "  'auc_std': np.float64(0.1716262088247467),\n",
       "  'auc': [[np.float64(0.3125),\n",
       "    np.float64(0.5),\n",
       "    np.float64(0.1875),\n",
       "    np.float64(0.6875),\n",
       "    np.float64(0.5625)],\n",
       "   [np.float64(0.375),\n",
       "    np.float64(0.1875),\n",
       "    np.float64(0.5625),\n",
       "    np.float64(0.625),\n",
       "    np.float64(0.4375)],\n",
       "   [np.float64(0.5625),\n",
       "    np.float64(0.5),\n",
       "    np.float64(0.375),\n",
       "    np.float64(0.5),\n",
       "    np.float64(0.75)],\n",
       "   [np.float64(0.3333333333333333),\n",
       "    np.float64(0.5833333333333333),\n",
       "    np.float64(0.3333333333333333),\n",
       "    np.float64(0.41666666666666663),\n",
       "    np.float64(0.41666666666666663)],\n",
       "   [np.float64(0.5),\n",
       "    np.float64(0.25),\n",
       "    np.float64(0.08333333333333333),\n",
       "    np.float64(0.6666666666666666),\n",
       "    np.float64(0.16666666666666666)]],\n",
       "  'param': {'lr': 1e-08, 'epoch': 3}},\n",
       " {'auc_mean': np.float64(0.43416666666666665),\n",
       "  'auc_std': np.float64(0.1929018172830705),\n",
       "  'auc': [[np.float64(0.375),\n",
       "    np.float64(0.6875),\n",
       "    np.float64(0.8125),\n",
       "    np.float64(0.375),\n",
       "    np.float64(0.125)],\n",
       "   [np.float64(0.4375),\n",
       "    np.float64(0.5625),\n",
       "    np.float64(0.0625),\n",
       "    np.float64(0.4375),\n",
       "    np.float64(0.375)],\n",
       "   [np.float64(0.75),\n",
       "    np.float64(0.3125),\n",
       "    np.float64(0.6875),\n",
       "    np.float64(0.6875),\n",
       "    np.float64(0.25)],\n",
       "   [np.float64(0.41666666666666663),\n",
       "    np.float64(0.41666666666666663),\n",
       "    np.float64(0.3333333333333333),\n",
       "    np.float64(0.5833333333333333),\n",
       "    np.float64(0.3333333333333333)],\n",
       "   [np.float64(0.5833333333333334),\n",
       "    np.float64(0.5),\n",
       "    np.float64(0.16666666666666666),\n",
       "    np.float64(0.3333333333333333),\n",
       "    np.float64(0.25)]],\n",
       "  'param': {'lr': 2e-06, 'epoch': 7}},\n",
       " {'auc_mean': np.float64(0.43333333333333335),\n",
       "  'auc_std': np.float64(0.23318447632722036),\n",
       "  'auc': [[np.float64(0.25),\n",
       "    np.float64(0.8125),\n",
       "    np.float64(0.3125),\n",
       "    np.float64(0.0625),\n",
       "    np.float64(0.625)],\n",
       "   [np.float64(0.3125),\n",
       "    np.float64(0.625),\n",
       "    np.float64(0.3125),\n",
       "    np.float64(0.375),\n",
       "    np.float64(0.375)],\n",
       "   [np.float64(0.5),\n",
       "    np.float64(0.6875),\n",
       "    np.float64(0.625),\n",
       "    np.float64(0.0625),\n",
       "    np.float64(0.3125)],\n",
       "   [np.float64(0.08333333333333333),\n",
       "    np.float64(0.75),\n",
       "    np.float64(0.25),\n",
       "    np.float64(0.3333333333333333),\n",
       "    np.float64(0.75)],\n",
       "   [np.float64(0.6666666666666666),\n",
       "    np.float64(0.41666666666666663),\n",
       "    np.float64(0.3333333333333333),\n",
       "    np.float64(0.16666666666666666),\n",
       "    np.float64(0.8333333333333333)]],\n",
       "  'param': {'lr': 5e-08, 'epoch': 12}},\n",
       " {'auc_mean': np.float64(0.4308333333333333),\n",
       "  'auc_std': np.float64(0.19389286847237172),\n",
       "  'auc': [[np.float64(0.25),\n",
       "    np.float64(0.875),\n",
       "    np.float64(0.25),\n",
       "    np.float64(0.0),\n",
       "    np.float64(0.5625)],\n",
       "   [np.float64(0.25),\n",
       "    np.float64(0.5),\n",
       "    np.float64(0.5),\n",
       "    np.float64(0.5625),\n",
       "    np.float64(0.625)],\n",
       "   [np.float64(0.75),\n",
       "    np.float64(0.3125),\n",
       "    np.float64(0.375),\n",
       "    np.float64(0.4375),\n",
       "    np.float64(0.6875)],\n",
       "   [np.float64(0.3333333333333333),\n",
       "    np.float64(0.3333333333333333),\n",
       "    np.float64(0.41666666666666663),\n",
       "    np.float64(0.3333333333333333),\n",
       "    np.float64(0.5833333333333333)],\n",
       "   [np.float64(0.5),\n",
       "    np.float64(0.3333333333333333),\n",
       "    np.float64(0.5),\n",
       "    np.float64(0.08333333333333333),\n",
       "    np.float64(0.41666666666666663)]],\n",
       "  'param': {'lr': 2e-05, 'epoch': 7}},\n",
       " {'auc_mean': np.float64(0.42416666666666664),\n",
       "  'auc_std': np.float64(0.19754394729049818),\n",
       "  'auc': [[np.float64(0.625),\n",
       "    np.float64(0.3125),\n",
       "    np.float64(0.8125),\n",
       "    np.float64(0.0625),\n",
       "    np.float64(0.5625)],\n",
       "   [np.float64(0.625),\n",
       "    np.float64(0.4375),\n",
       "    np.float64(0.3125),\n",
       "    np.float64(0.5),\n",
       "    np.float64(0.5)],\n",
       "   [np.float64(0.5),\n",
       "    np.float64(0.5),\n",
       "    np.float64(0.5625),\n",
       "    np.float64(0.375),\n",
       "    np.float64(0.5)],\n",
       "   [np.float64(0.41666666666666663),\n",
       "    np.float64(0.3333333333333333),\n",
       "    np.float64(0.3333333333333333),\n",
       "    np.float64(0.0),\n",
       "    np.float64(0.3333333333333333)],\n",
       "   [np.float64(0.25),\n",
       "    np.float64(0.08333333333333333),\n",
       "    np.float64(0.41666666666666663),\n",
       "    np.float64(0.41666666666666663),\n",
       "    np.float64(0.8333333333333334)]],\n",
       "  'param': {'lr': 2e-05, 'epoch': 5}},\n",
       " {'auc_mean': np.float64(0.41416666666666674),\n",
       "  'auc_std': np.float64(0.2016701101634383),\n",
       "  'auc': [[np.float64(0.1875),\n",
       "    np.float64(0.75),\n",
       "    np.float64(0.4375),\n",
       "    np.float64(0.5),\n",
       "    np.float64(0.8125)],\n",
       "   [np.float64(0.4375),\n",
       "    np.float64(0.5),\n",
       "    np.float64(0.375),\n",
       "    np.float64(0.5625),\n",
       "    np.float64(0.4375)],\n",
       "   [np.float64(0.25),\n",
       "    np.float64(0.3125),\n",
       "    np.float64(0.5),\n",
       "    np.float64(0.25),\n",
       "    np.float64(0.375)],\n",
       "   [np.float64(0.5),\n",
       "    np.float64(0.5),\n",
       "    np.float64(0.41666666666666663),\n",
       "    np.float64(0.25),\n",
       "    np.float64(0.5833333333333334)],\n",
       "   [np.float64(0.0),\n",
       "    np.float64(0.08333333333333333),\n",
       "    np.float64(0.08333333333333333),\n",
       "    np.float64(0.5),\n",
       "    np.float64(0.75)]],\n",
       "  'param': {'lr': 1e-05, 'epoch': 15}},\n",
       " {'auc_mean': np.float64(0.3999999999999999),\n",
       "  'auc_std': np.float64(0.17490076551512795),\n",
       "  'auc': [[np.float64(0.3125),\n",
       "    np.float64(0.75),\n",
       "    np.float64(0.25),\n",
       "    np.float64(0.1875),\n",
       "    np.float64(0.25)],\n",
       "   [np.float64(0.375),\n",
       "    np.float64(0.4375),\n",
       "    np.float64(0.3125),\n",
       "    np.float64(0.75),\n",
       "    np.float64(0.25)],\n",
       "   [np.float64(0.5625),\n",
       "    np.float64(0.375),\n",
       "    np.float64(0.3125),\n",
       "    np.float64(0.375),\n",
       "    np.float64(0.25)],\n",
       "   [np.float64(0.25),\n",
       "    np.float64(0.16666666666666666),\n",
       "    np.float64(0.5833333333333333),\n",
       "    np.float64(0.41666666666666663),\n",
       "    np.float64(0.25)],\n",
       "   [np.float64(0.6666666666666666),\n",
       "    np.float64(0.25),\n",
       "    np.float64(0.41666666666666663),\n",
       "    np.float64(0.5833333333333333),\n",
       "    np.float64(0.6666666666666666)]],\n",
       "  'param': {'lr': 1e-06, 'epoch': 7}}]"
      ]
     },
     "execution_count": 19,
     "metadata": {},
     "output_type": "execute_result"
    }
   ],
   "source": [
    "finalResult"
   ]
  },
  {
   "cell_type": "code",
   "execution_count": null,
   "id": "d4240b62-91ae-492d-b2c3-b9bc6196d17a",
   "metadata": {},
   "outputs": [],
   "source": []
  },
  {
   "cell_type": "code",
   "execution_count": null,
   "id": "2794093b-9bc5-4e85-848c-038d8fe00cf1",
   "metadata": {},
   "outputs": [],
   "source": []
  },
  {
   "cell_type": "code",
   "execution_count": null,
   "id": "13bdd3d7-b808-4a14-b00a-342c587a2be7",
   "metadata": {},
   "outputs": [],
   "source": []
  },
  {
   "cell_type": "code",
   "execution_count": null,
   "id": "71c2701f-dd5b-4a5e-b577-e106070d7036",
   "metadata": {},
   "outputs": [],
   "source": []
  },
  {
   "cell_type": "code",
   "execution_count": null,
   "id": "0f11cec3-69cb-4b56-afbb-8b3f62ad705d",
   "metadata": {},
   "outputs": [],
   "source": []
  },
  {
   "cell_type": "code",
   "execution_count": null,
   "id": "46cb3bec-efd6-4c91-a1b1-07c4a2b68ac5",
   "metadata": {},
   "outputs": [],
   "source": []
  },
  {
   "cell_type": "code",
   "execution_count": null,
   "id": "f820fd72-9355-45c4-9e2e-efba21edafdf",
   "metadata": {},
   "outputs": [],
   "source": []
  },
  {
   "cell_type": "code",
   "execution_count": null,
   "id": "74ef59c6-24ec-455b-a996-1ef059b4fe28",
   "metadata": {},
   "outputs": [],
   "source": [
    "param_dict = {\n",
    "    \"lr\": 1e-5,\n",
    "    \"epoch\": 10\n",
    "}"
   ]
  },
  {
   "cell_type": "code",
   "execution_count": 18,
   "id": "95959c8e-15d4-45b9-8fc2-9e5175746b5d",
   "metadata": {},
   "outputs": [],
   "source": [
    "def singleTrain(train_dataloader, eval_dataloader, hypparam, model_name, save=None):\n",
    "    # Clean GPU \n",
    "    with torch.no_grad():\n",
    "        torch.cuda.empty_cache()\n",
    "\n",
    "    if \"bert\" in model_name.split(\"-\"):\n",
    "        model = BertForSequenceClassification.from_pretrained(model_name, num_labels=1)\n",
    "        for param in model.bert.parameters():\n",
    "            param.requires_grad = False\n",
    "    else:\n",
    "        model = AutoModelForSequenceClassification.from_pretrained(model_name, num_labels=1)\n",
    "    optimizer = AdamW(model.parameters(), lr=hypparam[\"lr\"])        \n",
    "    num_epochs = hypparam[\"epoch\"]\n",
    "    num_training_steps = num_epochs * len(train_dataloader)\n",
    "    model.to(device)    \n",
    "    model.train()\n",
    "    for epoch in range(num_epochs):\n",
    "        for batch in train_dataloader:\n",
    "            batch = {k: v.to(device) for k, v in batch.items() if k != \"summarization\"}\n",
    "            outputs = model(**batch)\n",
    "            loss = outputs.loss\n",
    "            loss.backward()\n",
    "    \n",
    "            optimizer.step()\n",
    "            optimizer.zero_grad()\n",
    "            # progress_bar.update(1)      \n",
    "\n",
    "    finalResult = []\n",
    "    finalLabel = []\n",
    "    model.eval()    \n",
    "    for batch in eval_dataloader:\n",
    "        batch = {k: v.to(device) for k, v in batch.items() if k != \"summarization\"}\n",
    "        with torch.no_grad():\n",
    "            outputs = model(**batch)\n",
    "    \n",
    "        logits = outputs.logits\n",
    "        predictions = torch.sigmoid(logits)\n",
    "        # print(predictions)\n",
    "        finalResult += predictions.tolist()\n",
    "        finalLabel += batch[\"labels\"].tolist()\n",
    "        # metric.add_batch(predictions=predictions, references=batch[\"labels\"])\n",
    "    # print(finalResult)\n",
    "    # print(finalLabel)\n",
    "    # print(roc_auc_score(finalLabel, finalResult))\n",
    "    auc = roc_auc_score(finalLabel, finalResult)\n",
    "    if save != None:\n",
    "        model.save_pretrained(save) \n",
    "    return auc"
   ]
  },
  {
   "cell_type": "code",
   "execution_count": null,
   "id": "4b3887ff-0e78-4f8b-86f9-de7217b38522",
   "metadata": {},
   "outputs": [],
   "source": []
  },
  {
   "cell_type": "code",
   "execution_count": null,
   "id": "fd2d7cd7-a9e3-4e6f-8917-b62b720ff87f",
   "metadata": {},
   "outputs": [],
   "source": []
  },
  {
   "cell_type": "code",
   "execution_count": null,
   "id": "b179710b-028c-4e57-8a51-3a6dd05aa625",
   "metadata": {},
   "outputs": [],
   "source": []
  },
  {
   "cell_type": "code",
   "execution_count": null,
   "id": "ac919244-c19a-4aff-a10c-fb1864ab6448",
   "metadata": {},
   "outputs": [],
   "source": []
  },
  {
   "cell_type": "code",
   "execution_count": null,
   "id": "fe31a791-ef4a-4b67-aadd-298d00627890",
   "metadata": {},
   "outputs": [],
   "source": []
  },
  {
   "cell_type": "code",
   "execution_count": null,
   "id": "171ab3e8-0c88-476f-9f78-c384e2e06216",
   "metadata": {},
   "outputs": [],
   "source": []
  },
  {
   "cell_type": "code",
   "execution_count": null,
   "id": "24a93551-f8df-4fc6-87af-1068f4bf0298",
   "metadata": {},
   "outputs": [],
   "source": []
  },
  {
   "cell_type": "code",
   "execution_count": null,
   "id": "5fff932e-2da1-4863-aef8-7cae65ec7bb1",
   "metadata": {},
   "outputs": [],
   "source": []
  },
  {
   "cell_type": "code",
   "execution_count": 29,
   "id": "882ffdc0-d537-4a9d-abb4-516ee1a21ca1",
   "metadata": {},
   "outputs": [
    {
     "name": "stderr",
     "output_type": "stream",
     "text": [
      "Some weights of BertForSequenceClassification were not initialized from the model checkpoint at bert-base-uncased and are newly initialized: ['classifier.bias', 'classifier.weight']\n",
      "You should probably TRAIN this model on a down-stream task to be able to use it for predictions and inference.\n"
     ]
    },
    {
     "ename": "IndexError",
     "evalue": "too many indices for tensor of dimension 1",
     "output_type": "error",
     "traceback": [
      "\u001b[31m---------------------------------------------------------------------------\u001b[39m",
      "\u001b[31mIndexError\u001b[39m                                Traceback (most recent call last)",
      "\u001b[36mCell\u001b[39m\u001b[36m \u001b[39m\u001b[32mIn[29]\u001b[39m\u001b[32m, line 3\u001b[39m\n\u001b[32m      1\u001b[39m \u001b[38;5;28;01mif\u001b[39;00m \u001b[33m\"\u001b[39m\u001b[33mtmp\u001b[39m\u001b[33m\"\u001b[39m \u001b[38;5;129;01mnot\u001b[39;00m \u001b[38;5;129;01min\u001b[39;00m os.listdir(\u001b[33m\"\u001b[39m\u001b[33m./\u001b[39m\u001b[33m\"\u001b[39m):\n\u001b[32m      2\u001b[39m     os.mkdir(\u001b[33m\"\u001b[39m\u001b[33mtmp\u001b[39m\u001b[33m\"\u001b[39m)\n\u001b[32m----> \u001b[39m\u001b[32m3\u001b[39m \u001b[43msingleTrain\u001b[49m\u001b[43m(\u001b[49m\u001b[43mtrain_dataloader\u001b[49m\u001b[43m,\u001b[49m\u001b[43m \u001b[49m\u001b[43mtest_dataloader\u001b[49m\u001b[43m,\u001b[49m\u001b[43m \u001b[49m\u001b[43mparam_dict\u001b[49m\u001b[43m,\u001b[49m\u001b[43m \u001b[49m\u001b[43mmodel_name\u001b[49m\u001b[43m)\u001b[49m\n",
      "\u001b[36mCell\u001b[39m\u001b[36m \u001b[39m\u001b[32mIn[26]\u001b[39m\u001b[32m, line 12\u001b[39m, in \u001b[36msingleTrain\u001b[39m\u001b[34m(train_dataloader, eval_dataloader, param, model_name, save)\u001b[39m\n\u001b[32m     10\u001b[39m \u001b[38;5;28;01melse\u001b[39;00m:\n\u001b[32m     11\u001b[39m     model = AutoModelForSequenceClassification.from_pretrained(model_name, num_labels=\u001b[32m1\u001b[39m)\n\u001b[32m---> \u001b[39m\u001b[32m12\u001b[39m optimizer = AdamW(model.classifier.parameters(), lr=\u001b[43mparam\u001b[49m\u001b[43m[\u001b[49m\u001b[33;43m\"\u001b[39;49m\u001b[33;43mlr\u001b[39;49m\u001b[33;43m\"\u001b[39;49m\u001b[43m]\u001b[49m)        \n\u001b[32m     13\u001b[39m num_epochs = param[\u001b[33m\"\u001b[39m\u001b[33mepoch\u001b[39m\u001b[33m\"\u001b[39m]\n\u001b[32m     14\u001b[39m num_training_steps = num_epochs * \u001b[38;5;28mlen\u001b[39m(train_dataloader)\n",
      "\u001b[31mIndexError\u001b[39m: too many indices for tensor of dimension 1"
     ]
    }
   ],
   "source": [
    "if \"tmp\" not in os.listdir(\"./\"):\n",
    "    os.mkdir(\"tmp\")\n",
    "singleTrain(train_dataloader, test_dataloader, param_dict, model_name)"
   ]
  },
  {
   "cell_type": "code",
   "execution_count": null,
   "id": "f1ea3460-7289-42a4-b42e-4d5f76915c13",
   "metadata": {},
   "outputs": [],
   "source": []
  },
  {
   "cell_type": "code",
   "execution_count": null,
   "id": "2c4f6c93-e6b4-4f3c-b42b-1ef97381de97",
   "metadata": {},
   "outputs": [],
   "source": []
  },
  {
   "cell_type": "code",
   "execution_count": null,
   "id": "ddaf1739-ff8b-4d76-98b7-96002ccc5196",
   "metadata": {},
   "outputs": [],
   "source": []
  },
  {
   "cell_type": "code",
   "execution_count": null,
   "id": "ccdda6b5-e9b7-440b-aaf8-2af1d6b2e5bc",
   "metadata": {},
   "outputs": [],
   "source": []
  },
  {
   "cell_type": "code",
   "execution_count": null,
   "id": "79f174c5-fe97-410d-954c-fa125a2d4159",
   "metadata": {},
   "outputs": [],
   "source": []
  },
  {
   "cell_type": "code",
   "execution_count": null,
   "id": "0efbfea4-d408-4691-b887-63557160144b",
   "metadata": {},
   "outputs": [],
   "source": []
  },
  {
   "cell_type": "code",
   "execution_count": null,
   "id": "a12d5d2d-e553-4fc8-8013-9c1cc886b5cf",
   "metadata": {},
   "outputs": [],
   "source": []
  }
 ],
 "metadata": {
  "kernelspec": {
   "display_name": "Python 3 (ipykernel)",
   "language": "python",
   "name": "python3"
  },
  "language_info": {
   "codemirror_mode": {
    "name": "ipython",
    "version": 3
   },
   "file_extension": ".py",
   "mimetype": "text/x-python",
   "name": "python",
   "nbconvert_exporter": "python",
   "pygments_lexer": "ipython3",
   "version": "3.12.9"
  }
 },
 "nbformat": 4,
 "nbformat_minor": 5
}
