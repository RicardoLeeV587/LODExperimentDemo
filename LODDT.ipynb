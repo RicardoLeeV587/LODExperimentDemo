{
 "cells": [
  {
   "cell_type": "code",
   "execution_count": 1,
   "id": "1afb6fa0-d11a-43eb-88a8-dae3bf6352a3",
   "metadata": {},
   "outputs": [],
   "source": [
    "import os\n",
    "import pandas as pd\n",
    "from xgboost import XGBClassifier\n",
    "from sklearn.model_selection import KFold, train_test_split, GridSearchCV, cross_val_score\n",
    "from sklearn.metrics import accuracy_score\n",
    "# sklearn.metrics.accuracy_score\n",
    "import xgboost as xgb\n",
    "import numpy as np\n",
    "import itertools \n",
    "import tqdm\n",
    "from time import sleep\n",
    "\n",
    "\n",
    "from sklearn import tree"
   ]
  },
  {
   "cell_type": "code",
   "execution_count": 2,
   "id": "29478662-e123-4f46-bf4f-03f3f88bb5d4",
   "metadata": {},
   "outputs": [],
   "source": [
    "import warnings \n",
    "warnings.filterwarnings(\"ignore\")"
   ]
  },
  {
   "cell_type": "code",
   "execution_count": 3,
   "id": "a75299a1-b3d5-4025-8219-8aa18fe22805",
   "metadata": {},
   "outputs": [],
   "source": [
    "# mannually generate the search grid\n",
    "def makeGrid(pars_dict):  \n",
    "    keys=pars_dict.keys()\n",
    "    combinations=itertools.product(*pars_dict.values())\n",
    "    ds=[dict(zip(keys,cc)) for cc in combinations]\n",
    "    return ds"
   ]
  },
  {
   "cell_type": "markdown",
   "id": "66267501-862e-4622-a741-fafe215ae1e0",
   "metadata": {},
   "source": [
    "# Dataset Preparation"
   ]
  },
  {
   "cell_type": "code",
   "execution_count": 4,
   "id": "a7fc7e83-d6c0-48ff-ae18-d147977d8098",
   "metadata": {},
   "outputs": [],
   "source": [
    "df_raw = pd.read_excel(\"../Dataset/MergedDataset_231207_ForElly_Excel.xlsx\")\n",
    "\n",
    "# Remove \".\" in the feature column\n",
    "row_num, column_num = df_raw.shape\n",
    "for rowID in range(row_num):\n",
    "    for columnID in range(column_num):\n",
    "        if \".\" == df_raw.iloc[rowID, columnID]:\n",
    "            df_raw.iloc[rowID, columnID] = np.nan\n",
    "\n",
    "# prepare the feature list\n",
    "featureList = []\n",
    "for item in df_raw.columns:\n",
    "    if item.startswith(\"Item\"):\n",
    "        featureList.append(item)"
   ]
  },
  {
   "cell_type": "markdown",
   "id": "fdb9d318-5f6c-4db4-8450-39b2cac0c5b7",
   "metadata": {},
   "source": [
    "## Use EndDesc as the label"
   ]
  },
  {
   "cell_type": "code",
   "execution_count": 5,
   "id": "518feb96-8cef-4745-a8be-7edc7be4cda4",
   "metadata": {
    "scrolled": true
   },
   "outputs": [
    {
     "name": "stdout",
     "output_type": "stream",
     "text": [
      "['Mutually agreed completion of treatment'\n",
      " 'Termition of treatment earlier than Care Professiol planned'\n",
      " 'Not suitable for IAPT service - no action taken or directed back to referrer'\n",
      " 'Referred to another therapy service by mutual agreement']\n",
      "(570, 279)\n",
      "['Mutually agreed completion of treatment', 'Termition of treatment earlier than Care Professiol planned', 'Not suitable for IAPT service - no action taken or directed back to referrer', 'Referred to another therapy service by mutual agreement']\n"
     ]
    }
   ],
   "source": [
    "df = df_raw[df_raw[\"EndDesc\"] == df_raw[\"EndDesc\"]]\n",
    "df.reset_index().drop(\"index\", axis=1)\n",
    "\n",
    "print(df[\"EndDesc\"].unique())\n",
    "print(df.shape)\n",
    "\n",
    "labelRangeList = df[\"EndDesc\"].unique().tolist()\n",
    "print(labelRangeList)\n",
    "labelList = []\n",
    "for idx, row in df.iterrows():\n",
    "    label = labelRangeList.index(row[\"EndDesc\"])\n",
    "    labelList.append(label)\n",
    "df[\"label\"] = labelList\n",
    "\n",
    "labelList = [\"label\"]"
   ]
  },
  {
   "cell_type": "markdown",
   "id": "c2e2627a-8619-4523-9f50-369d9b9b322e",
   "metadata": {},
   "source": [
    "## Use RecoveryDesc as the label"
   ]
  },
  {
   "cell_type": "code",
   "execution_count": 5,
   "id": "2bba5fe4-517c-493a-994c-180741fce6cb",
   "metadata": {},
   "outputs": [
    {
     "name": "stdout",
     "output_type": "stream",
     "text": [
      "(391, 279)\n"
     ]
    }
   ],
   "source": [
    "df = df_raw[df_raw[\"RecoveryDesc\"] == df_raw[\"RecoveryDesc\"]]\n",
    "df = df[(df[\"RecoveryDesc\"].isin([\"At recovery\", \"Not at recovery\"]))]\n",
    "df.reset_index().drop(\"index\", axis=1)\n",
    "print(df.shape)\n",
    "\n",
    "labelList = []\n",
    "for idx, row in df.iterrows():\n",
    "    if (row[\"ReliableChangeDesc\"] == \"Reliable improvement\") & (row[\"ReliableRecoveryDesc\"] == \"Reliable recovery\") & (row[\"RecoveryDesc\"] == \"At recovery\"):\n",
    "        labelList.append(1)\n",
    "    else:\n",
    "        labelList.append(0)\n",
    "df[\"label\"] = labelList\n",
    "labelList = [\"label\"]"
   ]
  },
  {
   "cell_type": "markdown",
   "id": "22004321-6fca-4186-bfc0-6464f81c71f9",
   "metadata": {},
   "source": [
    "# Train Test Split"
   ]
  },
  {
   "cell_type": "code",
   "execution_count": 6,
   "id": "fd5b13c4-5b87-4933-a25b-5d8da5a29c7a",
   "metadata": {},
   "outputs": [],
   "source": [
    "# Keep 10% data as the test data\n",
    "train, test = train_test_split(df, test_size=0.1)"
   ]
  },
  {
   "cell_type": "markdown",
   "id": "6d45954b-a937-496a-81b3-72b10314f71b",
   "metadata": {},
   "source": [
    "## DT training"
   ]
  },
  {
   "cell_type": "code",
   "execution_count": 37,
   "id": "ff3a4a3a-7758-472e-a5b6-f18f7c3909f9",
   "metadata": {},
   "outputs": [],
   "source": [
    "# EndDesc: 0.5964912280701754\n",
    "# param_dict = {\n",
    "#     'criterion': 'gini', \n",
    "#     'max_depth': 8, \n",
    "#     'max_features': 20, \n",
    "#     'max_leaf_nodes': None, \n",
    "#     'min_samples_leaf': 4, \n",
    "#     'min_samples_split': 64, \n",
    "#     'min_weight_fraction_leaf': 0.0\n",
    "# }\n",
    "\n",
    "# Recovery: 0.60\n",
    "param_dict = {\n",
    "    'criterion': 'entropy', \n",
    "    'max_depth': None, \n",
    "    'max_features': 80, \n",
    "    'max_leaf_nodes': None, \n",
    "    'min_samples_leaf': 16, \n",
    "    'min_samples_split': 64, \n",
    "    'min_weight_fraction_leaf': 0.0\n",
    "}\n",
    "clf = tree.DecisionTreeClassifier(**param_dict)"
   ]
  },
  {
   "cell_type": "code",
   "execution_count": 45,
   "id": "ee8a1441-e5a3-4a91-b285-f36cb665b09e",
   "metadata": {},
   "outputs": [
    {
     "name": "stdout",
     "output_type": "stream",
     "text": [
      "[0.47887324 0.52857143 0.51428571 0.6        0.48571429]\n",
      "Accuracy mean: 0.5215, accuracy std: 0.0433\n"
     ]
    }
   ],
   "source": [
    "scores = cross_val_score(clf, train[featureList].values, train[labelList].values, cv=5, scoring=\"accuracy\")\n",
    "print(scores)\n",
    "print(\"Accuracy mean: {:.4f}, accuracy std: {:.4f}\".format(np.mean(scores), np.std(scores)))"
   ]
  },
  {
   "cell_type": "code",
   "execution_count": 98,
   "id": "a55c9e34-0bcf-4219-904a-49f9da4d6af7",
   "metadata": {},
   "outputs": [
    {
     "name": "stdout",
     "output_type": "stream",
     "text": [
      "0.55\n"
     ]
    }
   ],
   "source": [
    "clf = tree.DecisionTreeClassifier(**param_dict)\n",
    "clf = clf.fit(train[featureList].values,train[labelList].values)\n",
    "preds = clf.predict(test[featureList].values)\n",
    "labels = test[labelList].values\n",
    "acc = accuracy_score(labels, preds)\n",
    "print(acc)"
   ]
  },
  {
   "cell_type": "code",
   "execution_count": null,
   "id": "6891bddf-1159-411b-87a4-9afce14fec77",
   "metadata": {},
   "outputs": [],
   "source": []
  },
  {
   "cell_type": "code",
   "execution_count": null,
   "id": "13184995-7cbf-4b94-a4c7-dd195e796a8f",
   "metadata": {},
   "outputs": [],
   "source": []
  },
  {
   "cell_type": "markdown",
   "id": "b44c44f4-12d6-4921-a243-da0de6832fb4",
   "metadata": {},
   "source": [
    "## Grid Search for DT"
   ]
  },
  {
   "cell_type": "code",
   "execution_count": 7,
   "id": "b4598f62-6cc0-4051-b85d-b8492879595d",
   "metadata": {},
   "outputs": [],
   "source": [
    "# Use MyGridSearch to estimate the runtime, then switch to standard Gridsearch to get better performance!"
   ]
  },
  {
   "cell_type": "code",
   "execution_count": 7,
   "id": "b7783ef9-e1e3-4876-af95-3f43e1c705d5",
   "metadata": {},
   "outputs": [],
   "source": [
    "param_dict = {\n",
    "    \"criterion\": [\"gini\",\"entropy\",\"log_loss\"],\n",
    "    \"max_depth\": [None,2,8,16],\n",
    "    \"min_samples_split\": [2,4,16,64],\n",
    "    \"min_samples_leaf\": [1,4,16,64],\n",
    "    \"min_weight_fraction_leaf\": [0.0, 0.2, 0.4, 0.5],\n",
    "    \"max_features\": [None, 20, 40, 80],\n",
    "    \"max_leaf_nodes\": [None, 20, 40, 80],   \n",
    "}"
   ]
  },
  {
   "cell_type": "code",
   "execution_count": 8,
   "id": "127ecdde-b6bc-41e0-9be1-d70c585aa606",
   "metadata": {},
   "outputs": [],
   "source": [
    "def MyGridSearch(param_dict, X, y):\n",
    "    searchSpace = makeGrid(param_dict)\n",
    "    print(\"Search Space Size:\" + len(searchSpace).__str__())\n",
    "    resultList = []\n",
    "    for param in tqdm.tqdm(searchSpace):\n",
    "        #sleep(1)\n",
    "        clf = tree.DecisionTreeClassifier(**param)\n",
    "        scores = cross_val_score(clf, X, y, cv=5, scoring=\"accuracy\", n_jobs=5)\n",
    "        result = {}\n",
    "        result[\"acc_mean\"] = np.mean(scores)\n",
    "        result[\"acc_std\"] = np.std(scores)\n",
    "        result[\"acc\"] = scores\n",
    "        result[\"param\"] = param\n",
    "        resultList.append(result)\n",
    "    sortedResult = sorted(resultList, key=lambda x: x[\"acc_mean\"], reverse=True)\n",
    "    print(sortedResult[:5])\n",
    "    return sortedResult"
   ]
  },
  {
   "cell_type": "code",
   "execution_count": 9,
   "id": "ad790f67-2e2a-4898-94eb-085696e51db8",
   "metadata": {},
   "outputs": [],
   "source": [
    "def StandardGridSearch(param_dict, X, y):\n",
    "    clf = tree.DecisionTreeClassifier()\n",
    "    grid_clf = GridSearchCV(clf, param_dict, n_jobs=5, cv=5, scoring='accuracy')\n",
    "    grid_clf.fit(X,y)\n",
    "    print(\"The best score is {}\".format(grid_clf.best_score_))\n",
    "    print(\"The best params is: {}\".format(grid_clf.best_params_))\n",
    "    return grid_clf"
   ]
  },
  {
   "cell_type": "code",
   "execution_count": 10,
   "id": "2335718e-2082-4faa-9cd5-aa19e2de0cba",
   "metadata": {
    "scrolled": true
   },
   "outputs": [
    {
     "name": "stdout",
     "output_type": "stream",
     "text": [
      "Search Space Size:12288\n"
     ]
    },
    {
     "name": "stderr",
     "output_type": "stream",
     "text": [
      "100%|██████████| 12288/12288 [04:41<00:00, 43.64it/s]"
     ]
    },
    {
     "name": "stdout",
     "output_type": "stream",
     "text": [
      "[{'acc_mean': 0.6097786720321932, 'acc_std': 0.0231636993496265, 'acc': array([0.57746479, 0.6       , 0.62857143, 0.6       , 0.64285714]), 'param': {'criterion': 'log_loss', 'max_depth': 16, 'min_samples_split': 2, 'min_samples_leaf': 16, 'min_weight_fraction_leaf': 0.0, 'max_features': 80, 'max_leaf_nodes': 40}}, {'acc_mean': 0.6096981891348088, 'acc_std': 0.03548565695956081, 'acc': array([0.6056338 , 0.57142857, 0.65714286, 0.64285714, 0.57142857]), 'param': {'criterion': 'log_loss', 'max_depth': 16, 'min_samples_split': 2, 'min_samples_leaf': 1, 'min_weight_fraction_leaf': 0.2, 'max_features': 40, 'max_leaf_nodes': 40}}, {'acc_mean': 0.6068812877263581, 'acc_std': 0.03009495422511941, 'acc': array([0.5915493 , 0.57142857, 0.64285714, 0.64285714, 0.58571429]), 'param': {'criterion': 'entropy', 'max_depth': 8, 'min_samples_split': 4, 'min_samples_leaf': 64, 'min_weight_fraction_leaf': 0.0, 'max_features': 40, 'max_leaf_nodes': None}}, {'acc_mean': 0.6040241448692153, 'acc_std': 0.027069965201371542, 'acc': array([0.5915493 , 0.57142857, 0.62857143, 0.64285714, 0.58571429]), 'param': {'criterion': 'entropy', 'max_depth': 2, 'min_samples_split': 2, 'min_samples_leaf': 16, 'min_weight_fraction_leaf': 0.0, 'max_features': 20, 'max_leaf_nodes': None}}, {'acc_mean': 0.6039839034205231, 'acc_std': 0.029113902478279136, 'acc': array([0.6056338 , 0.62857143, 0.64285714, 0.57142857, 0.57142857]), 'param': {'criterion': 'log_loss', 'max_depth': 8, 'min_samples_split': 64, 'min_samples_leaf': 16, 'min_weight_fraction_leaf': 0.2, 'max_features': 20, 'max_leaf_nodes': 20}}]\n"
     ]
    },
    {
     "name": "stderr",
     "output_type": "stream",
     "text": [
      "\n"
     ]
    }
   ],
   "source": [
    "# Use my search grid\n",
    "results = MyGridSearch(param_dict, train[featureList].values, train[labelList].values)"
   ]
  },
  {
   "cell_type": "code",
   "execution_count": 13,
   "id": "8950ec16-fea7-4e1d-b95b-402ce4a914a8",
   "metadata": {},
   "outputs": [
    {
     "name": "stdout",
     "output_type": "stream",
     "text": [
      "The best score is 0.5984708249496982\n",
      "The best params is: {'criterion': 'entropy', 'max_depth': None, 'max_features': 80, 'max_leaf_nodes': None, 'min_samples_leaf': 16, 'min_samples_split': 64, 'min_weight_fraction_leaf': 0.0}\n"
     ]
    }
   ],
   "source": [
    "# Use standard search grid\n",
    "results = StandardGridSearch(param_dict, train[featureList].values, train[labelList].values)"
   ]
  },
  {
   "cell_type": "code",
   "execution_count": null,
   "id": "8a472b06-6d4b-4cbd-bc0c-c17c5a6d3f66",
   "metadata": {},
   "outputs": [],
   "source": []
  }
 ],
 "metadata": {
  "kernelspec": {
   "display_name": "Python 3 (ipykernel)",
   "language": "python",
   "name": "python3"
  },
  "language_info": {
   "codemirror_mode": {
    "name": "ipython",
    "version": 3
   },
   "file_extension": ".py",
   "mimetype": "text/x-python",
   "name": "python",
   "nbconvert_exporter": "python",
   "pygments_lexer": "ipython3",
   "version": "3.12.2"
  }
 },
 "nbformat": 4,
 "nbformat_minor": 5
}
