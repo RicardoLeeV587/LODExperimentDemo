{
 "cells": [
  {
   "cell_type": "code",
   "execution_count": 1,
   "id": "8f6bf826-aec3-4e8d-968e-2f7706ae350f",
   "metadata": {},
   "outputs": [],
   "source": [
    "import os\n",
    "import pandas as pd\n",
    "from xgboost import XGBClassifier\n",
    "# import lightgbm as lgb\n",
    "from lightgbm import LGBMClassifier\n",
    "from sklearn.model_selection import KFold, StratifiedKFold, train_test_split, GridSearchCV, cross_val_score\n",
    "from sklearn.metrics import accuracy_score\n",
    "# sklearn.metrics.accuracy_score\n",
    "import xgboost as xgb\n",
    "import numpy as np\n",
    "import itertools \n",
    "import tqdm\n",
    "from time import sleep\n",
    "import random"
   ]
  },
  {
   "cell_type": "code",
   "execution_count": 2,
   "id": "e32e4fe0-0144-4b57-8304-e8d965dd52ac",
   "metadata": {},
   "outputs": [],
   "source": [
    "import warnings \n",
    "warnings.filterwarnings(\"ignore\")"
   ]
  },
  {
   "cell_type": "code",
   "execution_count": 3,
   "id": "b6949382-320f-423e-bd91-2885e83e4b63",
   "metadata": {},
   "outputs": [],
   "source": [
    "# mannually generate the search grid\n",
    "def makeGrid(pars_dict):  \n",
    "    keys=pars_dict.keys()\n",
    "    combinations=itertools.product(*pars_dict.values())\n",
    "    ds=[dict(zip(keys,cc)) for cc in combinations]\n",
    "    return ds"
   ]
  },
  {
   "cell_type": "markdown",
   "id": "9e8d7624-a6cd-4a93-a509-30102d9b5527",
   "metadata": {},
   "source": [
    "# Dataset Preparation"
   ]
  },
  {
   "cell_type": "code",
   "execution_count": 4,
   "id": "fb50a050-9588-40b8-9a47-e6ddcb704119",
   "metadata": {},
   "outputs": [],
   "source": [
    "df_raw = pd.read_excel(\"../Dataset/MergedDataset_231207_ForElly_Excel.xlsx\")\n",
    "\n",
    "# Remove \".\" in the feature column\n",
    "row_num, column_num = df_raw.shape\n",
    "for rowID in range(row_num):\n",
    "    for columnID in range(column_num):\n",
    "        if \".\" == df_raw.iloc[rowID, columnID]:\n",
    "            df_raw.iloc[rowID, columnID] = np.nan\n",
    "\n",
    "# prepare the feature list\n",
    "featureList = []\n",
    "for item in df_raw.columns:\n",
    "    if item.startswith(\"Item\"):\n",
    "        featureList.append(item)"
   ]
  },
  {
   "cell_type": "code",
   "execution_count": 5,
   "id": "9d6d4e3c-666a-4b07-91cf-5b84c191357a",
   "metadata": {},
   "outputs": [
    {
     "name": "stdout",
     "output_type": "stream",
     "text": [
      "['Mutually agreed completion of treatment'\n",
      " 'Termition of treatment earlier than Care Professiol planned'\n",
      " 'Not suitable for IAPT service - no action taken or directed back to referrer'\n",
      " 'Referred to another therapy service by mutual agreement']\n",
      "(570, 279)\n",
      "['Mutually agreed completion of treatment', 'Termition of treatment earlier than Care Professiol planned', 'Not suitable for IAPT service - no action taken or directed back to referrer', 'Referred to another therapy service by mutual agreement']\n"
     ]
    }
   ],
   "source": [
    "df = df_raw[df_raw[\"EndDesc\"] == df_raw[\"EndDesc\"]]\n",
    "df.reset_index().drop(\"index\", axis=1)\n",
    "\n",
    "print(df[\"EndDesc\"].unique())\n",
    "print(df.shape)\n",
    "\n",
    "labelRangeList = df[\"EndDesc\"].unique().tolist()\n",
    "print(labelRangeList)\n",
    "# labelContent = []\n",
    "# for idx, row in df.iterrows():\n",
    "#     index = labelRangeList.index(row[\"EndDesc\"])\n",
    "#     label = [0 for i in range(len(labelRangeList))]\n",
    "#     label[index] = 1\n",
    "#     labelContent.append(label)\n",
    "# # df[\"label\"] = labelList\n",
    "\n",
    "# labelContent = np.array(labelContent)\n",
    "\n",
    "# labelList = [\"label_{}\".format(i) for i in range(len(labelRangeList))]\n",
    "# print(labelList)\n",
    "# for idx, item in enumerate(labelList):\n",
    "#     df[item] = labelContent[:, idx]\n",
    "\n",
    "labelList = []\n",
    "for idx, row in df.iterrows():\n",
    "    label = labelRangeList.index(row[\"EndDesc\"])\n",
    "    labelList.append(label)\n",
    "df[\"label\"] = labelList\n",
    "\n",
    "labelList = [\"label\"]"
   ]
  },
  {
   "cell_type": "markdown",
   "id": "194dc97a-c76c-4b3b-836f-b9e923dfd3e7",
   "metadata": {},
   "source": [
    "# Use RecoveryDesc as the label"
   ]
  },
  {
   "cell_type": "code",
   "execution_count": null,
   "id": "f357365a-a4c7-44ce-b4f2-c9c5411f7cbd",
   "metadata": {},
   "outputs": [],
   "source": [
    "df = df_raw[df_raw[\"RecoveryDesc\"] == df_raw[\"RecoveryDesc\"]]\n",
    "df = df[(df[\"RecoveryDesc\"].isin([\"At recovery\", \"Not at recovery\"]))]\n",
    "df.reset_index().drop(\"index\", axis=1)\n",
    "print(df.shape)\n",
    "\n",
    "labelList = []\n",
    "for idx, row in df.iterrows():\n",
    "    if (row[\"ReliableChangeDesc\"] == \"Reliable improvement\") & (row[\"ReliableRecoveryDesc\"] == \"Reliable recovery\") & (row[\"RecoveryDesc\"] == \"At recovery\"):\n",
    "        labelList.append(1)\n",
    "    else:\n",
    "        labelList.append(0)\n",
    "df[\"label\"] = labelList\n",
    "labelList = [\"label\"]"
   ]
  },
  {
   "cell_type": "markdown",
   "id": "c52d3cfb-35c3-4057-9bbb-a5a192a8bb54",
   "metadata": {},
   "source": [
    "## Train Test Split"
   ]
  },
  {
   "cell_type": "code",
   "execution_count": 6,
   "id": "bbbeca31-7566-47c2-b237-82f19acbd00b",
   "metadata": {},
   "outputs": [],
   "source": [
    "# Keep 10% data as the test data\n",
    "train, test = train_test_split(df, test_size=0.1)"
   ]
  },
  {
   "cell_type": "code",
   "execution_count": 7,
   "id": "249e1b81-6379-458c-866a-0b4c546b2601",
   "metadata": {},
   "outputs": [
    {
     "name": "stdout",
     "output_type": "stream",
     "text": [
      "StratifiedKFold(n_splits=5, random_state=None, shuffle=False)\n"
     ]
    }
   ],
   "source": [
    "# KFold Split\n",
    "skf = StratifiedKFold(n_splits=5)\n",
    "print(skf)"
   ]
  },
  {
   "cell_type": "code",
   "execution_count": 8,
   "id": "9cf9adc4-c671-4d73-b32f-091f2417809e",
   "metadata": {
    "scrolled": true
   },
   "outputs": [],
   "source": [
    "FoldList = []\n",
    "for i, (train_index, val_index) in enumerate(skf.split(train[featureList], train[labelList])):\n",
    "    # print(f\"Fold {i}:\")\n",
    "    # print(f\"  Train: index={train_index}\")\n",
    "    # print(f\"  val:  index={val_index}\")\n",
    "    foldTrain = xgb.DMatrix(train.iloc[train_index][featureList].values, train.iloc[train_index][labelList].values.squeeze())\n",
    "    foldVal = xgb.DMatrix(train.iloc[val_index][featureList].values, train.iloc[val_index][labelList].values.squeeze())\n",
    "    dic = {}\n",
    "    dic[\"train\"] = foldTrain\n",
    "    dic[\"val\"] = foldVal\n",
    "    FoldList.append(dic)"
   ]
  },
  {
   "cell_type": "code",
   "execution_count": 9,
   "id": "1d62f559-212b-4fcc-8af1-4d0f5552947c",
   "metadata": {},
   "outputs": [],
   "source": [
    "xgtrain = xgb.DMatrix(train[featureList].values, train[labelList].values.squeeze())\n",
    "xgtest = xgb.DMatrix(test[featureList].values, test[labelList].values.squeeze())"
   ]
  },
  {
   "cell_type": "code",
   "execution_count": null,
   "id": "7c81be1d-7134-43ed-a45a-3c76bf57295d",
   "metadata": {},
   "outputs": [],
   "source": []
  },
  {
   "cell_type": "markdown",
   "id": "9bcf7407-6e8d-463e-b1b9-24962b92d5c8",
   "metadata": {},
   "source": [
    "## XGboost single train"
   ]
  },
  {
   "cell_type": "code",
   "execution_count": 9,
   "id": "1047b7c7-3029-43dd-b5bd-893cb3ec3e34",
   "metadata": {},
   "outputs": [],
   "source": [
    "# # DT 0.55\n",
    "# param_dict = {\n",
    "#     'max_depth': 4, \n",
    "#     'learning_rate': 0.1, \n",
    "#     'objective': 'multi:softmax', \n",
    "#     'num_class': 4, \n",
    "#     'booster': 'gbtree', \n",
    "#     'n_jobs': 5, \n",
    "#     'subsample': 1.0, \n",
    "#     'colsample_bytree': 1.0, \n",
    "#     'colsample_bylevel': 0.1, \n",
    "#     'colsample_bynode': 0.7, \n",
    "#     'num_parallel_tree': 1,\n",
    "# }\n",
    "\n",
    "# Random Forest 0.6316\n",
    "param_dict = {\n",
    "    'max_depth': 10, \n",
    "    'learning_rate': 0.1, \n",
    "    'objective': 'multi:softmax', \n",
    "    'num_class': 4, \n",
    "    'booster': 'gbtree', \n",
    "    'n_jobs': 5, \n",
    "    'subsample': 1.0, \n",
    "    'colsample_bytree': 1.0, \n",
    "    'colsample_bylevel': 0.1, \n",
    "    'colsample_bynode': 1.0, \n",
    "    'num_parallel_tree': 8\n",
    "}"
   ]
  },
  {
   "cell_type": "code",
   "execution_count": 10,
   "id": "ac2ec65f-a1ec-467e-bb81-adb5f26002cf",
   "metadata": {},
   "outputs": [
    {
     "name": "stdout",
     "output_type": "stream",
     "text": [
      "[0.5631067961165048, 0.5533980582524272, 0.6116504854368932, 0.5686274509803921, 0.6078431372549019]\n",
      "Accuracy Mean: 0.5809251856082238, accuracy std: 0.02406280196457573\n"
     ]
    }
   ],
   "source": [
    "# CV\n",
    "scores = []\n",
    "for fold in FoldList:\n",
    "    bst = xgb.train(param_dict, fold[\"train\"], num_boost_round=1)\n",
    "    preds = bst.predict(fold[\"val\"])\n",
    "    labels = fold[\"val\"].get_label()\n",
    "    acc = accuracy_score(labels, preds)\n",
    "    scores.append(acc)\n",
    "print(scores)\n",
    "print(\"Accuracy Mean: {}, accuracy std: {}\".format(np.mean(scores), np.std(scores)))"
   ]
  },
  {
   "cell_type": "code",
   "execution_count": 11,
   "id": "80f29b9c-99f3-4b5d-a767-f24b7d64f239",
   "metadata": {},
   "outputs": [
    {
     "name": "stdout",
     "output_type": "stream",
     "text": [
      "Test Accuracy: 0.6316\n"
     ]
    }
   ],
   "source": [
    "# watchlist  = [(xgtest,'eval'), (xgtrain,'train')]\n",
    "bst = xgb.train(param_dict, xgtrain, num_boost_round=1)\n",
    "preds = bst.predict(xgtest)\n",
    "labels = xgtest.get_label()\n",
    "acc = accuracy_score(labels, preds)\n",
    "print(\"Test Accuracy: {:.4f}\".format(acc))"
   ]
  },
  {
   "cell_type": "code",
   "execution_count": null,
   "id": "e5e33a54-3272-4918-86db-5e0623280fc7",
   "metadata": {},
   "outputs": [],
   "source": []
  },
  {
   "cell_type": "markdown",
   "id": "52b4c3c0-d70d-4268-8a54-e8da9dbe82c9",
   "metadata": {},
   "source": [
    "# Grid Search for Single Tree Xgboost(Theoritically it is equal to DT)"
   ]
  },
  {
   "cell_type": "code",
   "execution_count": 9,
   "id": "d3886cce-c292-4d00-997a-1aa9c7850774",
   "metadata": {},
   "outputs": [],
   "source": [
    "param_dict = {\n",
    "    # \"n_estimators\": [1],\n",
    "    \"max_depth\": [4,5,6,7,8,10,12,16,24,32],\n",
    "    \"learning_rate\": [0.1, 0.15, 0.2, 0.5, 0.7, 0.9, 1],\n",
    "    \"objective\": [\"multi:softmax\"],\n",
    "    'num_class': [4],\n",
    "    \"booster\": [\"gbtree\"],\n",
    "    \"n_jobs\": [5],\n",
    "    \"subsample\": [1.0],\n",
    "    'colsample_bytree': [1.0],\n",
    "    'colsample_bylevel': [0.1, 0.3, 0.5, 0.7, 0.9, 1.0],\n",
    "    'colsample_bynode': [0.1, 0.3, 0.5, 0.7, 0.9, 1.0], \n",
    "    'num_parallel_tree': [1],\n",
    "}"
   ]
  },
  {
   "cell_type": "code",
   "execution_count": 9,
   "id": "54675cce-002b-4e42-b8fb-d0d3d54abd51",
   "metadata": {},
   "outputs": [],
   "source": [
    "def MyGridSearch(param_dict, FoldList):\n",
    "    searchSpace = makeGrid(param_dict)\n",
    "    print(\"Search Space Size:\" + len(searchSpace).__str__())\n",
    "    resultList = []\n",
    "    for param in tqdm.tqdm(searchSpace):\n",
    "        #sleep(1)\n",
    "        scores = []\n",
    "        for fold in FoldList:\n",
    "            bst = xgb.train(param, fold[\"train\"], num_boost_round=1)\n",
    "            preds = bst.predict(fold[\"val\"])\n",
    "            labels = fold[\"val\"].get_label()\n",
    "            acc = accuracy_score(labels, preds)\n",
    "            scores.append(acc)\n",
    "        result = {}\n",
    "        result[\"acc_mean\"] = np.mean(scores)\n",
    "        result[\"acc_std\"] = np.std(scores)\n",
    "        result[\"acc\"] = scores\n",
    "        result[\"param\"] = param\n",
    "        resultList.append(result)\n",
    "    sortedResult = sorted(resultList, key=lambda x: x[\"acc_mean\"], reverse=True)\n",
    "    print(sortedResult[:5])\n",
    "    return sortedResult"
   ]
  },
  {
   "cell_type": "code",
   "execution_count": 11,
   "id": "e9271ead-9954-4883-afe3-f16a45d3f2bc",
   "metadata": {
    "scrolled": true
   },
   "outputs": [
    {
     "name": "stdout",
     "output_type": "stream",
     "text": [
      "Search Space Size:2520\n"
     ]
    },
    {
     "name": "stderr",
     "output_type": "stream",
     "text": [
      "100%|██████████| 2520/2520 [01:49<00:00, 22.98it/s]"
     ]
    },
    {
     "name": "stdout",
     "output_type": "stream",
     "text": [
      "[{'acc_mean': 0.6161050828098229, 'acc_std': 0.0302653887786102, 'acc': [0.6213592233009708, 0.5922330097087378, 0.5728155339805825, 0.6372549019607843, 0.6568627450980392], 'param': {'max_depth': 4, 'learning_rate': 0.1, 'objective': 'multi:softmax', 'num_class': 4, 'booster': 'gbtree', 'n_jobs': 5, 'subsample': 1.0, 'colsample_bytree': 1.0, 'colsample_bylevel': 0.1, 'colsample_bynode': 0.7, 'num_parallel_tree': 1}}, {'acc_mean': 0.6161050828098229, 'acc_std': 0.0302653887786102, 'acc': [0.6213592233009708, 0.5922330097087378, 0.5728155339805825, 0.6372549019607843, 0.6568627450980392], 'param': {'max_depth': 4, 'learning_rate': 0.15, 'objective': 'multi:softmax', 'num_class': 4, 'booster': 'gbtree', 'n_jobs': 5, 'subsample': 1.0, 'colsample_bytree': 1.0, 'colsample_bylevel': 0.1, 'colsample_bynode': 0.7, 'num_parallel_tree': 1}}, {'acc_mean': 0.6161050828098229, 'acc_std': 0.0302653887786102, 'acc': [0.6213592233009708, 0.5922330097087378, 0.5728155339805825, 0.6372549019607843, 0.6568627450980392], 'param': {'max_depth': 4, 'learning_rate': 0.2, 'objective': 'multi:softmax', 'num_class': 4, 'booster': 'gbtree', 'n_jobs': 5, 'subsample': 1.0, 'colsample_bytree': 1.0, 'colsample_bylevel': 0.1, 'colsample_bynode': 0.7, 'num_parallel_tree': 1}}, {'acc_mean': 0.6161050828098229, 'acc_std': 0.0302653887786102, 'acc': [0.6213592233009708, 0.5922330097087378, 0.5728155339805825, 0.6372549019607843, 0.6568627450980392], 'param': {'max_depth': 4, 'learning_rate': 0.5, 'objective': 'multi:softmax', 'num_class': 4, 'booster': 'gbtree', 'n_jobs': 5, 'subsample': 1.0, 'colsample_bytree': 1.0, 'colsample_bylevel': 0.1, 'colsample_bynode': 0.7, 'num_parallel_tree': 1}}, {'acc_mean': 0.6161050828098229, 'acc_std': 0.0302653887786102, 'acc': [0.6213592233009708, 0.5922330097087378, 0.5728155339805825, 0.6372549019607843, 0.6568627450980392], 'param': {'max_depth': 4, 'learning_rate': 0.7, 'objective': 'multi:softmax', 'num_class': 4, 'booster': 'gbtree', 'n_jobs': 5, 'subsample': 1.0, 'colsample_bytree': 1.0, 'colsample_bylevel': 0.1, 'colsample_bynode': 0.7, 'num_parallel_tree': 1}}]\n"
     ]
    },
    {
     "name": "stderr",
     "output_type": "stream",
     "text": [
      "\n"
     ]
    }
   ],
   "source": [
    "results = MyGridSearch(param_dict, FoldList)"
   ]
  },
  {
   "cell_type": "code",
   "execution_count": null,
   "id": "976b6bfe-ca75-4efb-8210-b2f154494b85",
   "metadata": {},
   "outputs": [],
   "source": []
  },
  {
   "cell_type": "markdown",
   "id": "c12e1973-03a0-45e1-a82a-ade44c08d28f",
   "metadata": {},
   "source": [
    "# Grid Search for multi Tree Xgboost(Theoritically it is equal to Randomforest)"
   ]
  },
  {
   "cell_type": "code",
   "execution_count": 10,
   "id": "2c5d46a4-d0b2-4e50-a6a7-87911f8cf814",
   "metadata": {},
   "outputs": [],
   "source": [
    "param_dict = {\n",
    "    # \"n_estimators\": [1],\n",
    "    \"max_depth\": [4,6,8,10,16,32],\n",
    "    \"learning_rate\": [0.1, 0.15, 0.2, 0.5, 0.7, 0.9, 1],\n",
    "    \"objective\": [\"multi:softmax\"],\n",
    "    'num_class': [4],\n",
    "    \"booster\": [\"gbtree\"],\n",
    "    \"n_jobs\": [5],\n",
    "    \"subsample\": [1.0],\n",
    "    'colsample_bytree': [1.0],\n",
    "    'colsample_bylevel': [0.1, 0.3, 0.5, 0.7, 0.9, 1.0],\n",
    "    'colsample_bynode': [0.1, 0.3, 0.5, 0.7, 0.9, 1.0], \n",
    "    'num_parallel_tree': [4, 8, 16, 64],\n",
    "}"
   ]
  },
  {
   "cell_type": "code",
   "execution_count": 11,
   "id": "d4a235b8-73c0-4909-893d-943c5c615d9c",
   "metadata": {},
   "outputs": [
    {
     "name": "stdout",
     "output_type": "stream",
     "text": [
      "Search Space Size:6048\n"
     ]
    },
    {
     "name": "stderr",
     "output_type": "stream",
     "text": [
      "100%|██████████| 6048/6048 [1:11:29<00:00,  1.41it/s]"
     ]
    },
    {
     "name": "stdout",
     "output_type": "stream",
     "text": [
      "[{'acc_mean': 0.6297353893013515, 'acc_std': 0.054568743935994236, 'acc': [0.6116504854368932, 0.6504854368932039, 0.5728155339805825, 0.7254901960784313, 0.5882352941176471], 'param': {'max_depth': 10, 'learning_rate': 0.1, 'objective': 'multi:softmax', 'num_class': 4, 'booster': 'gbtree', 'n_jobs': 5, 'subsample': 1.0, 'colsample_bytree': 1.0, 'colsample_bylevel': 0.1, 'colsample_bynode': 1.0, 'num_parallel_tree': 8}}, {'acc_mean': 0.6297353893013515, 'acc_std': 0.054568743935994236, 'acc': [0.6116504854368932, 0.6504854368932039, 0.5728155339805825, 0.7254901960784313, 0.5882352941176471], 'param': {'max_depth': 10, 'learning_rate': 0.15, 'objective': 'multi:softmax', 'num_class': 4, 'booster': 'gbtree', 'n_jobs': 5, 'subsample': 1.0, 'colsample_bytree': 1.0, 'colsample_bylevel': 0.1, 'colsample_bynode': 1.0, 'num_parallel_tree': 8}}, {'acc_mean': 0.6297353893013515, 'acc_std': 0.054568743935994236, 'acc': [0.6116504854368932, 0.6504854368932039, 0.5728155339805825, 0.7254901960784313, 0.5882352941176471], 'param': {'max_depth': 10, 'learning_rate': 0.2, 'objective': 'multi:softmax', 'num_class': 4, 'booster': 'gbtree', 'n_jobs': 5, 'subsample': 1.0, 'colsample_bytree': 1.0, 'colsample_bylevel': 0.1, 'colsample_bynode': 1.0, 'num_parallel_tree': 8}}, {'acc_mean': 0.6297353893013515, 'acc_std': 0.054568743935994236, 'acc': [0.6116504854368932, 0.6504854368932039, 0.5728155339805825, 0.7254901960784313, 0.5882352941176471], 'param': {'max_depth': 10, 'learning_rate': 0.5, 'objective': 'multi:softmax', 'num_class': 4, 'booster': 'gbtree', 'n_jobs': 5, 'subsample': 1.0, 'colsample_bytree': 1.0, 'colsample_bylevel': 0.1, 'colsample_bynode': 1.0, 'num_parallel_tree': 8}}, {'acc_mean': 0.6297353893013515, 'acc_std': 0.054568743935994236, 'acc': [0.6116504854368932, 0.6504854368932039, 0.5728155339805825, 0.7254901960784313, 0.5882352941176471], 'param': {'max_depth': 10, 'learning_rate': 0.7, 'objective': 'multi:softmax', 'num_class': 4, 'booster': 'gbtree', 'n_jobs': 5, 'subsample': 1.0, 'colsample_bytree': 1.0, 'colsample_bylevel': 0.1, 'colsample_bynode': 1.0, 'num_parallel_tree': 8}}]\n"
     ]
    },
    {
     "name": "stderr",
     "output_type": "stream",
     "text": [
      "\n"
     ]
    }
   ],
   "source": [
    "results = MyGridSearch(param_dict, FoldList)"
   ]
  },
  {
   "cell_type": "markdown",
   "id": "8c40b04e-7a0c-42b4-aa7e-8c8e70c7d486",
   "metadata": {},
   "source": [
    "## Grid Search for multi Full Xgboost"
   ]
  },
  {
   "cell_type": "code",
   "execution_count": 10,
   "id": "4f532d55-6fdf-4a62-a735-479da6245c8a",
   "metadata": {},
   "outputs": [],
   "source": [
    "param_dict = {\n",
    "    \"n_estimators\": [10, 50, 100, 150],\n",
    "    \"max_depth\": [4,8,10,16],\n",
    "    \"learning_rate\": [0.05, 0.1, 0.2, 0.3],\n",
    "    \"objective\": [\"multi:softmax\"],\n",
    "    'num_class': [4],\n",
    "    \"booster\": [\"gbtree\"],\n",
    "    \"n_jobs\": [5],\n",
    "    \"subsample\": [0.5, 1.0],\n",
    "    'colsample_bytree': [0.3, 0.5, 0.7, 1.0],\n",
    "    'colsample_bylevel': [0.3, 0.5, 0.7, 1.0],\n",
    "    'colsample_bynode': [0.3, 0.5, 0.7, 1.0], \n",
    "    'num_parallel_tree': [4, 8, 16],\n",
    "}"
   ]
  },
  {
   "cell_type": "code",
   "execution_count": 11,
   "id": "84b2b32d-3ea9-4fc1-80d5-e34beae44589",
   "metadata": {},
   "outputs": [],
   "source": [
    "def MyGridSearch(param_dict, FoldList):\n",
    "    searchSpace = makeGrid(param_dict)\n",
    "    print(\"Search Space Size:\" + len(searchSpace).__str__())\n",
    "    resultList = []\n",
    "    for param in tqdm.tqdm(searchSpace):\n",
    "        #sleep(1)\n",
    "        scores = []\n",
    "        for fold in FoldList:\n",
    "            bst = xgb.train(param, fold[\"train\"], num_boost_round=param[\"n_estimators\"])\n",
    "            preds = bst.predict(fold[\"val\"])\n",
    "            labels = fold[\"val\"].get_label()\n",
    "            acc = accuracy_score(labels, preds)\n",
    "            scores.append(acc)\n",
    "        result = {}\n",
    "        result[\"acc_mean\"] = np.mean(scores)\n",
    "        result[\"acc_std\"] = np.std(scores)\n",
    "        result[\"acc\"] = scores\n",
    "        result[\"param\"] = param\n",
    "        resultList.append(result)\n",
    "    sortedResult = sorted(resultList, key=lambda x: x[\"acc_mean\"], reverse=True)\n",
    "    print(sortedResult[:5])\n",
    "    return sortedResult"
   ]
  },
  {
   "cell_type": "code",
   "execution_count": 12,
   "id": "a7c5129c-4102-4c53-933a-04947155c567",
   "metadata": {},
   "outputs": [
    {
     "name": "stdout",
     "output_type": "stream",
     "text": [
      "Search Space Size:24576\n"
     ]
    },
    {
     "name": "stderr",
     "output_type": "stream",
     "text": [
      "100%|██████████| 24576/24576 [32:14:31<00:00,  4.72s/it]   "
     ]
    },
    {
     "name": "stdout",
     "output_type": "stream",
     "text": [
      "[{'acc_mean': 0.6179516466780888, 'acc_std': 0.02393823050191032, 'acc': [0.6019417475728155, 0.6310679611650486, 0.6116504854368932, 0.6568627450980392, 0.5882352941176471], 'param': {'n_estimators': 10, 'max_depth': 10, 'learning_rate': 0.05, 'objective': 'multi:softmax', 'num_class': 4, 'booster': 'gbtree', 'n_jobs': 5, 'subsample': 0.5, 'colsample_bytree': 0.3, 'colsample_bylevel': 1.0, 'colsample_bynode': 1.0, 'num_parallel_tree': 4}}, {'acc_mean': 0.6179516466780888, 'acc_std': 0.02393823050191032, 'acc': [0.6019417475728155, 0.6310679611650486, 0.6116504854368932, 0.6568627450980392, 0.5882352941176471], 'param': {'n_estimators': 10, 'max_depth': 16, 'learning_rate': 0.05, 'objective': 'multi:softmax', 'num_class': 4, 'booster': 'gbtree', 'n_jobs': 5, 'subsample': 0.5, 'colsample_bytree': 0.3, 'colsample_bylevel': 1.0, 'colsample_bynode': 1.0, 'num_parallel_tree': 4}}, {'acc_mean': 0.6179326099371788, 'acc_std': 0.026517503611837186, 'acc': [0.6019417475728155, 0.6310679611650486, 0.6213592233009708, 0.6568627450980392, 0.5784313725490197], 'param': {'n_estimators': 10, 'max_depth': 8, 'learning_rate': 0.2, 'objective': 'multi:softmax', 'num_class': 4, 'booster': 'gbtree', 'n_jobs': 5, 'subsample': 0.5, 'colsample_bytree': 0.3, 'colsample_bylevel': 0.7, 'colsample_bynode': 0.3, 'num_parallel_tree': 4}}, {'acc_mean': 0.6179326099371788, 'acc_std': 0.026517503611837186, 'acc': [0.6019417475728155, 0.6310679611650486, 0.6213592233009708, 0.6568627450980392, 0.5784313725490197], 'param': {'n_estimators': 10, 'max_depth': 16, 'learning_rate': 0.1, 'objective': 'multi:softmax', 'num_class': 4, 'booster': 'gbtree', 'n_jobs': 5, 'subsample': 0.5, 'colsample_bytree': 0.3, 'colsample_bylevel': 1.0, 'colsample_bynode': 1.0, 'num_parallel_tree': 4}}, {'acc_mean': 0.6179326099371788, 'acc_std': 0.027903148039862796, 'acc': [0.6019417475728155, 0.6407766990291263, 0.6116504854368932, 0.6568627450980392, 0.5784313725490197], 'param': {'n_estimators': 10, 'max_depth': 16, 'learning_rate': 0.2, 'objective': 'multi:softmax', 'num_class': 4, 'booster': 'gbtree', 'n_jobs': 5, 'subsample': 0.5, 'colsample_bytree': 0.3, 'colsample_bylevel': 1.0, 'colsample_bynode': 0.5, 'num_parallel_tree': 4}}]\n"
     ]
    },
    {
     "name": "stderr",
     "output_type": "stream",
     "text": [
      "\n"
     ]
    }
   ],
   "source": [
    "results = MyGridSearch(param_dict, FoldList)"
   ]
  },
  {
   "cell_type": "code",
   "execution_count": null,
   "id": "a25a5fd6-2564-4440-b8c7-2e28d5d7d303",
   "metadata": {},
   "outputs": [],
   "source": []
  },
  {
   "cell_type": "code",
   "execution_count": null,
   "id": "3bdefb9e-d1a4-40b8-bb6d-c3066edc7cdd",
   "metadata": {},
   "outputs": [],
   "source": []
  },
  {
   "cell_type": "code",
   "execution_count": null,
   "id": "b63417f7-c1a1-430f-aeb9-608ffdb0b1a9",
   "metadata": {},
   "outputs": [],
   "source": []
  },
  {
   "cell_type": "code",
   "execution_count": null,
   "id": "b193c06b-75f4-49a8-b09f-9d6bdb338c56",
   "metadata": {},
   "outputs": [],
   "source": []
  },
  {
   "cell_type": "code",
   "execution_count": null,
   "id": "a72deb6c-2521-46b9-9fce-3d2d1373c39f",
   "metadata": {},
   "outputs": [],
   "source": []
  },
  {
   "cell_type": "code",
   "execution_count": null,
   "id": "9c7f916f-cfc9-48d5-9a8c-dce6402a6180",
   "metadata": {},
   "outputs": [],
   "source": []
  },
  {
   "cell_type": "code",
   "execution_count": null,
   "id": "e3722f03-b134-4c2d-8951-3531e06a223e",
   "metadata": {},
   "outputs": [],
   "source": []
  },
  {
   "cell_type": "code",
   "execution_count": null,
   "id": "198a1293-af56-4856-8b56-dc9b25069f36",
   "metadata": {},
   "outputs": [],
   "source": []
  },
  {
   "cell_type": "code",
   "execution_count": null,
   "id": "4f0a8307-1d39-401f-a567-a4c2c66dc541",
   "metadata": {},
   "outputs": [],
   "source": []
  },
  {
   "cell_type": "code",
   "execution_count": null,
   "id": "2186e6ea-679d-4604-9719-4302944f4fbd",
   "metadata": {},
   "outputs": [],
   "source": []
  },
  {
   "cell_type": "code",
   "execution_count": null,
   "id": "aa7904af-cc89-4ea0-9edf-13369384ef93",
   "metadata": {},
   "outputs": [],
   "source": []
  },
  {
   "cell_type": "code",
   "execution_count": null,
   "id": "3f8610a5-45d8-49eb-ae3d-c6d1e6d86cf0",
   "metadata": {},
   "outputs": [],
   "source": []
  },
  {
   "cell_type": "code",
   "execution_count": null,
   "id": "e55d8b4d-85d7-44cd-89f2-d5e4776bf2ff",
   "metadata": {},
   "outputs": [],
   "source": []
  },
  {
   "cell_type": "code",
   "execution_count": 7,
   "id": "7cec1929-3a48-477b-8f3c-096a60f0f2eb",
   "metadata": {},
   "outputs": [],
   "source": [
    "param_dict = {\n",
    "    'learning_rate': 0.1, \n",
    "    'max_depth': 5, \n",
    "    'colsample_bytree': 0.6, \n",
    "    'colsample_bylevel': 0.1, \n",
    "    'colsample_bynode': 1.0, \n",
    "    'num_parallel_tree': 1, \n",
    "    'objective': 'multi:softmax', \n",
    "    'num_class': 4\n",
    "}\n",
    "clf = xgb.XGBClassifier(**param_dict)"
   ]
  },
  {
   "cell_type": "code",
   "execution_count": 8,
   "id": "c54adbf7-b5f0-48e2-8669-e3a62fba9fdb",
   "metadata": {},
   "outputs": [
    {
     "name": "stderr",
     "output_type": "stream",
     "text": [
      "/data/project/anaconda3_test/lib/python3.12/site-packages/sklearn/model_selection/_split.py:776: UserWarning: The least populated class in y has only 3 members, which is less than n_splits=5.\n",
      "  warnings.warn(\n"
     ]
    },
    {
     "name": "stdout",
     "output_type": "stream",
     "text": [
      "[0.54368932 0.59223301 0.58252427 0.60784314 0.60784314]\n",
      "Accuracy mean: 0.5868, accuracy std: 0.0236\n"
     ]
    }
   ],
   "source": [
    "scores = cross_val_score(clf, train[featureList].values, train[labelList].values.squeeze(), cv=5, scoring=\"accuracy\")\n",
    "print(scores)\n",
    "print(\"Accuracy mean: {:.4f}, accuracy std: {:.4f}\".format(np.mean(scores), np.std(scores)))"
   ]
  },
  {
   "cell_type": "code",
   "execution_count": 17,
   "id": "e6cf37f3-06f5-4a61-87c5-3e8129cd7511",
   "metadata": {},
   "outputs": [
    {
     "name": "stdout",
     "output_type": "stream",
     "text": [
      "0.5964912280701754\n"
     ]
    }
   ],
   "source": [
    "clf = xgb.XGBClassifier(**param_dict)\n",
    "clf = clf.fit(train[featureList].values,train[labelList].values.squeeze())\n",
    "preds = clf.predict(test[featureList].values)\n",
    "labels = test[labelList].values\n",
    "acc = accuracy_score(labels, preds)\n",
    "print(acc)"
   ]
  },
  {
   "cell_type": "code",
   "execution_count": 24,
   "id": "88c2bf4c-6b39-4faf-b9f3-0267faf51c37",
   "metadata": {},
   "outputs": [
    {
     "name": "stdout",
     "output_type": "stream",
     "text": [
      "Test Accuracy: 0.5614\n"
     ]
    }
   ],
   "source": [
    "watchlist  = [(xgtest,'eval'), (xgtrain,'train')]\n",
    "bst = xgb.train(param_dict, xgtrain, num_boost_round=1, evals=watchlist, verbose_eval=False)\n",
    "preds = bst.predict(xgtest)\n",
    "labels = xgtest.get_label()\n",
    "acc = accuracy_score(labels, preds)\n",
    "print(\"Test Accuracy: {:.4f}\".format(acc))"
   ]
  },
  {
   "cell_type": "code",
   "execution_count": 32,
   "id": "6ecbd7c2-0986-44bc-9844-09823e8bc6ac",
   "metadata": {},
   "outputs": [],
   "source": [
    "from xgboost import cv"
   ]
  },
  {
   "cell_type": "code",
   "execution_count": 46,
   "id": "5f4fec53-617f-43fa-adfa-591abaa482e7",
   "metadata": {},
   "outputs": [],
   "source": [
    "xgb_cv = cv(\n",
    "    dtrain=xgtrain, \n",
    "    params=param_dict, \n",
    "    nfold=10,\n",
    "    num_boost_round=1, \n",
    "    metrics=\"merror\", \n",
    "    as_pandas=True, \n",
    ")"
   ]
  },
  {
   "cell_type": "code",
   "execution_count": null,
   "id": "a8dbda86-1a5f-4a3c-82a7-fa657ff6e6c4",
   "metadata": {},
   "outputs": [],
   "source": []
  },
  {
   "cell_type": "code",
   "execution_count": 47,
   "id": "32090166-d46b-4f5f-b782-8060f81651b7",
   "metadata": {},
   "outputs": [
    {
     "data": {
      "text/html": [
       "<div>\n",
       "<style scoped>\n",
       "    .dataframe tbody tr th:only-of-type {\n",
       "        vertical-align: middle;\n",
       "    }\n",
       "\n",
       "    .dataframe tbody tr th {\n",
       "        vertical-align: top;\n",
       "    }\n",
       "\n",
       "    .dataframe thead th {\n",
       "        text-align: right;\n",
       "    }\n",
       "</style>\n",
       "<table border=\"1\" class=\"dataframe\">\n",
       "  <thead>\n",
       "    <tr style=\"text-align: right;\">\n",
       "      <th></th>\n",
       "      <th>train-merror-mean</th>\n",
       "      <th>train-merror-std</th>\n",
       "      <th>test-merror-mean</th>\n",
       "      <th>test-merror-std</th>\n",
       "    </tr>\n",
       "  </thead>\n",
       "  <tbody>\n",
       "    <tr>\n",
       "      <th>0</th>\n",
       "      <td>0.340916</td>\n",
       "      <td>0.010395</td>\n",
       "      <td>0.413462</td>\n",
       "      <td>0.074677</td>\n",
       "    </tr>\n",
       "  </tbody>\n",
       "</table>\n",
       "</div>"
      ],
      "text/plain": [
       "   train-merror-mean  train-merror-std  test-merror-mean  test-merror-std\n",
       "0           0.340916          0.010395          0.413462         0.074677"
      ]
     },
     "execution_count": 47,
     "metadata": {},
     "output_type": "execute_result"
    }
   ],
   "source": [
    "xgb_cv"
   ]
  },
  {
   "cell_type": "code",
   "execution_count": 26,
   "id": "71b7328d-ad8e-4010-8bd2-73c8db7059ea",
   "metadata": {},
   "outputs": [
    {
     "name": "stdout",
     "output_type": "stream",
     "text": [
      "KFold(n_splits=5, random_state=None, shuffle=False)\n"
     ]
    }
   ],
   "source": [
    "kf = KFold(n_splits=5)\n",
    "\n",
    "print(kf)\n"
   ]
  },
  {
   "cell_type": "code",
   "execution_count": 27,
   "id": "47876472-636a-4266-94d4-b4bc715106f1",
   "metadata": {
    "scrolled": true
   },
   "outputs": [
    {
     "name": "stdout",
     "output_type": "stream",
     "text": [
      "Fold 0:\n",
      "  Train: index=[103 104 105 106 107 108 109 110 111 112 113 114 115 116 117 118 119 120\n",
      " 121 122 123 124 125 126 127 128 129 130 131 132 133 134 135 136 137 138\n",
      " 139 140 141 142 143 144 145 146 147 148 149 150 151 152 153 154 155 156\n",
      " 157 158 159 160 161 162 163 164 165 166 167 168 169 170 171 172 173 174\n",
      " 175 176 177 178 179 180 181 182 183 184 185 186 187 188 189 190 191 192\n",
      " 193 194 195 196 197 198 199 200 201 202 203 204 205 206 207 208 209 210\n",
      " 211 212 213 214 215 216 217 218 219 220 221 222 223 224 225 226 227 228\n",
      " 229 230 231 232 233 234 235 236 237 238 239 240 241 242 243 244 245 246\n",
      " 247 248 249 250 251 252 253 254 255 256 257 258 259 260 261 262 263 264\n",
      " 265 266 267 268 269 270 271 272 273 274 275 276 277 278 279 280 281 282\n",
      " 283 284 285 286 287 288 289 290 291 292 293 294 295 296 297 298 299 300\n",
      " 301 302 303 304 305 306 307 308 309 310 311 312 313 314 315 316 317 318\n",
      " 319 320 321 322 323 324 325 326 327 328 329 330 331 332 333 334 335 336\n",
      " 337 338 339 340 341 342 343 344 345 346 347 348 349 350 351 352 353 354\n",
      " 355 356 357 358 359 360 361 362 363 364 365 366 367 368 369 370 371 372\n",
      " 373 374 375 376 377 378 379 380 381 382 383 384 385 386 387 388 389 390\n",
      " 391 392 393 394 395 396 397 398 399 400 401 402 403 404 405 406 407 408\n",
      " 409 410 411 412 413 414 415 416 417 418 419 420 421 422 423 424 425 426\n",
      " 427 428 429 430 431 432 433 434 435 436 437 438 439 440 441 442 443 444\n",
      " 445 446 447 448 449 450 451 452 453 454 455 456 457 458 459 460 461 462\n",
      " 463 464 465 466 467 468 469 470 471 472 473 474 475 476 477 478 479 480\n",
      " 481 482 483 484 485 486 487 488 489 490 491 492 493 494 495 496 497 498\n",
      " 499 500 501 502 503 504 505 506 507 508 509 510 511 512]\n",
      "  Test:  index=[  0   1   2   3   4   5   6   7   8   9  10  11  12  13  14  15  16  17\n",
      "  18  19  20  21  22  23  24  25  26  27  28  29  30  31  32  33  34  35\n",
      "  36  37  38  39  40  41  42  43  44  45  46  47  48  49  50  51  52  53\n",
      "  54  55  56  57  58  59  60  61  62  63  64  65  66  67  68  69  70  71\n",
      "  72  73  74  75  76  77  78  79  80  81  82  83  84  85  86  87  88  89\n",
      "  90  91  92  93  94  95  96  97  98  99 100 101 102]\n",
      "Fold 1:\n",
      "  Train: index=[  0   1   2   3   4   5   6   7   8   9  10  11  12  13  14  15  16  17\n",
      "  18  19  20  21  22  23  24  25  26  27  28  29  30  31  32  33  34  35\n",
      "  36  37  38  39  40  41  42  43  44  45  46  47  48  49  50  51  52  53\n",
      "  54  55  56  57  58  59  60  61  62  63  64  65  66  67  68  69  70  71\n",
      "  72  73  74  75  76  77  78  79  80  81  82  83  84  85  86  87  88  89\n",
      "  90  91  92  93  94  95  96  97  98  99 100 101 102 206 207 208 209 210\n",
      " 211 212 213 214 215 216 217 218 219 220 221 222 223 224 225 226 227 228\n",
      " 229 230 231 232 233 234 235 236 237 238 239 240 241 242 243 244 245 246\n",
      " 247 248 249 250 251 252 253 254 255 256 257 258 259 260 261 262 263 264\n",
      " 265 266 267 268 269 270 271 272 273 274 275 276 277 278 279 280 281 282\n",
      " 283 284 285 286 287 288 289 290 291 292 293 294 295 296 297 298 299 300\n",
      " 301 302 303 304 305 306 307 308 309 310 311 312 313 314 315 316 317 318\n",
      " 319 320 321 322 323 324 325 326 327 328 329 330 331 332 333 334 335 336\n",
      " 337 338 339 340 341 342 343 344 345 346 347 348 349 350 351 352 353 354\n",
      " 355 356 357 358 359 360 361 362 363 364 365 366 367 368 369 370 371 372\n",
      " 373 374 375 376 377 378 379 380 381 382 383 384 385 386 387 388 389 390\n",
      " 391 392 393 394 395 396 397 398 399 400 401 402 403 404 405 406 407 408\n",
      " 409 410 411 412 413 414 415 416 417 418 419 420 421 422 423 424 425 426\n",
      " 427 428 429 430 431 432 433 434 435 436 437 438 439 440 441 442 443 444\n",
      " 445 446 447 448 449 450 451 452 453 454 455 456 457 458 459 460 461 462\n",
      " 463 464 465 466 467 468 469 470 471 472 473 474 475 476 477 478 479 480\n",
      " 481 482 483 484 485 486 487 488 489 490 491 492 493 494 495 496 497 498\n",
      " 499 500 501 502 503 504 505 506 507 508 509 510 511 512]\n",
      "  Test:  index=[103 104 105 106 107 108 109 110 111 112 113 114 115 116 117 118 119 120\n",
      " 121 122 123 124 125 126 127 128 129 130 131 132 133 134 135 136 137 138\n",
      " 139 140 141 142 143 144 145 146 147 148 149 150 151 152 153 154 155 156\n",
      " 157 158 159 160 161 162 163 164 165 166 167 168 169 170 171 172 173 174\n",
      " 175 176 177 178 179 180 181 182 183 184 185 186 187 188 189 190 191 192\n",
      " 193 194 195 196 197 198 199 200 201 202 203 204 205]\n",
      "Fold 2:\n",
      "  Train: index=[  0   1   2   3   4   5   6   7   8   9  10  11  12  13  14  15  16  17\n",
      "  18  19  20  21  22  23  24  25  26  27  28  29  30  31  32  33  34  35\n",
      "  36  37  38  39  40  41  42  43  44  45  46  47  48  49  50  51  52  53\n",
      "  54  55  56  57  58  59  60  61  62  63  64  65  66  67  68  69  70  71\n",
      "  72  73  74  75  76  77  78  79  80  81  82  83  84  85  86  87  88  89\n",
      "  90  91  92  93  94  95  96  97  98  99 100 101 102 103 104 105 106 107\n",
      " 108 109 110 111 112 113 114 115 116 117 118 119 120 121 122 123 124 125\n",
      " 126 127 128 129 130 131 132 133 134 135 136 137 138 139 140 141 142 143\n",
      " 144 145 146 147 148 149 150 151 152 153 154 155 156 157 158 159 160 161\n",
      " 162 163 164 165 166 167 168 169 170 171 172 173 174 175 176 177 178 179\n",
      " 180 181 182 183 184 185 186 187 188 189 190 191 192 193 194 195 196 197\n",
      " 198 199 200 201 202 203 204 205 309 310 311 312 313 314 315 316 317 318\n",
      " 319 320 321 322 323 324 325 326 327 328 329 330 331 332 333 334 335 336\n",
      " 337 338 339 340 341 342 343 344 345 346 347 348 349 350 351 352 353 354\n",
      " 355 356 357 358 359 360 361 362 363 364 365 366 367 368 369 370 371 372\n",
      " 373 374 375 376 377 378 379 380 381 382 383 384 385 386 387 388 389 390\n",
      " 391 392 393 394 395 396 397 398 399 400 401 402 403 404 405 406 407 408\n",
      " 409 410 411 412 413 414 415 416 417 418 419 420 421 422 423 424 425 426\n",
      " 427 428 429 430 431 432 433 434 435 436 437 438 439 440 441 442 443 444\n",
      " 445 446 447 448 449 450 451 452 453 454 455 456 457 458 459 460 461 462\n",
      " 463 464 465 466 467 468 469 470 471 472 473 474 475 476 477 478 479 480\n",
      " 481 482 483 484 485 486 487 488 489 490 491 492 493 494 495 496 497 498\n",
      " 499 500 501 502 503 504 505 506 507 508 509 510 511 512]\n",
      "  Test:  index=[206 207 208 209 210 211 212 213 214 215 216 217 218 219 220 221 222 223\n",
      " 224 225 226 227 228 229 230 231 232 233 234 235 236 237 238 239 240 241\n",
      " 242 243 244 245 246 247 248 249 250 251 252 253 254 255 256 257 258 259\n",
      " 260 261 262 263 264 265 266 267 268 269 270 271 272 273 274 275 276 277\n",
      " 278 279 280 281 282 283 284 285 286 287 288 289 290 291 292 293 294 295\n",
      " 296 297 298 299 300 301 302 303 304 305 306 307 308]\n",
      "Fold 3:\n",
      "  Train: index=[  0   1   2   3   4   5   6   7   8   9  10  11  12  13  14  15  16  17\n",
      "  18  19  20  21  22  23  24  25  26  27  28  29  30  31  32  33  34  35\n",
      "  36  37  38  39  40  41  42  43  44  45  46  47  48  49  50  51  52  53\n",
      "  54  55  56  57  58  59  60  61  62  63  64  65  66  67  68  69  70  71\n",
      "  72  73  74  75  76  77  78  79  80  81  82  83  84  85  86  87  88  89\n",
      "  90  91  92  93  94  95  96  97  98  99 100 101 102 103 104 105 106 107\n",
      " 108 109 110 111 112 113 114 115 116 117 118 119 120 121 122 123 124 125\n",
      " 126 127 128 129 130 131 132 133 134 135 136 137 138 139 140 141 142 143\n",
      " 144 145 146 147 148 149 150 151 152 153 154 155 156 157 158 159 160 161\n",
      " 162 163 164 165 166 167 168 169 170 171 172 173 174 175 176 177 178 179\n",
      " 180 181 182 183 184 185 186 187 188 189 190 191 192 193 194 195 196 197\n",
      " 198 199 200 201 202 203 204 205 206 207 208 209 210 211 212 213 214 215\n",
      " 216 217 218 219 220 221 222 223 224 225 226 227 228 229 230 231 232 233\n",
      " 234 235 236 237 238 239 240 241 242 243 244 245 246 247 248 249 250 251\n",
      " 252 253 254 255 256 257 258 259 260 261 262 263 264 265 266 267 268 269\n",
      " 270 271 272 273 274 275 276 277 278 279 280 281 282 283 284 285 286 287\n",
      " 288 289 290 291 292 293 294 295 296 297 298 299 300 301 302 303 304 305\n",
      " 306 307 308 411 412 413 414 415 416 417 418 419 420 421 422 423 424 425\n",
      " 426 427 428 429 430 431 432 433 434 435 436 437 438 439 440 441 442 443\n",
      " 444 445 446 447 448 449 450 451 452 453 454 455 456 457 458 459 460 461\n",
      " 462 463 464 465 466 467 468 469 470 471 472 473 474 475 476 477 478 479\n",
      " 480 481 482 483 484 485 486 487 488 489 490 491 492 493 494 495 496 497\n",
      " 498 499 500 501 502 503 504 505 506 507 508 509 510 511 512]\n",
      "  Test:  index=[309 310 311 312 313 314 315 316 317 318 319 320 321 322 323 324 325 326\n",
      " 327 328 329 330 331 332 333 334 335 336 337 338 339 340 341 342 343 344\n",
      " 345 346 347 348 349 350 351 352 353 354 355 356 357 358 359 360 361 362\n",
      " 363 364 365 366 367 368 369 370 371 372 373 374 375 376 377 378 379 380\n",
      " 381 382 383 384 385 386 387 388 389 390 391 392 393 394 395 396 397 398\n",
      " 399 400 401 402 403 404 405 406 407 408 409 410]\n",
      "Fold 4:\n",
      "  Train: index=[  0   1   2   3   4   5   6   7   8   9  10  11  12  13  14  15  16  17\n",
      "  18  19  20  21  22  23  24  25  26  27  28  29  30  31  32  33  34  35\n",
      "  36  37  38  39  40  41  42  43  44  45  46  47  48  49  50  51  52  53\n",
      "  54  55  56  57  58  59  60  61  62  63  64  65  66  67  68  69  70  71\n",
      "  72  73  74  75  76  77  78  79  80  81  82  83  84  85  86  87  88  89\n",
      "  90  91  92  93  94  95  96  97  98  99 100 101 102 103 104 105 106 107\n",
      " 108 109 110 111 112 113 114 115 116 117 118 119 120 121 122 123 124 125\n",
      " 126 127 128 129 130 131 132 133 134 135 136 137 138 139 140 141 142 143\n",
      " 144 145 146 147 148 149 150 151 152 153 154 155 156 157 158 159 160 161\n",
      " 162 163 164 165 166 167 168 169 170 171 172 173 174 175 176 177 178 179\n",
      " 180 181 182 183 184 185 186 187 188 189 190 191 192 193 194 195 196 197\n",
      " 198 199 200 201 202 203 204 205 206 207 208 209 210 211 212 213 214 215\n",
      " 216 217 218 219 220 221 222 223 224 225 226 227 228 229 230 231 232 233\n",
      " 234 235 236 237 238 239 240 241 242 243 244 245 246 247 248 249 250 251\n",
      " 252 253 254 255 256 257 258 259 260 261 262 263 264 265 266 267 268 269\n",
      " 270 271 272 273 274 275 276 277 278 279 280 281 282 283 284 285 286 287\n",
      " 288 289 290 291 292 293 294 295 296 297 298 299 300 301 302 303 304 305\n",
      " 306 307 308 309 310 311 312 313 314 315 316 317 318 319 320 321 322 323\n",
      " 324 325 326 327 328 329 330 331 332 333 334 335 336 337 338 339 340 341\n",
      " 342 343 344 345 346 347 348 349 350 351 352 353 354 355 356 357 358 359\n",
      " 360 361 362 363 364 365 366 367 368 369 370 371 372 373 374 375 376 377\n",
      " 378 379 380 381 382 383 384 385 386 387 388 389 390 391 392 393 394 395\n",
      " 396 397 398 399 400 401 402 403 404 405 406 407 408 409 410]\n",
      "  Test:  index=[411 412 413 414 415 416 417 418 419 420 421 422 423 424 425 426 427 428\n",
      " 429 430 431 432 433 434 435 436 437 438 439 440 441 442 443 444 445 446\n",
      " 447 448 449 450 451 452 453 454 455 456 457 458 459 460 461 462 463 464\n",
      " 465 466 467 468 469 470 471 472 473 474 475 476 477 478 479 480 481 482\n",
      " 483 484 485 486 487 488 489 490 491 492 493 494 495 496 497 498 499 500\n",
      " 501 502 503 504 505 506 507 508 509 510 511 512]\n"
     ]
    }
   ],
   "source": [
    "for i, (train_index, test_index) in enumerate(kf.split(train)):\n",
    "    print(f\"Fold {i}:\")\n",
    "    print(f\"  Train: index={train_index}\")\n",
    "    print(f\"  Test:  index={test_index}\")"
   ]
  },
  {
   "cell_type": "code",
   "execution_count": 29,
   "id": "5d465529-7564-4e22-bb40-266d66d7e994",
   "metadata": {
    "scrolled": true
   },
   "outputs": [
    {
     "ename": "KeyError",
     "evalue": "'[1, 29, 44, 49, 55, 58, 72, 73, 74, 86, 91, 101, 125, 128, 140, 145, 156, 175, 179, 184, 214, 215, 220, 221, 222, 224, 232, 250, 259, 266, 268, 271, 281, 286, 303, 308, 314, 322, 342, 356, 360, 363, 365, 366, 373, 378, 382, 389, 396, 401, 402, 403, 405, 410] not in index'",
     "output_type": "error",
     "traceback": [
      "\u001b[0;31m---------------------------------------------------------------------------\u001b[0m",
      "\u001b[0;31mKeyError\u001b[0m                                  Traceback (most recent call last)",
      "Cell \u001b[0;32mIn[29], line 1\u001b[0m\n\u001b[0;32m----> 1\u001b[0m train\u001b[38;5;241m.\u001b[39mloc[train_index]\n",
      "File \u001b[0;32m/data/project/anaconda3_test/lib/python3.12/site-packages/pandas/core/indexing.py:1191\u001b[0m, in \u001b[0;36m_LocationIndexer.__getitem__\u001b[0;34m(self, key)\u001b[0m\n\u001b[1;32m   1189\u001b[0m maybe_callable \u001b[38;5;241m=\u001b[39m com\u001b[38;5;241m.\u001b[39mapply_if_callable(key, \u001b[38;5;28mself\u001b[39m\u001b[38;5;241m.\u001b[39mobj)\n\u001b[1;32m   1190\u001b[0m maybe_callable \u001b[38;5;241m=\u001b[39m \u001b[38;5;28mself\u001b[39m\u001b[38;5;241m.\u001b[39m_check_deprecated_callable_usage(key, maybe_callable)\n\u001b[0;32m-> 1191\u001b[0m \u001b[38;5;28;01mreturn\u001b[39;00m \u001b[38;5;28mself\u001b[39m\u001b[38;5;241m.\u001b[39m_getitem_axis(maybe_callable, axis\u001b[38;5;241m=\u001b[39maxis)\n",
      "File \u001b[0;32m/data/project/anaconda3_test/lib/python3.12/site-packages/pandas/core/indexing.py:1420\u001b[0m, in \u001b[0;36m_LocIndexer._getitem_axis\u001b[0;34m(self, key, axis)\u001b[0m\n\u001b[1;32m   1417\u001b[0m     \u001b[38;5;28;01mif\u001b[39;00m \u001b[38;5;28mhasattr\u001b[39m(key, \u001b[38;5;124m\"\u001b[39m\u001b[38;5;124mndim\u001b[39m\u001b[38;5;124m\"\u001b[39m) \u001b[38;5;129;01mand\u001b[39;00m key\u001b[38;5;241m.\u001b[39mndim \u001b[38;5;241m>\u001b[39m \u001b[38;5;241m1\u001b[39m:\n\u001b[1;32m   1418\u001b[0m         \u001b[38;5;28;01mraise\u001b[39;00m \u001b[38;5;167;01mValueError\u001b[39;00m(\u001b[38;5;124m\"\u001b[39m\u001b[38;5;124mCannot index with multidimensional key\u001b[39m\u001b[38;5;124m\"\u001b[39m)\n\u001b[0;32m-> 1420\u001b[0m     \u001b[38;5;28;01mreturn\u001b[39;00m \u001b[38;5;28mself\u001b[39m\u001b[38;5;241m.\u001b[39m_getitem_iterable(key, axis\u001b[38;5;241m=\u001b[39maxis)\n\u001b[1;32m   1422\u001b[0m \u001b[38;5;66;03m# nested tuple slicing\u001b[39;00m\n\u001b[1;32m   1423\u001b[0m \u001b[38;5;28;01mif\u001b[39;00m is_nested_tuple(key, labels):\n",
      "File \u001b[0;32m/data/project/anaconda3_test/lib/python3.12/site-packages/pandas/core/indexing.py:1360\u001b[0m, in \u001b[0;36m_LocIndexer._getitem_iterable\u001b[0;34m(self, key, axis)\u001b[0m\n\u001b[1;32m   1357\u001b[0m \u001b[38;5;28mself\u001b[39m\u001b[38;5;241m.\u001b[39m_validate_key(key, axis)\n\u001b[1;32m   1359\u001b[0m \u001b[38;5;66;03m# A collection of keys\u001b[39;00m\n\u001b[0;32m-> 1360\u001b[0m keyarr, indexer \u001b[38;5;241m=\u001b[39m \u001b[38;5;28mself\u001b[39m\u001b[38;5;241m.\u001b[39m_get_listlike_indexer(key, axis)\n\u001b[1;32m   1361\u001b[0m \u001b[38;5;28;01mreturn\u001b[39;00m \u001b[38;5;28mself\u001b[39m\u001b[38;5;241m.\u001b[39mobj\u001b[38;5;241m.\u001b[39m_reindex_with_indexers(\n\u001b[1;32m   1362\u001b[0m     {axis: [keyarr, indexer]}, copy\u001b[38;5;241m=\u001b[39m\u001b[38;5;28;01mTrue\u001b[39;00m, allow_dups\u001b[38;5;241m=\u001b[39m\u001b[38;5;28;01mTrue\u001b[39;00m\n\u001b[1;32m   1363\u001b[0m )\n",
      "File \u001b[0;32m/data/project/anaconda3_test/lib/python3.12/site-packages/pandas/core/indexing.py:1558\u001b[0m, in \u001b[0;36m_LocIndexer._get_listlike_indexer\u001b[0;34m(self, key, axis)\u001b[0m\n\u001b[1;32m   1555\u001b[0m ax \u001b[38;5;241m=\u001b[39m \u001b[38;5;28mself\u001b[39m\u001b[38;5;241m.\u001b[39mobj\u001b[38;5;241m.\u001b[39m_get_axis(axis)\n\u001b[1;32m   1556\u001b[0m axis_name \u001b[38;5;241m=\u001b[39m \u001b[38;5;28mself\u001b[39m\u001b[38;5;241m.\u001b[39mobj\u001b[38;5;241m.\u001b[39m_get_axis_name(axis)\n\u001b[0;32m-> 1558\u001b[0m keyarr, indexer \u001b[38;5;241m=\u001b[39m ax\u001b[38;5;241m.\u001b[39m_get_indexer_strict(key, axis_name)\n\u001b[1;32m   1560\u001b[0m \u001b[38;5;28;01mreturn\u001b[39;00m keyarr, indexer\n",
      "File \u001b[0;32m/data/project/anaconda3_test/lib/python3.12/site-packages/pandas/core/indexes/base.py:6200\u001b[0m, in \u001b[0;36mIndex._get_indexer_strict\u001b[0;34m(self, key, axis_name)\u001b[0m\n\u001b[1;32m   6197\u001b[0m \u001b[38;5;28;01melse\u001b[39;00m:\n\u001b[1;32m   6198\u001b[0m     keyarr, indexer, new_indexer \u001b[38;5;241m=\u001b[39m \u001b[38;5;28mself\u001b[39m\u001b[38;5;241m.\u001b[39m_reindex_non_unique(keyarr)\n\u001b[0;32m-> 6200\u001b[0m \u001b[38;5;28mself\u001b[39m\u001b[38;5;241m.\u001b[39m_raise_if_missing(keyarr, indexer, axis_name)\n\u001b[1;32m   6202\u001b[0m keyarr \u001b[38;5;241m=\u001b[39m \u001b[38;5;28mself\u001b[39m\u001b[38;5;241m.\u001b[39mtake(indexer)\n\u001b[1;32m   6203\u001b[0m \u001b[38;5;28;01mif\u001b[39;00m \u001b[38;5;28misinstance\u001b[39m(key, Index):\n\u001b[1;32m   6204\u001b[0m     \u001b[38;5;66;03m# GH 42790 - Preserve name from an Index\u001b[39;00m\n",
      "File \u001b[0;32m/data/project/anaconda3_test/lib/python3.12/site-packages/pandas/core/indexes/base.py:6252\u001b[0m, in \u001b[0;36mIndex._raise_if_missing\u001b[0;34m(self, key, indexer, axis_name)\u001b[0m\n\u001b[1;32m   6249\u001b[0m     \u001b[38;5;28;01mraise\u001b[39;00m \u001b[38;5;167;01mKeyError\u001b[39;00m(\u001b[38;5;124mf\u001b[39m\u001b[38;5;124m\"\u001b[39m\u001b[38;5;124mNone of [\u001b[39m\u001b[38;5;132;01m{\u001b[39;00mkey\u001b[38;5;132;01m}\u001b[39;00m\u001b[38;5;124m] are in the [\u001b[39m\u001b[38;5;132;01m{\u001b[39;00maxis_name\u001b[38;5;132;01m}\u001b[39;00m\u001b[38;5;124m]\u001b[39m\u001b[38;5;124m\"\u001b[39m)\n\u001b[1;32m   6251\u001b[0m not_found \u001b[38;5;241m=\u001b[39m \u001b[38;5;28mlist\u001b[39m(ensure_index(key)[missing_mask\u001b[38;5;241m.\u001b[39mnonzero()[\u001b[38;5;241m0\u001b[39m]]\u001b[38;5;241m.\u001b[39munique())\n\u001b[0;32m-> 6252\u001b[0m \u001b[38;5;28;01mraise\u001b[39;00m \u001b[38;5;167;01mKeyError\u001b[39;00m(\u001b[38;5;124mf\u001b[39m\u001b[38;5;124m\"\u001b[39m\u001b[38;5;132;01m{\u001b[39;00mnot_found\u001b[38;5;132;01m}\u001b[39;00m\u001b[38;5;124m not in index\u001b[39m\u001b[38;5;124m\"\u001b[39m)\n",
      "\u001b[0;31mKeyError\u001b[0m: '[1, 29, 44, 49, 55, 58, 72, 73, 74, 86, 91, 101, 125, 128, 140, 145, 156, 175, 179, 184, 214, 215, 220, 221, 222, 224, 232, 250, 259, 266, 268, 271, 281, 286, 303, 308, 314, 322, 342, 356, 360, 363, 365, 366, 373, 378, 382, 389, 396, 401, 402, 403, 405, 410] not in index'"
     ]
    }
   ],
   "source": [
    "train.loc[train_index]"
   ]
  },
  {
   "cell_type": "code",
   "execution_count": 30,
   "id": "0f375239-900a-4869-b099-d9ff90338cd2",
   "metadata": {
    "scrolled": true
   },
   "outputs": [
    {
     "data": {
      "text/html": [
       "<div>\n",
       "<style scoped>\n",
       "    .dataframe tbody tr th:only-of-type {\n",
       "        vertical-align: middle;\n",
       "    }\n",
       "\n",
       "    .dataframe tbody tr th {\n",
       "        vertical-align: top;\n",
       "    }\n",
       "\n",
       "    .dataframe thead th {\n",
       "        text-align: right;\n",
       "    }\n",
       "</style>\n",
       "<table border=\"1\" class=\"dataframe\">\n",
       "  <thead>\n",
       "    <tr style=\"text-align: right;\">\n",
       "      <th></th>\n",
       "      <th>Unnamed: 0</th>\n",
       "      <th>IAPTus_Num</th>\n",
       "      <th>Referral Date</th>\n",
       "      <th>Age_ReferralRequest_ReceivedDate</th>\n",
       "      <th>EthnicDescGroupCode</th>\n",
       "      <th>EthnicCategoryGroupShortCode</th>\n",
       "      <th>GenderIdentity</th>\n",
       "      <th>SexualOrientationDesc</th>\n",
       "      <th>EndDesc</th>\n",
       "      <th>EndDescGroupShort</th>\n",
       "      <th>...</th>\n",
       "      <th>Item217</th>\n",
       "      <th>Item218</th>\n",
       "      <th>Item219</th>\n",
       "      <th>Item220</th>\n",
       "      <th>Item221</th>\n",
       "      <th>Item222</th>\n",
       "      <th>Item223</th>\n",
       "      <th>Item224</th>\n",
       "      <th>Item225</th>\n",
       "      <th>label</th>\n",
       "    </tr>\n",
       "  </thead>\n",
       "  <tbody>\n",
       "    <tr>\n",
       "      <th>583</th>\n",
       "      <td>584</td>\n",
       "      <td>26184</td>\n",
       "      <td>2022-09-09</td>\n",
       "      <td>4.472136</td>\n",
       "      <td>1.0</td>\n",
       "      <td>1.0</td>\n",
       "      <td>2</td>\n",
       "      <td>NaN</td>\n",
       "      <td>Mutually agreed completion of treatment</td>\n",
       "      <td>Seen and treated</td>\n",
       "      <td>...</td>\n",
       "      <td>0</td>\n",
       "      <td>1</td>\n",
       "      <td>0</td>\n",
       "      <td>0</td>\n",
       "      <td>0</td>\n",
       "      <td>0</td>\n",
       "      <td>0</td>\n",
       "      <td>0</td>\n",
       "      <td>0</td>\n",
       "      <td>0</td>\n",
       "    </tr>\n",
       "    <tr>\n",
       "      <th>136</th>\n",
       "      <td>137</td>\n",
       "      <td>24864</td>\n",
       "      <td>2020-06-01</td>\n",
       "      <td>4.358899</td>\n",
       "      <td>1.0</td>\n",
       "      <td>1.0</td>\n",
       "      <td>2</td>\n",
       "      <td>NaN</td>\n",
       "      <td>Termition of treatment earlier than Care Profe...</td>\n",
       "      <td>Seen and treated</td>\n",
       "      <td>...</td>\n",
       "      <td>0</td>\n",
       "      <td>0</td>\n",
       "      <td>1</td>\n",
       "      <td>0</td>\n",
       "      <td>0</td>\n",
       "      <td>0</td>\n",
       "      <td>0</td>\n",
       "      <td>0</td>\n",
       "      <td>0</td>\n",
       "      <td>1</td>\n",
       "    </tr>\n",
       "    <tr>\n",
       "      <th>243</th>\n",
       "      <td>244</td>\n",
       "      <td>25164</td>\n",
       "      <td>2020-12-23</td>\n",
       "      <td>4.582576</td>\n",
       "      <td>NaN</td>\n",
       "      <td>NaN</td>\n",
       "      <td>2</td>\n",
       "      <td>NaN</td>\n",
       "      <td>Mutually agreed completion of treatment</td>\n",
       "      <td>Seen and treated</td>\n",
       "      <td>...</td>\n",
       "      <td>NaN</td>\n",
       "      <td>NaN</td>\n",
       "      <td>NaN</td>\n",
       "      <td>NaN</td>\n",
       "      <td>NaN</td>\n",
       "      <td>NaN</td>\n",
       "      <td>NaN</td>\n",
       "      <td>NaN</td>\n",
       "      <td>NaN</td>\n",
       "      <td>0</td>\n",
       "    </tr>\n",
       "    <tr>\n",
       "      <th>47</th>\n",
       "      <td>48</td>\n",
       "      <td>24569</td>\n",
       "      <td>2019-10-27</td>\n",
       "      <td>4.472136</td>\n",
       "      <td>1.0</td>\n",
       "      <td>1.0</td>\n",
       "      <td>2</td>\n",
       "      <td>NaN</td>\n",
       "      <td>Mutually agreed completion of treatment</td>\n",
       "      <td>Seen and treated</td>\n",
       "      <td>...</td>\n",
       "      <td>NaN</td>\n",
       "      <td>NaN</td>\n",
       "      <td>NaN</td>\n",
       "      <td>NaN</td>\n",
       "      <td>NaN</td>\n",
       "      <td>NaN</td>\n",
       "      <td>NaN</td>\n",
       "      <td>NaN</td>\n",
       "      <td>NaN</td>\n",
       "      <td>0</td>\n",
       "    </tr>\n",
       "    <tr>\n",
       "      <th>290</th>\n",
       "      <td>291</td>\n",
       "      <td>25290</td>\n",
       "      <td>2021-04-29</td>\n",
       "      <td>4.795832</td>\n",
       "      <td>9.0</td>\n",
       "      <td>4.0</td>\n",
       "      <td>1</td>\n",
       "      <td>NaN</td>\n",
       "      <td>Termition of treatment earlier than Care Profe...</td>\n",
       "      <td>Seen and treated</td>\n",
       "      <td>...</td>\n",
       "      <td>0</td>\n",
       "      <td>NaN</td>\n",
       "      <td>1</td>\n",
       "      <td>0</td>\n",
       "      <td>0</td>\n",
       "      <td>0</td>\n",
       "      <td>1</td>\n",
       "      <td>0</td>\n",
       "      <td>0</td>\n",
       "      <td>1</td>\n",
       "    </tr>\n",
       "    <tr>\n",
       "      <th>...</th>\n",
       "      <td>...</td>\n",
       "      <td>...</td>\n",
       "      <td>...</td>\n",
       "      <td>...</td>\n",
       "      <td>...</td>\n",
       "      <td>...</td>\n",
       "      <td>...</td>\n",
       "      <td>...</td>\n",
       "      <td>...</td>\n",
       "      <td>...</td>\n",
       "      <td>...</td>\n",
       "      <td>...</td>\n",
       "      <td>...</td>\n",
       "      <td>...</td>\n",
       "      <td>...</td>\n",
       "      <td>...</td>\n",
       "      <td>...</td>\n",
       "      <td>...</td>\n",
       "      <td>...</td>\n",
       "      <td>...</td>\n",
       "      <td>...</td>\n",
       "    </tr>\n",
       "    <tr>\n",
       "      <th>352</th>\n",
       "      <td>353</td>\n",
       "      <td>25447</td>\n",
       "      <td>2021-10-27</td>\n",
       "      <td>5.291503</td>\n",
       "      <td>1.0</td>\n",
       "      <td>1.0</td>\n",
       "      <td>1</td>\n",
       "      <td>NaN</td>\n",
       "      <td>Mutually agreed completion of treatment</td>\n",
       "      <td>Seen and treated</td>\n",
       "      <td>...</td>\n",
       "      <td>0</td>\n",
       "      <td>1</td>\n",
       "      <td>1</td>\n",
       "      <td>1</td>\n",
       "      <td>1</td>\n",
       "      <td>0</td>\n",
       "      <td>0</td>\n",
       "      <td>0</td>\n",
       "      <td>0</td>\n",
       "      <td>0</td>\n",
       "    </tr>\n",
       "    <tr>\n",
       "      <th>571</th>\n",
       "      <td>572</td>\n",
       "      <td>26151</td>\n",
       "      <td>2022-08-28</td>\n",
       "      <td>4.582576</td>\n",
       "      <td>NaN</td>\n",
       "      <td>NaN</td>\n",
       "      <td>1</td>\n",
       "      <td>NaN</td>\n",
       "      <td>Termition of treatment earlier than Care Profe...</td>\n",
       "      <td>Seen and treated</td>\n",
       "      <td>...</td>\n",
       "      <td>NaN</td>\n",
       "      <td>NaN</td>\n",
       "      <td>NaN</td>\n",
       "      <td>NaN</td>\n",
       "      <td>NaN</td>\n",
       "      <td>NaN</td>\n",
       "      <td>NaN</td>\n",
       "      <td>NaN</td>\n",
       "      <td>NaN</td>\n",
       "      <td>1</td>\n",
       "    </tr>\n",
       "    <tr>\n",
       "      <th>110</th>\n",
       "      <td>111</td>\n",
       "      <td>24792</td>\n",
       "      <td>2020-05-06</td>\n",
       "      <td>4.472136</td>\n",
       "      <td>1.0</td>\n",
       "      <td>1.0</td>\n",
       "      <td>2</td>\n",
       "      <td>NaN</td>\n",
       "      <td>Mutually agreed completion of treatment</td>\n",
       "      <td>Seen and treated</td>\n",
       "      <td>...</td>\n",
       "      <td>0</td>\n",
       "      <td>1</td>\n",
       "      <td>1</td>\n",
       "      <td>1</td>\n",
       "      <td>0</td>\n",
       "      <td>0</td>\n",
       "      <td>0</td>\n",
       "      <td>0</td>\n",
       "      <td>0</td>\n",
       "      <td>0</td>\n",
       "    </tr>\n",
       "    <tr>\n",
       "      <th>536</th>\n",
       "      <td>537</td>\n",
       "      <td>26049</td>\n",
       "      <td>2022-07-24</td>\n",
       "      <td>4.472136</td>\n",
       "      <td>1.0</td>\n",
       "      <td>1.0</td>\n",
       "      <td>2</td>\n",
       "      <td>NaN</td>\n",
       "      <td>Termition of treatment earlier than Care Profe...</td>\n",
       "      <td>Seen and treated</td>\n",
       "      <td>...</td>\n",
       "      <td>0</td>\n",
       "      <td>0</td>\n",
       "      <td>0</td>\n",
       "      <td>0</td>\n",
       "      <td>1</td>\n",
       "      <td>0</td>\n",
       "      <td>0</td>\n",
       "      <td>0</td>\n",
       "      <td>0</td>\n",
       "      <td>1</td>\n",
       "    </tr>\n",
       "    <tr>\n",
       "      <th>24</th>\n",
       "      <td>25</td>\n",
       "      <td>24525</td>\n",
       "      <td>2019-04-21</td>\n",
       "      <td>4.690416</td>\n",
       "      <td>1.0</td>\n",
       "      <td>1.0</td>\n",
       "      <td>1</td>\n",
       "      <td>NaN</td>\n",
       "      <td>Mutually agreed completion of treatment</td>\n",
       "      <td>Seen and treated</td>\n",
       "      <td>...</td>\n",
       "      <td>NaN</td>\n",
       "      <td>NaN</td>\n",
       "      <td>NaN</td>\n",
       "      <td>NaN</td>\n",
       "      <td>NaN</td>\n",
       "      <td>NaN</td>\n",
       "      <td>NaN</td>\n",
       "      <td>NaN</td>\n",
       "      <td>NaN</td>\n",
       "      <td>0</td>\n",
       "    </tr>\n",
       "  </tbody>\n",
       "</table>\n",
       "<p>513 rows × 280 columns</p>\n",
       "</div>"
      ],
      "text/plain": [
       "     Unnamed: 0 IAPTus_Num Referral Date  Age_ReferralRequest_ReceivedDate  \\\n",
       "583         584      26184    2022-09-09                          4.472136   \n",
       "136         137      24864    2020-06-01                          4.358899   \n",
       "243         244      25164    2020-12-23                          4.582576   \n",
       "47           48      24569    2019-10-27                          4.472136   \n",
       "290         291      25290    2021-04-29                          4.795832   \n",
       "..          ...        ...           ...                               ...   \n",
       "352         353      25447    2021-10-27                          5.291503   \n",
       "571         572      26151    2022-08-28                          4.582576   \n",
       "110         111      24792    2020-05-06                          4.472136   \n",
       "536         537      26049    2022-07-24                          4.472136   \n",
       "24           25      24525    2019-04-21                          4.690416   \n",
       "\n",
       "     EthnicDescGroupCode  EthnicCategoryGroupShortCode GenderIdentity  \\\n",
       "583                  1.0                           1.0              2   \n",
       "136                  1.0                           1.0              2   \n",
       "243                  NaN                           NaN              2   \n",
       "47                   1.0                           1.0              2   \n",
       "290                  9.0                           4.0              1   \n",
       "..                   ...                           ...            ...   \n",
       "352                  1.0                           1.0              1   \n",
       "571                  NaN                           NaN              1   \n",
       "110                  1.0                           1.0              2   \n",
       "536                  1.0                           1.0              2   \n",
       "24                   1.0                           1.0              1   \n",
       "\n",
       "     SexualOrientationDesc                                            EndDesc  \\\n",
       "583                    NaN            Mutually agreed completion of treatment   \n",
       "136                    NaN  Termition of treatment earlier than Care Profe...   \n",
       "243                    NaN            Mutually agreed completion of treatment   \n",
       "47                     NaN            Mutually agreed completion of treatment   \n",
       "290                    NaN  Termition of treatment earlier than Care Profe...   \n",
       "..                     ...                                                ...   \n",
       "352                    NaN            Mutually agreed completion of treatment   \n",
       "571                    NaN  Termition of treatment earlier than Care Profe...   \n",
       "110                    NaN            Mutually agreed completion of treatment   \n",
       "536                    NaN  Termition of treatment earlier than Care Profe...   \n",
       "24                     NaN            Mutually agreed completion of treatment   \n",
       "\n",
       "    EndDescGroupShort  ...  Item217  Item218  Item219  Item220  Item221  \\\n",
       "583  Seen and treated  ...        0        1        0        0        0   \n",
       "136  Seen and treated  ...        0        0        1        0        0   \n",
       "243  Seen and treated  ...      NaN      NaN      NaN      NaN      NaN   \n",
       "47   Seen and treated  ...      NaN      NaN      NaN      NaN      NaN   \n",
       "290  Seen and treated  ...        0      NaN        1        0        0   \n",
       "..                ...  ...      ...      ...      ...      ...      ...   \n",
       "352  Seen and treated  ...        0        1        1        1        1   \n",
       "571  Seen and treated  ...      NaN      NaN      NaN      NaN      NaN   \n",
       "110  Seen and treated  ...        0        1        1        1        0   \n",
       "536  Seen and treated  ...        0        0        0        0        1   \n",
       "24   Seen and treated  ...      NaN      NaN      NaN      NaN      NaN   \n",
       "\n",
       "    Item222 Item223 Item224 Item225 label  \n",
       "583       0       0       0       0     0  \n",
       "136       0       0       0       0     1  \n",
       "243     NaN     NaN     NaN     NaN     0  \n",
       "47      NaN     NaN     NaN     NaN     0  \n",
       "290       0       1       0       0     1  \n",
       "..      ...     ...     ...     ...   ...  \n",
       "352       0       0       0       0     0  \n",
       "571     NaN     NaN     NaN     NaN     1  \n",
       "110       0       0       0       0     0  \n",
       "536       0       0       0       0     1  \n",
       "24      NaN     NaN     NaN     NaN     0  \n",
       "\n",
       "[513 rows x 280 columns]"
      ]
     },
     "execution_count": 30,
     "metadata": {},
     "output_type": "execute_result"
    }
   ],
   "source": [
    "train"
   ]
  },
  {
   "cell_type": "code",
   "execution_count": 31,
   "id": "b1919af2-5865-49d0-b962-9cd0a222774f",
   "metadata": {},
   "outputs": [
    {
     "data": {
      "text/plain": [
       "<xgboost.core.DMatrix at 0x7e43dc182330>"
      ]
     },
     "execution_count": 31,
     "metadata": {},
     "output_type": "execute_result"
    }
   ],
   "source": [
    "xgtrain."
   ]
  },
  {
   "cell_type": "code",
   "execution_count": null,
   "id": "8e928df2-b11d-4918-9851-3f7ad25b6dff",
   "metadata": {},
   "outputs": [],
   "source": []
  },
  {
   "cell_type": "code",
   "execution_count": null,
   "id": "43a08287-97ac-4492-bacf-8399b6649386",
   "metadata": {},
   "outputs": [],
   "source": []
  },
  {
   "cell_type": "code",
   "execution_count": null,
   "id": "ff57ef1b-711d-44f5-a23d-8797334ee410",
   "metadata": {},
   "outputs": [],
   "source": []
  },
  {
   "cell_type": "code",
   "execution_count": null,
   "id": "4b694c4a-1fe2-48bd-b60c-b2694fb5c54d",
   "metadata": {},
   "outputs": [],
   "source": []
  },
  {
   "cell_type": "code",
   "execution_count": null,
   "id": "4d4be717-ee02-4ce2-aa1b-c51d75f91aa5",
   "metadata": {},
   "outputs": [],
   "source": [
    "param_dict = {\n",
    "  \"learning_rate\": [0.1, 0.15, 0.2, 0.5, 0.7, 0.9, 1],\n",
    "  \"max_depth\": [4,5,6,7,8,10,12,16,24,32],\n",
    "  'colsample_bytree': [0.1, 0.3, 0.5, 0.7, 0.9, 1.0],\n",
    "  'colsample_bylevel': [0.1, 0.3, 0.5, 0.7, 0.9, 1.0],\n",
    "  'colsample_bynode': [0.1, 0.3, 0.5, 0.7, 0.9, 1.0],  \n",
    "  \"num_parallel_tree\": [1],\n",
    "  \"objective\": [\"multi:softmax\"],\n",
    "  'num_class': [4]\n",
    "}"
   ]
  },
  {
   "cell_type": "code",
   "execution_count": null,
   "id": "3aade448-4ed3-4a75-850a-8e929d5927b2",
   "metadata": {},
   "outputs": [],
   "source": [
    "param_dict = {\n",
    "    \"n_estimators\": [1],\n",
    "    \"max_depth\": [4,5,6,7,8,10,12,16,24,32],\n",
    "    \"learning_rate\": [0.1, 0.15, 0.2, 0.5, 0.7, 0.9, 1],\n",
    "    \"objective\": [\"multi:softmax\"],\n",
    "    \"booster\": [\"gbtree\"],\n",
    "    \"n_jobs\": [5],\n",
    "    \"subsample\": [1.0],\n",
    "    'colsample_bytree': [1.0],\n",
    "    'colsample_bylevel': [0.1, 0.3, 0.5, 0.7, 0.9, 1.0],\n",
    "    'colsample_bynode': [0.1, 0.3, 0.5, 0.7, 0.9, 1.0],     \n",
    "}"
   ]
  },
  {
   "cell_type": "code",
   "execution_count": null,
   "id": "0e1366e4-cc6f-4552-9bf4-a460361d2908",
   "metadata": {},
   "outputs": [],
   "source": [
    "    n_estimators : Optional[int]\n",
    "        Number of boosting rounds.\n",
    "\n",
    "    max_depth :  typing.Optional[int]\n",
    "        Maximum tree depth for base learners.\n",
    "\n",
    "    max_leaves : typing.Optional[int]\n",
    "        Maximum number of leaves; 0 indicates no limit.\n",
    "\n",
    "    max_bin : typing.Optional[int]\n",
    "        If using histogram-based algorithm, maximum number of bins per feature\n",
    "\n",
    "    grow_policy : typing.Optional[str]\n",
    "        Tree growing policy.\n",
    "        - depthwise: Favors splitting at nodes closest to the node,\n",
    "        - lossguide: Favors splitting at nodes with highest loss change.\n",
    "\n",
    "    learning_rate : typing.Optional[float]\n",
    "        Boosting learning rate (xgb's \"eta\")\n",
    "\n",
    "    verbosity : typing.Optional[int]\n",
    "        The degree of verbosity. Valid values are 0 (silent) - 3 (debug).\n",
    "\n",
    "    objective : typing.Union[str, xgboost.sklearn._SklObjWProto, typing.Callable[[typing.Any, typing.Any], typing.Tuple[numpy.ndarray, numpy.ndarray]], NoneType]\n",
    "        Specify the learning task and the corresponding learning objective or a custom\n",
    "        objective function to be used.\n",
    "\n",
    "        For custom objective, see :doc:`/tutorials/custom_metric_obj` and\n",
    "        :ref:`custom-obj-metric` for more information, along with the end note for\n",
    "        function signatures.\n",
    "\n",
    "    booster: typing.Optional[str]\n",
    "        Specify which booster to use: ``gbtree``, ``gblinear`` or ``dart``.\n",
    "\n",
    "    tree_method : typing.Optional[str]\n",
    "        Specify which tree method to use.  Default to auto.  If this parameter is set to\n",
    "        default, XGBoost will choose the most conservative option available.  It's\n",
    "        recommended to study this option from the parameters document :doc:`tree method\n",
    "        </treemethod>`\n",
    "\n",
    "    n_jobs : typing.Optional[int]\n",
    "        Number of parallel threads used to run xgboost.  When used with other\n",
    "        Scikit-Learn algorithms like grid search, you may choose which algorithm to\n",
    "        parallelize and balance the threads.  Creating thread contention will\n",
    "        significantly slow down both algorithms.\n",
    "\n",
    "    gamma : typing.Optional[float]\n",
    "        (min_split_loss) Minimum loss reduction required to make a further partition on\n",
    "        a leaf node of the tree.\n",
    "\n",
    "    min_child_weight : typing.Optional[float]\n",
    "        Minimum sum of instance weight(hessian) needed in a child.\n",
    "\n",
    "    max_delta_step : typing.Optional[float]\n",
    "        Maximum delta step we allow each tree's weight estimation to be.\n",
    "\n",
    "    subsample : typing.Optional[float]\n",
    "        Subsample ratio of the training instance.\n",
    "\n",
    "    sampling_method : typing.Optional[str]\n",
    "        Sampling method. Used only by the GPU version of ``hist`` tree method.\n",
    "        - ``uniform``: Select random training instances uniformly.\n",
    "        - ``gradient_based``: Select random training instances with higher probability\n",
    "            when the gradient and hessian are larger. (cf. CatBoost)\n",
    "\n",
    "    colsample_bytree : typing.Optional[float]\n",
    "        Subsample ratio of columns when constructing each tree.\n",
    "\n",
    "    colsample_bylevel : typing.Optional[float]\n",
    "        Subsample ratio of columns for each level.\n",
    "\n",
    "    colsample_bynode : typing.Optional[float]\n",
    "        Subsample ratio of columns for each split.\n",
    "\n",
    "    reg_alpha : typing.Optional[float]\n",
    "        L1 regularization term on weights (xgb's alpha).\n",
    "\n",
    "    reg_lambda : typing.Optional[float]\n",
    "        L2 regularization term on weights (xgb's lambda).\n",
    "\n",
    "    scale_pos_weight : typing.Optional[float]\n",
    "        Balancing of positive and negative weights.\n",
    "\n",
    "    base_score : typing.Optional[float]\n",
    "        The initial prediction score of all instances, global bias.\n",
    "\n",
    "    random_state : typing.Union[numpy.random.mtrand.RandomState, numpy.random._generator.Generator, int, NoneType]\n",
    "        Random number seed.\n",
    "        .. note::\n",
    "           Using gblinear booster with shotgun updater is nondeterministic as\n",
    "           it uses Hogwild algorithm.\n",
    "\n",
    "    missing : float\n",
    "        Value in the data which needs to be present as a missing value. Default to\n",
    "        :py:data:`numpy.nan`.\n",
    "\n",
    "    num_parallel_tree: typing.Optional[int]\n",
    "        Used for boosting random forest.\n",
    "\n",
    "    monotone_constraints : typing.Union[typing.Dict[str, int], str, NoneType]\n",
    "        Constraint of variable monotonicity.  See :doc:`tutorial </tutorials/monotonic>`\n",
    "        for more information.\n",
    "\n",
    "    interaction_constraints : typing.Union[str, typing.List[typing.Tuple[str]], NoneType]\n",
    "        Constraints for interaction representing permitted interactions.  The\n",
    "        constraints must be specified in the form of a nested list, e.g. ``[[0, 1], [2,\n",
    "        3, 4]]``, where each inner list is a group of indices of features that are\n",
    "        allowed to interact with each other.  See :doc:`tutorial\n",
    "        </tutorials/feature_interaction_constraint>` for more information\n",
    "\n",
    "    importance_type: typing.Optional[str]\n",
    "        The feature importance type for the feature_importances\\_ property:\n",
    "        * For tree model, it's either \"gain\", \"weight\", \"cover\", \"total_gain\" or\n",
    "          \"total_cover\".\n",
    "        * For linear model, only \"weight\" is defined and it's the normalized\n",
    "          coefficients without bias.\n",
    "\n",
    "    device : typing.Optional[str]\n",
    "        .. versionadded:: 2.0.0\n",
    "        Device ordinal, available options are `cpu`, `cuda`, and `gpu`.\n",
    "\n",
    "    validate_parameters : typing.Optional[bool]\n",
    "        Give warnings for unknown parameter.\n",
    "\n",
    "    enable_categorical : bool\n",
    "        See the same parameter of :py:class:`DMatrix` for details.\n",
    "\n",
    "    feature_types : typing.Optional[typing.Sequence[str]]\n",
    "        .. versionadded:: 1.7.0\n",
    "        Used for specifying feature types without constructing a dataframe. See\n",
    "        :py:class:`DMatrix` for details.\n",
    "\n",
    "    max_cat_to_onehot : typing.Optional[int]\n",
    "        .. versionadded:: 1.6.0\n",
    "        .. note:: This parameter is experimental\n",
    "        A threshold for deciding whether XGBoost should use one-hot encoding based split\n",
    "        for categorical data.  When number of categories is lesser than the threshold\n",
    "        then one-hot encoding is chosen, otherwise the categories will be partitioned\n",
    "        into children nodes. Also, `enable_categorical` needs to be set to have\n",
    "        categorical feature support. See :doc:`Categorical Data\n",
    "        </tutorials/categorical>` and :ref:`cat-param` for details.\n",
    "\n",
    "    max_cat_threshold : typing.Optional[int]\n",
    "        .. versionadded:: 1.7.0\n",
    "        .. note:: This parameter is experimental\n",
    "        Maximum number of categories considered for each split. Used only by\n",
    "        partition-based splits for preventing over-fitting. Also, `enable_categorical`\n",
    "        needs to be set to have categorical feature support. See :doc:`Categorical Data\n",
    "        </tutorials/categorical>` and :ref:`cat-param` for details.\n",
    "\n",
    "    multi_strategy : typing.Optional[str]\n",
    "        .. versionadded:: 2.0.0\n",
    "        .. note:: This parameter is working-in-progress.\n",
    "        The strategy used for training multi-target models, including multi-target\n",
    "        regression and multi-class classification. See :doc:`/tutorials/multioutput` for\n",
    "        more information.\n",
    "        - ``one_output_per_tree``: One model for each target.\n",
    "        - ``multi_output_tree``:  Use multi-target trees.\n",
    "\n",
    "    eval_metric : typing.Union[str, typing.List[str], typing.Callable, NoneType]\n",
    "        .. versionadded:: 1.6.0\n",
    "        Metric used for monitoring the training result and early stopping.  It can be a\n",
    "        string or list of strings as names of predefined metric in XGBoost (See\n",
    "        doc/parameter.rst), one of the metrics in :py:mod:`sklearn.metrics`, or any\n",
    "        other user defined metric that looks like `sklearn.metrics`.\n",
    "\n",
    "        If custom objective is also provided, then custom metric should implement the\n",
    "        corresponding reverse link function.\n",
    "\n",
    "        Unlike the `scoring` parameter commonly used in scikit-learn, when a callable\n",
    "        object is provided, it's assumed to be a cost function and by default XGBoost\n",
    "        will minimize the result during early stopping.\n",
    "\n",
    "        For advanced usage on Early stopping like directly choosing to maximize instead\n",
    "        of minimize, see :py:obj:`xgboost.callback.EarlyStopping`.\n",
    "\n",
    "        See :doc:`/tutorials/custom_metric_obj` and :ref:`custom-obj-metric` for more\n",
    "        information.\n",
    "        .. code-block:: python\n",
    "            from sklearn.datasets import load_diabetes\n",
    "            from sklearn.metrics import mean_absolute_error\n",
    "            X, y = load_diabetes(return_X_y=True)\n",
    "            reg = xgb.XGBRegressor(\n",
    "                tree_method=\"hist\",\n",
    "                eval_metric=mean_absolute_error,\n",
    "            )\n",
    "            reg.fit(X, y, eval_set=[(X, y)])\n",
    "\n",
    "    early_stopping_rounds : typing.Optional[int]\n",
    "        .. versionadded:: 1.6.0\n",
    "        - Activates early stopping. Validation metric needs to improve at least once in\n",
    "          every **early_stopping_rounds** round(s) to continue training.  Requires at\n",
    "          least one item in **eval_set** in :py:meth:`fit`.\n",
    "\n",
    "        - If early stopping occurs, the model will have two additional attributes:\n",
    "          :py:attr:`best_score` and :py:attr:`best_iteration`. These are used by the\n",
    "          :py:meth:`predict` and :py:meth:`apply` methods to determine the optimal\n",
    "          number of trees during inference. If users want to access the full model\n",
    "          (including trees built after early stopping), they can specify the\n",
    "          `iteration_range` in these inference methods. In addition, other utilities\n",
    "          like model plotting can also use the entire model.\n",
    "\n",
    "        - If you prefer to discard the trees after `best_iteration`, consider using the\n",
    "          callback function :py:class:`xgboost.callback.EarlyStopping`.\n",
    "\n",
    "        - If there's more than one item in **eval_set**, the last entry will be used for\n",
    "          early stopping.  If there's more than one metric in **eval_metric**, the last\n",
    "          metric will be used for early stopping.\n",
    "\n",
    "    callbacks : typing.Optional[typing.List[xgboost.callback.TrainingCallback]]\n",
    "        List of callback functions that are applied at end of each iteration.\n",
    "        It is possible to use predefined callbacks by using\n",
    "        :ref:`Callback API <callback_api>`.\n",
    "        .. note::\n",
    "           States in callback are not preserved during training, which means callback\n",
    "           objects can not be reused for multiple training sessions without\n",
    "           reinitialization or deepcopy.\n",
    "\n",
    "        .. code-block:: python\n",
    "            for params in parameters_grid:\n",
    "                # be sure to (re)initialize the callbacks before each run\n",
    "                callbacks = [xgb.callback.LearningRateScheduler(custom_rates)]\n",
    "                reg = xgboost.XGBRegressor(**params, callbacks=callbacks)\n",
    "                reg.fit(X, y)\n",
    "\n",
    "    kwargs : typing.Optional[typing.Any]\n",
    "        Keyword arguments for XGBoost Booster object.  Full documentation of parameters\n",
    "        can be found :doc:`here </parameter>`.\n",
    "        Attempting to set a parameter via the constructor args and \\*\\*kwargs\n",
    "        dict simultaneously will result in a TypeError.\n",
    "        .. note:: \\*\\*kwargs unsupported by scikit-learn\n",
    "            \\*\\*kwargs is unsupported by scikit-learn.  We do not guarantee\n",
    "            that parameters passed via this argument will interact properly\n",
    "            with scikit-learn.\n",
    "\n",
    "        .. note::  Custom objective function\n",
    "            A custom objective function can be provided for the ``objective``\n",
    "            parameter. In this case, it should have the signature ``objective(y_true,\n",
    "            y_pred) -> [grad, hess]`` or ``objective(y_true, y_pred, *, sample_weight)\n",
    "            -> [grad, hess]``:\n",
    "            y_true: array_like of shape [n_samples]\n",
    "                The target values\n",
    "            y_pred: array_like of shape [n_samples]\n",
    "                The predicted values\n",
    "            sample_weight :\n",
    "                Optional sample weights.\n",
    "\n",
    "            grad: array_like of shape [n_samples]\n",
    "                The value of the gradient for each sample point.\n",
    "            hess: array_like of shape [n_samples]"
   ]
  },
  {
   "cell_type": "code",
   "execution_count": null,
   "id": "a282845b-7364-4afb-a58f-22e9b2f06ea4",
   "metadata": {},
   "outputs": [],
   "source": [
    "param_dict = {\n",
    "    \"n\"\n",
    "}"
   ]
  },
  {
   "cell_type": "code",
   "execution_count": null,
   "id": "29377258-615f-4c94-8c01-e699b525b942",
   "metadata": {},
   "outputs": [],
   "source": [
    "clf = xgb.XGBClassifier()"
   ]
  },
  {
   "cell_type": "markdown",
   "id": "0a53f440-bce3-40c2-88a5-85282dfe1217",
   "metadata": {},
   "source": [
    "## Grid Search for Single Tree Xgboost(Theoritically it is equal to DT)"
   ]
  },
  {
   "cell_type": "code",
   "execution_count": null,
   "id": "907c8f6a-f273-48cb-8e2a-6a0f7311a61b",
   "metadata": {},
   "outputs": [],
   "source": [
    "param_dict = {\n",
    "  \"learning_rate\": [0.1, 0.15, 0.2, 0.5, 0.7, 0.9, 1],\n",
    "  \"max_depth\": [4,5,6,7,8,10,12,16,24,32],\n",
    "  'colsample_bytree': [0.1, 0.3, 0.5, 0.7, 0.9, 1.0],\n",
    "  'colsample_bylevel': [0.1, 0.3, 0.5, 0.7, 0.9, 1.0],\n",
    "  'colsample_bynode': [0.1, 0.3, 0.5, 0.7, 0.9, 1.0],  \n",
    "  \"num_parallel_tree\": [1],\n",
    "  \"objective\": [\"multi:softmax\"],\n",
    "  'num_class': [4]\n",
    "}"
   ]
  }
 ],
 "metadata": {
  "kernelspec": {
   "display_name": "Python 3 (ipykernel)",
   "language": "python",
   "name": "python3"
  },
  "language_info": {
   "codemirror_mode": {
    "name": "ipython",
    "version": 3
   },
   "file_extension": ".py",
   "mimetype": "text/x-python",
   "name": "python",
   "nbconvert_exporter": "python",
   "pygments_lexer": "ipython3",
   "version": "3.12.2"
  }
 },
 "nbformat": 4,
 "nbformat_minor": 5
}
